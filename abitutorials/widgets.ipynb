{
 "cells": [
  {
   "cell_type": "markdown",
   "metadata": {},
   "source": [
    "Back to the main [Index](index.ipynb)"
   ]
  },
  {
   "cell_type": "markdown",
   "metadata": {},
   "source": [
    "<div class=\"alert alert-warning\" role=\"alert\">\n",
    "Widgets are not rendered in the static HTML page so you won't be able to see the widgets\n",
    "and the output figures inside your browser.\n",
    "You need to download the jupyter notebook on your machine and execute the notebook interactively.\n",
    "</div>"
   ]
  },
  {
   "cell_type": "markdown",
   "metadata": {},
   "source": [
    "## How to use ipython widgets to analyze pandas Dataframes\n",
    "\n",
    "Pandas dataframes are very powerful and quite handy when one needs to analyze the results of multiple calculations \n",
    "or a large dataset. \n",
    "Several AbiPy objects (e.g robots) can construct dataframes and one can then use the pandas `plot`\n",
    "method for quick plots, or the [seaborn package](https://seaborn.pydata.org/) for more advanced visualizations.\n",
    "\n",
    "Unfortunately, this approach becomes a bit tedious when we have to deal with several columns or when we need to customize\n",
    "the plot and we are not pandas/seaborn gurus.\n",
    "\n",
    "For this reason, AbiPy provides a set of ipython widgets wrapping the Dataframe plot method and the seaborn API.\n",
    "The widgets are defined in `abipy.display.seabornw` for seaborn and `abipy.display.pandasw` for pandas:"
   ]
  },
  {
   "cell_type": "code",
   "execution_count": 12,
   "metadata": {},
   "outputs": [],
   "source": [
    "from __future__ import print_function, division, unicode_literals, absolute_import\n",
    "%matplotlib notebook\n",
    "\n",
    "import pandas as pd\n",
    "import seaborn as sns # See https://seaborn.pydata.org/examples/index.html\n",
    "\n",
    "# Import abipy widgets\n",
    "import abipy.display.pandasw as pdw\n",
    "import abipy.display.seabornw as snw"
   ]
  },
  {
   "cell_type": "markdown",
   "metadata": {},
   "source": [
    "The idea is very simple.\n",
    "Instead of calling the seaborn API directly:"
   ]
  },
  {
   "cell_type": "code",
   "execution_count": 13,
   "metadata": {},
   "outputs": [
    {
     "data": {
      "application/javascript": [
       "/* Put everything inside the global mpl namespace */\n",
       "window.mpl = {};\n",
       "\n",
       "\n",
       "mpl.get_websocket_type = function() {\n",
       "    if (typeof(WebSocket) !== 'undefined') {\n",
       "        return WebSocket;\n",
       "    } else if (typeof(MozWebSocket) !== 'undefined') {\n",
       "        return MozWebSocket;\n",
       "    } else {\n",
       "        alert('Your browser does not have WebSocket support.' +\n",
       "              'Please try Chrome, Safari or Firefox ≥ 6. ' +\n",
       "              'Firefox 4 and 5 are also supported but you ' +\n",
       "              'have to enable WebSockets in about:config.');\n",
       "    };\n",
       "}\n",
       "\n",
       "mpl.figure = function(figure_id, websocket, ondownload, parent_element) {\n",
       "    this.id = figure_id;\n",
       "\n",
       "    this.ws = websocket;\n",
       "\n",
       "    this.supports_binary = (this.ws.binaryType != undefined);\n",
       "\n",
       "    if (!this.supports_binary) {\n",
       "        var warnings = document.getElementById(\"mpl-warnings\");\n",
       "        if (warnings) {\n",
       "            warnings.style.display = 'block';\n",
       "            warnings.textContent = (\n",
       "                \"This browser does not support binary websocket messages. \" +\n",
       "                    \"Performance may be slow.\");\n",
       "        }\n",
       "    }\n",
       "\n",
       "    this.imageObj = new Image();\n",
       "\n",
       "    this.context = undefined;\n",
       "    this.message = undefined;\n",
       "    this.canvas = undefined;\n",
       "    this.rubberband_canvas = undefined;\n",
       "    this.rubberband_context = undefined;\n",
       "    this.format_dropdown = undefined;\n",
       "\n",
       "    this.image_mode = 'full';\n",
       "\n",
       "    this.root = $('<div/>');\n",
       "    this._root_extra_style(this.root)\n",
       "    this.root.attr('style', 'display: inline-block');\n",
       "\n",
       "    $(parent_element).append(this.root);\n",
       "\n",
       "    this._init_header(this);\n",
       "    this._init_canvas(this);\n",
       "    this._init_toolbar(this);\n",
       "\n",
       "    var fig = this;\n",
       "\n",
       "    this.waiting = false;\n",
       "\n",
       "    this.ws.onopen =  function () {\n",
       "            fig.send_message(\"supports_binary\", {value: fig.supports_binary});\n",
       "            fig.send_message(\"send_image_mode\", {});\n",
       "            if (mpl.ratio != 1) {\n",
       "                fig.send_message(\"set_dpi_ratio\", {'dpi_ratio': mpl.ratio});\n",
       "            }\n",
       "            fig.send_message(\"refresh\", {});\n",
       "        }\n",
       "\n",
       "    this.imageObj.onload = function() {\n",
       "            if (fig.image_mode == 'full') {\n",
       "                // Full images could contain transparency (where diff images\n",
       "                // almost always do), so we need to clear the canvas so that\n",
       "                // there is no ghosting.\n",
       "                fig.context.clearRect(0, 0, fig.canvas.width, fig.canvas.height);\n",
       "            }\n",
       "            fig.context.drawImage(fig.imageObj, 0, 0);\n",
       "        };\n",
       "\n",
       "    this.imageObj.onunload = function() {\n",
       "        fig.ws.close();\n",
       "    }\n",
       "\n",
       "    this.ws.onmessage = this._make_on_message_function(this);\n",
       "\n",
       "    this.ondownload = ondownload;\n",
       "}\n",
       "\n",
       "mpl.figure.prototype._init_header = function() {\n",
       "    var titlebar = $(\n",
       "        '<div class=\"ui-dialog-titlebar ui-widget-header ui-corner-all ' +\n",
       "        'ui-helper-clearfix\"/>');\n",
       "    var titletext = $(\n",
       "        '<div class=\"ui-dialog-title\" style=\"width: 100%; ' +\n",
       "        'text-align: center; padding: 3px;\"/>');\n",
       "    titlebar.append(titletext)\n",
       "    this.root.append(titlebar);\n",
       "    this.header = titletext[0];\n",
       "}\n",
       "\n",
       "\n",
       "\n",
       "mpl.figure.prototype._canvas_extra_style = function(canvas_div) {\n",
       "\n",
       "}\n",
       "\n",
       "\n",
       "mpl.figure.prototype._root_extra_style = function(canvas_div) {\n",
       "\n",
       "}\n",
       "\n",
       "mpl.figure.prototype._init_canvas = function() {\n",
       "    var fig = this;\n",
       "\n",
       "    var canvas_div = $('<div/>');\n",
       "\n",
       "    canvas_div.attr('style', 'position: relative; clear: both; outline: 0');\n",
       "\n",
       "    function canvas_keyboard_event(event) {\n",
       "        return fig.key_event(event, event['data']);\n",
       "    }\n",
       "\n",
       "    canvas_div.keydown('key_press', canvas_keyboard_event);\n",
       "    canvas_div.keyup('key_release', canvas_keyboard_event);\n",
       "    this.canvas_div = canvas_div\n",
       "    this._canvas_extra_style(canvas_div)\n",
       "    this.root.append(canvas_div);\n",
       "\n",
       "    var canvas = $('<canvas/>');\n",
       "    canvas.addClass('mpl-canvas');\n",
       "    canvas.attr('style', \"left: 0; top: 0; z-index: 0; outline: 0\")\n",
       "\n",
       "    this.canvas = canvas[0];\n",
       "    this.context = canvas[0].getContext(\"2d\");\n",
       "\n",
       "    var backingStore = this.context.backingStorePixelRatio ||\n",
       "\tthis.context.webkitBackingStorePixelRatio ||\n",
       "\tthis.context.mozBackingStorePixelRatio ||\n",
       "\tthis.context.msBackingStorePixelRatio ||\n",
       "\tthis.context.oBackingStorePixelRatio ||\n",
       "\tthis.context.backingStorePixelRatio || 1;\n",
       "\n",
       "    mpl.ratio = (window.devicePixelRatio || 1) / backingStore;\n",
       "\n",
       "    var rubberband = $('<canvas/>');\n",
       "    rubberband.attr('style', \"position: absolute; left: 0; top: 0; z-index: 1;\")\n",
       "\n",
       "    var pass_mouse_events = true;\n",
       "\n",
       "    canvas_div.resizable({\n",
       "        start: function(event, ui) {\n",
       "            pass_mouse_events = false;\n",
       "        },\n",
       "        resize: function(event, ui) {\n",
       "            fig.request_resize(ui.size.width, ui.size.height);\n",
       "        },\n",
       "        stop: function(event, ui) {\n",
       "            pass_mouse_events = true;\n",
       "            fig.request_resize(ui.size.width, ui.size.height);\n",
       "        },\n",
       "    });\n",
       "\n",
       "    function mouse_event_fn(event) {\n",
       "        if (pass_mouse_events)\n",
       "            return fig.mouse_event(event, event['data']);\n",
       "    }\n",
       "\n",
       "    rubberband.mousedown('button_press', mouse_event_fn);\n",
       "    rubberband.mouseup('button_release', mouse_event_fn);\n",
       "    // Throttle sequential mouse events to 1 every 20ms.\n",
       "    rubberband.mousemove('motion_notify', mouse_event_fn);\n",
       "\n",
       "    rubberband.mouseenter('figure_enter', mouse_event_fn);\n",
       "    rubberband.mouseleave('figure_leave', mouse_event_fn);\n",
       "\n",
       "    canvas_div.on(\"wheel\", function (event) {\n",
       "        event = event.originalEvent;\n",
       "        event['data'] = 'scroll'\n",
       "        if (event.deltaY < 0) {\n",
       "            event.step = 1;\n",
       "        } else {\n",
       "            event.step = -1;\n",
       "        }\n",
       "        mouse_event_fn(event);\n",
       "    });\n",
       "\n",
       "    canvas_div.append(canvas);\n",
       "    canvas_div.append(rubberband);\n",
       "\n",
       "    this.rubberband = rubberband;\n",
       "    this.rubberband_canvas = rubberband[0];\n",
       "    this.rubberband_context = rubberband[0].getContext(\"2d\");\n",
       "    this.rubberband_context.strokeStyle = \"#000000\";\n",
       "\n",
       "    this._resize_canvas = function(width, height) {\n",
       "        // Keep the size of the canvas, canvas container, and rubber band\n",
       "        // canvas in synch.\n",
       "        canvas_div.css('width', width)\n",
       "        canvas_div.css('height', height)\n",
       "\n",
       "        canvas.attr('width', width * mpl.ratio);\n",
       "        canvas.attr('height', height * mpl.ratio);\n",
       "        canvas.attr('style', 'width: ' + width + 'px; height: ' + height + 'px;');\n",
       "\n",
       "        rubberband.attr('width', width);\n",
       "        rubberband.attr('height', height);\n",
       "    }\n",
       "\n",
       "    // Set the figure to an initial 600x600px, this will subsequently be updated\n",
       "    // upon first draw.\n",
       "    this._resize_canvas(600, 600);\n",
       "\n",
       "    // Disable right mouse context menu.\n",
       "    $(this.rubberband_canvas).bind(\"contextmenu\",function(e){\n",
       "        return false;\n",
       "    });\n",
       "\n",
       "    function set_focus () {\n",
       "        canvas.focus();\n",
       "        canvas_div.focus();\n",
       "    }\n",
       "\n",
       "    window.setTimeout(set_focus, 100);\n",
       "}\n",
       "\n",
       "mpl.figure.prototype._init_toolbar = function() {\n",
       "    var fig = this;\n",
       "\n",
       "    var nav_element = $('<div/>')\n",
       "    nav_element.attr('style', 'width: 100%');\n",
       "    this.root.append(nav_element);\n",
       "\n",
       "    // Define a callback function for later on.\n",
       "    function toolbar_event(event) {\n",
       "        return fig.toolbar_button_onclick(event['data']);\n",
       "    }\n",
       "    function toolbar_mouse_event(event) {\n",
       "        return fig.toolbar_button_onmouseover(event['data']);\n",
       "    }\n",
       "\n",
       "    for(var toolbar_ind in mpl.toolbar_items) {\n",
       "        var name = mpl.toolbar_items[toolbar_ind][0];\n",
       "        var tooltip = mpl.toolbar_items[toolbar_ind][1];\n",
       "        var image = mpl.toolbar_items[toolbar_ind][2];\n",
       "        var method_name = mpl.toolbar_items[toolbar_ind][3];\n",
       "\n",
       "        if (!name) {\n",
       "            // put a spacer in here.\n",
       "            continue;\n",
       "        }\n",
       "        var button = $('<button/>');\n",
       "        button.addClass('ui-button ui-widget ui-state-default ui-corner-all ' +\n",
       "                        'ui-button-icon-only');\n",
       "        button.attr('role', 'button');\n",
       "        button.attr('aria-disabled', 'false');\n",
       "        button.click(method_name, toolbar_event);\n",
       "        button.mouseover(tooltip, toolbar_mouse_event);\n",
       "\n",
       "        var icon_img = $('<span/>');\n",
       "        icon_img.addClass('ui-button-icon-primary ui-icon');\n",
       "        icon_img.addClass(image);\n",
       "        icon_img.addClass('ui-corner-all');\n",
       "\n",
       "        var tooltip_span = $('<span/>');\n",
       "        tooltip_span.addClass('ui-button-text');\n",
       "        tooltip_span.html(tooltip);\n",
       "\n",
       "        button.append(icon_img);\n",
       "        button.append(tooltip_span);\n",
       "\n",
       "        nav_element.append(button);\n",
       "    }\n",
       "\n",
       "    var fmt_picker_span = $('<span/>');\n",
       "\n",
       "    var fmt_picker = $('<select/>');\n",
       "    fmt_picker.addClass('mpl-toolbar-option ui-widget ui-widget-content');\n",
       "    fmt_picker_span.append(fmt_picker);\n",
       "    nav_element.append(fmt_picker_span);\n",
       "    this.format_dropdown = fmt_picker[0];\n",
       "\n",
       "    for (var ind in mpl.extensions) {\n",
       "        var fmt = mpl.extensions[ind];\n",
       "        var option = $(\n",
       "            '<option/>', {selected: fmt === mpl.default_extension}).html(fmt);\n",
       "        fmt_picker.append(option)\n",
       "    }\n",
       "\n",
       "    // Add hover states to the ui-buttons\n",
       "    $( \".ui-button\" ).hover(\n",
       "        function() { $(this).addClass(\"ui-state-hover\");},\n",
       "        function() { $(this).removeClass(\"ui-state-hover\");}\n",
       "    );\n",
       "\n",
       "    var status_bar = $('<span class=\"mpl-message\"/>');\n",
       "    nav_element.append(status_bar);\n",
       "    this.message = status_bar[0];\n",
       "}\n",
       "\n",
       "mpl.figure.prototype.request_resize = function(x_pixels, y_pixels) {\n",
       "    // Request matplotlib to resize the figure. Matplotlib will then trigger a resize in the client,\n",
       "    // which will in turn request a refresh of the image.\n",
       "    this.send_message('resize', {'width': x_pixels, 'height': y_pixels});\n",
       "}\n",
       "\n",
       "mpl.figure.prototype.send_message = function(type, properties) {\n",
       "    properties['type'] = type;\n",
       "    properties['figure_id'] = this.id;\n",
       "    this.ws.send(JSON.stringify(properties));\n",
       "}\n",
       "\n",
       "mpl.figure.prototype.send_draw_message = function() {\n",
       "    if (!this.waiting) {\n",
       "        this.waiting = true;\n",
       "        this.ws.send(JSON.stringify({type: \"draw\", figure_id: this.id}));\n",
       "    }\n",
       "}\n",
       "\n",
       "\n",
       "mpl.figure.prototype.handle_save = function(fig, msg) {\n",
       "    var format_dropdown = fig.format_dropdown;\n",
       "    var format = format_dropdown.options[format_dropdown.selectedIndex].value;\n",
       "    fig.ondownload(fig, format);\n",
       "}\n",
       "\n",
       "\n",
       "mpl.figure.prototype.handle_resize = function(fig, msg) {\n",
       "    var size = msg['size'];\n",
       "    if (size[0] != fig.canvas.width || size[1] != fig.canvas.height) {\n",
       "        fig._resize_canvas(size[0], size[1]);\n",
       "        fig.send_message(\"refresh\", {});\n",
       "    };\n",
       "}\n",
       "\n",
       "mpl.figure.prototype.handle_rubberband = function(fig, msg) {\n",
       "    var x0 = msg['x0'] / mpl.ratio;\n",
       "    var y0 = (fig.canvas.height - msg['y0']) / mpl.ratio;\n",
       "    var x1 = msg['x1'] / mpl.ratio;\n",
       "    var y1 = (fig.canvas.height - msg['y1']) / mpl.ratio;\n",
       "    x0 = Math.floor(x0) + 0.5;\n",
       "    y0 = Math.floor(y0) + 0.5;\n",
       "    x1 = Math.floor(x1) + 0.5;\n",
       "    y1 = Math.floor(y1) + 0.5;\n",
       "    var min_x = Math.min(x0, x1);\n",
       "    var min_y = Math.min(y0, y1);\n",
       "    var width = Math.abs(x1 - x0);\n",
       "    var height = Math.abs(y1 - y0);\n",
       "\n",
       "    fig.rubberband_context.clearRect(\n",
       "        0, 0, fig.canvas.width, fig.canvas.height);\n",
       "\n",
       "    fig.rubberband_context.strokeRect(min_x, min_y, width, height);\n",
       "}\n",
       "\n",
       "mpl.figure.prototype.handle_figure_label = function(fig, msg) {\n",
       "    // Updates the figure title.\n",
       "    fig.header.textContent = msg['label'];\n",
       "}\n",
       "\n",
       "mpl.figure.prototype.handle_cursor = function(fig, msg) {\n",
       "    var cursor = msg['cursor'];\n",
       "    switch(cursor)\n",
       "    {\n",
       "    case 0:\n",
       "        cursor = 'pointer';\n",
       "        break;\n",
       "    case 1:\n",
       "        cursor = 'default';\n",
       "        break;\n",
       "    case 2:\n",
       "        cursor = 'crosshair';\n",
       "        break;\n",
       "    case 3:\n",
       "        cursor = 'move';\n",
       "        break;\n",
       "    }\n",
       "    fig.rubberband_canvas.style.cursor = cursor;\n",
       "}\n",
       "\n",
       "mpl.figure.prototype.handle_message = function(fig, msg) {\n",
       "    fig.message.textContent = msg['message'];\n",
       "}\n",
       "\n",
       "mpl.figure.prototype.handle_draw = function(fig, msg) {\n",
       "    // Request the server to send over a new figure.\n",
       "    fig.send_draw_message();\n",
       "}\n",
       "\n",
       "mpl.figure.prototype.handle_image_mode = function(fig, msg) {\n",
       "    fig.image_mode = msg['mode'];\n",
       "}\n",
       "\n",
       "mpl.figure.prototype.updated_canvas_event = function() {\n",
       "    // Called whenever the canvas gets updated.\n",
       "    this.send_message(\"ack\", {});\n",
       "}\n",
       "\n",
       "// A function to construct a web socket function for onmessage handling.\n",
       "// Called in the figure constructor.\n",
       "mpl.figure.prototype._make_on_message_function = function(fig) {\n",
       "    return function socket_on_message(evt) {\n",
       "        if (evt.data instanceof Blob) {\n",
       "            /* FIXME: We get \"Resource interpreted as Image but\n",
       "             * transferred with MIME type text/plain:\" errors on\n",
       "             * Chrome.  But how to set the MIME type?  It doesn't seem\n",
       "             * to be part of the websocket stream */\n",
       "            evt.data.type = \"image/png\";\n",
       "\n",
       "            /* Free the memory for the previous frames */\n",
       "            if (fig.imageObj.src) {\n",
       "                (window.URL || window.webkitURL).revokeObjectURL(\n",
       "                    fig.imageObj.src);\n",
       "            }\n",
       "\n",
       "            fig.imageObj.src = (window.URL || window.webkitURL).createObjectURL(\n",
       "                evt.data);\n",
       "            fig.updated_canvas_event();\n",
       "            fig.waiting = false;\n",
       "            return;\n",
       "        }\n",
       "        else if (typeof evt.data === 'string' && evt.data.slice(0, 21) == \"data:image/png;base64\") {\n",
       "            fig.imageObj.src = evt.data;\n",
       "            fig.updated_canvas_event();\n",
       "            fig.waiting = false;\n",
       "            return;\n",
       "        }\n",
       "\n",
       "        var msg = JSON.parse(evt.data);\n",
       "        var msg_type = msg['type'];\n",
       "\n",
       "        // Call the  \"handle_{type}\" callback, which takes\n",
       "        // the figure and JSON message as its only arguments.\n",
       "        try {\n",
       "            var callback = fig[\"handle_\" + msg_type];\n",
       "        } catch (e) {\n",
       "            console.log(\"No handler for the '\" + msg_type + \"' message type: \", msg);\n",
       "            return;\n",
       "        }\n",
       "\n",
       "        if (callback) {\n",
       "            try {\n",
       "                // console.log(\"Handling '\" + msg_type + \"' message: \", msg);\n",
       "                callback(fig, msg);\n",
       "            } catch (e) {\n",
       "                console.log(\"Exception inside the 'handler_\" + msg_type + \"' callback:\", e, e.stack, msg);\n",
       "            }\n",
       "        }\n",
       "    };\n",
       "}\n",
       "\n",
       "// from http://stackoverflow.com/questions/1114465/getting-mouse-location-in-canvas\n",
       "mpl.findpos = function(e) {\n",
       "    //this section is from http://www.quirksmode.org/js/events_properties.html\n",
       "    var targ;\n",
       "    if (!e)\n",
       "        e = window.event;\n",
       "    if (e.target)\n",
       "        targ = e.target;\n",
       "    else if (e.srcElement)\n",
       "        targ = e.srcElement;\n",
       "    if (targ.nodeType == 3) // defeat Safari bug\n",
       "        targ = targ.parentNode;\n",
       "\n",
       "    // jQuery normalizes the pageX and pageY\n",
       "    // pageX,Y are the mouse positions relative to the document\n",
       "    // offset() returns the position of the element relative to the document\n",
       "    var x = e.pageX - $(targ).offset().left;\n",
       "    var y = e.pageY - $(targ).offset().top;\n",
       "\n",
       "    return {\"x\": x, \"y\": y};\n",
       "};\n",
       "\n",
       "/*\n",
       " * return a copy of an object with only non-object keys\n",
       " * we need this to avoid circular references\n",
       " * http://stackoverflow.com/a/24161582/3208463\n",
       " */\n",
       "function simpleKeys (original) {\n",
       "  return Object.keys(original).reduce(function (obj, key) {\n",
       "    if (typeof original[key] !== 'object')\n",
       "        obj[key] = original[key]\n",
       "    return obj;\n",
       "  }, {});\n",
       "}\n",
       "\n",
       "mpl.figure.prototype.mouse_event = function(event, name) {\n",
       "    var canvas_pos = mpl.findpos(event)\n",
       "\n",
       "    if (name === 'button_press')\n",
       "    {\n",
       "        this.canvas.focus();\n",
       "        this.canvas_div.focus();\n",
       "    }\n",
       "\n",
       "    var x = canvas_pos.x * mpl.ratio;\n",
       "    var y = canvas_pos.y * mpl.ratio;\n",
       "\n",
       "    this.send_message(name, {x: x, y: y, button: event.button,\n",
       "                             step: event.step,\n",
       "                             guiEvent: simpleKeys(event)});\n",
       "\n",
       "    /* This prevents the web browser from automatically changing to\n",
       "     * the text insertion cursor when the button is pressed.  We want\n",
       "     * to control all of the cursor setting manually through the\n",
       "     * 'cursor' event from matplotlib */\n",
       "    event.preventDefault();\n",
       "    return false;\n",
       "}\n",
       "\n",
       "mpl.figure.prototype._key_event_extra = function(event, name) {\n",
       "    // Handle any extra behaviour associated with a key event\n",
       "}\n",
       "\n",
       "mpl.figure.prototype.key_event = function(event, name) {\n",
       "\n",
       "    // Prevent repeat events\n",
       "    if (name == 'key_press')\n",
       "    {\n",
       "        if (event.which === this._key)\n",
       "            return;\n",
       "        else\n",
       "            this._key = event.which;\n",
       "    }\n",
       "    if (name == 'key_release')\n",
       "        this._key = null;\n",
       "\n",
       "    var value = '';\n",
       "    if (event.ctrlKey && event.which != 17)\n",
       "        value += \"ctrl+\";\n",
       "    if (event.altKey && event.which != 18)\n",
       "        value += \"alt+\";\n",
       "    if (event.shiftKey && event.which != 16)\n",
       "        value += \"shift+\";\n",
       "\n",
       "    value += 'k';\n",
       "    value += event.which.toString();\n",
       "\n",
       "    this._key_event_extra(event, name);\n",
       "\n",
       "    this.send_message(name, {key: value,\n",
       "                             guiEvent: simpleKeys(event)});\n",
       "    return false;\n",
       "}\n",
       "\n",
       "mpl.figure.prototype.toolbar_button_onclick = function(name) {\n",
       "    if (name == 'download') {\n",
       "        this.handle_save(this, null);\n",
       "    } else {\n",
       "        this.send_message(\"toolbar_button\", {name: name});\n",
       "    }\n",
       "};\n",
       "\n",
       "mpl.figure.prototype.toolbar_button_onmouseover = function(tooltip) {\n",
       "    this.message.textContent = tooltip;\n",
       "};\n",
       "mpl.toolbar_items = [[\"Home\", \"Reset original view\", \"fa fa-home icon-home\", \"home\"], [\"Back\", \"Back to  previous view\", \"fa fa-arrow-left icon-arrow-left\", \"back\"], [\"Forward\", \"Forward to next view\", \"fa fa-arrow-right icon-arrow-right\", \"forward\"], [\"\", \"\", \"\", \"\"], [\"Pan\", \"Pan axes with left mouse, zoom with right\", \"fa fa-arrows icon-move\", \"pan\"], [\"Zoom\", \"Zoom to rectangle\", \"fa fa-square-o icon-check-empty\", \"zoom\"], [\"\", \"\", \"\", \"\"], [\"Download\", \"Download plot\", \"fa fa-floppy-o icon-save\", \"download\"]];\n",
       "\n",
       "mpl.extensions = [\"eps\", \"jpeg\", \"pdf\", \"png\", \"ps\", \"raw\", \"svg\", \"tif\"];\n",
       "\n",
       "mpl.default_extension = \"png\";var comm_websocket_adapter = function(comm) {\n",
       "    // Create a \"websocket\"-like object which calls the given IPython comm\n",
       "    // object with the appropriate methods. Currently this is a non binary\n",
       "    // socket, so there is still some room for performance tuning.\n",
       "    var ws = {};\n",
       "\n",
       "    ws.close = function() {\n",
       "        comm.close()\n",
       "    };\n",
       "    ws.send = function(m) {\n",
       "        //console.log('sending', m);\n",
       "        comm.send(m);\n",
       "    };\n",
       "    // Register the callback with on_msg.\n",
       "    comm.on_msg(function(msg) {\n",
       "        //console.log('receiving', msg['content']['data'], msg);\n",
       "        // Pass the mpl event to the overriden (by mpl) onmessage function.\n",
       "        ws.onmessage(msg['content']['data'])\n",
       "    });\n",
       "    return ws;\n",
       "}\n",
       "\n",
       "mpl.mpl_figure_comm = function(comm, msg) {\n",
       "    // This is the function which gets called when the mpl process\n",
       "    // starts-up an IPython Comm through the \"matplotlib\" channel.\n",
       "\n",
       "    var id = msg.content.data.id;\n",
       "    // Get hold of the div created by the display call when the Comm\n",
       "    // socket was opened in Python.\n",
       "    var element = $(\"#\" + id);\n",
       "    var ws_proxy = comm_websocket_adapter(comm)\n",
       "\n",
       "    function ondownload(figure, format) {\n",
       "        window.open(figure.imageObj.src);\n",
       "    }\n",
       "\n",
       "    var fig = new mpl.figure(id, ws_proxy,\n",
       "                           ondownload,\n",
       "                           element.get(0));\n",
       "\n",
       "    // Call onopen now - mpl needs it, as it is assuming we've passed it a real\n",
       "    // web socket which is closed, not our websocket->open comm proxy.\n",
       "    ws_proxy.onopen();\n",
       "\n",
       "    fig.parent_element = element.get(0);\n",
       "    fig.cell_info = mpl.find_output_cell(\"<div id='\" + id + \"'></div>\");\n",
       "    if (!fig.cell_info) {\n",
       "        console.error(\"Failed to find cell for figure\", id, fig);\n",
       "        return;\n",
       "    }\n",
       "\n",
       "    var output_index = fig.cell_info[2]\n",
       "    var cell = fig.cell_info[0];\n",
       "\n",
       "};\n",
       "\n",
       "mpl.figure.prototype.handle_close = function(fig, msg) {\n",
       "    var width = fig.canvas.width/mpl.ratio\n",
       "    fig.root.unbind('remove')\n",
       "\n",
       "    // Update the output cell to use the data from the current canvas.\n",
       "    fig.push_to_output();\n",
       "    var dataURL = fig.canvas.toDataURL();\n",
       "    // Re-enable the keyboard manager in IPython - without this line, in FF,\n",
       "    // the notebook keyboard shortcuts fail.\n",
       "    IPython.keyboard_manager.enable()\n",
       "    $(fig.parent_element).html('<img src=\"' + dataURL + '\" width=\"' + width + '\">');\n",
       "    fig.close_ws(fig, msg);\n",
       "}\n",
       "\n",
       "mpl.figure.prototype.close_ws = function(fig, msg){\n",
       "    fig.send_message('closing', msg);\n",
       "    // fig.ws.close()\n",
       "}\n",
       "\n",
       "mpl.figure.prototype.push_to_output = function(remove_interactive) {\n",
       "    // Turn the data on the canvas into data in the output cell.\n",
       "    var width = this.canvas.width/mpl.ratio\n",
       "    var dataURL = this.canvas.toDataURL();\n",
       "    this.cell_info[1]['text/html'] = '<img src=\"' + dataURL + '\" width=\"' + width + '\">';\n",
       "}\n",
       "\n",
       "mpl.figure.prototype.updated_canvas_event = function() {\n",
       "    // Tell IPython that the notebook contents must change.\n",
       "    IPython.notebook.set_dirty(true);\n",
       "    this.send_message(\"ack\", {});\n",
       "    var fig = this;\n",
       "    // Wait a second, then push the new image to the DOM so\n",
       "    // that it is saved nicely (might be nice to debounce this).\n",
       "    setTimeout(function () { fig.push_to_output() }, 1000);\n",
       "}\n",
       "\n",
       "mpl.figure.prototype._init_toolbar = function() {\n",
       "    var fig = this;\n",
       "\n",
       "    var nav_element = $('<div/>')\n",
       "    nav_element.attr('style', 'width: 100%');\n",
       "    this.root.append(nav_element);\n",
       "\n",
       "    // Define a callback function for later on.\n",
       "    function toolbar_event(event) {\n",
       "        return fig.toolbar_button_onclick(event['data']);\n",
       "    }\n",
       "    function toolbar_mouse_event(event) {\n",
       "        return fig.toolbar_button_onmouseover(event['data']);\n",
       "    }\n",
       "\n",
       "    for(var toolbar_ind in mpl.toolbar_items){\n",
       "        var name = mpl.toolbar_items[toolbar_ind][0];\n",
       "        var tooltip = mpl.toolbar_items[toolbar_ind][1];\n",
       "        var image = mpl.toolbar_items[toolbar_ind][2];\n",
       "        var method_name = mpl.toolbar_items[toolbar_ind][3];\n",
       "\n",
       "        if (!name) { continue; };\n",
       "\n",
       "        var button = $('<button class=\"btn btn-default\" href=\"#\" title=\"' + name + '\"><i class=\"fa ' + image + ' fa-lg\"></i></button>');\n",
       "        button.click(method_name, toolbar_event);\n",
       "        button.mouseover(tooltip, toolbar_mouse_event);\n",
       "        nav_element.append(button);\n",
       "    }\n",
       "\n",
       "    // Add the status bar.\n",
       "    var status_bar = $('<span class=\"mpl-message\" style=\"text-align:right; float: right;\"/>');\n",
       "    nav_element.append(status_bar);\n",
       "    this.message = status_bar[0];\n",
       "\n",
       "    // Add the close button to the window.\n",
       "    var buttongrp = $('<div class=\"btn-group inline pull-right\"></div>');\n",
       "    var button = $('<button class=\"btn btn-mini btn-primary\" href=\"#\" title=\"Stop Interaction\"><i class=\"fa fa-power-off icon-remove icon-large\"></i></button>');\n",
       "    button.click(function (evt) { fig.handle_close(fig, {}); } );\n",
       "    button.mouseover('Stop Interaction', toolbar_mouse_event);\n",
       "    buttongrp.append(button);\n",
       "    var titlebar = this.root.find($('.ui-dialog-titlebar'));\n",
       "    titlebar.prepend(buttongrp);\n",
       "}\n",
       "\n",
       "mpl.figure.prototype._root_extra_style = function(el){\n",
       "    var fig = this\n",
       "    el.on(\"remove\", function(){\n",
       "\tfig.close_ws(fig, {});\n",
       "    });\n",
       "}\n",
       "\n",
       "mpl.figure.prototype._canvas_extra_style = function(el){\n",
       "    // this is important to make the div 'focusable\n",
       "    el.attr('tabindex', 0)\n",
       "    // reach out to IPython and tell the keyboard manager to turn it's self\n",
       "    // off when our div gets focus\n",
       "\n",
       "    // location in version 3\n",
       "    if (IPython.notebook.keyboard_manager) {\n",
       "        IPython.notebook.keyboard_manager.register_events(el);\n",
       "    }\n",
       "    else {\n",
       "        // location in version 2\n",
       "        IPython.keyboard_manager.register_events(el);\n",
       "    }\n",
       "\n",
       "}\n",
       "\n",
       "mpl.figure.prototype._key_event_extra = function(event, name) {\n",
       "    var manager = IPython.notebook.keyboard_manager;\n",
       "    if (!manager)\n",
       "        manager = IPython.keyboard_manager;\n",
       "\n",
       "    // Check for shift+enter\n",
       "    if (event.shiftKey && event.which == 13) {\n",
       "        this.canvas_div.blur();\n",
       "        event.shiftKey = false;\n",
       "        // Send a \"J\" for go to next cell\n",
       "        event.which = 74;\n",
       "        event.keyCode = 74;\n",
       "        manager.command_mode();\n",
       "        manager.handle_keydown(event);\n",
       "    }\n",
       "}\n",
       "\n",
       "mpl.figure.prototype.handle_save = function(fig, msg) {\n",
       "    fig.ondownload(fig, null);\n",
       "}\n",
       "\n",
       "\n",
       "mpl.find_output_cell = function(html_output) {\n",
       "    // Return the cell and output element which can be found *uniquely* in the notebook.\n",
       "    // Note - this is a bit hacky, but it is done because the \"notebook_saving.Notebook\"\n",
       "    // IPython event is triggered only after the cells have been serialised, which for\n",
       "    // our purposes (turning an active figure into a static one), is too late.\n",
       "    var cells = IPython.notebook.get_cells();\n",
       "    var ncells = cells.length;\n",
       "    for (var i=0; i<ncells; i++) {\n",
       "        var cell = cells[i];\n",
       "        if (cell.cell_type === 'code'){\n",
       "            for (var j=0; j<cell.output_area.outputs.length; j++) {\n",
       "                var data = cell.output_area.outputs[j];\n",
       "                if (data.data) {\n",
       "                    // IPython >= 3 moved mimebundle to data attribute of output\n",
       "                    data = data.data;\n",
       "                }\n",
       "                if (data['text/html'] == html_output) {\n",
       "                    return [cell, data, j];\n",
       "                }\n",
       "            }\n",
       "        }\n",
       "    }\n",
       "}\n",
       "\n",
       "// Register the function which deals with the matplotlib target/channel.\n",
       "// The kernel may be null if the page has been refreshed.\n",
       "if (IPython.notebook.kernel != null) {\n",
       "    IPython.notebook.kernel.comm_manager.register_target('matplotlib', mpl.mpl_figure_comm);\n",
       "}\n"
      ],
      "text/plain": [
       "<IPython.core.display.Javascript object>"
      ]
     },
     "metadata": {},
     "output_type": "display_data"
    },
    {
     "data": {
      "text/html": [
       "<img src=\"data:image/png;base64,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\" width=\"600\">"
      ],
      "text/plain": [
       "<IPython.core.display.HTML object>"
      ]
     },
     "metadata": {},
     "output_type": "display_data"
    }
   ],
   "source": [
    "tips = sns.load_dataset(\"tips\")\n",
    "\n",
    "sns.jointplot(x=\"total_bill\", y=\"tip\", data=tips, kind=\"reg\");"
   ]
  },
  {
   "cell_type": "markdown",
   "metadata": {},
   "source": [
    "we call `snw.joinplot` to build a widget. The widget has controllers that allow us to select \n",
    "the variables to plot and change the options available for this kind of plot.\n",
    "Click the `Run interact` button to produce the figure: "
   ]
  },
  {
   "cell_type": "code",
   "execution_count": 15,
   "metadata": {},
   "outputs": [
    {
     "data": {
      "application/vnd.jupyter.widget-view+json": {
       "model_id": "d888e00448224788bd37ebe14c66d4a7"
      }
     },
     "metadata": {},
     "output_type": "display_data"
    },
    {
     "data": {
      "text/plain": [
       "<function abipy.display.seabornw.joinplot.<locals>.sns_joinplot>"
      ]
     },
     "execution_count": 15,
     "metadata": {},
     "output_type": "execute_result"
    }
   ],
   "source": [
    "snw.joinplot(tips)"
   ]
  },
  {
   "cell_type": "markdown",
   "metadata": {},
   "source": [
    "Use `pdw.plot` to create a widget wrapping the plot method of pandas Dataframe:"
   ]
  },
  {
   "cell_type": "code",
   "execution_count": 16,
   "metadata": {},
   "outputs": [
    {
     "data": {
      "application/vnd.jupyter.widget-view+json": {
       "model_id": "7d9c10817f8e41cf96e793ea99e96f03"
      }
     },
     "metadata": {},
     "output_type": "display_data"
    },
    {
     "data": {
      "text/plain": [
       "<function abipy.display.pandasw.plot.<locals>.plot_dataframe>"
      ]
     },
     "execution_count": 16,
     "metadata": {},
     "output_type": "execute_result"
    }
   ],
   "source": [
    "iris = sns.load_dataset(\"iris\")\n",
    "pdw.plot(iris)"
   ]
  },
  {
   "cell_type": "markdown",
   "metadata": {},
   "source": [
    "Now we can start to play with the seaborn API and our widgets:"
   ]
  },
  {
   "cell_type": "code",
   "execution_count": 6,
   "metadata": {},
   "outputs": [],
   "source": [
    "titanic = sns.load_dataset(\"titanic\")"
   ]
  },
  {
   "cell_type": "code",
   "execution_count": 7,
   "metadata": {},
   "outputs": [
    {
     "data": {
      "application/vnd.jupyter.widget-view+json": {
       "model_id": "0ea9598d70904ec8b39638da6d1f08f9"
      }
     },
     "metadata": {},
     "output_type": "display_data"
    },
    {
     "data": {
      "text/plain": [
       "<function abipy.display.seabornw.countplot.<locals>.sns_countplot>"
      ]
     },
     "execution_count": 7,
     "metadata": {},
     "output_type": "execute_result"
    }
   ],
   "source": [
    "snw.countplot(titanic)"
   ]
  },
  {
   "cell_type": "code",
   "execution_count": 26,
   "metadata": {},
   "outputs": [],
   "source": [
    "tips = sns.load_dataset(\"tips\")"
   ]
  },
  {
   "cell_type": "code",
   "execution_count": 28,
   "metadata": {
    "scrolled": false
   },
   "outputs": [
    {
     "data": {
      "application/vnd.jupyter.widget-view+json": {
       "model_id": "7fae9ed8a2a04ce8b678e829041b417b"
      }
     },
     "metadata": {},
     "output_type": "display_data"
    },
    {
     "data": {
      "text/plain": [
       "<function abipy.display.seabornw.swarmplot.<locals>.sns_swarmplot>"
      ]
     },
     "execution_count": 28,
     "metadata": {},
     "output_type": "execute_result"
    }
   ],
   "source": [
    "snw.swarmplot(tips)"
   ]
  },
  {
   "cell_type": "code",
   "execution_count": 29,
   "metadata": {},
   "outputs": [
    {
     "data": {
      "application/vnd.jupyter.widget-view+json": {
       "model_id": "587746c0ad2340acbf35f01f61234d23"
      }
     },
     "metadata": {},
     "output_type": "display_data"
    },
    {
     "data": {
      "text/plain": [
       "<function abipy.display.seabornw.lmplot.<locals>.sns_lmplot>"
      ]
     },
     "execution_count": 29,
     "metadata": {},
     "output_type": "execute_result"
    }
   ],
   "source": [
    "snw.lmplot(tips)"
   ]
  },
  {
   "cell_type": "code",
   "execution_count": 30,
   "metadata": {
    "collapsed": true
   },
   "outputs": [],
   "source": [
    "exercise = sns.load_dataset(\"exercise\")"
   ]
  },
  {
   "cell_type": "code",
   "execution_count": 16,
   "metadata": {},
   "outputs": [
    {
     "data": {
      "application/vnd.jupyter.widget-view+json": {
       "model_id": "cdd543c480db4bca84ff590e8f52a9d4"
      }
     },
     "metadata": {},
     "output_type": "display_data"
    },
    {
     "data": {
      "text/plain": [
       "<function abipy.display.seabornw.factorplot.<locals>.sns_factorplot>"
      ]
     },
     "execution_count": 16,
     "metadata": {},
     "output_type": "execute_result"
    }
   ],
   "source": [
    "snw.factorplot(exercise)"
   ]
  },
  {
   "cell_type": "code",
   "execution_count": 8,
   "metadata": {},
   "outputs": [
    {
     "data": {
      "application/vnd.jupyter.widget-view+json": {
       "model_id": "df716e6b43c2445cbb33bece58c547df"
      }
     },
     "metadata": {},
     "output_type": "display_data"
    },
    {
     "data": {
      "text/plain": [
       "<function abipy.display.seabornw.violinplot.<locals>.sns_violinplot>"
      ]
     },
     "execution_count": 8,
     "metadata": {},
     "output_type": "execute_result"
    }
   ],
   "source": [
    "snw.violinplot(tips)"
   ]
  },
  {
   "cell_type": "code",
   "execution_count": 18,
   "metadata": {},
   "outputs": [
    {
     "data": {
      "application/vnd.jupyter.widget-view+json": {
       "model_id": "98f62d61352d41ca8e3f5c8749fd8cad"
      }
     },
     "metadata": {},
     "output_type": "display_data"
    },
    {
     "data": {
      "text/plain": [
       "<function abipy.display.seabornw.stripplot.<locals>.sns_stripplot>"
      ]
     },
     "execution_count": 18,
     "metadata": {},
     "output_type": "execute_result"
    }
   ],
   "source": [
    "snw.stripplot(tips)"
   ]
  },
  {
   "cell_type": "code",
   "execution_count": 19,
   "metadata": {},
   "outputs": [
    {
     "data": {
      "application/vnd.jupyter.widget-view+json": {
       "model_id": "1e4a83511de545008b2ec175f9fa41d6"
      }
     },
     "metadata": {},
     "output_type": "display_data"
    },
    {
     "data": {
      "text/plain": [
       "<function abipy.display.seabornw.swarmplot.<locals>.sns_swarmplot>"
      ]
     },
     "execution_count": 19,
     "metadata": {},
     "output_type": "execute_result"
    }
   ],
   "source": [
    "snw.swarmplot(tips)"
   ]
  },
  {
   "cell_type": "code",
   "execution_count": 20,
   "metadata": {},
   "outputs": [
    {
     "data": {
      "application/vnd.jupyter.widget-view+json": {
       "model_id": "1b73c71258994327b5dfd8f2a038c3d0"
      }
     },
     "metadata": {},
     "output_type": "display_data"
    },
    {
     "data": {
      "text/plain": [
       "<function abipy.display.seabornw.pointplot.<locals>.sns_pointplot>"
      ]
     },
     "execution_count": 20,
     "metadata": {},
     "output_type": "execute_result"
    }
   ],
   "source": [
    "snw.pointplot(tips)"
   ]
  },
  {
   "cell_type": "code",
   "execution_count": 21,
   "metadata": {},
   "outputs": [
    {
     "data": {
      "application/vnd.jupyter.widget-view+json": {
       "model_id": "9aed693aec8a4c489f68124e32e8f9f1"
      }
     },
     "metadata": {},
     "output_type": "display_data"
    },
    {
     "data": {
      "text/plain": [
       "<function abipy.display.seabornw.barplot.<locals>.sns_barplot>"
      ]
     },
     "execution_count": 21,
     "metadata": {},
     "output_type": "execute_result"
    }
   ],
   "source": [
    "snw.barplot(tips)"
   ]
  },
  {
   "cell_type": "code",
   "execution_count": 31,
   "metadata": {},
   "outputs": [
    {
     "data": {
      "application/vnd.jupyter.widget-view+json": {
       "model_id": "e5ce55106f8c4b6db455466ed6e4a66a"
      }
     },
     "metadata": {},
     "output_type": "display_data"
    },
    {
     "data": {
      "text/plain": [
       "<function abipy.display.seabornw.heatmap.<locals>.sns_heatmap>"
      ]
     },
     "execution_count": 31,
     "metadata": {},
     "output_type": "execute_result"
    }
   ],
   "source": [
    "import numpy as np; np.random.seed(0)\n",
    "uniform_data = np.random.rand(10, 12)\n",
    "snw.heatmap(uniform_data)"
   ]
  },
  {
   "cell_type": "code",
   "execution_count": 32,
   "metadata": {
    "collapsed": true
   },
   "outputs": [],
   "source": [
    "flights = sns.load_dataset(\"flights\")\n",
    "flights = flights.pivot(\"month\", \"year\", \"passengers\")"
   ]
  },
  {
   "cell_type": "code",
   "execution_count": 33,
   "metadata": {},
   "outputs": [
    {
     "data": {
      "application/vnd.jupyter.widget-view+json": {
       "model_id": "bcc8afabd8a5446b9c60ea7f2a30aa7b"
      }
     },
     "metadata": {},
     "output_type": "display_data"
    },
    {
     "data": {
      "text/plain": [
       "<function abipy.display.seabornw.clustermap.<locals>.sns_clustermap>"
      ]
     },
     "execution_count": 33,
     "metadata": {},
     "output_type": "execute_result"
    }
   ],
   "source": [
    "snw.clustermap(flights)"
   ]
  },
  {
   "cell_type": "code",
   "execution_count": 25,
   "metadata": {},
   "outputs": [
    {
     "data": {
      "application/vnd.jupyter.widget-view+json": {
       "model_id": "7bdfca704fec42adbdb9d638fa63f530"
      }
     },
     "metadata": {},
     "output_type": "display_data"
    },
    {
     "data": {
      "text/plain": [
       "<function abipy.display.seabornw.interactplot.<locals>.sns_interactplot>"
      ]
     },
     "execution_count": 25,
     "metadata": {},
     "output_type": "execute_result"
    }
   ],
   "source": [
    "# Generate a random dataset with strong simple effects and an interaction\n",
    "import numpy as np\n",
    "n = 80\n",
    "rs = np.random.RandomState(11)\n",
    "x1 = rs.randn(n)\n",
    "x2 = x1 / 5 + rs.randn(n)\n",
    "b0, b1, b2, b3 = .5, .25, -1, 2\n",
    "y = b0  + b1 * x1 + b2 * x2 + b3 * x1 * x2 + rs.randn(n)\n",
    "df = pd.DataFrame(np.c_[x1, x2, y], columns=[\"x1\", \"x2\", \"y\"])\n",
    "\n",
    "# Show a scatterplot of the predictors with the estimated model surface\n",
    "snw.interactplot(df)"
   ]
  },
  {
   "cell_type": "markdown",
   "metadata": {
    "collapsed": true
   },
   "source": [
    "Back to the main [Index](index.ipynb)"
   ]
  },
  {
   "cell_type": "code",
   "execution_count": null,
   "metadata": {},
   "outputs": [],
   "source": []
  }
 ],
 "metadata": {
  "kernelspec": {
   "display_name": "Python [default]",
   "language": "python",
   "name": "python3"
  },
  "language_info": {
   "codemirror_mode": {
    "name": "ipython",
    "version": 3
   },
   "file_extension": ".py",
   "mimetype": "text/x-python",
   "name": "python",
   "nbconvert_exporter": "python",
   "pygments_lexer": "ipython3",
   "version": "3.6.1"
  },
  "latex_envs": {
   "bibliofile": "biblio.bib",
   "cite_by": "apalike",
   "current_citInitial": 1,
   "eqLabelWithNumbers": true,
   "eqNumInitial": 0
  },
  "widgets": {
   "application/vnd.jupyter.widget-state+json": {
    "state": {
     "123a39a011a14dac94ac51f1a4ed1352": {
      "model_module": "jupyter-js-widgets",
      "model_module_version": "~2.1.4",
      "model_name": "LayoutModel",
      "state": {
       "_model_module_version": "~2.1.4",
       "_view_module_version": "~2.1.4"
      }
     },
     "1f19719912254b41aa072acb91a6c0d4": {
      "model_module": "jupyter-js-widgets",
      "model_module_version": "~2.1.4",
      "model_name": "LayoutModel",
      "state": {
       "_model_module_version": "~2.1.4",
       "_view_module_version": "~2.1.4"
      }
     },
     "3ab629ed48064c578e7f6a10d493f9c7": {
      "model_module": "jupyter-js-widgets",
      "model_module_version": "~2.1.4",
      "model_name": "LayoutModel",
      "state": {
       "_model_module_version": "~2.1.4",
       "_view_module_version": "~2.1.4"
      }
     },
     "41184a8b59364e7d92936681bcf0f096": {
      "model_module": "jupyter-js-widgets",
      "model_module_version": "~2.1.4",
      "model_name": "ButtonStyleModel",
      "state": {
       "_model_module_version": "~2.1.4",
       "_view_module_version": "~2.1.4"
      }
     },
     "7cbad50bf69a489f8ec50d7ee6104e00": {
      "model_module": "jupyter-js-widgets",
      "model_module_version": "~2.1.4",
      "model_name": "DropdownModel",
      "state": {
       "_model_module_version": "~2.1.4",
       "_options_labels": [
        "None",
        "blue",
        "green",
        "red",
        "cyan",
        "magenta",
        "yellow",
        "black",
        "white"
       ],
       "_view_module_version": "~2.1.4",
       "description": "color",
       "layout": "IPY_MODEL_1f19719912254b41aa072acb91a6c0d4",
       "value": "None"
      }
     },
     "91a3070b35794a4c95df00d3ea1b24c0": {
      "model_module": "jupyter-js-widgets",
      "model_module_version": "~2.1.4",
      "model_name": "LayoutModel",
      "state": {
       "_model_module_version": "~2.1.4",
       "_view_module_version": "~2.1.4"
      }
     },
     "a34fabdd3116435aa829055a47fa7989": {
      "model_module": "jupyter-js-widgets",
      "model_module_version": "~2.1.4",
      "model_name": "OutputModel",
      "state": {
       "_dom_classes": [],
       "_model_module": "jupyter-js-widgets",
       "_model_module_version": "~2.1.4",
       "_view_module": "jupyter-js-widgets",
       "_view_module_version": "~2.1.4",
       "layout": "IPY_MODEL_ba92fb6974e04e6892ddc2c7799c91b6",
       "msg_throttle": 1
      }
     },
     "ba92fb6974e04e6892ddc2c7799c91b6": {
      "model_module": "jupyter-js-widgets",
      "model_module_version": "~2.1.4",
      "model_name": "LayoutModel",
      "state": {
       "_model_module_version": "~2.1.4",
       "_view_module_version": "~2.1.4"
      }
     },
     "c6e363295788418db8692c9525e47ac7": {
      "model_module": "jupyter-js-widgets",
      "model_module_version": "~2.1.4",
      "model_name": "LayoutModel",
      "state": {
       "_model_module_version": "~2.1.4",
       "_view_module_version": "~2.1.4"
      }
     },
     "d171acd587fa403e808cbe65c40516d8": {
      "model_module": "jupyter-js-widgets",
      "model_module_version": "~2.1.4",
      "model_name": "ButtonModel",
      "state": {
       "_model_module_version": "~2.1.4",
       "_view_module_version": "~2.1.4",
       "description": "Run Interact",
       "layout": "IPY_MODEL_c6e363295788418db8692c9525e47ac7",
       "style": "IPY_MODEL_41184a8b59364e7d92936681bcf0f096"
      }
     },
     "de077e75d66e4befa7bf0f55a03639b6": {
      "model_module": "jupyter-js-widgets",
      "model_module_version": "~2.1.4",
      "model_name": "DropdownModel",
      "state": {
       "_model_module_version": "~2.1.4",
       "_options_labels": [
        "None",
        "total_bill",
        "tip",
        "sex",
        "smoker",
        "day",
        "time",
        "size"
       ],
       "_view_module_version": "~2.1.4",
       "description": "y",
       "layout": "IPY_MODEL_123a39a011a14dac94ac51f1a4ed1352",
       "value": "tip"
      }
     },
     "ef09cb1da7ce42a7b8c3887a61872565": {
      "model_module": "jupyter-js-widgets",
      "model_module_version": "~2.1.4",
      "model_name": "LayoutModel",
      "state": {
       "_model_module_version": "~2.1.4",
       "_view_module_version": "~2.1.4"
      }
     },
     "f0a6a9d6b90b47a584746256e83b14c6": {
      "model_module": "jupyter-js-widgets",
      "model_module_version": "~2.1.4",
      "model_name": "VBoxModel",
      "state": {
       "_dom_classes": [
        "widget-interact"
       ],
       "_model_module_version": "~2.1.4",
       "_view_module_version": "~2.1.4",
       "children": [
        "IPY_MODEL_f17d34cbfd0c4393a50f7bac103e0494",
        "IPY_MODEL_de077e75d66e4befa7bf0f55a03639b6",
        "IPY_MODEL_f6a1ac99cd8449d49f42b79fd64200ba",
        "IPY_MODEL_7cbad50bf69a489f8ec50d7ee6104e00",
        "IPY_MODEL_d171acd587fa403e808cbe65c40516d8",
        "IPY_MODEL_a34fabdd3116435aa829055a47fa7989"
       ],
       "layout": "IPY_MODEL_3ab629ed48064c578e7f6a10d493f9c7"
      }
     },
     "f17d34cbfd0c4393a50f7bac103e0494": {
      "model_module": "jupyter-js-widgets",
      "model_module_version": "~2.1.4",
      "model_name": "DropdownModel",
      "state": {
       "_model_module_version": "~2.1.4",
       "_options_labels": [
        "None",
        "total_bill",
        "tip",
        "sex",
        "smoker",
        "day",
        "time",
        "size"
       ],
       "_view_module_version": "~2.1.4",
       "description": "x",
       "layout": "IPY_MODEL_91a3070b35794a4c95df00d3ea1b24c0",
       "value": "total_bill"
      }
     },
     "f6a1ac99cd8449d49f42b79fd64200ba": {
      "model_module": "jupyter-js-widgets",
      "model_module_version": "~2.1.4",
      "model_name": "DropdownModel",
      "state": {
       "_model_module_version": "~2.1.4",
       "_options_labels": [
        "scatter",
        "reg",
        "resid",
        "kde",
        "hex"
       ],
       "_view_module_version": "~2.1.4",
       "description": "kind",
       "layout": "IPY_MODEL_ef09cb1da7ce42a7b8c3887a61872565",
       "value": "scatter"
      }
     }
    },
    "version_major": 1,
    "version_minor": 0
   }
  }
 },
 "nbformat": 4,
 "nbformat_minor": 1
}
