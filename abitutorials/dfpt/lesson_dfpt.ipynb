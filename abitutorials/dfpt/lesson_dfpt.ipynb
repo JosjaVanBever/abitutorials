{
 "cells": [
  {
   "cell_type": "markdown",
   "metadata": {},
   "source": [
    "Back to the main [Index](../index.ipynb) <a id=\"top\"></a>"
   ]
  },
  {
   "cell_type": "markdown",
   "metadata": {},
   "source": [
    "# Phonons and Born effective charges with Abinit and AbiPy"
   ]
  },
  {
   "cell_type": "markdown",
   "metadata": {},
   "source": [
    "This lesson discusses how to compute phonon band structures, DOS \n",
    "and Born effective charges with Abinit and AbiPy.\n",
    "The discussion closely follows the [second lesson](https://docs.abinit.org/tutorial/rf2/index.html)\n",
    "on DFPT available on the Abinit web site. \n",
    "More specifically, we will discuss how to\n",
    "\n",
    "   * Perform a convergence study for the phonon frequencies at $\\Gamma$ as function of `ecut`\n",
    "   * Compute the full phonon band structure of `AlAs` with the inclusion of LO-TO splitting\n",
    "   * Obtain thermodynamic properties within the harmonic approximation\n",
    "\n",
    "We assume that you have read the references mentioned in the [first Abinit lesson](https://docs.abinit.org/tutorial/rf1/index.html)\n",
    "on DFPT.\n",
    "You might find additional material, related to the present section, in the following references: \n",
    "   \n",
    "* [Dynamical matrices, Born effective charges, dielectric permittivity tensors, and interatomic force constants from density-functional perturbation theory](https://journals.aps.org/prb/abstract/10.1103/PhysRevB.55.10355)\n",
    "* [Phonons and related crystal properties from density-functional perturbation theory](https://journals.aps.org/rmp/abstract/10.1103/RevModPhys.73.515)\n",
    "\n",
    "If you are already familiar with python and AbiPy-Abinit are already installed and configured,\n",
    "you may want to use directly the command line interface.\n",
    "See the README.md file in the directory of this lesson explaining how to analyze the data from the shell\n",
    "using ipython and matplotlib.\n",
    "\n",
    "## Table of Contents\n",
    "[[back to top](#top)]\n",
    "\n",
    "- [Phonon frequencies at $\\Gamma$ as function of ecut](#Phonon-frequencies-at-$\\Gamma$-as-function-of-ecut)\n",
    "- [Convergence study at $\\Gamma$](#Convergence-study-at-$\\Gamma$)\n",
    "- [Phonon band structure of AlAs](#Phonon-band-structure-of-AlAs)\n",
    "- [Post-processing the results](#Post-processing-the-results)\n",
    "- [Macroscopic dielectric tensor and Born effective-charges](#Macroscopic-dielectric-tensor-and-Born-effective-charges)\n",
    "- [Thermodynamic properties within the harmonic approximation](#Thermodynamic-properties-within-the-harmonic-approximation)\n",
    "- [Exercises](#Exercises)"
   ]
  },
  {
   "cell_type": "markdown",
   "metadata": {},
   "source": [
    "## Phonon frequencies at $\\Gamma$ as function of ecut\n",
    "[[back to top](#top)]"
   ]
  },
  {
   "cell_type": "markdown",
   "metadata": {},
   "source": [
    "Before starting, we need to import the python modules and the functions we will need in the notebook:"
   ]
  },
  {
   "cell_type": "code",
   "execution_count": 1,
   "metadata": {
    "collapsed": true
   },
   "outputs": [],
   "source": [
    "# Use this at the beginning of your script so that your code will be compatible with python3\n",
    "from __future__ import print_function, division, unicode_literals\n",
    "\n",
    "import numpy as np\n",
    "import warnings\n",
    "warnings.filterwarnings(\"ignore\") # to get rid of deprecation warnings\n",
    "\n",
    "from abipy import abilab\n",
    "abilab.enable_notebook() # This line tells AbiPy we are running inside a notebook\n",
    "import abipy.flowtk as flowtk\n",
    "\n",
    "# This line configures matplotlib to show figures embedded in the notebook.\n",
    "# Replace `inline` with `notebook` in classic notebook\n",
    "%matplotlib inline   \n",
    "\n",
    "# Option available in jupyterlab. See https://github.com/matplotlib/jupyter-matplotlib\n",
    "#%matplotlib widget "
   ]
  },
  {
   "cell_type": "markdown",
   "metadata": {},
   "source": [
    "and an useful function from the `lesson_dfpt` module that will be used to generate our DFPT flows:"
   ]
  },
  {
   "cell_type": "code",
   "execution_count": 2,
   "metadata": {
    "collapsed": false
   },
   "outputs": [
    {
     "data": {
      "text/html": [
       "<!DOCTYPE html PUBLIC \"-//W3C//DTD HTML 4.01//EN\"\n",
       "   \"http://www.w3.org/TR/html4/strict.dtd\">\n",
       "\n",
       "<html>\n",
       "<head>\n",
       "  <title></title>\n",
       "  <meta http-equiv=\"content-type\" content=\"text/html; charset=None\">\n",
       "  <style type=\"text/css\">\n",
       "td.linenos { background-color: #f0f0f0; padding-right: 10px; }\n",
       "span.lineno { background-color: #f0f0f0; padding: 0 5px 0 5px; }\n",
       "pre { line-height: 125%; }\n",
       "body .hll { background-color: #ffffcc }\n",
       "body  { background: #f8f8f8; }\n",
       "body .c { color: #408080; font-style: italic } /* Comment */\n",
       "body .err { border: 1px solid #FF0000 } /* Error */\n",
       "body .k { color: #008000; font-weight: bold } /* Keyword */\n",
       "body .o { color: #666666 } /* Operator */\n",
       "body .ch { color: #408080; font-style: italic } /* Comment.Hashbang */\n",
       "body .cm { color: #408080; font-style: italic } /* Comment.Multiline */\n",
       "body .cp { color: #BC7A00 } /* Comment.Preproc */\n",
       "body .cpf { color: #408080; font-style: italic } /* Comment.PreprocFile */\n",
       "body .c1 { color: #408080; font-style: italic } /* Comment.Single */\n",
       "body .cs { color: #408080; font-style: italic } /* Comment.Special */\n",
       "body .gd { color: #A00000 } /* Generic.Deleted */\n",
       "body .ge { font-style: italic } /* Generic.Emph */\n",
       "body .gr { color: #FF0000 } /* Generic.Error */\n",
       "body .gh { color: #000080; font-weight: bold } /* Generic.Heading */\n",
       "body .gi { color: #00A000 } /* Generic.Inserted */\n",
       "body .go { color: #888888 } /* Generic.Output */\n",
       "body .gp { color: #000080; font-weight: bold } /* Generic.Prompt */\n",
       "body .gs { font-weight: bold } /* Generic.Strong */\n",
       "body .gu { color: #800080; font-weight: bold } /* Generic.Subheading */\n",
       "body .gt { color: #0044DD } /* Generic.Traceback */\n",
       "body .kc { color: #008000; font-weight: bold } /* Keyword.Constant */\n",
       "body .kd { color: #008000; font-weight: bold } /* Keyword.Declaration */\n",
       "body .kn { color: #008000; font-weight: bold } /* Keyword.Namespace */\n",
       "body .kp { color: #008000 } /* Keyword.Pseudo */\n",
       "body .kr { color: #008000; font-weight: bold } /* Keyword.Reserved */\n",
       "body .kt { color: #B00040 } /* Keyword.Type */\n",
       "body .m { color: #666666 } /* Literal.Number */\n",
       "body .s { color: #BA2121 } /* Literal.String */\n",
       "body .na { color: #7D9029 } /* Name.Attribute */\n",
       "body .nb { color: #008000 } /* Name.Builtin */\n",
       "body .nc { color: #0000FF; font-weight: bold } /* Name.Class */\n",
       "body .no { color: #880000 } /* Name.Constant */\n",
       "body .nd { color: #AA22FF } /* Name.Decorator */\n",
       "body .ni { color: #999999; font-weight: bold } /* Name.Entity */\n",
       "body .ne { color: #D2413A; font-weight: bold } /* Name.Exception */\n",
       "body .nf { color: #0000FF } /* Name.Function */\n",
       "body .nl { color: #A0A000 } /* Name.Label */\n",
       "body .nn { color: #0000FF; font-weight: bold } /* Name.Namespace */\n",
       "body .nt { color: #008000; font-weight: bold } /* Name.Tag */\n",
       "body .nv { color: #19177C } /* Name.Variable */\n",
       "body .ow { color: #AA22FF; font-weight: bold } /* Operator.Word */\n",
       "body .w { color: #bbbbbb } /* Text.Whitespace */\n",
       "body .mb { color: #666666 } /* Literal.Number.Bin */\n",
       "body .mf { color: #666666 } /* Literal.Number.Float */\n",
       "body .mh { color: #666666 } /* Literal.Number.Hex */\n",
       "body .mi { color: #666666 } /* Literal.Number.Integer */\n",
       "body .mo { color: #666666 } /* Literal.Number.Oct */\n",
       "body .sa { color: #BA2121 } /* Literal.String.Affix */\n",
       "body .sb { color: #BA2121 } /* Literal.String.Backtick */\n",
       "body .sc { color: #BA2121 } /* Literal.String.Char */\n",
       "body .dl { color: #BA2121 } /* Literal.String.Delimiter */\n",
       "body .sd { color: #BA2121; font-style: italic } /* Literal.String.Doc */\n",
       "body .s2 { color: #BA2121 } /* Literal.String.Double */\n",
       "body .se { color: #BB6622; font-weight: bold } /* Literal.String.Escape */\n",
       "body .sh { color: #BA2121 } /* Literal.String.Heredoc */\n",
       "body .si { color: #BB6688; font-weight: bold } /* Literal.String.Interpol */\n",
       "body .sx { color: #008000 } /* Literal.String.Other */\n",
       "body .sr { color: #BB6688 } /* Literal.String.Regex */\n",
       "body .s1 { color: #BA2121 } /* Literal.String.Single */\n",
       "body .ss { color: #19177C } /* Literal.String.Symbol */\n",
       "body .bp { color: #008000 } /* Name.Builtin.Pseudo */\n",
       "body .fm { color: #0000FF } /* Name.Function.Magic */\n",
       "body .vc { color: #19177C } /* Name.Variable.Class */\n",
       "body .vg { color: #19177C } /* Name.Variable.Global */\n",
       "body .vi { color: #19177C } /* Name.Variable.Instance */\n",
       "body .vm { color: #19177C } /* Name.Variable.Magic */\n",
       "body .il { color: #666666 } /* Literal.Number.Integer.Long */\n",
       "\n",
       "  </style>\n",
       "</head>\n",
       "<body>\n",
       "<h2></h2>\n",
       "\n",
       "<div class=\"highlight\"><pre><span></span><span class=\"k\">def</span> <span class=\"nf\">make_scf_input</span><span class=\"p\">(</span><span class=\"n\">ecut</span><span class=\"o\">=</span><span class=\"mi\">2</span><span class=\"p\">,</span> <span class=\"n\">ngkpt</span><span class=\"o\">=</span><span class=\"p\">(</span><span class=\"mi\">4</span><span class=\"p\">,</span> <span class=\"mi\">4</span><span class=\"p\">,</span> <span class=\"mi\">4</span><span class=\"p\">)):</span>\n",
       "    <span class=\"sd\">&quot;&quot;&quot;</span>\n",
       "<span class=\"sd\">    This function constructs an `AbinitInput` to perform a GS-SCF calculation in crystalline AlAs.</span>\n",
       "\n",
       "<span class=\"sd\">    Args:</span>\n",
       "<span class=\"sd\">        ecut: cutoff energy in Ha.</span>\n",
       "<span class=\"sd\">        ngkpt: 3 integers specifying the k-mesh for the electrons.</span>\n",
       "\n",
       "<span class=\"sd\">    Return:</span>\n",
       "<span class=\"sd\">        `AbinitInput` object</span>\n",
       "<span class=\"sd\">    &quot;&quot;&quot;</span>\n",
       "    <span class=\"c1\"># Initialize the AlAs structure from an internal database. Use the pseudos shipped with AbiPy.</span>\n",
       "    <span class=\"n\">gs_inp</span> <span class=\"o\">=</span> <span class=\"n\">abilab</span><span class=\"o\">.</span><span class=\"n\">AbinitInput</span><span class=\"p\">(</span><span class=\"n\">structure</span><span class=\"o\">=</span><span class=\"n\">abidata</span><span class=\"o\">.</span><span class=\"n\">structure_from_ucell</span><span class=\"p\">(</span><span class=\"s2\">&quot;AlAs&quot;</span><span class=\"p\">),</span>\n",
       "                                <span class=\"n\">pseudos</span><span class=\"o\">=</span><span class=\"n\">abidata</span><span class=\"o\">.</span><span class=\"n\">pseudos</span><span class=\"p\">(</span><span class=\"s2\">&quot;13al.981214.fhi&quot;</span><span class=\"p\">,</span> <span class=\"s2\">&quot;33as.pspnc&quot;</span><span class=\"p\">))</span>\n",
       "\n",
       "    <span class=\"c1\"># Set the value of the Abinit variables needed for GS runs.</span>\n",
       "    <span class=\"n\">gs_inp</span><span class=\"o\">.</span><span class=\"n\">set_vars</span><span class=\"p\">(</span>\n",
       "        <span class=\"n\">nband</span><span class=\"o\">=</span><span class=\"mi\">4</span><span class=\"p\">,</span>\n",
       "        <span class=\"n\">ecut</span><span class=\"o\">=</span><span class=\"n\">ecut</span><span class=\"p\">,</span>\n",
       "        <span class=\"n\">ngkpt</span><span class=\"o\">=</span><span class=\"n\">ngkpt</span><span class=\"p\">,</span>\n",
       "        <span class=\"n\">nshiftk</span><span class=\"o\">=</span><span class=\"mi\">4</span><span class=\"p\">,</span>\n",
       "        <span class=\"n\">shiftk</span><span class=\"o\">=</span><span class=\"p\">[</span><span class=\"mf\">0.0</span><span class=\"p\">,</span> <span class=\"mf\">0.0</span><span class=\"p\">,</span> <span class=\"mf\">0.5</span><span class=\"p\">,</span>   <span class=\"c1\"># This gives the usual fcc Monkhorst-Pack grid</span>\n",
       "                <span class=\"mf\">0.0</span><span class=\"p\">,</span> <span class=\"mf\">0.5</span><span class=\"p\">,</span> <span class=\"mf\">0.0</span><span class=\"p\">,</span>\n",
       "                <span class=\"mf\">0.5</span><span class=\"p\">,</span> <span class=\"mf\">0.0</span><span class=\"p\">,</span> <span class=\"mf\">0.0</span><span class=\"p\">,</span>\n",
       "                <span class=\"mf\">0.5</span><span class=\"p\">,</span> <span class=\"mf\">0.5</span><span class=\"p\">,</span> <span class=\"mf\">0.5</span><span class=\"p\">],</span>\n",
       "        <span class=\"n\">ixc</span><span class=\"o\">=</span><span class=\"mi\">1</span><span class=\"p\">,</span>\n",
       "        <span class=\"n\">nstep</span><span class=\"o\">=</span><span class=\"mi\">25</span><span class=\"p\">,</span>\n",
       "        <span class=\"n\">diemac</span><span class=\"o\">=</span><span class=\"mf\">9.0</span><span class=\"p\">,</span>\n",
       "        <span class=\"n\">tolvrs</span><span class=\"o\">=</span><span class=\"mf\">1.0e-10</span><span class=\"p\">,</span>\n",
       "        <span class=\"c1\">#iomode=3,</span>\n",
       "    <span class=\"p\">)</span>\n",
       "\n",
       "    <span class=\"k\">return</span> <span class=\"n\">gs_inp</span>\n",
       "</pre></div>\n",
       "</body>\n",
       "</html>\n"
      ],
      "text/plain": [
       "<IPython.core.display.HTML object>"
      ]
     },
     "execution_count": 2,
     "metadata": {},
     "output_type": "execute_result"
    }
   ],
   "source": [
    "from lesson_dfpt import make_scf_input\n",
    "abilab.print_source(make_scf_input)"
   ]
  },
  {
   "cell_type": "markdown",
   "metadata": {},
   "source": [
    "The function makes some assumptions for important parameters such as \n",
    "the crystalline structure and the pseudos. \n",
    "This is done on purpose to keep the code as simple as possible.\n",
    "It should not be so difficult to generalize the implementation to take into account other cases.\n",
    "Let's start to play with our new function:"
   ]
  },
  {
   "cell_type": "code",
   "execution_count": 3,
   "metadata": {
    "collapsed": false,
    "scrolled": false
   },
   "outputs": [
    {
     "data": {
      "text/html": [
       "############################################################################################<br>#                                       SECTION: basic                                      <br>############################################################################################<br> <a href=\"https://docs.abinit.org/variables/basic#nband\" target=\"_blank\">nband</a> 4<br> <a href=\"https://docs.abinit.org/variables/basic#ecut\" target=\"_blank\">ecut</a> 2<br> <a href=\"https://docs.abinit.org/variables/basic#ngkpt\" target=\"_blank\">ngkpt</a> 4 4 4<br> <a href=\"https://docs.abinit.org/variables/basic#nshiftk\" target=\"_blank\">nshiftk</a> 4<br> <a href=\"https://docs.abinit.org/variables/basic#shiftk\" target=\"_blank\">shiftk</a><br>    0.0    0.0    0.5<br>    0.0    0.5    0.0<br>    0.5    0.0    0.0<br>    0.5    0.5    0.5<br> <a href=\"https://docs.abinit.org/variables/basic#ixc\" target=\"_blank\">ixc</a> 1<br> <a href=\"https://docs.abinit.org/variables/basic#nstep\" target=\"_blank\">nstep</a> 25<br> <a href=\"https://docs.abinit.org/variables/basic#tolvrs\" target=\"_blank\">tolvrs</a> 1e-10<br>############################################################################################<br>#                                      SECTION: gstate                                      <br>############################################################################################<br> <a href=\"https://docs.abinit.org/variables/gstate#diemac\" target=\"_blank\">diemac</a> 9.0<br>############################################################################################<br>#                                         STRUCTURE                                         <br>############################################################################################<br> <a href=\"https://docs.abinit.org/variables/basic#natom\" target=\"_blank\">natom</a> 2<br> <a href=\"https://docs.abinit.org/variables/basic#ntypat\" target=\"_blank\">ntypat</a> 2<br> <a href=\"https://docs.abinit.org/variables/basic#typat\" target=\"_blank\">typat</a> 1 2<br> <a href=\"https://docs.abinit.org/variables/basic#znucl\" target=\"_blank\">znucl</a> 13 33<br> <a href=\"https://docs.abinit.org/variables/basic#xred\" target=\"_blank\">xred</a><br>    0.0000000000    0.0000000000    0.0000000000<br>    0.2500000000    0.2500000000    0.2500000000<br> <a href=\"https://docs.abinit.org/variables/basic#acell\" target=\"_blank\">acell</a>    1.0    1.0    1.0<br> <a href=\"https://docs.abinit.org/variables/basic#rprim\" target=\"_blank\">rprim</a><br>    0.0000000000    5.3050000000    5.3050000000<br>    5.3050000000    0.0000000000    5.3050000000<br>    5.3050000000    5.3050000000    0.0000000000"
      ],
      "text/plain": [
       "<AbinitInput at 26266033680>"
      ]
     },
     "execution_count": 3,
     "metadata": {},
     "output_type": "execute_result"
    }
   ],
   "source": [
    "scf_input = make_scf_input()\n",
    "scf_input"
   ]
  },
  {
   "cell_type": "code",
   "execution_count": 4,
   "metadata": {
    "collapsed": false
   },
   "outputs": [
    {
     "name": "stdout",
     "output_type": "stream",
     "text": [
      "Full Formula (Al1 As1)\n",
      "Reduced Formula: AlAs\n",
      "abc   :   3.970101   3.970101   3.970101\n",
      "angles:  60.000000  60.000000  60.000000\n",
      "Sites (2)\n",
      "  #  SP       a     b     c\n",
      "---  ----  ----  ----  ----\n",
      "  0  Al    0     0     0\n",
      "  1  As    0.25  0.25  0.25\n"
     ]
    }
   ],
   "source": [
    "print(scf_input.structure)"
   ]
  },
  {
   "cell_type": "code",
   "execution_count": 5,
   "metadata": {
    "collapsed": false
   },
   "outputs": [
    {
     "data": {
      "image/png": "[encoded data removed]",
      "text/plain": [
       "<Figure size 432x288 with 1 Axes>"
      ]
     },
     "metadata": {},
     "output_type": "display_data"
    }
   ],
   "source": [
    "scf_input.structure.plot();"
   ]
  },
  {
   "cell_type": "markdown",
   "metadata": {},
   "source": [
    "We are using the same pseudopotentials than the official tutorial.\n",
    "Note that the xc functional is LDA in both pseudos but with a different\n",
    "parametrization. This is the reason why we are using `ixc` in the input file."
   ]
  },
  {
   "cell_type": "code",
   "execution_count": 6,
   "metadata": {
    "collapsed": false
   },
   "outputs": [
    {
     "name": "stdout",
     "output_type": "stream",
     "text": [
      "<NcAbinitPseudo: 13al.981214.fhi>\n",
      "  summary: Aluminum, fhi98PP : Hamann-type, LDA CA PerdewWang, l=2 local\n",
      "  number of valence electrons: 3.0\n",
      "  maximum angular momentum: d\n",
      "  angular momentum for local part: d\n",
      "  XC correlation: PW\n",
      "  supports spin-orbit: False\n",
      "  radius for non-linear core correction: 0.0\n",
      "  hint for low accuracy: ecut: 0.0, pawecutdg: 0.0\n",
      "  hint for normal accuracy: ecut: 0.0, pawecutdg: 0.0\n",
      "  hint for high accuracy: ecut: 0.0, pawecutdg: 0.0 \n",
      "\n",
      "<NcAbinitPseudo: 33as.pspnc>\n",
      "  summary: Troullier-Martins psp for element  As        Thu Oct 27 17:37:14 EDT 1994\n",
      "  number of valence electrons: 5.0\n",
      "  maximum angular momentum: p\n",
      "  angular momentum for local part: p\n",
      "  XC correlation: LDA_XC_TETER93\n",
      "  supports spin-orbit: False\n",
      "  radius for non-linear core correction: 2.0573171556401\n",
      "  hint for low accuracy: ecut: 0.0, pawecutdg: 0.0\n",
      "  hint for normal accuracy: ecut: 0.0, pawecutdg: 0.0\n",
      "  hint for high accuracy: ecut: 0.0, pawecutdg: 0.0 \n",
      "\n"
     ]
    }
   ],
   "source": [
    "for pseudo in scf_input.pseudos:\n",
    "    print(pseudo, \"\\n\")"
   ]
  },
  {
   "cell_type": "markdown",
   "metadata": {},
   "source": [
    "As you can see, we essentialy have a standard input to perform a GS calculation. This object will represent\n",
    "the **building block** for our DFPT calculation with AbiPy.\n",
    "\n",
    "It this is not your first time you use the DFPT part of Abinit, you already know that phonon calculations\n",
    "require an initial GS run to produce the `WFK` file \n",
    "followed by a DFPT run that reads the `WFK` file and solves the Sternheimer equations for $N_{\\text{irred}}(q)$ \n",
    "atomic perturbations where $N_{\\text{irred}}$ is the number of independent atomic displacements (assuming $q$ belongs to the k-mesh).\n",
    "\n",
    "If you try to do a convergence study wrt `ecut` **without multi-datasets**, you will likely start from an initial GS input file with a given value of `ecut`, use it as a template to generate the DFPT input files, create symbolic \n",
    "links to the `WFK` file produced in the first GS step and then instruct Abinit to read this file with `irdwfk`.\n",
    "Once you have a set of input files that work for a particular `ecut`, one can simply replicate the set of \n",
    "directories and files and use a script to change the value of `ecut` in the input files.\n",
    "Then, of course, one has to run the calculations manually, collect the results and produce nice plots to understand\n",
    "what is happening.\n",
    "\n",
    "This approach is obviously boring and error-prone if you are a human being but it is easy to implement in an algorithm \n",
    "and machines do not complain if they have a lot of repetive work to do!\n",
    "There are also several **technical advantages** in using this **task-based approach vs multi-datasets** but we discuss this point in more details afterwards. \n",
    "\n",
    "If the machine could speak, it will tell you: give me an object that represents an input for GS calculations,\n",
    "give me the list of q-points you want to compute as well as the parameters that must be changed in the initial input \n",
    "and I will generate a `Flow` for DFPT calculations.\n",
    "This logic appears so frequenty that we decided to encapsulate it in the `flowtk.phonon_conv_flow` factory function: "
   ]
  },
  {
   "cell_type": "code",
   "execution_count": 7,
   "metadata": {
    "collapsed": false
   },
   "outputs": [
    {
     "data": {
      "text/html": [
       "<!DOCTYPE html PUBLIC \"-//W3C//DTD HTML 4.01//EN\"\n",
       "   \"http://www.w3.org/TR/html4/strict.dtd\">\n",
       "\n",
       "<html>\n",
       "<head>\n",
       "  <title></title>\n",
       "  <meta http-equiv=\"content-type\" content=\"text/html; charset=None\">\n",
       "  <style type=\"text/css\">\n",
       "td.linenos { background-color: #f0f0f0; padding-right: 10px; }\n",
       "span.lineno { background-color: #f0f0f0; padding: 0 5px 0 5px; }\n",
       "pre { line-height: 125%; }\n",
       "body .hll { background-color: #ffffcc }\n",
       "body  { background: #f8f8f8; }\n",
       "body .c { color: #408080; font-style: italic } /* Comment */\n",
       "body .err { border: 1px solid #FF0000 } /* Error */\n",
       "body .k { color: #008000; font-weight: bold } /* Keyword */\n",
       "body .o { color: #666666 } /* Operator */\n",
       "body .ch { color: #408080; font-style: italic } /* Comment.Hashbang */\n",
       "body .cm { color: #408080; font-style: italic } /* Comment.Multiline */\n",
       "body .cp { color: #BC7A00 } /* Comment.Preproc */\n",
       "body .cpf { color: #408080; font-style: italic } /* Comment.PreprocFile */\n",
       "body .c1 { color: #408080; font-style: italic } /* Comment.Single */\n",
       "body .cs { color: #408080; font-style: italic } /* Comment.Special */\n",
       "body .gd { color: #A00000 } /* Generic.Deleted */\n",
       "body .ge { font-style: italic } /* Generic.Emph */\n",
       "body .gr { color: #FF0000 } /* Generic.Error */\n",
       "body .gh { color: #000080; font-weight: bold } /* Generic.Heading */\n",
       "body .gi { color: #00A000 } /* Generic.Inserted */\n",
       "body .go { color: #888888 } /* Generic.Output */\n",
       "body .gp { color: #000080; font-weight: bold } /* Generic.Prompt */\n",
       "body .gs { font-weight: bold } /* Generic.Strong */\n",
       "body .gu { color: #800080; font-weight: bold } /* Generic.Subheading */\n",
       "body .gt { color: #0044DD } /* Generic.Traceback */\n",
       "body .kc { color: #008000; font-weight: bold } /* Keyword.Constant */\n",
       "body .kd { color: #008000; font-weight: bold } /* Keyword.Declaration */\n",
       "body .kn { color: #008000; font-weight: bold } /* Keyword.Namespace */\n",
       "body .kp { color: #008000 } /* Keyword.Pseudo */\n",
       "body .kr { color: #008000; font-weight: bold } /* Keyword.Reserved */\n",
       "body .kt { color: #B00040 } /* Keyword.Type */\n",
       "body .m { color: #666666 } /* Literal.Number */\n",
       "body .s { color: #BA2121 } /* Literal.String */\n",
       "body .na { color: #7D9029 } /* Name.Attribute */\n",
       "body .nb { color: #008000 } /* Name.Builtin */\n",
       "body .nc { color: #0000FF; font-weight: bold } /* Name.Class */\n",
       "body .no { color: #880000 } /* Name.Constant */\n",
       "body .nd { color: #AA22FF } /* Name.Decorator */\n",
       "body .ni { color: #999999; font-weight: bold } /* Name.Entity */\n",
       "body .ne { color: #D2413A; font-weight: bold } /* Name.Exception */\n",
       "body .nf { color: #0000FF } /* Name.Function */\n",
       "body .nl { color: #A0A000 } /* Name.Label */\n",
       "body .nn { color: #0000FF; font-weight: bold } /* Name.Namespace */\n",
       "body .nt { color: #008000; font-weight: bold } /* Name.Tag */\n",
       "body .nv { color: #19177C } /* Name.Variable */\n",
       "body .ow { color: #AA22FF; font-weight: bold } /* Operator.Word */\n",
       "body .w { color: #bbbbbb } /* Text.Whitespace */\n",
       "body .mb { color: #666666 } /* Literal.Number.Bin */\n",
       "body .mf { color: #666666 } /* Literal.Number.Float */\n",
       "body .mh { color: #666666 } /* Literal.Number.Hex */\n",
       "body .mi { color: #666666 } /* Literal.Number.Integer */\n",
       "body .mo { color: #666666 } /* Literal.Number.Oct */\n",
       "body .sa { color: #BA2121 } /* Literal.String.Affix */\n",
       "body .sb { color: #BA2121 } /* Literal.String.Backtick */\n",
       "body .sc { color: #BA2121 } /* Literal.String.Char */\n",
       "body .dl { color: #BA2121 } /* Literal.String.Delimiter */\n",
       "body .sd { color: #BA2121; font-style: italic } /* Literal.String.Doc */\n",
       "body .s2 { color: #BA2121 } /* Literal.String.Double */\n",
       "body .se { color: #BB6622; font-weight: bold } /* Literal.String.Escape */\n",
       "body .sh { color: #BA2121 } /* Literal.String.Heredoc */\n",
       "body .si { color: #BB6688; font-weight: bold } /* Literal.String.Interpol */\n",
       "body .sx { color: #008000 } /* Literal.String.Other */\n",
       "body .sr { color: #BB6688 } /* Literal.String.Regex */\n",
       "body .s1 { color: #BA2121 } /* Literal.String.Single */\n",
       "body .ss { color: #19177C } /* Literal.String.Symbol */\n",
       "body .bp { color: #008000 } /* Name.Builtin.Pseudo */\n",
       "body .fm { color: #0000FF } /* Name.Function.Magic */\n",
       "body .vc { color: #19177C } /* Name.Variable.Class */\n",
       "body .vg { color: #19177C } /* Name.Variable.Global */\n",
       "body .vi { color: #19177C } /* Name.Variable.Instance */\n",
       "body .vm { color: #19177C } /* Name.Variable.Magic */\n",
       "body .il { color: #666666 } /* Literal.Number.Integer.Long */\n",
       "\n",
       "  </style>\n",
       "</head>\n",
       "<body>\n",
       "<h2></h2>\n",
       "\n",
       "<div class=\"highlight\"><pre><span></span><span class=\"k\">def</span> <span class=\"nf\">build_flow_alas_ecut_conv</span><span class=\"p\">(</span><span class=\"n\">options</span><span class=\"p\">):</span>\n",
       "    <span class=\"sd\">&quot;&quot;&quot;</span>\n",
       "<span class=\"sd\">    Build and return Flow for convergence study of phonon frequencies at Gamma as function of ecut.</span>\n",
       "<span class=\"sd\">    &quot;&quot;&quot;</span>\n",
       "    <span class=\"n\">scf_input</span> <span class=\"o\">=</span> <span class=\"n\">make_scf_input</span><span class=\"p\">()</span>\n",
       "    <span class=\"k\">return</span> <span class=\"n\">flowtk</span><span class=\"o\">.</span><span class=\"n\">phonon_conv_flow</span><span class=\"p\">(</span><span class=\"s2\">&quot;flow_alas_ecut_conv&quot;</span><span class=\"p\">,</span> <span class=\"n\">scf_input</span><span class=\"p\">,</span> <span class=\"n\">qpoints</span><span class=\"o\">=</span><span class=\"p\">(</span><span class=\"mi\">0</span><span class=\"p\">,</span> <span class=\"mi\">0</span><span class=\"p\">,</span> <span class=\"mi\">0</span><span class=\"p\">),</span>\n",
       "                                   <span class=\"n\">params</span><span class=\"o\">=</span><span class=\"p\">[</span><span class=\"s2\">&quot;ecut&quot;</span><span class=\"p\">,</span> <span class=\"p\">[</span><span class=\"mi\">4</span><span class=\"p\">,</span> <span class=\"mi\">6</span><span class=\"p\">,</span> <span class=\"mi\">8</span><span class=\"p\">]])</span>\n",
       "</pre></div>\n",
       "</body>\n",
       "</html>\n"
      ],
      "text/plain": [
       "<IPython.core.display.HTML object>"
      ]
     },
     "execution_count": 7,
     "metadata": {},
     "output_type": "execute_result"
    }
   ],
   "source": [
    "from lesson_dfpt import build_flow_alas_ecut_conv\n",
    "abilab.print_source(build_flow_alas_ecut_conv)"
   ]
  },
  {
   "cell_type": "markdown",
   "metadata": {},
   "source": [
    "Let's call the function to build our flow:"
   ]
  },
  {
   "cell_type": "code",
   "execution_count": 8,
   "metadata": {
    "collapsed": false
   },
   "outputs": [
    {
     "name": "stdout",
     "output_type": "stream",
     "text": [
      "<Flow, node_id=345794, workdir=flow_alas_ecut_conv>\n",
      "Number of works: 6, total number of tasks: 9\n",
      "Number of tasks with a given class:\n",
      "\n",
      "Task Class      Number\n",
      "------------  --------\n",
      "ScfTask              3\n",
      "PhononTask           6"
     ]
    }
   ],
   "source": [
    "flow = build_flow_alas_ecut_conv(options=None)\n",
    "\n",
    "flow.show_info()"
   ]
  },
  {
   "cell_type": "markdown",
   "metadata": {},
   "source": [
    "and call the `get_graphviz` method to visualize the connection among the `Tasks`:"
   ]
  },
  {
   "cell_type": "code",
   "execution_count": 9,
   "metadata": {
    "collapsed": false
   },
   "outputs": [
    {
     "data": {
      "image/svg+xml": [
       "<?xml version=\"1.0\" encoding=\"UTF-8\" standalone=\"no\"?>\n",
       "<!DOCTYPE svg PUBLIC \"-//W3C//DTD SVG 1.1//EN\"\n",
       " \"http://www.w3.org/Graphics/SVG/1.1/DTD/svg11.dtd\">\n",
       "<!-- Generated by graphviz version 2.38.0 (20140413.2041)\n",
       " -->\n",
       "<!-- Title: flow Pages: 1 -->\n",
       "<svg width=\"446pt\" height=\"335pt\"\n",
       " viewBox=\"0.00 0.00 446.00 335.00\" xmlns=\"http://www.w3.org/2000/svg\" xmlns:xlink=\"http://www.w3.org/1999/xlink\">\n",
       "<g id=\"graph0\" class=\"graph\" transform=\"scale(1 1) rotate(0) translate(4 309)\">\n",
       "<title>flow</title>\n",
       "<polygon fill=\"white\" stroke=\"none\" points=\"-4,26 -4,-309 442,-309 442,26 -4,26\"/>\n",
       "<text text-anchor=\"start\" x=\"65.3555\" y=\"15.2\" font-family=\"Times,serif\" font-size=\"14.00\">Flow, node_id=345794, workdir=flow_alas_ecut_conv</text>\n",
       "<g id=\"clust1\" class=\"cluster\"><title>clusterw0</title>\n",
       "<path fill=\"#e0eeee\" stroke=\"black\" d=\"M11.6105,-89.9412C11.6105,-89.9412 63.6105,-89.9412 63.6105,-89.9412 69.6105,-89.9412 75.6105,-95.9412 75.6105,-101.941 75.6105,-101.941 75.6105,-162.941 75.6105,-162.941 75.6105,-168.941 69.6105,-174.941 63.6105,-174.941 63.6105,-174.941 11.6105,-174.941 11.6105,-174.941 5.61046,-174.941 -0.389539,-168.941 -0.389539,-162.941 -0.389539,-162.941 -0.389539,-101.941 -0.389539,-101.941 -0.389539,-95.9412 5.61046,-89.9412 11.6105,-89.9412\"/>\n",
       "<text text-anchor=\"middle\" x=\"37.6105\" y=\"-159.741\" font-family=\"Times,serif\" font-size=\"14.00\">Work (w0)</text>\n",
       "</g>\n",
       "<g id=\"clust2\" class=\"cluster\"><title>clusterw1</title>\n",
       "<path fill=\"#e0eeee\" stroke=\"black\" d=\"M97.1581,-53.9477C97.1581,-53.9477 192.158,-53.9477 192.158,-53.9477 198.158,-53.9477 204.158,-59.9477 204.158,-65.9477 204.158,-65.9477 204.158,-166.948 204.158,-166.948 204.158,-172.948 198.158,-178.948 192.158,-178.948 192.158,-178.948 97.1581,-178.948 97.1581,-178.948 91.1581,-178.948 85.1581,-172.948 85.1581,-166.948 85.1581,-166.948 85.1581,-65.9477 85.1581,-65.9477 85.1581,-59.9477 91.1581,-53.9477 97.1581,-53.9477\"/>\n",
       "<text text-anchor=\"middle\" x=\"144.658\" y=\"-163.748\" font-family=\"Times,serif\" font-size=\"14.00\">PhononWork (w1)</text>\n",
       "</g>\n",
       "<g id=\"clust3\" class=\"cluster\"><title>clusterw2</title>\n",
       "<path fill=\"#e0eeee\" stroke=\"black\" d=\"M173.61,-215.941C173.61,-215.941 225.61,-215.941 225.61,-215.941 231.61,-215.941 237.61,-221.941 237.61,-227.941 237.61,-227.941 237.61,-288.941 237.61,-288.941 237.61,-294.941 231.61,-300.941 225.61,-300.941 225.61,-300.941 173.61,-300.941 173.61,-300.941 167.61,-300.941 161.61,-294.941 161.61,-288.941 161.61,-288.941 161.61,-227.941 161.61,-227.941 161.61,-221.941 167.61,-215.941 173.61,-215.941\"/>\n",
       "<text text-anchor=\"middle\" x=\"199.61\" y=\"-285.741\" font-family=\"Times,serif\" font-size=\"14.00\">Work (w2)</text>\n",
       "</g>\n",
       "<g id=\"clust4\" class=\"cluster\"><title>clusterw3</title>\n",
       "<path fill=\"#e0eeee\" stroke=\"black\" d=\"M259.158,-179.948C259.158,-179.948 354.158,-179.948 354.158,-179.948 360.158,-179.948 366.158,-185.948 366.158,-191.948 366.158,-191.948 366.158,-292.948 366.158,-292.948 366.158,-298.948 360.158,-304.948 354.158,-304.948 354.158,-304.948 259.158,-304.948 259.158,-304.948 253.158,-304.948 247.158,-298.948 247.158,-292.948 247.158,-292.948 247.158,-191.948 247.158,-191.948 247.158,-185.948 253.158,-179.948 259.158,-179.948\"/>\n",
       "<text text-anchor=\"middle\" x=\"306.658\" y=\"-289.748\" font-family=\"Times,serif\" font-size=\"14.00\">PhononWork (w3)</text>\n",
       "</g>\n",
       "<g id=\"clust5\" class=\"cluster\"><title>clusterw4</title>\n",
       "<path fill=\"#e0eeee\" stroke=\"black\" d=\"M245.61,-35.9412C245.61,-35.9412 297.61,-35.9412 297.61,-35.9412 303.61,-35.9412 309.61,-41.9412 309.61,-47.9412 309.61,-47.9412 309.61,-108.941 309.61,-108.941 309.61,-114.941 303.61,-120.941 297.61,-120.941 297.61,-120.941 245.61,-120.941 245.61,-120.941 239.61,-120.941 233.61,-114.941 233.61,-108.941 233.61,-108.941 233.61,-47.9412 233.61,-47.9412 233.61,-41.9412 239.61,-35.9412 245.61,-35.9412\"/>\n",
       "<text text-anchor=\"middle\" x=\"271.61\" y=\"-105.741\" font-family=\"Times,serif\" font-size=\"14.00\">Work (w4)</text>\n",
       "</g>\n",
       "<g id=\"clust6\" class=\"cluster\"><title>clusterw5</title>\n",
       "<path fill=\"#e0eeee\" stroke=\"black\" d=\"M331.158,0.0522993C331.158,0.0522993 426.158,0.0522993 426.158,0.0522993 432.158,0.0522993 438.158,-5.9477 438.158,-11.9477 438.158,-11.9477 438.158,-112.948 438.158,-112.948 438.158,-118.948 432.158,-124.948 426.158,-124.948 426.158,-124.948 331.158,-124.948 331.158,-124.948 325.158,-124.948 319.158,-118.948 319.158,-112.948 319.158,-112.948 319.158,-11.9477 319.158,-11.9477 319.158,-5.9477 325.158,0.0522993 331.158,0.0522993\"/>\n",
       "<text text-anchor=\"middle\" x=\"378.658\" y=\"-109.748\" font-family=\"Times,serif\" font-size=\"14.00\">PhononWork (w5)</text>\n",
       "</g>\n",
       "<!-- w0_t0 -->\n",
       "<g id=\"node1\" class=\"node\"><title>w0_t0</title>\n",
       "<ellipse fill=\"#ff0000\" stroke=\"#ff0000\" cx=\"38.0239\" cy=\"-115.728\" rx=\"27.8878\" ry=\"18\"/>\n",
       "<text text-anchor=\"middle\" x=\"38.0239\" y=\"-117.328\" font-family=\"Times,serif\" font-size=\"8.00\">w0_t0</text>\n",
       "<text text-anchor=\"middle\" x=\"38.0239\" y=\"-109.328\" font-family=\"Times,serif\" font-size=\"8.00\">ScfTask</text>\n",
       "</g>\n",
       "<!-- w1_t0 -->\n",
       "<g id=\"node2\" class=\"node\"><title>w1_t0</title>\n",
       "<ellipse fill=\"#0096fa\" stroke=\"#0096fa\" cx=\"148.042\" cy=\"-79.8707\" rx=\"37.3834\" ry=\"18\"/>\n",
       "<text text-anchor=\"middle\" x=\"148.042\" y=\"-81.4707\" font-family=\"Times,serif\" font-size=\"8.00\">w1_t0</text>\n",
       "<text text-anchor=\"middle\" x=\"148.042\" y=\"-73.4707\" font-family=\"Times,serif\" font-size=\"8.00\">PhononTask</text>\n",
       "</g>\n",
       "<!-- w0_t0&#45;&gt;w1_t0 -->\n",
       "<g id=\"edge1\" class=\"edge\"><title>w0_t0&#45;&gt;w1_t0</title>\n",
       "<path fill=\"none\" stroke=\"#ff0000\" d=\"M62.9887,-107.592C76.0943,-103.32 92.4819,-97.979 107.365,-93.1283\"/>\n",
       "<polygon fill=\"#ff0000\" stroke=\"#ff0000\" points=\"108.455,-96.4543 116.878,-90.0277 106.286,-89.7988 108.455,-96.4543\"/>\n",
       "<text text-anchor=\"middle\" x=\"92.9544\" y=\"-89.16\" font-family=\"Times,serif\" font-size=\"14.00\">WFK</text>\n",
       "</g>\n",
       "<!-- w1_t1 -->\n",
       "<g id=\"node3\" class=\"node\"><title>w1_t1</title>\n",
       "<ellipse fill=\"#0096fa\" stroke=\"#0096fa\" cx=\"152.001\" cy=\"-130.774\" rx=\"37.3834\" ry=\"18\"/>\n",
       "<text text-anchor=\"middle\" x=\"152.001\" y=\"-132.374\" font-family=\"Times,serif\" font-size=\"8.00\">w1_t1</text>\n",
       "<text text-anchor=\"middle\" x=\"152.001\" y=\"-124.374\" font-family=\"Times,serif\" font-size=\"8.00\">PhononTask</text>\n",
       "</g>\n",
       "<!-- w0_t0&#45;&gt;w1_t1 -->\n",
       "<g id=\"edge2\" class=\"edge\"><title>w0_t0&#45;&gt;w1_t1</title>\n",
       "<path fill=\"none\" stroke=\"#ff0000\" d=\"M65.6146,-119.37C77.6896,-120.964 92.1894,-122.878 105.831,-124.679\"/>\n",
       "<polygon fill=\"#ff0000\" stroke=\"#ff0000\" points=\"105.669,-128.188 116.041,-126.027 106.585,-121.248 105.669,-128.188\"/>\n",
       "<text text-anchor=\"middle\" x=\"93.5003\" y=\"-110.825\" font-family=\"Times,serif\" font-size=\"14.00\">WFK</text>\n",
       "</g>\n",
       "<!-- w2_t0 -->\n",
       "<g id=\"node4\" class=\"node\"><title>w2_t0</title>\n",
       "<ellipse fill=\"#ff0000\" stroke=\"#ff0000\" cx=\"200.024\" cy=\"-241.728\" rx=\"27.8878\" ry=\"18\"/>\n",
       "<text text-anchor=\"middle\" x=\"200.024\" y=\"-243.328\" font-family=\"Times,serif\" font-size=\"8.00\">w2_t0</text>\n",
       "<text text-anchor=\"middle\" x=\"200.024\" y=\"-235.328\" font-family=\"Times,serif\" font-size=\"8.00\">ScfTask</text>\n",
       "</g>\n",
       "<!-- w3_t0 -->\n",
       "<g id=\"node5\" class=\"node\"><title>w3_t0</title>\n",
       "<ellipse fill=\"#0096fa\" stroke=\"#0096fa\" cx=\"310.042\" cy=\"-205.871\" rx=\"37.3834\" ry=\"18\"/>\n",
       "<text text-anchor=\"middle\" x=\"310.042\" y=\"-207.471\" font-family=\"Times,serif\" font-size=\"8.00\">w3_t0</text>\n",
       "<text text-anchor=\"middle\" x=\"310.042\" y=\"-199.471\" font-family=\"Times,serif\" font-size=\"8.00\">PhononTask</text>\n",
       "</g>\n",
       "<!-- w2_t0&#45;&gt;w3_t0 -->\n",
       "<g id=\"edge3\" class=\"edge\"><title>w2_t0&#45;&gt;w3_t0</title>\n",
       "<path fill=\"none\" stroke=\"#ff0000\" d=\"M224.989,-233.592C238.094,-229.32 254.482,-223.979 269.365,-219.128\"/>\n",
       "<polygon fill=\"#ff0000\" stroke=\"#ff0000\" points=\"270.455,-222.454 278.878,-216.028 268.286,-215.799 270.455,-222.454\"/>\n",
       "<text text-anchor=\"middle\" x=\"254.954\" y=\"-215.16\" font-family=\"Times,serif\" font-size=\"14.00\">WFK</text>\n",
       "</g>\n",
       "<!-- w3_t1 -->\n",
       "<g id=\"node6\" class=\"node\"><title>w3_t1</title>\n",
       "<ellipse fill=\"#0096fa\" stroke=\"#0096fa\" cx=\"314.001\" cy=\"-256.774\" rx=\"37.3834\" ry=\"18\"/>\n",
       "<text text-anchor=\"middle\" x=\"314.001\" y=\"-258.374\" font-family=\"Times,serif\" font-size=\"8.00\">w3_t1</text>\n",
       "<text text-anchor=\"middle\" x=\"314.001\" y=\"-250.374\" font-family=\"Times,serif\" font-size=\"8.00\">PhononTask</text>\n",
       "</g>\n",
       "<!-- w2_t0&#45;&gt;w3_t1 -->\n",
       "<g id=\"edge4\" class=\"edge\"><title>w2_t0&#45;&gt;w3_t1</title>\n",
       "<path fill=\"none\" stroke=\"#ff0000\" d=\"M227.615,-245.37C239.69,-246.964 254.189,-248.878 267.831,-250.679\"/>\n",
       "<polygon fill=\"#ff0000\" stroke=\"#ff0000\" points=\"267.669,-254.188 278.041,-252.027 268.585,-247.248 267.669,-254.188\"/>\n",
       "<text text-anchor=\"middle\" x=\"255.5\" y=\"-236.825\" font-family=\"Times,serif\" font-size=\"14.00\">WFK</text>\n",
       "</g>\n",
       "<!-- w4_t0 -->\n",
       "<g id=\"node7\" class=\"node\"><title>w4_t0</title>\n",
       "<ellipse fill=\"#ff0000\" stroke=\"#ff0000\" cx=\"272.024\" cy=\"-61.7282\" rx=\"27.8878\" ry=\"18\"/>\n",
       "<text text-anchor=\"middle\" x=\"272.024\" y=\"-63.3282\" font-family=\"Times,serif\" font-size=\"8.00\">w4_t0</text>\n",
       "<text text-anchor=\"middle\" x=\"272.024\" y=\"-55.3282\" font-family=\"Times,serif\" font-size=\"8.00\">ScfTask</text>\n",
       "</g>\n",
       "<!-- w5_t0 -->\n",
       "<g id=\"node8\" class=\"node\"><title>w5_t0</title>\n",
       "<ellipse fill=\"#0096fa\" stroke=\"#0096fa\" cx=\"382.042\" cy=\"-25.8707\" rx=\"37.3834\" ry=\"18\"/>\n",
       "<text text-anchor=\"middle\" x=\"382.042\" y=\"-27.4707\" font-family=\"Times,serif\" font-size=\"8.00\">w5_t0</text>\n",
       "<text text-anchor=\"middle\" x=\"382.042\" y=\"-19.4707\" font-family=\"Times,serif\" font-size=\"8.00\">PhononTask</text>\n",
       "</g>\n",
       "<!-- w4_t0&#45;&gt;w5_t0 -->\n",
       "<g id=\"edge5\" class=\"edge\"><title>w4_t0&#45;&gt;w5_t0</title>\n",
       "<path fill=\"none\" stroke=\"#ff0000\" d=\"M296.989,-53.5916C310.094,-49.3202 326.482,-43.979 341.365,-39.1283\"/>\n",
       "<polygon fill=\"#ff0000\" stroke=\"#ff0000\" points=\"342.455,-42.4543 350.878,-36.0277 340.286,-35.7988 342.455,-42.4543\"/>\n",
       "<text text-anchor=\"middle\" x=\"326.954\" y=\"-35.16\" font-family=\"Times,serif\" font-size=\"14.00\">WFK</text>\n",
       "</g>\n",
       "<!-- w5_t1 -->\n",
       "<g id=\"node9\" class=\"node\"><title>w5_t1</title>\n",
       "<ellipse fill=\"#0096fa\" stroke=\"#0096fa\" cx=\"386.001\" cy=\"-76.7737\" rx=\"37.3834\" ry=\"18\"/>\n",
       "<text text-anchor=\"middle\" x=\"386.001\" y=\"-78.3737\" font-family=\"Times,serif\" font-size=\"8.00\">w5_t1</text>\n",
       "<text text-anchor=\"middle\" x=\"386.001\" y=\"-70.3737\" font-family=\"Times,serif\" font-size=\"8.00\">PhononTask</text>\n",
       "</g>\n",
       "<!-- w4_t0&#45;&gt;w5_t1 -->\n",
       "<g id=\"edge6\" class=\"edge\"><title>w4_t0&#45;&gt;w5_t1</title>\n",
       "<path fill=\"none\" stroke=\"#ff0000\" d=\"M299.615,-65.3703C311.69,-66.9643 326.189,-68.8783 339.831,-70.679\"/>\n",
       "<polygon fill=\"#ff0000\" stroke=\"#ff0000\" points=\"339.669,-74.1879 350.041,-72.0268 340.585,-67.2481 339.669,-74.1879\"/>\n",
       "<text text-anchor=\"middle\" x=\"327.5\" y=\"-56.8247\" font-family=\"Times,serif\" font-size=\"14.00\">WFK</text>\n",
       "</g>\n",
       "</g>\n",
       "</svg>\n"
      ],
      "text/plain": [
       "<graphviz.dot.Digraph at 0x1a2ab95908>"
      ]
     },
     "execution_count": 9,
     "metadata": {},
     "output_type": "execute_result"
    }
   ],
   "source": [
    "flow.get_graphviz()"
   ]
  },
  {
   "cell_type": "code",
   "execution_count": 10,
   "metadata": {
    "collapsed": true
   },
   "outputs": [],
   "source": [
    "# matplotlib version based on networkx\n",
    "#flow.plot_networkx(with_edge_labels=True);"
   ]
  },
  {
   "cell_type": "markdown",
   "metadata": {},
   "source": [
    "The flow contains three independent groups of tasks, one group per each value of `ecut` specified in `params`."
   ]
  },
  {
   "cell_type": "code",
   "execution_count": 11,
   "metadata": {
    "collapsed": false
   },
   "outputs": [
    {
     "name": "stdout",
     "output_type": "stream",
     "text": [
      "w0_t0 uses ecut: 4\n",
      "w1_t0 uses ecut: 4\n",
      "w1_t1 uses ecut: 4\n",
      "w2_t0 uses ecut: 6\n",
      "w3_t0 uses ecut: 6\n",
      "w3_t1 uses ecut: 6\n",
      "w4_t0 uses ecut: 8\n",
      "w5_t0 uses ecut: 8\n",
      "w5_t1 uses ecut: 8\n"
     ]
    }
   ],
   "source": [
    "for work in flow:\n",
    "    for task in work:\n",
    "        print(task.pos_str, \"uses ecut:\", task.input[\"ecut\"])"
   ]
  },
  {
   "cell_type": "code",
   "execution_count": 12,
   "metadata": {
    "collapsed": false
   },
   "outputs": [
    {
     "data": {
      "text/html": [
       "<div>\n",
       "<style scoped>\n",
       "    .dataframe tbody tr th:only-of-type {\n",
       "        vertical-align: middle;\n",
       "    }\n",
       "\n",
       "    .dataframe tbody tr th {\n",
       "        vertical-align: top;\n",
       "    }\n",
       "\n",
       "    .dataframe thead th {\n",
       "        text-align: right;\n",
       "    }\n",
       "</style>\n",
       "<table border=\"1\" class=\"dataframe\">\n",
       "  <thead>\n",
       "    <tr style=\"text-align: right;\">\n",
       "      <th></th>\n",
       "      <th>ecut</th>\n",
       "      <th>class</th>\n",
       "    </tr>\n",
       "  </thead>\n",
       "  <tbody>\n",
       "    <tr>\n",
       "      <th>w0_t0</th>\n",
       "      <td>4</td>\n",
       "      <td>ScfTask</td>\n",
       "    </tr>\n",
       "    <tr>\n",
       "      <th>w1_t0</th>\n",
       "      <td>4</td>\n",
       "      <td>PhononTask</td>\n",
       "    </tr>\n",
       "    <tr>\n",
       "      <th>w1_t1</th>\n",
       "      <td>4</td>\n",
       "      <td>PhononTask</td>\n",
       "    </tr>\n",
       "    <tr>\n",
       "      <th>w2_t0</th>\n",
       "      <td>6</td>\n",
       "      <td>ScfTask</td>\n",
       "    </tr>\n",
       "    <tr>\n",
       "      <th>w3_t0</th>\n",
       "      <td>6</td>\n",
       "      <td>PhononTask</td>\n",
       "    </tr>\n",
       "    <tr>\n",
       "      <th>w3_t1</th>\n",
       "      <td>6</td>\n",
       "      <td>PhononTask</td>\n",
       "    </tr>\n",
       "    <tr>\n",
       "      <th>w4_t0</th>\n",
       "      <td>8</td>\n",
       "      <td>ScfTask</td>\n",
       "    </tr>\n",
       "    <tr>\n",
       "      <th>w5_t0</th>\n",
       "      <td>8</td>\n",
       "      <td>PhononTask</td>\n",
       "    </tr>\n",
       "    <tr>\n",
       "      <th>w5_t1</th>\n",
       "      <td>8</td>\n",
       "      <td>PhononTask</td>\n",
       "    </tr>\n",
       "  </tbody>\n",
       "</table>\n",
       "</div>"
      ],
      "text/plain": [
       "       ecut       class\n",
       "w0_t0     4     ScfTask\n",
       "w1_t0     4  PhononTask\n",
       "w1_t1     4  PhononTask\n",
       "w2_t0     6     ScfTask\n",
       "w3_t0     6  PhononTask\n",
       "w3_t1     6  PhononTask\n",
       "w4_t0     8     ScfTask\n",
       "w5_t0     8  PhononTask\n",
       "w5_t1     8  PhononTask"
      ]
     },
     "execution_count": 12,
     "metadata": {},
     "output_type": "execute_result"
    }
   ],
   "source": [
    "flow.get_vars_dataframe(\"ecut\")"
   ]
  },
  {
   "cell_type": "markdown",
   "metadata": {},
   "source": [
    "Each group represents a `Workflow` and consists of one `ScfTask`(red circle) that solves the `KS` equations self-consistently producing a `WFK` file that will be used by the two children (`PhononTasks` - blue circles)\n",
    "to compute the first-order change of the wavefunctions due to one of the *irreducible* atomic pertubations.\n",
    "\n",
    "Note that `phonon_conv_flow` invokes Abinit under the hood to get the list of irreducible perturbations \n",
    "and uses this information to build the flow.\n",
    "This explains why we have two `PhononTasks` per $q$-point instead of the total number of phonon modes that \n",
    "equals $3*N_{atom}=6$.\n",
    "\n",
    "Perhaps a table with the values of the input variables associated to the DFPT perturbation will help.\n",
    "`None` means that the variable is not defined in that particular input."
   ]
  },
  {
   "cell_type": "code",
   "execution_count": 13,
   "metadata": {
    "collapsed": false
   },
   "outputs": [
    {
     "data": {
      "text/html": [
       "<div>\n",
       "<style scoped>\n",
       "    .dataframe tbody tr th:only-of-type {\n",
       "        vertical-align: middle;\n",
       "    }\n",
       "\n",
       "    .dataframe tbody tr th {\n",
       "        vertical-align: top;\n",
       "    }\n",
       "\n",
       "    .dataframe thead th {\n",
       "        text-align: right;\n",
       "    }\n",
       "</style>\n",
       "<table border=\"1\" class=\"dataframe\">\n",
       "  <thead>\n",
       "    <tr style=\"text-align: right;\">\n",
       "      <th></th>\n",
       "      <th>rfphon</th>\n",
       "      <th>rfatpol</th>\n",
       "      <th>rfdir</th>\n",
       "      <th>qpt</th>\n",
       "      <th>kptopt</th>\n",
       "      <th>class</th>\n",
       "    </tr>\n",
       "  </thead>\n",
       "  <tbody>\n",
       "    <tr>\n",
       "      <th>w0_t0</th>\n",
       "      <td>None</td>\n",
       "      <td>None</td>\n",
       "      <td>None</td>\n",
       "      <td>None</td>\n",
       "      <td>None</td>\n",
       "      <td>ScfTask</td>\n",
       "    </tr>\n",
       "    <tr>\n",
       "      <th>w1_t0</th>\n",
       "      <td>1</td>\n",
       "      <td>[1, 1]</td>\n",
       "      <td>[1, 0, 0]</td>\n",
       "      <td>[0.0, 0.0, 0.0]</td>\n",
       "      <td>2</td>\n",
       "      <td>PhononTask</td>\n",
       "    </tr>\n",
       "    <tr>\n",
       "      <th>w1_t1</th>\n",
       "      <td>1</td>\n",
       "      <td>[2, 2]</td>\n",
       "      <td>[1, 0, 0]</td>\n",
       "      <td>[0.0, 0.0, 0.0]</td>\n",
       "      <td>2</td>\n",
       "      <td>PhononTask</td>\n",
       "    </tr>\n",
       "    <tr>\n",
       "      <th>w2_t0</th>\n",
       "      <td>None</td>\n",
       "      <td>None</td>\n",
       "      <td>None</td>\n",
       "      <td>None</td>\n",
       "      <td>None</td>\n",
       "      <td>ScfTask</td>\n",
       "    </tr>\n",
       "    <tr>\n",
       "      <th>w3_t0</th>\n",
       "      <td>1</td>\n",
       "      <td>[1, 1]</td>\n",
       "      <td>[1, 0, 0]</td>\n",
       "      <td>[0.0, 0.0, 0.0]</td>\n",
       "      <td>2</td>\n",
       "      <td>PhononTask</td>\n",
       "    </tr>\n",
       "    <tr>\n",
       "      <th>w3_t1</th>\n",
       "      <td>1</td>\n",
       "      <td>[2, 2]</td>\n",
       "      <td>[1, 0, 0]</td>\n",
       "      <td>[0.0, 0.0, 0.0]</td>\n",
       "      <td>2</td>\n",
       "      <td>PhononTask</td>\n",
       "    </tr>\n",
       "    <tr>\n",
       "      <th>w4_t0</th>\n",
       "      <td>None</td>\n",
       "      <td>None</td>\n",
       "      <td>None</td>\n",
       "      <td>None</td>\n",
       "      <td>None</td>\n",
       "      <td>ScfTask</td>\n",
       "    </tr>\n",
       "    <tr>\n",
       "      <th>w5_t0</th>\n",
       "      <td>1</td>\n",
       "      <td>[1, 1]</td>\n",
       "      <td>[1, 0, 0]</td>\n",
       "      <td>[0.0, 0.0, 0.0]</td>\n",
       "      <td>2</td>\n",
       "      <td>PhononTask</td>\n",
       "    </tr>\n",
       "    <tr>\n",
       "      <th>w5_t1</th>\n",
       "      <td>1</td>\n",
       "      <td>[2, 2]</td>\n",
       "      <td>[1, 0, 0]</td>\n",
       "      <td>[0.0, 0.0, 0.0]</td>\n",
       "      <td>2</td>\n",
       "      <td>PhononTask</td>\n",
       "    </tr>\n",
       "  </tbody>\n",
       "</table>\n",
       "</div>"
      ],
      "text/plain": [
       "      rfphon rfatpol      rfdir              qpt kptopt       class\n",
       "w0_t0   None    None       None             None   None     ScfTask\n",
       "w1_t0      1  [1, 1]  [1, 0, 0]  [0.0, 0.0, 0.0]      2  PhononTask\n",
       "w1_t1      1  [2, 2]  [1, 0, 0]  [0.0, 0.0, 0.0]      2  PhononTask\n",
       "w2_t0   None    None       None             None   None     ScfTask\n",
       "w3_t0      1  [1, 1]  [1, 0, 0]  [0.0, 0.0, 0.0]      2  PhononTask\n",
       "w3_t1      1  [2, 2]  [1, 0, 0]  [0.0, 0.0, 0.0]      2  PhononTask\n",
       "w4_t0   None    None       None             None   None     ScfTask\n",
       "w5_t0      1  [1, 1]  [1, 0, 0]  [0.0, 0.0, 0.0]      2  PhononTask\n",
       "w5_t1      1  [2, 2]  [1, 0, 0]  [0.0, 0.0, 0.0]      2  PhononTask"
      ]
     },
     "execution_count": 13,
     "metadata": {},
     "output_type": "execute_result"
    }
   ],
   "source": [
    "flow.get_vars_dataframe(\"rfphon\", \"rfatpol\", \"rfdir\", \"qpt\", \"kptopt\")"
   ]
  },
  {
   "cell_type": "markdown",
   "metadata": {},
   "source": [
    "If the meaning of these variables is not clear, you can consult the [Abinit documentation](https://docs.abinit.org)\n",
    "e.g. [the documentation of the rfatpol input variable](https://docs.abinit.org/variables/dfpt/#rfatpol)\n",
    "or access the documentation directly from python with: "
   ]
  },
  {
   "cell_type": "code",
   "execution_count": 14,
   "metadata": {
    "collapsed": false
   },
   "outputs": [
    {
     "data": {
      "text/html": [
       "<h2>Default value:</h2>\n",
       "<p>[1, 1]</p>\n",
       "<h2>Description:</h2>\n",
       "<p>Control the range of atoms for which displacements will be considered in\n",
       "phonon calculations (atomic polarizations), using the 2n+1 theorem.\n",
       "These values are only relevant to phonon response function calculations.\n",
       "May take values from 1 to <b>natom</b>, with <b>rfatpol</b>(1)&lt;=<b>rfatpol</b>(2).\n",
       "The atoms to be moved will be defined by the\n",
       "do-loop variable iatpol:</p>\n",
       "<ul>\n",
       "<li>do iatpol=<b>rfatpol</b>(1),<b>rfatpol</b>(2)</li>\n",
       "</ul>\n",
       "<p>For the calculation of a full dynamical matrix, use <b>rfatpol</b>(1)=1 and\n",
       "<b>rfatpol</b>(2)=<b>natom</b>, together with <b>rfdir</b> 1 1 1. For selected\n",
       "elements of the dynamical matrix, use different values of <b>rfatpol</b> and/or\n",
       "<b>rfdir</b>. The name 'iatpol' is used for the part of the internal variable\n",
       "ipert when it runs from 1 to <b>natom</b>. The internal variable ipert can also\n",
       "assume values larger than <b>natom</b>, denoting perturbations of electric field\n",
       "or stress type (see [help:respfn|the response function help file]).</p>"
      ],
      "text/plain": [
       "rfatpol  <Response Function: ATomic POLarisation>"
      ]
     },
     "execution_count": 14,
     "metadata": {},
     "output_type": "execute_result"
    }
   ],
   "source": [
    "abilab.docvar(\"rfatpol\")"
   ]
  },
  {
   "cell_type": "markdown",
   "metadata": {},
   "source": [
    "Now we can generate the `flow_alas_ecut` directory with the input files by executing \n",
    "the `lesson_dfpt.py` script.\n",
    "Then use the `abirun.py` script to launch the entire calculation with:\n",
    "\n",
    "    abirun.py flow_alas_ecut_conv scheduler\n",
    "    \n",
    "You will see that all `PhononTasks` will be executed in parallel on your machine.\n",
    "\n",
    "<div class=\"alert alert-warning\">\n",
    "Please make sure that AbiPy is properly configured by running abicheck --with flow\n",
    "</div>\n",
    "\n",
    "If you prefer to skip this part, you may want to jump to the next section, that presents the post-processing of the results.\n",
    "Note that the output files are already available in the repository so it is also possible to try \n",
    "the AbiPy post-processing tools without having to run the flow."
   ]
  },
  {
   "cell_type": "markdown",
   "metadata": {},
   "source": [
    "## Convergence study at $\\Gamma$\n",
    "[[back to top](#top)]\n",
    "\n",
    "There are several output files located inside the `outdata` directories:"
   ]
  },
  {
   "cell_type": "code",
   "execution_count": 15,
   "metadata": {
    "collapsed": false
   },
   "outputs": [
    {
     "name": "stdout",
     "output_type": "stream",
     "text": [
      "flow_alas_ecut_conv//w0/t0/outdata/out_DDB\n",
      "flow_alas_ecut_conv//w1/outdata/out_DDB\n",
      "flow_alas_ecut_conv//w2/t0/outdata/out_DDB\n",
      "flow_alas_ecut_conv//w3/outdata/out_DDB\n",
      "flow_alas_ecut_conv//w4/t0/outdata/out_DDB\n",
      "flow_alas_ecut_conv//w5/outdata/out_DDB\n"
     ]
    }
   ],
   "source": [
    "!find flow_alas_ecut_conv/ -name \"*_DDB\""
   ]
  },
  {
   "cell_type": "markdown",
   "metadata": {},
   "source": [
    "Remember that our goal is to analyze the convergence of the phonon frequencies at $\\Gamma$ \n",
    "as function of `ecut`.\n",
    "So we are mainly interested in the DDB files located in the `outdata` directories \n",
    "of the `PhononWorks` (`w0/outdata`, `w1/outdata`, `w2/outdata`).\n",
    "These are indeed the DDB files with all the information needed to reconstruct the \n",
    "dynamical matrix at $\\Gamma$ and to compute the phonon frequencies (AbiPy calls `mrgddb`\n",
    "to merge the DDB files when all the perturbations in the `PhononWork` have been computed).\n",
    "\n",
    "The code below tells our robot that we would like to analyze all the DDB files \n",
    "located in the output directories of the works:"
   ]
  },
  {
   "cell_type": "code",
   "execution_count": 16,
   "metadata": {
    "collapsed": false
   },
   "outputs": [
    {
     "data": {
      "text/html": [
       "<ol start=\"0\">\n",
       "<li>flow_alas_ecut_conv/w1/outdata/out_DDB</li>\n",
       "<li>flow_alas_ecut_conv/w3/outdata/out_DDB</li>\n",
       "<li>flow_alas_ecut_conv/w5/outdata/out_DDB</li>\n",
       "</ol>"
      ],
      "text/plain": [
       "Label                                   Relpath\n",
       "--------------------------------------  --------------------------------------\n",
       "flow_alas_ecut_conv/w1/outdata/out_DDB  flow_alas_ecut_conv/w1/outdata/out_DDB\n",
       "flow_alas_ecut_conv/w3/outdata/out_DDB  flow_alas_ecut_conv/w3/outdata/out_DDB\n",
       "flow_alas_ecut_conv/w5/outdata/out_DDB  flow_alas_ecut_conv/w5/outdata/out_DDB"
      ]
     },
     "execution_count": 16,
     "metadata": {},
     "output_type": "execute_result"
    }
   ],
   "source": [
    "robot = abilab.DdbRobot.from_dir_glob(\"./flow_alas_ecut_conv/w*/outdata/\")\n",
    "robot"
   ]
  },
  {
   "cell_type": "markdown",
   "metadata": {},
   "source": [
    "For more examples on the use of DDB and robots, see the \n",
    "[DDB notebook](https://nbviewer.jupyter.org/github/abinit/abitutorials/blob/master/abitutorials/ddb.ipynb).\n",
    "Now we ask the robot to call `anaddb` to compute the phonon frequencies at $\\Gamma$ for all DDBs \n",
    "and return a pandas `DataFrame`:"
   ]
  },
  {
   "cell_type": "code",
   "execution_count": 17,
   "metadata": {
    "collapsed": true
   },
   "outputs": [],
   "source": [
    "data_gamma = robot.get_dataframe_at_qpoint((0, 0, 0))"
   ]
  },
  {
   "cell_type": "markdown",
   "metadata": {},
   "source": [
    "The `DataFrame` is a dict-like object whose keys are the name of the colums in the table"
   ]
  },
  {
   "cell_type": "code",
   "execution_count": 18,
   "metadata": {
    "collapsed": false
   },
   "outputs": [
    {
     "name": "stdout",
     "output_type": "stream",
     "text": [
      "Index(['mode0', 'mode1', 'mode2', 'mode3', 'mode4', 'mode5', 'nkpt', 'nsppol',\n",
      "       'ecut', 'tsmear', 'occopt', 'ixc', 'nband', 'usepaw', 'formula',\n",
      "       'natom', 'alpha', 'beta', 'gamma', 'a', 'b', 'c', 'volume',\n",
      "       'abispg_num', 'spglib_symb', 'spglib_num', 'spglib_lattice_type'],\n",
      "      dtype='object')\n"
     ]
    }
   ],
   "source": [
    "print(data_gamma.keys())"
   ]
  },
  {
   "cell_type": "markdown",
   "metadata": {},
   "source": [
    "where `mode-i` is the frequency in eV of the i-th phonon mode.\n",
    "\n",
    "We are mainly interested in the convergence of the phonon frequencies versus `ecut` so we filter these columns with:"
   ]
  },
  {
   "cell_type": "code",
   "execution_count": 19,
   "metadata": {
    "collapsed": false
   },
   "outputs": [
    {
     "data": {
      "text/html": [
       "<div>\n",
       "<style scoped>\n",
       "    .dataframe tbody tr th:only-of-type {\n",
       "        vertical-align: middle;\n",
       "    }\n",
       "\n",
       "    .dataframe tbody tr th {\n",
       "        vertical-align: top;\n",
       "    }\n",
       "\n",
       "    .dataframe thead th {\n",
       "        text-align: right;\n",
       "    }\n",
       "</style>\n",
       "<table border=\"1\" class=\"dataframe\">\n",
       "  <thead>\n",
       "    <tr style=\"text-align: right;\">\n",
       "      <th></th>\n",
       "      <th>ecut</th>\n",
       "      <th>mode0</th>\n",
       "      <th>mode1</th>\n",
       "      <th>mode2</th>\n",
       "      <th>mode3</th>\n",
       "      <th>mode4</th>\n",
       "      <th>mode5</th>\n",
       "    </tr>\n",
       "  </thead>\n",
       "  <tbody>\n",
       "    <tr>\n",
       "      <th>flow_alas_ecut_conv/w1/outdata/out_DDB</th>\n",
       "      <td>4.0</td>\n",
       "      <td>0.0</td>\n",
       "      <td>0.0</td>\n",
       "      <td>0.0</td>\n",
       "      <td>0.043641</td>\n",
       "      <td>0.043641</td>\n",
       "      <td>0.043641</td>\n",
       "    </tr>\n",
       "    <tr>\n",
       "      <th>flow_alas_ecut_conv/w3/outdata/out_DDB</th>\n",
       "      <td>6.0</td>\n",
       "      <td>0.0</td>\n",
       "      <td>0.0</td>\n",
       "      <td>0.0</td>\n",
       "      <td>0.044485</td>\n",
       "      <td>0.044485</td>\n",
       "      <td>0.044485</td>\n",
       "    </tr>\n",
       "    <tr>\n",
       "      <th>flow_alas_ecut_conv/w5/outdata/out_DDB</th>\n",
       "      <td>8.0</td>\n",
       "      <td>0.0</td>\n",
       "      <td>0.0</td>\n",
       "      <td>0.0</td>\n",
       "      <td>0.044625</td>\n",
       "      <td>0.044625</td>\n",
       "      <td>0.044625</td>\n",
       "    </tr>\n",
       "  </tbody>\n",
       "</table>\n",
       "</div>"
      ],
      "text/plain": [
       "                                        ecut  mode0  mode1  mode2     mode3  \\\n",
       "flow_alas_ecut_conv/w1/outdata/out_DDB   4.0    0.0    0.0    0.0  0.043641   \n",
       "flow_alas_ecut_conv/w3/outdata/out_DDB   6.0    0.0    0.0    0.0  0.044485   \n",
       "flow_alas_ecut_conv/w5/outdata/out_DDB   8.0    0.0    0.0    0.0  0.044625   \n",
       "\n",
       "                                           mode4     mode5  \n",
       "flow_alas_ecut_conv/w1/outdata/out_DDB  0.043641  0.043641  \n",
       "flow_alas_ecut_conv/w3/outdata/out_DDB  0.044485  0.044485  \n",
       "flow_alas_ecut_conv/w5/outdata/out_DDB  0.044625  0.044625  "
      ]
     },
     "execution_count": 19,
     "metadata": {},
     "output_type": "execute_result"
    }
   ],
   "source": [
    "data_gamma = data_gamma[[\"ecut\"] + [k for k in data_gamma if k.startswith(\"mode\")]]\n",
    "data_gamma"
   ]
  },
  {
   "cell_type": "markdown",
   "metadata": {},
   "source": [
    "and we get some statistics about our data with:"
   ]
  },
  {
   "cell_type": "code",
   "execution_count": 20,
   "metadata": {
    "collapsed": false
   },
   "outputs": [
    {
     "data": {
      "text/html": [
       "<div>\n",
       "<style scoped>\n",
       "    .dataframe tbody tr th:only-of-type {\n",
       "        vertical-align: middle;\n",
       "    }\n",
       "\n",
       "    .dataframe tbody tr th {\n",
       "        vertical-align: top;\n",
       "    }\n",
       "\n",
       "    .dataframe thead th {\n",
       "        text-align: right;\n",
       "    }\n",
       "</style>\n",
       "<table border=\"1\" class=\"dataframe\">\n",
       "  <thead>\n",
       "    <tr style=\"text-align: right;\">\n",
       "      <th></th>\n",
       "      <th>ecut</th>\n",
       "      <th>mode0</th>\n",
       "      <th>mode1</th>\n",
       "      <th>mode2</th>\n",
       "      <th>mode3</th>\n",
       "      <th>mode4</th>\n",
       "      <th>mode5</th>\n",
       "    </tr>\n",
       "  </thead>\n",
       "  <tbody>\n",
       "    <tr>\n",
       "      <th>count</th>\n",
       "      <td>3.0</td>\n",
       "      <td>3.0</td>\n",
       "      <td>3.0</td>\n",
       "      <td>3.0</td>\n",
       "      <td>3.000000</td>\n",
       "      <td>3.000000</td>\n",
       "      <td>3.000000</td>\n",
       "    </tr>\n",
       "    <tr>\n",
       "      <th>mean</th>\n",
       "      <td>6.0</td>\n",
       "      <td>0.0</td>\n",
       "      <td>0.0</td>\n",
       "      <td>0.0</td>\n",
       "      <td>0.044250</td>\n",
       "      <td>0.044250</td>\n",
       "      <td>0.044250</td>\n",
       "    </tr>\n",
       "    <tr>\n",
       "      <th>std</th>\n",
       "      <td>2.0</td>\n",
       "      <td>0.0</td>\n",
       "      <td>0.0</td>\n",
       "      <td>0.0</td>\n",
       "      <td>0.000533</td>\n",
       "      <td>0.000533</td>\n",
       "      <td>0.000533</td>\n",
       "    </tr>\n",
       "    <tr>\n",
       "      <th>min</th>\n",
       "      <td>4.0</td>\n",
       "      <td>0.0</td>\n",
       "      <td>0.0</td>\n",
       "      <td>0.0</td>\n",
       "      <td>0.043641</td>\n",
       "      <td>0.043641</td>\n",
       "      <td>0.043641</td>\n",
       "    </tr>\n",
       "    <tr>\n",
       "      <th>25%</th>\n",
       "      <td>5.0</td>\n",
       "      <td>0.0</td>\n",
       "      <td>0.0</td>\n",
       "      <td>0.0</td>\n",
       "      <td>0.044063</td>\n",
       "      <td>0.044063</td>\n",
       "      <td>0.044063</td>\n",
       "    </tr>\n",
       "    <tr>\n",
       "      <th>50%</th>\n",
       "      <td>6.0</td>\n",
       "      <td>0.0</td>\n",
       "      <td>0.0</td>\n",
       "      <td>0.0</td>\n",
       "      <td>0.044485</td>\n",
       "      <td>0.044485</td>\n",
       "      <td>0.044485</td>\n",
       "    </tr>\n",
       "    <tr>\n",
       "      <th>75%</th>\n",
       "      <td>7.0</td>\n",
       "      <td>0.0</td>\n",
       "      <td>0.0</td>\n",
       "      <td>0.0</td>\n",
       "      <td>0.044555</td>\n",
       "      <td>0.044555</td>\n",
       "      <td>0.044555</td>\n",
       "    </tr>\n",
       "    <tr>\n",
       "      <th>max</th>\n",
       "      <td>8.0</td>\n",
       "      <td>0.0</td>\n",
       "      <td>0.0</td>\n",
       "      <td>0.0</td>\n",
       "      <td>0.044625</td>\n",
       "      <td>0.044625</td>\n",
       "      <td>0.044625</td>\n",
       "    </tr>\n",
       "  </tbody>\n",
       "</table>\n",
       "</div>"
      ],
      "text/plain": [
       "       ecut  mode0  mode1  mode2     mode3     mode4     mode5\n",
       "count   3.0    3.0    3.0    3.0  3.000000  3.000000  3.000000\n",
       "mean    6.0    0.0    0.0    0.0  0.044250  0.044250  0.044250\n",
       "std     2.0    0.0    0.0    0.0  0.000533  0.000533  0.000533\n",
       "min     4.0    0.0    0.0    0.0  0.043641  0.043641  0.043641\n",
       "25%     5.0    0.0    0.0    0.0  0.044063  0.044063  0.044063\n",
       "50%     6.0    0.0    0.0    0.0  0.044485  0.044485  0.044485\n",
       "75%     7.0    0.0    0.0    0.0  0.044555  0.044555  0.044555\n",
       "max     8.0    0.0    0.0    0.0  0.044625  0.044625  0.044625"
      ]
     },
     "execution_count": 20,
     "metadata": {},
     "output_type": "execute_result"
    }
   ],
   "source": [
    "data_gamma.describe()"
   ]
  },
  {
   "cell_type": "markdown",
   "metadata": {},
   "source": [
    "Pandas tables are extremly powerful and the `describe` method already gives some useful info \n",
    "about the convergence of the phonon modes. \n",
    "Sometimes, however, we would like to visualize the data to have a better understanding of what's happening:"
   ]
  },
  {
   "cell_type": "code",
   "execution_count": 21,
   "metadata": {
    "collapsed": false
   },
   "outputs": [
    {
     "data": {
      "image/png": "[encoded data removed]",
      "text/plain": [
       "<Figure size 432x288 with 1 Axes>"
      ]
     },
     "metadata": {},
     "output_type": "display_data"
    }
   ],
   "source": [
    "data_gamma.plot(x=\"ecut\", y=\"mode3\", style=\"-o\");"
   ]
  },
  {
   "cell_type": "markdown",
   "metadata": {},
   "source": [
    "Let's plot all the modes in different subplots with:"
   ]
  },
  {
   "cell_type": "code",
   "execution_count": 22,
   "metadata": {
    "collapsed": false
   },
   "outputs": [
    {
     "data": {
      "image/png": "[encoded data removed]",
      "text/plain": [
       "<Figure size 432x288 with 6 Axes>"
      ]
     },
     "metadata": {},
     "output_type": "display_data"
    }
   ],
   "source": [
    "data_gamma.plot(x=\"ecut\", y=[k for k in data_gamma if k.startswith(\"mode\")], subplots=True, style=\"-o\");"
   ]
  },
  {
   "cell_type": "markdown",
   "metadata": {},
   "source": [
    "This convergence study at $\\Gamma$ thus reveals that our pseudos require \n",
    "an `ecut` >= 6 Ha to get reasonably converged phonon frequencies at $\\Gamma$.\n",
    "In what follows, we assume that also the modes at the other $q$-points present a similar\n",
    "convergence behaviour and we use `ecut` = 6 Ha to keep the computational cost low. "
   ]
  },
  {
   "cell_type": "markdown",
   "metadata": {},
   "source": [
    "For a quick introduction to Pandas, see:\n",
    "\n",
    "* [Pandas cookbook](https://github.com/jvns/pandas-cookbook)\n",
    "* [Pandas cookbook Chapter 1 Reading data from a csv file](http://nbviewer.jupyter.org/github/jvns/pandas-cookbook/blob/master/cookbook/Chapter%201%20-%20Reading%20from%20a%20CSV.ipynb)"
   ]
  },
  {
   "cell_type": "markdown",
   "metadata": {},
   "source": [
    "## Phonon band structure of AlAs\n",
    "[[back to top](#top)]\n",
    "\n",
    "Now we are finally ready for the calculation of the vibrational spectrum of $AlAs$.\n",
    "We already managed to run DFPT calculations at $\\Gamma$ with different values of `ecut` and the\n",
    "steps required to get a full band structure are not that different, provided that \n",
    "the following differences are taken into account:\n",
    "\n",
    "- we need the dynamical matrix $D(q)$ on a homogeneous mesh so that it is possible to calculate $D(R)$\n",
    "  in anaddb via Fourier transform and then phonon frequencies for arbitrary q-points via Fourier interpolation\n",
    "  \n",
    "- $AlAs$ is a polar semiconductor so we need to include the LO-TO splitting for $q \\rightarrow 0$ that, in turns,\n",
    "  requires the DFPT computation of the Born effective charges and of the dielectric constant.\n",
    "\n",
    "\n",
    "In AbiPy, these concepts are translated in an easy-to-use API in which you pass an initial `AbinitInput` object,\n",
    "you specify the q-mesh for phonons in terms of `ph_nqpt` and activate the computation of the \n",
    "Born effective charges with the boolean flag `with_becs`.\n",
    "\n",
    "Let's have a look at the code (as usual there are more comments than lines of code):"
   ]
  },
  {
   "cell_type": "code",
   "execution_count": 23,
   "metadata": {
    "collapsed": false
   },
   "outputs": [
    {
     "data": {
      "text/html": [
       "<!DOCTYPE html PUBLIC \"-//W3C//DTD HTML 4.01//EN\"\n",
       "   \"http://www.w3.org/TR/html4/strict.dtd\">\n",
       "\n",
       "<html>\n",
       "<head>\n",
       "  <title></title>\n",
       "  <meta http-equiv=\"content-type\" content=\"text/html; charset=None\">\n",
       "  <style type=\"text/css\">\n",
       "td.linenos { background-color: #f0f0f0; padding-right: 10px; }\n",
       "span.lineno { background-color: #f0f0f0; padding: 0 5px 0 5px; }\n",
       "pre { line-height: 125%; }\n",
       "body .hll { background-color: #ffffcc }\n",
       "body  { background: #f8f8f8; }\n",
       "body .c { color: #408080; font-style: italic } /* Comment */\n",
       "body .err { border: 1px solid #FF0000 } /* Error */\n",
       "body .k { color: #008000; font-weight: bold } /* Keyword */\n",
       "body .o { color: #666666 } /* Operator */\n",
       "body .ch { color: #408080; font-style: italic } /* Comment.Hashbang */\n",
       "body .cm { color: #408080; font-style: italic } /* Comment.Multiline */\n",
       "body .cp { color: #BC7A00 } /* Comment.Preproc */\n",
       "body .cpf { color: #408080; font-style: italic } /* Comment.PreprocFile */\n",
       "body .c1 { color: #408080; font-style: italic } /* Comment.Single */\n",
       "body .cs { color: #408080; font-style: italic } /* Comment.Special */\n",
       "body .gd { color: #A00000 } /* Generic.Deleted */\n",
       "body .ge { font-style: italic } /* Generic.Emph */\n",
       "body .gr { color: #FF0000 } /* Generic.Error */\n",
       "body .gh { color: #000080; font-weight: bold } /* Generic.Heading */\n",
       "body .gi { color: #00A000 } /* Generic.Inserted */\n",
       "body .go { color: #888888 } /* Generic.Output */\n",
       "body .gp { color: #000080; font-weight: bold } /* Generic.Prompt */\n",
       "body .gs { font-weight: bold } /* Generic.Strong */\n",
       "body .gu { color: #800080; font-weight: bold } /* Generic.Subheading */\n",
       "body .gt { color: #0044DD } /* Generic.Traceback */\n",
       "body .kc { color: #008000; font-weight: bold } /* Keyword.Constant */\n",
       "body .kd { color: #008000; font-weight: bold } /* Keyword.Declaration */\n",
       "body .kn { color: #008000; font-weight: bold } /* Keyword.Namespace */\n",
       "body .kp { color: #008000 } /* Keyword.Pseudo */\n",
       "body .kr { color: #008000; font-weight: bold } /* Keyword.Reserved */\n",
       "body .kt { color: #B00040 } /* Keyword.Type */\n",
       "body .m { color: #666666 } /* Literal.Number */\n",
       "body .s { color: #BA2121 } /* Literal.String */\n",
       "body .na { color: #7D9029 } /* Name.Attribute */\n",
       "body .nb { color: #008000 } /* Name.Builtin */\n",
       "body .nc { color: #0000FF; font-weight: bold } /* Name.Class */\n",
       "body .no { color: #880000 } /* Name.Constant */\n",
       "body .nd { color: #AA22FF } /* Name.Decorator */\n",
       "body .ni { color: #999999; font-weight: bold } /* Name.Entity */\n",
       "body .ne { color: #D2413A; font-weight: bold } /* Name.Exception */\n",
       "body .nf { color: #0000FF } /* Name.Function */\n",
       "body .nl { color: #A0A000 } /* Name.Label */\n",
       "body .nn { color: #0000FF; font-weight: bold } /* Name.Namespace */\n",
       "body .nt { color: #008000; font-weight: bold } /* Name.Tag */\n",
       "body .nv { color: #19177C } /* Name.Variable */\n",
       "body .ow { color: #AA22FF; font-weight: bold } /* Operator.Word */\n",
       "body .w { color: #bbbbbb } /* Text.Whitespace */\n",
       "body .mb { color: #666666 } /* Literal.Number.Bin */\n",
       "body .mf { color: #666666 } /* Literal.Number.Float */\n",
       "body .mh { color: #666666 } /* Literal.Number.Hex */\n",
       "body .mi { color: #666666 } /* Literal.Number.Integer */\n",
       "body .mo { color: #666666 } /* Literal.Number.Oct */\n",
       "body .sa { color: #BA2121 } /* Literal.String.Affix */\n",
       "body .sb { color: #BA2121 } /* Literal.String.Backtick */\n",
       "body .sc { color: #BA2121 } /* Literal.String.Char */\n",
       "body .dl { color: #BA2121 } /* Literal.String.Delimiter */\n",
       "body .sd { color: #BA2121; font-style: italic } /* Literal.String.Doc */\n",
       "body .s2 { color: #BA2121 } /* Literal.String.Double */\n",
       "body .se { color: #BB6622; font-weight: bold } /* Literal.String.Escape */\n",
       "body .sh { color: #BA2121 } /* Literal.String.Heredoc */\n",
       "body .si { color: #BB6688; font-weight: bold } /* Literal.String.Interpol */\n",
       "body .sx { color: #008000 } /* Literal.String.Other */\n",
       "body .sr { color: #BB6688 } /* Literal.String.Regex */\n",
       "body .s1 { color: #BA2121 } /* Literal.String.Single */\n",
       "body .ss { color: #19177C } /* Literal.String.Symbol */\n",
       "body .bp { color: #008000 } /* Name.Builtin.Pseudo */\n",
       "body .fm { color: #0000FF } /* Name.Function.Magic */\n",
       "body .vc { color: #19177C } /* Name.Variable.Class */\n",
       "body .vg { color: #19177C } /* Name.Variable.Global */\n",
       "body .vi { color: #19177C } /* Name.Variable.Instance */\n",
       "body .vm { color: #19177C } /* Name.Variable.Magic */\n",
       "body .il { color: #666666 } /* Literal.Number.Integer.Long */\n",
       "\n",
       "  </style>\n",
       "</head>\n",
       "<body>\n",
       "<h2></h2>\n",
       "\n",
       "<div class=\"highlight\"><pre><span></span><span class=\"k\">def</span> <span class=\"nf\">build_flow_alas_phonons</span><span class=\"p\">(</span><span class=\"n\">options</span><span class=\"p\">):</span>\n",
       "    <span class=\"sd\">&quot;&quot;&quot;</span>\n",
       "<span class=\"sd\">    Build and return a Flow to compute the dynamical matrix on a (2, 2, 2) qmesh</span>\n",
       "<span class=\"sd\">    as well as DDK and Born effective charges.</span>\n",
       "<span class=\"sd\">    The final DDB with all perturbations will be merged automatically and placed</span>\n",
       "<span class=\"sd\">    in the Flow `outdir` directory.</span>\n",
       "<span class=\"sd\">    &quot;&quot;&quot;</span>\n",
       "    <span class=\"n\">scf_input</span> <span class=\"o\">=</span> <span class=\"n\">make_scf_input</span><span class=\"p\">(</span><span class=\"n\">ecut</span><span class=\"o\">=</span><span class=\"mi\">6</span><span class=\"p\">,</span> <span class=\"n\">ngkpt</span><span class=\"o\">=</span><span class=\"p\">(</span><span class=\"mi\">4</span><span class=\"p\">,</span> <span class=\"mi\">4</span><span class=\"p\">,</span> <span class=\"mi\">4</span><span class=\"p\">))</span>\n",
       "    <span class=\"k\">return</span> <span class=\"n\">flowtk</span><span class=\"o\">.</span><span class=\"n\">PhononFlow</span><span class=\"o\">.</span><span class=\"n\">from_scf_input</span><span class=\"p\">(</span><span class=\"s2\">&quot;flow_alas_phonons&quot;</span><span class=\"p\">,</span> <span class=\"n\">scf_input</span><span class=\"p\">,</span>\n",
       "                                            <span class=\"n\">ph_ngqpt</span><span class=\"o\">=</span><span class=\"p\">(</span><span class=\"mi\">2</span><span class=\"p\">,</span> <span class=\"mi\">2</span><span class=\"p\">,</span> <span class=\"mi\">2</span><span class=\"p\">),</span> <span class=\"n\">with_becs</span><span class=\"o\">=</span><span class=\"bp\">True</span><span class=\"p\">)</span>\n",
       "</pre></div>\n",
       "</body>\n",
       "</html>\n"
      ],
      "text/plain": [
       "<IPython.core.display.HTML object>"
      ]
     },
     "execution_count": 23,
     "metadata": {},
     "output_type": "execute_result"
    }
   ],
   "source": [
    "from lesson_dfpt import build_flow_alas_phonons\n",
    "abilab.print_source(build_flow_alas_phonons)"
   ]
  },
  {
   "cell_type": "markdown",
   "metadata": {},
   "source": [
    "We can finally construct the flow with:"
   ]
  },
  {
   "cell_type": "code",
   "execution_count": 24,
   "metadata": {
    "collapsed": true
   },
   "outputs": [],
   "source": [
    "flow_phbands = build_flow_alas_phonons(options=None)"
   ]
  },
  {
   "cell_type": "markdown",
   "metadata": {},
   "source": [
    "and visualize the connections with:"
   ]
  },
  {
   "cell_type": "code",
   "execution_count": 25,
   "metadata": {
    "collapsed": false
   },
   "outputs": [
    {
     "data": {
      "image/svg+xml": [
       "<?xml version=\"1.0\" encoding=\"UTF-8\" standalone=\"no\"?>\n",
       "<!DOCTYPE svg PUBLIC \"-//W3C//DTD SVG 1.1//EN\"\n",
       " \"http://www.w3.org/Graphics/SVG/1.1/DTD/svg11.dtd\">\n",
       "<!-- Generated by graphviz version 2.38.0 (20140413.2041)\n",
       " -->\n",
       "<!-- Title: flow Pages: 1 -->\n",
       "<svg width=\"528pt\" height=\"381pt\"\n",
       " viewBox=\"0.00 0.00 528.00 381.00\" xmlns=\"http://www.w3.org/2000/svg\" xmlns:xlink=\"http://www.w3.org/1999/xlink\">\n",
       "<g id=\"graph0\" class=\"graph\" transform=\"scale(1 1) rotate(0) translate(4 355)\">\n",
       "<title>flow</title>\n",
       "<polygon fill=\"white\" stroke=\"none\" points=\"-4,26 -4,-355 524,-355 524,26 -4,26\"/>\n",
       "<text text-anchor=\"start\" x=\"90.0039\" y=\"15.2\" font-family=\"Times,serif\" font-size=\"14.00\">PhononFlow, node_id=345819, workdir=flow_alas_phonons</text>\n",
       "<g id=\"clust1\" class=\"cluster\"><title>clusterw0</title>\n",
       "<path fill=\"#e0eeee\" stroke=\"black\" d=\"M188.44,-149.496C188.44,-149.496 274.44,-149.496 274.44,-149.496 280.44,-149.496 286.44,-155.496 286.44,-161.496 286.44,-161.496 286.44,-270.496 286.44,-270.496 286.44,-276.496 280.44,-282.496 274.44,-282.496 274.44,-282.496 188.44,-282.496 188.44,-282.496 182.44,-282.496 176.44,-276.496 176.44,-270.496 176.44,-270.496 176.44,-161.496 176.44,-161.496 176.44,-155.496 182.44,-149.496 188.44,-149.496\"/>\n",
       "<text text-anchor=\"middle\" x=\"231.44\" y=\"-267.296\" font-family=\"Times,serif\" font-size=\"14.00\">Work (w0)</text>\n",
       "</g>\n",
       "<g id=\"clust2\" class=\"cluster\"><title>clusterw1</title>\n",
       "<path fill=\"#e0eeee\" stroke=\"black\" d=\"M307.898,-22.0444C307.898,-22.0444 507.898,-22.0444 507.898,-22.0444 513.898,-22.0444 519.898,-28.0444 519.898,-34.0444 519.898,-34.0444 519.898,-225.044 519.898,-225.044 519.898,-231.044 513.898,-237.044 507.898,-237.044 507.898,-237.044 307.898,-237.044 307.898,-237.044 301.898,-237.044 295.898,-231.044 295.898,-225.044 295.898,-225.044 295.898,-34.0444 295.898,-34.0444 295.898,-28.0444 301.898,-22.0444 307.898,-22.0444\"/>\n",
       "<text text-anchor=\"middle\" x=\"407.898\" y=\"-221.844\" font-family=\"Times,serif\" font-size=\"14.00\">BecWork (w1)</text>\n",
       "</g>\n",
       "<g id=\"clust3\" class=\"cluster\"><title>clusterw2</title>\n",
       "<path fill=\"#e0eeee\" stroke=\"black\" d=\"M43.3555,0.0843743C43.3555,0.0843743 272.356,0.0843743 272.356,0.0843743 278.356,0.0843743 284.356,-5.91563 284.356,-11.9156 284.356,-11.9156 284.356,-124.916 284.356,-124.916 284.356,-130.916 278.356,-136.916 272.356,-136.916 272.356,-136.916 43.3555,-136.916 43.3555,-136.916 37.3555,-136.916 31.3555,-130.916 31.3555,-124.916 31.3555,-124.916 31.3555,-11.9156 31.3555,-11.9156 31.3555,-5.91563 37.3555,0.0843743 43.3555,0.0843743\"/>\n",
       "<text text-anchor=\"middle\" x=\"157.856\" y=\"-121.716\" font-family=\"Times,serif\" font-size=\"14.00\">PhononWork (w2)</text>\n",
       "</g>\n",
       "<g id=\"clust4\" class=\"cluster\"><title>clusterw3</title>\n",
       "<path fill=\"#e0eeee\" stroke=\"black\" d=\"M12.449,-232.388C12.449,-232.388 152.449,-232.388 152.449,-232.388 158.449,-232.388 164.449,-238.388 164.449,-244.388 164.449,-244.388 164.449,-339.388 164.449,-339.388 164.449,-345.388 158.449,-351.388 152.449,-351.388 152.449,-351.388 12.449,-351.388 12.449,-351.388 6.44901,-351.388 0.449006,-345.388 0.449006,-339.388 0.449006,-339.388 0.449006,-244.388 0.449006,-244.388 0.449006,-238.388 6.44901,-232.388 12.449,-232.388\"/>\n",
       "<text text-anchor=\"middle\" x=\"82.449\" y=\"-336.188\" font-family=\"Times,serif\" font-size=\"14.00\">PhononWork (w3)</text>\n",
       "</g>\n",
       "<!-- w0_t0 -->\n",
       "<g id=\"node1\" class=\"node\"><title>w0_t0</title>\n",
       "<ellipse fill=\"#ff0000\" stroke=\"#ff0000\" cx=\"230.088\" cy=\"-204.675\" rx=\"27.8878\" ry=\"18\"/>\n",
       "<text text-anchor=\"middle\" x=\"230.088\" y=\"-206.275\" font-family=\"Times,serif\" font-size=\"8.00\">w0_t0</text>\n",
       "<text text-anchor=\"middle\" x=\"230.088\" y=\"-198.275\" font-family=\"Times,serif\" font-size=\"8.00\">ScfTask</text>\n",
       "</g>\n",
       "<!-- w1_t0 -->\n",
       "<g id=\"node2\" class=\"node\"><title>w1_t0</title>\n",
       "<ellipse fill=\"#00cccc\" stroke=\"#00cccc\" cx=\"474.937\" cy=\"-54.1549\" rx=\"30.0647\" ry=\"18\"/>\n",
       "<text text-anchor=\"middle\" x=\"474.937\" y=\"-55.7549\" font-family=\"Times,serif\" font-size=\"8.00\">w1_t0</text>\n",
       "<text text-anchor=\"middle\" x=\"474.937\" y=\"-47.7549\" font-family=\"Times,serif\" font-size=\"8.00\">DdkTask</text>\n",
       "</g>\n",
       "<!-- w0_t0&#45;&gt;w1_t0 -->\n",
       "<g id=\"edge1\" class=\"edge\"><title>w0_t0&#45;&gt;w1_t0</title>\n",
       "<path fill=\"none\" stroke=\"#ff0000\" d=\"M250.543,-192.101C293.715,-165.561 394.316,-103.717 444.846,-72.6537\"/>\n",
       "<polygon fill=\"#ff0000\" stroke=\"#ff0000\" points=\"446.987,-75.446 453.673,-67.2272 443.321,-69.4826 446.987,-75.446\"/>\n",
       "<text text-anchor=\"middle\" x=\"332.139\" y=\"-135.177\" font-family=\"Times,serif\" font-size=\"14.00\">WFK</text>\n",
       "</g>\n",
       "<!-- w1_t1 -->\n",
       "<g id=\"node3\" class=\"node\"><title>w1_t1</title>\n",
       "<ellipse fill=\"#00cccc\" stroke=\"#00cccc\" cx=\"333.66\" cy=\"-101.775\" rx=\"30.0647\" ry=\"18\"/>\n",
       "<text text-anchor=\"middle\" x=\"333.66\" y=\"-103.375\" font-family=\"Times,serif\" font-size=\"8.00\">w1_t1</text>\n",
       "<text text-anchor=\"middle\" x=\"333.66\" y=\"-95.3746\" font-family=\"Times,serif\" font-size=\"8.00\">DdkTask</text>\n",
       "</g>\n",
       "<!-- w0_t0&#45;&gt;w1_t1 -->\n",
       "<g id=\"edge2\" class=\"edge\"><title>w0_t0&#45;&gt;w1_t1</title>\n",
       "<path fill=\"none\" stroke=\"#ff0000\" d=\"M245.37,-189.492C262.634,-172.34 290.91,-144.247 310.802,-124.484\"/>\n",
       "<polygon fill=\"#ff0000\" stroke=\"#ff0000\" points=\"313.348,-126.889 317.975,-117.358 308.414,-121.923 313.348,-126.889\"/>\n",
       "<text text-anchor=\"middle\" x=\"262.531\" y=\"-159.788\" font-family=\"Times,serif\" font-size=\"14.00\">WFK</text>\n",
       "</g>\n",
       "<!-- w1_t2 -->\n",
       "<g id=\"node4\" class=\"node\"><title>w1_t2</title>\n",
       "<ellipse fill=\"#00cccc\" stroke=\"#00cccc\" cx=\"482.359\" cy=\"-119.678\" rx=\"30.0647\" ry=\"18\"/>\n",
       "<text text-anchor=\"middle\" x=\"482.359\" y=\"-121.278\" font-family=\"Times,serif\" font-size=\"8.00\">w1_t2</text>\n",
       "<text text-anchor=\"middle\" x=\"482.359\" y=\"-113.278\" font-family=\"Times,serif\" font-size=\"8.00\">DdkTask</text>\n",
       "</g>\n",
       "<!-- w0_t0&#45;&gt;w1_t2 -->\n",
       "<g id=\"edge3\" class=\"edge\"><title>w0_t0&#45;&gt;w1_t2</title>\n",
       "<path fill=\"none\" stroke=\"#ff0000\" d=\"M255.199,-196.214C300.065,-181.098 394.142,-149.4 446.047,-131.912\"/>\n",
       "<polygon fill=\"#ff0000\" stroke=\"#ff0000\" points=\"447.479,-135.123 455.838,-128.613 445.244,-128.489 447.479,-135.123\"/>\n",
       "<text text-anchor=\"middle\" x=\"335.068\" y=\"-166.863\" font-family=\"Times,serif\" font-size=\"14.00\">WFK</text>\n",
       "</g>\n",
       "<!-- w1_t3 -->\n",
       "<g id=\"node5\" class=\"node\"><title>w1_t3</title>\n",
       "<ellipse fill=\"#7a7aff\" stroke=\"#7a7aff\" cx=\"392.591\" cy=\"-149.208\" rx=\"29.2677\" ry=\"18\"/>\n",
       "<text text-anchor=\"middle\" x=\"392.591\" y=\"-150.808\" font-family=\"Times,serif\" font-size=\"8.00\">w1_t3</text>\n",
       "<text text-anchor=\"middle\" x=\"392.591\" y=\"-142.808\" font-family=\"Times,serif\" font-size=\"8.00\">BecTask</text>\n",
       "</g>\n",
       "<!-- w0_t0&#45;&gt;w1_t3 -->\n",
       "<g id=\"edge4\" class=\"edge\"><title>w0_t0&#45;&gt;w1_t3</title>\n",
       "<path fill=\"none\" stroke=\"#ff0000\" d=\"M255.123,-196.13C282.517,-186.779 326.635,-171.721 357.48,-161.192\"/>\n",
       "<polygon fill=\"#ff0000\" stroke=\"#ff0000\" points=\"358.658,-164.489 366.991,-157.946 356.396,-157.864 358.658,-164.489\"/>\n",
       "<text text-anchor=\"middle\" x=\"290.746\" y=\"-181.461\" font-family=\"Times,serif\" font-size=\"14.00\">WFK</text>\n",
       "</g>\n",
       "<!-- w1_t4 -->\n",
       "<g id=\"node6\" class=\"node\"><title>w1_t4</title>\n",
       "<ellipse fill=\"#7a7aff\" stroke=\"#7a7aff\" cx=\"462.701\" cy=\"-189.068\" rx=\"29.2677\" ry=\"18\"/>\n",
       "<text text-anchor=\"middle\" x=\"462.701\" y=\"-190.668\" font-family=\"Times,serif\" font-size=\"8.00\">w1_t4</text>\n",
       "<text text-anchor=\"middle\" x=\"462.701\" y=\"-182.668\" font-family=\"Times,serif\" font-size=\"8.00\">BecTask</text>\n",
       "</g>\n",
       "<!-- w0_t0&#45;&gt;w1_t4 -->\n",
       "<g id=\"edge5\" class=\"edge\"><title>w0_t0&#45;&gt;w1_t4</title>\n",
       "<path fill=\"none\" stroke=\"#ff0000\" d=\"M258.147,-202.792C299.375,-200.026 376.494,-194.852 423.36,-191.708\"/>\n",
       "<polygon fill=\"#ff0000\" stroke=\"#ff0000\" points=\"423.702,-195.193 433.446,-191.031 423.234,-188.209 423.702,-195.193\"/>\n",
       "<text text-anchor=\"middle\" x=\"325.198\" y=\"-200.05\" font-family=\"Times,serif\" font-size=\"14.00\">WFK</text>\n",
       "</g>\n",
       "<!-- w2_t0 -->\n",
       "<g id=\"node7\" class=\"node\"><title>w2_t0</title>\n",
       "<ellipse fill=\"#0096fa\" stroke=\"#0096fa\" cx=\"76.5805\" cy=\"-78.7171\" rx=\"37.3834\" ry=\"18\"/>\n",
       "<text text-anchor=\"middle\" x=\"76.5805\" y=\"-80.3171\" font-family=\"Times,serif\" font-size=\"8.00\">w2_t0</text>\n",
       "<text text-anchor=\"middle\" x=\"76.5805\" y=\"-72.3171\" font-family=\"Times,serif\" font-size=\"8.00\">PhononTask</text>\n",
       "</g>\n",
       "<!-- w0_t0&#45;&gt;w2_t0 -->\n",
       "<g id=\"edge6\" class=\"edge\"><title>w0_t0&#45;&gt;w2_t0</title>\n",
       "<path fill=\"none\" stroke=\"#ff0000\" d=\"M212.777,-190.471C186.145,-168.618 134.911,-126.58 103.436,-100.753\"/>\n",
       "<polygon fill=\"#ff0000\" stroke=\"#ff0000\" points=\"105.454,-97.8814 95.5033,-94.2438 101.014,-103.293 105.454,-97.8814\"/>\n",
       "<text text-anchor=\"middle\" x=\"142.552\" y=\"-148.412\" font-family=\"Times,serif\" font-size=\"14.00\">WFK</text>\n",
       "</g>\n",
       "<!-- w2_t1 -->\n",
       "<g id=\"node8\" class=\"node\"><title>w2_t1</title>\n",
       "<ellipse fill=\"#0096fa\" stroke=\"#0096fa\" cx=\"112.46\" cy=\"-25.9548\" rx=\"37.3834\" ry=\"18\"/>\n",
       "<text text-anchor=\"middle\" x=\"112.46\" y=\"-27.5548\" font-family=\"Times,serif\" font-size=\"8.00\">w2_t1</text>\n",
       "<text text-anchor=\"middle\" x=\"112.46\" y=\"-19.5548\" font-family=\"Times,serif\" font-size=\"8.00\">PhononTask</text>\n",
       "</g>\n",
       "<!-- w0_t0&#45;&gt;w2_t1 -->\n",
       "<g id=\"edge7\" class=\"edge\"><title>w0_t0&#45;&gt;w2_t1</title>\n",
       "<path fill=\"none\" stroke=\"#ff0000\" d=\"M219.022,-187.861C198.407,-156.54 154.003,-89.074 129.523,-51.8795\"/>\n",
       "<polygon fill=\"#ff0000\" stroke=\"#ff0000\" points=\"132.176,-49.5449 123.755,-43.116 126.329,-53.3933 132.176,-49.5449\"/>\n",
       "<text text-anchor=\"middle\" x=\"158.717\" y=\"-108.67\" font-family=\"Times,serif\" font-size=\"14.00\">WFK</text>\n",
       "</g>\n",
       "<!-- w2_t2 -->\n",
       "<g id=\"node9\" class=\"node\"><title>w2_t2</title>\n",
       "<ellipse fill=\"#0096fa\" stroke=\"#0096fa\" cx=\"203.495\" cy=\"-40.3511\" rx=\"37.3834\" ry=\"18\"/>\n",
       "<text text-anchor=\"middle\" x=\"203.495\" y=\"-41.9511\" font-family=\"Times,serif\" font-size=\"8.00\">w2_t2</text>\n",
       "<text text-anchor=\"middle\" x=\"203.495\" y=\"-33.9511\" font-family=\"Times,serif\" font-size=\"8.00\">PhononTask</text>\n",
       "</g>\n",
       "<!-- w0_t0&#45;&gt;w2_t2 -->\n",
       "<g id=\"edge8\" class=\"edge\"><title>w0_t0&#45;&gt;w2_t2</title>\n",
       "<path fill=\"none\" stroke=\"#ff0000\" d=\"M227.14,-186.462C222.528,-157.96 213.567,-102.589 208.098,-68.7976\"/>\n",
       "<polygon fill=\"#ff0000\" stroke=\"#ff0000\" points=\"211.508,-67.9584 206.456,-58.646 204.598,-69.0768 211.508,-67.9584\"/>\n",
       "<text text-anchor=\"middle\" x=\"233.175\" y=\"-130.43\" font-family=\"Times,serif\" font-size=\"14.00\">WFK</text>\n",
       "</g>\n",
       "<!-- w2_t3 -->\n",
       "<g id=\"node10\" class=\"node\"><title>w2_t3</title>\n",
       "<ellipse fill=\"#0096fa\" stroke=\"#0096fa\" cx=\"239.557\" cy=\"-88.4516\" rx=\"37.3834\" ry=\"18\"/>\n",
       "<text text-anchor=\"middle\" x=\"239.557\" y=\"-90.0516\" font-family=\"Times,serif\" font-size=\"8.00\">w2_t3</text>\n",
       "<text text-anchor=\"middle\" x=\"239.557\" y=\"-82.0516\" font-family=\"Times,serif\" font-size=\"8.00\">PhononTask</text>\n",
       "</g>\n",
       "<!-- w0_t0&#45;&gt;w2_t3 -->\n",
       "<g id=\"edge9\" class=\"edge\"><title>w0_t0&#45;&gt;w2_t3</title>\n",
       "<path fill=\"none\" stroke=\"#ff0000\" d=\"M231.568,-186.515C233.096,-167.751 235.503,-138.216 237.275,-116.459\"/>\n",
       "<polygon fill=\"#ff0000\" stroke=\"#ff0000\" points=\"240.764,-116.735 238.088,-106.484 233.788,-116.167 240.764,-116.735\"/>\n",
       "<text text-anchor=\"middle\" x=\"218.866\" y=\"-154.287\" font-family=\"Times,serif\" font-size=\"14.00\">WFK</text>\n",
       "</g>\n",
       "<!-- w3_t0 -->\n",
       "<g id=\"node11\" class=\"node\"><title>w3_t0</title>\n",
       "<ellipse fill=\"#0096fa\" stroke=\"#0096fa\" cx=\"119.203\" cy=\"-303.204\" rx=\"37.3834\" ry=\"18\"/>\n",
       "<text text-anchor=\"middle\" x=\"119.203\" y=\"-304.804\" font-family=\"Times,serif\" font-size=\"8.00\">w3_t0</text>\n",
       "<text text-anchor=\"middle\" x=\"119.203\" y=\"-296.804\" font-family=\"Times,serif\" font-size=\"8.00\">PhononTask</text>\n",
       "</g>\n",
       "<!-- w0_t0&#45;&gt;w3_t0 -->\n",
       "<g id=\"edge10\" class=\"edge\"><title>w0_t0&#45;&gt;w3_t0</title>\n",
       "<path fill=\"none\" stroke=\"#ff0000\" d=\"M213.247,-219.639C195.089,-235.774 165.964,-261.654 144.934,-280.341\"/>\n",
       "<polygon fill=\"#ff0000\" stroke=\"#ff0000\" points=\"142.461,-277.856 137.31,-287.115 147.11,-283.089 142.461,-277.856\"/>\n",
       "<text text-anchor=\"middle\" x=\"163.535\" y=\"-252.79\" font-family=\"Times,serif\" font-size=\"14.00\">WFK</text>\n",
       "</g>\n",
       "<!-- w3_t1 -->\n",
       "<g id=\"node12\" class=\"node\"><title>w3_t1</title>\n",
       "<ellipse fill=\"#0096fa\" stroke=\"#0096fa\" cx=\"46.0918\" cy=\"-258.681\" rx=\"37.3834\" ry=\"18\"/>\n",
       "<text text-anchor=\"middle\" x=\"46.0918\" y=\"-260.281\" font-family=\"Times,serif\" font-size=\"8.00\">w3_t1</text>\n",
       "<text text-anchor=\"middle\" x=\"46.0918\" y=\"-252.281\" font-family=\"Times,serif\" font-size=\"8.00\">PhononTask</text>\n",
       "</g>\n",
       "<!-- w0_t0&#45;&gt;w3_t1 -->\n",
       "<g id=\"edge11\" class=\"edge\"><title>w0_t0&#45;&gt;w3_t1</title>\n",
       "<path fill=\"none\" stroke=\"#ff0000\" d=\"M204.504,-212.184C174.267,-221.059 123.536,-235.95 87.6399,-246.486\"/>\n",
       "<polygon fill=\"#ff0000\" stroke=\"#ff0000\" points=\"86.5475,-243.159 77.938,-249.334 88.519,-249.875 86.5475,-243.159\"/>\n",
       "<text text-anchor=\"middle\" x=\"130.517\" y=\"-232.135\" font-family=\"Times,serif\" font-size=\"14.00\">WFK</text>\n",
       "</g>\n",
       "<!-- w1_t0&#45;&gt;w1_t3 -->\n",
       "<g id=\"edge12\" class=\"edge\"><title>w1_t0&#45;&gt;w1_t3</title>\n",
       "<path fill=\"none\" stroke=\"#00cccc\" d=\"M460.968,-70.2793C447.877,-85.3915 428.142,-108.171 413.234,-125.379\"/>\n",
       "<polygon fill=\"#00cccc\" stroke=\"#00cccc\" points=\"410.256,-123.472 406.354,-133.322 415.547,-128.055 410.256,-123.472\"/>\n",
       "<text text-anchor=\"middle\" x=\"421.936\" y=\"-100.629\" font-family=\"Times,serif\" font-size=\"14.00\">DDK</text>\n",
       "</g>\n",
       "<!-- w1_t0&#45;&gt;w1_t4 -->\n",
       "<g id=\"edge13\" class=\"edge\"><title>w1_t0&#45;&gt;w1_t4</title>\n",
       "<path fill=\"none\" stroke=\"#00cccc\" d=\"M473.287,-72.3499C471.235,-94.981 467.707,-133.877 465.292,-160.5\"/>\n",
       "<polygon fill=\"#00cccc\" stroke=\"#00cccc\" points=\"461.782,-160.455 464.364,-170.731 468.753,-161.088 461.782,-160.455\"/>\n",
       "<text text-anchor=\"middle\" x=\"454.124\" y=\"-119.225\" font-family=\"Times,serif\" font-size=\"14.00\">DDK</text>\n",
       "</g>\n",
       "<!-- w1_t1&#45;&gt;w1_t3 -->\n",
       "<g id=\"edge14\" class=\"edge\"><title>w1_t1&#45;&gt;w1_t3</title>\n",
       "<path fill=\"none\" stroke=\"#00cccc\" d=\"M351.661,-116.264C356.459,-120.126 361.738,-124.375 366.863,-128.5\"/>\n",
       "<polygon fill=\"#00cccc\" stroke=\"#00cccc\" points=\"364.715,-131.264 374.7,-134.807 369.104,-125.811 364.715,-131.264\"/>\n",
       "<text text-anchor=\"middle\" x=\"374.428\" y=\"-111.182\" font-family=\"Times,serif\" font-size=\"14.00\">DDK</text>\n",
       "</g>\n",
       "<!-- w1_t1&#45;&gt;w1_t4 -->\n",
       "<g id=\"edge15\" class=\"edge\"><title>w1_t1&#45;&gt;w1_t4</title>\n",
       "<path fill=\"none\" stroke=\"#00cccc\" d=\"M353.822,-115.414C375.413,-130.02 409.849,-153.315 434.205,-169.792\"/>\n",
       "<polygon fill=\"#00cccc\" stroke=\"#00cccc\" points=\"432.436,-172.82 442.68,-175.525 436.358,-167.022 432.436,-172.82\"/>\n",
       "<text text-anchor=\"middle\" x=\"409.179\" y=\"-131.403\" font-family=\"Times,serif\" font-size=\"14.00\">DDK</text>\n",
       "</g>\n",
       "<!-- w1_t2&#45;&gt;w1_t3 -->\n",
       "<g id=\"edge16\" class=\"edge\"><title>w1_t2&#45;&gt;w1_t3</title>\n",
       "<path fill=\"none\" stroke=\"#00cccc\" d=\"M455.911,-128.378C447.252,-131.227 437.484,-134.44 428.259,-137.474\"/>\n",
       "<polygon fill=\"#00cccc\" stroke=\"#00cccc\" points=\"426.946,-134.222 418.54,-140.671 429.133,-140.871 426.946,-134.222\"/>\n",
       "<text text-anchor=\"middle\" x=\"457.251\" y=\"-135.726\" font-family=\"Times,serif\" font-size=\"14.00\">DDK</text>\n",
       "</g>\n",
       "<!-- w1_t2&#45;&gt;w1_t4 -->\n",
       "<g id=\"edge17\" class=\"edge\"><title>w1_t2&#45;&gt;w1_t4</title>\n",
       "<path fill=\"none\" stroke=\"#00cccc\" d=\"M477.296,-137.547C475.249,-144.776 472.837,-153.289 470.57,-161.291\"/>\n",
       "<polygon fill=\"#00cccc\" stroke=\"#00cccc\" points=\"467.173,-160.443 467.815,-171.018 473.908,-162.351 467.173,-160.443\"/>\n",
       "<text text-anchor=\"middle\" x=\"458.768\" y=\"-152.219\" font-family=\"Times,serif\" font-size=\"14.00\">DDK</text>\n",
       "</g>\n",
       "</g>\n",
       "</svg>\n"
      ],
      "text/plain": [
       "<graphviz.dot.Digraph at 0x1a2ac988d0>"
      ]
     },
     "execution_count": 25,
     "metadata": {},
     "output_type": "execute_result"
    }
   ],
   "source": [
    "flow_phbands.get_graphviz()\n",
    "#flow_phbands.plot_networkx();"
   ]
  },
  {
   "cell_type": "markdown",
   "metadata": {},
   "source": [
    "Note that there are a lot of things happening under the hood here.\n",
    "\n",
    "First of all, AbiPy generates `PhononTasks` only for the $q$-points in the \n",
    "irreducible wedge of the Brillouin zone corresponding to `ph_ngqpt`.\n",
    "Moreover, for a given $q$-point, only the irreducible atomic perturbations are explicitly computed\n",
    "since the other atomic perturbations can be reconstructed by symmetry.\n",
    "Fortunately you do not have to care about all these technical details as AbiPy and Abinit \n",
    "will automate the whole procedure.\n",
    "\n",
    "Remember that the $q$-point mesh cannot be chosen arbitrarily\n",
    "since all $q$ wavevectors should connect two $k$ points of the grid used for the electrons.\n",
    "\n",
    "It is also worth stressing that the computational cost of the DFPT run depends on the q-point \n",
    "since only those symmetries that preserve the q-point as well as the direction of the perturbation \n",
    "can be employed (calculations at $\\Gamma$ are therefore much faster than other q-points)."
   ]
  },
  {
   "cell_type": "code",
   "execution_count": 26,
   "metadata": {
    "collapsed": false
   },
   "outputs": [
    {
     "data": {
      "text/html": [
       "<div>\n",
       "<style scoped>\n",
       "    .dataframe tbody tr th:only-of-type {\n",
       "        vertical-align: middle;\n",
       "    }\n",
       "\n",
       "    .dataframe tbody tr th {\n",
       "        vertical-align: top;\n",
       "    }\n",
       "\n",
       "    .dataframe thead th {\n",
       "        text-align: right;\n",
       "    }\n",
       "</style>\n",
       "<table border=\"1\" class=\"dataframe\">\n",
       "  <thead>\n",
       "    <tr style=\"text-align: right;\">\n",
       "      <th></th>\n",
       "      <th>rfphon</th>\n",
       "      <th>rfatpol</th>\n",
       "      <th>rfdir</th>\n",
       "      <th>qpt</th>\n",
       "      <th>kptopt</th>\n",
       "      <th>class</th>\n",
       "    </tr>\n",
       "  </thead>\n",
       "  <tbody>\n",
       "    <tr>\n",
       "      <th>w0_t0</th>\n",
       "      <td>None</td>\n",
       "      <td>None</td>\n",
       "      <td>None</td>\n",
       "      <td>None</td>\n",
       "      <td>None</td>\n",
       "      <td>ScfTask</td>\n",
       "    </tr>\n",
       "    <tr>\n",
       "      <th>w1_t0</th>\n",
       "      <td>None</td>\n",
       "      <td>None</td>\n",
       "      <td>(1, 0, 0)</td>\n",
       "      <td>(0, 0, 0)</td>\n",
       "      <td>2</td>\n",
       "      <td>DdkTask</td>\n",
       "    </tr>\n",
       "    <tr>\n",
       "      <th>w1_t1</th>\n",
       "      <td>None</td>\n",
       "      <td>None</td>\n",
       "      <td>(0, 1, 0)</td>\n",
       "      <td>(0, 0, 0)</td>\n",
       "      <td>2</td>\n",
       "      <td>DdkTask</td>\n",
       "    </tr>\n",
       "    <tr>\n",
       "      <th>w1_t2</th>\n",
       "      <td>None</td>\n",
       "      <td>None</td>\n",
       "      <td>(0, 0, 1)</td>\n",
       "      <td>(0, 0, 0)</td>\n",
       "      <td>2</td>\n",
       "      <td>DdkTask</td>\n",
       "    </tr>\n",
       "    <tr>\n",
       "      <th>w1_t3</th>\n",
       "      <td>1</td>\n",
       "      <td>[1, 1]</td>\n",
       "      <td>[1, 0, 0]</td>\n",
       "      <td>(0, 0, 0)</td>\n",
       "      <td>2</td>\n",
       "      <td>BecTask</td>\n",
       "    </tr>\n",
       "    <tr>\n",
       "      <th>w1_t4</th>\n",
       "      <td>1</td>\n",
       "      <td>[2, 2]</td>\n",
       "      <td>[1, 0, 0]</td>\n",
       "      <td>(0, 0, 0)</td>\n",
       "      <td>2</td>\n",
       "      <td>BecTask</td>\n",
       "    </tr>\n",
       "    <tr>\n",
       "      <th>w2_t0</th>\n",
       "      <td>1</td>\n",
       "      <td>[1, 1]</td>\n",
       "      <td>[1, 0, 0]</td>\n",
       "      <td>[0.5, 0.0, 0.0]</td>\n",
       "      <td>3</td>\n",
       "      <td>PhononTask</td>\n",
       "    </tr>\n",
       "    <tr>\n",
       "      <th>w2_t1</th>\n",
       "      <td>1</td>\n",
       "      <td>[1, 1]</td>\n",
       "      <td>[0, 1, 0]</td>\n",
       "      <td>[0.5, 0.0, 0.0]</td>\n",
       "      <td>3</td>\n",
       "      <td>PhononTask</td>\n",
       "    </tr>\n",
       "    <tr>\n",
       "      <th>w2_t2</th>\n",
       "      <td>1</td>\n",
       "      <td>[2, 2]</td>\n",
       "      <td>[1, 0, 0]</td>\n",
       "      <td>[0.5, 0.0, 0.0]</td>\n",
       "      <td>3</td>\n",
       "      <td>PhononTask</td>\n",
       "    </tr>\n",
       "    <tr>\n",
       "      <th>w2_t3</th>\n",
       "      <td>1</td>\n",
       "      <td>[2, 2]</td>\n",
       "      <td>[0, 1, 0]</td>\n",
       "      <td>[0.5, 0.0, 0.0]</td>\n",
       "      <td>3</td>\n",
       "      <td>PhononTask</td>\n",
       "    </tr>\n",
       "    <tr>\n",
       "      <th>w3_t0</th>\n",
       "      <td>1</td>\n",
       "      <td>[1, 1]</td>\n",
       "      <td>[1, 0, 0]</td>\n",
       "      <td>[0.5, 0.5, 0.0]</td>\n",
       "      <td>3</td>\n",
       "      <td>PhononTask</td>\n",
       "    </tr>\n",
       "    <tr>\n",
       "      <th>w3_t1</th>\n",
       "      <td>1</td>\n",
       "      <td>[2, 2]</td>\n",
       "      <td>[1, 0, 0]</td>\n",
       "      <td>[0.5, 0.5, 0.0]</td>\n",
       "      <td>3</td>\n",
       "      <td>PhononTask</td>\n",
       "    </tr>\n",
       "  </tbody>\n",
       "</table>\n",
       "</div>"
      ],
      "text/plain": [
       "      rfphon rfatpol      rfdir              qpt kptopt       class\n",
       "w0_t0   None    None       None             None   None     ScfTask\n",
       "w1_t0   None    None  (1, 0, 0)        (0, 0, 0)      2     DdkTask\n",
       "w1_t1   None    None  (0, 1, 0)        (0, 0, 0)      2     DdkTask\n",
       "w1_t2   None    None  (0, 0, 1)        (0, 0, 0)      2     DdkTask\n",
       "w1_t3      1  [1, 1]  [1, 0, 0]        (0, 0, 0)      2     BecTask\n",
       "w1_t4      1  [2, 2]  [1, 0, 0]        (0, 0, 0)      2     BecTask\n",
       "w2_t0      1  [1, 1]  [1, 0, 0]  [0.5, 0.0, 0.0]      3  PhononTask\n",
       "w2_t1      1  [1, 1]  [0, 1, 0]  [0.5, 0.0, 0.0]      3  PhononTask\n",
       "w2_t2      1  [2, 2]  [1, 0, 0]  [0.5, 0.0, 0.0]      3  PhononTask\n",
       "w2_t3      1  [2, 2]  [0, 1, 0]  [0.5, 0.0, 0.0]      3  PhononTask\n",
       "w3_t0      1  [1, 1]  [1, 0, 0]  [0.5, 0.5, 0.0]      3  PhononTask\n",
       "w3_t1      1  [2, 2]  [1, 0, 0]  [0.5, 0.5, 0.0]      3  PhononTask"
      ]
     },
     "execution_count": 26,
     "metadata": {},
     "output_type": "execute_result"
    }
   ],
   "source": [
    "flow_phbands.get_vars_dataframe(\"rfphon\", \"rfatpol\", \"rfdir\", \"qpt\", \"kptopt\")"
   ]
  },
  {
   "cell_type": "markdown",
   "metadata": {},
   "source": [
    "Now we can generate the directories and the input files of the `Flow`.\n",
    "Change lesson_dfpt.py so that the build_flow_alas_phonons function is called in main\n",
    "instead of build_flow_alas_ecut_conv. \n",
    "Run the script to generate the directory with the flow.\n",
    "Finally, use \n",
    "\n",
    "    abirun.py flow_alas_phonons scheduler\n",
    "    \n",
    "to launch the entire calculation."
   ]
  },
  {
   "cell_type": "markdown",
   "metadata": {},
   "source": [
    "## Post-processing the results\n",
    "[[back to top](#top)]\n",
    "\n",
    "Our flow is completed and we have the final DDB file with all the $q$-points and all the independent atomic perturbations. \n",
    "Let's open this DDB file with:"
   ]
  },
  {
   "cell_type": "code",
   "execution_count": 27,
   "metadata": {
    "collapsed": false
   },
   "outputs": [
    {
     "name": "stdout",
     "output_type": "stream",
     "text": [
      "================================= File Info =================================\n",
      "Name: out_DDB\n",
      "Directory: /Users/gmatteo/git_repos/abitutorials/abitutorials/dfpt/flow_alas_phonons/outdata\n",
      "Size: 28.11 kb\n",
      "Access Time: Sun Aug 12 00:43:48 2018\n",
      "Modification Time: Thu Oct 12 22:34:40 2017\n",
      "Change Time: Thu Oct 12 22:34:40 2017\n",
      "\n",
      "================================= Structure =================================\n",
      "Full Formula (Al1 As1)\n",
      "Reduced Formula: AlAs\n",
      "abc   :   3.970101   3.970101   3.970101\n",
      "angles:  60.000000  60.000000  60.000000\n",
      "Sites (2)\n",
      "  #  SP       a     b     c\n",
      "---  ----  ----  ----  ----\n",
      "  0  Al    0     0     0\n",
      "  1  As    0.25  0.25  0.25\n",
      "\n",
      "Abinit Spacegroup: spgid: 0, num_spatial_symmetries: 24, has_timerev: True, symmorphic: False\n",
      "\n",
      "================================== DDB Info ==================================\n",
      "\n",
      "Number of q-points in DDB: 3\n",
      "guessed_ngqpt: [2 2 2] (guess for the q-mesh divisions made by AbiPy)\n",
      "Has total energy: False, Has forces: False\n",
      "Has stress tensor: False\n",
      "\n",
      "Has (at least one) atomic pertubation: True\n",
      "Has (at least one diagonal) electric-field perturbation: True\n",
      "Has (at least one) Born effective charge: True\n",
      "Has (all) strain terms: False\n",
      "Has (all) internal strain terms: False\n",
      "Has (all) piezoelectric terms: False\n"
     ]
    }
   ],
   "source": [
    "ddb = abilab.abiopen(\"flow_alas_phonons/outdata/out_DDB\")\n",
    "print(ddb)"
   ]
  },
  {
   "cell_type": "markdown",
   "metadata": {},
   "source": [
    "The `DdbFile` object provides an easy-to-use interface that invokes `anaddb` to post-process\n",
    "the data stored in the DDB file.\n",
    "\n",
    "`anacompare_phdos`, for example, computes the phonon DOS with different $q$-meshes.\n",
    "Each mesh is defined by a single integer, `nqsmall`, that gives the number of \n",
    "divisions used to sample the smallest reciprocal lattice vector. \n",
    "The number of divisions along the other directions are chosen so that proportions are preserved:"
   ]
  },
  {
   "cell_type": "code",
   "execution_count": 28,
   "metadata": {
    "collapsed": true
   },
   "outputs": [],
   "source": [
    "c = ddb.anacompare_phdos(nqsmalls=[8, 10, 12, 14, 16])"
   ]
  },
  {
   "cell_type": "code",
   "execution_count": 29,
   "metadata": {
    "collapsed": false
   },
   "outputs": [
    {
     "data": {
      "image/png": "[encoded data removed]",
      "text/plain": [
       "<Figure size 432x288 with 1 Axes>"
      ]
     },
     "metadata": {},
     "output_type": "display_data"
    }
   ],
   "source": [
    "c.plotter.combiplot();"
   ]
  },
  {
   "cell_type": "markdown",
   "metadata": {},
   "source": [
    "A 16x16x16 $q$-mesh with the tethraedron method gives a well converged phonon DOS."
   ]
  },
  {
   "cell_type": "markdown",
   "metadata": {},
   "source": [
    "To function `anaget_phbst_and_phdos_files` allows one to compute the phonon band structure on an automatically defined $q$-path as well as the the phonon DOS:"
   ]
  },
  {
   "cell_type": "code",
   "execution_count": 30,
   "metadata": {
    "collapsed": true
   },
   "outputs": [],
   "source": [
    "phbst_file, phdos_file = ddb.anaget_phbst_and_phdos_files(ndivsm=10, nqsmall=16, lo_to_splitting=False)\n",
    "\n",
    "# Extract the phonon bands and the phonon DOS from phbst_file and phdos_file\n",
    "phbands = phbst_file.phbands \n",
    "phdos = phdos_file.phdos"
   ]
  },
  {
   "cell_type": "markdown",
   "metadata": {},
   "source": [
    "Let's plot the bands with matplotlib:"
   ]
  },
  {
   "cell_type": "code",
   "execution_count": 31,
   "metadata": {
    "collapsed": false
   },
   "outputs": [
    {
     "data": {
      "image/png": "[encoded data removed]",
      "text/plain": [
       "<Figure size 432x288 with 1 Axes>"
      ]
     },
     "metadata": {},
     "output_type": "display_data"
    }
   ],
   "source": [
    "phbands.plot();"
   ]
  },
  {
   "cell_type": "markdown",
   "metadata": {},
   "source": [
    "and the high-symmetry q-path:"
   ]
  },
  {
   "cell_type": "code",
   "execution_count": 32,
   "metadata": {
    "collapsed": false
   },
   "outputs": [
    {
     "data": {
      "image/png": "[encoded data removed]",
      "text/plain": [
       "<Figure size 432x288 with 1 Axes>"
      ]
     },
     "metadata": {},
     "output_type": "display_data"
    }
   ],
   "source": [
    "phbands.qpoints.plot();"
   ]
  },
  {
   "cell_type": "markdown",
   "metadata": {},
   "source": [
    "Do you see the two strange dips for the highest phonon band, at the $\\Gamma$ point?\n",
    "They are due to the lack of LO-TO splitting for the ANADDB treatment of the first list of vector. \n",
    "See also the discussion in the [second DFPT lesson](https://docs.abinit.org/tutorial/rf2/index.html)."
   ]
  },
  {
   "cell_type": "markdown",
   "metadata": {},
   "source": [
    "For years, Abinit users had to patch manually the output frequencies to include the LO-TO splitting.\n",
    "These days are finally gone and we can plot the LO-TO splitting with AbiPy by just setting\n",
    "lo_to_splitting=True`:"
   ]
  },
  {
   "cell_type": "code",
   "execution_count": 33,
   "metadata": {
    "collapsed": true
   },
   "outputs": [],
   "source": [
    "phbst_file, phdos_file = ddb.anaget_phbst_and_phdos_files(ndivsm=10, nqsmall=16, lo_to_splitting=True)\n",
    "\n",
    "# Extract the phonon bands and the phonon DOS from phbst_file and phdos_file\n",
    "phbands = phbst_file.phbands \n",
    "phdos = phdos_file.phdos"
   ]
  },
  {
   "cell_type": "code",
   "execution_count": 34,
   "metadata": {
    "collapsed": true
   },
   "outputs": [],
   "source": [
    "#phbst_file.phbands.qpoints.plot(); "
   ]
  },
  {
   "cell_type": "markdown",
   "metadata": {},
   "source": [
    "The band structure plot now correctly shows the non-analytical behaviour around $\\Gamma$:"
   ]
  },
  {
   "cell_type": "code",
   "execution_count": 35,
   "metadata": {
    "collapsed": false
   },
   "outputs": [
    {
     "data": {
      "image/png": "[encoded data removed]",
      "text/plain": [
       "<Figure size 432x288 with 1 Axes>"
      ]
     },
     "metadata": {},
     "output_type": "display_data"
    }
   ],
   "source": [
    "phbands.plot();"
   ]
  },
  {
   "cell_type": "markdown",
   "metadata": {},
   "source": [
    "<div class=\"alert alert-warning\">\n",
    "`lo_to_splitting=True` works only when the DDB contains the Born effective charges and the dielectric constant,\n",
    "that must be computed in the Abinit run.\n",
    "</div>"
   ]
  },
  {
   "cell_type": "markdown",
   "metadata": {},
   "source": [
    "To plot bands and DOS on the same figure:"
   ]
  },
  {
   "cell_type": "code",
   "execution_count": 36,
   "metadata": {
    "collapsed": false
   },
   "outputs": [
    {
     "data": {
      "image/png": "[encoded data removed]",
      "text/plain": [
       "<Figure size 432x288 with 2 Axes>"
      ]
     },
     "metadata": {},
     "output_type": "display_data"
    }
   ],
   "source": [
    "phbands.plot_with_phdos(phdos);"
   ]
  },
  {
   "cell_type": "markdown",
   "metadata": {},
   "source": [
    "The `PhdosFile` contains the phonon frequencies, the displacement vectors\n",
    "as well as the decomposition of the total DOS in terms of the contributions due to \n",
    "the different types of atom in the unit cell.\n",
    "This means that one can plot the type-projected phonon DOS with:"
   ]
  },
  {
   "cell_type": "code",
   "execution_count": 37,
   "metadata": {
    "collapsed": false
   },
   "outputs": [
    {
     "data": {
      "image/png": "[encoded data removed]",
      "text/plain": [
       "<Figure size 432x288 with 1 Axes>"
      ]
     },
     "metadata": {},
     "output_type": "display_data"
    }
   ],
   "source": [
    "phdos_file.plot_pjdos_type(title=\"AlAs type-projected phonon DOS\");"
   ]
  },
  {
   "cell_type": "markdown",
   "metadata": {},
   "source": [
    "and it is even possible to plot fatbands and type-projected DOSes on the same figure with:"
   ]
  },
  {
   "cell_type": "code",
   "execution_count": 38,
   "metadata": {
    "collapsed": false
   },
   "outputs": [
    {
     "data": {
      "image/png": "[encoded data removed]",
      "text/plain": [
       "<Figure size 432x288 with 4 Axes>"
      ]
     },
     "metadata": {},
     "output_type": "display_data"
    }
   ],
   "source": [
    "phbands.plot_fatbands(phdos_file=phdos_file);"
   ]
  },
  {
   "cell_type": "markdown",
   "metadata": {},
   "source": [
    "The highest frequency modes have a strong Al-character while the low frequency modes originate from As. \n",
    "This behaviour is somehow expected. Could you explain it in terms of a simple physical model?   "
   ]
  },
  {
   "cell_type": "markdown",
   "metadata": {},
   "source": [
    "## Macroscopic dielectric tensor and Born effective charges\n",
    "[[back to top](#top)]\n",
    "\n",
    "Our calculations includes the response of the system to an external electric field.\n",
    "The code below extracts the macroscopic dielectric tensor (`emacro`)\n",
    "and the Born effective charges (`becs`) from the DDB file:"
   ]
  },
  {
   "cell_type": "code",
   "execution_count": 39,
   "metadata": {
    "collapsed": true
   },
   "outputs": [],
   "source": [
    "emacro, becs = ddb.anaget_emacro_and_becs()"
   ]
  },
  {
   "cell_type": "code",
   "execution_count": 40,
   "metadata": {
    "collapsed": false
   },
   "outputs": [
    {
     "data": {
      "text/plain": [
       "DielectricTensor([[ 1.03961652e+01 -0.00000000e+00 -0.00000000e+00]\n",
       " [-0.00000000e+00  1.03961652e+01  1.19611765e-15]\n",
       " [-0.00000000e+00  1.19611765e-15  1.03961652e+01]])"
      ]
     },
     "execution_count": 40,
     "metadata": {},
     "output_type": "execute_result"
    }
   ],
   "source": [
    "emacro"
   ]
  },
  {
   "cell_type": "code",
   "execution_count": 41,
   "metadata": {
    "collapsed": false
   },
   "outputs": [
    {
     "data": {
      "text/html": [
       "<div>\n",
       "<style scoped>\n",
       "    .dataframe tbody tr th:only-of-type {\n",
       "        vertical-align: middle;\n",
       "    }\n",
       "\n",
       "    .dataframe tbody tr th {\n",
       "        vertical-align: top;\n",
       "    }\n",
       "\n",
       "    .dataframe thead th {\n",
       "        text-align: right;\n",
       "    }\n",
       "</style>\n",
       "<table border=\"1\" class=\"dataframe\">\n",
       "  <thead>\n",
       "    <tr style=\"text-align: right;\">\n",
       "      <th></th>\n",
       "      <th>element</th>\n",
       "      <th>frac_coords</th>\n",
       "      <th>xx</th>\n",
       "      <th>yy</th>\n",
       "      <th>zz</th>\n",
       "      <th>yz</th>\n",
       "      <th>xz</th>\n",
       "      <th>xy</th>\n",
       "    </tr>\n",
       "  </thead>\n",
       "  <tbody>\n",
       "    <tr>\n",
       "      <th>0</th>\n",
       "      <td>Al</td>\n",
       "      <td>[0.0, 0.0, 0.0]</td>\n",
       "      <td>2.168053</td>\n",
       "      <td>2.168053</td>\n",
       "      <td>2.168053</td>\n",
       "      <td>-2.087488e-19</td>\n",
       "      <td>-2.087488e-19</td>\n",
       "      <td>0.0</td>\n",
       "    </tr>\n",
       "    <tr>\n",
       "      <th>1</th>\n",
       "      <td>As</td>\n",
       "      <td>[0.25, 0.25, 0.25]</td>\n",
       "      <td>-2.168053</td>\n",
       "      <td>-2.168053</td>\n",
       "      <td>-2.168053</td>\n",
       "      <td>2.087488e-19</td>\n",
       "      <td>2.087488e-19</td>\n",
       "      <td>0.0</td>\n",
       "    </tr>\n",
       "  </tbody>\n",
       "</table>\n",
       "</div>"
      ],
      "text/plain": [
       "Born effective charges in Cartesian coordinates (Voigt notation)\n",
       "  element         frac_coords        xx        yy        zz            yz            xz   xy\n",
       "0      Al     [0.0, 0.0, 0.0]  2.168053  2.168053  2.168053 -2.087488e-19 -2.087488e-19  0.0\n",
       "1      As  [0.25, 0.25, 0.25] -2.168053 -2.168053 -2.168053  2.087488e-19  2.087488e-19  0.0\n",
       "\n",
       "Born effective charge neutrality sum-rule with chneut: 1\n",
       "\n",
       "[[0.00000000e+00 0.00000000e+00 0.00000000e+00]\n",
       " [0.00000000e+00 0.00000000e+00 0.00000000e+00]\n",
       " [2.40741243e-35 2.40741243e-35 0.00000000e+00]]"
      ]
     },
     "execution_count": 41,
     "metadata": {},
     "output_type": "execute_result"
    }
   ],
   "source": [
    "becs"
   ]
  },
  {
   "cell_type": "markdown",
   "metadata": {},
   "source": [
    "As explained in the references, the Born effective charges must fulfill \n",
    "the charge neutrality sum-rule.\n",
    "This rule is usually broken due to the discretization introduced by the FFT mesh, and `anaddb` will enforce it if `chneut` is set to 1 (default behaviour). Let's check it out!"
   ]
  },
  {
   "cell_type": "code",
   "execution_count": 42,
   "metadata": {},
   "outputs": [
    {
     "name": "stdout",
     "output_type": "stream",
     "text": [
      "Born effective charges in Cartesian coordinates (Voigt notation)\n",
      "  element         frac_coords        xx        yy        zz            yz            xz   xy\n",
      "0      Al     [0.0, 0.0, 0.0]  2.168053  2.168053  2.168053 -2.087488e-19 -2.087488e-19  0.0\n",
      "1      As  [0.25, 0.25, 0.25] -2.168053 -2.168053 -2.168053  2.087488e-19  2.087488e-19  0.0\n",
      "\n",
      "Born effective charge neutrality sum-rule with chneut: 1\n",
      "\n",
      "[[0.00000000e+00 0.00000000e+00 0.00000000e+00]\n",
      " [0.00000000e+00 0.00000000e+00 0.00000000e+00]\n",
      " [2.40741243e-35 2.40741243e-35 0.00000000e+00]]\n"
     ]
    }
   ],
   "source": [
    "print(becs)"
   ]
  },
  {
   "cell_type": "markdown",
   "metadata": {},
   "source": [
    "Let's repeat the same calculation but without enforcing the sum-rule:"
   ]
  },
  {
   "cell_type": "code",
   "execution_count": 43,
   "metadata": {
    "collapsed": false
   },
   "outputs": [
    {
     "name": "stdout",
     "output_type": "stream",
     "text": [
      "Born effective charges in Cartesian coordinates (Voigt notation)\n",
      "  element         frac_coords        xx        yy        zz            yz            xz   xy\n",
      "0      Al     [0.0, 0.0, 0.0]  2.127295  2.127295  2.127295  8.199282e-20  8.199282e-20  0.0\n",
      "1      As  [0.25, 0.25, 0.25] -2.208811 -2.208811 -2.208811  4.994904e-19  4.994904e-19  0.0\n",
      "\n",
      "Born effective charge neutrality sum-rule with chneut: 0\n",
      "\n",
      "[[-8.15163891e-02  0.00000000e+00  0.00000000e+00]\n",
      " [ 0.00000000e+00 -8.15163891e-02  0.00000000e+00]\n",
      " [ 5.81483171e-19  5.81483171e-19 -8.15163891e-02]]\n"
     ]
    }
   ],
   "source": [
    "emacro, becs_chneut0 = ddb.anaget_emacro_and_becs(chneut=0)\n",
    "print(becs_chneut0)"
   ]
  },
  {
   "cell_type": "markdown",
   "metadata": {},
   "source": [
    "## Thermodynamic properties within the harmonic approximation\n",
    "[[back to top](#top)]\n",
    "\n",
    "The thermodynamic properties of an ensemble of non-interacting phonons can be \n",
    "expresses in terms of integrals of the DOS.\n",
    "\n",
    "\\begin{equation} %\\label{eq:helmholtz}\n",
    "\\Delta F = 3nNk_BT\\int_{0}^{\\omega_L}\\text{ln}\\left(2\\text{sinh}\\frac{\\hbar\\omega}{2k_BT}\\right)g(\\omega)d\\omega\n",
    "\\end{equation}\n",
    "\n",
    "\\begin{equation} %\\label{eq:free_en}\n",
    "\\Delta E = 3nN\\frac{\\hbar}{2}\\int_{0}^{\\omega_L}\\omega\\text{coth}\\left(\\frac{\\hbar\\omega}{2k_BT}\\right)g(\\omega)d\\omega\n",
    "\\end{equation}\n",
    "\n",
    "\\begin{equation} %\\label{eq:c_v}\n",
    "C_v = 3nNk_B\\int_{0}^{\\omega_L}\\left(\\frac{\\hbar\\omega}{2k_BT}\\right)^2\\text{csch}^2\\left(\\frac{\\hbar\\omega}{2k_BT}\\right)g(\\omega)d\\omega\n",
    "\\end{equation}\n",
    "\n",
    "\n",
    "\\begin{equation} %\\label{eq:entropy}\n",
    "S = 3nNk_B\\int_{0}^{\\omega_L}\\left(\\frac{\\hbar\\omega}{2k_BT}\\text{coth}\\left(\\frac{\\hbar\\omega}{2k_BT}\\right) - \\text{ln}\\left(2\\text{sinh}\\frac{\\hbar\\omega}{2k_BT}\\right)\\right)g(\\omega)d\\omega,\n",
    "\\end{equation}\n",
    "\n",
    "where $k_B$ is the Boltzmann constant.\n",
    "\n",
    "This should represent a reasonable approximation especially in the low temperature \n",
    "regime in which anharmonic effects can be neglected.   \n",
    "\n",
    "Let's plot the vibrational contributions thermodynamic properties as function of $T$: "
   ]
  },
  {
   "cell_type": "code",
   "execution_count": 44,
   "metadata": {
    "collapsed": false
   },
   "outputs": [
    {
     "data": {
      "image/png": "[encoded data removed]",
      "text/plain": [
       "<Figure size 432x288 with 4 Axes>"
      ]
     },
     "metadata": {},
     "output_type": "display_data"
    }
   ],
   "source": [
    "phdos.plot_harmonic_thermo();"
   ]
  },
  {
   "cell_type": "markdown",
   "metadata": {},
   "source": [
    "## Exercises\n",
    "[[back to top](#top)]\n",
    "\n",
    "* Our first phonon band structure has been computed with a (4, 4, 4) $k$-mesh \n",
    "  for the electrons and a (2, 2, 2) $q$-mesh for phonons. \n",
    "  You may try to increase the density of $k$-points/$q$-points\n",
    "  to see if this change affects the final results.\n",
    "        \n",
    "* Why do you get an error from AbiPy if you try `ngkpt` = (4, 4, 4,) and `ngqpt` = (3, 3, 3)?"
   ]
  },
  {
   "cell_type": "markdown",
   "metadata": {},
   "source": [
    "Back to the main [Index](../index.ipynb)"
   ]
  },
  {
   "cell_type": "code",
   "execution_count": null,
   "metadata": {
    "collapsed": true
   },
   "outputs": [],
   "source": []
  }
 ],
 "metadata": {
  "kernelspec": {
   "display_name": "Python [default]",
   "language": "python",
   "name": "python3"
  },
  "language_info": {
   "codemirror_mode": {
    "name": "ipython",
    "version": 3
   },
   "file_extension": ".py",
   "mimetype": "text/x-python",
   "name": "python",
   "nbconvert_exporter": "python",
   "pygments_lexer": "ipython3",
   "version": "3.6.1"
  },
  "latex_envs": {
   "bibliofile": "biblio.bib",
   "cite_by": "apalike",
   "current_citInitial": 1,
   "eqLabelWithNumbers": true,
   "eqNumInitial": 0
  }
 },
 "nbformat": 4,
 "nbformat_minor": 2
}
