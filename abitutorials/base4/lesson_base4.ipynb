{
 "cells": [
  {
   "cell_type": "markdown",
   "metadata": {},
   "source": [
    "<div class=\"jumbotron\">\n",
    "  <h1 class=\"display-3\">Fourth (basic) lesson with Abinit and AbiPy</h1>\n",
    "  <p class=\"lead\">The H<sub>2</sub> molecule</p> \n",
    "  <hr class=\"my-4\">\n",
    "  <p>This lesson aims at showing how to get the following physical properties, for a metal, and for a surface:\n",
    "\n",
    "the total energy\n",
    "the lattice parameter\n",
    "the relaxation of surface atoms\n",
    "the surface energy You will learn about the smearing of the Brillouin zone integration, and also a bit about preconditioning the SCF cycle.\n",
    "This lesson should take about 1 hour and 30 minutes.\n",
    "</p>\n",
    "  <p class=\"lead\">\n",
    "    <a class=\"btn btn-primary btn-lg\" href=\"#\" role=\"button\">Learn more</a>\n",
    "  </p>\n",
    "</div>"
   ]
  },
  {
   "cell_type": "code",
   "execution_count": 1,
   "metadata": {},
   "outputs": [],
   "source": [
    "# Use this at the beginning of your script so that your code will be compatible with python3\n",
    "from __future__ import print_function, division, unicode_literals\n",
    "\n",
    "import numpy as np\n",
    "import seaborn as sns\n",
    "\n",
    "from abipy import abilab\n",
    "\n",
    "# This line tells the notebook to show plots inside of the notebook\n",
    "%matplotlib notebook"
   ]
  },
  {
   "cell_type": "markdown",
   "metadata": {},
   "source": [
    "## The convergence study with respect to both number of k points and broadening"
   ]
  },
  {
   "cell_type": "markdown",
   "metadata": {},
   "source": [
    "Note that there is usually a STRONG cross-convergence effect between the number of k points and the value of the broadening, tsmear.\n",
    "The right procedure is: for each value of tsmear, to get the convergence with respect to the number of k points, then to compare the k-point converged values for different values of tsmear.\n",
    "\n",
    "In what follows, we will restrict ourselves to the grids with nkpt=2, 10 and 28."
   ]
  },
  {
   "cell_type": "markdown",
   "metadata": {},
   "source": [
    "As usual, we start by writing an helper function to generate the input for the structural relaxation of Al.\n",
    "The function accepts `tsmear` and another parameter, `nksmall`, that will be used to define the BZ sampling:"
   ]
  },
  {
   "cell_type": "code",
   "execution_count": 2,
   "metadata": {},
   "outputs": [
    {
     "data": {
      "text/html": [
       "<!DOCTYPE html PUBLIC \"-//W3C//DTD HTML 4.01//EN\"\n",
       "   \"http://www.w3.org/TR/html4/strict.dtd\">\n",
       "\n",
       "<html>\n",
       "<head>\n",
       "  <title></title>\n",
       "  <meta http-equiv=\"content-type\" content=\"text/html; charset=None\">\n",
       "  <style type=\"text/css\">\n",
       "td.linenos { background-color: #f0f0f0; padding-right: 10px; }\n",
       "span.lineno { background-color: #f0f0f0; padding: 0 5px 0 5px; }\n",
       "pre { line-height: 125%; }\n",
       "body .hll { background-color: #ffffcc }\n",
       "body  { background: #f8f8f8; }\n",
       "body .c { color: #408080; font-style: italic } /* Comment */\n",
       "body .err { border: 1px solid #FF0000 } /* Error */\n",
       "body .k { color: #008000; font-weight: bold } /* Keyword */\n",
       "body .o { color: #666666 } /* Operator */\n",
       "body .ch { color: #408080; font-style: italic } /* Comment.Hashbang */\n",
       "body .cm { color: #408080; font-style: italic } /* Comment.Multiline */\n",
       "body .cp { color: #BC7A00 } /* Comment.Preproc */\n",
       "body .cpf { color: #408080; font-style: italic } /* Comment.PreprocFile */\n",
       "body .c1 { color: #408080; font-style: italic } /* Comment.Single */\n",
       "body .cs { color: #408080; font-style: italic } /* Comment.Special */\n",
       "body .gd { color: #A00000 } /* Generic.Deleted */\n",
       "body .ge { font-style: italic } /* Generic.Emph */\n",
       "body .gr { color: #FF0000 } /* Generic.Error */\n",
       "body .gh { color: #000080; font-weight: bold } /* Generic.Heading */\n",
       "body .gi { color: #00A000 } /* Generic.Inserted */\n",
       "body .go { color: #888888 } /* Generic.Output */\n",
       "body .gp { color: #000080; font-weight: bold } /* Generic.Prompt */\n",
       "body .gs { font-weight: bold } /* Generic.Strong */\n",
       "body .gu { color: #800080; font-weight: bold } /* Generic.Subheading */\n",
       "body .gt { color: #0044DD } /* Generic.Traceback */\n",
       "body .kc { color: #008000; font-weight: bold } /* Keyword.Constant */\n",
       "body .kd { color: #008000; font-weight: bold } /* Keyword.Declaration */\n",
       "body .kn { color: #008000; font-weight: bold } /* Keyword.Namespace */\n",
       "body .kp { color: #008000 } /* Keyword.Pseudo */\n",
       "body .kr { color: #008000; font-weight: bold } /* Keyword.Reserved */\n",
       "body .kt { color: #B00040 } /* Keyword.Type */\n",
       "body .m { color: #666666 } /* Literal.Number */\n",
       "body .s { color: #BA2121 } /* Literal.String */\n",
       "body .na { color: #7D9029 } /* Name.Attribute */\n",
       "body .nb { color: #008000 } /* Name.Builtin */\n",
       "body .nc { color: #0000FF; font-weight: bold } /* Name.Class */\n",
       "body .no { color: #880000 } /* Name.Constant */\n",
       "body .nd { color: #AA22FF } /* Name.Decorator */\n",
       "body .ni { color: #999999; font-weight: bold } /* Name.Entity */\n",
       "body .ne { color: #D2413A; font-weight: bold } /* Name.Exception */\n",
       "body .nf { color: #0000FF } /* Name.Function */\n",
       "body .nl { color: #A0A000 } /* Name.Label */\n",
       "body .nn { color: #0000FF; font-weight: bold } /* Name.Namespace */\n",
       "body .nt { color: #008000; font-weight: bold } /* Name.Tag */\n",
       "body .nv { color: #19177C } /* Name.Variable */\n",
       "body .ow { color: #AA22FF; font-weight: bold } /* Operator.Word */\n",
       "body .w { color: #bbbbbb } /* Text.Whitespace */\n",
       "body .mb { color: #666666 } /* Literal.Number.Bin */\n",
       "body .mf { color: #666666 } /* Literal.Number.Float */\n",
       "body .mh { color: #666666 } /* Literal.Number.Hex */\n",
       "body .mi { color: #666666 } /* Literal.Number.Integer */\n",
       "body .mo { color: #666666 } /* Literal.Number.Oct */\n",
       "body .sa { color: #BA2121 } /* Literal.String.Affix */\n",
       "body .sb { color: #BA2121 } /* Literal.String.Backtick */\n",
       "body .sc { color: #BA2121 } /* Literal.String.Char */\n",
       "body .dl { color: #BA2121 } /* Literal.String.Delimiter */\n",
       "body .sd { color: #BA2121; font-style: italic } /* Literal.String.Doc */\n",
       "body .s2 { color: #BA2121 } /* Literal.String.Double */\n",
       "body .se { color: #BB6622; font-weight: bold } /* Literal.String.Escape */\n",
       "body .sh { color: #BA2121 } /* Literal.String.Heredoc */\n",
       "body .si { color: #BB6688; font-weight: bold } /* Literal.String.Interpol */\n",
       "body .sx { color: #008000 } /* Literal.String.Other */\n",
       "body .sr { color: #BB6688 } /* Literal.String.Regex */\n",
       "body .s1 { color: #BA2121 } /* Literal.String.Single */\n",
       "body .ss { color: #19177C } /* Literal.String.Symbol */\n",
       "body .bp { color: #008000 } /* Name.Builtin.Pseudo */\n",
       "body .fm { color: #0000FF } /* Name.Function.Magic */\n",
       "body .vc { color: #19177C } /* Name.Variable.Class */\n",
       "body .vg { color: #19177C } /* Name.Variable.Global */\n",
       "body .vi { color: #19177C } /* Name.Variable.Instance */\n",
       "body .vm { color: #19177C } /* Name.Variable.Magic */\n",
       "body .il { color: #666666 } /* Literal.Number.Integer.Long */\n",
       "\n",
       "  </style>\n",
       "</head>\n",
       "<body>\n",
       "<h2></h2>\n",
       "\n",
       "<div class=\"highlight\"><pre><span></span><span class=\"k\">def</span> <span class=\"nf\">relax_input</span><span class=\"p\">(</span><span class=\"n\">tsmear</span><span class=\"p\">,</span> <span class=\"n\">nksmall</span><span class=\"p\">):</span>\n",
       "    <span class=\"sd\">&quot;&quot;&quot;</span>\n",
       "<span class=\"sd\">    Crystalline aluminum: optimization of the lattice parameter</span>\n",
       "<span class=\"sd\">    at fixed number of k points and broadening. Similar to tbase4_1.in with minor</span>\n",
       "<span class=\"sd\">    &quot;&quot;&quot;</span>\n",
       "    <span class=\"n\">inp</span> <span class=\"o\">=</span> <span class=\"n\">abilab</span><span class=\"o\">.</span><span class=\"n\">AbinitInput</span><span class=\"p\">(</span><span class=\"n\">structure</span><span class=\"o\">=</span><span class=\"n\">abidata</span><span class=\"o\">.</span><span class=\"n\">ucells</span><span class=\"o\">.</span><span class=\"n\">structure_from_ucell</span><span class=\"p\">(</span><span class=\"s2\">&quot;Al&quot;</span><span class=\"p\">),</span>\n",
       "                             <span class=\"n\">pseudos</span><span class=\"o\">=</span><span class=\"n\">abidata</span><span class=\"o\">.</span><span class=\"n\">pseudos</span><span class=\"p\">(</span><span class=\"s2\">&quot;13al.981214.fhi&quot;</span><span class=\"p\">))</span>\n",
       "\n",
       "    <span class=\"c1\"># Define k-point sampling.</span>\n",
       "    <span class=\"c1\"># nshiftk and shift are automatically selected from the lattice and the number of divisions</span>\n",
       "    <span class=\"c1\"># for the smallest direction. nksmall 2 e.g. will automatically select</span>\n",
       "    <span class=\"c1\">#   ngkpt 2 2 2</span>\n",
       "    <span class=\"c1\">#   nshiftk 4</span>\n",
       "    <span class=\"c1\">#   shiftk</span>\n",
       "    <span class=\"c1\">#       0.5 0.5 0.5</span>\n",
       "    <span class=\"c1\">#       0.5 0.0 0.0</span>\n",
       "    <span class=\"c1\">#       0.0 0.5 0.0</span>\n",
       "    <span class=\"c1\">#       0.0 0.0 0.5</span>\n",
       "    <span class=\"n\">inp</span><span class=\"o\">.</span><span class=\"n\">set_autokmesh</span><span class=\"p\">(</span><span class=\"n\">nksmall</span><span class=\"o\">=</span><span class=\"n\">nksmall</span><span class=\"p\">)</span>\n",
       "\n",
       "    <span class=\"n\">inp</span><span class=\"o\">.</span><span class=\"n\">set_vars</span><span class=\"p\">(</span>\n",
       "        <span class=\"n\">ecut</span><span class=\"o\">=</span><span class=\"mi\">6</span><span class=\"p\">,</span>\n",
       "        <span class=\"n\">occopt</span><span class=\"o\">=</span><span class=\"mi\">4</span><span class=\"p\">,</span>\n",
       "        <span class=\"n\">tsmear</span><span class=\"o\">=</span><span class=\"n\">tsmear</span><span class=\"p\">,</span>\n",
       "        <span class=\"n\">toldfe</span><span class=\"o\">=</span><span class=\"mf\">1e-6</span><span class=\"p\">,</span>\n",
       "        <span class=\"n\">nstep</span><span class=\"o\">=</span><span class=\"mi\">10</span><span class=\"p\">,</span>\n",
       "        <span class=\"n\">optcell</span><span class=\"o\">=</span><span class=\"mi\">1</span><span class=\"p\">,</span>    <span class=\"c1\"># Optimization of the lattice parameters</span>\n",
       "        <span class=\"n\">ionmov</span><span class=\"o\">=</span><span class=\"mi\">3</span><span class=\"p\">,</span>\n",
       "        <span class=\"n\">ntime</span><span class=\"o\">=</span><span class=\"mi\">10</span><span class=\"p\">,</span>\n",
       "        <span class=\"n\">dilatmx</span><span class=\"o\">=</span><span class=\"mf\">1.05</span><span class=\"p\">,</span>\n",
       "        <span class=\"n\">ecutsm</span><span class=\"o\">=</span><span class=\"mf\">0.5</span><span class=\"p\">,</span>\n",
       "        <span class=\"n\">ixc</span><span class=\"o\">=</span><span class=\"mi\">1</span><span class=\"p\">,</span>\n",
       "    <span class=\"p\">)</span>\n",
       "\n",
       "    <span class=\"k\">return</span> <span class=\"n\">inp</span>\n",
       "</pre></div>\n",
       "</body>\n",
       "</html>\n"
      ],
      "text/plain": [
       "<IPython.core.display.HTML object>"
      ]
     },
     "execution_count": 2,
     "metadata": {},
     "output_type": "execute_result"
    }
   ],
   "source": [
    "from lesson_base4 import relax_input\n",
    "abilab.print_source(relax_input)"
   ]
  },
  {
   "cell_type": "markdown",
   "metadata": {},
   "source": [
    "Now we use `relax_input` to generate multiple inputs with different values of `tsmear` and `nksmall`\n",
    "and we pass the input objects to the Flow constructor.\n",
    "To keep things as simple as possible, we use independent tasks ..."
   ]
  },
  {
   "cell_type": "code",
   "execution_count": 3,
   "metadata": {},
   "outputs": [
    {
     "data": {
      "text/html": [
       "<!DOCTYPE html PUBLIC \"-//W3C//DTD HTML 4.01//EN\"\n",
       "   \"http://www.w3.org/TR/html4/strict.dtd\">\n",
       "\n",
       "<html>\n",
       "<head>\n",
       "  <title></title>\n",
       "  <meta http-equiv=\"content-type\" content=\"text/html; charset=None\">\n",
       "  <style type=\"text/css\">\n",
       "td.linenos { background-color: #f0f0f0; padding-right: 10px; }\n",
       "span.lineno { background-color: #f0f0f0; padding: 0 5px 0 5px; }\n",
       "pre { line-height: 125%; }\n",
       "body .hll { background-color: #ffffcc }\n",
       "body  { background: #f8f8f8; }\n",
       "body .c { color: #408080; font-style: italic } /* Comment */\n",
       "body .err { border: 1px solid #FF0000 } /* Error */\n",
       "body .k { color: #008000; font-weight: bold } /* Keyword */\n",
       "body .o { color: #666666 } /* Operator */\n",
       "body .ch { color: #408080; font-style: italic } /* Comment.Hashbang */\n",
       "body .cm { color: #408080; font-style: italic } /* Comment.Multiline */\n",
       "body .cp { color: #BC7A00 } /* Comment.Preproc */\n",
       "body .cpf { color: #408080; font-style: italic } /* Comment.PreprocFile */\n",
       "body .c1 { color: #408080; font-style: italic } /* Comment.Single */\n",
       "body .cs { color: #408080; font-style: italic } /* Comment.Special */\n",
       "body .gd { color: #A00000 } /* Generic.Deleted */\n",
       "body .ge { font-style: italic } /* Generic.Emph */\n",
       "body .gr { color: #FF0000 } /* Generic.Error */\n",
       "body .gh { color: #000080; font-weight: bold } /* Generic.Heading */\n",
       "body .gi { color: #00A000 } /* Generic.Inserted */\n",
       "body .go { color: #888888 } /* Generic.Output */\n",
       "body .gp { color: #000080; font-weight: bold } /* Generic.Prompt */\n",
       "body .gs { font-weight: bold } /* Generic.Strong */\n",
       "body .gu { color: #800080; font-weight: bold } /* Generic.Subheading */\n",
       "body .gt { color: #0044DD } /* Generic.Traceback */\n",
       "body .kc { color: #008000; font-weight: bold } /* Keyword.Constant */\n",
       "body .kd { color: #008000; font-weight: bold } /* Keyword.Declaration */\n",
       "body .kn { color: #008000; font-weight: bold } /* Keyword.Namespace */\n",
       "body .kp { color: #008000 } /* Keyword.Pseudo */\n",
       "body .kr { color: #008000; font-weight: bold } /* Keyword.Reserved */\n",
       "body .kt { color: #B00040 } /* Keyword.Type */\n",
       "body .m { color: #666666 } /* Literal.Number */\n",
       "body .s { color: #BA2121 } /* Literal.String */\n",
       "body .na { color: #7D9029 } /* Name.Attribute */\n",
       "body .nb { color: #008000 } /* Name.Builtin */\n",
       "body .nc { color: #0000FF; font-weight: bold } /* Name.Class */\n",
       "body .no { color: #880000 } /* Name.Constant */\n",
       "body .nd { color: #AA22FF } /* Name.Decorator */\n",
       "body .ni { color: #999999; font-weight: bold } /* Name.Entity */\n",
       "body .ne { color: #D2413A; font-weight: bold } /* Name.Exception */\n",
       "body .nf { color: #0000FF } /* Name.Function */\n",
       "body .nl { color: #A0A000 } /* Name.Label */\n",
       "body .nn { color: #0000FF; font-weight: bold } /* Name.Namespace */\n",
       "body .nt { color: #008000; font-weight: bold } /* Name.Tag */\n",
       "body .nv { color: #19177C } /* Name.Variable */\n",
       "body .ow { color: #AA22FF; font-weight: bold } /* Operator.Word */\n",
       "body .w { color: #bbbbbb } /* Text.Whitespace */\n",
       "body .mb { color: #666666 } /* Literal.Number.Bin */\n",
       "body .mf { color: #666666 } /* Literal.Number.Float */\n",
       "body .mh { color: #666666 } /* Literal.Number.Hex */\n",
       "body .mi { color: #666666 } /* Literal.Number.Integer */\n",
       "body .mo { color: #666666 } /* Literal.Number.Oct */\n",
       "body .sa { color: #BA2121 } /* Literal.String.Affix */\n",
       "body .sb { color: #BA2121 } /* Literal.String.Backtick */\n",
       "body .sc { color: #BA2121 } /* Literal.String.Char */\n",
       "body .dl { color: #BA2121 } /* Literal.String.Delimiter */\n",
       "body .sd { color: #BA2121; font-style: italic } /* Literal.String.Doc */\n",
       "body .s2 { color: #BA2121 } /* Literal.String.Double */\n",
       "body .se { color: #BB6622; font-weight: bold } /* Literal.String.Escape */\n",
       "body .sh { color: #BA2121 } /* Literal.String.Heredoc */\n",
       "body .si { color: #BB6688; font-weight: bold } /* Literal.String.Interpol */\n",
       "body .sx { color: #008000 } /* Literal.String.Other */\n",
       "body .sr { color: #BB6688 } /* Literal.String.Regex */\n",
       "body .s1 { color: #BA2121 } /* Literal.String.Single */\n",
       "body .ss { color: #19177C } /* Literal.String.Symbol */\n",
       "body .bp { color: #008000 } /* Name.Builtin.Pseudo */\n",
       "body .fm { color: #0000FF } /* Name.Function.Magic */\n",
       "body .vc { color: #19177C } /* Name.Variable.Class */\n",
       "body .vg { color: #19177C } /* Name.Variable.Global */\n",
       "body .vi { color: #19177C } /* Name.Variable.Instance */\n",
       "body .vm { color: #19177C } /* Name.Variable.Magic */\n",
       "body .il { color: #666666 } /* Literal.Number.Integer.Long */\n",
       "\n",
       "  </style>\n",
       "</head>\n",
       "<body>\n",
       "<h2></h2>\n",
       "\n",
       "<div class=\"highlight\"><pre><span></span><span class=\"k\">def</span> <span class=\"nf\">build_relax_tsmear_nkpts_convflow</span><span class=\"p\">(</span><span class=\"n\">options</span><span class=\"p\">,</span> <span class=\"n\">tsmear_list</span><span class=\"o\">=</span><span class=\"p\">(</span><span class=\"mf\">0.01</span><span class=\"p\">,</span> <span class=\"mf\">0.02</span><span class=\"p\">,</span> <span class=\"mf\">0.03</span><span class=\"p\">,</span> <span class=\"mf\">0.04</span><span class=\"p\">),</span> <span class=\"n\">nksmall_list</span><span class=\"o\">=</span><span class=\"p\">(</span><span class=\"mi\">2</span><span class=\"p\">,</span> <span class=\"mi\">4</span><span class=\"p\">,</span> <span class=\"mi\">6</span><span class=\"p\">)):</span>\n",
       "    <span class=\"c1\"># product computes the Cartesian product of input iterables.</span>\n",
       "    <span class=\"c1\"># It&#39;s equivalent to nested for-loops</span>\n",
       "    <span class=\"kn\">from</span> <span class=\"nn\">itertools</span> <span class=\"kn\">import</span> <span class=\"n\">product</span>\n",
       "    <span class=\"n\">inputs</span> <span class=\"o\">=</span> <span class=\"p\">[</span><span class=\"n\">relax_input</span><span class=\"p\">(</span><span class=\"n\">tsmear</span><span class=\"p\">,</span> <span class=\"n\">nksmall</span><span class=\"p\">)</span> <span class=\"k\">for</span> <span class=\"n\">tsmear</span><span class=\"p\">,</span> <span class=\"n\">nksmall</span> <span class=\"ow\">in</span> <span class=\"n\">product</span><span class=\"p\">(</span><span class=\"n\">tsmear_list</span><span class=\"p\">,</span> <span class=\"n\">nksmall_list</span><span class=\"p\">)]</span>\n",
       "\n",
       "    <span class=\"c1\"># Build flow form inputs.</span>\n",
       "    <span class=\"c1\"># Note the Flow.from_inputs is a simplified interface that, by default, builds tasks</span>\n",
       "    <span class=\"c1\"># for Ground-state calculation (GsTask).</span>\n",
       "    <span class=\"c1\"># Here we are performing a structural relaxation so we have to specify the task class explicitly.</span>\n",
       "    <span class=\"c1\"># AbiPy will use this piece of information to handle the restart of the RelaxTask that differs</span>\n",
       "    <span class=\"c1\"># from the one provided by GsTask.</span>\n",
       "\n",
       "    <span class=\"n\">workdir</span> <span class=\"o\">=</span> <span class=\"s2\">&quot;flow_al_relax_tsmear_nkpt&quot;</span> <span class=\"k\">if</span> <span class=\"ow\">not</span> <span class=\"n\">options</span><span class=\"o\">.</span><span class=\"n\">workdir</span> <span class=\"k\">else</span> <span class=\"n\">options</span><span class=\"o\">.</span><span class=\"n\">workdir</span>\n",
       "    <span class=\"k\">return</span> <span class=\"n\">flowtk</span><span class=\"o\">.</span><span class=\"n\">Flow</span><span class=\"o\">.</span><span class=\"n\">from_inputs</span><span class=\"p\">(</span><span class=\"n\">workdir</span><span class=\"p\">,</span> <span class=\"n\">inputs</span><span class=\"o\">=</span><span class=\"n\">inputs</span><span class=\"p\">,</span> <span class=\"n\">task_class</span><span class=\"o\">=</span><span class=\"n\">flowtk</span><span class=\"o\">.</span><span class=\"n\">RelaxTask</span><span class=\"p\">,</span>\n",
       "                                   <span class=\"n\">remove</span><span class=\"o\">=</span><span class=\"n\">options</span><span class=\"o\">.</span><span class=\"n\">remove</span><span class=\"p\">)</span>\n",
       "</pre></div>\n",
       "</body>\n",
       "</html>\n"
      ],
      "text/plain": [
       "<IPython.core.display.HTML object>"
      ]
     },
     "execution_count": 3,
     "metadata": {},
     "output_type": "execute_result"
    }
   ],
   "source": [
    "from lesson_base4 import build_relax_tsmear_nkpts_convflow\n",
    "abilab.print_source(build_relax_tsmear_nkpts_convflow)"
   ]
  },
  {
   "cell_type": "code",
   "execution_count": 4,
   "metadata": {},
   "outputs": [],
   "source": [
    "#abo = abilab.abiopen(\"flow_al_relax/w0/t0/run.abo\")\n",
    "#print(abo)"
   ]
  },
  {
   "cell_type": "code",
   "execution_count": 5,
   "metadata": {
    "scrolled": false
   },
   "outputs": [],
   "source": [
    "#abo.plot();"
   ]
  },
  {
   "cell_type": "code",
   "execution_count": 6,
   "metadata": {},
   "outputs": [],
   "source": [
    "#hist = abilab.abiopen(\"flow_al_relax/w0/t0/outdata/out_HIST.nc\")\n",
    "#print(hist)"
   ]
  },
  {
   "cell_type": "code",
   "execution_count": 7,
   "metadata": {},
   "outputs": [],
   "source": [
    "#hist.plot();"
   ]
  },
  {
   "cell_type": "code",
   "execution_count": 8,
   "metadata": {},
   "outputs": [
    {
     "ename": "ValueError",
     "evalue": "flow_al_relax_tsmear_nkpt: no such directory",
     "output_type": "error",
     "traceback": [
      "\u001b[0;31m---------------------------------------------------------------------------\u001b[0m",
      "\u001b[0;31mValueError\u001b[0m                                Traceback (most recent call last)",
      "\u001b[0;32m<ipython-input-8-966ce524270a>\u001b[0m in \u001b[0;36m<module>\u001b[0;34m()\u001b[0m\n\u001b[0;32m----> 1\u001b[0;31m \u001b[0mrobot\u001b[0m \u001b[0;34m=\u001b[0m \u001b[0mabilab\u001b[0m\u001b[0;34m.\u001b[0m\u001b[0mGsrRobot\u001b[0m\u001b[0;34m.\u001b[0m\u001b[0mfrom_dir\u001b[0m\u001b[0;34m(\u001b[0m\u001b[0;34m\"flow_al_relax_tsmear_nkpt\"\u001b[0m\u001b[0;34m)\u001b[0m\u001b[0;34m\u001b[0m\u001b[0m\n\u001b[0m\u001b[1;32m      2\u001b[0m \u001b[0mdata\u001b[0m \u001b[0;34m=\u001b[0m \u001b[0mrobot\u001b[0m\u001b[0;34m.\u001b[0m\u001b[0mget_dataframe\u001b[0m\u001b[0;34m(\u001b[0m\u001b[0;34m)\u001b[0m\u001b[0;34m\u001b[0m\u001b[0m\n",
      "\u001b[0;32m~/git_repos/abipy/abipy/abio/robots.py\u001b[0m in \u001b[0;36mfrom_dir\u001b[0;34m(cls, top, walk, abspath)\u001b[0m\n\u001b[1;32m    113\u001b[0m             \u001b[0mabspath\u001b[0m\u001b[0;34m:\u001b[0m \u001b[0;32mTrue\u001b[0m \u001b[0;32mif\u001b[0m \u001b[0mpaths\u001b[0m \u001b[0;32min\u001b[0m \u001b[0mindex\u001b[0m \u001b[0mshould\u001b[0m \u001b[0mbe\u001b[0m \u001b[0mabsolute\u001b[0m\u001b[0;34m.\u001b[0m \u001b[0mDefault\u001b[0m\u001b[0;34m:\u001b[0m \u001b[0mRelative\u001b[0m \u001b[0mto\u001b[0m\u001b[0;31m \u001b[0m\u001b[0;31m`\u001b[0m\u001b[0mtop\u001b[0m\u001b[0;31m`\u001b[0m\u001b[0;34m.\u001b[0m\u001b[0;34m\u001b[0m\u001b[0m\n\u001b[1;32m    114\u001b[0m         \"\"\"\n\u001b[0;32m--> 115\u001b[0;31m         \u001b[0mnew\u001b[0m \u001b[0;34m=\u001b[0m \u001b[0mcls\u001b[0m\u001b[0;34m(\u001b[0m\u001b[0;34m*\u001b[0m\u001b[0mcls\u001b[0m\u001b[0;34m.\u001b[0m\u001b[0m_open_files_in_dir\u001b[0m\u001b[0;34m(\u001b[0m\u001b[0mtop\u001b[0m\u001b[0;34m,\u001b[0m \u001b[0mwalk\u001b[0m\u001b[0;34m)\u001b[0m\u001b[0;34m)\u001b[0m\u001b[0;34m\u001b[0m\u001b[0m\n\u001b[0m\u001b[1;32m    116\u001b[0m         \u001b[0;32mif\u001b[0m \u001b[0;32mnot\u001b[0m \u001b[0mabspath\u001b[0m\u001b[0;34m:\u001b[0m \u001b[0mnew\u001b[0m\u001b[0;34m.\u001b[0m\u001b[0mtrim_paths\u001b[0m\u001b[0;34m(\u001b[0m\u001b[0mstart\u001b[0m\u001b[0;34m=\u001b[0m\u001b[0mtop\u001b[0m\u001b[0;34m)\u001b[0m\u001b[0;34m\u001b[0m\u001b[0m\n\u001b[1;32m    117\u001b[0m         \u001b[0;32mreturn\u001b[0m \u001b[0mnew\u001b[0m\u001b[0;34m\u001b[0m\u001b[0m\n",
      "\u001b[0;32m~/git_repos/abipy/abipy/abio/robots.py\u001b[0m in \u001b[0;36m_open_files_in_dir\u001b[0;34m(cls, top, walk)\u001b[0m\n\u001b[1;32m    158\u001b[0m         \u001b[0;34m\"\"\"Open files in directory tree starting from `top`. Return list of Abinit files.\"\"\"\u001b[0m\u001b[0;34m\u001b[0m\u001b[0m\n\u001b[1;32m    159\u001b[0m         \u001b[0;32mif\u001b[0m \u001b[0;32mnot\u001b[0m \u001b[0mos\u001b[0m\u001b[0;34m.\u001b[0m\u001b[0mpath\u001b[0m\u001b[0;34m.\u001b[0m\u001b[0misdir\u001b[0m\u001b[0;34m(\u001b[0m\u001b[0mtop\u001b[0m\u001b[0;34m)\u001b[0m\u001b[0;34m:\u001b[0m\u001b[0;34m\u001b[0m\u001b[0m\n\u001b[0;32m--> 160\u001b[0;31m             \u001b[0;32mraise\u001b[0m \u001b[0mValueError\u001b[0m\u001b[0;34m(\u001b[0m\u001b[0;34m\"%s: no such directory\"\u001b[0m \u001b[0;34m%\u001b[0m \u001b[0mstr\u001b[0m\u001b[0;34m(\u001b[0m\u001b[0mtop\u001b[0m\u001b[0;34m)\u001b[0m\u001b[0;34m)\u001b[0m\u001b[0;34m\u001b[0m\u001b[0m\n\u001b[0m\u001b[1;32m    161\u001b[0m         \u001b[0;32mfrom\u001b[0m \u001b[0mabipy\u001b[0m\u001b[0;34m.\u001b[0m\u001b[0mabilab\u001b[0m \u001b[0;32mimport\u001b[0m \u001b[0mabiopen\u001b[0m\u001b[0;34m\u001b[0m\u001b[0m\n\u001b[1;32m    162\u001b[0m         \u001b[0mitems\u001b[0m \u001b[0;34m=\u001b[0m \u001b[0;34m[\u001b[0m\u001b[0;34m]\u001b[0m\u001b[0;34m\u001b[0m\u001b[0m\n",
      "\u001b[0;31mValueError\u001b[0m: flow_al_relax_tsmear_nkpt: no such directory"
     ]
    }
   ],
   "source": [
    "robot = abilab.GsrRobot.from_dir(\"flow_al_relax_tsmear_nkpt\")\n",
    "data = robot.get_dataframe()"
   ]
  },
  {
   "cell_type": "code",
   "execution_count": null,
   "metadata": {},
   "outputs": [],
   "source": [
    "data"
   ]
  },
  {
   "cell_type": "markdown",
   "metadata": {},
   "source": [
    "First of all, let's sort our rows first by `nkpt` and then by `tsmear` inside each `nkpt` group so that \n",
    "we have print the table in a nice format:"
   ]
  },
  {
   "cell_type": "code",
   "execution_count": null,
   "metadata": {},
   "outputs": [],
   "source": [
    "data = data.sort_values(by=[\"nkpt\", \"tsmear\"])\n",
    "data"
   ]
  },
  {
   "cell_type": "code",
   "execution_count": null,
   "metadata": {},
   "outputs": [],
   "source": [
    "sns.pairplot(data, x_vars=\"nkpt\", y_vars=[\"energy\", \"a\", \"volume\"], hue=\"tsmear\"); #, plot_kws={\"style\": \"-o\"})"
   ]
  },
  {
   "cell_type": "code",
   "execution_count": null,
   "metadata": {},
   "outputs": [],
   "source": [
    "#grid = sns.FacetGrid(data, col=\"tsmear\")\n",
    "#grid.map(sns.pointplot, \"nkpts\", \"a\")\n",
    "#sns.pairplot(data, x_vars=\"nkpts\", y_vars=[\"energy\", \"a\", \"volume\"], hue=\"tsmear\")\n",
    "#grid.map(plt.scatter, s=50)\n",
    "\n",
    "    #with abilab.abirobot(flow, \"GSR\") as robot:\n",
    "    #    data = robot.get_dataframe()\n",
    "    #    print(data)\n",
    "    #    robot.pairplot(x_vars=\"nkpts\", y_vars=[\"energy\", \"a\", \"volume\"], hue=\"tsmear\")\n",
    "\n",
    "    #grid = sns.FacetGrid(data, col=\"tsmear\")\n",
    "    #grid.map(sns.pointplot, \"nkpts\", \"a\")\n",
    "    #sns.pairplot(data, x_vars=\"nkpts\", y_vars=[\"energy\", \"a\", \"volume\"], hue=\"tsmear\")\n",
    "    #grid.map(plt.scatter, s=50)"
   ]
  },
  {
   "cell_type": "code",
   "execution_count": null,
   "metadata": {},
   "outputs": [],
   "source": [
    "with abilab.abiopen(\"flow_al_relax_tsmear_nkpt/w0/t11/outdata/out_GSR.nc\") as gsr:\n",
    "    ebands_w0t11 = gsr.ebands"
   ]
  },
  {
   "cell_type": "code",
   "execution_count": null,
   "metadata": {
    "scrolled": false
   },
   "outputs": [],
   "source": [
    "ebands_w0t11.plot();"
   ]
  },
  {
   "cell_type": "code",
   "execution_count": null,
   "metadata": {},
   "outputs": [],
   "source": [
    "ebands_w0t11.boxplot();"
   ]
  },
  {
   "cell_type": "markdown",
   "metadata": {},
   "source": [
    "Now you might ask yourself: \"The total energy with nkpt == 2 is clearly not converged wrt tsmear. What are the effects of the smearing on the KS eigenvalues for nkpt == 2?\"\n",
    "The `GsrRobot` can construct an `ElectronBandsPlotter` that allows us to compare multiple band structures \n",
    "so it's just a matter of telling the robot that we want a plotter object in which only the\n",
    "`GSR` files with only two k-points in the IBZ, then we can use the plotter to visualize the results: "
   ]
  },
  {
   "cell_type": "code",
   "execution_count": null,
   "metadata": {},
   "outputs": [],
   "source": [
    "plotter = robot.get_ebands_plotter(filter_abifile=lambda gsr: len(gsr.kpoints) == 2)\n",
    "plotter.combiplot();"
   ]
  },
  {
   "cell_type": "markdown",
   "metadata": {},
   "source": [
    "The plotter provides different plot methods to visualize the same data.\n",
    "Perhaps you prefer this:"
   ]
  },
  {
   "cell_type": "code",
   "execution_count": null,
   "metadata": {},
   "outputs": [],
   "source": [
    "plotter.combiboxplot();"
   ]
  },
  {
   "cell_type": "code",
   "execution_count": null,
   "metadata": {},
   "outputs": [],
   "source": [
    "#e3d = ebands.get_ebands3d()"
   ]
  }
 ],
 "metadata": {
  "kernelspec": {
   "display_name": "Python [default]",
   "language": "python",
   "name": "python3"
  },
  "language_info": {
   "codemirror_mode": {
    "name": "ipython",
    "version": 3
   },
   "file_extension": ".py",
   "mimetype": "text/x-python",
   "name": "python",
   "nbconvert_exporter": "python",
   "pygments_lexer": "ipython3",
   "version": "3.6.1"
  },
  "latex_envs": {
   "bibliofile": "biblio.bib",
   "cite_by": "apalike",
   "current_citInitial": 1,
   "eqLabelWithNumbers": true,
   "eqNumInitial": 0
  }
 },
 "nbformat": 4,
 "nbformat_minor": 1
}
