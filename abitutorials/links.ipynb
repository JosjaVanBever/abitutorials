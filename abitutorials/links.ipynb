{
 "cells": [
  {
   "cell_type": "markdown",
   "metadata": {},
   "source": [
    "Back to the main [Index](index.ipynb)"
   ]
  },
  {
   "cell_type": "markdown",
   "metadata": {},
   "source": [
    "# Useful links"
   ]
  },
  {
   "cell_type": "markdown",
   "metadata": {},
   "source": [
    "## ABINIT"
   ]
  },
  {
   "cell_type": "markdown",
   "metadata": {},
   "source": [
    "* [ABINIT Tutorials](https://doc.abinit.org/tutorial)\n",
    "* [ABINIT Wiki](https://wiki.abinit.org/doku.php)\n",
    "* [ABINIT Forum](https://forum.abinit.org)\n",
    "* [PseudoDojo](http://www.pseudo-dojo.org): Tables of pseudopotentials"
   ]
  },
  {
   "cell_type": "markdown",
   "metadata": {},
   "source": [
    "# Python programming"
   ]
  },
  {
   "cell_type": "markdown",
   "metadata": {},
   "source": [
    "* [Python for Beginners](https://www.python.org/about/gettingstarted/)\n",
    "* [The Python tutorial](https://docs.python.org/2/tutorial/)\n",
    "* [DiveIntoPython3](http://www.diveintopython3.net/)"
   ]
  },
  {
   "cell_type": "markdown",
   "metadata": {},
   "source": [
    "# Ipython Notebooks"
   ]
  },
  {
   "cell_type": "markdown",
   "metadata": {},
   "source": [
    "* [Introducing IPython Notebook](http://opentechschool.github.io/python-data-intro/core/notebook.html)\n",
    "* [Shortcuts and helpful tips for working in IPython](https://damontallen.github.io/IPython-quick-ref-sheets)\n",
    "* [Introduction to Python Programming](http://nbviewer.ipython.org/github/jrjohansson/scientific-python-lectures/blob/master/Lecture-1-Introduction-to-Python-Programming.ipynb)"
   ]
  },
  {
   "cell_type": "markdown",
   "metadata": {},
   "source": [
    "# Useful Python distributions/packages/tools"
   ]
  },
  {
   "cell_type": "markdown",
   "metadata": {},
   "source": [
    "* [Anaconda](https://store.continuum.io/cshop/anaconda/) \n",
    "Free Python distribution for large-scale data processing, predictive analytics, and scientific computing\n",
    "* [IPython](http://ipython.org/) \n",
    "Powerful interactive shells and much more...\n",
    "* [Numpy](http://www.numpy.org/) \n",
    "Fundamental package for scientific computing (arrays, linear algebra, Fourier transform, and random number capabilities)\n",
    "* [Scipy](http://www.scipy.org/) \n",
    "Software for mathematics, science, and engineering\n",
    "* [Pandas](http://pandas.pydata.org/) \n",
    "Easy-to-use data structures and data analysis tools\n",
    "* [Sympy](http://www.sympy.org/en/index.html) \n",
    "Python library for symbolic mathematics\n",
    "* [Matplotlib](http://matplotlib.org/) \n",
    "python plotting library"
   ]
  },
  {
   "cell_type": "markdown",
   "metadata": {},
   "source": [
    "# Miscellaneous"
   ]
  },
  {
   "cell_type": "markdown",
   "metadata": {},
   "source": [
    "* [Design Patterns](http://www.tutorialspoint.com/design_pattern)"
   ]
  },
  {
   "cell_type": "markdown",
   "metadata": {},
   "source": [
    "## Interesting notebooks"
   ]
  },
  {
   "cell_type": "markdown",
   "metadata": {},
   "source": [
    "* [A gallery of interesting Jupyter Notebooks](https://github.com/jupyter/jupyter/wiki/A-gallery-of-interesting-Jupyter-Notebooks)\n",
    "* [Scientific-Computing-with-Python](http://nbviewer.ipython.org/github/chenleo/scientific-python-lectures/blob/master/Lecture-0-Scientific-Computing-with-Python.ipynb)\n",
    "* [matplotlib - 2D and 3D plotting in Python](http://nbviewer.ipython.org/github/jrjohansson/scientific-python-lectures/blob/master/Lecture-4-Matplotlib.ipynb)\n",
    "* [IPython: a PyCon 2014 tutorial](http://nbviewer.ipython.org/github/ipython/ipython-in-depth/blob/master/Index%20-%20Basic.ipynb)\n",
    "* [A practical introduction to IPython Notebook & pandas](http://nbviewer.ipython.org/github/jvns/talks/blob/master/pydatanyc2013/PyData%20NYC%202013%20tutorial.ipynb)\n",
    "* [Diving into Open Data with IPython Notebook & Pandas](http://nbviewer.ipython.org/github/jvns/talks/blob/master/pyconca2013/pistes-cyclables.ipynb)"
   ]
  },
  {
   "cell_type": "markdown",
   "metadata": {},
   "source": [
    "## Blogs"
   ]
  },
  {
   "cell_type": "markdown",
   "metadata": {},
   "source": [
    "* [hackingmaterials](http://hackingmaterials.com)\n",
    "* [thelostelectron](https://thelostelectron.wordpress.com)"
   ]
  },
  {
   "cell_type": "markdown",
   "metadata": {},
   "source": [
    "## Articles"
   ]
  },
  {
   "cell_type": "markdown",
   "metadata": {},
   "source": [
    "* [Interactive notebooks: Sharing the code](http://www.nature.com/news/interactive-notebooks-sharing-the-code-1.16261)"
   ]
  },
  {
   "cell_type": "markdown",
   "metadata": {},
   "source": [
    "Back to the main [Index](index.ipynb)"
   ]
  },
  {
   "cell_type": "code",
   "execution_count": null,
   "metadata": {},
   "outputs": [],
   "source": []
  }
 ],
 "metadata": {
  "kernelspec": {
   "display_name": "Python [conda env:env3.6]",
   "language": "python",
   "name": "conda-env-env3.6-py"
  },
  "language_info": {
   "codemirror_mode": {
    "name": "ipython",
    "version": 3
   },
   "file_extension": ".py",
   "mimetype": "text/x-python",
   "name": "python",
   "nbconvert_exporter": "python",
   "pygments_lexer": "ipython3",
   "version": "3.6.1"
  },
  "latex_envs": {
   "bibliofile": "biblio.bib",
   "cite_by": "apalike",
   "current_citInitial": 1,
   "eqLabelWithNumbers": true,
   "eqNumInitial": 0
  }
 },
 "nbformat": 4,
 "nbformat_minor": 1
}
