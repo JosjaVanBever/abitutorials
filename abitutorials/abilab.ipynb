{
 "cells": [
  {
   "cell_type": "markdown",
   "metadata": {},
   "source": [
    "Back to the main [Index](../index.ipynb)"
   ]
  },
  {
   "cell_type": "code",
   "execution_count": 10,
   "metadata": {},
   "outputs": [],
   "source": [
    "from __future__ import division, print_function, unicode_literals\n",
    "from abipy.abilab import *\n",
    "\n",
    "%matplotlib notebook"
   ]
  },
  {
   "cell_type": "markdown",
   "metadata": {},
   "source": [
    "# ABINIT documentation"
   ]
  },
  {
   "cell_type": "markdown",
   "metadata": {},
   "source": [
    "To get the database of ABINIT variables"
   ]
  },
  {
   "cell_type": "code",
   "execution_count": 11,
   "metadata": {},
   "outputs": [],
   "source": [
    "database = get_abinit_variables()"
   ]
  },
  {
   "cell_type": "markdown",
   "metadata": {},
   "source": [
    "To get the documentation for the `ecut` variable"
   ]
  },
  {
   "cell_type": "code",
   "execution_count": 12,
   "metadata": {
    "code_folding": []
   },
   "outputs": [
    {
     "data": {
      "text/html": [
       "<h2>Default value:</h2>None<br/><h2>Description</h2><p>\n",
       " Used for kinetic energy cutoff\n",
       "which controls number\n",
       "of planewaves at given k point by:\n",
       " <br />\n",
       " (1/2)[(2 Pi)*(k+Gmax)]\n",
       " <sup>\n",
       "  2\n",
       " </sup>\n",
       " =<b>ecut</b> for Gmax.\n",
       " <br />\n",
       " All planewaves inside this \"basis sphere\" centered\n",
       "at k are included in the basis (except if <b>dilatmx</b>\n",
       "is defined).\n",
       " <br />\n",
       " Can be specified in Ha (the default), Ry, eV or Kelvin, since\n",
       "<b>ecut</b> has the\n",
       "'<b>ENERGY</b>' characteristics.\n",
       "(1 Ha=27.2113845 eV)\n",
       " <br />\n",
       " This is the single parameter which can have an enormous\n",
       "effect on the quality of a calculation; basically the larger\n",
       "<b>ecut</b> is, the better converged the calculation is.  For fixed\n",
       "geometry, the total energy MUST always decrease as <b>ecut</b> is\n",
       "raised because of the variational nature of the problem.\n",
       "</p>\n",
       "<p>\n",
       " <i>\n",
       "  Usually one runs at least several calculations at various <b>ecut</b>\n",
       "to investigate the convergence needed for reliable results.\n",
       " </i>\n",
       "</p>\n",
       "<p>\n",
       " For k-points whose coordinates are build from 0 or 1/2,\n",
       "the implementation of time-reversal symmetry that links\n",
       "coefficients of the wavefunctions in reciprocal space\n",
       "has been realized. See the input variable <b>istwfk</b>.\n",
       "If activated (which corresponds to the Default mode),\n",
       "this input variable <b>istwfk</b> will allow to\n",
       "divide the number of plane wave (npw) treated explicitly\n",
       "by a factor of two. Still, the final result should be identical with\n",
       "the 'full' set of plane waves.\n",
       "</p>\n",
       "<p>\n",
       " See the input variable <b>ecutsm</b>, for the\n",
       "smoothing of the kinetic energy, needed to optimize unit cell parameters.\n",
       "</p>"
      ],
      "text/plain": [
       "ecut  <Energy CUToff>"
      ]
     },
     "execution_count": 12,
     "metadata": {},
     "output_type": "execute_result"
    }
   ],
   "source": [
    "database[\"ecut\"]"
   ]
  },
  {
   "cell_type": "markdown",
   "metadata": {},
   "source": [
    "To list all the ABINIT variables related to `ecut`"
   ]
  },
  {
   "cell_type": "code",
   "execution_count": 13,
   "metadata": {},
   "outputs": [
    {
     "data": {
      "text/plain": [
       "[accuracy  <ACCURACY>,\n",
       " bs_haydock_niter  <Bethe-Salpeter HAYDOCK Number of Iterations>,\n",
       " bs_haydock_tol  <Bethe-Salpeter HAYDOCK TOLerance>,\n",
       " cd_frqim_method  <Contour Deformation Imaginary Frequency integration Method>,\n",
       " dfpt_sciss  <DFPT SCISSor operator>,\n",
       " diecut  <DIElectric matrix Energy CUToff>,\n",
       " dilatmx  <DILATation : MaXimal value>,\n",
       " ecut  <Energy CUToff>,\n",
       " ecuteps  <Energy CUT-off for EPSilon (the dielectric matrix)>,\n",
       " ecutsigx  <Energy CUT-off for SIGma eXchange>,\n",
       " ecutsm  <Energy CUToff SMearing>,\n",
       " ecutwfn  <Energy CUT-off for WaveFunctions>,\n",
       " elph2_imagden  <ELectron-PHonon interaction at 2nd order : IMAGina y shoft of the DENominator>,\n",
       " eshift  <Energy SHIFT>,\n",
       " esmear  <Eigenvalue SMEARing>,\n",
       " fftgw  <FFT for GW calculation>,\n",
       " iprcel  <Integer for PReConditioning of ELectron response>,\n",
       " iscf  <Integer for Self-Consistent-Field cycles>,\n",
       " istwfk  <Integer for choice of STorage of WaveFunction at each k point>,\n",
       " kptopt  <KPoinTs OPTion>,\n",
       " mpw  <Maximum number of Plane Waves>,\n",
       " nc_xccc_gspace  <Norm-Conserving, use XC Core-Correction in G-space>,\n",
       " ngfft  <Number of Grid points for Fast Fourier Transform>,\n",
       " npweps  <Number of PlaneWaves for EPSilon (the dielectric matrix)>,\n",
       " npwkss  <Number of PlaneWaves in the KSS file>,\n",
       " npwsigx  <Number of PlaneWaves for SIGma eXchange>,\n",
       " npwwfn  <Number of PlaneWaves for WaveFunctioNs>,\n",
       " optcell  <OPTimize the CELL shape and dimensions>,\n",
       " optdriver  <OPTions for the DRIVER>,\n",
       " pawecutdg  <PAW - Energy CUToff for the Double Grid>,\n",
       " pawmixdg  <PAW - MIXing is done (or not) on the (fine) Double Grid>,\n",
       " pawovlp  <PAW - spheres OVerLap allowed (in percentage)>,\n",
       " pawprtwf  <PAW: PRinT WaveFunctions>,\n",
       " prtwf  <PRinT the WaveFunction>,\n",
       " tfkinfunc  <Thomas-Fermi KINetic energy FUNCtional>,\n",
       " timopt  <TIMing OPTion>,\n",
       " tphysel  <Temperature (PHYSical) of the ELectrons>,\n",
       " use_gpu_cuda  <activate USE of GPU accelerators with CUDA (nvidia)>,\n",
       " use_nonscf_gkk  <USE NON-SCF calculation of GKK matrix elements (electron phonon)>]"
      ]
     },
     "execution_count": 13,
     "metadata": {},
     "output_type": "execute_result"
    }
   ],
   "source": [
    "database.apropos(\"ecut\")"
   ]
  },
  {
   "cell_type": "markdown",
   "metadata": {},
   "source": [
    "Command line interface available via the `abidoc.py` script"
   ]
  },
  {
   "cell_type": "code",
   "execution_count": 14,
   "metadata": {},
   "outputs": [
    {
     "name": "stdout",
     "output_type": "stream",
     "text": [
      "usage: abidoc.py [-h] [-V] {man,browse,apropos,find,withdim,list} ...\r\n",
      "\r\n",
      "optional arguments:\r\n",
      "  -h, --help            show this help message and exit\r\n",
      "  -V, --version         show program's version number and exit\r\n",
      "\r\n",
      "subcommands:\r\n",
      "  Valid subcommands\r\n",
      "\r\n",
      "  {man,browse,apropos,find,withdim,list}\r\n",
      "                        sub-command help\r\n",
      "    man                 Show documentation for varname.\r\n",
      "    browse              Open documentation in browser.\r\n",
      "    apropos             Find variables related to varname.\r\n",
      "    find                Find all variables whose name contains varname.\r\n",
      "    withdim             Find all arrays depending on the given dimension.\r\n",
      "    list                List all variables.\r\n",
      "\r\n",
      "Usage example:\r\n",
      "\r\n",
      "    abidoc.py man ecut        --> Show documentation for ecut input variable.\r\n",
      "    abidoc.py browse acell    --> Open url in external browser.\r\n",
      "    abidoc.py apropos ecut    --> To search in the database for the variables related to ecut.\r\n",
      "    abidoc.py find paw        --> To search in the database for the variables whose name contains paw.\r\n",
      "    abidoc.py list            --> Print full list of variables.\r\n",
      "    abidoc.py withdim natom   --> Print arrays depending on natom.\r\n",
      "\r\n",
      "Use `abidoc.py --help` for help and `abidoc.py COMMAND --help` to get the documentation for `COMMAND`.\r\n",
      "Use `-v` to increase verbosity level (can be supplied multiple times e.g -vv).\r\n"
     ]
    }
   ],
   "source": [
    "!abidoc.py --help"
   ]
  },
  {
   "cell_type": "markdown",
   "metadata": {},
   "source": [
    "# Unit Conversion"
   ]
  },
  {
   "cell_type": "code",
   "execution_count": null,
   "metadata": {},
   "outputs": [],
   "source": [
    "# To convert a force in Ha/bohr into eV/Angstrom \n",
    "FloatWithUnit(1.1, \"Ha bohr^-1\").to(\"eV ang^-1\")"
   ]
  },
  {
   "cell_type": "markdown",
   "metadata": {},
   "source": [
    "See other examples at http://pymatgen.org/_static/Units.html"
   ]
  },
  {
   "cell_type": "code",
   "execution_count": null,
   "metadata": {
    "collapsed": true
   },
   "outputs": [],
   "source": []
  }
 ],
 "metadata": {
  "kernelspec": {
   "display_name": "Python [conda env:env3.6]",
   "language": "python",
   "name": "conda-env-env3.6-py"
  },
  "language_info": {
   "codemirror_mode": {
    "name": "ipython",
    "version": 3
   },
   "file_extension": ".py",
   "mimetype": "text/x-python",
   "name": "python",
   "nbconvert_exporter": "python",
   "pygments_lexer": "ipython3",
   "version": "3.6.1"
  },
  "latex_envs": {
   "bibliofile": "biblio.bib",
   "cite_by": "apalike",
   "current_citInitial": 1,
   "eqLabelWithNumbers": true,
   "eqNumInitial": 0
  }
 },
 "nbformat": 4,
 "nbformat_minor": 1
}
