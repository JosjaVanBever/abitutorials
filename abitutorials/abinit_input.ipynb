{
 "cells": [
  {
   "cell_type": "markdown",
   "metadata": {},
   "source": [
    "Back to the main [Index](index.ipynb)"
   ]
  },
  {
   "cell_type": "markdown",
   "metadata": {},
   "source": [
    "# Creating an `AbinitInput` object"
   ]
  },
  {
   "cell_type": "markdown",
   "metadata": {},
   "source": [
    "The creation of the Abinit input file is one of the most repetive and error-prone operations we have to perform\n",
    "before running our calculations.\n",
    "To facilitate the creation of the input files, one can use `AbinitInput`, a dict-like object \n",
    "that stores the Abinit variables and provides helper functions to automate the specification \n",
    "of multiple parameters.\n",
    "\n",
    "This notebook discusses how to create an `AbiniInput` and how to define the parameters of the calculation."
   ]
  },
  {
   "cell_type": "code",
   "execution_count": 2,
   "metadata": {},
   "outputs": [],
   "source": [
    "from __future__ import division, print_function, unicode_literals\n",
    "\n",
    "import os\n",
    "import warnings\n",
    "warnings.filterwarnings(\"ignore\") # to get rid of deprecation warnings\n",
    "\n",
    "import abipy.data as abidata\n",
    "import abipy.abilab as abilab\n",
    "from abipy.abilab import AbinitInput"
   ]
  },
  {
   "cell_type": "markdown",
   "metadata": {},
   "source": [
    "To create an Abinit input we must specify the paths of the pseudopotential files.\n",
    "In this case, we have a pseudo named `14si.pspnc` located \n",
    "in the abidata.pseudo_dir directory."
   ]
  },
  {
   "cell_type": "code",
   "execution_count": 3,
   "metadata": {},
   "outputs": [],
   "source": [
    "inp = AbinitInput(structure=abidata.cif_file(\"si.cif\"), \n",
    "                  pseudos=\"14si.pspnc\", pseudo_dir=abidata.pseudo_dir)"
   ]
  },
  {
   "cell_type": "markdown",
   "metadata": {},
   "source": [
    "`print(inp)` returns a string with our input. \n",
    "In this case, the input is almost empty since only the structure and the pseudos have been specified."
   ]
  },
  {
   "cell_type": "code",
   "execution_count": 43,
   "metadata": {},
   "outputs": [
    {
     "name": "stdout",
     "output_type": "stream",
     "text": [
      "############################################################################################\n",
      "#                                         STRUCTURE                                         \n",
      "############################################################################################\n",
      " natom 2\n",
      " ntypat 1\n",
      " typat 1 1\n",
      " znucl 14\n",
      " xred\n",
      "    0.0000000000    0.0000000000    0.0000000000\n",
      "    0.2500000000    0.2500000000    0.2500000000\n",
      " acell    1.0    1.0    1.0\n",
      " rprim\n",
      "    6.3285005272    0.0000000000    3.6537614829\n",
      "    2.1095001757    5.9665675167    3.6537614829\n",
      "    0.0000000000    0.0000000000    7.3075229659\n",
      "\n",
      "\n",
      "#<JSON>\n",
      "#{\n",
      "#    \"pseudos\": [\n",
      "#        {\n",
      "#            \"basename\": \"14si.pspnc\",\n",
      "#            \"type\": \"NcAbinitPseudo\",\n",
      "#            \"symbol\": \"Si\",\n",
      "#            \"Z\": 14,\n",
      "#            \"Z_val\": 4.0,\n",
      "#            \"l_max\": 2,\n",
      "#            \"md5\": \"3916b143991b1cfa1542b130be320e5e\",\n",
      "#            \"filepath\": \"/Users/gmatteo/git_repos/abipy/abipy/data/pseudos/14si.pspnc\",\n",
      "#            \"@module\": \"pymatgen.io.abinit.pseudos\",\n",
      "#            \"@class\": \"NcAbinitPseudo\"\n",
      "#        }\n",
      "#    ]\n",
      "#}\n",
      "#</JSON>\n"
     ]
    }
   ],
   "source": [
    "print(inp)"
   ]
  },
  {
   "cell_type": "markdown",
   "metadata": {},
   "source": [
    "Inside the jupyter notebook, it's possible to visualize the input with HTML and links to the official documentation: "
   ]
  },
  {
   "cell_type": "code",
   "execution_count": 44,
   "metadata": {},
   "outputs": [
    {
     "data": {
      "text/html": [
       "############################################################################################<br>#                                         STRUCTURE                                         <br>############################################################################################<br> <a href=\"https://www.abinit.org/doc/helpfiles/for-v8.4/input_variables/html_automatically_generated/varbas.html#natom\" target=\"_blank\">natom</a> 2<br> <a href=\"https://www.abinit.org/doc/helpfiles/for-v8.4/input_variables/html_automatically_generated/varbas.html#ntypat\" target=\"_blank\">ntypat</a> 1<br> <a href=\"https://www.abinit.org/doc/helpfiles/for-v8.4/input_variables/html_automatically_generated/varbas.html#typat\" target=\"_blank\">typat</a> 1 1<br> <a href=\"https://www.abinit.org/doc/helpfiles/for-v8.4/input_variables/html_automatically_generated/varbas.html#znucl\" target=\"_blank\">znucl</a> 14<br> <a href=\"https://www.abinit.org/doc/helpfiles/for-v8.4/input_variables/html_automatically_generated/varbas.html#xred\" target=\"_blank\">xred</a><br>    0.0000000000    0.0000000000    0.0000000000<br>    0.2500000000    0.2500000000    0.2500000000<br> <a href=\"https://www.abinit.org/doc/helpfiles/for-v8.4/input_variables/html_automatically_generated/varbas.html#acell\" target=\"_blank\">acell</a>    1.0    1.0    1.0<br> <a href=\"https://www.abinit.org/doc/helpfiles/for-v8.4/input_variables/html_automatically_generated/varbas.html#rprim\" target=\"_blank\">rprim</a><br>    6.3285005272    0.0000000000    3.6537614829<br>    2.1095001757    5.9665675167    3.6537614829<br>    0.0000000000    0.0000000000    7.3075229659"
      ],
      "text/plain": [
       "<AbinitInput at 4675030880>"
      ]
     },
     "execution_count": 44,
     "metadata": {},
     "output_type": "execute_result"
    }
   ],
   "source": [
    "inp"
   ]
  },
  {
   "cell_type": "markdown",
   "metadata": {},
   "source": [
    "Use  `set_vars` to set the value of multiple variable with a single call:"
   ]
  },
  {
   "cell_type": "code",
   "execution_count": 45,
   "metadata": {},
   "outputs": [
    {
     "data": {
      "text/plain": [
       "{'ecut': 8, 'paral_kgb': 0}"
      ]
     },
     "execution_count": 45,
     "metadata": {},
     "output_type": "execute_result"
    }
   ],
   "source": [
    "inp.set_vars(ecut=8, paral_kgb=0)"
   ]
  },
  {
   "cell_type": "markdown",
   "metadata": {},
   "source": [
    "`AbinitInput` is a dict-like object, hence one can test for the presence of a variable in the input:"
   ]
  },
  {
   "cell_type": "code",
   "execution_count": 46,
   "metadata": {},
   "outputs": [
    {
     "data": {
      "text/plain": [
       "True"
      ]
     },
     "execution_count": 46,
     "metadata": {},
     "output_type": "execute_result"
    }
   ],
   "source": [
    "\"ecut\" in inp"
   ]
  },
  {
   "cell_type": "markdown",
   "metadata": {},
   "source": [
    "To list all the variables that have been defined, use:"
   ]
  },
  {
   "cell_type": "code",
   "execution_count": 47,
   "metadata": {},
   "outputs": [
    {
     "data": {
      "text/plain": [
       "['ecut', 'paral_kgb']"
      ]
     },
     "execution_count": 47,
     "metadata": {},
     "output_type": "execute_result"
    }
   ],
   "source": [
    "list(inp.keys())"
   ]
  },
  {
   "cell_type": "markdown",
   "metadata": {},
   "source": [
    "To access the value of a particular variable use the syntax:"
   ]
  },
  {
   "cell_type": "code",
   "execution_count": 48,
   "metadata": {},
   "outputs": [
    {
     "data": {
      "text/plain": [
       "8"
      ]
     },
     "execution_count": 48,
     "metadata": {},
     "output_type": "execute_result"
    }
   ],
   "source": [
    "inp[\"ecut\"]"
   ]
  },
  {
   "cell_type": "markdown",
   "metadata": {},
   "source": [
    "Iterating over keywords and values:"
   ]
  },
  {
   "cell_type": "code",
   "execution_count": 49,
   "metadata": {},
   "outputs": [
    {
     "name": "stdout",
     "output_type": "stream",
     "text": [
      "ecut --> 8\n",
      "paral_kgb --> 0\n"
     ]
    }
   ],
   "source": [
    "for varname, varvalue in inp.items(): \n",
    "    print(varname, \"-->\", varvalue)"
   ]
  },
  {
   "cell_type": "markdown",
   "metadata": {},
   "source": [
    "Use lists, tuples or numpy arrays when abinit expects arrays"
   ]
  },
  {
   "cell_type": "code",
   "execution_count": 50,
   "metadata": {},
   "outputs": [
    {
     "data": {
      "text/html": [
       "############################################################################################<br>#                                      SECTION: varbas                                      <br>############################################################################################<br> <a href=\"https://www.abinit.org/doc/helpfiles/for-v8.4/input_variables/html_automatically_generated/varbas.html#ecut\" target=\"_blank\">ecut</a> 8<br> <a href=\"https://www.abinit.org/doc/helpfiles/for-v8.4/input_variables/html_automatically_generated/varbas.html#kptopt\" target=\"_blank\">kptopt</a> 1<br> <a href=\"https://www.abinit.org/doc/helpfiles/for-v8.4/input_variables/html_automatically_generated/varbas.html#ngkpt\" target=\"_blank\">ngkpt</a> 2 2 2<br> <a href=\"https://www.abinit.org/doc/helpfiles/for-v8.4/input_variables/html_automatically_generated/varbas.html#nshiftk\" target=\"_blank\">nshiftk</a> 2<br> <a href=\"https://www.abinit.org/doc/helpfiles/for-v8.4/input_variables/html_automatically_generated/varbas.html#shiftk\" target=\"_blank\">shiftk</a><br>    0.0    0.0    0.0<br>    0.5    0.5    0.5<br>############################################################################################<br>#                                      SECTION: vardev                                      <br>############################################################################################<br> <a href=\"https://www.abinit.org/doc/helpfiles/for-v8.4/input_variables/html_automatically_generated/vardev.html#istwfk\" target=\"_blank\">istwfk</a> *1<br>############################################################################################<br>#                                      SECTION: varpar                                      <br>############################################################################################<br> <a href=\"https://www.abinit.org/doc/helpfiles/for-v8.4/input_variables/html_automatically_generated/varpar.html#paral_kgb\" target=\"_blank\">paral_kgb</a> 0<br>############################################################################################<br>#                                         STRUCTURE                                         <br>############################################################################################<br> <a href=\"https://www.abinit.org/doc/helpfiles/for-v8.4/input_variables/html_automatically_generated/varbas.html#natom\" target=\"_blank\">natom</a> 2<br> <a href=\"https://www.abinit.org/doc/helpfiles/for-v8.4/input_variables/html_automatically_generated/varbas.html#ntypat\" target=\"_blank\">ntypat</a> 1<br> <a href=\"https://www.abinit.org/doc/helpfiles/for-v8.4/input_variables/html_automatically_generated/varbas.html#typat\" target=\"_blank\">typat</a> 1 1<br> <a href=\"https://www.abinit.org/doc/helpfiles/for-v8.4/input_variables/html_automatically_generated/varbas.html#znucl\" target=\"_blank\">znucl</a> 14<br> <a href=\"https://www.abinit.org/doc/helpfiles/for-v8.4/input_variables/html_automatically_generated/varbas.html#xred\" target=\"_blank\">xred</a><br>    0.0000000000    0.0000000000    0.0000000000<br>    0.2500000000    0.2500000000    0.2500000000<br> <a href=\"https://www.abinit.org/doc/helpfiles/for-v8.4/input_variables/html_automatically_generated/varbas.html#acell\" target=\"_blank\">acell</a>    1.0    1.0    1.0<br> <a href=\"https://www.abinit.org/doc/helpfiles/for-v8.4/input_variables/html_automatically_generated/varbas.html#rprim\" target=\"_blank\">rprim</a><br>    6.3285005272    0.0000000000    3.6537614829<br>    2.1095001757    5.9665675167    3.6537614829<br>    0.0000000000    0.0000000000    7.3075229659"
      ],
      "text/plain": [
       "<AbinitInput at 4675030880>"
      ]
     },
     "execution_count": 50,
     "metadata": {},
     "output_type": "execute_result"
    }
   ],
   "source": [
    "inp.set_vars(kptopt=1, \n",
    "             ngkpt=[2, 2, 2], \n",
    "             nshiftk=2, \n",
    "             shiftk=[0.0, 0.0, 0.0, 0.5, 0.5, 0.5]  # 2 shifts in one list\n",
    "            )\n",
    "\n",
    "# It's possible to use strings but use them only for special cases such as:\n",
    "inp[\"istwfk\"] = \"*1\"\n",
    "inp"
   ]
  },
  {
   "cell_type": "markdown",
   "metadata": {},
   "source": [
    "If you mistype the name of the variable, `AbinitInput` raises an error:"
   ]
  },
  {
   "cell_type": "code",
   "execution_count": 51,
   "metadata": {},
   "outputs": [
    {
     "name": "stdout",
     "output_type": "stream",
     "text": [
      "perl is not a valid ABINIT variable.\n",
      "If the name is correct, try to remove ~/.abinit/abipy/abinit_vars.pickle\n",
      "and rerun the code. If the problems persists, contact the abipy developers\n",
      "or use input.set_spell_check(False)\n",
      "or add the variable to ~abipy/data/variables/abinit_vars.json\n",
      "\n"
     ]
    }
   ],
   "source": [
    "try:\n",
    "    inp.set_vars(perl=0)\n",
    "except Exception as exc:\n",
    "    print(exc)"
   ]
  },
  {
   "cell_type": "markdown",
   "metadata": {},
   "source": [
    "# Defining the crystalline structure"
   ]
  },
  {
   "cell_type": "markdown",
   "metadata": {},
   "source": [
    "The `set_structure` method sets the value of the ABINIT variables:\n",
    "    \n",
    "   * acell\n",
    "   * rprim\n",
    "   * ntypat\n",
    "   * natom \n",
    "   * typat\n",
    "   * znucl\n",
    "   * xred\n",
    "    \n",
    "It is always a good idea to set the structure immediately after the creation of `AbinitInput`\n",
    "because several methods use this information to faciliate the specification of other variables \n",
    "For example, the `set_kpath` method use the structure to generate the $k$-path for band structure calculations.\n",
    "\n",
    "<div class=\"alert alert-warning\">\n",
    "`typat` must be consistent with the list of pseudopotentials passed to `AbinitInput`\n",
    "</div>"
   ]
  },
  {
   "cell_type": "markdown",
   "metadata": {},
   "source": [
    "### Structure from dictionary:"
   ]
  },
  {
   "cell_type": "code",
   "execution_count": 52,
   "metadata": {},
   "outputs": [],
   "source": [
    "structure = dict(\n",
    "    ntypat=1,         \n",
    "    natom=2,\n",
    "    typat=[1, 1],\n",
    "    znucl=14,\n",
    "    acell=3*[10.217],\n",
    "    rprim=[[0.0,  0.5,  0.5],   \n",
    "           [0.5,  0.0,  0.5],\n",
    "           [0.5,  0.5,  0.0]],\n",
    "    xred=[[0.0 , 0.0 , 0.0],\n",
    "          [0.25, 0.25, 0.25]]\n",
    ")\n",
    "\n",
    "inp = AbinitInput(structure, pseudos=abidata.pseudos(\"14si.pspnc\"))"
   ]
  },
  {
   "cell_type": "markdown",
   "metadata": {},
   "source": [
    "### Structure from file"
   ]
  },
  {
   "cell_type": "markdown",
   "metadata": {},
   "source": [
    "From a CIF file:"
   ]
  },
  {
   "cell_type": "code",
   "execution_count": 53,
   "metadata": {},
   "outputs": [
    {
     "data": {
      "text/html": [
       "Full Formula (Si2)<br>Reduced Formula: Si<br>abc   :   3.866975   3.866975   3.866975<br>angles:  60.000000  60.000000  60.000000<br>Sites (2)<br>  #  SP       a     b     c<br>---  ----  ----  ----  ----<br>  0  Si    0     0     0<br>  1  Si    0.25  0.25  0.25"
      ],
      "text/plain": [
       "Structure Summary\n",
       "Lattice\n",
       "    abc : 3.8669746200000001 3.8669746200000001 3.8669746200000001\n",
       " angles : 59.999999999999993 59.999999999999993 59.999999999999993\n",
       " volume : 40.888291793468909\n",
       "      A : 3.3488982567096763 0.0 1.9334873100000005\n",
       "      B : 1.1162994189032256 3.1573715557642927 1.9334873100000005\n",
       "      C : 0.0 0.0 3.8669746200000001\n",
       "PeriodicSite: Si (0.0000, 0.0000, 0.0000) [0.0000, 0.0000, 0.0000]\n",
       "PeriodicSite: Si (1.1163, 0.7893, 1.9335) [0.2500, 0.2500, 0.2500]"
      ]
     },
     "execution_count": 53,
     "metadata": {},
     "output_type": "execute_result"
    }
   ],
   "source": [
    "inp.set_structure(abidata.cif_file(\"si.cif\"))"
   ]
  },
  {
   "cell_type": "markdown",
   "metadata": {},
   "source": [
    "From a Netcdf file produced by ABINIT:"
   ]
  },
  {
   "cell_type": "code",
   "execution_count": 54,
   "metadata": {},
   "outputs": [
    {
     "data": {
      "text/html": [
       "Full Formula (Si2)<br>Reduced Formula: Si<br>abc   :   3.866975   3.866975   3.866975<br>angles:  60.000000  60.000000  60.000000<br>Sites (2)<br>  #  SP       a     b     c<br>---  ----  ----  ----  ----<br>  0  Si    0     0     0<br>  1  Si    0.25  0.25  0.25"
      ],
      "text/plain": [
       "Structure Summary\n",
       "Lattice\n",
       "    abc : 3.8669746352064829 3.8669746352113457 3.8669746351893135\n",
       " angles : 60.000000000188479 60.000000000146869 60.000000000400874\n",
       " volume : 40.888292275933381\n",
       "      A : 3.3488982698838332 0.0 1.9334873175946568\n",
       "      B : 1.1162994232769716 3.157371568197199 1.9334873175946568\n",
       "      C : 0.0 0.0 3.8669746351893135\n",
       "PeriodicSite: Si (0.0000, 0.0000, 0.0000) [0.0000, 0.0000, 0.0000]\n",
       "PeriodicSite: Si (1.1163, 0.7893, 1.9335) [0.2500, 0.2500, 0.2500]"
      ]
     },
     "execution_count": 54,
     "metadata": {},
     "output_type": "execute_result"
    }
   ],
   "source": [
    "inp.set_structure(abidata.ref_file(\"si_scf_GSR.nc\"))"
   ]
  },
  {
   "cell_type": "markdown",
   "metadata": {},
   "source": [
    "Supported formats include:\n",
    "\n",
    "   * CIF\n",
    "   * POSCAR/CONTCAR\n",
    "   * CHGCAR \n",
    "   * LOCPOT,\n",
    "   * vasprun.xml\n",
    "   * CSSR \n",
    "   * ABINIT Netcdf \n",
    "   * pymatgen's JSON serialized structures"
   ]
  },
  {
   "cell_type": "markdown",
   "metadata": {},
   "source": [
    "## From the Materials Project database:"
   ]
  },
  {
   "cell_type": "code",
   "execution_count": 55,
   "metadata": {},
   "outputs": [
    {
     "data": {
      "text/html": [
       "Full Formula (Si2)<br>Reduced Formula: Si<br>abc   :   3.866975   3.866975   3.866975<br>angles:  60.000000  60.000000  60.000000<br>Sites (2)<br>  #  SP        a      b      c    coordination_no  forces<br>---  ----  -----  -----  -----  -----------------  ---------------<br>  0  Si    0.875  0.875  0.875                  5  [0.0, 0.0, 0.0]<br>  1  Si    0.125  0.125  0.125                  5  [0.0, 0.0, 0.0]"
      ],
      "text/plain": [
       "Structure Summary\n",
       "Lattice\n",
       "    abc : 3.8669746228495039 3.866974623775052 3.8669746200000001\n",
       " angles : 60.000000032293386 60.000000024375858 60.000000024168102\n",
       " volume : 40.888291888494884\n",
       "      A : 3.3488982599999999 0.0 1.9334873100000001\n",
       "      B : 1.11629942 3.1573715600000001 1.9334873100000001\n",
       "      C : 0.0 0.0 3.8669746200000001\n",
       "PeriodicSite: Si (3.9070, 2.7627, 6.7672) [0.8750, 0.8750, 0.8750]\n",
       "PeriodicSite: Si (0.5581, 0.3947, 0.9667) [0.1250, 0.1250, 0.1250]"
      ]
     },
     "execution_count": 55,
     "metadata": {},
     "output_type": "execute_result"
    }
   ],
   "source": [
    "# https://www.materialsproject.org/materials/mp-149/\n",
    "inp.set_structure(abilab.Structure.from_material_id(\"mp-149\"))"
   ]
  },
  {
   "cell_type": "markdown",
   "metadata": {},
   "source": [
    "Note that you can avoid the call to `set_structure` if the `structure` argument is passed to \n",
    "`AbiInput`:"
   ]
  },
  {
   "cell_type": "code",
   "execution_count": 56,
   "metadata": {},
   "outputs": [
    {
     "data": {
      "text/html": [
       "############################################################################################<br>#                                         STRUCTURE                                         <br>############################################################################################<br> <a href=\"https://www.abinit.org/doc/helpfiles/for-v8.4/input_variables/html_automatically_generated/varbas.html#natom\" target=\"_blank\">natom</a> 2<br> <a href=\"https://www.abinit.org/doc/helpfiles/for-v8.4/input_variables/html_automatically_generated/varbas.html#ntypat\" target=\"_blank\">ntypat</a> 1<br> <a href=\"https://www.abinit.org/doc/helpfiles/for-v8.4/input_variables/html_automatically_generated/varbas.html#typat\" target=\"_blank\">typat</a> 1 1<br> <a href=\"https://www.abinit.org/doc/helpfiles/for-v8.4/input_variables/html_automatically_generated/varbas.html#znucl\" target=\"_blank\">znucl</a> 14<br> <a href=\"https://www.abinit.org/doc/helpfiles/for-v8.4/input_variables/html_automatically_generated/varbas.html#xred\" target=\"_blank\">xred</a><br>    0.0000000000    0.0000000000    0.0000000000<br>    0.2500000000    0.2500000000    0.2500000000<br> <a href=\"https://www.abinit.org/doc/helpfiles/for-v8.4/input_variables/html_automatically_generated/varbas.html#acell\" target=\"_blank\">acell</a>    1.0    1.0    1.0<br> <a href=\"https://www.abinit.org/doc/helpfiles/for-v8.4/input_variables/html_automatically_generated/varbas.html#rprim\" target=\"_blank\">rprim</a><br>    6.3285005272    0.0000000000    3.6537614829<br>    2.1095001757    5.9665675167    3.6537614829<br>    0.0000000000    0.0000000000    7.3075229659"
      ],
      "text/plain": [
       "<AbinitInput at 4675014104>"
      ]
     },
     "execution_count": 56,
     "metadata": {},
     "output_type": "execute_result"
    }
   ],
   "source": [
    "AbinitInput(structure=abidata.cif_file(\"si.cif\"), pseudos=abidata.pseudos(\"14si.pspnc\"))"
   ]
  },
  {
   "cell_type": "markdown",
   "metadata": {},
   "source": [
    "## Brillouin zone sampling"
   ]
  },
  {
   "cell_type": "markdown",
   "metadata": {},
   "source": [
    "There are two different types of sampling of the BZ: homogeneous and high-symmetry k-path.\n",
    "The later is mainly used for band structure calculations and requires the specification of: \n",
    "\n",
    "   * kptopt\n",
    "   * kptbounds\n",
    "   * ndivsm\n",
    "    \n",
    "whereas the homogeneous sampling is needed for all the calculations in which \n",
    "we have to compute integrals in the Brillouin zone e.g. total energy calculations, DOS, etc.\n",
    "The $k$-mesh is usually specified via:\n",
    "\n",
    "   * ngkpt\n",
    "   * nshiftk\n",
    "   * shiftk"
   ]
  },
  {
   "cell_type": "markdown",
   "metadata": {},
   "source": [
    "### Explicit $k$-mesh"
   ]
  },
  {
   "cell_type": "code",
   "execution_count": 57,
   "metadata": {},
   "outputs": [
    {
     "data": {
      "text/plain": [
       "{'kptopt': 1,\n",
       " 'ngkpt': (1, 2, 3),\n",
       " 'nshiftk': 2,\n",
       " 'shiftk': array([[ 0. ,  0. ,  0. ],\n",
       "        [ 0.5,  0.5,  0.5]])}"
      ]
     },
     "execution_count": 57,
     "metadata": {},
     "output_type": "execute_result"
    }
   ],
   "source": [
    "inp = AbinitInput(structure=abidata.cif_file(\"si.cif\"), pseudos=abidata.pseudos(\"14si.pspnc\"))\n",
    "\n",
    "# Set ngkpt, shiftk explictly  \n",
    "inp.set_kmesh(ngkpt=(1, 2, 3), shiftk=[0.0, 0.0, 0.0, 0.5, 0.5, 0.5])"
   ]
  },
  {
   "cell_type": "markdown",
   "metadata": {},
   "source": [
    "### Automatic $k$-mesh "
   ]
  },
  {
   "cell_type": "code",
   "execution_count": 58,
   "metadata": {},
   "outputs": [
    {
     "data": {
      "text/plain": [
       "{'kptopt': 1,\n",
       " 'ngkpt': array([4, 4, 4]),\n",
       " 'nshiftk': 4,\n",
       " 'shiftk': array([[ 0.5,  0.5,  0.5],\n",
       "        [ 0.5,  0. ,  0. ],\n",
       "        [ 0. ,  0.5,  0. ],\n",
       "        [ 0. ,  0. ,  0.5]])}"
      ]
     },
     "execution_count": 58,
     "metadata": {},
     "output_type": "execute_result"
    }
   ],
   "source": [
    "# Define a homogeneous k-mesh. \n",
    "# nksmall is the number of divisions to be used to sample the smallest lattice vector,\n",
    "# shiftk is automatically selected from an internal database.\n",
    "inp.set_autokmesh(nksmall=4)"
   ]
  },
  {
   "cell_type": "markdown",
   "metadata": {},
   "source": [
    "### High-symmetry $k$-path"
   ]
  },
  {
   "cell_type": "code",
   "execution_count": 59,
   "metadata": {},
   "outputs": [
    {
     "data": {
      "text/plain": [
       "{'iscf': -2, 'kptbounds': array([[ 0.   ,  0.   ,  0.   ],\n",
       "        [ 0.5  ,  0.   ,  0.5  ],\n",
       "        [ 0.5  ,  0.25 ,  0.75 ],\n",
       "        [ 0.375,  0.375,  0.75 ],\n",
       "        [ 0.   ,  0.   ,  0.   ],\n",
       "        [ 0.5  ,  0.5  ,  0.5  ],\n",
       "        [ 0.625,  0.25 ,  0.625],\n",
       "        [ 0.5  ,  0.25 ,  0.75 ],\n",
       "        [ 0.5  ,  0.5  ,  0.5  ],\n",
       "        [ 0.375,  0.375,  0.75 ],\n",
       "        [ 0.625,  0.25 ,  0.625],\n",
       "        [ 0.5  ,  0.   ,  0.5  ]]), 'kptopt': -11, 'ndivsm': 10}"
      ]
     },
     "execution_count": 59,
     "metadata": {},
     "output_type": "execute_result"
    }
   ],
   "source": [
    "# Generate a high-symmetry k-path (taken from an internal database)\n",
    "# 2 points are used to sample the smallest segment, \n",
    "# the other segments are sampled so that proportions are preserved.\n",
    "inp.set_kpath(ndivsm=10)"
   ]
  },
  {
   "cell_type": "markdown",
   "metadata": {},
   "source": [
    "# Utilities"
   ]
  },
  {
   "cell_type": "markdown",
   "metadata": {},
   "source": [
    "### Once the structure has been defined, one can compute the number of valence electrons with:"
   ]
  },
  {
   "cell_type": "code",
   "execution_count": 60,
   "metadata": {},
   "outputs": [
    {
     "name": "stdout",
     "output_type": "stream",
     "text": [
      "The number of valence electrons is:  8.0\n"
     ]
    }
   ],
   "source": [
    "print(\"The number of valence electrons is: \", inp.num_valence_electrons)"
   ]
  },
  {
   "cell_type": "markdown",
   "metadata": {},
   "source": [
    "### Generating inputs for convergence studies"
   ]
  },
  {
   "cell_type": "code",
   "execution_count": 61,
   "metadata": {},
   "outputs": [
    {
     "name": "stdout",
     "output_type": "stream",
     "text": [
      "[2, 4]\n"
     ]
    }
   ],
   "source": [
    "# When using a non-integer step, such as 0.1, the results will often not\n",
    "# be consistent.  It is better to use ``linspace`` for these cases.\n",
    "# See also numpy.arange and numpy.linspace\n",
    "ecut_inps = inp.arange(\"ecut\", start=2, stop=5, step=2)\n",
    "\n",
    "print([i[\"ecut\"] for i in ecut_inps])"
   ]
  },
  {
   "cell_type": "code",
   "execution_count": 62,
   "metadata": {},
   "outputs": [
    {
     "name": "stdout",
     "output_type": "stream",
     "text": [
      "[0.001, 0.002, 0.0030000000000000001]\n"
     ]
    }
   ],
   "source": [
    "tsmear_inps = inp.linspace(\"tsmear\", start=0.001, stop=0.003, num=3)\n",
    "print([i[\"tsmear\"] for i in tsmear_inps])"
   ]
  },
  {
   "cell_type": "markdown",
   "metadata": {},
   "source": [
    "# Invoking Abinit with AbinitInput"
   ]
  },
  {
   "cell_type": "markdown",
   "metadata": {},
   "source": [
    "Once you have an `AbinitInput` you can call Abinit to get useful information \n",
    "or simply to validate the input file before running the real calculation.\n",
    "All the method that invoke Abinit starts with `abi` e.g. `abiget` or `abivalidate`."
   ]
  },
  {
   "cell_type": "code",
   "execution_count": 63,
   "metadata": {},
   "outputs": [
    {
     "name": "stdout",
     "output_type": "stream",
     "text": [
      "src_file: chkinp.F90\n",
      "src_line: 3394\n",
      "mpi_rank: 0\n",
      "message: |\n",
      "    Checking consistency of input data against itself gave 2 inconsistencies.\n",
      "    The details of the problems can be found above.\n",
      "...\n",
      "\n",
      "\n",
      " leave_new: decision taken to exit ...\n",
      "\n"
     ]
    }
   ],
   "source": [
    "inp = AbinitInput(structure=abidata.cif_file(\"si.cif\"), pseudos=abidata.pseudos(\"14si.pspnc\"))\n",
    "\n",
    "inp.set_vars(ecut=-2)\n",
    "inp.set_autokmesh(nksmall=4)\n",
    "\n",
    "v = inp.abivalidate() \n",
    "if v.retcode != 0: \n",
    "    # If there's a mistake in the input, one can acces the log file of the run with the log_file object\n",
    "    print(\"\".join(v.log_file.readlines()[-10:]))"
   ]
  },
  {
   "cell_type": "code",
   "execution_count": 64,
   "metadata": {},
   "outputs": [
    {
     "name": "stdout",
     "output_type": "stream",
     "text": [
      "All ok\n"
     ]
    }
   ],
   "source": [
    "# Fix the problem with the negative ecut and rerun validate!\n",
    "inp[\"ecut\"] = 2\n",
    "inp[\"toldfe\"] = 1e-10\n",
    "v = inp.abivalidate()\n",
    "if v.retcode == 0: \n",
    "    print(\"All ok\")\n",
    "else:\n",
    "    print(v)"
   ]
  },
  {
   "cell_type": "markdown",
   "metadata": {},
   "source": [
    "At this point, we have a valid input file and we can get the k-points in the irreducible zone with:"
   ]
  },
  {
   "cell_type": "code",
   "execution_count": 65,
   "metadata": {},
   "outputs": [
    {
     "name": "stdout",
     "output_type": "stream",
     "text": [
      "number of k-points: 10\n",
      "k-points: [[-0.125 -0.25   0.   ]\n",
      " [-0.125  0.5    0.   ]\n",
      " [-0.25  -0.375  0.   ]\n",
      " [-0.125 -0.375  0.125]\n",
      " [-0.125  0.25   0.   ]\n",
      " [-0.25   0.375  0.   ]\n",
      " [-0.375  0.5    0.   ]\n",
      " [-0.25   0.5    0.125]\n",
      " [-0.125  0.     0.   ]\n",
      " [-0.375  0.     0.   ]]\n",
      "weights: [ 0.09375  0.09375  0.09375  0.1875   0.09375  0.09375  0.09375  0.1875\n",
      "  0.03125  0.03125]\n",
      "weights are normalized to: 1.0\n"
     ]
    }
   ],
   "source": [
    "ibz = inp.abiget_ibz()\n",
    "print(\"number of k-points:\", len(ibz.points))\n",
    "print(\"k-points:\", ibz.points)\n",
    "print(\"weights:\", ibz.weights)\n",
    "print(\"weights are normalized to:\", ibz.weights.sum())"
   ]
  },
  {
   "cell_type": "code",
   "execution_count": 66,
   "metadata": {},
   "outputs": [],
   "source": [
    "# To get the list of possible parallel configurations for this input up to 5 max_ncpus\n",
    "inp[\"paral_kgb\"] = 1\n",
    "pconfs = inp.abiget_autoparal_pconfs(max_ncpus=5)"
   ]
  },
  {
   "cell_type": "code",
   "execution_count": 67,
   "metadata": {},
   "outputs": [
    {
     "name": "stdout",
     "output_type": "stream",
     "text": [
      "best efficiency:\n",
      " {'efficiency': 0.975,\n",
      " 'mem_per_cpu': 0.0,\n",
      " 'mpi_ncpus': 5,\n",
      " 'omp_ncpus': 1,\n",
      " 'tot_ncpus': 5,\n",
      " 'vars': {'bandpp': 1,\n",
      "          'npband': 1,\n",
      "          'npfft': 1,\n",
      "          'npimage': 1,\n",
      "          'npkpt': 5,\n",
      "          'npspinor': 1}}\n",
      "\n",
      "best speedup:\n",
      " {'efficiency': 0.975,\n",
      " 'mem_per_cpu': 0.0,\n",
      " 'mpi_ncpus': 5,\n",
      " 'omp_ncpus': 1,\n",
      " 'tot_ncpus': 5,\n",
      " 'vars': {'bandpp': 1,\n",
      "          'npband': 1,\n",
      "          'npfft': 1,\n",
      "          'npimage': 1,\n",
      "          'npkpt': 5,\n",
      "          'npspinor': 1}}\n",
      "\n"
     ]
    }
   ],
   "source": [
    "print(\"best efficiency:\\n\", pconfs.sort_by_efficiency()[0])\n",
    "print(\"best speedup:\\n\", pconfs.sort_by_speedup()[0])"
   ]
  },
  {
   "cell_type": "code",
   "execution_count": 68,
   "metadata": {},
   "outputs": [
    {
     "data": {
      "text/plain": [
       "[{'idir': 1, 'ipert': 1, 'qpt': [0.0, 0.0, 0.0]}]"
      ]
     },
     "execution_count": 68,
     "metadata": {},
     "output_type": "execute_result"
    }
   ],
   "source": [
    "# To get the list of irreducible phonon perturbations at Gamma (Abinit notation)\n",
    "inp.abiget_irred_phperts(qpt=(0, 0, 0))"
   ]
  },
  {
   "cell_type": "markdown",
   "metadata": {},
   "source": [
    "# Multiple datasets"
   ]
  },
  {
   "cell_type": "markdown",
   "metadata": {},
   "source": [
    "Multiple datasets are handy when you have to generate several input files sharing several common\n",
    "variables e.g. the crystalline structure, the smearing value etc...\n",
    "In this case, one can use the `MultiDataset` object that is essentially \n",
    "a list of `AbinitInput` objects."
   ]
  },
  {
   "cell_type": "code",
   "execution_count": 69,
   "metadata": {},
   "outputs": [
    {
     "name": "stdout",
     "output_type": "stream",
     "text": [
      "4\n",
      "4\n"
     ]
    }
   ],
   "source": [
    "# A MultiDataset object with two datasets (a.k.a. AbinitInput) \n",
    "multi = abilab.MultiDataset(structure=abidata.cif_file(\"si.cif\"),\n",
    "                            pseudos=\"14si.pspnc\", pseudo_dir=abidata.pseudo_dir, ndtset=2)\n",
    "\n",
    "# A MultiDataset is essentially a list if AbinitInput objects \n",
    "# with handy methods to perform global modifications.\n",
    "# i.e. changes that will affect all the inputs in the MultiDataset\n",
    "# For example:\n",
    "multi.set_vars(ecut=4)\n",
    "\n",
    "# is equivalent to\n",
    "#\n",
    "#   for inp in multi: inp.set_vars(ecut=4)\n",
    "#\n",
    "# and indeed:\n",
    "\n",
    "for inp in multi: \n",
    "    print(inp[\"ecut\"])"
   ]
  },
  {
   "cell_type": "code",
   "execution_count": 70,
   "metadata": {},
   "outputs": [
    {
     "data": {
      "text/html": [
       "ndtset 2<br>############################################################################################<br>### Global Variables.<br>############################################################################################<br> <a href=\"https://www.abinit.org/doc/helpfiles/for-v8.4/input_variables/html_automatically_generated/varbas.html#ecut\" target=\"_blank\">ecut</a> 4<br>############################################################################################<br>#                                         STRUCTURE                                         <br>############################################################################################<br> <a href=\"https://www.abinit.org/doc/helpfiles/for-v8.4/input_variables/html_automatically_generated/varbas.html#natom\" target=\"_blank\">natom</a> 2<br> <a href=\"https://www.abinit.org/doc/helpfiles/for-v8.4/input_variables/html_automatically_generated/varbas.html#ntypat\" target=\"_blank\">ntypat</a> 1<br> <a href=\"https://www.abinit.org/doc/helpfiles/for-v8.4/input_variables/html_automatically_generated/varbas.html#typat\" target=\"_blank\">typat</a> 1 1<br> <a href=\"https://www.abinit.org/doc/helpfiles/for-v8.4/input_variables/html_automatically_generated/varbas.html#znucl\" target=\"_blank\">znucl</a> 14<br> <a href=\"https://www.abinit.org/doc/helpfiles/for-v8.4/input_variables/html_automatically_generated/varbas.html#xred\" target=\"_blank\">xred</a><br>    0.0000000000    0.0000000000    0.0000000000<br>    0.2500000000    0.2500000000    0.2500000000<br> <a href=\"https://www.abinit.org/doc/helpfiles/for-v8.4/input_variables/html_automatically_generated/varbas.html#acell\" target=\"_blank\">acell</a>    1.0    1.0    1.0<br> <a href=\"https://www.abinit.org/doc/helpfiles/for-v8.4/input_variables/html_automatically_generated/varbas.html#rprim\" target=\"_blank\">rprim</a><br>    6.3285005272    0.0000000000    3.6537614829<br>    2.1095001757    5.9665675167    3.6537614829<br>    0.0000000000    0.0000000000    7.3075229659<br><br>#################<br>### DATASET 1 ###<br>#################<br>############################################################################################<br>#                                      SECTION: varbas                                      <br>############################################################################################<br> <a href=\"https://www.abinit.org/doc/helpfiles/for-v8.4/input_variables/html_automatically_generated/varbas.html#ngkpt\" target=\"_blank\">ngkpt1</a> 2 2 2<br>############################################################################################<br>#                                       SECTION: vargs                                      <br>############################################################################################<br> <a href=\"https://www.abinit.org/doc/helpfiles/for-v8.4/input_variables/html_automatically_generated/vargs.html#tsmear\" target=\"_blank\">tsmear1</a> 0.004<br><br><br>#################<br>### DATASET 2 ###<br>#################<br>############################################################################################<br>#                                      SECTION: varbas                                      <br>############################################################################################<br> <a href=\"https://www.abinit.org/doc/helpfiles/for-v8.4/input_variables/html_automatically_generated/varbas.html#ngkpt\" target=\"_blank\">ngkpt2</a> 4 4 4<br>############################################################################################<br>#                                       SECTION: vargs                                      <br>############################################################################################<br> <a href=\"https://www.abinit.org/doc/helpfiles/for-v8.4/input_variables/html_automatically_generated/vargs.html#tsmear\" target=\"_blank\">tsmear2</a> 0.008<br><br><br>#&lt;JSON&gt;<br>#{<br>#    &quot;pseudos&quot;: [<br>#        {<br>#            &quot;basename&quot;: &quot;14si.pspnc&quot;,<br>#            &quot;type&quot;: &quot;NcAbinitPseudo&quot;,<br>#            &quot;symbol&quot;: &quot;Si&quot;,<br>#            &quot;Z&quot;: 14,<br>#            &quot;Z_val&quot;: 4.0,<br>#            &quot;l_max&quot;: 2,<br>#            &quot;md5&quot;: &quot;3916b143991b1cfa1542b130be320e5e&quot;,<br>#            &quot;filepath&quot;: &quot;/Users/gmatteo/git_repos/abipy/abipy/data/pseudos/14si.pspnc&quot;,<br>#            &quot;@module&quot;: &quot;pymatgen.io.abinit.pseudos&quot;,<br>#            &quot;@class&quot;: &quot;NcAbinitPseudo&quot;<br>#        }<br>#    ]<br>#}<br>#&lt;/JSON&gt;<br>"
      ],
      "text/plain": [
       "<abipy.abio.inputs.MultiDataset at 0x117059668>"
      ]
     },
     "execution_count": 70,
     "metadata": {},
     "output_type": "execute_result"
    }
   ],
   "source": [
    "# To change the values in a particular dataset use:\n",
    "multi[0].set_vars(ngkpt=[2,2,2], tsmear=0.004)\n",
    "multi[1].set_vars(ngkpt=[4,4,4], tsmear=0.008)\n",
    "\n",
    "multi"
   ]
  },
  {
   "cell_type": "markdown",
   "metadata": {},
   "source": [
    "<div class=\"alert alert\">\n",
    "Remember that in python we start to count from zero hence the first dataset has index 0.\n",
    "</div>"
   ]
  },
  {
   "cell_type": "code",
   "execution_count": 71,
   "metadata": {},
   "outputs": [
    {
     "name": "stdout",
     "output_type": "stream",
     "text": [
      "[Structure Summary\n",
      "Lattice\n",
      "    abc : 3.8669746200000001 3.8669746200000001 3.8669746200000001\n",
      " angles : 59.999999999999993 59.999999999999993 59.999999999999993\n",
      " volume : 40.888291793468909\n",
      "      A : 3.3488982567096763 0.0 1.9334873100000005\n",
      "      B : 1.1162994189032256 3.1573715557642927 1.9334873100000005\n",
      "      C : 0.0 0.0 3.8669746200000001\n",
      "PeriodicSite: Si (0.0000, 0.0000, 0.0000) [0.0000, 0.0000, 0.0000]\n",
      "PeriodicSite: Si (1.1163, 0.7893, 1.9335) [0.2500, 0.2500, 0.2500], Structure Summary\n",
      "Lattice\n",
      "    abc : 3.8669746200000001 3.8669746200000001 3.8669746200000001\n",
      " angles : 59.999999999999993 59.999999999999993 59.999999999999993\n",
      " volume : 40.888291793468909\n",
      "      A : 3.3488982567096763 0.0 1.9334873100000005\n",
      "      B : 1.1162994189032256 3.1573715557642927 1.9334873100000005\n",
      "      C : 0.0 0.0 3.8669746200000001\n",
      "PeriodicSite: Si (0.0000, 0.0000, 0.0000) [0.0000, 0.0000, 0.0000]\n",
      "PeriodicSite: Si (1.1163, 0.7893, 1.9335) [0.2500, 0.2500, 0.2500]]\n"
     ]
    }
   ],
   "source": [
    "# Calling set_structure on MultiDataset will set the structure of the inputs\n",
    "multi.set_structure(abidata.cif_file(\"si.cif\"))\n",
    "\n",
    "# The structure attribute of a MultiDataset returns a list of structures \n",
    "# equivalent to [inp.structure for inp in multi]\n",
    "print(multi.structure)"
   ]
  },
  {
   "cell_type": "markdown",
   "metadata": {},
   "source": [
    "The function `split_datasets` return the list of `AbinitInput` stored in MultiDataset"
   ]
  },
  {
   "cell_type": "code",
   "execution_count": 72,
   "metadata": {},
   "outputs": [
    {
     "data": {
      "text/html": [
       "############################################################################################<br>#                                      SECTION: varbas                                      <br>############################################################################################<br> <a href=\"https://www.abinit.org/doc/helpfiles/for-v8.4/input_variables/html_automatically_generated/varbas.html#ecut\" target=\"_blank\">ecut</a> 4<br> <a href=\"https://www.abinit.org/doc/helpfiles/for-v8.4/input_variables/html_automatically_generated/varbas.html#ngkpt\" target=\"_blank\">ngkpt</a> 2 2 2<br>############################################################################################<br>#                                       SECTION: vargs                                      <br>############################################################################################<br> <a href=\"https://www.abinit.org/doc/helpfiles/for-v8.4/input_variables/html_automatically_generated/vargs.html#tsmear\" target=\"_blank\">tsmear</a> 0.004<br>############################################################################################<br>#                                         STRUCTURE                                         <br>############################################################################################<br> <a href=\"https://www.abinit.org/doc/helpfiles/for-v8.4/input_variables/html_automatically_generated/varbas.html#natom\" target=\"_blank\">natom</a> 2<br> <a href=\"https://www.abinit.org/doc/helpfiles/for-v8.4/input_variables/html_automatically_generated/varbas.html#ntypat\" target=\"_blank\">ntypat</a> 1<br> <a href=\"https://www.abinit.org/doc/helpfiles/for-v8.4/input_variables/html_automatically_generated/varbas.html#typat\" target=\"_blank\">typat</a> 1 1<br> <a href=\"https://www.abinit.org/doc/helpfiles/for-v8.4/input_variables/html_automatically_generated/varbas.html#znucl\" target=\"_blank\">znucl</a> 14<br> <a href=\"https://www.abinit.org/doc/helpfiles/for-v8.4/input_variables/html_automatically_generated/varbas.html#xred\" target=\"_blank\">xred</a><br>    0.0000000000    0.0000000000    0.0000000000<br>    0.2500000000    0.2500000000    0.2500000000<br> <a href=\"https://www.abinit.org/doc/helpfiles/for-v8.4/input_variables/html_automatically_generated/varbas.html#acell\" target=\"_blank\">acell</a>    1.0    1.0    1.0<br> <a href=\"https://www.abinit.org/doc/helpfiles/for-v8.4/input_variables/html_automatically_generated/varbas.html#rprim\" target=\"_blank\">rprim</a><br>    6.3285005272    0.0000000000    3.6537614829<br>    2.1095001757    5.9665675167    3.6537614829<br>    0.0000000000    0.0000000000    7.3075229659"
      ],
      "text/plain": [
       "<AbinitInput at 4681815264>"
      ]
     },
     "execution_count": 72,
     "metadata": {},
     "output_type": "execute_result"
    }
   ],
   "source": [
    "inp0, inp1 = multi.split_datasets()\n",
    "inp0"
   ]
  },
  {
   "cell_type": "markdown",
   "metadata": {},
   "source": [
    "<div class=\"alert alert\">\n",
    "You can use `MultiDataset` to build your input files but remember that \n",
    "`Abipy` workflows will never support input files with more than one dataset.\n",
    "As a consequence, you should always pass an `AbinitInput` to the \n",
    "AbiPy functions that are building `Tasks`, `Works` or `Flows`.\n",
    "</div>"
   ]
  },
  {
   "cell_type": "code",
   "execution_count": 73,
   "metadata": {},
   "outputs": [
    {
     "name": "stdout",
     "output_type": "stream",
     "text": [
      "Number of datasets: 2\n"
     ]
    }
   ],
   "source": [
    "print(\"Number of datasets:\", multi.ndtset)"
   ]
  },
  {
   "cell_type": "code",
   "execution_count": 74,
   "metadata": {},
   "outputs": [
    {
     "name": "stdout",
     "output_type": "stream",
     "text": [
      "Now multi has 3 datasets and the ecut in the last dataset is: 42\n"
     ]
    }
   ],
   "source": [
    "# To create and append a new dataset (initialized from dataset number 1)\n",
    "multi.addnew_from(1)\n",
    "multi[-1].set_vars(ecut=42)\n",
    "print(\"Now multi has\", multi.ndtset, \"datasets and the ecut in the last dataset is:\", \n",
    "      multi[-1][\"ecut\"])"
   ]
  },
  {
   "cell_type": "markdown",
   "metadata": {},
   "source": [
    "# Factory functions"
   ]
  },
  {
   "cell_type": "markdown",
   "metadata": {},
   "source": [
    "`abilab` provides factory functions to build input files for typical calculations.\n",
    "Note that the default values do not correspond to the default behaviour of Abinit.\n",
    "In particular, the majority of the factory functions construct input files \n",
    "for spin-polarized calculations (`nsppol=2`) with a Fermi-Dirac occupation scheme and \n",
    "a physical temperature of 0.1 eV. It always possible to change the default behaviour either\n",
    "by passing these options to the factory function or by changing the `AbinitInput` object returned by the factory.\n",
    "\n",
    "Let's try to generate an input file for a standard GS calculation for Silicon in which \n",
    "the structure is read from a CIF file"
   ]
  },
  {
   "cell_type": "code",
   "execution_count": 75,
   "metadata": {
    "scrolled": false
   },
   "outputs": [
    {
     "data": {
      "text/html": [
       "############################################################################################<br>#                                      SECTION: varbas                                      <br>############################################################################################<br> <a href=\"https://www.abinit.org/doc/helpfiles/for-v8.4/input_variables/html_automatically_generated/varbas.html#ecut\" target=\"_blank\">ecut</a> 8<br> <a href=\"https://www.abinit.org/doc/helpfiles/for-v8.4/input_variables/html_automatically_generated/varbas.html#ngkpt\" target=\"_blank\">ngkpt</a> 8 8 8<br> <a href=\"https://www.abinit.org/doc/helpfiles/for-v8.4/input_variables/html_automatically_generated/varbas.html#shiftk\" target=\"_blank\">shiftk</a>    0.5    0.5    0.5<br> <a href=\"https://www.abinit.org/doc/helpfiles/for-v8.4/input_variables/html_automatically_generated/varbas.html#nshiftk\" target=\"_blank\">nshiftk</a> 1<br> <a href=\"https://www.abinit.org/doc/helpfiles/for-v8.4/input_variables/html_automatically_generated/varbas.html#kptopt\" target=\"_blank\">kptopt</a> 1<br> <a href=\"https://www.abinit.org/doc/helpfiles/for-v8.4/input_variables/html_automatically_generated/varbas.html#nsppol\" target=\"_blank\">nsppol</a> 1<br> <a href=\"https://www.abinit.org/doc/helpfiles/for-v8.4/input_variables/html_automatically_generated/varbas.html#nband\" target=\"_blank\">nband</a> 8<br> <a href=\"https://www.abinit.org/doc/helpfiles/for-v8.4/input_variables/html_automatically_generated/varbas.html#tolvrs\" target=\"_blank\">tolvrs</a> 1e-08<br>############################################################################################<br>#                                       SECTION: vargs                                      <br>############################################################################################<br> <a href=\"https://www.abinit.org/doc/helpfiles/for-v8.4/input_variables/html_automatically_generated/vargs.html#chksymbreak\" target=\"_blank\">chksymbreak</a> 0<br> <a href=\"https://www.abinit.org/doc/helpfiles/for-v8.4/input_variables/html_automatically_generated/vargs.html#nspinor\" target=\"_blank\">nspinor</a> 1<br> <a href=\"https://www.abinit.org/doc/helpfiles/for-v8.4/input_variables/html_automatically_generated/vargs.html#nspden\" target=\"_blank\">nspden</a> 1<br> <a href=\"https://www.abinit.org/doc/helpfiles/for-v8.4/input_variables/html_automatically_generated/vargs.html#charge\" target=\"_blank\">charge</a> 0.0<br>############################################################################################<br>#                                         STRUCTURE                                         <br>############################################################################################<br> <a href=\"https://www.abinit.org/doc/helpfiles/for-v8.4/input_variables/html_automatically_generated/varbas.html#natom\" target=\"_blank\">natom</a> 2<br> <a href=\"https://www.abinit.org/doc/helpfiles/for-v8.4/input_variables/html_automatically_generated/varbas.html#ntypat\" target=\"_blank\">ntypat</a> 1<br> <a href=\"https://www.abinit.org/doc/helpfiles/for-v8.4/input_variables/html_automatically_generated/varbas.html#typat\" target=\"_blank\">typat</a> 1 1<br> <a href=\"https://www.abinit.org/doc/helpfiles/for-v8.4/input_variables/html_automatically_generated/varbas.html#znucl\" target=\"_blank\">znucl</a> 14<br> <a href=\"https://www.abinit.org/doc/helpfiles/for-v8.4/input_variables/html_automatically_generated/varbas.html#xred\" target=\"_blank\">xred</a><br>    0.0000000000    0.0000000000    0.0000000000<br>    0.2500000000    0.2500000000    0.2500000000<br> <a href=\"https://www.abinit.org/doc/helpfiles/for-v8.4/input_variables/html_automatically_generated/varbas.html#acell\" target=\"_blank\">acell</a>    1.0    1.0    1.0<br> <a href=\"https://www.abinit.org/doc/helpfiles/for-v8.4/input_variables/html_automatically_generated/varbas.html#rprim\" target=\"_blank\">rprim</a><br>    6.3285005272    0.0000000000    3.6537614829<br>    2.1095001757    5.9665675167    3.6537614829<br>    0.0000000000    0.0000000000    7.3075229659"
      ],
      "text/plain": [
       "<AbinitInput at 4681902736>"
      ]
     },
     "execution_count": 75,
     "metadata": {},
     "output_type": "execute_result"
    }
   ],
   "source": [
    "si_cif = abidata.cif_file(\"si.cif\")\n",
    "pseudos = os.path.join(abidata.pseudo_dir, \"14si.pspnc\")\n",
    "\n",
    "# Build input for GS calculation (unpolarized, no smearing, 1000 k-points per reciprocal atom) \n",
    "# ecut must be specified because this pseudopotential does not provide hints for ecut.\n",
    "# kppa stands for k-point per reciprocal atom.\n",
    "gs_inp = abilab.gs_input(\n",
    "    si_cif, pseudos,\n",
    "    kppa=1000, ecut=8, spin_mode=\"unpolarized\", smearing=None) # change default\n",
    "\n",
    "inp.set_mnemonics(True)\n",
    "gs_inp"
   ]
  },
  {
   "cell_type": "markdown",
   "metadata": {},
   "source": [
    "## Input variables for band structure calculation + DOS"
   ]
  },
  {
   "cell_type": "code",
   "execution_count": 76,
   "metadata": {
    "code_folding": [],
    "run_control": {
     "marked": true
    },
    "scrolled": false
   },
   "outputs": [
    {
     "data": {
      "text/html": [
       "ndtset 3<br>############################################################################################<br>### Global Variables.<br>############################################################################################<br> <a href=\"https://www.abinit.org/doc/helpfiles/for-v8.4/input_variables/html_automatically_generated/vargs.html#nspinor\" target=\"_blank\">nspinor</a> 1<br> <a href=\"https://www.abinit.org/doc/helpfiles/for-v8.4/input_variables/html_automatically_generated/vargs.html#charge\" target=\"_blank\">charge</a> 0.0<br><br> <a href=\"https://www.abinit.org/doc/helpfiles/for-v8.4/input_variables/html_automatically_generated/varbas.html#nsppol\" target=\"_blank\">nsppol</a> 1<br> <a href=\"https://www.abinit.org/doc/helpfiles/for-v8.4/input_variables/html_automatically_generated/varbas.html#ecut\" target=\"_blank\">ecut</a> 8<br><br> <a href=\"https://www.abinit.org/doc/helpfiles/for-v8.4/input_variables/html_automatically_generated/vargs.html#nspden\" target=\"_blank\">nspden</a> 1<br>############################################################################################<br>#                                         STRUCTURE                                         <br>############################################################################################<br> <a href=\"https://www.abinit.org/doc/helpfiles/for-v8.4/input_variables/html_automatically_generated/varbas.html#natom\" target=\"_blank\">natom</a> 2<br> <a href=\"https://www.abinit.org/doc/helpfiles/for-v8.4/input_variables/html_automatically_generated/varbas.html#ntypat\" target=\"_blank\">ntypat</a> 1<br> <a href=\"https://www.abinit.org/doc/helpfiles/for-v8.4/input_variables/html_automatically_generated/varbas.html#typat\" target=\"_blank\">typat</a> 1 1<br> <a href=\"https://www.abinit.org/doc/helpfiles/for-v8.4/input_variables/html_automatically_generated/varbas.html#znucl\" target=\"_blank\">znucl</a> 14<br> <a href=\"https://www.abinit.org/doc/helpfiles/for-v8.4/input_variables/html_automatically_generated/varbas.html#xred\" target=\"_blank\">xred</a><br>    0.0000000000    0.0000000000    0.0000000000<br>    0.2500000000    0.2500000000    0.2500000000<br> <a href=\"https://www.abinit.org/doc/helpfiles/for-v8.4/input_variables/html_automatically_generated/varbas.html#acell\" target=\"_blank\">acell</a>    1.0    1.0    1.0<br> <a href=\"https://www.abinit.org/doc/helpfiles/for-v8.4/input_variables/html_automatically_generated/varbas.html#rprim\" target=\"_blank\">rprim</a><br>    6.3285005272    0.0000000000    3.6537614829<br>    2.1095001757    5.9665675167    3.6537614829<br>    0.0000000000    0.0000000000    7.3075229659<br><br>#################<br>### DATASET 1 ###<br>#################<br>############################################################################################<br>#                                      SECTION: varbas                                      <br>############################################################################################<br> <a href=\"https://www.abinit.org/doc/helpfiles/for-v8.4/input_variables/html_automatically_generated/varbas.html#ngkpt\" target=\"_blank\">ngkpt1</a> 8 8 8<br> <a href=\"https://www.abinit.org/doc/helpfiles/for-v8.4/input_variables/html_automatically_generated/varbas.html#shiftk\" target=\"_blank\">shiftk1</a>    0.5    0.5    0.5<br> <a href=\"https://www.abinit.org/doc/helpfiles/for-v8.4/input_variables/html_automatically_generated/varbas.html#nshiftk\" target=\"_blank\">nshiftk1</a> 1<br> <a href=\"https://www.abinit.org/doc/helpfiles/for-v8.4/input_variables/html_automatically_generated/varbas.html#kptopt\" target=\"_blank\">kptopt1</a> 1<br> <a href=\"https://www.abinit.org/doc/helpfiles/for-v8.4/input_variables/html_automatically_generated/varbas.html#nband\" target=\"_blank\">nband1</a> 8<br> <a href=\"https://www.abinit.org/doc/helpfiles/for-v8.4/input_variables/html_automatically_generated/varbas.html#tolvrs\" target=\"_blank\">tolvrs1</a> 1e-08<br>############################################################################################<br>#                                       SECTION: vargs                                      <br>############################################################################################<br> <a href=\"https://www.abinit.org/doc/helpfiles/for-v8.4/input_variables/html_automatically_generated/vargs.html#chksymbreak\" target=\"_blank\">chksymbreak1</a> 0<br><br><br>#################<br>### DATASET 2 ###<br>#################<br>############################################################################################<br>#                                      SECTION: varbas                                      <br>############################################################################################<br> <a href=\"https://www.abinit.org/doc/helpfiles/for-v8.4/input_variables/html_automatically_generated/varbas.html#kptopt\" target=\"_blank\">kptopt2</a> -11<br> <a href=\"https://www.abinit.org/doc/helpfiles/for-v8.4/input_variables/html_automatically_generated/varbas.html#nband\" target=\"_blank\">nband2</a> 18<br> <a href=\"https://www.abinit.org/doc/helpfiles/for-v8.4/input_variables/html_automatically_generated/varbas.html#iscf\" target=\"_blank\">iscf2</a> -2<br> <a href=\"https://www.abinit.org/doc/helpfiles/for-v8.4/input_variables/html_automatically_generated/varbas.html#tolwfr\" target=\"_blank\">tolwfr2</a> 1e-17<br>############################################################################################<br>#                                       SECTION: vargs                                      <br>############################################################################################<br> <a href=\"https://www.abinit.org/doc/helpfiles/for-v8.4/input_variables/html_automatically_generated/vargs.html#ndivsm\" target=\"_blank\">ndivsm2</a> 15<br> <a href=\"https://www.abinit.org/doc/helpfiles/for-v8.4/input_variables/html_automatically_generated/vargs.html#kptbounds\" target=\"_blank\">kptbounds2</a><br>    0.0000000000    0.0000000000    0.0000000000<br>    0.5000000000    0.0000000000    0.5000000000<br>    0.5000000000    0.2500000000    0.7500000000<br>    0.3750000000    0.3750000000    0.7500000000<br>    0.0000000000    0.0000000000    0.0000000000<br>    0.5000000000    0.5000000000    0.5000000000<br>    0.6250000000    0.2500000000    0.6250000000<br>    0.5000000000    0.2500000000    0.7500000000<br>    0.5000000000    0.5000000000    0.5000000000<br>    0.3750000000    0.3750000000    0.7500000000<br>    0.6250000000    0.2500000000    0.6250000000<br>    0.5000000000    0.0000000000    0.5000000000<br><br><br>#################<br>### DATASET 3 ###<br>#################<br>############################################################################################<br>#                                      SECTION: varbas                                      <br>############################################################################################<br> <a href=\"https://www.abinit.org/doc/helpfiles/for-v8.4/input_variables/html_automatically_generated/varbas.html#ngkpt\" target=\"_blank\">ngkpt3</a> 14 14 14<br> <a href=\"https://www.abinit.org/doc/helpfiles/for-v8.4/input_variables/html_automatically_generated/varbas.html#shiftk\" target=\"_blank\">shiftk3</a>    0.5    0.5    0.5<br> <a href=\"https://www.abinit.org/doc/helpfiles/for-v8.4/input_variables/html_automatically_generated/varbas.html#nshiftk\" target=\"_blank\">nshiftk3</a> 1<br> <a href=\"https://www.abinit.org/doc/helpfiles/for-v8.4/input_variables/html_automatically_generated/varbas.html#kptopt\" target=\"_blank\">kptopt3</a> 1<br> <a href=\"https://www.abinit.org/doc/helpfiles/for-v8.4/input_variables/html_automatically_generated/varbas.html#nband\" target=\"_blank\">nband3</a> 18<br> <a href=\"https://www.abinit.org/doc/helpfiles/for-v8.4/input_variables/html_automatically_generated/varbas.html#iscf\" target=\"_blank\">iscf3</a> -2<br> <a href=\"https://www.abinit.org/doc/helpfiles/for-v8.4/input_variables/html_automatically_generated/varbas.html#tolwfr\" target=\"_blank\">tolwfr3</a> 1e-17<br>############################################################################################<br>#                                       SECTION: vargs                                      <br>############################################################################################<br> <a href=\"https://www.abinit.org/doc/helpfiles/for-v8.4/input_variables/html_automatically_generated/vargs.html#chksymbreak\" target=\"_blank\">chksymbreak3</a> 0<br><br><br>#&lt;JSON&gt;<br>#{<br>#    &quot;pseudos&quot;: [<br>#        {<br>#            &quot;basename&quot;: &quot;14si.pspnc&quot;,<br>#            &quot;type&quot;: &quot;NcAbinitPseudo&quot;,<br>#            &quot;symbol&quot;: &quot;Si&quot;,<br>#            &quot;Z&quot;: 14,<br>#            &quot;Z_val&quot;: 4.0,<br>#            &quot;l_max&quot;: 2,<br>#            &quot;md5&quot;: &quot;3916b143991b1cfa1542b130be320e5e&quot;,<br>#            &quot;filepath&quot;: &quot;/Users/gmatteo/git_repos/abipy/abipy/data/pseudos/14si.pspnc&quot;,<br>#            &quot;@module&quot;: &quot;pymatgen.io.abinit.pseudos&quot;,<br>#            &quot;@class&quot;: &quot;NcAbinitPseudo&quot;<br>#        }<br>#    ]<br>#}<br>#&lt;/JSON&gt;<br>"
      ],
      "text/plain": [
       "<abipy.abio.inputs.MultiDataset at 0x1170e9eb8>"
      ]
     },
     "execution_count": 76,
     "metadata": {},
     "output_type": "execute_result"
    }
   ],
   "source": [
    "# A slightly more complicated example:\n",
    "# GS run + NSCF on a path + NSCF run on a k-mesh to compute the DOS\n",
    "multi = abilab.ebands_input(si_cif, pseudos,\n",
    "                            ecut=8, spin_mode=\"unpolarized\", smearing=None, dos_kppa=5000)\n",
    "\n",
    "multi"
   ]
  },
  {
   "cell_type": "markdown",
   "metadata": {},
   "source": [
    "## Input variables for GW calculations:"
   ]
  },
  {
   "cell_type": "code",
   "execution_count": 77,
   "metadata": {
    "scrolled": false
   },
   "outputs": [
    {
     "data": {
      "text/html": [
       "ndtset 4<br>############################################################################################<br>### Global Variables.<br>############################################################################################<br> <a href=\"https://www.abinit.org/doc/helpfiles/for-v8.4/input_variables/html_automatically_generated/vardev.html#istwfk\" target=\"_blank\">istwfk</a> *1<br> <a href=\"https://www.abinit.org/doc/helpfiles/for-v8.4/input_variables/html_automatically_generated/varbas.html#nshiftk\" target=\"_blank\">nshiftk</a> 1<br> <a href=\"https://www.abinit.org/doc/helpfiles/for-v8.4/input_variables/html_automatically_generated/vargs.html#nspinor\" target=\"_blank\">nspinor</a> 1<br> <a href=\"https://www.abinit.org/doc/helpfiles/for-v8.4/input_variables/html_automatically_generated/varbas.html#ngkpt\" target=\"_blank\">ngkpt</a> 8 8 8<br> <a href=\"https://www.abinit.org/doc/helpfiles/for-v8.4/input_variables/html_automatically_generated/varbas.html#kptopt\" target=\"_blank\">kptopt</a> 1<br><br> <a href=\"https://www.abinit.org/doc/helpfiles/for-v8.4/input_variables/html_automatically_generated/vargs.html#charge\" target=\"_blank\">charge</a> 0.0<br> <a href=\"https://www.abinit.org/doc/helpfiles/for-v8.4/input_variables/html_automatically_generated/varbas.html#nsppol\" target=\"_blank\">nsppol</a> 1<br> <a href=\"https://www.abinit.org/doc/helpfiles/for-v8.4/input_variables/html_automatically_generated/vargs.html#chksymbreak\" target=\"_blank\">chksymbreak</a> 0<br> <a href=\"https://www.abinit.org/doc/helpfiles/for-v8.4/input_variables/html_automatically_generated/varbas.html#ecut\" target=\"_blank\">ecut</a> 8<br> <a href=\"https://www.abinit.org/doc/helpfiles/for-v8.4/input_variables/html_automatically_generated/varbas.html#shiftk\" target=\"_blank\">shiftk</a>    0.5    0.5    0.5<br><br> <a href=\"https://www.abinit.org/doc/helpfiles/for-v8.4/input_variables/html_automatically_generated/vargs.html#nspden\" target=\"_blank\">nspden</a> 1<br>############################################################################################<br>#                                         STRUCTURE                                         <br>############################################################################################<br> <a href=\"https://www.abinit.org/doc/helpfiles/for-v8.4/input_variables/html_automatically_generated/varbas.html#natom\" target=\"_blank\">natom</a> 2<br> <a href=\"https://www.abinit.org/doc/helpfiles/for-v8.4/input_variables/html_automatically_generated/varbas.html#ntypat\" target=\"_blank\">ntypat</a> 1<br> <a href=\"https://www.abinit.org/doc/helpfiles/for-v8.4/input_variables/html_automatically_generated/varbas.html#typat\" target=\"_blank\">typat</a> 1 1<br> <a href=\"https://www.abinit.org/doc/helpfiles/for-v8.4/input_variables/html_automatically_generated/varbas.html#znucl\" target=\"_blank\">znucl</a> 14<br> <a href=\"https://www.abinit.org/doc/helpfiles/for-v8.4/input_variables/html_automatically_generated/varbas.html#xred\" target=\"_blank\">xred</a><br>    0.0000000000    0.0000000000    0.0000000000<br>    0.2500000000    0.2500000000    0.2500000000<br> <a href=\"https://www.abinit.org/doc/helpfiles/for-v8.4/input_variables/html_automatically_generated/varbas.html#acell\" target=\"_blank\">acell</a>    1.0    1.0    1.0<br> <a href=\"https://www.abinit.org/doc/helpfiles/for-v8.4/input_variables/html_automatically_generated/varbas.html#rprim\" target=\"_blank\">rprim</a><br>    6.3285005272    0.0000000000    3.6537614829<br>    2.1095001757    5.9665675167    3.6537614829<br>    0.0000000000    0.0000000000    7.3075229659<br><br>#################<br>### DATASET 1 ###<br>#################<br>############################################################################################<br>#                                      SECTION: varbas                                      <br>############################################################################################<br> <a href=\"https://www.abinit.org/doc/helpfiles/for-v8.4/input_variables/html_automatically_generated/varbas.html#nband\" target=\"_blank\">nband1</a> 8<br> <a href=\"https://www.abinit.org/doc/helpfiles/for-v8.4/input_variables/html_automatically_generated/varbas.html#tolvrs\" target=\"_blank\">tolvrs1</a> 1e-08<br><br><br>#################<br>### DATASET 2 ###<br>#################<br>############################################################################################<br>#                                      SECTION: varbas                                      <br>############################################################################################<br> <a href=\"https://www.abinit.org/doc/helpfiles/for-v8.4/input_variables/html_automatically_generated/varbas.html#nband\" target=\"_blank\">nband2</a> 50<br> <a href=\"https://www.abinit.org/doc/helpfiles/for-v8.4/input_variables/html_automatically_generated/varbas.html#iscf\" target=\"_blank\">iscf2</a> -2<br> <a href=\"https://www.abinit.org/doc/helpfiles/for-v8.4/input_variables/html_automatically_generated/varbas.html#tolwfr\" target=\"_blank\">tolwfr2</a> 1e-17<br><br><br>#################<br>### DATASET 3 ###<br>#################<br>############################################################################################<br>#                                      SECTION: varbas                                      <br>############################################################################################<br> <a href=\"https://www.abinit.org/doc/helpfiles/for-v8.4/input_variables/html_automatically_generated/varbas.html#nband\" target=\"_blank\">nband3</a> 50<br> <a href=\"https://www.abinit.org/doc/helpfiles/for-v8.4/input_variables/html_automatically_generated/varbas.html#iscf\" target=\"_blank\">iscf3</a> -2<br> <a href=\"https://www.abinit.org/doc/helpfiles/for-v8.4/input_variables/html_automatically_generated/varbas.html#toldfe\" target=\"_blank\">toldfe3</a> 1e-08<br>############################################################################################<br>#                                       SECTION: vargs                                      <br>############################################################################################<br> <a href=\"https://www.abinit.org/doc/helpfiles/for-v8.4/input_variables/html_automatically_generated/vargs.html#optdriver\" target=\"_blank\">optdriver3</a> 3<br>############################################################################################<br>#                                       SECTION: vargw                                      <br>############################################################################################<br> <a href=\"https://www.abinit.org/doc/helpfiles/for-v8.4/input_variables/html_automatically_generated/vargw.html#ecuteps\" target=\"_blank\">ecuteps3</a> 2<br> <a href=\"https://www.abinit.org/doc/helpfiles/for-v8.4/input_variables/html_automatically_generated/vargw.html#inclvkb\" target=\"_blank\">inclvkb3</a> 2<br> <a href=\"https://www.abinit.org/doc/helpfiles/for-v8.4/input_variables/html_automatically_generated/vargw.html#awtr\" target=\"_blank\">awtr3</a> 1<br> <a href=\"https://www.abinit.org/doc/helpfiles/for-v8.4/input_variables/html_automatically_generated/vargw.html#symchi\" target=\"_blank\">symchi3</a> 1<br>############################################################################################<br>#                                      SECTION: varpar                                      <br>############################################################################################<br> <a href=\"https://www.abinit.org/doc/helpfiles/for-v8.4/input_variables/html_automatically_generated/varpar.html#gwpara\" target=\"_blank\">gwpara3</a> 2<br><br><br>#################<br>### DATASET 4 ###<br>#################<br>############################################################################################<br>#                                      SECTION: varbas                                      <br>############################################################################################<br> <a href=\"https://www.abinit.org/doc/helpfiles/for-v8.4/input_variables/html_automatically_generated/varbas.html#nband\" target=\"_blank\">nband4</a> 50<br> <a href=\"https://www.abinit.org/doc/helpfiles/for-v8.4/input_variables/html_automatically_generated/varbas.html#iscf\" target=\"_blank\">iscf4</a> -2<br> <a href=\"https://www.abinit.org/doc/helpfiles/for-v8.4/input_variables/html_automatically_generated/varbas.html#toldfe\" target=\"_blank\">toldfe4</a> 1e-08<br>############################################################################################<br>#                                       SECTION: vargs                                      <br>############################################################################################<br> <a href=\"https://www.abinit.org/doc/helpfiles/for-v8.4/input_variables/html_automatically_generated/vargs.html#optdriver\" target=\"_blank\">optdriver4</a> 4<br>############################################################################################<br>#                                       SECTION: vargw                                      <br>############################################################################################<br> <a href=\"https://www.abinit.org/doc/helpfiles/for-v8.4/input_variables/html_automatically_generated/vargw.html#gwcalctyp\" target=\"_blank\">gwcalctyp4</a> 00<br> <a href=\"https://www.abinit.org/doc/helpfiles/for-v8.4/input_variables/html_automatically_generated/vargw.html#ecuteps\" target=\"_blank\">ecuteps4</a> 2<br> <a href=\"https://www.abinit.org/doc/helpfiles/for-v8.4/input_variables/html_automatically_generated/vargw.html#ecutsigx\" target=\"_blank\">ecutsigx4</a> 8<br> <a href=\"https://www.abinit.org/doc/helpfiles/for-v8.4/input_variables/html_automatically_generated/vargw.html#symsigma\" target=\"_blank\">symsigma4</a> 1<br> <a href=\"https://www.abinit.org/doc/helpfiles/for-v8.4/input_variables/html_automatically_generated/vargw.html#gw_qprange\" target=\"_blank\">gw_qprange4</a> 1<br> <a href=\"https://www.abinit.org/doc/helpfiles/for-v8.4/input_variables/html_automatically_generated/vargw.html#ppmodel\" target=\"_blank\">ppmodel4</a> 1<br>############################################################################################<br>#                                      SECTION: varpar                                      <br>############################################################################################<br> <a href=\"https://www.abinit.org/doc/helpfiles/for-v8.4/input_variables/html_automatically_generated/varpar.html#gwpara\" target=\"_blank\">gwpara4</a> 2<br><br><br>#&lt;JSON&gt;<br>#{<br>#    &quot;pseudos&quot;: [<br>#        {<br>#            &quot;basename&quot;: &quot;14si.pspnc&quot;,<br>#            &quot;type&quot;: &quot;NcAbinitPseudo&quot;,<br>#            &quot;symbol&quot;: &quot;Si&quot;,<br>#            &quot;Z&quot;: 14,<br>#            &quot;Z_val&quot;: 4.0,<br>#            &quot;l_max&quot;: 2,<br>#            &quot;md5&quot;: &quot;3916b143991b1cfa1542b130be320e5e&quot;,<br>#            &quot;filepath&quot;: &quot;/Users/gmatteo/git_repos/abipy/abipy/data/pseudos/14si.pspnc&quot;,<br>#            &quot;@module&quot;: &quot;pymatgen.io.abinit.pseudos&quot;,<br>#            &quot;@class&quot;: &quot;NcAbinitPseudo&quot;<br>#        }<br>#    ]<br>#}<br>#&lt;/JSON&gt;<br>"
      ],
      "text/plain": [
       "<abipy.abio.inputs.MultiDataset at 0x116d02d68>"
      ]
     },
     "execution_count": 77,
     "metadata": {},
     "output_type": "execute_result"
    }
   ],
   "source": [
    "# Generate an input file for GW calculations with the plasmon-pole model.\n",
    "# The calculations consists of a GS run to get the density followed by a \n",
    "# nscf-run to compute the WFK file with `nscf_nband` states.\n",
    "# The cutoff for the screening is given by `ecuteps` while the cutoff for\n",
    "# the exchange part of the self-energy is equal to ecut.\n",
    "# kppa defines the k-point sampling.\n",
    "kppa = 1000\n",
    "ecut = ecutsigx = 8\n",
    "ecuteps = 2\n",
    "nscf_nband = 50\n",
    "\n",
    "multi = abilab.g0w0_with_ppmodel_inputs(\n",
    "    si_cif, pseudos, kppa, nscf_nband, ecuteps, ecutsigx,\n",
    "    ecut=ecut, smearing=None, spin_mode=\"unpolarized\")\n",
    "\n",
    "multi"
   ]
  },
  {
   "cell_type": "code",
   "execution_count": null,
   "metadata": {},
   "outputs": [],
   "source": []
  }
 ],
 "metadata": {
  "kernelspec": {
   "display_name": "Python [conda env:env3.6]",
   "language": "python",
   "name": "conda-env-env3.6-py"
  },
  "language_info": {
   "codemirror_mode": {
    "name": "ipython",
    "version": 3
   },
   "file_extension": ".py",
   "mimetype": "text/x-python",
   "name": "python",
   "nbconvert_exporter": "python",
   "pygments_lexer": "ipython3",
   "version": "3.6.1"
  },
  "latex_envs": {
   "bibliofile": "biblio.bib",
   "cite_by": "apalike",
   "current_citInitial": 1,
   "eqLabelWithNumbers": true,
   "eqNumInitial": 0
  }
 },
 "nbformat": 4,
 "nbformat_minor": 1
}
