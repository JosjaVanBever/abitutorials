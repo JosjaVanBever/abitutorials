{
 "cells": [
  {
   "cell_type": "markdown",
   "metadata": {},
   "source": [
    "Back to the main [Index](index.ipynb) <a id=\"top\"></a>"
   ]
  },
  {
   "cell_type": "markdown",
   "metadata": {},
   "source": [
    "# Tasks, Workflows and Flow\n",
    "\n",
    "\n",
    "## Table of Contents\n",
    "[[back to top](#top)]\n",
    "\n",
    "- [Building a Flow for band structure calculations](#Building-a-Flow-for-band-structure-calculations)\n",
    "- [How to build and run the Flow](#How-to-build-and-run-the-Flow)\n",
    "- [Executing a Flow](#Executing-a-Flow)\n",
    "- [More on Works, Tasks and dependencies](#More-on-Works,-Tasks-and-dependencies)\n",
    "- [Abirun.py](#Abirun.py)\n",
    "\n",
    "In this notebook we discuss some of the basic concepts used in AbiPy \n",
    "to automate ab-initio calculations. \n",
    "In particular we will focus on the following three objects: \n",
    "\n",
    "   * `Task`\n",
    "   * `Work`\n",
    "   * `Flow`\n",
    "   \n",
    "The `Task` represent the most *elementary step* of the automatic workflow. \n",
    "Roughly speaking, it corresponds to the execution of a single Abinit calculation **without** multiple datasets.\n",
    "\n",
    "From the point of view of AbiPy, a calculation consists of a set of `Tasks` that are connected \n",
    "by dependencies. \n",
    "Each task has a list of files that are needed to start the calculation, \n",
    "and a list of files that are produced at the end of the run.\n",
    "\n",
    "Some of the input files needed by a `Task` must be provided by the user in the form of Abinit input variables \n",
    "(e.g. the crystalline structure, the pseudopotentials), other inputs may be produced by other tasks.\n",
    "When a `Task` **B** requires the output file `DEN` of another task **A**, \n",
    "we say that **B** depends on **A** through a `DEN` file, and we express this dependency with the dictionary:\n",
    "\n",
    "```python\n",
    "B_deps = {A: \"DEN\"}\n",
    "```\n",
    "\n",
    "To clarify this point, let's take a standard KS band structure calculation as an example.\n",
    "In this case, we have an initial `ScfTask` that solves the KS equations self-consistently to produce a `DEN` file. \n",
    "The density is then used by a second `NscfTask` to compute a band structure on an arbitrary \n",
    "set of $k$-points.\n",
    "The `NscfTask` thus has a dependency on the `ScfTask` in the sense that it cannot be executed \n",
    "until the `ScfTask` is completed and the `DEN` file is produced by the `ScfTask`.\n",
    "\n",
    "Now that we have clarified the concept of `Task`, we can finally turn to `Works` and `Flow`.\n",
    "The `Work` can be seen as a list of `Tasks`, while the `Flow` is essentially a list of `Work` objects.\n",
    "Works are usually used to group tasks that are connected to each other.\n",
    "Flows are the final objects that are executed. The `Flow` provides an easy-to-use\n",
    "interface for performing this execution. \n",
    "The `Flow` provides a high-level API to perform common operations like launching the actual jobs, checking the status of the `Tasks`, correcting problems etc. \n",
    "\n",
    "AbiPy provides several tools to generate Flows for typical first-principles calculations, so called factory functions.\n",
    "This means that you do not need to understand all the technical details of the python implementation.\n",
    "In many cases, indeed, we already provide some kind of `Work` or `Flow` that automates \n",
    "your calculation, and you only need to provide the correct list of input files.\n",
    "This list, obviously, must be consistent with the kind Flow/Work you are using.\n",
    "(For instance, you should not pass a list of inputs for performing a band structure calculation to a Work \n",
    "that is expected to compute phonons with DFPT!)\n",
    "\n",
    "All the `Works` and the `Tasks` of a flow are created and executed inside the working directory (`workdir`). \n",
    "This is usually specified by the user during the creation of the `Flow` object.\n",
    "AbiPy creates the workdir of the different Works/Tasks when the `Flow` is executed\n",
    "for the first time.\n",
    "\n",
    "Each `Task` contains a set of input variables that will be used to generate the \n",
    "Abinit input file. \n",
    "This input **must** be provided by the user during the creation of the `Task`.\n",
    "Fortunately, AbiPy provides an object named `AbinitInput` to facilitate the creation \n",
    "of such input. \n",
    "Once you have an `AbinitInput`, you can create the corresponding `Task` with the (pseudo) code:\n",
    "\n",
    "```python\n",
    "new_task = Task(abinit_input_object)\n",
    "```\n",
    "\n",
    "The `Task` provides several methods for monitoring the status of the calculation and \n",
    "post-processing the results.\n",
    "Note that the concept of dependency is not limited to files. All the Tasks in the \n",
    "flow are connected and can interact with each other. This allows programmers to implements python\n",
    "functions that will be invoked by the framework at run time. For example, one can \n",
    "implement a Task that fetches the relaxed structure from a previous Task and \n",
    "use this configuration to start a DFPT calculation.\n",
    "\n",
    "In the next paragraph, we discuss how to construct a `Flow` for band-structure calculations\n",
    "with a high-level interface that only requires the specifications of the input files.\n",
    "This example allows us to discuss the most important methods of the `Flow`."
   ]
  },
  {
   "cell_type": "markdown",
   "metadata": {},
   "source": [
    "## Building a Flow for band structure calculations\n",
    "[[back to top](#top)]\n",
    "\n",
    "Let's start by creating a function that produces two input files. \n",
    "The first input is a standard self-consistent ground-state run.\n",
    "The second input uses the density produced in the first run to perform \n",
    "a non self-consistent band structure calculation."
   ]
  },
  {
   "cell_type": "code",
   "execution_count": 1,
   "metadata": {},
   "outputs": [],
   "source": [
    "from __future__ import division, print_function, unicode_literals\n",
    "\n",
    "# This line configures matplotlib to show figures embedded in the notebook.\n",
    "# Replace `inline` with `notebook` in classic notebook\n",
    "%matplotlib inline   \n",
    "\n",
    "# Option available in jupyterlab. See https://github.com/matplotlib/jupyter-matplotlib\n",
    "#%matplotlib widget  \n",
    "\n",
    "import warnings\n",
    "warnings.filterwarnings(\"ignore\") # to get rid of deprecation warnings\n",
    "\n",
    "from abipy import abilab\n",
    "import abipy.flowtk as flowtk\n",
    "import abipy.data as abidata\n",
    "\n",
    "def make_scf_nscf_inputs():\n",
    "    \"\"\"Build ands return the input files for the GS-SCF and the GS-NSCF tasks.\"\"\"\n",
    "    multi = abilab.MultiDataset(structure=abidata.cif_file(\"si.cif\"),\n",
    "                                pseudos=abidata.pseudos(\"14si.pspnc\"), ndtset=2)\n",
    "\n",
    "    # Set global variables (dataset1 and dataset2)\n",
    "    multi.set_vars(ecut=6, nband=8)\n",
    "\n",
    "    # Dataset 1 (GS-SCF run)\n",
    "    multi[0].set_kmesh(ngkpt=[8,8,8], shiftk=[0,0,0])\n",
    "    multi[0].set_vars(tolvrs=1e-6)\n",
    "\n",
    "    # Dataset 2 (GS-NSCF run on a k-path)\n",
    "    kptbounds = [\n",
    "        [0.5, 0.0, 0.0], # L point\n",
    "        [0.0, 0.0, 0.0], # Gamma point\n",
    "        [0.0, 0.5, 0.5], # X point\n",
    "    ]\n",
    "\n",
    "    multi[1].set_kpath(ndivsm=6, kptbounds=kptbounds)\n",
    "    multi[1].set_vars(tolwfr=1e-12)\n",
    "    \n",
    "    # Return two input files for the GS and the NSCF run\n",
    "    scf_input, nscf_input = multi.split_datasets()\n",
    "    return scf_input, nscf_input"
   ]
  },
  {
   "cell_type": "markdown",
   "metadata": {},
   "source": [
    "Once we have our two input files, we pass them to the \n",
    "factory function `bandstructure_flow` that returns our `Flow`."
   ]
  },
  {
   "cell_type": "code",
   "execution_count": 2,
   "metadata": {},
   "outputs": [
    {
     "name": "stdout",
     "output_type": "stream",
     "text": [
      "node <ScfTask, node_id=190, workdir=None> will produce: ['DEN'] \n",
      "['DEN']\n"
     ]
    }
   ],
   "source": [
    "scf_input, nscf_input = make_scf_nscf_inputs()\n",
    "\n",
    "workdir = \"/tmp/hello_bands\"\n",
    "flow = flowtk.bandstructure_flow(workdir, scf_input, nscf_input)"
   ]
  },
  {
   "cell_type": "markdown",
   "metadata": {},
   "source": [
    "`bandstructure_flow` took care of creating the correct dependency between the two tasks.\n",
    "The `NscfTask`, indeed,  depends on the `ScfTask` in w0/t0, whereas the `ScfTask` has no dependency:"
   ]
  },
  {
   "cell_type": "code",
   "execution_count": 3,
   "metadata": {},
   "outputs": [
    {
     "data": {
      "image/svg+xml": [
       "<?xml version=\"1.0\" encoding=\"UTF-8\" standalone=\"no\"?>\n",
       "<!DOCTYPE svg PUBLIC \"-//W3C//DTD SVG 1.1//EN\"\n",
       " \"http://www.w3.org/Graphics/SVG/1.1/DTD/svg11.dtd\">\n",
       "<!-- Generated by graphviz version 2.40.1 (20161225.0304)\n",
       " -->\n",
       "<!-- Title: flow Pages: 1 -->\n",
       "<svg width=\"336pt\" height=\"155pt\"\n",
       " viewBox=\"0.00 0.00 336.00 155.00\" xmlns=\"http://www.w3.org/2000/svg\" xmlns:xlink=\"http://www.w3.org/1999/xlink\">\n",
       "<g id=\"graph0\" class=\"graph\" transform=\"scale(1 1) rotate(0) translate(12 128)\">\n",
       "<title>flow</title>\n",
       "<polygon fill=\"#ffffff\" stroke=\"transparent\" points=\"-12,27 -12,-128 324,-128 324,27 -12,27\"/>\n",
       "<text text-anchor=\"start\" x=\"0\" y=\"15.2\" font-family=\"Times,serif\" font-size=\"14.00\" fill=\"#000000\">Flow, node_id=188, workdir=../../../../../tmp/hello_bands</text>\n",
       "<g id=\"clust1\" class=\"cluster\">\n",
       "<title>clusterw0</title>\n",
       "<path fill=\"#e0eeee\" stroke=\"#000000\" d=\"M85.2381,.3591C85.2381,.3591 227.2381,.3591 227.2381,.3591 233.2381,.3591 239.2381,-5.6409 239.2381,-11.6409 239.2381,-11.6409 239.2381,-111.6409 239.2381,-111.6409 239.2381,-117.6409 233.2381,-123.6409 227.2381,-123.6409 227.2381,-123.6409 85.2381,-123.6409 85.2381,-123.6409 79.2381,-123.6409 73.2381,-117.6409 73.2381,-111.6409 73.2381,-111.6409 73.2381,-11.6409 73.2381,-11.6409 73.2381,-5.6409 79.2381,.3591 85.2381,.3591\"/>\n",
       "<text text-anchor=\"middle\" x=\"156.2381\" y=\"-108.4409\" font-family=\"Times,serif\" font-size=\"14.00\" fill=\"#000000\">BandStructureWork (w0)</text>\n",
       "</g>\n",
       "<!-- w0_t0 -->\n",
       "<g id=\"node1\" class=\"node\">\n",
       "<title>w0_t0</title>\n",
       "<ellipse fill=\"#ff0000\" stroke=\"#ff0000\" cx=\"186.4762\" cy=\"-74.2818\" rx=\"28.9828\" ry=\"18.2703\"/>\n",
       "<text text-anchor=\"middle\" x=\"186.4762\" y=\"-76.8818\" font-family=\"Times,serif\" font-size=\"8.00\" fill=\"#000000\">w0_t0</text>\n",
       "<text text-anchor=\"middle\" x=\"186.4762\" y=\"-67.8818\" font-family=\"Times,serif\" font-size=\"8.00\" fill=\"#000000\">ScfTask</text>\n",
       "</g>\n",
       "<!-- w0_t1 -->\n",
       "<g id=\"node2\" class=\"node\">\n",
       "<title>w0_t1</title>\n",
       "<ellipse fill=\"#c85064\" stroke=\"#c85064\" cx=\"129.4762\" cy=\"-26.2818\" rx=\"32.5538\" ry=\"18.2703\"/>\n",
       "<text text-anchor=\"middle\" x=\"129.4762\" y=\"-28.8818\" font-family=\"Times,serif\" font-size=\"8.00\" fill=\"#000000\">w0_t1</text>\n",
       "<text text-anchor=\"middle\" x=\"129.4762\" y=\"-19.8818\" font-family=\"Times,serif\" font-size=\"8.00\" fill=\"#000000\">NscfTask</text>\n",
       "</g>\n",
       "<!-- w0_t0&#45;&gt;w0_t1 -->\n",
       "<g id=\"edge1\" class=\"edge\">\n",
       "<title>w0_t0&#45;&gt;w0_t1</title>\n",
       "<path fill=\"none\" stroke=\"#ff0000\" d=\"M168.7535,-59.3574C164.5867,-55.8485 160.0595,-52.0361 155.6098,-48.289\"/>\n",
       "<polygon fill=\"#ff0000\" stroke=\"#ff0000\" points=\"157.6821,-45.4584 147.7785,-41.6942 153.1731,-50.8128 157.6821,-45.4584\"/>\n",
       "<text text-anchor=\"middle\" x=\"177.6817\" y=\"-42.6232\" font-family=\"Times,serif\" font-size=\"14.00\" fill=\"#000000\">DEN</text>\n",
       "</g>\n",
       "</g>\n",
       "</svg>\n"
      ],
      "text/plain": [
       "<graphviz.dot.Digraph at 0x7f601a0f9a20>"
      ]
     },
     "execution_count": 3,
     "metadata": {},
     "output_type": "execute_result"
    }
   ],
   "source": [
    "flow.get_graphviz()"
   ]
  },
  {
   "cell_type": "markdown",
   "metadata": {},
   "source": [
    "<div class=\"alert alert-success\" role=\"alert\">\n",
    "Note that we have not used `getden2 = -1` in the second dataset \n",
    "since AbiPy knows how to connect the two Tasks.\n",
    "So no need for `get*` or `ird*` variables with Abipy. \n",
    "Just specify the correct dependency and python will do the rest!\n",
    "</div>"
   ]
  },
  {
   "cell_type": "markdown",
   "metadata": {},
   "source": [
    "To have useful information on the status of the flow, one uses:"
   ]
  },
  {
   "cell_type": "code",
   "execution_count": 4,
   "metadata": {},
   "outputs": [
    {
     "name": "stdout",
     "output_type": "stream",
     "text": [
      "\n",
      "Work #0: <BandStructureWork, node_id=189, workdir=../../../../../tmp/hello_bands/w0>, Finalized=False\n",
      "+--------+-------------+---------+--------------+------------+----------+-----------------+--------+-----------+\n",
      "| Task   | Status      | Queue   | MPI|Omp|Gb   | Warn|Com   | Class    | Sub|Rest|Corr   | Time   |   Node_ID |\n",
      "+========+=============+=========+==============+============+==========+=================+========+===========+\n",
      "| w0_t0  | Initialized\u001b[0m | None    | 1|  1|1.0    | 3|  1      | ScfTask  | (0, 0, 0)       | None   |       190 |\n",
      "+--------+-------------+---------+--------------+------------+----------+-----------------+--------+-----------+\n",
      "| w0_t1  | Initialized\u001b[0m | None    | 1|  1|1.0    | 3|  3      | NscfTask | (0, 0, 0)       | None   |       191 |\n",
      "+--------+-------------+---------+--------------+------------+----------+-----------------+--------+-----------+\n",
      "\n"
     ]
    }
   ],
   "source": [
    "flow.show_status()"
   ]
  },
  {
   "cell_type": "markdown",
   "metadata": {},
   "source": [
    "Meaning of the different columns:\n",
    "    \n",
    "   * *Task*: short name of the task (usually *w[index_of_work_in_flow]_t[index_of_task_in_work]*\n",
    "   * *Status*: Status of the task\n",
    "   * *Queue*: QueueName@Job identifier returned by the resource manager when the task is submitted\n",
    "   * *(MPI|Omp|Gb)*: Number of MPI procs, OMP threads, and memory per MPI proc\n",
    "   * *(Warn|Com)*: Number of Error/Warning/Comment messages found in the ABINIT log\n",
    "   * *Class*: The class of the `Task`\n",
    "   * *(Sub|Rest|Corr)*: Number of (submissions/restart/AbiPy corrections) performed\n",
    "   * *Node_ID* : identifier of the task, used to select tasks or works in python code or `abirun.py`"
   ]
  },
  {
   "cell_type": "markdown",
   "metadata": {},
   "source": [
    "Both `Flow` and `Work` are *iterable*. \n",
    "Iterating on a `Flow` gives `Work` objects, whereas\n",
    "iterating over a `Work` gives the `Tasks` inside that particular `Work`.\n",
    "\n",
    "```python\n",
    "for work in flow:\n",
    "    for task in work:\n",
    "        print(task)\n",
    "```\n",
    "\n",
    "`Flows` and `Works` are containers and we can select items in these containers\n",
    "with the syntax: flow[start:stop] or work[start:stop].\n",
    "This means that the previous loop is equivalent to the much more verbose version: \n",
    "\n",
    "```python\n",
    "for i in range(len(flow)):\n",
    "    work = flow[i]\n",
    "    for t in range(len(work):\n",
    "        print(work[t])\n",
    "```\n",
    "\n",
    "At this point it should not be so difficult to understand that:\n",
    "\n",
    "```python\n",
    "flow[0][0]\n",
    "```\n",
    "\n",
    "gives the first task in the first work of the flow while\n",
    "\n",
    "```python\n",
    "flow[-1][-1]\n",
    "```\n",
    "\n",
    "selects the last `Task` in the last `Work`.\n",
    "In several cases, we only need to iterate over a flat list of tasks without caring about the works.\n",
    "In this case, we can use:\n",
    "\n",
    "```python\n",
    "for task in flow.iflat_tasks():\n",
    "    print(task)\n",
    "```\n",
    "\n",
    "to iterate over all Tasks in the Flow."
   ]
  },
  {
   "cell_type": "markdown",
   "metadata": {},
   "source": [
    "## How to build and run the Flow\n",
    "[[back to top](#top)]\n",
    "\n",
    "The flow is still in memory and no file has been produced. \n",
    "In order to build the workflow, use: "
   ]
  },
  {
   "cell_type": "code",
   "execution_count": 5,
   "metadata": {},
   "outputs": [
    {
     "data": {
      "text/plain": [
       "0"
      ]
     },
     "execution_count": 5,
     "metadata": {},
     "output_type": "execute_result"
    }
   ],
   "source": [
    "import subprocess\n",
    "subprocess.check_output(\"rm -rf /tmp/hello_bands/\", shell=True)\n",
    "\n",
    "#rm -rf /tmp/hello_bands/\n",
    "flow.build_and_pickle_dump()"
   ]
  },
  {
   "cell_type": "markdown",
   "metadata": {},
   "source": [
    "This function creates the directories of the `Flow`:\n",
    "\n",
    "(If you rely on MacOSX, the tree command might not be available. To fix this, see http://osxdaily.com/2016/09/09/view-folder-tree-terminal-mac-os-tree-equivalent/)"
   ]
  },
  {
   "cell_type": "code",
   "execution_count": 6,
   "metadata": {},
   "outputs": [
    {
     "name": "stdout",
     "output_type": "stream",
     "text": [
      "\u001b[01;34m/tmp/hello_bands\u001b[00m\r\n",
      "├── __AbinitFlow__.pickle\r\n",
      "├── \u001b[01;34mindata\u001b[00m\r\n",
      "├── \u001b[01;34moutdata\u001b[00m\r\n",
      "├── \u001b[01;34mtmpdata\u001b[00m\r\n",
      "└── \u001b[01;34mw0\u001b[00m\r\n",
      "    ├── \u001b[01;34mindata\u001b[00m\r\n",
      "    ├── \u001b[01;34moutdata\u001b[00m\r\n",
      "    ├── \u001b[01;34mt0\u001b[00m\r\n",
      "    │   ├── \u001b[01;34mindata\u001b[00m\r\n",
      "    │   ├── \u001b[01;32mjob.sh\u001b[00m\r\n",
      "    │   ├── \u001b[01;34moutdata\u001b[00m\r\n",
      "    │   ├── run.abi\r\n",
      "    │   ├── run.files\r\n",
      "    │   └── \u001b[01;34mtmpdata\u001b[00m\r\n",
      "    ├── \u001b[01;34mt1\u001b[00m\r\n",
      "    │   ├── \u001b[01;34mindata\u001b[00m\r\n",
      "    │   ├── \u001b[01;32mjob.sh\u001b[00m\r\n",
      "    │   ├── \u001b[01;34moutdata\u001b[00m\r\n",
      "    │   ├── run.abi\r\n",
      "    │   ├── run.files\r\n",
      "    │   └── \u001b[01;34mtmpdata\u001b[00m\r\n",
      "    └── \u001b[01;34mtmpdata\u001b[00m\r\n",
      "\r\n",
      "15 directories, 7 files\r\n"
     ]
    }
   ],
   "source": [
    "!tree /tmp/hello_bands"
   ]
  },
  {
   "cell_type": "markdown",
   "metadata": {},
   "source": [
    "Let's have a look at the files/directories associated to the first work (flow[0]):"
   ]
  },
  {
   "cell_type": "code",
   "execution_count": 7,
   "metadata": {},
   "outputs": [
    {
     "data": {
      "image/svg+xml": [
       "<?xml version=\"1.0\" encoding=\"UTF-8\" standalone=\"no\"?>\n",
       "<!DOCTYPE svg PUBLIC \"-//W3C//DTD SVG 1.1//EN\"\n",
       " \"http://www.w3.org/Graphics/SVG/1.1/DTD/svg11.dtd\">\n",
       "<!-- Generated by graphviz version 2.40.1 (20161225.0304)\n",
       " -->\n",
       "<!-- Title: directory Pages: 1 -->\n",
       "<svg width=\"434pt\" height=\"444pt\"\n",
       " viewBox=\"0.00 0.00 434.00 444.00\" xmlns=\"http://www.w3.org/2000/svg\" xmlns:xlink=\"http://www.w3.org/1999/xlink\">\n",
       "<g id=\"graph0\" class=\"graph\" transform=\"scale(1 1) rotate(0) translate(4 417)\">\n",
       "<title>directory</title>\n",
       "<polygon fill=\"#ffffff\" stroke=\"transparent\" points=\"-4,27 -4,-417 430,-417 430,27 -4,27\"/>\n",
       "<text text-anchor=\"middle\" x=\"213\" y=\"15.2\" font-family=\"Times,serif\" font-size=\"14.00\" fill=\"#000000\">/tmp/hello_bands/w0</text>\n",
       "<g id=\"clust1\" class=\"cluster\">\n",
       "<title>cluster_/tmp/hello_bands/w0</title>\n",
       "<path fill=\"#e0eeee\" stroke=\"#000000\" d=\"M257.6379,-278.7384C257.6379,-278.7384 268.9713,-278.7384 268.9713,-278.7384 274.6379,-278.7384 280.3046,-284.4051 280.3046,-290.0717 280.3046,-290.0717 280.3046,-306.4051 280.3046,-306.4051 280.3046,-312.0717 274.6379,-317.7384 268.9713,-317.7384 268.9713,-317.7384 257.6379,-317.7384 257.6379,-317.7384 251.9713,-317.7384 246.3046,-312.0717 246.3046,-306.4051 246.3046,-306.4051 246.3046,-290.0717 246.3046,-290.0717 246.3046,-284.4051 251.9713,-278.7384 257.6379,-278.7384\"/>\n",
       "<text text-anchor=\"middle\" x=\"263.3046\" y=\"-302.5384\" font-family=\"Times,serif\" font-size=\"14.00\" fill=\"#000000\">w0</text>\n",
       "</g>\n",
       "<g id=\"clust2\" class=\"cluster\">\n",
       "<title>cluster_/tmp/hello_bands/w0/t1</title>\n",
       "<path fill=\"#e0eeee\" stroke=\"#000000\" d=\"M86.3694,-123.7808C86.3694,-123.7808 197.3694,-123.7808 197.3694,-123.7808 203.3694,-123.7808 209.3694,-129.7808 209.3694,-135.7808 209.3694,-135.7808 209.3694,-252.7808 209.3694,-252.7808 209.3694,-258.7808 203.3694,-264.7808 197.3694,-264.7808 197.3694,-264.7808 86.3694,-264.7808 86.3694,-264.7808 80.3694,-264.7808 74.3694,-258.7808 74.3694,-252.7808 74.3694,-252.7808 74.3694,-135.7808 74.3694,-135.7808 74.3694,-129.7808 80.3694,-123.7808 86.3694,-123.7808\"/>\n",
       "<text text-anchor=\"middle\" x=\"141.8694\" y=\"-249.5808\" font-family=\"Times,serif\" font-size=\"14.00\" fill=\"#000000\">t1</text>\n",
       "</g>\n",
       "<g id=\"clust6\" class=\"cluster\">\n",
       "<title>cluster_/tmp/hello_bands/w0/t0</title>\n",
       "<path fill=\"#e0eeee\" stroke=\"#000000\" d=\"M232.8808,-56.6669C232.8808,-56.6669 343.8808,-56.6669 343.8808,-56.6669 349.8808,-56.6669 355.8808,-62.6669 355.8808,-68.6669 355.8808,-68.6669 355.8808,-185.6669 355.8808,-185.6669 355.8808,-191.6669 349.8808,-197.6669 343.8808,-197.6669 343.8808,-197.6669 232.8808,-197.6669 232.8808,-197.6669 226.8808,-197.6669 220.8808,-191.6669 220.8808,-185.6669 220.8808,-185.6669 220.8808,-68.6669 220.8808,-68.6669 220.8808,-62.6669 226.8808,-56.6669 232.8808,-56.6669\"/>\n",
       "<text text-anchor=\"middle\" x=\"288.3808\" y=\"-182.4669\" font-family=\"Times,serif\" font-size=\"14.00\" fill=\"#000000\">t0</text>\n",
       "</g>\n",
       "<g id=\"clust10\" class=\"cluster\">\n",
       "<title>cluster_/tmp/hello_bands/w0/outdata</title>\n",
       "<path fill=\"#e0eeee\" stroke=\"#000000\" d=\"M166.9952,-327.5038C166.9952,-327.5038 202.9952,-327.5038 202.9952,-327.5038 208.9952,-327.5038 214.9952,-333.5038 214.9952,-339.5038 214.9952,-339.5038 214.9952,-354.5038 214.9952,-354.5038 214.9952,-360.5038 208.9952,-366.5038 202.9952,-366.5038 202.9952,-366.5038 166.9952,-366.5038 166.9952,-366.5038 160.9952,-366.5038 154.9952,-360.5038 154.9952,-354.5038 154.9952,-354.5038 154.9952,-339.5038 154.9952,-339.5038 154.9952,-333.5038 160.9952,-327.5038 166.9952,-327.5038\"/>\n",
       "<text text-anchor=\"middle\" x=\"184.9952\" y=\"-351.3038\" font-family=\"Times,serif\" font-size=\"14.00\" fill=\"#000000\">outdata</text>\n",
       "</g>\n",
       "<g id=\"clust11\" class=\"cluster\">\n",
       "<title>cluster_/tmp/hello_bands/w0/indata</title>\n",
       "<path fill=\"#e0eeee\" stroke=\"#000000\" d=\"M323.4851,-330.2201C323.4851,-330.2201 351.4851,-330.2201 351.4851,-330.2201 357.4851,-330.2201 363.4851,-336.2201 363.4851,-342.2201 363.4851,-342.2201 363.4851,-357.2201 363.4851,-357.2201 363.4851,-363.2201 357.4851,-369.2201 351.4851,-369.2201 351.4851,-369.2201 323.4851,-369.2201 323.4851,-369.2201 317.4851,-369.2201 311.4851,-363.2201 311.4851,-357.2201 311.4851,-357.2201 311.4851,-342.2201 311.4851,-342.2201 311.4851,-336.2201 317.4851,-330.2201 323.4851,-330.2201\"/>\n",
       "<text text-anchor=\"middle\" x=\"337.4851\" y=\"-354.0201\" font-family=\"Times,serif\" font-size=\"14.00\" fill=\"#000000\">indata</text>\n",
       "</g>\n",
       "<g id=\"clust12\" class=\"cluster\">\n",
       "<title>cluster_/tmp/hello_bands/w0/tmpdata</title>\n",
       "<path fill=\"#e0eeee\" stroke=\"#000000\" d=\"M241.5873,-373.8845C241.5873,-373.8845 281.5873,-373.8845 281.5873,-373.8845 287.5873,-373.8845 293.5873,-379.8845 293.5873,-385.8845 293.5873,-385.8845 293.5873,-400.8845 293.5873,-400.8845 293.5873,-406.8845 287.5873,-412.8845 281.5873,-412.8845 281.5873,-412.8845 241.5873,-412.8845 241.5873,-412.8845 235.5873,-412.8845 229.5873,-406.8845 229.5873,-400.8845 229.5873,-400.8845 229.5873,-385.8845 229.5873,-385.8845 229.5873,-379.8845 235.5873,-373.8845 241.5873,-373.8845\"/>\n",
       "<text text-anchor=\"middle\" x=\"261.5873\" y=\"-397.6845\" font-family=\"Times,serif\" font-size=\"14.00\" fill=\"#000000\">tmpdata</text>\n",
       "</g>\n",
       "<g id=\"clust3\" class=\"cluster\">\n",
       "<title>cluster_/tmp/hello_bands/w0/t1/outdata</title>\n",
       "<path fill=\"#e0eeee\" stroke=\"#000000\" d=\"M114.7688,-.9875C114.7688,-.9875 150.7688,-.9875 150.7688,-.9875 156.7688,-.9875 162.7688,-6.9875 162.7688,-12.9875 162.7688,-12.9875 162.7688,-27.9875 162.7688,-27.9875 162.7688,-33.9875 156.7688,-39.9875 150.7688,-39.9875 150.7688,-39.9875 114.7688,-39.9875 114.7688,-39.9875 108.7688,-39.9875 102.7688,-33.9875 102.7688,-27.9875 102.7688,-27.9875 102.7688,-12.9875 102.7688,-12.9875 102.7688,-6.9875 108.7688,-.9875 114.7688,-.9875\"/>\n",
       "<text text-anchor=\"middle\" x=\"132.7688\" y=\"-24.7875\" font-family=\"Times,serif\" font-size=\"14.00\" fill=\"#000000\">outdata</text>\n",
       "</g>\n",
       "<g id=\"clust4\" class=\"cluster\">\n",
       "<title>cluster_/tmp/hello_bands/w0/t1/indata</title>\n",
       "<path fill=\"#e0eeee\" stroke=\"#000000\" d=\"M294.9081,-207.4799C294.9081,-207.4799 322.9081,-207.4799 322.9081,-207.4799 328.9081,-207.4799 334.9081,-213.4799 334.9081,-219.4799 334.9081,-219.4799 334.9081,-234.4799 334.9081,-234.4799 334.9081,-240.4799 328.9081,-246.4799 322.9081,-246.4799 322.9081,-246.4799 294.9081,-246.4799 294.9081,-246.4799 288.9081,-246.4799 282.9081,-240.4799 282.9081,-234.4799 282.9081,-234.4799 282.9081,-219.4799 282.9081,-219.4799 282.9081,-213.4799 288.9081,-207.4799 294.9081,-207.4799\"/>\n",
       "<text text-anchor=\"middle\" x=\"308.9081\" y=\"-231.2799\" font-family=\"Times,serif\" font-size=\"14.00\" fill=\"#000000\">indata</text>\n",
       "</g>\n",
       "<g id=\"clust5\" class=\"cluster\">\n",
       "<title>cluster_/tmp/hello_bands/w0/t1/tmpdata</title>\n",
       "<path fill=\"#e0eeee\" stroke=\"#000000\" d=\"M12.003,-206.2643C12.003,-206.2643 52.003,-206.2643 52.003,-206.2643 58.003,-206.2643 64.003,-212.2643 64.003,-218.2643 64.003,-218.2643 64.003,-233.2643 64.003,-233.2643 64.003,-239.2643 58.003,-245.2643 52.003,-245.2643 52.003,-245.2643 12.003,-245.2643 12.003,-245.2643 6.003,-245.2643 .003,-239.2643 .003,-233.2643 .003,-233.2643 .003,-218.2643 .003,-218.2643 .003,-212.2643 6.003,-206.2643 12.003,-206.2643\"/>\n",
       "<text text-anchor=\"middle\" x=\"32.003\" y=\"-230.0643\" font-family=\"Times,serif\" font-size=\"14.00\" fill=\"#000000\">tmpdata</text>\n",
       "</g>\n",
       "<g id=\"clust7\" class=\"cluster\">\n",
       "<title>cluster_/tmp/hello_bands/w0/t0/outdata</title>\n",
       "<path fill=\"#e0eeee\" stroke=\"#000000\" d=\"M291.4716,-.0642C291.4716,-.0642 327.4716,-.0642 327.4716,-.0642 333.4716,-.0642 339.4716,-6.0642 339.4716,-12.0642 339.4716,-12.0642 339.4716,-27.0642 339.4716,-27.0642 339.4716,-33.0642 333.4716,-39.0642 327.4716,-39.0642 327.4716,-39.0642 291.4716,-39.0642 291.4716,-39.0642 285.4716,-39.0642 279.4716,-33.0642 279.4716,-27.0642 279.4716,-27.0642 279.4716,-12.0642 279.4716,-12.0642 279.4716,-6.0642 285.4716,-.0642 291.4716,-.0642\"/>\n",
       "<text text-anchor=\"middle\" x=\"309.4716\" y=\"-23.8642\" font-family=\"Times,serif\" font-size=\"14.00\" fill=\"#000000\">outdata</text>\n",
       "</g>\n",
       "<g id=\"clust8\" class=\"cluster\">\n",
       "<title>cluster_/tmp/hello_bands/w0/t0/indata</title>\n",
       "<path fill=\"#e0eeee\" stroke=\"#000000\" d=\"M385.9945,-67.4391C385.9945,-67.4391 413.9945,-67.4391 413.9945,-67.4391 419.9945,-67.4391 425.9945,-73.4391 425.9945,-79.4391 425.9945,-79.4391 425.9945,-94.4391 425.9945,-94.4391 425.9945,-100.4391 419.9945,-106.4391 413.9945,-106.4391 413.9945,-106.4391 385.9945,-106.4391 385.9945,-106.4391 379.9945,-106.4391 373.9945,-100.4391 373.9945,-94.4391 373.9945,-94.4391 373.9945,-79.4391 373.9945,-79.4391 373.9945,-73.4391 379.9945,-67.4391 385.9945,-67.4391\"/>\n",
       "<text text-anchor=\"middle\" x=\"399.9945\" y=\"-91.2391\" font-family=\"Times,serif\" font-size=\"14.00\" fill=\"#000000\">indata</text>\n",
       "</g>\n",
       "<g id=\"clust9\" class=\"cluster\">\n",
       "<title>cluster_/tmp/hello_bands/w0/t0/tmpdata</title>\n",
       "<path fill=\"#e0eeee\" stroke=\"#000000\" d=\"M106.1166,-56.3686C106.1166,-56.3686 146.1166,-56.3686 146.1166,-56.3686 152.1166,-56.3686 158.1166,-62.3686 158.1166,-68.3686 158.1166,-68.3686 158.1166,-83.3686 158.1166,-83.3686 158.1166,-89.3686 152.1166,-95.3686 146.1166,-95.3686 146.1166,-95.3686 106.1166,-95.3686 106.1166,-95.3686 100.1166,-95.3686 94.1166,-89.3686 94.1166,-83.3686 94.1166,-83.3686 94.1166,-68.3686 94.1166,-68.3686 94.1166,-62.3686 100.1166,-56.3686 106.1166,-56.3686\"/>\n",
       "<text text-anchor=\"middle\" x=\"126.1166\" y=\"-80.1686\" font-family=\"Times,serif\" font-size=\"14.00\" fill=\"#000000\">tmpdata</text>\n",
       "</g>\n",
       "<!-- /tmp/hello_bands/w0/t1/run.files -->\n",
       "<g id=\"node7\" class=\"node\">\n",
       "<title>/tmp/hello_bands/w0/t1/run.files</title>\n",
       "<polygon fill=\"#b2dfee\" stroke=\"#b2dfee\" points=\"82.6075,-147.4217 82.6075,-183.4217 136.6075,-183.4217 136.6075,-147.4217 82.6075,-147.4217\"/>\n",
       "<text text-anchor=\"middle\" x=\"109.6075\" y=\"-163.5217\" font-family=\"Times,serif\" font-size=\"8.00\" fill=\"#000000\">run.files</text>\n",
       "</g>\n",
       "<!-- /tmp/hello_bands/w0/t1/job.sh -->\n",
       "<g id=\"node8\" class=\"node\">\n",
       "<title>/tmp/hello_bands/w0/t1/job.sh</title>\n",
       "<polygon fill=\"#b2dfee\" stroke=\"#b2dfee\" points=\"142.6075,-197.4217 142.6075,-233.4217 196.6075,-233.4217 196.6075,-197.4217 142.6075,-197.4217\"/>\n",
       "<text text-anchor=\"middle\" x=\"169.6075\" y=\"-213.5217\" font-family=\"Times,serif\" font-size=\"8.00\" fill=\"#000000\">job.sh</text>\n",
       "</g>\n",
       "<!-- /tmp/hello_bands/w0/t1/run.abi -->\n",
       "<g id=\"node9\" class=\"node\">\n",
       "<title>/tmp/hello_bands/w0/t1/run.abi</title>\n",
       "<polygon fill=\"#b2dfee\" stroke=\"#b2dfee\" points=\"147.6075,-132.4217 147.6075,-168.4217 201.6075,-168.4217 201.6075,-132.4217 147.6075,-132.4217\"/>\n",
       "<text text-anchor=\"middle\" x=\"174.6075\" y=\"-148.5217\" font-family=\"Times,serif\" font-size=\"8.00\" fill=\"#000000\">run.abi</text>\n",
       "</g>\n",
       "<!-- /tmp/hello_bands/w0/t0/run.files -->\n",
       "<g id=\"node13\" class=\"node\">\n",
       "<title>/tmp/hello_bands/w0/t0/run.files</title>\n",
       "<polygon fill=\"#b2dfee\" stroke=\"#b2dfee\" points=\"289.1189,-130.3078 289.1189,-166.3078 343.1189,-166.3078 343.1189,-130.3078 289.1189,-130.3078\"/>\n",
       "<text text-anchor=\"middle\" x=\"316.1189\" y=\"-146.4078\" font-family=\"Times,serif\" font-size=\"8.00\" fill=\"#000000\">run.files</text>\n",
       "</g>\n",
       "<!-- /tmp/hello_bands/w0/t0/job.sh -->\n",
       "<g id=\"node14\" class=\"node\">\n",
       "<title>/tmp/hello_bands/w0/t0/job.sh</title>\n",
       "<polygon fill=\"#b2dfee\" stroke=\"#b2dfee\" points=\"294.1189,-65.3078 294.1189,-101.3078 348.1189,-101.3078 348.1189,-65.3078 294.1189,-65.3078\"/>\n",
       "<text text-anchor=\"middle\" x=\"321.1189\" y=\"-81.4078\" font-family=\"Times,serif\" font-size=\"8.00\" fill=\"#000000\">job.sh</text>\n",
       "</g>\n",
       "<!-- /tmp/hello_bands/w0/t0/run.abi -->\n",
       "<g id=\"node15\" class=\"node\">\n",
       "<title>/tmp/hello_bands/w0/t0/run.abi</title>\n",
       "<polygon fill=\"#b2dfee\" stroke=\"#b2dfee\" points=\"229.1189,-80.3078 229.1189,-116.3078 283.1189,-116.3078 283.1189,-80.3078 229.1189,-80.3078\"/>\n",
       "<text text-anchor=\"middle\" x=\"256.1189\" y=\"-96.4078\" font-family=\"Times,serif\" font-size=\"8.00\" fill=\"#000000\">run.abi</text>\n",
       "</g>\n",
       "<!-- __0:cluster_/tmp/hello_bands/w0 -->\n",
       "<!-- __1:cluster_/tmp/hello_bands/w0/t1 -->\n",
       "<!-- __0:cluster_/tmp/hello_bands/w0&#45;&gt;__1:cluster_/tmp/hello_bands/w0/t1 -->\n",
       "<g id=\"edge12\" class=\"edge\">\n",
       "<title>__0:cluster_/tmp/hello_bands/w0&#45;&gt;__1:cluster_/tmp/hello_bands/w0/t1</title>\n",
       "<path fill=\"none\" stroke=\"#000000\" d=\"M246.1634,-283.5643C238.2195,-276.7637 228.1721,-268.1624 217.4671,-258.9981\"/>\n",
       "<polygon fill=\"#000000\" stroke=\"#000000\" points=\"219.4494,-256.0877 209.5766,-252.2433 214.8971,-261.4054 219.4494,-256.0877\"/>\n",
       "</g>\n",
       "<!-- __2:cluster_/tmp/hello_bands/w0 -->\n",
       "<!-- __3:cluster_/tmp/hello_bands/w0/t0 -->\n",
       "<!-- __2:cluster_/tmp/hello_bands/w0&#45;&gt;__3:cluster_/tmp/hello_bands/w0/t0 -->\n",
       "<g id=\"edge13\" class=\"edge\">\n",
       "<title>__2:cluster_/tmp/hello_bands/w0&#45;&gt;__3:cluster_/tmp/hello_bands/w0/t0</title>\n",
       "<path fill=\"none\" stroke=\"#000000\" d=\"M266.1811,-278.6143C268.7478,-261.1045 272.685,-234.2444 276.535,-207.98\"/>\n",
       "<polygon fill=\"#000000\" stroke=\"#000000\" points=\"280.0157,-208.3657 278.0032,-197.9638 273.0897,-207.3504 280.0157,-208.3657\"/>\n",
       "</g>\n",
       "<!-- __4:cluster_/tmp/hello_bands/w0 -->\n",
       "<!-- __5:cluster_/tmp/hello_bands/w0/outdata -->\n",
       "<!-- __4:cluster_/tmp/hello_bands/w0&#45;&gt;__5:cluster_/tmp/hello_bands/w0/outdata -->\n",
       "<g id=\"edge14\" class=\"edge\">\n",
       "<title>__4:cluster_/tmp/hello_bands/w0&#45;&gt;__5:cluster_/tmp/hello_bands/w0/outdata</title>\n",
       "<path fill=\"none\" stroke=\"#000000\" d=\"M245.9252,-309.061C239.4479,-313.0946 231.8048,-317.8542 224.1611,-322.6141\"/>\n",
       "<polygon fill=\"#000000\" stroke=\"#000000\" points=\"221.8962,-319.9013 215.2577,-328.1585 225.5965,-325.8434 221.8962,-319.9013\"/>\n",
       "</g>\n",
       "<!-- __6:cluster_/tmp/hello_bands/w0 -->\n",
       "<!-- __7:cluster_/tmp/hello_bands/w0/indata -->\n",
       "<!-- __6:cluster_/tmp/hello_bands/w0&#45;&gt;__7:cluster_/tmp/hello_bands/w0/indata -->\n",
       "<g id=\"edge15\" class=\"edge\">\n",
       "<title>__6:cluster_/tmp/hello_bands/w0&#45;&gt;__7:cluster_/tmp/hello_bands/w0/indata</title>\n",
       "<path fill=\"none\" stroke=\"#000000\" d=\"M280.5095,-310.1787C287.2359,-314.8468 295.2009,-320.3746 303.0106,-325.7946\"/>\n",
       "<polygon fill=\"#000000\" stroke=\"#000000\" points=\"301.147,-328.7615 311.3579,-331.5877 305.1381,-323.0107 301.147,-328.7615\"/>\n",
       "</g>\n",
       "<!-- __8:cluster_/tmp/hello_bands/w0 -->\n",
       "<!-- __9:cluster_/tmp/hello_bands/w0/tmpdata -->\n",
       "<!-- __8:cluster_/tmp/hello_bands/w0&#45;&gt;__9:cluster_/tmp/hello_bands/w0/tmpdata -->\n",
       "<g id=\"edge16\" class=\"edge\">\n",
       "<title>__8:cluster_/tmp/hello_bands/w0&#45;&gt;__9:cluster_/tmp/hello_bands/w0/tmpdata</title>\n",
       "<path fill=\"none\" stroke=\"#000000\" d=\"M262.9488,-317.9527C262.7116,-331.0928 262.3954,-348.6111 262.1275,-363.4577\"/>\n",
       "<polygon fill=\"#000000\" stroke=\"#000000\" points=\"258.6238,-363.6339 261.9427,-373.6954 265.6227,-363.7603 258.6238,-363.6339\"/>\n",
       "</g>\n",
       "<!-- __10:cluster_/tmp/hello_bands/w0/t1 -->\n",
       "<!-- __11:cluster_/tmp/hello_bands/w0/t1/outdata -->\n",
       "<!-- __10:cluster_/tmp/hello_bands/w0/t1&#45;&gt;__11:cluster_/tmp/hello_bands/w0/t1/outdata -->\n",
       "<g id=\"edge17\" class=\"edge\">\n",
       "<title>__10:cluster_/tmp/hello_bands/w0/t1&#45;&gt;__11:cluster_/tmp/hello_bands/w0/t1/outdata</title>\n",
       "<path fill=\"none\" stroke=\"#000000\" d=\"M138.1678,-123.5924C136.8247,-97.9422 135.3792,-70.3385 134.3223,-50.1537\"/>\n",
       "<polygon fill=\"#000000\" stroke=\"#000000\" points=\"137.8111,-49.8472 133.7929,-40.0439 130.8207,-50.2133 137.8111,-49.8472\"/>\n",
       "</g>\n",
       "<!-- __12:cluster_/tmp/hello_bands/w0/t1 -->\n",
       "<!-- __13:cluster_/tmp/hello_bands/w0/t1/indata -->\n",
       "<!-- __12:cluster_/tmp/hello_bands/w0/t1&#45;&gt;__13:cluster_/tmp/hello_bands/w0/t1/indata -->\n",
       "<g id=\"edge18\" class=\"edge\">\n",
       "<title>__12:cluster_/tmp/hello_bands/w0/t1&#45;&gt;__13:cluster_/tmp/hello_bands/w0/t1/indata</title>\n",
       "<path fill=\"none\" stroke=\"#000000\" d=\"M209.8104,-207.5808C231.354,-211.7981 254.3312,-216.2961 272.7311,-219.898\"/>\n",
       "<polygon fill=\"#000000\" stroke=\"#000000\" points=\"272.2303,-223.3663 282.7165,-221.8527 273.5752,-216.4967 272.2303,-223.3663\"/>\n",
       "</g>\n",
       "<!-- __14:cluster_/tmp/hello_bands/w0/t1 -->\n",
       "<!-- __15:cluster_/tmp/hello_bands/w0/t1/tmpdata -->\n",
       "<!-- __14:cluster_/tmp/hello_bands/w0/t1&#45;&gt;__15:cluster_/tmp/hello_bands/w0/t1/tmpdata -->\n",
       "<g id=\"edge19\" class=\"edge\">\n",
       "<title>__14:cluster_/tmp/hello_bands/w0/t1&#45;&gt;__15:cluster_/tmp/hello_bands/w0/t1/tmpdata</title>\n",
       "<path fill=\"none\" stroke=\"#000000\" d=\"M74.166,-213.682C74.0584,-213.7128 73.9508,-213.7437 73.8433,-213.7745\"/>\n",
       "<polygon fill=\"#000000\" stroke=\"#000000\" points=\"72.7529,-210.446 64.104,-216.5654 74.6813,-217.1751 72.7529,-210.446\"/>\n",
       "</g>\n",
       "<!-- __16:cluster_/tmp/hello_bands/w0/t0 -->\n",
       "<!-- __17:cluster_/tmp/hello_bands/w0/t0/outdata -->\n",
       "<!-- __16:cluster_/tmp/hello_bands/w0/t0&#45;&gt;__17:cluster_/tmp/hello_bands/w0/t0/outdata -->\n",
       "<g id=\"edge20\" class=\"edge\">\n",
       "<title>__16:cluster_/tmp/hello_bands/w0/t0&#45;&gt;__17:cluster_/tmp/hello_bands/w0/t0/outdata</title>\n",
       "<path fill=\"none\" stroke=\"#000000\" d=\"M302.2133,-56.5949C302.7054,-54.0845 303.1869,-51.6281 303.6528,-49.251\"/>\n",
       "<polygon fill=\"#000000\" stroke=\"#000000\" points=\"307.0921,-49.9003 305.581,-39.4138 300.2228,-48.5538 307.0921,-49.9003\"/>\n",
       "</g>\n",
       "<!-- __18:cluster_/tmp/hello_bands/w0/t0 -->\n",
       "<!-- __19:cluster_/tmp/hello_bands/w0/t0/indata -->\n",
       "<!-- __18:cluster_/tmp/hello_bands/w0/t0&#45;&gt;__19:cluster_/tmp/hello_bands/w0/t0/indata -->\n",
       "<g id=\"edge21\" class=\"edge\">\n",
       "<title>__18:cluster_/tmp/hello_bands/w0/t0&#45;&gt;__19:cluster_/tmp/hello_bands/w0/t0/indata</title>\n",
       "<path fill=\"none\" stroke=\"#000000\" d=\"M355.8818,-102.8382C358.711,-101.8186 361.4981,-100.814 364.2124,-99.8357\"/>\n",
       "<polygon fill=\"#000000\" stroke=\"#000000\" points=\"365.4465,-103.1114 373.6673,-96.428 363.0729,-96.5261 365.4465,-103.1114\"/>\n",
       "</g>\n",
       "<!-- __20:cluster_/tmp/hello_bands/w0/t0 -->\n",
       "<!-- __21:cluster_/tmp/hello_bands/w0/t0/tmpdata -->\n",
       "<!-- __20:cluster_/tmp/hello_bands/w0/t0&#45;&gt;__21:cluster_/tmp/hello_bands/w0/t0/tmpdata -->\n",
       "<g id=\"edge22\" class=\"edge\">\n",
       "<title>__20:cluster_/tmp/hello_bands/w0/t0&#45;&gt;__21:cluster_/tmp/hello_bands/w0/t0/tmpdata</title>\n",
       "<path fill=\"none\" stroke=\"#000000\" d=\"M220.5063,-105.7091C202.6706,-100.0704 183.9562,-94.1541 167.9378,-89.09\"/>\n",
       "<polygon fill=\"#000000\" stroke=\"#000000\" points=\"168.9344,-85.7344 158.3445,-86.0572 166.8243,-92.4088 168.9344,-85.7344\"/>\n",
       "</g>\n",
       "</g>\n",
       "</svg>\n"
      ],
      "text/plain": [
       "<graphviz.dot.Digraph at 0x7f6019ff20b8>"
      ]
     },
     "execution_count": 7,
     "metadata": {},
     "output_type": "execute_result"
    }
   ],
   "source": [
    "flow[0].get_graphviz_dirtree()"
   ]
  },
  {
   "cell_type": "markdown",
   "metadata": {},
   "source": [
    "`w0` is the directory containing the input files of the first workflow (well, we have only one workflow in our example).\n",
    "`t0` and `t1` contain the input files needed to run the SCF and the NSC run, respectively.\n",
    "\n",
    "You might have noticed that each `Task` directory present the same structure:\n",
    "    \n",
    "   * *run.abi*: Input file\n",
    "   * *run.files*: Files file\n",
    "   * *job.sh*: Submission script\n",
    "   * *outdata*: Directory containing output data files\n",
    "   * *indata*: Directory containing input data files \n",
    "   * *tmpdata*: Directory with temporary files\n",
    "   \n",
    "<div class=\"alert alert-danger\" role=\"alert\">\n",
    "`__AbinitFlow__.pickle` is the pickle file used to save the status of `Flow`. **Don't touch it!** \n",
    "</div>"
   ]
  },
  {
   "cell_type": "markdown",
   "metadata": {},
   "source": [
    "An Abinit Task *has* an [AbinitInput](abinit_input.ipynb) which in turn has a [Structure](structure.ipynb):"
   ]
  },
  {
   "cell_type": "code",
   "execution_count": 8,
   "metadata": {},
   "outputs": [
    {
     "data": {
      "text/html": [
       "##############################################<br>####                SECTION: basic               <br>##############################################<br> <a href=\"https://docs.abinit.org/variables/basic#ecut\" target=\"_blank\">ecut</a> 6<br> <a href=\"https://docs.abinit.org/variables/basic#nband\" target=\"_blank\">nband</a> 8<br> <a href=\"https://docs.abinit.org/variables/basic#ngkpt\" target=\"_blank\">ngkpt</a> 8 8 8<br> <a href=\"https://docs.abinit.org/variables/basic#kptopt\" target=\"_blank\">kptopt</a> 1<br> <a href=\"https://docs.abinit.org/variables/basic#nshiftk\" target=\"_blank\">nshiftk</a> 1<br> <a href=\"https://docs.abinit.org/variables/basic#shiftk\" target=\"_blank\">shiftk</a> 0 0 0<br> <a href=\"https://docs.abinit.org/variables/basic#tolvrs\" target=\"_blank\">tolvrs</a> 1e-06<br>##############################################<br>####                  STRUCTURE                  <br>##############################################<br> <a href=\"https://docs.abinit.org/variables/basic#natom\" target=\"_blank\">natom</a> 2<br> <a href=\"https://docs.abinit.org/variables/basic#ntypat\" target=\"_blank\">ntypat</a> 1<br> <a href=\"https://docs.abinit.org/variables/basic#typat\" target=\"_blank\">typat</a> 1 1<br> <a href=\"https://docs.abinit.org/variables/basic#znucl\" target=\"_blank\">znucl</a> 14<br> <a href=\"https://docs.abinit.org/variables/basic#xred\" target=\"_blank\">xred</a><br>    0.0000000000    0.0000000000    0.0000000000<br>    0.2500000000    0.2500000000    0.2500000000<br> <a href=\"https://docs.abinit.org/variables/basic#acell\" target=\"_blank\">acell</a>    1.0    1.0    1.0<br> <a href=\"https://docs.abinit.org/variables/basic#rprim\" target=\"_blank\">rprim</a><br>    6.3285005272    0.0000000000    3.6537614829<br>    2.1095001757    5.9665675167    3.6537614829<br>    0.0000000000    0.0000000000    7.3075229659"
      ],
      "text/plain": [
       "<AbinitInput at 140050761680880>"
      ]
     },
     "execution_count": 8,
     "metadata": {},
     "output_type": "execute_result"
    }
   ],
   "source": [
    " flow[0][0].input"
   ]
  },
  {
   "cell_type": "code",
   "execution_count": 9,
   "metadata": {},
   "outputs": [
    {
     "data": {
      "text/html": [
       "Full Formula (Si2)<br>Reduced Formula: Si<br>abc   :   3.866975   3.866975   3.866975<br>angles:  60.000000  60.000000  60.000000<br>Sites (2)<br>  #  SP       a     b     c<br>---  ----  ----  ----  ----<br>  0  Si    0     0     0<br>  1  Si    0.25  0.25  0.25"
      ],
      "text/plain": [
       "Structure Summary\n",
       "Lattice\n",
       "    abc : 3.86697462 3.86697462 3.86697462\n",
       " angles : 59.99999999999999 59.99999999999999 59.99999999999999\n",
       " volume : 40.88829179346891\n",
       "      A : 3.3488982567096763 0.0 1.9334873100000005\n",
       "      B : 1.1162994189032256 3.1573715557642927 1.9334873100000005\n",
       "      C : 0.0 0.0 3.86697462\n",
       "PeriodicSite: Si (0.0000, 0.0000, 0.0000) [0.0000, 0.0000, 0.0000]\n",
       "PeriodicSite: Si (1.1163, 0.7893, 1.9335) [0.2500, 0.2500, 0.2500]"
      ]
     },
     "execution_count": 9,
     "metadata": {},
     "output_type": "execute_result"
    }
   ],
   "source": [
    "flow[0][0].input.structure"
   ]
  },
  {
   "cell_type": "code",
   "execution_count": 10,
   "metadata": {},
   "outputs": [
    {
     "name": "stdout",
     "output_type": "stream",
     "text": [
      "<NcAbinitPseudo: 14si.pspnc>\n",
      "  summary: Troullier-Martins psp for element  Si        Thu Oct 27 17:31:21 EDT 1994\n",
      "  number of valence electrons: 4.0\n",
      "  maximum angular momentum: d\n",
      "  angular momentum for local part: d\n",
      "  XC correlation: LDA_XC_TETER93\n",
      "  supports spin-orbit: False\n",
      "  radius for non-linear core correction: 1.80626423934776\n",
      "  hint for low accuracy: ecut: 0.0, pawecutdg: 0.0\n",
      "  hint for normal accuracy: ecut: 0.0, pawecutdg: 0.0\n",
      "  hint for high accuracy: ecut: 0.0, pawecutdg: 0.0\n"
     ]
    }
   ],
   "source": [
    "for p in flow[0][0].input.pseudos: \n",
    "    print(p)"
   ]
  },
  {
   "cell_type": "markdown",
   "metadata": {},
   "source": [
    "Let's print the value of `kptopt` for all tasks in our flow with:"
   ]
  },
  {
   "cell_type": "code",
   "execution_count": 11,
   "metadata": {},
   "outputs": [
    {
     "name": "stdout",
     "output_type": "stream",
     "text": [
      "[1, -2]\n"
     ]
    }
   ],
   "source": [
    "print([task.input[\"kptopt\"] for task in flow.iflat_tasks()])"
   ]
  },
  {
   "cell_type": "markdown",
   "metadata": {},
   "source": [
    "that, in this particular case, gives the same result as:"
   ]
  },
  {
   "cell_type": "code",
   "execution_count": 12,
   "metadata": {},
   "outputs": [
    {
     "name": "stdout",
     "output_type": "stream",
     "text": [
      "[1, -2]\n"
     ]
    }
   ],
   "source": [
    "print([task.input[\"kptopt\"] for task in flow[0]])"
   ]
  },
  {
   "cell_type": "markdown",
   "metadata": {},
   "source": [
    "## Executing a Flow\n",
    "[[back to top](#top)]\n",
    "\n",
    "The `Flow` can be executed with two different approaches: a programmatic interface based \n",
    "on `flow.make_scheduler` or the `abirun.py` script. \n",
    "In this section, we discuss the first approach because it plays well with the jupyter notebook.\n",
    "Note however that `abirun.py` is highly recommended especially when running non-trivial calculations. "
   ]
  },
  {
   "cell_type": "code",
   "execution_count": 13,
   "metadata": {},
   "outputs": [
    {
     "name": "stdout",
     "output_type": "stream",
     "text": [
      "\u001b[33m[Fri Jan 31 16:49:02 2020] Number of launches: 1\u001b[0m\n",
      "\n",
      "Work #0: <BandStructureWork, node_id=189, workdir=../../../../../tmp/hello_bands/w0>, Finalized=False\n",
      "+--------+-------------+------------+--------------+------------+----------+-----------------+----------+-----------+\n",
      "| Task   | Status      | Queue      | MPI|Omp|Gb   | Warn|Com   | Class    | Sub|Rest|Corr   | Time     |   Node_ID |\n",
      "+========+=============+============+==============+============+==========+=================+==========+===========+\n",
      "| w0_t0  | \u001b[34mSubmitted\u001b[0m   | 6591@local | 4|  1|1.0    | 0|  0      | ScfTask  | (1, 0, 0)       | 0:00:00Q |       190 |\n",
      "+--------+-------------+------------+--------------+------------+----------+-----------------+----------+-----------+\n",
      "| w0_t1  | Initialized\u001b[0m | None       | 1|  1|1.0    | NA|NA      | NscfTask | (0, 0, 0)       | None     |       191 |\n",
      "+--------+-------------+------------+--------------+------------+----------+-----------------+----------+-----------+\n",
      "\n",
      "\u001b[33m[Fri Jan 31 16:49:07 2020] Number of launches: 1\u001b[0m\n",
      "\n",
      "Work #0: <BandStructureWork, node_id=189, workdir=../../../../../tmp/hello_bands/w0>, Finalized=False\n",
      "+--------+-----------+------------+--------------+------------+----------+-----------------+----------+-----------+\n",
      "| Task   | Status    | Queue      | MPI|Omp|Gb   | Warn|Com   | Class    | Sub|Rest|Corr   | Time     |   Node_ID |\n",
      "+========+===========+============+==============+============+==========+=================+==========+===========+\n",
      "| w0_t0  | \u001b[32mCompleted\u001b[0m | 6591@local | 4|  1|1.0    | 3|  1      | ScfTask  | (1, 0, 0)       | 0:00:01R |       190 |\n",
      "+--------+-----------+------------+--------------+------------+----------+-----------------+----------+-----------+\n",
      "| w0_t1  | \u001b[34mSubmitted\u001b[0m | 6614@local | 4|  1|1.0    | 0|  0      | NscfTask | (1, 0, 0)       | 0:00:00Q |       191 |\n",
      "+--------+-----------+------------+--------------+------------+----------+-----------------+----------+-----------+\n",
      "\n",
      "\n",
      "Work #0: <BandStructureWork, node_id=189, workdir=../../../../../tmp/hello_bands/w0>, Finalized=\u001b[32mTrue\u001b[0m\n",
      "  Finalized works are not shown. Use verbose > 0 to force output.\n",
      "\u001b[32m\n",
      "all_ok reached\n",
      "\u001b[0m\n",
      "\n",
      "Submitted on: Fri Jan 31 16:49:02 2020\n",
      "Completed on: Fri Jan 31 16:49:12 2020\n",
      "Elapsed time: 0:00:10.047392\n",
      "Flow completed successfully\n",
      "\n",
      "Calling flow.finalize()...\n"
     ]
    },
    {
     "data": {
      "text/plain": [
       "0"
      ]
     },
     "execution_count": 13,
     "metadata": {},
     "output_type": "execute_result"
    }
   ],
   "source": [
    "flow.make_scheduler().start()"
   ]
  },
  {
   "cell_type": "markdown",
   "metadata": {},
   "source": [
    "The flow keeps track of the different actions performed by the python code:"
   ]
  },
  {
   "cell_type": "code",
   "execution_count": 14,
   "metadata": {},
   "outputs": [
    {
     "name": "stdout",
     "output_type": "stream",
     "text": [
      "\u001b[32m\n",
      "===============================================================================\n",
      "= <BandStructureWork, node_id=189, workdir=../../../../../tmp/hello_bands/w0> =\n",
      "===============================================================================\u001b[0m\n",
      "[Fri Jan 31 16:49:07 2020] In on_ok with sender <ScfTask, node_id=190, workdir=../../../../../tmp/hello_bands/w0/t0>\n",
      "[Fri Jan 31 16:49:12 2020] In on_ok with sender <NscfTask, node_id=191, workdir=../../../../../tmp/hello_bands/w0/t1>\n",
      "[Fri Jan 31 16:49:12 2020] Finalized set to True\n",
      "[Fri Jan 31 16:49:12 2020] Work <BandStructureWork, node_id=189, workdir=../../../../../tmp/hello_bands/w0> is finalized and broadcasts signal S_OK\n",
      "[Fri Jan 31 16:49:12 2020] Node <BandStructureWork, node_id=189, workdir=../../../../../tmp/hello_bands/w0> broadcasts signal Completed\n",
      "\u001b[32m\n",
      "================================================================================\n",
      "===== <ScfTask, node_id=190, workdir=../../../../../tmp/hello_bands/w0/t0> =====\n",
      "================================================================================\u001b[0m\n",
      "[Fri Jan 31 16:49:02 2020] Status changed to Ready. msg: Status set to Ready\n",
      "[Fri Jan 31 16:49:02 2020] Setting input variables: {'autoparal': 1, 'max_ncpus': 4, 'mem_test': 0}\n",
      "[Fri Jan 31 16:49:02 2020] Old values: {'autoparal': None, 'max_ncpus': None, 'mem_test': None}\n",
      "[Fri Jan 31 16:49:02 2020] Setting input variables: {'npimage': 1, 'npkpt': 4, 'npspinor': 1, 'npfft': 1, 'npband': 1, 'bandpp': 1}\n",
      "[Fri Jan 31 16:49:02 2020] Old values: {'npimage': None, 'npkpt': None, 'npspinor': None, 'npfft': None, 'npband': None, 'bandpp': None}\n",
      "[Fri Jan 31 16:49:02 2020] Status changed to Initialized. msg: finished autoparal run\n",
      "[Fri Jan 31 16:49:02 2020] Submitted with MPI=4, Omp=1, Memproc=1.0 [Gb] Submitted to queue \n",
      "[Fri Jan 31 16:49:07 2020] Task completed status set to OK based on abiout\n",
      "[Fri Jan 31 16:49:07 2020] Finalized set to True\n",
      "[Fri Jan 31 16:49:07 2020] Node <ScfTask, node_id=190, workdir=../../../../../tmp/hello_bands/w0/t0> broadcasts signal Completed\n",
      "\u001b[32m\n",
      "===============================================================================\n",
      "==== <NscfTask, node_id=191, workdir=../../../../../tmp/hello_bands/w0/t1> ====\n",
      "===============================================================================\u001b[0m\n",
      "[Fri Jan 31 16:49:07 2020] Status changed to Ready. msg: Status set to Ready\n",
      "[Fri Jan 31 16:49:07 2020] Need path /tmp/hello_bands/w0/t0/outdata/out_DEN with ext DEN\n",
      "[Fri Jan 31 16:49:07 2020] Linking path /tmp/hello_bands/w0/t0/outdata/out_DEN --> /tmp/hello_bands/w0/t1/indata/in_DEN\n",
      "[Fri Jan 31 16:49:07 2020] Setting input variables: {'ngfft': [18, 18, 18]}\n",
      "[Fri Jan 31 16:49:07 2020] Old values: {'ngfft': None}\n",
      "[Fri Jan 31 16:49:07 2020] Adding connecting vars {'irdden': 1}\n",
      "[Fri Jan 31 16:49:07 2020] Setting input variables: {'irdden': 1}\n",
      "[Fri Jan 31 16:49:07 2020] Old values: {'irdden': None}\n",
      "[Fri Jan 31 16:49:07 2020] Setting input variables: {'autoparal': 1, 'max_ncpus': 4, 'mem_test': 0}\n",
      "[Fri Jan 31 16:49:07 2020] Old values: {'autoparal': None, 'max_ncpus': None, 'mem_test': None}\n",
      "[Fri Jan 31 16:49:07 2020] Setting input variables: {'npimage': 1, 'npkpt': 4, 'npspinor': 1, 'npfft': 1, 'npband': 1, 'bandpp': 1}\n",
      "[Fri Jan 31 16:49:07 2020] Old values: {'npimage': None, 'npkpt': None, 'npspinor': None, 'npfft': None, 'npband': None, 'bandpp': None}\n",
      "[Fri Jan 31 16:49:07 2020] Status changed to Initialized. msg: finished autoparal run\n",
      "[Fri Jan 31 16:49:07 2020] Submitted with MPI=4, Omp=1, Memproc=1.0 [Gb] Submitted to queue \n",
      "[Fri Jan 31 16:49:12 2020] Task completed status set to OK based on abiout\n",
      "[Fri Jan 31 16:49:12 2020] Finalized set to True\n",
      "[Fri Jan 31 16:49:12 2020] Node <NscfTask, node_id=191, workdir=../../../../../tmp/hello_bands/w0/t1> broadcasts signal Completed\n",
      "\u001b[32m\n",
      "===============================================================================\n",
      "========= <Flow, node_id=188, workdir=../../../../../tmp/hello_bands> =========\n",
      "===============================================================================\u001b[0m\n",
      "[Fri Jan 31 16:49:12 2020] Calling flow.finalize.\n",
      "[Fri Jan 31 16:49:12 2020] Finalized set to True\n"
     ]
    }
   ],
   "source": [
    "flow.show_history()"
   ]
  },
  {
   "cell_type": "markdown",
   "metadata": {},
   "source": [
    "If you read the logs carefully, you will realize that in the first iteration of the scheduler, \n",
    "only the `ScfTask` is executed because the second task depends on it. \n",
    "After the initial submission, the scheduler starts to monitor all the tasks in the flow.\n",
    "\n",
    "When the ScfTask completes, the dependency of the NscfTask is fullfilled and \n",
    "a new submission takes place. Once the second task completes, the scheduler calls `flow.finalize`\n",
    "to execute (optional) logic that is supposed to be executed to perform some sort of cleanup or final processing.\n",
    "At this point, all the tasks in the flow are completed and the scheduler exits.\n",
    "\n",
    "Now we can have a look at the different output files produced by our flow with:"
   ]
  },
  {
   "cell_type": "code",
   "execution_count": 15,
   "metadata": {},
   "outputs": [
    {
     "data": {
      "image/svg+xml": [
       "<?xml version=\"1.0\" encoding=\"UTF-8\" standalone=\"no\"?>\n",
       "<!DOCTYPE svg PUBLIC \"-//W3C//DTD SVG 1.1//EN\"\n",
       " \"http://www.w3.org/Graphics/SVG/1.1/DTD/svg11.dtd\">\n",
       "<!-- Generated by graphviz version 2.40.1 (20161225.0304)\n",
       " -->\n",
       "<!-- Title: directory Pages: 1 -->\n",
       "<svg width=\"1039pt\" height=\"811pt\"\n",
       " viewBox=\"0.00 0.00 1039.00 811.00\" xmlns=\"http://www.w3.org/2000/svg\" xmlns:xlink=\"http://www.w3.org/1999/xlink\">\n",
       "<g id=\"graph0\" class=\"graph\" transform=\"scale(1 1) rotate(0) translate(4 784)\">\n",
       "<title>directory</title>\n",
       "<polygon fill=\"#ffffff\" stroke=\"transparent\" points=\"-4,27 -4,-784 1035,-784 1035,27 -4,27\"/>\n",
       "<text text-anchor=\"middle\" x=\"515.5\" y=\"15.2\" font-family=\"Times,serif\" font-size=\"14.00\" fill=\"#000000\">/tmp/hello_bands/w0</text>\n",
       "<g id=\"clust1\" class=\"cluster\">\n",
       "<title>cluster_/tmp/hello_bands/w0</title>\n",
       "<path fill=\"#e0eeee\" stroke=\"#000000\" d=\"M620.7467,-629.1078C620.7467,-629.1078 632.08,-629.1078 632.08,-629.1078 637.7467,-629.1078 643.4133,-634.7744 643.4133,-640.4411 643.4133,-640.4411 643.4133,-656.7744 643.4133,-656.7744 643.4133,-662.4411 637.7467,-668.1078 632.08,-668.1078 632.08,-668.1078 620.7467,-668.1078 620.7467,-668.1078 615.08,-668.1078 609.4133,-662.4411 609.4133,-656.7744 609.4133,-656.7744 609.4133,-640.4411 609.4133,-640.4411 609.4133,-634.7744 615.08,-629.1078 620.7467,-629.1078\"/>\n",
       "<text text-anchor=\"middle\" x=\"626.4133\" y=\"-652.9078\" font-family=\"Times,serif\" font-size=\"14.00\" fill=\"#000000\">w0</text>\n",
       "</g>\n",
       "<g id=\"clust2\" class=\"cluster\">\n",
       "<title>cluster_/tmp/hello_bands/w0/t1</title>\n",
       "<path fill=\"#e0eeee\" stroke=\"#000000\" d=\"M313.0826,-419.5497C313.0826,-419.5497 509.0826,-419.5497 509.0826,-419.5497 515.0826,-419.5497 521.0826,-425.5497 521.0826,-431.5497 521.0826,-431.5497 521.0826,-648.5497 521.0826,-648.5497 521.0826,-654.5497 515.0826,-660.5497 509.0826,-660.5497 509.0826,-660.5497 313.0826,-660.5497 313.0826,-660.5497 307.0826,-660.5497 301.0826,-654.5497 301.0826,-648.5497 301.0826,-648.5497 301.0826,-431.5497 301.0826,-431.5497 301.0826,-425.5497 307.0826,-419.5497 313.0826,-419.5497\"/>\n",
       "<text text-anchor=\"middle\" x=\"411.0826\" y=\"-645.3497\" font-family=\"Times,serif\" font-size=\"14.00\" fill=\"#000000\">t1</text>\n",
       "</g>\n",
       "<g id=\"clust6\" class=\"cluster\">\n",
       "<title>cluster_/tmp/hello_bands/w0/t0</title>\n",
       "<path fill=\"#e0eeee\" stroke=\"#000000\" d=\"M542.4481,-243.5476C542.4481,-243.5476 738.4481,-243.5476 738.4481,-243.5476 744.4481,-243.5476 750.4481,-249.5476 750.4481,-255.5476 750.4481,-255.5476 750.4481,-472.5476 750.4481,-472.5476 750.4481,-478.5476 744.4481,-484.5476 738.4481,-484.5476 738.4481,-484.5476 542.4481,-484.5476 542.4481,-484.5476 536.4481,-484.5476 530.4481,-478.5476 530.4481,-472.5476 530.4481,-472.5476 530.4481,-255.5476 530.4481,-255.5476 530.4481,-249.5476 536.4481,-243.5476 542.4481,-243.5476\"/>\n",
       "<text text-anchor=\"middle\" x=\"640.4481\" y=\"-469.3476\" font-family=\"Times,serif\" font-size=\"14.00\" fill=\"#000000\">t0</text>\n",
       "</g>\n",
       "<g id=\"clust10\" class=\"cluster\">\n",
       "<title>cluster_/tmp/hello_bands/w0/outdata</title>\n",
       "<path fill=\"#e0eeee\" stroke=\"#000000\" d=\"M527.1868,-703.7269C527.1868,-703.7269 563.1868,-703.7269 563.1868,-703.7269 569.1868,-703.7269 575.1868,-709.7269 575.1868,-715.7269 575.1868,-715.7269 575.1868,-730.7269 575.1868,-730.7269 575.1868,-736.7269 569.1868,-742.7269 563.1868,-742.7269 563.1868,-742.7269 527.1868,-742.7269 527.1868,-742.7269 521.1868,-742.7269 515.1868,-736.7269 515.1868,-730.7269 515.1868,-730.7269 515.1868,-715.7269 515.1868,-715.7269 515.1868,-709.7269 521.1868,-703.7269 527.1868,-703.7269\"/>\n",
       "<text text-anchor=\"middle\" x=\"545.1868\" y=\"-727.5269\" font-family=\"Times,serif\" font-size=\"14.00\" fill=\"#000000\">outdata</text>\n",
       "</g>\n",
       "<g id=\"clust11\" class=\"cluster\">\n",
       "<title>cluster_/tmp/hello_bands/w0/indata</title>\n",
       "<path fill=\"#e0eeee\" stroke=\"#000000\" d=\"M700.0518,-685.5725C700.0518,-685.5725 728.0518,-685.5725 728.0518,-685.5725 734.0518,-685.5725 740.0518,-691.5725 740.0518,-697.5725 740.0518,-697.5725 740.0518,-712.5725 740.0518,-712.5725 740.0518,-718.5725 734.0518,-724.5725 728.0518,-724.5725 728.0518,-724.5725 700.0518,-724.5725 700.0518,-724.5725 694.0518,-724.5725 688.0518,-718.5725 688.0518,-712.5725 688.0518,-712.5725 688.0518,-697.5725 688.0518,-697.5725 688.0518,-691.5725 694.0518,-685.5725 700.0518,-685.5725\"/>\n",
       "<text text-anchor=\"middle\" x=\"714.0518\" y=\"-709.3725\" font-family=\"Times,serif\" font-size=\"14.00\" fill=\"#000000\">indata</text>\n",
       "</g>\n",
       "<g id=\"clust12\" class=\"cluster\">\n",
       "<title>cluster_/tmp/hello_bands/w0/tmpdata</title>\n",
       "<path fill=\"#e0eeee\" stroke=\"#000000\" d=\"M616.0329,-741.4072C616.0329,-741.4072 656.0329,-741.4072 656.0329,-741.4072 662.0329,-741.4072 668.0329,-747.4072 668.0329,-753.4072 668.0329,-753.4072 668.0329,-768.4072 668.0329,-768.4072 668.0329,-774.4072 662.0329,-780.4072 656.0329,-780.4072 656.0329,-780.4072 616.0329,-780.4072 616.0329,-780.4072 610.0329,-780.4072 604.0329,-774.4072 604.0329,-768.4072 604.0329,-768.4072 604.0329,-753.4072 604.0329,-753.4072 604.0329,-747.4072 610.0329,-741.4072 616.0329,-741.4072\"/>\n",
       "<text text-anchor=\"middle\" x=\"636.0329\" y=\"-765.2072\" font-family=\"Times,serif\" font-size=\"14.00\" fill=\"#000000\">tmpdata</text>\n",
       "</g>\n",
       "<g id=\"clust3\" class=\"cluster\">\n",
       "<title>cluster_/tmp/hello_bands/w0/t1/outdata</title>\n",
       "<path fill=\"#e0eeee\" stroke=\"#000000\" d=\"M12.3776,-177.5171C12.3776,-177.5171 210.3776,-177.5171 210.3776,-177.5171 216.3776,-177.5171 222.3776,-183.5171 222.3776,-189.5171 222.3776,-189.5171 222.3776,-396.5171 222.3776,-396.5171 222.3776,-402.5171 216.3776,-408.5171 210.3776,-408.5171 210.3776,-408.5171 12.3776,-408.5171 12.3776,-408.5171 6.3776,-408.5171 .3776,-402.5171 .3776,-396.5171 .3776,-396.5171 .3776,-189.5171 .3776,-189.5171 .3776,-183.5171 6.3776,-177.5171 12.3776,-177.5171\"/>\n",
       "<text text-anchor=\"middle\" x=\"111.3776\" y=\"-393.3171\" font-family=\"Times,serif\" font-size=\"14.00\" fill=\"#000000\">outdata</text>\n",
       "</g>\n",
       "<g id=\"clust4\" class=\"cluster\">\n",
       "<title>cluster_/tmp/hello_bands/w0/t1/indata</title>\n",
       "<path fill=\"#e0eeee\" stroke=\"#000000\" d=\"M681.793,-495.3007C681.793,-495.3007 727.793,-495.3007 727.793,-495.3007 733.793,-495.3007 739.793,-501.3007 739.793,-507.3007 739.793,-507.3007 739.793,-559.3007 739.793,-559.3007 739.793,-565.3007 733.793,-571.3007 727.793,-571.3007 727.793,-571.3007 681.793,-571.3007 681.793,-571.3007 675.793,-571.3007 669.793,-565.3007 669.793,-559.3007 669.793,-559.3007 669.793,-507.3007 669.793,-507.3007 669.793,-501.3007 675.793,-495.3007 681.793,-495.3007\"/>\n",
       "<text text-anchor=\"middle\" x=\"704.793\" y=\"-556.1007\" font-family=\"Times,serif\" font-size=\"14.00\" fill=\"#000000\">indata</text>\n",
       "</g>\n",
       "<g id=\"clust5\" class=\"cluster\">\n",
       "<title>cluster_/tmp/hello_bands/w0/t1/tmpdata</title>\n",
       "<path fill=\"#e0eeee\" stroke=\"#000000\" d=\"M233.9604,-543.9556C233.9604,-543.9556 273.9604,-543.9556 273.9604,-543.9556 279.9604,-543.9556 285.9604,-549.9556 285.9604,-555.9556 285.9604,-555.9556 285.9604,-570.9556 285.9604,-570.9556 285.9604,-576.9556 279.9604,-582.9556 273.9604,-582.9556 273.9604,-582.9556 233.9604,-582.9556 233.9604,-582.9556 227.9604,-582.9556 221.9604,-576.9556 221.9604,-570.9556 221.9604,-570.9556 221.9604,-555.9556 221.9604,-555.9556 221.9604,-549.9556 227.9604,-543.9556 233.9604,-543.9556\"/>\n",
       "<text text-anchor=\"middle\" x=\"253.9604\" y=\"-567.7556\" font-family=\"Times,serif\" font-size=\"14.00\" fill=\"#000000\">tmpdata</text>\n",
       "</g>\n",
       "<g id=\"clust7\" class=\"cluster\">\n",
       "<title>cluster_/tmp/hello_bands/w0/t0/outdata</title>\n",
       "<path fill=\"#e0eeee\" stroke=\"#000000\" d=\"M534.947,.1296C534.947,.1296 730.947,.1296 730.947,.1296 736.947,.1296 742.947,-5.8704 742.947,-11.8704 742.947,-11.8704 742.947,-218.8704 742.947,-218.8704 742.947,-224.8704 736.947,-230.8704 730.947,-230.8704 730.947,-230.8704 534.947,-230.8704 534.947,-230.8704 528.947,-230.8704 522.947,-224.8704 522.947,-218.8704 522.947,-218.8704 522.947,-11.8704 522.947,-11.8704 522.947,-5.8704 528.947,.1296 534.947,.1296\"/>\n",
       "<text text-anchor=\"middle\" x=\"632.947\" y=\"-215.6704\" font-family=\"Times,serif\" font-size=\"14.00\" fill=\"#000000\">outdata</text>\n",
       "</g>\n",
       "<g id=\"clust8\" class=\"cluster\">\n",
       "<title>cluster_/tmp/hello_bands/w0/t0/indata</title>\n",
       "<path fill=\"#e0eeee\" stroke=\"#000000\" d=\"M817.3704,-169.2458C817.3704,-169.2458 845.3704,-169.2458 845.3704,-169.2458 851.3704,-169.2458 857.3704,-175.2458 857.3704,-181.2458 857.3704,-181.2458 857.3704,-196.2458 857.3704,-196.2458 857.3704,-202.2458 851.3704,-208.2458 845.3704,-208.2458 845.3704,-208.2458 817.3704,-208.2458 817.3704,-208.2458 811.3704,-208.2458 805.3704,-202.2458 805.3704,-196.2458 805.3704,-196.2458 805.3704,-181.2458 805.3704,-181.2458 805.3704,-175.2458 811.3704,-169.2458 817.3704,-169.2458\"/>\n",
       "<text text-anchor=\"middle\" x=\"831.3704\" y=\"-193.0458\" font-family=\"Times,serif\" font-size=\"14.00\" fill=\"#000000\">indata</text>\n",
       "</g>\n",
       "<g id=\"clust9\" class=\"cluster\">\n",
       "<title>cluster_/tmp/hello_bands/w0/t0/tmpdata</title>\n",
       "<path fill=\"#e0eeee\" stroke=\"#000000\" d=\"M427.6781,-169.9781C427.6781,-169.9781 467.6781,-169.9781 467.6781,-169.9781 473.6781,-169.9781 479.6781,-175.9781 479.6781,-181.9781 479.6781,-181.9781 479.6781,-196.9781 479.6781,-196.9781 479.6781,-202.9781 473.6781,-208.9781 467.6781,-208.9781 467.6781,-208.9781 427.6781,-208.9781 427.6781,-208.9781 421.6781,-208.9781 415.6781,-202.9781 415.6781,-196.9781 415.6781,-196.9781 415.6781,-181.9781 415.6781,-181.9781 415.6781,-175.9781 421.6781,-169.9781 427.6781,-169.9781\"/>\n",
       "<text text-anchor=\"middle\" x=\"447.6781\" y=\"-193.7781\" font-family=\"Times,serif\" font-size=\"14.00\" fill=\"#000000\">tmpdata</text>\n",
       "</g>\n",
       "<!-- /tmp/hello_bands/w0/t1/run.files -->\n",
       "<g id=\"node7\" class=\"node\">\n",
       "<title>/tmp/hello_bands/w0/t1/run.files</title>\n",
       "<polygon fill=\"#b2dfee\" stroke=\"#b2dfee\" points=\"414.3207,-478.1906 414.3207,-514.1906 468.3207,-514.1906 468.3207,-478.1906 414.3207,-478.1906\"/>\n",
       "<text text-anchor=\"middle\" x=\"441.3207\" y=\"-494.2906\" font-family=\"Times,serif\" font-size=\"8.00\" fill=\"#000000\">run.files</text>\n",
       "</g>\n",
       "<!-- /tmp/hello_bands/w0/t1/run.err -->\n",
       "<g id=\"node8\" class=\"node\">\n",
       "<title>/tmp/hello_bands/w0/t1/run.err</title>\n",
       "<polygon fill=\"#b2dfee\" stroke=\"#b2dfee\" points=\"344.3207,-548.1906 344.3207,-584.1906 398.3207,-584.1906 398.3207,-548.1906 344.3207,-548.1906\"/>\n",
       "<text text-anchor=\"middle\" x=\"371.3207\" y=\"-564.2906\" font-family=\"Times,serif\" font-size=\"8.00\" fill=\"#000000\">run.err</text>\n",
       "</g>\n",
       "<!-- /tmp/hello_bands/w0/t1/run.abo -->\n",
       "<g id=\"node9\" class=\"node\">\n",
       "<title>/tmp/hello_bands/w0/t1/run.abo</title>\n",
       "<polygon fill=\"#b2dfee\" stroke=\"#b2dfee\" points=\"309.3207,-443.1906 309.3207,-479.1906 363.3207,-479.1906 363.3207,-443.1906 309.3207,-443.1906\"/>\n",
       "<text text-anchor=\"middle\" x=\"336.3207\" y=\"-459.2906\" font-family=\"Times,serif\" font-size=\"8.00\" fill=\"#000000\">run.abo</text>\n",
       "</g>\n",
       "<!-- /tmp/hello_bands/w0/t1/__startlock__ -->\n",
       "<g id=\"node10\" class=\"node\">\n",
       "<title>/tmp/hello_bands/w0/t1/__startlock__</title>\n",
       "<polygon fill=\"#b2dfee\" stroke=\"#b2dfee\" points=\"344.3207,-493.1906 344.3207,-529.1906 404.3207,-529.1906 404.3207,-493.1906 344.3207,-493.1906\"/>\n",
       "<text text-anchor=\"middle\" x=\"374.3207\" y=\"-509.2906\" font-family=\"Times,serif\" font-size=\"8.00\" fill=\"#000000\">__startlock__</text>\n",
       "</g>\n",
       "<!-- /tmp/hello_bands/w0/t1/job.sh -->\n",
       "<g id=\"node11\" class=\"node\">\n",
       "<title>/tmp/hello_bands/w0/t1/job.sh</title>\n",
       "<polygon fill=\"#b2dfee\" stroke=\"#b2dfee\" points=\"459.3207,-593.1906 459.3207,-629.1906 513.3207,-629.1906 513.3207,-593.1906 459.3207,-593.1906\"/>\n",
       "<text text-anchor=\"middle\" x=\"486.3207\" y=\"-609.2906\" font-family=\"Times,serif\" font-size=\"8.00\" fill=\"#000000\">job.sh</text>\n",
       "</g>\n",
       "<!-- /tmp/hello_bands/w0/t1/run.abi -->\n",
       "<g id=\"node12\" class=\"node\">\n",
       "<title>/tmp/hello_bands/w0/t1/run.abi</title>\n",
       "<polygon fill=\"#b2dfee\" stroke=\"#b2dfee\" points=\"379.3207,-428.1906 379.3207,-464.1906 433.3207,-464.1906 433.3207,-428.1906 379.3207,-428.1906\"/>\n",
       "<text text-anchor=\"middle\" x=\"406.3207\" y=\"-444.2906\" font-family=\"Times,serif\" font-size=\"8.00\" fill=\"#000000\">run.abi</text>\n",
       "</g>\n",
       "<!-- /tmp/hello_bands/w0/t1/autoparal.json -->\n",
       "<g id=\"node13\" class=\"node\">\n",
       "<title>/tmp/hello_bands/w0/t1/autoparal.json</title>\n",
       "<polygon fill=\"#b2dfee\" stroke=\"#b2dfee\" points=\"408.8207,-543.1906 408.8207,-579.1906 469.8207,-579.1906 469.8207,-543.1906 408.8207,-543.1906\"/>\n",
       "<text text-anchor=\"middle\" x=\"439.3207\" y=\"-559.2906\" font-family=\"Times,serif\" font-size=\"8.00\" fill=\"#000000\">autoparal.json</text>\n",
       "</g>\n",
       "<!-- /tmp/hello_bands/w0/t1/run.log -->\n",
       "<g id=\"node14\" class=\"node\">\n",
       "<title>/tmp/hello_bands/w0/t1/run.log</title>\n",
       "<polygon fill=\"#b2dfee\" stroke=\"#b2dfee\" points=\"444.3207,-428.1906 444.3207,-464.1906 498.3207,-464.1906 498.3207,-428.1906 444.3207,-428.1906\"/>\n",
       "<text text-anchor=\"middle\" x=\"471.3207\" y=\"-444.2906\" font-family=\"Times,serif\" font-size=\"8.00\" fill=\"#000000\">run.log</text>\n",
       "</g>\n",
       "<!-- /tmp/hello_bands/w0/t1/outdata/out_EIG.nc -->\n",
       "<g id=\"node18\" class=\"node\">\n",
       "<title>/tmp/hello_bands/w0/t1/outdata/out_EIG.nc</title>\n",
       "<polygon fill=\"#b2dfee\" stroke=\"#b2dfee\" points=\"108.6157,-286.158 108.6157,-322.158 162.6157,-322.158 162.6157,-286.158 108.6157,-286.158\"/>\n",
       "<text text-anchor=\"middle\" x=\"135.6157\" y=\"-302.258\" font-family=\"Times,serif\" font-size=\"8.00\" fill=\"#000000\">out_EIG.nc</text>\n",
       "</g>\n",
       "<!-- /tmp/hello_bands/w0/t1/outdata/out_DEN -->\n",
       "<g id=\"node19\" class=\"node\">\n",
       "<title>/tmp/hello_bands/w0/t1/outdata/out_DEN</title>\n",
       "<polygon fill=\"#b2dfee\" stroke=\"#b2dfee\" points=\"43.6157,-291.158 43.6157,-327.158 97.6157,-327.158 97.6157,-291.158 43.6157,-291.158\"/>\n",
       "<text text-anchor=\"middle\" x=\"70.6157\" y=\"-307.258\" font-family=\"Times,serif\" font-size=\"8.00\" fill=\"#000000\">out_DEN</text>\n",
       "</g>\n",
       "<!-- /tmp/hello_bands/w0/t1/outdata/out_GSR.nc -->\n",
       "<g id=\"node20\" class=\"node\">\n",
       "<title>/tmp/hello_bands/w0/t1/outdata/out_GSR.nc</title>\n",
       "<polygon fill=\"#b2dfee\" stroke=\"#b2dfee\" points=\"123.6157,-211.158 123.6157,-247.158 177.6157,-247.158 177.6157,-211.158 123.6157,-211.158\"/>\n",
       "<text text-anchor=\"middle\" x=\"150.6157\" y=\"-227.258\" font-family=\"Times,serif\" font-size=\"8.00\" fill=\"#000000\">out_GSR.nc</text>\n",
       "</g>\n",
       "<!-- /tmp/hello_bands/w0/t1/outdata/out_WFK -->\n",
       "<g id=\"node21\" class=\"node\">\n",
       "<title>/tmp/hello_bands/w0/t1/outdata/out_WFK</title>\n",
       "<polygon fill=\"#b2dfee\" stroke=\"#b2dfee\" points=\"8.6157,-186.158 8.6157,-222.158 62.6157,-222.158 62.6157,-186.158 8.6157,-186.158\"/>\n",
       "<text text-anchor=\"middle\" x=\"35.6157\" y=\"-202.258\" font-family=\"Times,serif\" font-size=\"8.00\" fill=\"#000000\">out_WFK</text>\n",
       "</g>\n",
       "<!-- /tmp/hello_bands/w0/t1/outdata/out_OUT.nc -->\n",
       "<g id=\"node22\" class=\"node\">\n",
       "<title>/tmp/hello_bands/w0/t1/outdata/out_OUT.nc</title>\n",
       "<polygon fill=\"#b2dfee\" stroke=\"#b2dfee\" points=\"158.6157,-336.158 158.6157,-372.158 214.6157,-372.158 214.6157,-336.158 158.6157,-336.158\"/>\n",
       "<text text-anchor=\"middle\" x=\"186.6157\" y=\"-352.258\" font-family=\"Times,serif\" font-size=\"8.00\" fill=\"#000000\">out_OUT.nc</text>\n",
       "</g>\n",
       "<!-- /tmp/hello_bands/w0/t1/outdata/out_EIG -->\n",
       "<g id=\"node23\" class=\"node\">\n",
       "<title>/tmp/hello_bands/w0/t1/outdata/out_EIG</title>\n",
       "<polygon fill=\"#b2dfee\" stroke=\"#b2dfee\" points=\"93.6157,-341.158 93.6157,-377.158 147.6157,-377.158 147.6157,-341.158 93.6157,-341.158\"/>\n",
       "<text text-anchor=\"middle\" x=\"120.6157\" y=\"-357.258\" font-family=\"Times,serif\" font-size=\"8.00\" fill=\"#000000\">out_EIG</text>\n",
       "</g>\n",
       "<!-- /tmp/hello_bands/w0/t1/outdata/out_EBANDS.agr -->\n",
       "<g id=\"node24\" class=\"node\">\n",
       "<title>/tmp/hello_bands/w0/t1/outdata/out_EBANDS.agr</title>\n",
       "<polygon fill=\"#b2dfee\" stroke=\"#b2dfee\" points=\"38.1157,-236.158 38.1157,-272.158 111.1157,-272.158 111.1157,-236.158 38.1157,-236.158\"/>\n",
       "<text text-anchor=\"middle\" x=\"74.6157\" y=\"-252.258\" font-family=\"Times,serif\" font-size=\"8.00\" fill=\"#000000\">out_EBANDS.agr</text>\n",
       "</g>\n",
       "<!-- /tmp/hello_bands/w0/t1/indata/in_DEN -->\n",
       "<g id=\"node25\" class=\"node\">\n",
       "<title>/tmp/hello_bands/w0/t1/indata/in_DEN</title>\n",
       "<polygon fill=\"#b2dfee\" stroke=\"#b2dfee\" points=\"677.5083,-503.6176 677.5083,-539.6176 731.5083,-539.6176 731.5083,-503.6176 677.5083,-503.6176\"/>\n",
       "<text text-anchor=\"middle\" x=\"704.5083\" y=\"-519.7176\" font-family=\"Times,serif\" font-size=\"8.00\" fill=\"#000000\">in_DEN</text>\n",
       "</g>\n",
       "<!-- ../../../t0/outdata/out_DEN -->\n",
       "<g id=\"node26\" class=\"node\">\n",
       "<title>../../../t0/outdata/out_DEN</title>\n",
       "<ellipse fill=\"#b2dfee\" stroke=\"#b2dfee\" cx=\"923.9591\" cy=\"-541.5852\" rx=\"106.6812\" ry=\"18\"/>\n",
       "<text text-anchor=\"middle\" x=\"923.9591\" y=\"-537.8852\" font-family=\"Times,serif\" font-size=\"14.00\" fill=\"#000000\">../../../t0/outdata/out_DEN</text>\n",
       "</g>\n",
       "<!-- /tmp/hello_bands/w0/t1/indata/in_DEN&#45;&gt;../../../t0/outdata/out_DEN -->\n",
       "<g id=\"edge9\" class=\"edge\">\n",
       "<title>/tmp/hello_bands/w0/t1/indata/in_DEN&#45;&gt;../../../t0/outdata/out_DEN</title>\n",
       "<path fill=\"none\" stroke=\"#000000\" d=\"M731.8582,-524.1062C754.2453,-526.1432 787.4137,-529.1611 819.9156,-532.1184\"/>\n",
       "<polygon fill=\"#000000\" stroke=\"#000000\" points=\"819.6923,-535.6125 829.9683,-533.0331 820.3266,-528.6413 819.6923,-535.6125\"/>\n",
       "</g>\n",
       "<!-- /tmp/hello_bands/w0/t0/run.files -->\n",
       "<g id=\"node27\" class=\"node\">\n",
       "<title>/tmp/hello_bands/w0/t0/run.files</title>\n",
       "<polygon fill=\"#b2dfee\" stroke=\"#b2dfee\" points=\"673.6862,-252.1885 673.6862,-288.1885 727.6862,-288.1885 727.6862,-252.1885 673.6862,-252.1885\"/>\n",
       "<text text-anchor=\"middle\" x=\"700.6862\" y=\"-268.2885\" font-family=\"Times,serif\" font-size=\"8.00\" fill=\"#000000\">run.files</text>\n",
       "</g>\n",
       "<!-- /tmp/hello_bands/w0/t0/run.err -->\n",
       "<g id=\"node28\" class=\"node\">\n",
       "<title>/tmp/hello_bands/w0/t0/run.err</title>\n",
       "<polygon fill=\"#b2dfee\" stroke=\"#b2dfee\" points=\"608.6862,-252.1885 608.6862,-288.1885 662.6862,-288.1885 662.6862,-252.1885 608.6862,-252.1885\"/>\n",
       "<text text-anchor=\"middle\" x=\"635.6862\" y=\"-268.2885\" font-family=\"Times,serif\" font-size=\"8.00\" fill=\"#000000\">run.err</text>\n",
       "</g>\n",
       "<!-- /tmp/hello_bands/w0/t0/run.abo -->\n",
       "<g id=\"node29\" class=\"node\">\n",
       "<title>/tmp/hello_bands/w0/t0/run.abo</title>\n",
       "<polygon fill=\"#b2dfee\" stroke=\"#b2dfee\" points=\"688.6862,-417.1885 688.6862,-453.1885 742.6862,-453.1885 742.6862,-417.1885 688.6862,-417.1885\"/>\n",
       "<text text-anchor=\"middle\" x=\"715.6862\" y=\"-433.2885\" font-family=\"Times,serif\" font-size=\"8.00\" fill=\"#000000\">run.abo</text>\n",
       "</g>\n",
       "<!-- /tmp/hello_bands/w0/t0/__startlock__ -->\n",
       "<g id=\"node30\" class=\"node\">\n",
       "<title>/tmp/hello_bands/w0/t0/__startlock__</title>\n",
       "<polygon fill=\"#b2dfee\" stroke=\"#b2dfee\" points=\"638.6862,-367.1885 638.6862,-403.1885 698.6862,-403.1885 698.6862,-367.1885 638.6862,-367.1885\"/>\n",
       "<text text-anchor=\"middle\" x=\"668.6862\" y=\"-383.2885\" font-family=\"Times,serif\" font-size=\"8.00\" fill=\"#000000\">__startlock__</text>\n",
       "</g>\n",
       "<!-- /tmp/hello_bands/w0/t0/job.sh -->\n",
       "<g id=\"node31\" class=\"node\">\n",
       "<title>/tmp/hello_bands/w0/t0/job.sh</title>\n",
       "<polygon fill=\"#b2dfee\" stroke=\"#b2dfee\" points=\"538.6862,-267.1885 538.6862,-303.1885 592.6862,-303.1885 592.6862,-267.1885 538.6862,-267.1885\"/>\n",
       "<text text-anchor=\"middle\" x=\"565.6862\" y=\"-283.2885\" font-family=\"Times,serif\" font-size=\"8.00\" fill=\"#000000\">job.sh</text>\n",
       "</g>\n",
       "<!-- /tmp/hello_bands/w0/t0/run.abi -->\n",
       "<g id=\"node32\" class=\"node\">\n",
       "<title>/tmp/hello_bands/w0/t0/run.abi</title>\n",
       "<polygon fill=\"#b2dfee\" stroke=\"#b2dfee\" points=\"573.6862,-372.1885 573.6862,-408.1885 627.6862,-408.1885 627.6862,-372.1885 573.6862,-372.1885\"/>\n",
       "<text text-anchor=\"middle\" x=\"600.6862\" y=\"-388.2885\" font-family=\"Times,serif\" font-size=\"8.00\" fill=\"#000000\">run.abi</text>\n",
       "</g>\n",
       "<!-- /tmp/hello_bands/w0/t0/autoparal.json -->\n",
       "<g id=\"node33\" class=\"node\">\n",
       "<title>/tmp/hello_bands/w0/t0/autoparal.json</title>\n",
       "<polygon fill=\"#b2dfee\" stroke=\"#b2dfee\" points=\"573.1862,-317.1885 573.1862,-353.1885 634.1862,-353.1885 634.1862,-317.1885 573.1862,-317.1885\"/>\n",
       "<text text-anchor=\"middle\" x=\"603.6862\" y=\"-333.2885\" font-family=\"Times,serif\" font-size=\"8.00\" fill=\"#000000\">autoparal.json</text>\n",
       "</g>\n",
       "<!-- /tmp/hello_bands/w0/t0/run.log -->\n",
       "<g id=\"node34\" class=\"node\">\n",
       "<title>/tmp/hello_bands/w0/t0/run.log</title>\n",
       "<polygon fill=\"#b2dfee\" stroke=\"#b2dfee\" points=\"643.6862,-302.1885 643.6862,-338.1885 697.6862,-338.1885 697.6862,-302.1885 643.6862,-302.1885\"/>\n",
       "<text text-anchor=\"middle\" x=\"670.6862\" y=\"-318.2885\" font-family=\"Times,serif\" font-size=\"8.00\" fill=\"#000000\">run.log</text>\n",
       "</g>\n",
       "<!-- /tmp/hello_bands/w0/t0/outdata/out_EIG.nc -->\n",
       "<g id=\"node38\" class=\"node\">\n",
       "<title>/tmp/hello_bands/w0/t0/outdata/out_EIG.nc</title>\n",
       "<polygon fill=\"#b2dfee\" stroke=\"#b2dfee\" points=\"566.1851,-113.5113 566.1851,-149.5113 620.1851,-149.5113 620.1851,-113.5113 566.1851,-113.5113\"/>\n",
       "<text text-anchor=\"middle\" x=\"593.1851\" y=\"-129.6113\" font-family=\"Times,serif\" font-size=\"8.00\" fill=\"#000000\">out_EIG.nc</text>\n",
       "</g>\n",
       "<!-- /tmp/hello_bands/w0/t0/outdata/out_DEN -->\n",
       "<g id=\"node39\" class=\"node\">\n",
       "<title>/tmp/hello_bands/w0/t0/outdata/out_DEN</title>\n",
       "<polygon fill=\"#b2dfee\" stroke=\"#b2dfee\" points=\"631.1851,-108.5113 631.1851,-144.5113 685.1851,-144.5113 685.1851,-108.5113 631.1851,-108.5113\"/>\n",
       "<text text-anchor=\"middle\" x=\"658.1851\" y=\"-124.6113\" font-family=\"Times,serif\" font-size=\"8.00\" fill=\"#000000\">out_DEN</text>\n",
       "</g>\n",
       "<!-- /tmp/hello_bands/w0/t0/outdata/out_GSR.nc -->\n",
       "<g id=\"node40\" class=\"node\">\n",
       "<title>/tmp/hello_bands/w0/t0/outdata/out_GSR.nc</title>\n",
       "<polygon fill=\"#b2dfee\" stroke=\"#b2dfee\" points=\"531.1851,-8.5113 531.1851,-44.5113 585.1851,-44.5113 585.1851,-8.5113 531.1851,-8.5113\"/>\n",
       "<text text-anchor=\"middle\" x=\"558.1851\" y=\"-24.6113\" font-family=\"Times,serif\" font-size=\"8.00\" fill=\"#000000\">out_GSR.nc</text>\n",
       "</g>\n",
       "<!-- /tmp/hello_bands/w0/t0/outdata/out_WFK -->\n",
       "<g id=\"node41\" class=\"node\">\n",
       "<title>/tmp/hello_bands/w0/t0/outdata/out_WFK</title>\n",
       "<polygon fill=\"#b2dfee\" stroke=\"#b2dfee\" points=\"681.1851,-158.5113 681.1851,-194.5113 735.1851,-194.5113 735.1851,-158.5113 681.1851,-158.5113\"/>\n",
       "<text text-anchor=\"middle\" x=\"708.1851\" y=\"-174.6113\" font-family=\"Times,serif\" font-size=\"8.00\" fill=\"#000000\">out_WFK</text>\n",
       "</g>\n",
       "<!-- /tmp/hello_bands/w0/t0/outdata/out_DDB -->\n",
       "<g id=\"node42\" class=\"node\">\n",
       "<title>/tmp/hello_bands/w0/t0/outdata/out_DDB</title>\n",
       "<polygon fill=\"#b2dfee\" stroke=\"#b2dfee\" points=\"646.1851,-33.5113 646.1851,-69.5113 700.1851,-69.5113 700.1851,-33.5113 646.1851,-33.5113\"/>\n",
       "<text text-anchor=\"middle\" x=\"673.1851\" y=\"-49.6113\" font-family=\"Times,serif\" font-size=\"8.00\" fill=\"#000000\">out_DDB</text>\n",
       "</g>\n",
       "<!-- /tmp/hello_bands/w0/t0/outdata/out_OUT.nc -->\n",
       "<g id=\"node43\" class=\"node\">\n",
       "<title>/tmp/hello_bands/w0/t0/outdata/out_OUT.nc</title>\n",
       "<polygon fill=\"#b2dfee\" stroke=\"#b2dfee\" points=\"616.1851,-163.5113 616.1851,-199.5113 672.1851,-199.5113 672.1851,-163.5113 616.1851,-163.5113\"/>\n",
       "<text text-anchor=\"middle\" x=\"644.1851\" y=\"-179.6113\" font-family=\"Times,serif\" font-size=\"8.00\" fill=\"#000000\">out_OUT.nc</text>\n",
       "</g>\n",
       "<!-- /tmp/hello_bands/w0/t0/outdata/out_EIG -->\n",
       "<g id=\"node44\" class=\"node\">\n",
       "<title>/tmp/hello_bands/w0/t0/outdata/out_EIG</title>\n",
       "<polygon fill=\"#b2dfee\" stroke=\"#b2dfee\" points=\"551.1851,-163.5113 551.1851,-199.5113 605.1851,-199.5113 605.1851,-163.5113 551.1851,-163.5113\"/>\n",
       "<text text-anchor=\"middle\" x=\"578.1851\" y=\"-179.6113\" font-family=\"Times,serif\" font-size=\"8.00\" fill=\"#000000\">out_EIG</text>\n",
       "</g>\n",
       "<!-- /tmp/hello_bands/w0/t0/outdata/out_EBANDS.agr -->\n",
       "<g id=\"node45\" class=\"node\">\n",
       "<title>/tmp/hello_bands/w0/t0/outdata/out_EBANDS.agr</title>\n",
       "<polygon fill=\"#b2dfee\" stroke=\"#b2dfee\" points=\"560.6851,-58.5113 560.6851,-94.5113 633.6851,-94.5113 633.6851,-58.5113 560.6851,-58.5113\"/>\n",
       "<text text-anchor=\"middle\" x=\"597.1851\" y=\"-74.6113\" font-family=\"Times,serif\" font-size=\"8.00\" fill=\"#000000\">out_EBANDS.agr</text>\n",
       "</g>\n",
       "<!-- __0:cluster_/tmp/hello_bands/w0 -->\n",
       "<!-- __1:cluster_/tmp/hello_bands/w0/t1 -->\n",
       "<!-- __0:cluster_/tmp/hello_bands/w0&#45;&gt;__1:cluster_/tmp/hello_bands/w0/t1 -->\n",
       "<g id=\"edge13\" class=\"edge\">\n",
       "<title>__0:cluster_/tmp/hello_bands/w0&#45;&gt;__1:cluster_/tmp/hello_bands/w0/t1</title>\n",
       "<path fill=\"none\" stroke=\"#000000\" d=\"M609.1559,-639.9075C591.2164,-630.8634 561.4588,-615.8612 530.3926,-600.1993\"/>\n",
       "<polygon fill=\"#000000\" stroke=\"#000000\" points=\"531.6697,-596.9235 521.1646,-595.5471 528.5184,-603.1741 531.6697,-596.9235\"/>\n",
       "</g>\n",
       "<!-- __2:cluster_/tmp/hello_bands/w0 -->\n",
       "<!-- __3:cluster_/tmp/hello_bands/w0/t0 -->\n",
       "<!-- __2:cluster_/tmp/hello_bands/w0&#45;&gt;__3:cluster_/tmp/hello_bands/w0/t0 -->\n",
       "<g id=\"edge14\" class=\"edge\">\n",
       "<title>__2:cluster_/tmp/hello_bands/w0&#45;&gt;__3:cluster_/tmp/hello_bands/w0/t0</title>\n",
       "<path fill=\"none\" stroke=\"#000000\" d=\"M627.378,-629.0488C628.7627,-600.9733 631.4306,-546.8816 633.9968,-494.8503\"/>\n",
       "<polygon fill=\"#000000\" stroke=\"#000000\" points=\"637.4944,-494.9837 634.4913,-484.8234 630.5029,-494.6388 637.4944,-494.9837\"/>\n",
       "</g>\n",
       "<!-- __4:cluster_/tmp/hello_bands/w0 -->\n",
       "<!-- __5:cluster_/tmp/hello_bands/w0/outdata -->\n",
       "<!-- __4:cluster_/tmp/hello_bands/w0&#45;&gt;__5:cluster_/tmp/hello_bands/w0/outdata -->\n",
       "<g id=\"edge15\" class=\"edge\">\n",
       "<title>__4:cluster_/tmp/hello_bands/w0&#45;&gt;__5:cluster_/tmp/hello_bands/w0/outdata</title>\n",
       "<path fill=\"none\" stroke=\"#000000\" d=\"M609.1873,-664.4326C598.9494,-673.8377 585.7037,-686.0059 573.9208,-696.8303\"/>\n",
       "<polygon fill=\"#000000\" stroke=\"#000000\" points=\"571.4317,-694.3642 566.4353,-703.7069 576.1674,-699.5192 571.4317,-694.3642\"/>\n",
       "</g>\n",
       "<!-- __6:cluster_/tmp/hello_bands/w0 -->\n",
       "<!-- __7:cluster_/tmp/hello_bands/w0/indata -->\n",
       "<!-- __6:cluster_/tmp/hello_bands/w0&#45;&gt;__7:cluster_/tmp/hello_bands/w0/indata -->\n",
       "<g id=\"edge16\" class=\"edge\">\n",
       "<title>__6:cluster_/tmp/hello_bands/w0&#45;&gt;__7:cluster_/tmp/hello_bands/w0/indata</title>\n",
       "<path fill=\"none\" stroke=\"#000000\" d=\"M643.7279,-659.7634C653.8434,-666.2807 666.9773,-674.7428 679.1521,-682.5869\"/>\n",
       "<polygon fill=\"#000000\" stroke=\"#000000\" points=\"677.4888,-685.6788 687.7907,-688.1527 681.2801,-679.7944 677.4888,-685.6788\"/>\n",
       "</g>\n",
       "<!-- __8:cluster_/tmp/hello_bands/w0 -->\n",
       "<!-- __9:cluster_/tmp/hello_bands/w0/tmpdata -->\n",
       "<!-- __8:cluster_/tmp/hello_bands/w0&#45;&gt;__9:cluster_/tmp/hello_bands/w0/tmpdata -->\n",
       "<g id=\"edge17\" class=\"edge\">\n",
       "<title>__8:cluster_/tmp/hello_bands/w0&#45;&gt;__9:cluster_/tmp/hello_bands/w0/tmpdata</title>\n",
       "<path fill=\"none\" stroke=\"#000000\" d=\"M628.0889,-668.1688C629.5764,-685.534 631.7723,-711.1689 633.4786,-731.0884\"/>\n",
       "<polygon fill=\"#000000\" stroke=\"#000000\" points=\"630.0034,-731.5287 634.3442,-741.1935 636.9779,-730.9312 630.0034,-731.5287\"/>\n",
       "</g>\n",
       "<!-- __10:cluster_/tmp/hello_bands/w0/t1 -->\n",
       "<!-- __11:cluster_/tmp/hello_bands/w0/t1/outdata -->\n",
       "<!-- __10:cluster_/tmp/hello_bands/w0/t1&#45;&gt;__11:cluster_/tmp/hello_bands/w0/t1/outdata -->\n",
       "<g id=\"edge18\" class=\"edge\">\n",
       "<title>__10:cluster_/tmp/hello_bands/w0/t1&#45;&gt;__11:cluster_/tmp/hello_bands/w0/t1/outdata</title>\n",
       "<path fill=\"none\" stroke=\"#000000\" d=\"M300.7603,-449.1163C277.8173,-430.2055 253.5429,-410.1972 230.3057,-391.0439\"/>\n",
       "<polygon fill=\"#000000\" stroke=\"#000000\" points=\"232.4112,-388.2437 222.4684,-384.584 227.9589,-393.6453 232.4112,-388.2437\"/>\n",
       "</g>\n",
       "<!-- __12:cluster_/tmp/hello_bands/w0/t1 -->\n",
       "<!-- __13:cluster_/tmp/hello_bands/w0/t1/indata -->\n",
       "<!-- __12:cluster_/tmp/hello_bands/w0/t1&#45;&gt;__13:cluster_/tmp/hello_bands/w0/t1/indata -->\n",
       "<g id=\"edge19\" class=\"edge\">\n",
       "<title>__12:cluster_/tmp/hello_bands/w0/t1&#45;&gt;__13:cluster_/tmp/hello_bands/w0/t1/indata</title>\n",
       "<path fill=\"none\" stroke=\"#000000\" d=\"M521.2851,-537.5174C569.1382,-536.4178 622.5382,-535.1908 659.3388,-534.3452\"/>\n",
       "<polygon fill=\"#000000\" stroke=\"#000000\" points=\"659.8134,-537.8353 669.7303,-534.1064 659.6525,-530.8371 659.8134,-537.8353\"/>\n",
       "</g>\n",
       "<!-- __14:cluster_/tmp/hello_bands/w0/t1 -->\n",
       "<!-- __15:cluster_/tmp/hello_bands/w0/t1/tmpdata -->\n",
       "<!-- __14:cluster_/tmp/hello_bands/w0/t1&#45;&gt;__15:cluster_/tmp/hello_bands/w0/t1/tmpdata -->\n",
       "<g id=\"edge20\" class=\"edge\">\n",
       "<title>__14:cluster_/tmp/hello_bands/w0/t1&#45;&gt;__15:cluster_/tmp/hello_bands/w0/t1/tmpdata</title>\n",
       "<path fill=\"none\" stroke=\"#000000\" d=\"M300.6768,-556.4965C299.2374,-556.7109 297.8152,-556.9227 296.4127,-557.1317\"/>\n",
       "<polygon fill=\"#000000\" stroke=\"#000000\" points=\"295.4602,-553.7348 286.0851,-558.6701 296.4917,-560.6584 295.4602,-553.7348\"/>\n",
       "</g>\n",
       "<!-- __16:cluster_/tmp/hello_bands/w0/t0 -->\n",
       "<!-- __17:cluster_/tmp/hello_bands/w0/t0/outdata -->\n",
       "<!-- __16:cluster_/tmp/hello_bands/w0/t0&#45;&gt;__17:cluster_/tmp/hello_bands/w0/t0/outdata -->\n",
       "<g id=\"edge21\" class=\"edge\">\n",
       "<title>__16:cluster_/tmp/hello_bands/w0/t0&#45;&gt;__17:cluster_/tmp/hello_bands/w0/t0/outdata</title>\n",
       "<path fill=\"none\" stroke=\"#000000\" d=\"M636.8074,-243.3513C636.7882,-242.7132 636.7689,-242.075 636.7497,-241.4367\"/>\n",
       "<polygon fill=\"#000000\" stroke=\"#000000\" points=\"640.2379,-240.992 636.4379,-231.1021 633.2411,-241.2031 640.2379,-240.992\"/>\n",
       "</g>\n",
       "<!-- __18:cluster_/tmp/hello_bands/w0/t0 -->\n",
       "<!-- __19:cluster_/tmp/hello_bands/w0/t0/indata -->\n",
       "<!-- __18:cluster_/tmp/hello_bands/w0/t0&#45;&gt;__19:cluster_/tmp/hello_bands/w0/t0/indata -->\n",
       "<g id=\"edge22\" class=\"edge\">\n",
       "<title>__18:cluster_/tmp/hello_bands/w0/t0&#45;&gt;__19:cluster_/tmp/hello_bands/w0/t0/indata</title>\n",
       "<path fill=\"none\" stroke=\"#000000\" d=\"M750.6789,-262.8354C769.793,-245.2851 788.0975,-228.4782 802.4265,-215.3216\"/>\n",
       "<polygon fill=\"#000000\" stroke=\"#000000\" points=\"804.9591,-217.7478 809.9579,-208.4064 800.2247,-212.5916 804.9591,-217.7478\"/>\n",
       "</g>\n",
       "<!-- __20:cluster_/tmp/hello_bands/w0/t0 -->\n",
       "<!-- __21:cluster_/tmp/hello_bands/w0/t0/tmpdata -->\n",
       "<!-- __20:cluster_/tmp/hello_bands/w0/t0&#45;&gt;__21:cluster_/tmp/hello_bands/w0/t0/tmpdata -->\n",
       "<g id=\"edge23\" class=\"edge\">\n",
       "<title>__20:cluster_/tmp/hello_bands/w0/t0&#45;&gt;__21:cluster_/tmp/hello_bands/w0/t0/tmpdata</title>\n",
       "<path fill=\"none\" stroke=\"#000000\" d=\"M530.2688,-264.271C510.6286,-246.485 491.7686,-229.4057 477.0421,-216.0696\"/>\n",
       "<polygon fill=\"#000000\" stroke=\"#000000\" points=\"479.069,-213.1833 469.3073,-209.0651 474.3702,-218.372 479.069,-213.1833\"/>\n",
       "</g>\n",
       "</g>\n",
       "</svg>\n"
      ],
      "text/plain": [
       "<graphviz.dot.Digraph at 0x7f601975bac8>"
      ]
     },
     "execution_count": 15,
     "metadata": {},
     "output_type": "execute_result"
    }
   ],
   "source": [
    "flow[0].get_graphviz_dirtree()"
   ]
  },
  {
   "cell_type": "markdown",
   "metadata": {},
   "source": [
    "or list only the files with a given extension:"
   ]
  },
  {
   "cell_type": "code",
   "execution_count": 16,
   "metadata": {},
   "outputs": [
    {
     "name": "stdout",
     "output_type": "stream",
     "text": [
      "Found 2 files with extension `GSR.nc` produced by the flow\n",
      "File                                                       Size [Mb]    Node_ID  Node Class\n",
      "-------------------------------------------------------  -----------  ---------  ------------\n",
      "../../../../../tmp/hello_bands/w0/t0/outdata/out_GSR.nc         0.02        190  ScfTask\n",
      "../../../../../tmp/hello_bands/w0/t1/outdata/out_GSR.nc         0.02        191  NscfTask\n"
     ]
    }
   ],
   "source": [
    "flow.listext(\"GSR.nc\")"
   ]
  },
  {
   "cell_type": "markdown",
   "metadata": {},
   "source": [
    "The nice thing about the flow is that the object knows how to locate and interpret the \n",
    "different input/ouput files produced by Abinit. \n",
    "As a consequence, it is very easy to expose the AbiPy post-processing tools with a easy-to-use API\n",
    "in which only tasks/works/flow plus a very few input arguments are required.\n",
    "\n",
    "Let's call, for instance, the inspect method to plot the self-consistent cycles:"
   ]
  },
  {
   "cell_type": "code",
   "execution_count": 17,
   "metadata": {},
   "outputs": [
    {
     "data": {
      "image/png": "[encoded data removed]",
      "text/plain": [
       "<Figure size 432x288 with 4 Axes>"
      ]
     },
     "metadata": {
      "needs_background": "light"
     },
     "output_type": "display_data"
    },
    {
     "name": "stdout",
     "output_type": "stream",
     "text": [
      "\u001b[34mTask <NscfTask, node_id=191, workdir=../../../../../tmp/hello_bands/w0/t1> does not provide an inspect method\u001b[0m\n"
     ]
    }
   ],
   "source": [
    "flow.inspect(tight_layout=True);"
   ]
  },
  {
   "cell_type": "markdown",
   "metadata": {},
   "source": [
    "In the other AbiPy tutorials, we have explained how to use abiopen to create \n",
    "python objects from netcdf files. \n",
    "Well, the same code can be reused with the flow. \n",
    "It is just a matter of replacing\n",
    "\n",
    "```python\n",
    "with abiopen(filepath) as gsr:\n",
    "```\n",
    "\n",
    "with\n",
    "\n",
    "```python\n",
    "with task.open_gsr() as gsr:\n",
    "```\n",
    "\n",
    "Note that there is no need to specify the file path when you use the task-based API, because \n",
    "the `Task` knows how to locate its `GSR.nc` output.\n",
    "Let's do some practice..."
   ]
  },
  {
   "cell_type": "code",
   "execution_count": 18,
   "metadata": {},
   "outputs": [
    {
     "data": {
      "image/png": "[encoded data removed]",
      "text/plain": [
       "<Figure size 432x288 with 2 Axes>"
      ]
     },
     "metadata": {
      "needs_background": "light"
     },
     "output_type": "display_data"
    }
   ],
   "source": [
    "with flow[0][0].open_gsr() as gsr:\n",
    "    ebands_kmesh = gsr.ebands\n",
    "    \n",
    "with flow[0][1].open_gsr() as gsr:\n",
    "    gsr.ebands.plot_with_edos(ebands_kmesh.get_edos(), with_gaps=True);"
   ]
  },
  {
   "cell_type": "markdown",
   "metadata": {},
   "source": [
    "## More on Works, Tasks and dependencies \n",
    "[[back to top](#top)]\n",
    "\n",
    "In the previous example, we have constructed a workflow for band structure calculations\n",
    "starting from two input files and the magic line\n",
    "\n",
    "```python\n",
    "flow = flowtk.bandstructure_flow(workdir, scf_input, nscf_input)\n",
    "```\n",
    "\n",
    "Now it is the right time to explain in more details the syntax and the API used in AbiPy \n",
    "to build a flow with dependencies.\n",
    "Let's try to build a `Flow` from scratch and use graphviz after each step to show what's happening.\n",
    "We start with an empty flow in the `hello_flow` directory:"
   ]
  },
  {
   "cell_type": "code",
   "execution_count": 19,
   "metadata": {},
   "outputs": [
    {
     "data": {
      "image/svg+xml": [
       "<?xml version=\"1.0\" encoding=\"UTF-8\" standalone=\"no\"?>\n",
       "<!DOCTYPE svg PUBLIC \"-//W3C//DTD SVG 1.1//EN\"\n",
       " \"http://www.w3.org/Graphics/SVG/1.1/DTD/svg11.dtd\">\n",
       "<!-- Generated by graphviz version 2.40.1 (20161225.0304)\n",
       " -->\n",
       "<!-- Title: flow Pages: 1 -->\n",
       "<svg width=\"253pt\" height=\"67pt\"\n",
       " viewBox=\"0.00 0.00 253.00 67.00\" xmlns=\"http://www.w3.org/2000/svg\" xmlns:xlink=\"http://www.w3.org/1999/xlink\">\n",
       "<g id=\"graph0\" class=\"graph\" transform=\"scale(1 1) rotate(0) translate(12.5 40)\">\n",
       "<title>flow</title>\n",
       "<polygon fill=\"#ffffff\" stroke=\"transparent\" points=\"-12.5,27 -12.5,-40 240.5,-40 240.5,27 -12.5,27\"/>\n",
       "<text text-anchor=\"start\" x=\"-.5\" y=\"15.2\" font-family=\"Times,serif\" font-size=\"14.00\" fill=\"#000000\">Flow, node_id=192, workdir=hello_flow</text>\n",
       "</g>\n",
       "</svg>\n"
      ],
      "text/plain": [
       "<graphviz.dot.Digraph at 0x7f6018cebc50>"
      ]
     },
     "execution_count": 19,
     "metadata": {},
     "output_type": "execute_result"
    }
   ],
   "source": [
    "hello_flow = flowtk.Flow(workdir=\"hello_flow\")\n",
    "hello_flow.get_graphviz()"
   ]
  },
  {
   "cell_type": "markdown",
   "metadata": {},
   "source": [
    "Now we add a new `Task` by just passing an `AbinitInput` for SCF calculations:"
   ]
  },
  {
   "cell_type": "code",
   "execution_count": 20,
   "metadata": {},
   "outputs": [
    {
     "data": {
      "image/svg+xml": [
       "<?xml version=\"1.0\" encoding=\"UTF-8\" standalone=\"no\"?>\n",
       "<!DOCTYPE svg PUBLIC \"-//W3C//DTD SVG 1.1//EN\"\n",
       " \"http://www.w3.org/Graphics/SVG/1.1/DTD/svg11.dtd\">\n",
       "<!-- Generated by graphviz version 2.40.1 (20161225.0304)\n",
       " -->\n",
       "<!-- Title: flow Pages: 1 -->\n",
       "<svg width=\"253pt\" height=\"107pt\"\n",
       " viewBox=\"0.00 0.00 253.00 107.00\" xmlns=\"http://www.w3.org/2000/svg\" xmlns:xlink=\"http://www.w3.org/1999/xlink\">\n",
       "<g id=\"graph0\" class=\"graph\" transform=\"scale(1 1) rotate(0) translate(12.5 80)\">\n",
       "<title>flow</title>\n",
       "<polygon fill=\"#ffffff\" stroke=\"transparent\" points=\"-12.5,27 -12.5,-80 240.5,-80 240.5,27 -12.5,27\"/>\n",
       "<text text-anchor=\"start\" x=\"-.5\" y=\"15.2\" font-family=\"Times,serif\" font-size=\"14.00\" fill=\"#000000\">Flow, node_id=192, workdir=hello_flow</text>\n",
       "<g id=\"clust1\" class=\"cluster\">\n",
       "<title>clusterw0</title>\n",
       "<path fill=\"#e0eeee\" stroke=\"#000000\" d=\"M86.2381,.3591C86.2381,.3591 142.2381,.3591 142.2381,.3591 148.2381,.3591 154.2381,-5.6409 154.2381,-11.6409 154.2381,-11.6409 154.2381,-63.6409 154.2381,-63.6409 154.2381,-69.6409 148.2381,-75.6409 142.2381,-75.6409 142.2381,-75.6409 86.2381,-75.6409 86.2381,-75.6409 80.2381,-75.6409 74.2381,-69.6409 74.2381,-63.6409 74.2381,-63.6409 74.2381,-11.6409 74.2381,-11.6409 74.2381,-5.6409 80.2381,.3591 86.2381,.3591\"/>\n",
       "<text text-anchor=\"middle\" x=\"114.2381\" y=\"-60.4409\" font-family=\"Times,serif\" font-size=\"14.00\" fill=\"#000000\">Work (w0)</text>\n",
       "</g>\n",
       "<!-- w0_t0 -->\n",
       "<g id=\"node1\" class=\"node\">\n",
       "<title>w0_t0</title>\n",
       "<ellipse fill=\"#ff0000\" stroke=\"#ff0000\" cx=\"114.4762\" cy=\"-26.2818\" rx=\"28.9828\" ry=\"18.2703\"/>\n",
       "<text text-anchor=\"middle\" x=\"114.4762\" y=\"-28.8818\" font-family=\"Times,serif\" font-size=\"8.00\" fill=\"#000000\">w0_t0</text>\n",
       "<text text-anchor=\"middle\" x=\"114.4762\" y=\"-19.8818\" font-family=\"Times,serif\" font-size=\"8.00\" fill=\"#000000\">ScfTask</text>\n",
       "</g>\n",
       "</g>\n",
       "</svg>\n"
      ],
      "text/plain": [
       "<graphviz.dot.Digraph at 0x7f6018d60e10>"
      ]
     },
     "execution_count": 20,
     "metadata": {},
     "output_type": "execute_result"
    }
   ],
   "source": [
    "hello_flow.register_scf_task(scf_input, append=True)\n",
    "hello_flow.get_graphviz()"
   ]
  },
  {
   "cell_type": "markdown",
   "metadata": {},
   "source": [
    "Now the tricky part. \n",
    "We want to register a NSCF calculation that should depend on the `scf_task` in `w0_t0` via the DEN file.\n",
    "We can use the same API but we **must** specify the dependency between the two steps with the \n",
    "```{scf_task: \"DEN\"}``` dictionary:"
   ]
  },
  {
   "cell_type": "code",
   "execution_count": 21,
   "metadata": {
    "scrolled": true
   },
   "outputs": [
    {
     "name": "stdout",
     "output_type": "stream",
     "text": [
      "hello\n"
     ]
    },
    {
     "ename": "ValueError",
     "evalue": "NSCF task requires parent producing DEN file!",
     "output_type": "error",
     "traceback": [
      "\u001b[0;31m---------------------------------------------------------------------------\u001b[0m",
      "\u001b[0;31mValueError\u001b[0m                                Traceback (most recent call last)",
      "\u001b[0;32m<ipython-input-21-13f63844b9e1>\u001b[0m in \u001b[0;36m<module>\u001b[0;34m\u001b[0m\n\u001b[1;32m      1\u001b[0m \u001b[0mprint\u001b[0m\u001b[0;34m(\u001b[0m\u001b[0;34m'hello'\u001b[0m\u001b[0;34m)\u001b[0m\u001b[0;34m\u001b[0m\u001b[0;34m\u001b[0m\u001b[0m\n\u001b[0;32m----> 2\u001b[0;31m \u001b[0mhello_flow\u001b[0m\u001b[0;34m.\u001b[0m\u001b[0mregister_nscf_task\u001b[0m\u001b[0;34m(\u001b[0m\u001b[0mnscf_input\u001b[0m\u001b[0;34m,\u001b[0m \u001b[0mdeps\u001b[0m\u001b[0;34m=\u001b[0m\u001b[0;34m{\u001b[0m\u001b[0mhello_flow\u001b[0m\u001b[0;34m[\u001b[0m\u001b[0;36m0\u001b[0m\u001b[0;34m]\u001b[0m\u001b[0;34m[\u001b[0m\u001b[0;36m0\u001b[0m\u001b[0;34m]\u001b[0m\u001b[0;34m:\u001b[0m \u001b[0;34m\"DEN\"\u001b[0m\u001b[0;34m}\u001b[0m\u001b[0;34m,\u001b[0m \u001b[0mappend\u001b[0m\u001b[0;34m=\u001b[0m\u001b[0;32mTrue\u001b[0m\u001b[0;34m)\u001b[0m\u001b[0;34m\u001b[0m\u001b[0;34m\u001b[0m\u001b[0m\n\u001b[0m\u001b[1;32m      3\u001b[0m \u001b[0mhello_flow\u001b[0m\u001b[0;34m.\u001b[0m\u001b[0mget_graphviz\u001b[0m\u001b[0;34m(\u001b[0m\u001b[0mengine\u001b[0m\u001b[0;34m=\u001b[0m\u001b[0;34m\"dot\"\u001b[0m\u001b[0;34m)\u001b[0m\u001b[0;34m\u001b[0m\u001b[0;34m\u001b[0m\u001b[0m\n",
      "\u001b[0;32m~/Codes/abipy/abipy/flowtk/works.py\u001b[0m in \u001b[0;36mregister_nscf_task\u001b[0;34m(self, *args, **kwargs)\u001b[0m\n\u001b[1;32m    387\u001b[0m         \u001b[0mden_parent\u001b[0m \u001b[0;34m=\u001b[0m \u001b[0mtask\u001b[0m\u001b[0;34m.\u001b[0m\u001b[0mfind_parent_with_ext\u001b[0m\u001b[0;34m(\u001b[0m\u001b[0;34m\"DEN\"\u001b[0m\u001b[0;34m)\u001b[0m\u001b[0;34m\u001b[0m\u001b[0;34m\u001b[0m\u001b[0m\n\u001b[1;32m    388\u001b[0m         \u001b[0;32mif\u001b[0m \u001b[0mden_parent\u001b[0m \u001b[0;32mis\u001b[0m \u001b[0;32mNone\u001b[0m\u001b[0;34m:\u001b[0m\u001b[0;34m\u001b[0m\u001b[0;34m\u001b[0m\u001b[0m\n\u001b[0;32m--> 389\u001b[0;31m             \u001b[0;32mraise\u001b[0m \u001b[0mValueError\u001b[0m\u001b[0;34m(\u001b[0m\u001b[0;34m\"NSCF task requires parent producing DEN file!\"\u001b[0m\u001b[0;34m)\u001b[0m\u001b[0;34m\u001b[0m\u001b[0;34m\u001b[0m\u001b[0m\n\u001b[0m\u001b[1;32m    390\u001b[0m \u001b[0;34m\u001b[0m\u001b[0m\n\u001b[1;32m    391\u001b[0m         \u001b[0;32mif\u001b[0m \u001b[0mtask\u001b[0m\u001b[0;34m.\u001b[0m\u001b[0minput\u001b[0m\u001b[0;34m.\u001b[0m\u001b[0mget\u001b[0m\u001b[0;34m(\u001b[0m\u001b[0;34m\"usekden\"\u001b[0m\u001b[0;34m,\u001b[0m \u001b[0;36m0\u001b[0m\u001b[0;34m)\u001b[0m \u001b[0;34m==\u001b[0m \u001b[0;36m1\u001b[0m\u001b[0;34m:\u001b[0m\u001b[0;34m\u001b[0m\u001b[0;34m\u001b[0m\u001b[0m\n",
      "\u001b[0;31mValueError\u001b[0m: NSCF task requires parent producing DEN file!"
     ]
    }
   ],
   "source": [
    "print('hello')\n",
    "hello_flow.register_nscf_task(nscf_input, deps={hello_flow[0][0]: \"DEN\"}, append=True)\n",
    "hello_flow.get_graphviz(engine=\"dot\")"
   ]
  },
  {
   "cell_type": "markdown",
   "metadata": {},
   "source": [
    "Excellent, we managed to build our first AbiPy flow with inter-dependent tasks in just six lines \n",
    "of code (including the three calls to graphviz).\n",
    "Now let's assume we want to add a second Nscf calculation (`NscTask`) in which we change one of the input parameters\n",
    "e.g. the number of bands and that, for some reason, we really want to re-use the output WFK file \n",
    "produced by `w0_t1` to initialize the eigenvalue solver (obviously we still need a DEN file).\n",
    "How can we express this with AbiPy? \n",
    "\n",
    "Well, the syntax for the new deps, it's just:\n",
    "\n",
    "```python\n",
    "deps = {hello_flow[0][0]: \"DEN\", hello_flow[0][1]: \"WFK\"}\n",
    "```\n",
    "\n",
    "but we should also change the input variable nband in the `nscf_input` before creating\n",
    "the new `NscTask` (remember that building a `Task` requires an `AbinitInput` object \n",
    "and a list of dependencies, if any).\n",
    "\n",
    "Now there are two ways to increase nband: the **wrong** way and the **correct** one!\n",
    "Let's start from the *wrong* way because it's always useful to learn from our mistakes.\n",
    "Let's print some values just for the record:"
   ]
  },
  {
   "cell_type": "code",
   "execution_count": null,
   "metadata": {},
   "outputs": [],
   "source": [
    "t1 = flow[0][1]\n",
    "print(\"nband in the first NscfTask:\", t1.input[\"nband\"])"
   ]
  },
  {
   "cell_type": "markdown",
   "metadata": {},
   "source": [
    "Now let's use the \"recipe\" recommended to us by the FORTRAN guru of our group: \n",
    "\n",
    "<img src=\"https://github.com/abinit/abipy_assets/blob/master/Dont-Try-This-At-Home.jpg?raw=true\" alt=\"\">"
   ]
  },
  {
   "cell_type": "code",
   "execution_count": null,
   "metadata": {},
   "outputs": [],
   "source": [
    "# Just copy the previous input and change nband, it's super-easy, the FORTRAN guru said!\n",
    "new_input = t1.input\n",
    "new_input[\"nband\"] = 1000\n",
    "\n",
    "print(\"nband in the first NscfTask:\", t1.input[\"nband\"])\n",
    "print(\"nband in the new input:\", new_input[\"nband\"])"
   ]
  },
  {
   "cell_type": "markdown",
   "metadata": {},
   "source": [
    "Tada! Thanks to the trick of our beloved FORTRAN guru, we ended up with *two* NscfTaks\n",
    "with the **same number** of bands (1000!). Why?\n",
    "\n",
    "Because `AbinitInput` is implemented internally with a dictionary, python dictionaries are **mutable**\n",
    "and python variables are essentially references (they do not store data, actually they store the address of the data)."
   ]
  },
  {
   "cell_type": "code",
   "execution_count": null,
   "metadata": {},
   "outputs": [],
   "source": [
    "a = {\"foo\": \"bar\"}\n",
    "b = a \n",
    "c = a.copy()\n",
    "a[\"hello\"] = \"world\"\n",
    "print(\"a dict:\", a)\n",
    "print(\"b dict:\", b)\n",
    "print(\"c dict:\", c)"
   ]
  },
  {
   "cell_type": "markdown",
   "metadata": {},
   "source": [
    "For a more techical explanation see [here](http://docs.python-guide.org/en/latest/writing/gotchas/)\n",
    "\n",
    "To avoid this mistake, we need to *copy* the object before changing it"
   ]
  },
  {
   "cell_type": "code",
   "execution_count": null,
   "metadata": {},
   "outputs": [],
   "source": [
    "t1.input[\"nband\"] = 8 # back to the old value\n",
    "\n",
    "new_input = t1.input.new_with_vars(nband=1000)  # Copy and change nband\n",
    "\n",
    "print(\"nband in the first NscfTask:\", t1.input[\"nband\"])\n",
    "print(\"nband in the new input:\", new_input[\"nband\"])"
   ]
  },
  {
   "cell_type": "markdown",
   "metadata": {},
   "source": [
    "Now we can finally add the second `NscfTask` with 1000 bands:"
   ]
  },
  {
   "cell_type": "code",
   "execution_count": null,
   "metadata": {},
   "outputs": [],
   "source": [
    "hello_flow.register_nscf_task(new_input, deps={hello_flow[0][0]: \"DEN\", hello_flow[0][1]: \"WFK\"}, append=True)\n",
    "hello_flow.get_graphviz(engine=\"dot\")"
   ]
  },
  {
   "cell_type": "code",
   "execution_count": null,
   "metadata": {},
   "outputs": [],
   "source": [
    "print([task.input[\"nband\"] for task in hello_flow.iflat_tasks()])"
   ]
  },
  {
   "cell_type": "markdown",
   "metadata": {},
   "source": [
    "Note that AbiPy dependencies can also be fulfilled with external files that are already available\n",
    "when the flow is constructed. There is no change in the syntax we've used so far.\n",
    "It is just a matter of using the absolute path to the DEN file as keyword of the dictionary instead of a `Task`.\n",
    "Let's start with a new `Flow` to avoid confusion and create a `NscfTask` that will start from a pre-computed `DEN` file."
   ]
  },
  {
   "cell_type": "code",
   "execution_count": null,
   "metadata": {},
   "outputs": [],
   "source": [
    "flow_with_file = flowtk.Flow(workdir=\"flow_with_file\")\n",
    "\n",
    "den_filepath = abidata.ref_file(\"si_DEN.nc\")\n",
    "flow_with_file.register_nscf_task(nscf_input, deps={den_filepath: \"DEN\"})\n",
    "\n",
    "flow_with_file.get_graphviz(engine=\"dot\")"
   ]
  },
  {
   "cell_type": "markdown",
   "metadata": {},
   "source": [
    "A call to `new_with_vars` inside a python `for` loop is all we need to add other two `NscfTasks`\n",
    "with different `nband`, all starting from the same DEN file:"
   ]
  },
  {
   "cell_type": "code",
   "execution_count": null,
   "metadata": {},
   "outputs": [],
   "source": [
    "for nband in [10, 20]:\n",
    "    flow_with_file.register_nscf_task(nscf_input.new_with_vars(nband=nband), \n",
    "                                      deps={den_filepath: \"DEN\"}, append=False)\n",
    "\n",
    "print([task.input[\"nband\"] for task in flow_with_file.iflat_tasks()])\n",
    "flow_with_file.get_graphviz()"
   ]
  },
  {
   "cell_type": "markdown",
   "metadata": {},
   "source": [
    "At this point, you may ask why we need `Works` since all the examples presented so far \n",
    "mainly involve the `Flow` object.\n",
    "\n",
    "The answer is that `Works` allow us to encapsulate reusable logic in magic boxes \n",
    "that can perform lot of useful work. \n",
    "These boxes can then be connected together to generate more complicated workflows.\n",
    "We have already encountered the `BandStructureWork` at the beginning of this lesson\n",
    "and now it is time to introduce another fancy animal of the AbiPy zoo, the `PhononWork`."
   ]
  },
  {
   "cell_type": "code",
   "execution_count": null,
   "metadata": {},
   "outputs": [],
   "source": [
    "abilab.print_doc(flowtk.PhononWork)"
   ]
  },
  {
   "cell_type": "code",
   "execution_count": null,
   "metadata": {},
   "outputs": [],
   "source": [
    "abilab.print_doc(flowtk.PhononWork.from_scf_task)"
   ]
  },
  {
   "cell_type": "markdown",
   "metadata": {},
   "source": [
    "The docstring seems to suggest that if I have a `scf_task`, I can construct a magic box\n",
    "to compute phonons but wait, I already have such a task! \n",
    "Actually I already have another magic box to compute the electronic band structure \n",
    "and it would be really great if I could compute the electronic and vibrational properties in a single flow.\n",
    "Let's connect the two boxes together with:"
   ]
  },
  {
   "cell_type": "code",
   "execution_count": null,
   "metadata": {},
   "outputs": [],
   "source": [
    "# Create new flow.\n",
    "ph_flow = flowtk.Flow(workdir=\"phflow\")\n",
    "\n",
    "# Band structure (SCF + NSCF)\n",
    "bands_work = flowtk.BandStructureWork(scf_input, nscf_input, dos_inputs=None)\n",
    "ph_flow.register_work(bands_work)    \n",
    "    \n",
    "# Build second work from scf_task.\n",
    "scf_task = bands_work[0]\n",
    "ph_work = flowtk.PhononWork.from_scf_task(scf_task, [2, 2, 2], is_ngqpt=True, tolerance=None)\n",
    "ph_flow.register_work(ph_work) \n",
    "\n",
    "ph_flow.get_graphviz()"
   ]
  },
  {
   "cell_type": "markdown",
   "metadata": {},
   "source": [
    "Now it turns out that the `PhononWork` merges all the DDB files produced by its `PhononTask`\n",
    "and put this final output file in its outdir. \n",
    "So from the AbiPy perspective, a `PhononWork` is not that different from a `ScfTask` that produces e.g. a DEN file.\n",
    "This means that we can connect other magic boxes to our `PhononWork` e.g. a set of `EPhTasks` that \n",
    "require a DDB file and another input file with the DFPT potentials \n",
    "(DVDB, merged by `PhononWork` similarly to what is done for the DDB)."
   ]
  },
  {
   "cell_type": "code",
   "execution_count": null,
   "metadata": {},
   "outputs": [],
   "source": [
    "# EPH tasks require 3 input files (WFK, DDB, DVDB)\n",
    "eph_deps = {ph_flow[0][1]: \"WFK\", ph_work: [\"DDB\", \"DVDB\"]}\n",
    "\n",
    "for i, ecut in enumerate([2, 3, 4]):\n",
    "    ph_flow.register_eph_task(nscf_input.new_with_vars(ecut=ecut), deps=eph_deps, append=(i != 0))\n",
    "                           \n",
    "ph_flow.get_graphviz()"
   ]
  },
  {
   "cell_type": "markdown",
   "metadata": {},
   "source": [
    "This explains why in AbiPy we have this classification in terms of `Tasks/Works/Flows`.\n",
    "As a consequence, we can implement highly specialized `Works/Tasks` to\n",
    "solve specific problems and then connect all these nodes together.\n",
    "Just 11 lines of code to get electrons + phonons + (electrons + phononons)!\n",
    "\n",
    "But wait, did you see the gorilla?"
   ]
  },
  {
   "cell_type": "code",
   "execution_count": null,
   "metadata": {},
   "outputs": [],
   "source": [
    "from IPython.display import YouTubeVideo\n",
    "YouTubeVideo(\"vJG698U2Mvo\")"
   ]
  },
  {
   "cell_type": "markdown",
   "metadata": {},
   "source": [
    "There's indeed a bug in the last step. The connections among the nodes are OK but we made\n",
    "a mistake while creating the `EPhTasks` with:\n",
    "\n",
    "```python\n",
    "ph_flow.register_eph_task(nscf_input.new_with_vars(ecut=ecut), ...)\n",
    "```\n",
    "\n",
    "because we passed an input for a standard band structure calculation to something that is supposed\n",
    "to deal with E-PH interaction.\n",
    "This essentially to stress that the AbiPy `Flow`, *by design*, does not try to validate your input to make sure\n",
    "it is consistent with the workflow logic.\n",
    "This is done on purpose for two reasons:\n",
    "\n",
    "- Expert users should be able to customize/tune their input files and validating all the possible cases in python is not trivial\n",
    "- Only Abinit (and God) knows at run-time if your input file makes sense and we can't reimplement the same logic in python\n",
    "\n",
    "At this point, you may wonder why we have so many different Abipy Tasks (`ScfTask`, `NscfTask`, `RelaxTask`, `PhononTask`, `EPHTask` ...) if there's no input validation when we create them...\n",
    "\n",
    "The answer is that we need all these subclasses to implement extra logic that is specific to that particular calculation. Abipy, indeed, is not just submitting jobs. It also monitors the evolution of the calculation\n",
    "and execute pre-defined code to fix run-time problems (and these problems are calculation specific).\n",
    "An example will help clarify this point.\n",
    "\n",
    "Restarting jobs is one of the typical problem encountered in ab-initio calculations\n",
    "and restarting a `RelaxTask` requires a different logic from e.g. restarting a `ScfTask`.\n",
    "In the case of a `ScfTask` we only need to use the output WFK (DEN) of the previous execution \n",
    "as input of the restarted job while a `RelaxTask` must also re-use the (unconverged) final structure \n",
    "of the previous job to be effective and avoid a possibly infinite loop.\n",
    "In a nutshell, when you are using a particular `Task/Work` class you are telling AbiPy how to handle possible\n",
    "problems at run-time and you are also specifying the actions that should be performed \n",
    "at the beginning/end of the execution."
   ]
  },
  {
   "cell_type": "markdown",
   "metadata": {},
   "source": [
    "## Abirun.py\n",
    "[[back to top](#top)]\n",
    "\n",
    "Executing \n",
    "\n",
    "```python \n",
    "flow.make_scheduler().start()\n",
    "``` \n",
    "\n",
    "inside a jupyter notebook is handy if you are dealing with small calculations that require few seconds or minutes. \n",
    "This approach, however, is unpractical when you have large flows or big calculations requiring hours or days, \n",
    "even on massively parallel machines.\n",
    "In this case, indeed, one would like to run the scheduler in a separate process in the backgroud \n",
    "so that the scheduler is not killed when the jupyter server is closed.\n",
    "\n",
    "To start the scheduler in a separate process, use the `abirun.py` script.\n",
    "The syntax is:\n",
    "\n",
    "    abirun.py flow_workdir COMMAND\n",
    "\n",
    "where `flow_workdir` is the directory containing the `Flow` \n",
    "(the directory with the pickle file) and `command` selects the operation to be performed.\n",
    "\n",
    "Typical examples:\n",
    "\n",
    "    abirun.py /tmp/hello_bands status\n",
    "    \n",
    "checks the status of the `Flow` and print the results to screen while\n",
    "\n",
    "    nohup abirun.py /tmp/hello_bands scheduler > sched.log 2> sched.err &\n",
    "    \n",
    "starts the scheduler in the background redirecting the standard output to file `sched.log`\n",
    "\n",
    "<div class=\"alert alert-success\">\n",
    "`nohup` is a standard Unix tool. The command make the scheduler immune \n",
    "to hangups so that you can close the shell session without killing the scheduler.\n",
    "</div>\n",
    "\n",
    "This brings us to the last and most crucial question. \n",
    "How do we configure AbiPy to run Abinit workflows on different architectures ranging from \n",
    "standard laptops to high-performance supercomputers?\n",
    "\n",
    "Unfortunately this notebook is already quite long and these details are best covered \n",
    "in a technical documentation.\n",
    "What should be stressed here is that the behaviour can be customized with two Yaml files.\n",
    "All the information related to your environment (Abinit build, modules, resource managers, shell environment)\n",
    "are read from the `manager.yml` configuration file, that is usually located in the directory `~/.abinit/abipy/`\n",
    "The options for the python scheduler responsible for job submission are given in `scheduler.yml`.\n",
    "\n",
    "For a more complete description of these configuration options, \n",
    "please consult the [TaskManager documentation](http://abinit.github.io/abipy/workflows/taskmanager.html).\n",
    "A list of configuration files for different machines and clusters is available \n",
    "[here](http://abinit.github.io/abipy/workflows/manager_examples.html)\n",
    "while the [Flows HOWTO](http://abinit.github.io/abipy/flows_howto.html)\n",
    "gathers answers to frequently asked questions.\n",
    "\n",
    "Last but not least, check out our \n",
    "[gallery of AbiPy Flows](http://abinit.github.io/abipy/flow_gallery/index.html) for inspiration."
   ]
  },
  {
   "cell_type": "markdown",
   "metadata": {},
   "source": [
    "Back to the main [Index](index.ipynb)"
   ]
  },
  {
   "cell_type": "code",
   "execution_count": null,
   "metadata": {},
   "outputs": [],
   "source": []
  }
 ],
 "metadata": {
  "anaconda-cloud": {},
  "kernelspec": {
   "display_name": "Python 3",
   "language": "python",
   "name": "python3"
  },
  "language_info": {
   "codemirror_mode": {
    "name": "ipython",
    "version": 3
   },
   "file_extension": ".py",
   "mimetype": "text/x-python",
   "name": "python",
   "nbconvert_exporter": "python",
   "pygments_lexer": "ipython3",
   "version": "3.6.7"
  },
  "latex_envs": {
   "bibliofile": "biblio.bib",
   "cite_by": "apalike",
   "current_citInitial": 1,
   "eqLabelWithNumbers": true,
   "eqNumInitial": 0
  }
 },
 "nbformat": 4,
 "nbformat_minor": 4
}
