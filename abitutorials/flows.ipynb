{
 "cells": [
  {
   "cell_type": "markdown",
   "metadata": {},
   "source": [
    "Back to the main [Index](index.ipynb) <a id=\"top\"></a>"
   ]
  },
  {
   "cell_type": "markdown",
   "metadata": {},
   "source": [
    "# Tasks, Workflows and Flow\n",
    "\n",
    "\n",
    "## Table of Contents\n",
    "[[back to top](#top)]\n",
    "\n",
    "- [Building a Flow for band structure calculations](#Building-a-Flow-for-band-structure-calculations)\n",
    "- [How to build and run the Flow](#How-to-build-and-run-the-Flow)\n",
    "- [Executing a Flow](#Executing-a-Flow)\n",
    "- [More on Works, Tasks and dependencies](#More-on-Works,-Tasks-and-dependencies)\n",
    "- [Abirun.py](#Abirun.py)\n",
    "\n",
    "In this notebook we discuss some of the basic concepts used in AbiPy \n",
    "to automate ab-initio calculations. \n",
    "In particular we will focus on the following three objects: \n",
    "\n",
    "   * `Task`\n",
    "   * `Work`\n",
    "   * `Flow`\n",
    "   \n",
    "The `Task` represent the most *elementary step* of the automatic workflow. \n",
    "Roughly speaking, it corresponds to the execution of a single Abinit calculation without multiple datasets.\n",
    "\n",
    "From the point of view of AbiPy, a calculation consists of a set of `Tasks` that are connected \n",
    "by dependencies. \n",
    "Each task has a list of files that are needed to start the calculation, \n",
    "and a list of files that are produced at the end of the run.\n",
    "\n",
    "Some of the input files needed by a `Task` must be provided by the user in the form of Abinit input variables \n",
    "(e.g. the crystalline structure, the pseudopotentials), other inputs may be produced by other tasks.\n",
    "When a `Task` **B** requires the output file `DEN` of another task **A**, \n",
    "we say that **B** depends on **A** through a `DEN` file, and we express this dependency with the dictionary:\n",
    "\n",
    "```python\n",
    "B_deps = {A: \"DEN\"}\n",
    "```\n",
    "\n",
    "To clarify this point, let's take a standard KS band structure calculation as an example.\n",
    "In this case, we have an initial `ScfTask` that solves the KS equations self-consistently to produce a `DEN` file. \n",
    "The density is then used by a second `NscfTask` to compute a band structure on an arbitrary \n",
    "set of $k$-points.\n",
    "The `NscfTask` thus has a dependency on the `ScfTask` in the sense that it cannot be executed \n",
    "until the `ScfTask` is completed and the `DEN` file is produced by the `ScfTask`.\n",
    "\n",
    "Now that we have clarified the concept of `Task`, we can finally turn to `Works` and `Flow`.\n",
    "The `Work` can be seen as a list of `Tasks`, while the `Flow` is essentially a list of `Work` objects.\n",
    "Works are usually used to group tasks that are connected to each other.\n",
    "Flows are the final objects that are executed. The `Flow` provides an easy-to-use\n",
    "interface for performing this execution. \n",
    "The `Flow` provides a high-level API to perform common operations like launching the actual jobs, checking the status of the `Tasks`, correcting problems etc. \n",
    "\n",
    "AbiPy provides several tools to generate Flows for typical first-principles calculations, so called factory functions.\n",
    "This means that you do not need to understand all the technical details of the python implementation.\n",
    "In many cases, indeed, we already provide some kind of `Work` or `Flow` that automates \n",
    "your calculation, and you only need to provide the correct list of input files.\n",
    "This list, obviously, must be consistent with the kind Flow/Work you are using.\n",
    "(For instance, you should not pass a list of inputs for performing a band structure calculation to a Work \n",
    "that is expected to compute phonons with DFPT!)\n",
    "\n",
    "All the `Works` and the `Tasks` of a flow are created and executed inside the working directory (`workdir`). \n",
    "This is usually specified by the user during the creation of the `Flow` object.\n",
    "AbiPy creates the workdir of the different Works/Tasks when the `Flow` is executed\n",
    "for the first time.\n",
    "\n",
    "Each `Task` contains a set of input variables that will be used to generate the \n",
    "Abinit input file. \n",
    "This input **must** be provided by the user during the creation of the `Task`.\n",
    "Fortunately, AbiPy provides an object named `AbinitInput` to facilitate the creation \n",
    "of such input. \n",
    "Once you have an `AbinitInput`, you can create the corresponding `Task` with the (pseudo) code:\n",
    "\n",
    "```python\n",
    "new_task = Task(abinit_input_object)\n",
    "```\n",
    "\n",
    "The `Task` provides several methods for monitoring the status of the calculation and \n",
    "post-processing the results.\n",
    "Note that the concept of dependency is not limited to files. All the Tasks in the \n",
    "flow are connected and can interact with each other. This allows programmers to implements python\n",
    "functions that will be invoked by the framework at run time. For example, one can \n",
    "implement a Task that fetches the relaxed structure from a previous Task and \n",
    "use this configuration to start a DFPT calculation.\n",
    "\n",
    "In the next paragraph, we discuss how to construct a `Flow` for band-structure calculations\n",
    "with a high-level interface that only requires the specifications of the input files.\n",
    "This example allows us to discuss the most important methods of the `Flow`."
   ]
  },
  {
   "cell_type": "markdown",
   "metadata": {},
   "source": [
    "## Building a Flow for band structure calculations\n",
    "[[back to top](#top)]\n",
    "\n",
    "Let's start by creating a function that produces two input files. \n",
    "The first input is a standard self-consistent ground-state run.\n",
    "The second input uses the density produced in the first run to perform \n",
    "a non self-consistent band structure calculation."
   ]
  },
  {
   "cell_type": "code",
   "execution_count": 1,
   "metadata": {},
   "outputs": [],
   "source": [
    "from __future__ import division, print_function, unicode_literals\n",
    "\n",
    "# This line configures matplotlib to show figures embedded in the notebook.\n",
    "# Replace `inline` with `notebook` in classic notebook\n",
    "%matplotlib inline   \n",
    "\n",
    "# Option available in jupyterlab. See https://github.com/matplotlib/jupyter-matplotlib\n",
    "#%matplotlib widget  \n",
    "\n",
    "import warnings\n",
    "warnings.filterwarnings(\"ignore\") # to get rid of deprecation warnings\n",
    "\n",
    "from abipy import abilab\n",
    "import abipy.flowtk as flowtk\n",
    "import abipy.data as abidata\n",
    "\n",
    "def make_scf_nscf_inputs():\n",
    "    \"\"\"Build ands return the input files for the GS-SCF and the GS-NSCF tasks.\"\"\"\n",
    "    multi = abilab.MultiDataset(structure=abidata.cif_file(\"si.cif\"),\n",
    "                                pseudos=abidata.pseudos(\"14si.pspnc\"), ndtset=2)\n",
    "\n",
    "    # Set global variables (dataset1 and dataset2)\n",
    "    multi.set_vars(ecut=6, nband=8)\n",
    "\n",
    "    # Dataset 1 (GS-SCF run)\n",
    "    multi[0].set_kmesh(ngkpt=[8,8,8], shiftk=[0,0,0])\n",
    "    multi[0].set_vars(tolvrs=1e-6)\n",
    "\n",
    "    # Dataset 2 (GS-NSCF run on a k-path)\n",
    "    kptbounds = [\n",
    "        [0.5, 0.0, 0.0], # L point\n",
    "        [0.0, 0.0, 0.0], # Gamma point\n",
    "        [0.0, 0.5, 0.5], # X point\n",
    "    ]\n",
    "\n",
    "    multi[1].set_kpath(ndivsm=6, kptbounds=kptbounds)\n",
    "    multi[1].set_vars(tolwfr=1e-12)\n",
    "    \n",
    "    # Return two input files for the GS and the NSCF run\n",
    "    scf_input, nscf_input = multi.split_datasets()\n",
    "    return scf_input, nscf_input"
   ]
  },
  {
   "cell_type": "markdown",
   "metadata": {},
   "source": [
    "Once we have our two input files, we pass them to the \n",
    "factory function `bandstructure_flow` that returns our `Flow`."
   ]
  },
  {
   "cell_type": "code",
   "execution_count": 2,
   "metadata": {},
   "outputs": [],
   "source": [
    "scf_input, nscf_input = make_scf_nscf_inputs()\n",
    "\n",
    "workdir = \"/tmp/hello_bands\"\n",
    "flow = flowtk.bandstructure_flow(workdir, scf_input, nscf_input)"
   ]
  },
  {
   "cell_type": "markdown",
   "metadata": {},
   "source": [
    "`bandstructure_flow` took care of creating the correct dependency between the two tasks.\n",
    "The `NscfTask`, indeed,  depends on the `ScfTask` in w0/t0, whereas the `ScfTask` has no dependency:"
   ]
  },
  {
   "cell_type": "code",
   "execution_count": 3,
   "metadata": {},
   "outputs": [
    {
     "data": {
      "image/svg+xml": [
       "<?xml version=\"1.0\" encoding=\"UTF-8\" standalone=\"no\"?>\n",
       "<!DOCTYPE svg PUBLIC \"-//W3C//DTD SVG 1.1//EN\"\n",
       " \"http://www.w3.org/Graphics/SVG/1.1/DTD/svg11.dtd\">\n",
       "<!-- Generated by graphviz version 2.38.0 (20140413.2041)\n",
       " -->\n",
       "<!-- Title: flow Pages: 1 -->\n",
       "<svg width=\"361pt\" height=\"152pt\"\n",
       " viewBox=\"0.00 0.00 360.87 152.00\" xmlns=\"http://www.w3.org/2000/svg\" xmlns:xlink=\"http://www.w3.org/1999/xlink\">\n",
       "<g id=\"graph0\" class=\"graph\" transform=\"scale(1 1) rotate(0) translate(12.4341 126)\">\n",
       "<title>flow</title>\n",
       "<polygon fill=\"white\" stroke=\"none\" points=\"-12.4341,26 -12.4341,-126 348.434,-126 348.434,26 -12.4341,26\"/>\n",
       "<text text-anchor=\"start\" x=\"-0.434082\" y=\"15.2\" font-family=\"Times,serif\" font-size=\"14.00\">Flow, node_id=345670, workdir=../../../../../tmp/hello_bands</text>\n",
       "<g id=\"clust1\" class=\"cluster\"><title>clusterw0</title>\n",
       "<path fill=\"#e0eeee\" stroke=\"black\" d=\"M101.238,0.359112C101.238,0.359112 235.238,0.359112 235.238,0.359112 241.238,0.359112 247.238,-5.64089 247.238,-11.6409 247.238,-11.6409 247.238,-109.641 247.238,-109.641 247.238,-115.641 241.238,-121.641 235.238,-121.641 235.238,-121.641 101.238,-121.641 101.238,-121.641 95.2381,-121.641 89.2381,-115.641 89.2381,-109.641 89.2381,-109.641 89.2381,-11.6409 89.2381,-11.6409 89.2381,-5.64089 95.2381,0.359112 101.238,0.359112\"/>\n",
       "<text text-anchor=\"middle\" x=\"168.238\" y=\"-106.441\" font-family=\"Times,serif\" font-size=\"14.00\">BandStructureWork (w0)</text>\n",
       "</g>\n",
       "<!-- w0_t0 -->\n",
       "<g id=\"node1\" class=\"node\"><title>w0_t0</title>\n",
       "<ellipse fill=\"#ff0000\" stroke=\"#ff0000\" cx=\"198.476\" cy=\"-73.2818\" rx=\"27.8878\" ry=\"18\"/>\n",
       "<text text-anchor=\"middle\" x=\"198.476\" y=\"-74.8818\" font-family=\"Times,serif\" font-size=\"8.00\">w0_t0</text>\n",
       "<text text-anchor=\"middle\" x=\"198.476\" y=\"-66.8818\" font-family=\"Times,serif\" font-size=\"8.00\">ScfTask</text>\n",
       "</g>\n",
       "<!-- w0_t1 -->\n",
       "<g id=\"node2\" class=\"node\"><title>w0_t1</title>\n",
       "<ellipse fill=\"#c85064\" stroke=\"#c85064\" cx=\"141.476\" cy=\"-25.2818\" rx=\"30.8467\" ry=\"18\"/>\n",
       "<text text-anchor=\"middle\" x=\"141.476\" y=\"-26.8818\" font-family=\"Times,serif\" font-size=\"8.00\">w0_t1</text>\n",
       "<text text-anchor=\"middle\" x=\"141.476\" y=\"-18.8818\" font-family=\"Times,serif\" font-size=\"8.00\">NscfTask</text>\n",
       "</g>\n",
       "<!-- w0_t0&#45;&gt;w0_t1 -->\n",
       "<g id=\"edge1\" class=\"edge\"><title>w0_t0&#45;&gt;w0_t1</title>\n",
       "<path fill=\"none\" stroke=\"#ff0000\" d=\"M181.374,-58.8802C176.921,-55.1298 172.023,-51.005 167.229,-46.9683\"/>\n",
       "<polygon fill=\"#ff0000\" stroke=\"#ff0000\" points=\"169.261,-44.1038 159.357,-40.3396 164.752,-49.4582 169.261,-44.1038\"/>\n",
       "<text text-anchor=\"middle\" x=\"188.688\" y=\"-41.7242\" font-family=\"Times,serif\" font-size=\"14.00\">DEN</text>\n",
       "</g>\n",
       "</g>\n",
       "</svg>\n"
      ],
      "text/plain": [
       "<graphviz.dot.Digraph at 0x1078a34e0>"
      ]
     },
     "execution_count": 3,
     "metadata": {},
     "output_type": "execute_result"
    }
   ],
   "source": [
    "flow.get_graphviz()"
   ]
  },
  {
   "cell_type": "markdown",
   "metadata": {},
   "source": [
    "<div class=\"alert alert-success\" role=\"alert\">\n",
    "Note that we have not used `getden2 = -1` in the second dataset \n",
    "since AbiPy knows how to connect the two Tasks.\n",
    "So no need for `get*` or `ird*` variables with Abipy. \n",
    "Just specify the correct dependency and python will do the rest!\n",
    "</div>"
   ]
  },
  {
   "cell_type": "markdown",
   "metadata": {},
   "source": [
    "To have useful information on the status of the flow, one uses:"
   ]
  },
  {
   "cell_type": "code",
   "execution_count": 4,
   "metadata": {},
   "outputs": [
    {
     "name": "stdout",
     "output_type": "stream",
     "text": [
      "\n",
      "Work #0: <BandStructureWork, node_id=345671, workdir=../../../../../tmp/hello_bands/w0>, Finalized=False\n",
      "+--------+-------------+---------+--------------+------------+----------+-----------------+--------+-----------+\n",
      "| Task   | Status      | Queue   | MPI|Omp|Gb   | Warn|Com   | Class    | Sub|Rest|Corr   | Time   |   Node_ID |\n",
      "+========+=============+=========+==============+============+==========+=================+========+===========+\n",
      "| w0_t0  | Initialized\u001b[0m | None    | 1|  1|2.0    | NA|NA      | ScfTask  | (0, 0, 0)       | None   |    345672 |\n",
      "+--------+-------------+---------+--------------+------------+----------+-----------------+--------+-----------+\n",
      "| w0_t1  | Initialized\u001b[0m | None    | 1|  1|2.0    | NA|NA      | NscfTask | (0, 0, 0)       | None   |    345673 |\n",
      "+--------+-------------+---------+--------------+------------+----------+-----------------+--------+-----------+\n",
      "\n"
     ]
    }
   ],
   "source": [
    "flow.show_status()"
   ]
  },
  {
   "cell_type": "markdown",
   "metadata": {},
   "source": [
    "Meaning of the different columns:\n",
    "    \n",
    "   * *Task*: short name of the task (usually *w[index_of_work_in_flow]_t[index_of_task_in_work]*\n",
    "   * *Status*: Status of the task\n",
    "   * *Queue*: QueueName@Job identifier returned by the resource manager when the task is submitted\n",
    "   * *(MPI|Omp|Gb)*: Number of MPI procs, OMP threads, and memory per MPI proc\n",
    "   * *(Warn|Com)*: Number of Error/Warning/Comment messages found in the ABINIT log\n",
    "   * *Class*: The class of the `Task`\n",
    "   * *(Sub|Rest|Corr)*: Number of (submissions/restart/AbiPy corrections) performed\n",
    "   * *Node_ID* : identifier of the task, used to select tasks or works in python code or `abirun.py`"
   ]
  },
  {
   "cell_type": "markdown",
   "metadata": {},
   "source": [
    "Both `Flow` and `Work` are *iterable*. \n",
    "Iterating on a `Flow` gives `Work` objects, whereas\n",
    "iterating over a `Work` gives the `Tasks` inside that particular `Work`.\n",
    "\n",
    "```python\n",
    "for work in flow:\n",
    "    for task in work:\n",
    "        print(task)\n",
    "```\n",
    "\n",
    "`Flows` and `Works` are containers and we can select items in these containers\n",
    "with the syntax: flow[start:stop] or work[start:stop].\n",
    "This means that the previous loop is equivalent to the much more verbose version: \n",
    "\n",
    "```python\n",
    "for i in range(len(flow)):\n",
    "    work = flow[i]\n",
    "    for t in range(len(work):\n",
    "        print(work[t])\n",
    "```\n",
    "\n",
    "At this point it should not be so difficult to understand that:\n",
    "\n",
    "```python\n",
    "flow[0][0]\n",
    "```\n",
    "\n",
    "gives the first task in the first work of the flow while\n",
    "\n",
    "```python\n",
    "flow[-1][-1]\n",
    "```\n",
    "\n",
    "selects the last `Task` in the last `Work`.\n",
    "In several cases, we only need to iterate over a flat list of tasks without caring about the works.\n",
    "In this case, we can use:\n",
    "\n",
    "```python\n",
    "for task in flow.iflat_tasks():\n",
    "    print(task)\n",
    "```\n",
    "\n",
    "to iterate over all Tasks in the Flow."
   ]
  },
  {
   "cell_type": "markdown",
   "metadata": {},
   "source": [
    "## How to build and run the Flow\n",
    "[[back to top](#top)]\n",
    "\n",
    "The flow is still in memory and no file has been produced. \n",
    "In order to build the workflow, use: "
   ]
  },
  {
   "cell_type": "code",
   "execution_count": 5,
   "metadata": {},
   "outputs": [
    {
     "data": {
      "text/plain": [
       "0"
      ]
     },
     "execution_count": 5,
     "metadata": {},
     "output_type": "execute_result"
    }
   ],
   "source": [
    "#rm -rf /tmp/hello_bands/\n",
    "flow.build_and_pickle_dump()"
   ]
  },
  {
   "cell_type": "markdown",
   "metadata": {},
   "source": [
    "This function creates the directories of the `Flow`:\n",
    "\n",
    "(If you rely on MacOSX, the tree command might not be available. To fix this, see http://osxdaily.com/2016/09/09/view-folder-tree-terminal-mac-os-tree-equivalent/)"
   ]
  },
  {
   "cell_type": "code",
   "execution_count": 6,
   "metadata": {},
   "outputs": [
    {
     "name": "stdout",
     "output_type": "stream",
     "text": [
      "\u001b[01;34m/tmp/hello_bands\u001b[00m\n",
      "├── __AbinitFlow__.pickle\n",
      "├── \u001b[01;34mindata\u001b[00m\n",
      "├── \u001b[01;34moutdata\u001b[00m\n",
      "├── \u001b[01;34mtmpdata\u001b[00m\n",
      "└── \u001b[01;34mw0\u001b[00m\n",
      "    ├── \u001b[01;34mindata\u001b[00m\n",
      "    ├── \u001b[01;34moutdata\u001b[00m\n",
      "    ├── \u001b[01;34mt0\u001b[00m\n",
      "    │   ├── \u001b[01;34mindata\u001b[00m\n",
      "    │   ├── \u001b[01;32mjob.sh\u001b[00m\n",
      "    │   ├── \u001b[01;34moutdata\u001b[00m\n",
      "    │   ├── run.abi\n",
      "    │   ├── run.files\n",
      "    │   └── \u001b[01;34mtmpdata\u001b[00m\n",
      "    ├── \u001b[01;34mt1\u001b[00m\n",
      "    │   ├── \u001b[01;34mindata\u001b[00m\n",
      "    │   ├── \u001b[01;32mjob.sh\u001b[00m\n",
      "    │   ├── \u001b[01;34moutdata\u001b[00m\n",
      "    │   ├── run.abi\n",
      "    │   ├── run.files\n",
      "    │   └── \u001b[01;34mtmpdata\u001b[00m\n",
      "    └── \u001b[01;34mtmpdata\u001b[00m\n",
      "\n",
      "15 directories, 7 files\n"
     ]
    }
   ],
   "source": [
    "!tree /tmp/hello_bands"
   ]
  },
  {
   "cell_type": "markdown",
   "metadata": {},
   "source": [
    "Let's have a look at the files/directories associated to the first work (flow[0]):"
   ]
  },
  {
   "cell_type": "code",
   "execution_count": 7,
   "metadata": {},
   "outputs": [
    {
     "data": {
      "image/svg+xml": [
       "<?xml version=\"1.0\" encoding=\"UTF-8\" standalone=\"no\"?>\n",
       "<!DOCTYPE svg PUBLIC \"-//W3C//DTD SVG 1.1//EN\"\n",
       " \"http://www.w3.org/Graphics/SVG/1.1/DTD/svg11.dtd\">\n",
       "<!-- Generated by graphviz version 2.38.0 (20140413.2041)\n",
       " -->\n",
       "<!-- Title: directory Pages: 1 -->\n",
       "<svg width=\"542pt\" height=\"454pt\"\n",
       " viewBox=\"0.00 0.00 542.00 454.00\" xmlns=\"http://www.w3.org/2000/svg\" xmlns:xlink=\"http://www.w3.org/1999/xlink\">\n",
       "<g id=\"graph0\" class=\"graph\" transform=\"scale(1 1) rotate(0) translate(4 428)\">\n",
       "<title>directory</title>\n",
       "<polygon fill=\"white\" stroke=\"none\" points=\"-4,26 -4,-428 538,-428 538,26 -4,26\"/>\n",
       "<text text-anchor=\"middle\" x=\"267\" y=\"15.2\" font-family=\"Times,serif\" font-size=\"14.00\">/tmp/hello_bands/w0</text>\n",
       "<g id=\"clust1\" class=\"cluster\"><title>cluster_/tmp/hello_bands/w0</title>\n",
       "<path fill=\"#e0eeee\" stroke=\"black\" d=\"M275.356,-291.991C275.356,-291.991 286.022,-291.991 286.022,-291.991 291.356,-291.991 296.689,-297.324 296.689,-302.658 296.689,-302.658 296.689,-319.324 296.689,-319.324 296.689,-324.658 291.356,-329.991 286.022,-329.991 286.022,-329.991 275.356,-329.991 275.356,-329.991 270.022,-329.991 264.689,-324.658 264.689,-319.324 264.689,-319.324 264.689,-302.658 264.689,-302.658 264.689,-297.324 270.022,-291.991 275.356,-291.991\"/>\n",
       "<text text-anchor=\"middle\" x=\"280.689\" y=\"-314.791\" font-family=\"Times,serif\" font-size=\"14.00\">w0</text>\n",
       "</g>\n",
       "<g id=\"clust2\" class=\"cluster\"><title>cluster_/tmp/hello_bands/w0/indata</title>\n",
       "<path fill=\"#e0eeee\" stroke=\"black\" d=\"M325.977,-358.904C325.977,-358.904 351.977,-358.904 351.977,-358.904 357.977,-358.904 363.977,-364.904 363.977,-370.904 363.977,-370.904 363.977,-384.904 363.977,-384.904 363.977,-390.904 357.977,-396.904 351.977,-396.904 351.977,-396.904 325.977,-396.904 325.977,-396.904 319.977,-396.904 313.977,-390.904 313.977,-384.904 313.977,-384.904 313.977,-370.904 313.977,-370.904 313.977,-364.904 319.977,-358.904 325.977,-358.904\"/>\n",
       "<text text-anchor=\"middle\" x=\"338.977\" y=\"-381.704\" font-family=\"Times,serif\" font-size=\"14.00\">indata</text>\n",
       "</g>\n",
       "<g id=\"clust3\" class=\"cluster\"><title>cluster_/tmp/hello_bands/w0/outdata</title>\n",
       "<path fill=\"#e0eeee\" stroke=\"black\" d=\"M168.318,-250.878C168.318,-250.878 200.318,-250.878 200.318,-250.878 206.318,-250.878 212.318,-256.878 212.318,-262.878 212.318,-262.878 212.318,-276.878 212.318,-276.878 212.318,-282.878 206.318,-288.878 200.318,-288.878 200.318,-288.878 168.318,-288.878 168.318,-288.878 162.318,-288.878 156.318,-282.878 156.318,-276.878 156.318,-276.878 156.318,-262.878 156.318,-262.878 156.318,-256.878 162.318,-250.878 168.318,-250.878\"/>\n",
       "<text text-anchor=\"middle\" x=\"184.318\" y=\"-273.678\" font-family=\"Times,serif\" font-size=\"14.00\">outdata</text>\n",
       "</g>\n",
       "<g id=\"clust4\" class=\"cluster\"><title>cluster_/tmp/hello_bands/w0/t0</title>\n",
       "<path fill=\"#e0eeee\" stroke=\"black\" d=\"M134.013,-101.084C134.013,-101.084 245.013,-101.084 245.013,-101.084 251.013,-101.084 257.013,-107.084 257.013,-113.084 257.013,-113.084 257.013,-229.084 257.013,-229.084 257.013,-235.084 251.013,-241.084 245.013,-241.084 245.013,-241.084 134.013,-241.084 134.013,-241.084 128.013,-241.084 122.013,-235.084 122.013,-229.084 122.013,-229.084 122.013,-113.084 122.013,-113.084 122.013,-107.084 128.013,-101.084 134.013,-101.084\"/>\n",
       "<text text-anchor=\"middle\" x=\"189.513\" y=\"-225.884\" font-family=\"Times,serif\" font-size=\"14.00\">t0</text>\n",
       "</g>\n",
       "<g id=\"clust8\" class=\"cluster\"><title>cluster_/tmp/hello_bands/w0/t1</title>\n",
       "<path fill=\"#e0eeee\" stroke=\"black\" d=\"M288.541,-97.4633C288.541,-97.4633 399.541,-97.4633 399.541,-97.4633 405.541,-97.4633 411.541,-103.463 411.541,-109.463 411.541,-109.463 411.541,-225.463 411.541,-225.463 411.541,-231.463 405.541,-237.463 399.541,-237.463 399.541,-237.463 288.541,-237.463 288.541,-237.463 282.541,-237.463 276.541,-231.463 276.541,-225.463 276.541,-225.463 276.541,-109.463 276.541,-109.463 276.541,-103.463 282.541,-97.4633 288.541,-97.4633\"/>\n",
       "<text text-anchor=\"middle\" x=\"344.041\" y=\"-222.263\" font-family=\"Times,serif\" font-size=\"14.00\">t1</text>\n",
       "</g>\n",
       "<g id=\"clust12\" class=\"cluster\"><title>cluster_/tmp/hello_bands/w0/tmpdata</title>\n",
       "<path fill=\"#e0eeee\" stroke=\"black\" d=\"M243.384,-386.268C243.384,-386.268 279.384,-386.268 279.384,-386.268 285.384,-386.268 291.384,-392.268 291.384,-398.268 291.384,-398.268 291.384,-412.268 291.384,-412.268 291.384,-418.268 285.384,-424.268 279.384,-424.268 279.384,-424.268 243.384,-424.268 243.384,-424.268 237.384,-424.268 231.384,-418.268 231.384,-412.268 231.384,-412.268 231.384,-398.268 231.384,-398.268 231.384,-392.268 237.384,-386.268 243.384,-386.268\"/>\n",
       "<text text-anchor=\"middle\" x=\"261.384\" y=\"-409.068\" font-family=\"Times,serif\" font-size=\"14.00\">tmpdata</text>\n",
       "</g>\n",
       "<g id=\"clust5\" class=\"cluster\"><title>cluster_/tmp/hello_bands/w0/t0/indata</title>\n",
       "<path fill=\"#e0eeee\" stroke=\"black\" d=\"M11.8085,-129.869C11.8085,-129.869 37.8085,-129.869 37.8085,-129.869 43.8085,-129.869 49.8085,-135.869 49.8085,-141.869 49.8085,-141.869 49.8085,-155.869 49.8085,-155.869 49.8085,-161.869 43.8085,-167.869 37.8085,-167.869 37.8085,-167.869 11.8085,-167.869 11.8085,-167.869 5.80847,-167.869 -0.191525,-161.869 -0.191525,-155.869 -0.191525,-155.869 -0.191525,-141.869 -0.191525,-141.869 -0.191525,-135.869 5.80847,-129.869 11.8085,-129.869\"/>\n",
       "<text text-anchor=\"middle\" x=\"24.8085\" y=\"-152.669\" font-family=\"Times,serif\" font-size=\"14.00\">indata</text>\n",
       "</g>\n",
       "<g id=\"clust6\" class=\"cluster\"><title>cluster_/tmp/hello_bands/w0/t0/outdata</title>\n",
       "<path fill=\"#e0eeee\" stroke=\"black\" d=\"M317.779,-247.511C317.779,-247.511 349.779,-247.511 349.779,-247.511 355.779,-247.511 361.779,-253.511 361.779,-259.511 361.779,-259.511 361.779,-273.511 361.779,-273.511 361.779,-279.511 355.779,-285.511 349.779,-285.511 349.779,-285.511 317.779,-285.511 317.779,-285.511 311.779,-285.511 305.779,-279.511 305.779,-273.511 305.779,-273.511 305.779,-259.511 305.779,-259.511 305.779,-253.511 311.779,-247.511 317.779,-247.511\"/>\n",
       "<text text-anchor=\"middle\" x=\"333.779\" y=\"-270.311\" font-family=\"Times,serif\" font-size=\"14.00\">outdata</text>\n",
       "</g>\n",
       "<g id=\"clust7\" class=\"cluster\"><title>cluster_/tmp/hello_bands/w0/t0/tmpdata</title>\n",
       "<path fill=\"#e0eeee\" stroke=\"black\" d=\"M120.71,-52.2449C120.71,-52.2449 156.71,-52.2449 156.71,-52.2449 162.71,-52.2449 168.71,-58.2449 168.71,-64.2449 168.71,-64.2449 168.71,-78.2449 168.71,-78.2449 168.71,-84.2449 162.71,-90.2449 156.71,-90.2449 156.71,-90.2449 120.71,-90.2449 120.71,-90.2449 114.71,-90.2449 108.71,-84.2449 108.71,-78.2449 108.71,-78.2449 108.71,-64.2449 108.71,-64.2449 108.71,-58.2449 114.71,-52.2449 120.71,-52.2449\"/>\n",
       "<text text-anchor=\"middle\" x=\"138.71\" y=\"-75.0449\" font-family=\"Times,serif\" font-size=\"14.00\">tmpdata</text>\n",
       "</g>\n",
       "<g id=\"clust9\" class=\"cluster\"><title>cluster_/tmp/hello_bands/w0/t1/indata</title>\n",
       "<path fill=\"#e0eeee\" stroke=\"black\" d=\"M397.07,0.13731C397.07,0.13731 423.07,0.13731 423.07,0.13731 429.07,0.13731 435.07,-5.86269 435.07,-11.8627 435.07,-11.8627 435.07,-25.8627 435.07,-25.8627 435.07,-31.8627 429.07,-37.8627 423.07,-37.8627 423.07,-37.8627 397.07,-37.8627 397.07,-37.8627 391.07,-37.8627 385.07,-31.8627 385.07,-25.8627 385.07,-25.8627 385.07,-11.8627 385.07,-11.8627 385.07,-5.86269 391.07,0.13731 397.07,0.13731\"/>\n",
       "<text text-anchor=\"middle\" x=\"410.07\" y=\"-22.6627\" font-family=\"Times,serif\" font-size=\"14.00\">indata</text>\n",
       "</g>\n",
       "<g id=\"clust10\" class=\"cluster\"><title>cluster_/tmp/hello_bands/w0/t1/outdata</title>\n",
       "<path fill=\"#e0eeee\" stroke=\"black\" d=\"M489.985,-105.582C489.985,-105.582 521.985,-105.582 521.985,-105.582 527.985,-105.582 533.985,-111.582 533.985,-117.582 533.985,-117.582 533.985,-131.582 533.985,-131.582 533.985,-137.582 527.985,-143.582 521.985,-143.582 521.985,-143.582 489.985,-143.582 489.985,-143.582 483.985,-143.582 477.985,-137.582 477.985,-131.582 477.985,-131.582 477.985,-117.582 477.985,-117.582 477.985,-111.582 483.985,-105.582 489.985,-105.582\"/>\n",
       "<text text-anchor=\"middle\" x=\"505.985\" y=\"-128.382\" font-family=\"Times,serif\" font-size=\"14.00\">outdata</text>\n",
       "</g>\n",
       "<g id=\"clust11\" class=\"cluster\"><title>cluster_/tmp/hello_bands/w0/t1/tmpdata</title>\n",
       "<path fill=\"#e0eeee\" stroke=\"black\" d=\"M208.087,-298.479C208.087,-298.479 244.087,-298.479 244.087,-298.479 250.087,-298.479 256.087,-304.479 256.087,-310.479 256.087,-310.479 256.087,-324.479 256.087,-324.479 256.087,-330.479 250.087,-336.479 244.087,-336.479 244.087,-336.479 208.087,-336.479 208.087,-336.479 202.087,-336.479 196.087,-330.479 196.087,-324.479 196.087,-324.479 196.087,-310.479 196.087,-310.479 196.087,-304.479 202.087,-298.479 208.087,-298.479\"/>\n",
       "<text text-anchor=\"middle\" x=\"226.087\" y=\"-321.279\" font-family=\"Times,serif\" font-size=\"14.00\">tmpdata</text>\n",
       "</g>\n",
       "<!-- /tmp/hello_bands/w0/t0/job.sh -->\n",
       "<g id=\"node7\" class=\"node\"><title>/tmp/hello_bands/w0/t0/job.sh</title>\n",
       "<polygon fill=\"#b2dfee\" stroke=\"#b2dfee\" points=\"130.251,-124.725 130.251,-160.725 184.251,-160.725 184.251,-124.725 130.251,-124.725\"/>\n",
       "<text text-anchor=\"middle\" x=\"156.919\" y=\"-140.325\" font-family=\"Times,serif\" font-size=\"8.00\">job.sh</text>\n",
       "</g>\n",
       "<!-- /tmp/hello_bands/w0/t0/run.abi -->\n",
       "<g id=\"node8\" class=\"node\"><title>/tmp/hello_bands/w0/t0/run.abi</title>\n",
       "<polygon fill=\"#b2dfee\" stroke=\"#b2dfee\" points=\"190.251,-174.725 190.251,-210.725 244.251,-210.725 244.251,-174.725 190.251,-174.725\"/>\n",
       "<text text-anchor=\"middle\" x=\"216.97\" y=\"-190.325\" font-family=\"Times,serif\" font-size=\"8.00\">run.abi</text>\n",
       "</g>\n",
       "<!-- /tmp/hello_bands/w0/t0/run.files -->\n",
       "<g id=\"node9\" class=\"node\"><title>/tmp/hello_bands/w0/t0/run.files</title>\n",
       "<polygon fill=\"#b2dfee\" stroke=\"#b2dfee\" points=\"195.251,-109.725 195.251,-145.725 249.251,-145.725 249.251,-109.725 195.251,-109.725\"/>\n",
       "<text text-anchor=\"middle\" x=\"222.251\" y=\"-125.325\" font-family=\"Times,serif\" font-size=\"8.00\">run.files</text>\n",
       "</g>\n",
       "<!-- /tmp/hello_bands/w0/t1/job.sh -->\n",
       "<g id=\"node13\" class=\"node\"><title>/tmp/hello_bands/w0/t1/job.sh</title>\n",
       "<polygon fill=\"#b2dfee\" stroke=\"#b2dfee\" points=\"284.779,-121.104 284.779,-157.104 338.779,-157.104 338.779,-121.104 284.779,-121.104\"/>\n",
       "<text text-anchor=\"middle\" x=\"311.447\" y=\"-136.704\" font-family=\"Times,serif\" font-size=\"8.00\">job.sh</text>\n",
       "</g>\n",
       "<!-- /tmp/hello_bands/w0/t1/run.abi -->\n",
       "<g id=\"node14\" class=\"node\"><title>/tmp/hello_bands/w0/t1/run.abi</title>\n",
       "<polygon fill=\"#b2dfee\" stroke=\"#b2dfee\" points=\"344.779,-171.104 344.779,-207.104 398.779,-207.104 398.779,-171.104 344.779,-171.104\"/>\n",
       "<text text-anchor=\"middle\" x=\"371.497\" y=\"-186.704\" font-family=\"Times,serif\" font-size=\"8.00\">run.abi</text>\n",
       "</g>\n",
       "<!-- /tmp/hello_bands/w0/t1/run.files -->\n",
       "<g id=\"node15\" class=\"node\"><title>/tmp/hello_bands/w0/t1/run.files</title>\n",
       "<polygon fill=\"#b2dfee\" stroke=\"#b2dfee\" points=\"349.779,-106.104 349.779,-142.104 403.779,-142.104 403.779,-106.104 349.779,-106.104\"/>\n",
       "<text text-anchor=\"middle\" x=\"376.779\" y=\"-121.704\" font-family=\"Times,serif\" font-size=\"8.00\">run.files</text>\n",
       "</g>\n",
       "<!-- __0:cluster_/tmp/hello_bands/w0 -->\n",
       "<!-- __1:cluster_/tmp/hello_bands/w0/indata -->\n",
       "<!-- __0:cluster_/tmp/hello_bands/w0&#45;&gt;__1:cluster_/tmp/hello_bands/w0/indata -->\n",
       "<g id=\"edge12\" class=\"edge\"><title>__0:cluster_/tmp/hello_bands/w0&#45;&gt;__1:cluster_/tmp/hello_bands/w0/indata</title>\n",
       "<path fill=\"none\" stroke=\"black\" d=\"M296.926,-329.63C302.764,-336.332 309.468,-344.028 315.783,-351.277\"/>\n",
       "<polygon fill=\"black\" stroke=\"black\" points=\"313.215,-353.658 322.423,-358.9 318.493,-349.061 313.215,-353.658\"/>\n",
       "</g>\n",
       "<!-- __2:cluster_/tmp/hello_bands/w0 -->\n",
       "<!-- __3:cluster_/tmp/hello_bands/w0/outdata -->\n",
       "<!-- __2:cluster_/tmp/hello_bands/w0&#45;&gt;__3:cluster_/tmp/hello_bands/w0/outdata -->\n",
       "<g id=\"edge13\" class=\"edge\"><title>__2:cluster_/tmp/hello_bands/w0&#45;&gt;__3:cluster_/tmp/hello_bands/w0/outdata</title>\n",
       "<path fill=\"none\" stroke=\"black\" d=\"M264.341,-304.017C252.711,-299.055 236.603,-292.183 221.886,-285.904\"/>\n",
       "<polygon fill=\"black\" stroke=\"black\" points=\"223.048,-282.595 212.476,-281.89 220.301,-289.033 223.048,-282.595\"/>\n",
       "</g>\n",
       "<!-- __4:cluster_/tmp/hello_bands/w0 -->\n",
       "<!-- __5:cluster_/tmp/hello_bands/w0/t0 -->\n",
       "<!-- __4:cluster_/tmp/hello_bands/w0&#45;&gt;__5:cluster_/tmp/hello_bands/w0/t0 -->\n",
       "<g id=\"edge14\" class=\"edge\"><title>__4:cluster_/tmp/hello_bands/w0&#45;&gt;__5:cluster_/tmp/hello_bands/w0/t0</title>\n",
       "<path fill=\"none\" stroke=\"black\" d=\"M268.203,-291.831C260.878,-280.591 251.079,-265.556 240.889,-249.918\"/>\n",
       "<polygon fill=\"black\" stroke=\"black\" points=\"243.592,-247.656 235.2,-241.189 237.728,-251.478 243.592,-247.656\"/>\n",
       "</g>\n",
       "<!-- __6:cluster_/tmp/hello_bands/w0 -->\n",
       "<!-- __7:cluster_/tmp/hello_bands/w0/t1 -->\n",
       "<!-- __6:cluster_/tmp/hello_bands/w0&#45;&gt;__7:cluster_/tmp/hello_bands/w0/t1 -->\n",
       "<g id=\"edge15\" class=\"edge\"><title>__6:cluster_/tmp/hello_bands/w0&#45;&gt;__7:cluster_/tmp/hello_bands/w0/t1</title>\n",
       "<path fill=\"none\" stroke=\"black\" d=\"M289.102,-291.932C294.355,-280.029 301.512,-263.815 308.923,-247.024\"/>\n",
       "<polygon fill=\"black\" stroke=\"black\" points=\"312.22,-248.223 313.056,-237.661 305.816,-245.396 312.22,-248.223\"/>\n",
       "</g>\n",
       "<!-- __8:cluster_/tmp/hello_bands/w0 -->\n",
       "<!-- __9:cluster_/tmp/hello_bands/w0/tmpdata -->\n",
       "<!-- __8:cluster_/tmp/hello_bands/w0&#45;&gt;__9:cluster_/tmp/hello_bands/w0/tmpdata -->\n",
       "<g id=\"edge16\" class=\"edge\"><title>__8:cluster_/tmp/hello_bands/w0&#45;&gt;__9:cluster_/tmp/hello_bands/w0/tmpdata</title>\n",
       "<path fill=\"none\" stroke=\"black\" d=\"M276.782,-330.069C274.061,-343.359 270.382,-361.327 267.302,-376.367\"/>\n",
       "<polygon fill=\"black\" stroke=\"black\" points=\"263.862,-375.719 265.285,-386.218 270.72,-377.123 263.862,-375.719\"/>\n",
       "</g>\n",
       "<!-- __10:cluster_/tmp/hello_bands/w0/t0 -->\n",
       "<!-- __11:cluster_/tmp/hello_bands/w0/t0/indata -->\n",
       "<!-- __10:cluster_/tmp/hello_bands/w0/t0&#45;&gt;__11:cluster_/tmp/hello_bands/w0/t0/indata -->\n",
       "<g id=\"edge17\" class=\"edge\"><title>__10:cluster_/tmp/hello_bands/w0/t0&#45;&gt;__11:cluster_/tmp/hello_bands/w0/t0/indata</title>\n",
       "<path fill=\"none\" stroke=\"black\" d=\"M121.571,-161.92C100.385,-159.062 77.8866,-156.028 59.9206,-153.605\"/>\n",
       "<polygon fill=\"black\" stroke=\"black\" points=\"60.2885,-150.123 49.9104,-152.254 59.3528,-157.06 60.2885,-150.123\"/>\n",
       "</g>\n",
       "<!-- __12:cluster_/tmp/hello_bands/w0/t0 -->\n",
       "<!-- __13:cluster_/tmp/hello_bands/w0/t0/outdata -->\n",
       "<!-- __12:cluster_/tmp/hello_bands/w0/t0&#45;&gt;__13:cluster_/tmp/hello_bands/w0/t0/outdata -->\n",
       "<g id=\"edge18\" class=\"edge\"><title>__12:cluster_/tmp/hello_bands/w0/t0&#45;&gt;__13:cluster_/tmp/hello_bands/w0/t0/outdata</title>\n",
       "<path fill=\"none\" stroke=\"black\" d=\"M257.422,-216.003C271.065,-225.028 284.911,-234.187 296.997,-242.182\"/>\n",
       "<polygon fill=\"black\" stroke=\"black\" points=\"295.188,-245.181 305.459,-247.779 299.05,-239.343 295.188,-245.181\"/>\n",
       "</g>\n",
       "<!-- __14:cluster_/tmp/hello_bands/w0/t0 -->\n",
       "<!-- __15:cluster_/tmp/hello_bands/w0/t0/tmpdata -->\n",
       "<!-- __14:cluster_/tmp/hello_bands/w0/t0&#45;&gt;__15:cluster_/tmp/hello_bands/w0/t0/tmpdata -->\n",
       "<g id=\"edge19\" class=\"edge\"><title>__14:cluster_/tmp/hello_bands/w0/t0&#45;&gt;__15:cluster_/tmp/hello_bands/w0/t0/tmpdata</title>\n",
       "<path fill=\"none\" stroke=\"black\" d=\"M153.815,-100.93C153.575,-100.458 153.337,-99.9894 153.1,-99.5239\"/>\n",
       "<polygon fill=\"black\" stroke=\"black\" points=\"156.05,-97.6042 148.395,-90.2791 149.811,-100.779 156.05,-97.6042\"/>\n",
       "</g>\n",
       "<!-- __16:cluster_/tmp/hello_bands/w0/t1 -->\n",
       "<!-- __17:cluster_/tmp/hello_bands/w0/t1/indata -->\n",
       "<!-- __16:cluster_/tmp/hello_bands/w0/t1&#45;&gt;__17:cluster_/tmp/hello_bands/w0/t1/indata -->\n",
       "<g id=\"edge20\" class=\"edge\"><title>__16:cluster_/tmp/hello_bands/w0/t1&#45;&gt;__17:cluster_/tmp/hello_bands/w0/t1/indata</title>\n",
       "<path fill=\"none\" stroke=\"black\" d=\"M375.315,-97.0795C383.169,-79.4037 391.155,-61.4314 397.488,-47.1791\"/>\n",
       "<polygon fill=\"black\" stroke=\"black\" points=\"400.724,-48.5155 401.586,-37.9558 394.327,-45.673 400.724,-48.5155\"/>\n",
       "</g>\n",
       "<!-- __18:cluster_/tmp/hello_bands/w0/t1 -->\n",
       "<!-- __19:cluster_/tmp/hello_bands/w0/t1/outdata -->\n",
       "<!-- __18:cluster_/tmp/hello_bands/w0/t1&#45;&gt;__19:cluster_/tmp/hello_bands/w0/t1/outdata -->\n",
       "<g id=\"edge21\" class=\"edge\"><title>__18:cluster_/tmp/hello_bands/w0/t1&#45;&gt;__19:cluster_/tmp/hello_bands/w0/t1/outdata</title>\n",
       "<path fill=\"none\" stroke=\"black\" d=\"M411.781,-149.526C430.874,-144.471 450.975,-139.148 467.683,-134.724\"/>\n",
       "<polygon fill=\"black\" stroke=\"black\" points=\"468.838,-138.039 477.609,-132.096 467.046,-131.272 468.838,-138.039\"/>\n",
       "</g>\n",
       "<!-- __20:cluster_/tmp/hello_bands/w0/t1 -->\n",
       "<!-- __21:cluster_/tmp/hello_bands/w0/t1/tmpdata -->\n",
       "<!-- __20:cluster_/tmp/hello_bands/w0/t1&#45;&gt;__21:cluster_/tmp/hello_bands/w0/t1/tmpdata -->\n",
       "<g id=\"edge22\" class=\"edge\"><title>__20:cluster_/tmp/hello_bands/w0/t1&#45;&gt;__21:cluster_/tmp/hello_bands/w0/t1/tmpdata</title>\n",
       "<path fill=\"none\" stroke=\"black\" d=\"M288.863,-237.64C274.227,-256.253 259.278,-275.265 247.642,-290.065\"/>\n",
       "<polygon fill=\"black\" stroke=\"black\" points=\"244.63,-288.233 241.2,-298.258 250.132,-292.56 244.63,-288.233\"/>\n",
       "</g>\n",
       "</g>\n",
       "</svg>\n"
      ],
      "text/plain": [
       "<graphviz.dot.Digraph at 0x181e00ea90>"
      ]
     },
     "execution_count": 7,
     "metadata": {},
     "output_type": "execute_result"
    }
   ],
   "source": [
    "flow[0].get_graphviz_dirtree()"
   ]
  },
  {
   "cell_type": "markdown",
   "metadata": {},
   "source": [
    "`w0` is the directory containing the input files of the first workflow (well, we have only one workflow in our example).\n",
    "`t0` and `t1` contain the input files needed to run the SCF and the NSC run, respectively.\n",
    "\n",
    "You might have noticed that each `Task` directory present the same structure:\n",
    "    \n",
    "   * *run.abi*: Input file\n",
    "   * *run.files*: Files file\n",
    "   * *job.sh*: Submission script\n",
    "   * *outdata*: Directory containing output data files\n",
    "   * *indata*: Directory containing input data files \n",
    "   * *tmpdata*: Directory with temporary files\n",
    "   \n",
    "<div class=\"alert alert-danger\" role=\"alert\">\n",
    "`__AbinitFlow__.pickle` is the pickle file used to save the status of `Flow`. **Don't touch it!** \n",
    "</div>"
   ]
  },
  {
   "cell_type": "markdown",
   "metadata": {},
   "source": [
    "An Abinit Task *has* an [AbinitInput](abinit_input.ipynb) which in turn has a [Structure](structure.ipynb):"
   ]
  },
  {
   "cell_type": "code",
   "execution_count": 8,
   "metadata": {},
   "outputs": [
    {
     "data": {
      "text/html": [
       "############################################################################################<br>#                                       SECTION: basic                                      <br>############################################################################################<br> <a href=\"https://docs.abinit.org/variables/basic#ecut\" target=\"_blank\">ecut</a> 6<br> <a href=\"https://docs.abinit.org/variables/basic#nband\" target=\"_blank\">nband</a> 8<br> <a href=\"https://docs.abinit.org/variables/basic#ngkpt\" target=\"_blank\">ngkpt</a> 8 8 8<br> <a href=\"https://docs.abinit.org/variables/basic#kptopt\" target=\"_blank\">kptopt</a> 1<br> <a href=\"https://docs.abinit.org/variables/basic#nshiftk\" target=\"_blank\">nshiftk</a> 1<br> <a href=\"https://docs.abinit.org/variables/basic#shiftk\" target=\"_blank\">shiftk</a> 0 0 0<br> <a href=\"https://docs.abinit.org/variables/basic#tolvrs\" target=\"_blank\">tolvrs</a> 1e-06<br>############################################################################################<br>#                                         STRUCTURE                                         <br>############################################################################################<br> <a href=\"https://docs.abinit.org/variables/basic#natom\" target=\"_blank\">natom</a> 2<br> <a href=\"https://docs.abinit.org/variables/basic#ntypat\" target=\"_blank\">ntypat</a> 1<br> <a href=\"https://docs.abinit.org/variables/basic#typat\" target=\"_blank\">typat</a> 1 1<br> <a href=\"https://docs.abinit.org/variables/basic#znucl\" target=\"_blank\">znucl</a> 14<br> <a href=\"https://docs.abinit.org/variables/basic#xred\" target=\"_blank\">xred</a><br>    0.0000000000    0.0000000000    0.0000000000<br>    0.2500000000    0.2500000000    0.2500000000<br> <a href=\"https://docs.abinit.org/variables/basic#acell\" target=\"_blank\">acell</a>    1.0    1.0    1.0<br> <a href=\"https://docs.abinit.org/variables/basic#rprim\" target=\"_blank\">rprim</a><br>    6.3285005272    0.0000000000    3.6537614829<br>    2.1095001757    5.9665675167    3.6537614829<br>    0.0000000000    0.0000000000    7.3075229659"
      ],
      "text/plain": [
       "<AbinitInput at 26203731672>"
      ]
     },
     "execution_count": 8,
     "metadata": {},
     "output_type": "execute_result"
    }
   ],
   "source": [
    " flow[0][0].input"
   ]
  },
  {
   "cell_type": "code",
   "execution_count": 9,
   "metadata": {},
   "outputs": [
    {
     "data": {
      "text/html": [
       "Full Formula (Si2)<br>Reduced Formula: Si<br>abc   :   3.866975   3.866975   3.866975<br>angles:  60.000000  60.000000  60.000000<br>Sites (2)<br>  #  SP       a     b     c<br>---  ----  ----  ----  ----<br>  0  Si    0     0     0<br>  1  Si    0.25  0.25  0.25"
      ],
      "text/plain": [
       "Structure Summary\n",
       "Lattice\n",
       "    abc : 3.86697462 3.86697462 3.86697462\n",
       " angles : 59.99999999999999 59.99999999999999 59.99999999999999\n",
       " volume : 40.88829179346891\n",
       "      A : 3.3488982567096763 0.0 1.9334873100000005\n",
       "      B : 1.1162994189032256 3.1573715557642927 1.9334873100000005\n",
       "      C : 0.0 0.0 3.86697462\n",
       "PeriodicSite: Si (0.0000, 0.0000, 0.0000) [0.0000, 0.0000, 0.0000]\n",
       "PeriodicSite: Si (1.1163, 0.7893, 1.9335) [0.2500, 0.2500, 0.2500]"
      ]
     },
     "execution_count": 9,
     "metadata": {},
     "output_type": "execute_result"
    }
   ],
   "source": [
    "flow[0][0].input.structure"
   ]
  },
  {
   "cell_type": "code",
   "execution_count": 10,
   "metadata": {},
   "outputs": [
    {
     "name": "stdout",
     "output_type": "stream",
     "text": [
      "<NcAbinitPseudo: 14si.pspnc>\n",
      "  summary: Troullier-Martins psp for element  Si        Thu Oct 27 17:31:21 EDT 1994\n",
      "  number of valence electrons: 4.0\n",
      "  maximum angular momentum: d\n",
      "  angular momentum for local part: d\n",
      "  XC correlation: LDA_XC_TETER93\n",
      "  supports spin-orbit: False\n",
      "  radius for non-linear core correction: 1.80626423934776\n",
      "  hint for low accuracy: ecut: 0.0, pawecutdg: 0.0\n",
      "  hint for normal accuracy: ecut: 0.0, pawecutdg: 0.0\n",
      "  hint for high accuracy: ecut: 0.0, pawecutdg: 0.0\n"
     ]
    }
   ],
   "source": [
    "for p in flow[0][0].input.pseudos: \n",
    "    print(p)"
   ]
  },
  {
   "cell_type": "markdown",
   "metadata": {},
   "source": [
    "Let's print the value of `kptopt` for all tasks in our flow with:"
   ]
  },
  {
   "cell_type": "code",
   "execution_count": 11,
   "metadata": {},
   "outputs": [
    {
     "name": "stdout",
     "output_type": "stream",
     "text": [
      "[1, -2]\n"
     ]
    }
   ],
   "source": [
    "print([task.input[\"kptopt\"] for task in flow.iflat_tasks()])"
   ]
  },
  {
   "cell_type": "markdown",
   "metadata": {},
   "source": [
    "that, in this particular case, gives the same result as:"
   ]
  },
  {
   "cell_type": "code",
   "execution_count": 12,
   "metadata": {},
   "outputs": [
    {
     "name": "stdout",
     "output_type": "stream",
     "text": [
      "[1, -2]\n"
     ]
    }
   ],
   "source": [
    "print([task.input[\"kptopt\"] for task in flow[0]])"
   ]
  },
  {
   "cell_type": "markdown",
   "metadata": {},
   "source": [
    "## Executing a Flow\n",
    "[[back to top](#top)]\n",
    "\n",
    "The `Flow` can be executed with two different approaches: a programmatic interface based \n",
    "on `flow.make_scheduler` or the `abirun.py` script. \n",
    "In this section, we discuss the first approach because it plays well with the jupyter notebook.\n",
    "Note however that `abirun.py` is highly recommended especially when running non-trivial calculations. "
   ]
  },
  {
   "cell_type": "code",
   "execution_count": 13,
   "metadata": {},
   "outputs": [
    {
     "name": "stdout",
     "output_type": "stream",
     "text": [
      "\u001b[33m[Sat Aug 11 23:33:45 2018] Number of launches: 1\u001b[0m\n",
      "\n",
      "Work #0: <BandStructureWork, node_id=345671, workdir=../../../../../tmp/hello_bands/w0>, Finalized=False\n",
      "+--------+-------------+-------------+--------------+------------+----------+-----------------+----------+-----------+\n",
      "| Task   | Status      | Queue       | MPI|Omp|Gb   | Warn|Com   | Class    | Sub|Rest|Corr   | Time     |   Node_ID |\n",
      "+========+=============+=============+==============+============+==========+=================+==========+===========+\n",
      "| w0_t0  | \u001b[34mSubmitted\u001b[0m   | 79431@local | 2|  1|2.0    | 0|  0      | ScfTask  | (1, 0, 0)       | 0:00:00Q |    345672 |\n",
      "+--------+-------------+-------------+--------------+------------+----------+-----------------+----------+-----------+\n",
      "| w0_t1  | Initialized\u001b[0m | None        | 1|  1|2.0    | NA|NA      | NscfTask | (0, 0, 0)       | None     |    345673 |\n",
      "+--------+-------------+-------------+--------------+------------+----------+-----------------+----------+-----------+\n",
      "\n",
      "\u001b[33m[Sat Aug 11 23:33:49 2018] Number of launches: 1\u001b[0m\n",
      "\n",
      "Work #0: <BandStructureWork, node_id=345671, workdir=../../../../../tmp/hello_bands/w0>, Finalized=False\n",
      "+--------+-----------+-------------+--------------+------------+----------+-----------------+----------+-----------+\n",
      "| Task   | Status    | Queue       | MPI|Omp|Gb   | Warn|Com   | Class    | Sub|Rest|Corr   | Time     |   Node_ID |\n",
      "+========+===========+=============+==============+============+==========+=================+==========+===========+\n",
      "| w0_t0  | \u001b[32mCompleted\u001b[0m | 79431@local | 2|  1|2.0    | 3|  1      | ScfTask  | (1, 0, 0)       | 0:00:01R |    345672 |\n",
      "+--------+-----------+-------------+--------------+------------+----------+-----------------+----------+-----------+\n",
      "| w0_t1  | \u001b[34mSubmitted\u001b[0m | 79440@local | 2|  1|2.0    | 0|  0      | NscfTask | (1, 0, 0)       | 0:00:00Q |    345673 |\n",
      "+--------+-----------+-------------+--------------+------------+----------+-----------------+----------+-----------+\n",
      "\n",
      "\n",
      "Work #0: <BandStructureWork, node_id=345671, workdir=../../../../../tmp/hello_bands/w0>, Finalized=\u001b[32mTrue\u001b[0m\n",
      "  Finalized works are not shown. Use verbose > 0 to force output.\n",
      "\u001b[32m\n",
      "all_ok reached\n",
      "\u001b[0m\n",
      "\n",
      "Submitted on: Sat Aug 11 23:33:44 2018\n",
      "Completed on: Sat Aug 11 23:33:54 2018\n",
      "Elapsed time: 0:00:10.045017\n",
      "Flow completed successfully\n",
      "\n",
      "Calling flow.finalize()...\n"
     ]
    },
    {
     "data": {
      "text/plain": [
       "0"
      ]
     },
     "execution_count": 13,
     "metadata": {},
     "output_type": "execute_result"
    }
   ],
   "source": [
    "flow.make_scheduler().start()"
   ]
  },
  {
   "cell_type": "markdown",
   "metadata": {},
   "source": [
    "The flow keeps track of the different actions performed by the python code:"
   ]
  },
  {
   "cell_type": "code",
   "execution_count": 14,
   "metadata": {},
   "outputs": [
    {
     "name": "stdout",
     "output_type": "stream",
     "text": [
      "\u001b[32m\n",
      "==================================================================================================================================\n",
      "========================= <BandStructureWork, node_id=345671, workdir=../../../../../tmp/hello_bands/w0> =========================\n",
      "==================================================================================================================================\u001b[0m\n",
      "[Sat Aug 11 23:33:54 2018] Finalized set to True\n",
      "[Sat Aug 11 23:33:54 2018] Work <BandStructureWork, node_id=345671, workdir=../../../../../tmp/hello_bands/w0> is finalized and broadcasts signal S_OK\n",
      "\u001b[32m\n",
      "===================================================================================================================================\n",
      "============================= <ScfTask, node_id=345672, workdir=../../../../../tmp/hello_bands/w0/t0> =============================\n",
      "===================================================================================================================================\u001b[0m\n",
      "[Sat Aug 11 23:33:44 2018] Status changed to Ready. msg: Status set to Ready\n",
      "[Sat Aug 11 23:33:44 2018] Setting input variables: {'autoparal': 1, 'max_ncpus': 2, 'mem_test': 0}\n",
      "[Sat Aug 11 23:33:44 2018] Old values: {'autoparal': None, 'max_ncpus': None, 'mem_test': None}\n",
      "[Sat Aug 11 23:33:45 2018] Status changed to Initialized. msg: finished autoparal run\n",
      "[Sat Aug 11 23:33:45 2018] Submitted with MPI=2, Omp=1, Memproc=2.0 [Gb] Submitted to queue \n",
      "[Sat Aug 11 23:33:49 2018] Task completed status set to ok based on abiout\n",
      "[Sat Aug 11 23:33:49 2018] Finalized set to True\n",
      "\u001b[32m\n",
      "==================================================================================================================================\n",
      "============================ <NscfTask, node_id=345673, workdir=../../../../../tmp/hello_bands/w0/t1> ============================\n",
      "==================================================================================================================================\u001b[0m\n",
      "[Sat Aug 11 23:33:49 2018] Status changed to Ready. msg: Status set to Ready\n",
      "[Sat Aug 11 23:33:49 2018] Setting input variables: {'ngfft': [18, 18, 18]}\n",
      "[Sat Aug 11 23:33:49 2018] Old values: {'ngfft': None}\n",
      "[Sat Aug 11 23:33:49 2018] Adding connecting vars {'irdden': 1}\n",
      "[Sat Aug 11 23:33:49 2018] Setting input variables: {'irdden': 1}\n",
      "[Sat Aug 11 23:33:49 2018] Old values: {'irdden': None}\n",
      "[Sat Aug 11 23:33:49 2018] Setting input variables: {'autoparal': 1, 'max_ncpus': 2, 'mem_test': 0}\n",
      "[Sat Aug 11 23:33:49 2018] Old values: {'autoparal': None, 'max_ncpus': None, 'mem_test': None}\n",
      "[Sat Aug 11 23:33:49 2018] Status changed to Initialized. msg: finished autoparal run\n",
      "[Sat Aug 11 23:33:49 2018] Submitted with MPI=2, Omp=1, Memproc=2.0 [Gb] Submitted to queue \n",
      "[Sat Aug 11 23:33:54 2018] Task completed status set to ok based on abiout\n",
      "[Sat Aug 11 23:33:54 2018] Finalized set to True\n",
      "\u001b[32m\n",
      "==================================================================================================================================\n",
      "================================= <Flow, node_id=345670, workdir=../../../../../tmp/hello_bands> =================================\n",
      "==================================================================================================================================\u001b[0m\n",
      "[Sat Aug 11 23:33:54 2018] Calling flow.finalize.\n",
      "[Sat Aug 11 23:33:54 2018] Finalized set to True\n"
     ]
    }
   ],
   "source": [
    "flow.show_history()"
   ]
  },
  {
   "cell_type": "markdown",
   "metadata": {},
   "source": [
    "If you read the logs carefully, you will realize that in the first iteration of the scheduler, \n",
    "only the `ScfTask` is executed because the second task depends on it. \n",
    "After the initial submission, the scheduler starts to monitor all the tasks in the flow.\n",
    "\n",
    "When the ScfTask completes, the dependency of the NscfTask is fullfilled and \n",
    "a new submission takes place. Once the second task completes, the scheduler calls `flow.finalize`\n",
    "to execute (optional) logic that is supposed to be executed to perform some sort of cleanup or final processing.\n",
    "At this point, all the tasks in the flow are completed and the scheduler exits.\n",
    "\n",
    "Now we can have a look at the different output files produced by our flow with:"
   ]
  },
  {
   "cell_type": "code",
   "execution_count": 15,
   "metadata": {},
   "outputs": [
    {
     "data": {
      "image/svg+xml": [
       "<?xml version=\"1.0\" encoding=\"UTF-8\" standalone=\"no\"?>\n",
       "<!DOCTYPE svg PUBLIC \"-//W3C//DTD SVG 1.1//EN\"\n",
       " \"http://www.w3.org/Graphics/SVG/1.1/DTD/svg11.dtd\">\n",
       "<!-- Generated by graphviz version 2.38.0 (20140413.2041)\n",
       " -->\n",
       "<!-- Title: directory Pages: 1 -->\n",
       "<svg width=\"1386pt\" height=\"782pt\"\n",
       " viewBox=\"0.00 0.00 1386.00 782.00\" xmlns=\"http://www.w3.org/2000/svg\" xmlns:xlink=\"http://www.w3.org/1999/xlink\">\n",
       "<g id=\"graph0\" class=\"graph\" transform=\"scale(1 1) rotate(0) translate(4 756)\">\n",
       "<title>directory</title>\n",
       "<polygon fill=\"white\" stroke=\"none\" points=\"-4,26 -4,-756 1382,-756 1382,26 -4,26\"/>\n",
       "<text text-anchor=\"middle\" x=\"689\" y=\"15.2\" font-family=\"Times,serif\" font-size=\"14.00\">/tmp/hello_bands/w0</text>\n",
       "<g id=\"clust1\" class=\"cluster\"><title>cluster_/tmp/hello_bands/w0</title>\n",
       "<path fill=\"#e0eeee\" stroke=\"black\" d=\"M473.4,-440.048C473.4,-440.048 484.067,-440.048 484.067,-440.048 489.4,-440.048 494.733,-445.381 494.733,-450.714 494.733,-450.714 494.733,-467.381 494.733,-467.381 494.733,-472.714 489.4,-478.048 484.067,-478.048 484.067,-478.048 473.4,-478.048 473.4,-478.048 468.067,-478.048 462.733,-472.714 462.733,-467.381 462.733,-467.381 462.733,-450.714 462.733,-450.714 462.733,-445.381 468.067,-440.048 473.4,-440.048\"/>\n",
       "<text text-anchor=\"middle\" x=\"478.733\" y=\"-462.848\" font-family=\"Times,serif\" font-size=\"14.00\">w0</text>\n",
       "</g>\n",
       "<g id=\"clust2\" class=\"cluster\"><title>cluster_/tmp/hello_bands/w0/indata</title>\n",
       "<path fill=\"#e0eeee\" stroke=\"black\" d=\"M539.296,-508.947C539.296,-508.947 565.296,-508.947 565.296,-508.947 571.296,-508.947 577.296,-514.947 577.296,-520.947 577.296,-520.947 577.296,-534.947 577.296,-534.947 577.296,-540.947 571.296,-546.947 565.296,-546.947 565.296,-546.947 539.296,-546.947 539.296,-546.947 533.296,-546.947 527.296,-540.947 527.296,-534.947 527.296,-534.947 527.296,-520.947 527.296,-520.947 527.296,-514.947 533.296,-508.947 539.296,-508.947\"/>\n",
       "<text text-anchor=\"middle\" x=\"552.296\" y=\"-531.747\" font-family=\"Times,serif\" font-size=\"14.00\">indata</text>\n",
       "</g>\n",
       "<g id=\"clust3\" class=\"cluster\"><title>cluster_/tmp/hello_bands/w0/outdata</title>\n",
       "<path fill=\"#e0eeee\" stroke=\"black\" d=\"M383.112,-427.122C383.112,-427.122 415.112,-427.122 415.112,-427.122 421.112,-427.122 427.112,-433.122 427.112,-439.122 427.112,-439.122 427.112,-453.122 427.112,-453.122 427.112,-459.122 421.112,-465.122 415.112,-465.122 415.112,-465.122 383.112,-465.122 383.112,-465.122 377.112,-465.122 371.112,-459.122 371.112,-453.122 371.112,-453.122 371.112,-439.122 371.112,-439.122 371.112,-433.122 377.112,-427.122 383.112,-427.122\"/>\n",
       "<text text-anchor=\"middle\" x=\"399.112\" y=\"-449.922\" font-family=\"Times,serif\" font-size=\"14.00\">outdata</text>\n",
       "</g>\n",
       "<g id=\"clust4\" class=\"cluster\"><title>cluster_/tmp/hello_bands/w0/t0</title>\n",
       "<path fill=\"#e0eeee\" stroke=\"black\" d=\"M174.818,-169.02C174.818,-169.02 370.818,-169.02 370.818,-169.02 376.818,-169.02 382.818,-175.02 382.818,-181.02 382.818,-181.02 382.818,-397.02 382.818,-397.02 382.818,-403.02 376.818,-409.02 370.818,-409.02 370.818,-409.02 174.818,-409.02 174.818,-409.02 168.818,-409.02 162.818,-403.02 162.818,-397.02 162.818,-397.02 162.818,-181.02 162.818,-181.02 162.818,-175.02 168.818,-169.02 174.818,-169.02\"/>\n",
       "<text text-anchor=\"middle\" x=\"272.818\" y=\"-393.82\" font-family=\"Times,serif\" font-size=\"14.00\">t0</text>\n",
       "</g>\n",
       "<g id=\"clust8\" class=\"cluster\"><title>cluster_/tmp/hello_bands/w0/t1</title>\n",
       "<path fill=\"#e0eeee\" stroke=\"black\" d=\"M586.897,-246.995C586.897,-246.995 782.897,-246.995 782.897,-246.995 788.897,-246.995 794.897,-252.995 794.897,-258.995 794.897,-258.995 794.897,-474.995 794.897,-474.995 794.897,-480.995 788.897,-486.995 782.897,-486.995 782.897,-486.995 586.897,-486.995 586.897,-486.995 580.897,-486.995 574.897,-480.995 574.897,-474.995 574.897,-474.995 574.897,-258.995 574.897,-258.995 574.897,-252.995 580.897,-246.995 586.897,-246.995\"/>\n",
       "<text text-anchor=\"middle\" x=\"684.897\" y=\"-471.795\" font-family=\"Times,serif\" font-size=\"14.00\">t1</text>\n",
       "</g>\n",
       "<g id=\"clust12\" class=\"cluster\"><title>cluster_/tmp/hello_bands/w0/tmpdata</title>\n",
       "<path fill=\"#e0eeee\" stroke=\"black\" d=\"M423.054,-536.451C423.054,-536.451 459.054,-536.451 459.054,-536.451 465.054,-536.451 471.054,-542.451 471.054,-548.451 471.054,-548.451 471.054,-562.451 471.054,-562.451 471.054,-568.451 465.054,-574.451 459.054,-574.451 459.054,-574.451 423.054,-574.451 423.054,-574.451 417.054,-574.451 411.054,-568.451 411.054,-562.451 411.054,-562.451 411.054,-548.451 411.054,-548.451 411.054,-542.451 417.054,-536.451 423.054,-536.451\"/>\n",
       "<text text-anchor=\"middle\" x=\"441.054\" y=\"-559.251\" font-family=\"Times,serif\" font-size=\"14.00\">tmpdata</text>\n",
       "</g>\n",
       "<g id=\"clust5\" class=\"cluster\"><title>cluster_/tmp/hello_bands/w0/t0/indata</title>\n",
       "<path fill=\"#e0eeee\" stroke=\"black\" d=\"M29.0505,-202.94C29.0505,-202.94 55.0505,-202.94 55.0505,-202.94 61.0505,-202.94 67.0505,-208.94 67.0505,-214.94 67.0505,-214.94 67.0505,-228.94 67.0505,-228.94 67.0505,-234.94 61.0505,-240.94 55.0505,-240.94 55.0505,-240.94 29.0505,-240.94 29.0505,-240.94 23.0505,-240.94 17.0505,-234.94 17.0505,-228.94 17.0505,-228.94 17.0505,-214.94 17.0505,-214.94 17.0505,-208.94 23.0505,-202.94 29.0505,-202.94\"/>\n",
       "<text text-anchor=\"middle\" x=\"42.0505\" y=\"-225.74\" font-family=\"Times,serif\" font-size=\"14.00\">indata</text>\n",
       "</g>\n",
       "<g id=\"clust6\" class=\"cluster\"><title>cluster_/tmp/hello_bands/w0/t0/outdata</title>\n",
       "<path fill=\"#e0eeee\" stroke=\"black\" d=\"M11.612,-522.129C11.612,-522.129 208.612,-522.129 208.612,-522.129 214.612,-522.129 220.612,-528.129 220.612,-534.129 220.612,-534.129 220.612,-740.129 220.612,-740.129 220.612,-746.129 214.612,-752.129 208.612,-752.129 208.612,-752.129 11.612,-752.129 11.612,-752.129 5.61202,-752.129 -0.387976,-746.129 -0.387976,-740.129 -0.387976,-740.129 -0.387976,-534.129 -0.387976,-534.129 -0.387976,-528.129 5.61202,-522.129 11.612,-522.129\"/>\n",
       "<text text-anchor=\"middle\" x=\"110.112\" y=\"-736.929\" font-family=\"Times,serif\" font-size=\"14.00\">outdata</text>\n",
       "</g>\n",
       "<g id=\"clust7\" class=\"cluster\"><title>cluster_/tmp/hello_bands/w0/t0/tmpdata</title>\n",
       "<path fill=\"#e0eeee\" stroke=\"black\" d=\"M214.87,-22.5979C214.87,-22.5979 250.87,-22.5979 250.87,-22.5979 256.87,-22.5979 262.87,-28.5979 262.87,-34.5979 262.87,-34.5979 262.87,-48.5979 262.87,-48.5979 262.87,-54.5979 256.87,-60.5979 250.87,-60.5979 250.87,-60.5979 214.87,-60.5979 214.87,-60.5979 208.87,-60.5979 202.87,-54.5979 202.87,-48.5979 202.87,-48.5979 202.87,-34.5979 202.87,-34.5979 202.87,-28.5979 208.87,-22.5979 214.87,-22.5979\"/>\n",
       "<text text-anchor=\"middle\" x=\"232.87\" y=\"-45.3979\" font-family=\"Times,serif\" font-size=\"14.00\">tmpdata</text>\n",
       "</g>\n",
       "<g id=\"clust9\" class=\"cluster\"><title>cluster_/tmp/hello_bands/w0/t1/indata</title>\n",
       "<path fill=\"#e0eeee\" stroke=\"black\" d=\"M817.565,-318.512C817.565,-318.512 863.565,-318.512 863.565,-318.512 869.565,-318.512 875.565,-324.512 875.565,-330.512 875.565,-330.512 875.565,-381.512 875.565,-381.512 875.565,-387.512 869.565,-393.512 863.565,-393.512 863.565,-393.512 817.565,-393.512 817.565,-393.512 811.565,-393.512 805.565,-387.512 805.565,-381.512 805.565,-381.512 805.565,-330.512 805.565,-330.512 805.565,-324.512 811.565,-318.512 817.565,-318.512\"/>\n",
       "<text text-anchor=\"middle\" x=\"840.565\" y=\"-378.312\" font-family=\"Times,serif\" font-size=\"14.00\">indata</text>\n",
       "</g>\n",
       "<g id=\"clust10\" class=\"cluster\"><title>cluster_/tmp/hello_bands/w0/t1/outdata</title>\n",
       "<path fill=\"#e0eeee\" stroke=\"black\" d=\"M670.343,0.0844666C670.343,0.0844666 868.343,0.0844666 868.343,0.0844666 874.343,0.0844666 880.343,-5.91553 880.343,-11.9155 880.343,-11.9155 880.343,-217.916 880.343,-217.916 880.343,-223.916 874.343,-229.916 868.343,-229.916 868.343,-229.916 670.343,-229.916 670.343,-229.916 664.343,-229.916 658.343,-223.916 658.343,-217.916 658.343,-217.916 658.343,-11.9155 658.343,-11.9155 658.343,-5.91553 664.343,0.0844666 670.343,0.0844666\"/>\n",
       "<text text-anchor=\"middle\" x=\"769.343\" y=\"-214.716\" font-family=\"Times,serif\" font-size=\"14.00\">outdata</text>\n",
       "</g>\n",
       "<g id=\"clust11\" class=\"cluster\"><title>cluster_/tmp/hello_bands/w0/t1/tmpdata</title>\n",
       "<path fill=\"#e0eeee\" stroke=\"black\" d=\"M828.032,-545.916C828.032,-545.916 864.032,-545.916 864.032,-545.916 870.032,-545.916 876.032,-551.916 876.032,-557.916 876.032,-557.916 876.032,-571.916 876.032,-571.916 876.032,-577.916 870.032,-583.916 864.032,-583.916 864.032,-583.916 828.032,-583.916 828.032,-583.916 822.032,-583.916 816.032,-577.916 816.032,-571.916 816.032,-571.916 816.032,-557.916 816.032,-557.916 816.032,-551.916 822.032,-545.916 828.032,-545.916\"/>\n",
       "<text text-anchor=\"middle\" x=\"846.032\" y=\"-568.716\" font-family=\"Times,serif\" font-size=\"14.00\">tmpdata</text>\n",
       "</g>\n",
       "<!-- /tmp/hello_bands/w0/t0/__startlock__ -->\n",
       "<g id=\"node7\" class=\"node\"><title>/tmp/hello_bands/w0/t0/__startlock__</title>\n",
       "<polygon fill=\"#b2dfee\" stroke=\"#b2dfee\" points=\"271.282,-292.661 271.282,-328.661 330.829,-328.661 330.829,-292.661 271.282,-292.661\"/>\n",
       "<text text-anchor=\"middle\" x=\"301.056\" y=\"-308.261\" font-family=\"Times,serif\" font-size=\"8.00\">__startlock__</text>\n",
       "</g>\n",
       "<!-- /tmp/hello_bands/w0/t0/autoparal.json -->\n",
       "<g id=\"node8\" class=\"node\"><title>/tmp/hello_bands/w0/t0/autoparal.json</title>\n",
       "<polygon fill=\"#b2dfee\" stroke=\"#b2dfee\" points=\"205.507,-242.661 205.507,-278.661 266.605,-278.661 266.605,-242.661 205.507,-242.661\"/>\n",
       "<text text-anchor=\"middle\" x=\"236.056\" y=\"-258.261\" font-family=\"Times,serif\" font-size=\"8.00\">autoparal.json</text>\n",
       "</g>\n",
       "<!-- /tmp/hello_bands/w0/t0/job.sh -->\n",
       "<g id=\"node9\" class=\"node\"><title>/tmp/hello_bands/w0/t0/job.sh</title>\n",
       "<polygon fill=\"#b2dfee\" stroke=\"#b2dfee\" points=\"306.056,-177.661 306.056,-213.661 360.056,-213.661 360.056,-177.661 306.056,-177.661\"/>\n",
       "<text text-anchor=\"middle\" x=\"332.724\" y=\"-193.261\" font-family=\"Times,serif\" font-size=\"8.00\">job.sh</text>\n",
       "</g>\n",
       "<!-- /tmp/hello_bands/w0/t0/run.abi -->\n",
       "<g id=\"node10\" class=\"node\"><title>/tmp/hello_bands/w0/t0/run.abi</title>\n",
       "<polygon fill=\"#b2dfee\" stroke=\"#b2dfee\" points=\"276.056,-227.661 276.056,-263.661 330.056,-263.661 330.056,-227.661 276.056,-227.661\"/>\n",
       "<text text-anchor=\"middle\" x=\"302.775\" y=\"-243.261\" font-family=\"Times,serif\" font-size=\"8.00\">run.abi</text>\n",
       "</g>\n",
       "<!-- /tmp/hello_bands/w0/t0/run.abo -->\n",
       "<g id=\"node11\" class=\"node\"><title>/tmp/hello_bands/w0/t0/run.abo</title>\n",
       "<polygon fill=\"#b2dfee\" stroke=\"#b2dfee\" points=\"206.056,-297.661 206.056,-333.661 260.056,-333.661 260.056,-297.661 206.056,-297.661\"/>\n",
       "<text text-anchor=\"middle\" x=\"232.663\" y=\"-313.261\" font-family=\"Times,serif\" font-size=\"8.00\">run.abo</text>\n",
       "</g>\n",
       "<!-- /tmp/hello_bands/w0/t0/run.err -->\n",
       "<g id=\"node12\" class=\"node\"><title>/tmp/hello_bands/w0/t0/run.err</title>\n",
       "<polygon fill=\"#b2dfee\" stroke=\"#b2dfee\" points=\"171.056,-192.661 171.056,-228.661 225.056,-228.661 225.056,-192.661 171.056,-192.661\"/>\n",
       "<text text-anchor=\"middle\" x=\"197.827\" y=\"-208.261\" font-family=\"Times,serif\" font-size=\"8.00\">run.err</text>\n",
       "</g>\n",
       "<!-- /tmp/hello_bands/w0/t0/run.files -->\n",
       "<g id=\"node13\" class=\"node\"><title>/tmp/hello_bands/w0/t0/run.files</title>\n",
       "<polygon fill=\"#b2dfee\" stroke=\"#b2dfee\" points=\"321.056,-342.661 321.056,-378.661 375.056,-378.661 375.056,-342.661 321.056,-342.661\"/>\n",
       "<text text-anchor=\"middle\" x=\"348.056\" y=\"-358.261\" font-family=\"Times,serif\" font-size=\"8.00\">run.files</text>\n",
       "</g>\n",
       "<!-- /tmp/hello_bands/w0/t0/run.log -->\n",
       "<g id=\"node14\" class=\"node\"><title>/tmp/hello_bands/w0/t0/run.log</title>\n",
       "<polygon fill=\"#b2dfee\" stroke=\"#b2dfee\" points=\"241.056,-177.661 241.056,-213.661 295.056,-213.661 295.056,-177.661 241.056,-177.661\"/>\n",
       "<text text-anchor=\"middle\" x=\"267.999\" y=\"-193.261\" font-family=\"Times,serif\" font-size=\"8.00\">run.log</text>\n",
       "</g>\n",
       "<!-- /tmp/hello_bands/w0/t0/outdata/out_DDB -->\n",
       "<g id=\"node18\" class=\"node\"><title>/tmp/hello_bands/w0/t0/outdata/out_DDB</title>\n",
       "<polygon fill=\"#b2dfee\" stroke=\"#b2dfee\" points=\"107.85,-630.77 107.85,-666.77 161.85,-666.77 161.85,-630.77 107.85,-630.77\"/>\n",
       "<text text-anchor=\"middle\" x=\"134.407\" y=\"-646.37\" font-family=\"Times,serif\" font-size=\"8.00\">out_DDB</text>\n",
       "</g>\n",
       "<!-- /tmp/hello_bands/w0/t0/outdata/out_DEN -->\n",
       "<g id=\"node19\" class=\"node\"><title>/tmp/hello_bands/w0/t0/outdata/out_DEN</title>\n",
       "<polygon fill=\"#b2dfee\" stroke=\"#b2dfee\" points=\"42.8501,-635.77 42.8501,-671.77 96.8501,-671.77 96.8501,-635.77 42.8501,-635.77\"/>\n",
       "<text text-anchor=\"middle\" x=\"69.6822\" y=\"-651.37\" font-family=\"Times,serif\" font-size=\"8.00\">out_DEN</text>\n",
       "</g>\n",
       "<!-- /tmp/hello_bands/w0/t0/outdata/out_EBANDS.agr -->\n",
       "<g id=\"node20\" class=\"node\"><title>/tmp/hello_bands/w0/t0/outdata/out_EBANDS.agr</title>\n",
       "<polygon fill=\"#b2dfee\" stroke=\"#b2dfee\" points=\"37.6294,-580.77 37.6294,-616.77 112.071,-616.77 112.071,-580.77 37.6294,-580.77\"/>\n",
       "<text text-anchor=\"middle\" x=\"74.8501\" y=\"-596.37\" font-family=\"Times,serif\" font-size=\"8.00\">out_EBANDS.agr</text>\n",
       "</g>\n",
       "<!-- /tmp/hello_bands/w0/t0/outdata/out_EIG -->\n",
       "<g id=\"node21\" class=\"node\"><title>/tmp/hello_bands/w0/t0/outdata/out_EIG</title>\n",
       "<polygon fill=\"#b2dfee\" stroke=\"#b2dfee\" points=\"122.85,-555.77 122.85,-591.77 176.85,-591.77 176.85,-555.77 122.85,-555.77\"/>\n",
       "<text text-anchor=\"middle\" x=\"149.626\" y=\"-571.37\" font-family=\"Times,serif\" font-size=\"8.00\">out_EIG</text>\n",
       "</g>\n",
       "<!-- /tmp/hello_bands/w0/t0/outdata/out_EIG.nc -->\n",
       "<g id=\"node22\" class=\"node\"><title>/tmp/hello_bands/w0/t0/outdata/out_EIG.nc</title>\n",
       "<polygon fill=\"#b2dfee\" stroke=\"#b2dfee\" points=\"7.85014,-530.77 7.85014,-566.77 61.8501,-566.77 61.8501,-530.77 7.85014,-530.77\"/>\n",
       "<text text-anchor=\"middle\" x=\"34.4009\" y=\"-546.37\" font-family=\"Times,serif\" font-size=\"8.00\">out_EIG.nc</text>\n",
       "</g>\n",
       "<!-- /tmp/hello_bands/w0/t0/outdata/out_GSR.nc -->\n",
       "<g id=\"node23\" class=\"node\"><title>/tmp/hello_bands/w0/t0/outdata/out_GSR.nc</title>\n",
       "<polygon fill=\"#b2dfee\" stroke=\"#b2dfee\" points=\"157.182,-680.77 157.182,-716.77 212.518,-716.77 212.518,-680.77 157.182,-680.77\"/>\n",
       "<text text-anchor=\"middle\" x=\"184.85\" y=\"-696.37\" font-family=\"Times,serif\" font-size=\"8.00\">out_GSR.nc</text>\n",
       "</g>\n",
       "<!-- /tmp/hello_bands/w0/t0/outdata/out_OUT.nc -->\n",
       "<g id=\"node24\" class=\"node\"><title>/tmp/hello_bands/w0/t0/outdata/out_OUT.nc</title>\n",
       "<polygon fill=\"#b2dfee\" stroke=\"#b2dfee\" points=\"93.0376,-685.77 93.0376,-721.77 148.663,-721.77 148.663,-685.77 93.0376,-685.77\"/>\n",
       "<text text-anchor=\"middle\" x=\"120.85\" y=\"-701.37\" font-family=\"Times,serif\" font-size=\"8.00\">out_OUT.nc</text>\n",
       "</g>\n",
       "<!-- /tmp/hello_bands/w0/t0/outdata/out_WFK -->\n",
       "<g id=\"node25\" class=\"node\"><title>/tmp/hello_bands/w0/t0/outdata/out_WFK</title>\n",
       "<polygon fill=\"#b2dfee\" stroke=\"#b2dfee\" points=\"27.8501,-685.77 27.8501,-721.77 81.8501,-721.77 81.8501,-685.77 27.8501,-685.77\"/>\n",
       "<text text-anchor=\"middle\" x=\"54.8501\" y=\"-701.37\" font-family=\"Times,serif\" font-size=\"8.00\">out_WFK</text>\n",
       "</g>\n",
       "<!-- /tmp/hello_bands/w0/t1/__startlock__ -->\n",
       "<g id=\"node26\" class=\"node\"><title>/tmp/hello_bands/w0/t1/__startlock__</title>\n",
       "<polygon fill=\"#b2dfee\" stroke=\"#b2dfee\" points=\"683.362,-370.636 683.362,-406.636 742.908,-406.636 742.908,-370.636 683.362,-370.636\"/>\n",
       "<text text-anchor=\"middle\" x=\"713.135\" y=\"-386.236\" font-family=\"Times,serif\" font-size=\"8.00\">__startlock__</text>\n",
       "</g>\n",
       "<!-- /tmp/hello_bands/w0/t1/autoparal.json -->\n",
       "<g id=\"node27\" class=\"node\"><title>/tmp/hello_bands/w0/t1/autoparal.json</title>\n",
       "<polygon fill=\"#b2dfee\" stroke=\"#b2dfee\" points=\"617.586,-320.636 617.586,-356.636 678.684,-356.636 678.684,-320.636 617.586,-320.636\"/>\n",
       "<text text-anchor=\"middle\" x=\"648.135\" y=\"-336.236\" font-family=\"Times,serif\" font-size=\"8.00\">autoparal.json</text>\n",
       "</g>\n",
       "<!-- /tmp/hello_bands/w0/t1/job.sh -->\n",
       "<g id=\"node28\" class=\"node\"><title>/tmp/hello_bands/w0/t1/job.sh</title>\n",
       "<polygon fill=\"#b2dfee\" stroke=\"#b2dfee\" points=\"718.135,-255.636 718.135,-291.636 772.135,-291.636 772.135,-255.636 718.135,-255.636\"/>\n",
       "<text text-anchor=\"middle\" x=\"744.803\" y=\"-271.236\" font-family=\"Times,serif\" font-size=\"8.00\">job.sh</text>\n",
       "</g>\n",
       "<!-- /tmp/hello_bands/w0/t1/run.abi -->\n",
       "<g id=\"node29\" class=\"node\"><title>/tmp/hello_bands/w0/t1/run.abi</title>\n",
       "<polygon fill=\"#b2dfee\" stroke=\"#b2dfee\" points=\"688.135,-305.636 688.135,-341.636 742.135,-341.636 742.135,-305.636 688.135,-305.636\"/>\n",
       "<text text-anchor=\"middle\" x=\"714.854\" y=\"-321.236\" font-family=\"Times,serif\" font-size=\"8.00\">run.abi</text>\n",
       "</g>\n",
       "<!-- /tmp/hello_bands/w0/t1/run.abo -->\n",
       "<g id=\"node30\" class=\"node\"><title>/tmp/hello_bands/w0/t1/run.abo</title>\n",
       "<polygon fill=\"#b2dfee\" stroke=\"#b2dfee\" points=\"618.135,-375.636 618.135,-411.636 672.135,-411.636 672.135,-375.636 618.135,-375.636\"/>\n",
       "<text text-anchor=\"middle\" x=\"644.742\" y=\"-391.236\" font-family=\"Times,serif\" font-size=\"8.00\">run.abo</text>\n",
       "</g>\n",
       "<!-- /tmp/hello_bands/w0/t1/run.err -->\n",
       "<g id=\"node31\" class=\"node\"><title>/tmp/hello_bands/w0/t1/run.err</title>\n",
       "<polygon fill=\"#b2dfee\" stroke=\"#b2dfee\" points=\"583.135,-270.636 583.135,-306.636 637.135,-306.636 637.135,-270.636 583.135,-270.636\"/>\n",
       "<text text-anchor=\"middle\" x=\"609.906\" y=\"-286.236\" font-family=\"Times,serif\" font-size=\"8.00\">run.err</text>\n",
       "</g>\n",
       "<!-- /tmp/hello_bands/w0/t1/run.files -->\n",
       "<g id=\"node32\" class=\"node\"><title>/tmp/hello_bands/w0/t1/run.files</title>\n",
       "<polygon fill=\"#b2dfee\" stroke=\"#b2dfee\" points=\"733.135,-420.636 733.135,-456.636 787.135,-456.636 787.135,-420.636 733.135,-420.636\"/>\n",
       "<text text-anchor=\"middle\" x=\"760.135\" y=\"-436.236\" font-family=\"Times,serif\" font-size=\"8.00\">run.files</text>\n",
       "</g>\n",
       "<!-- /tmp/hello_bands/w0/t1/run.log -->\n",
       "<g id=\"node33\" class=\"node\"><title>/tmp/hello_bands/w0/t1/run.log</title>\n",
       "<polygon fill=\"#b2dfee\" stroke=\"#b2dfee\" points=\"653.135,-255.636 653.135,-291.636 707.135,-291.636 707.135,-255.636 653.135,-255.636\"/>\n",
       "<text text-anchor=\"middle\" x=\"680.078\" y=\"-271.236\" font-family=\"Times,serif\" font-size=\"8.00\">run.log</text>\n",
       "</g>\n",
       "<!-- /tmp/hello_bands/w0/t1/indata/in_DEN -->\n",
       "<g id=\"node37\" class=\"node\"><title>/tmp/hello_bands/w0/t1/indata/in_DEN</title>\n",
       "<polygon fill=\"#b2dfee\" stroke=\"#b2dfee\" points=\"813.354,-326.8 813.354,-362.8 867.354,-362.8 867.354,-326.8 813.354,-326.8\"/>\n",
       "<text text-anchor=\"middle\" x=\"840.186\" y=\"-342.4\" font-family=\"Times,serif\" font-size=\"8.00\">in_DEN</text>\n",
       "</g>\n",
       "<!-- ../../../../../../private/tmp/hello_bands/w0/t0/outdata/out_DEN -->\n",
       "<g id=\"node38\" class=\"node\"><title>../../../../../../private/tmp/hello_bands/w0/t0/outdata/out_DEN</title>\n",
       "<ellipse fill=\"#b2dfee\" stroke=\"#b2dfee\" cx=\"1152.88\" cy=\"-287.822\" rx=\"224.562\" ry=\"18\"/>\n",
       "<text text-anchor=\"middle\" x=\"1152.88\" y=\"-283.622\" font-family=\"Times,serif\" font-size=\"14.00\">../../../../../../private/tmp/hello_bands/w0/t0/outdata/out_DEN</text>\n",
       "</g>\n",
       "<!-- /tmp/hello_bands/w0/t1/indata/in_DEN&#45;&gt;../../../../../../private/tmp/hello_bands/w0/t0/outdata/out_DEN -->\n",
       "<g id=\"edge12\" class=\"edge\"><title>/tmp/hello_bands/w0/t1/indata/in_DEN&#45;&gt;../../../../../../private/tmp/hello_bands/w0/t0/outdata/out_DEN</title>\n",
       "<path fill=\"none\" stroke=\"black\" d=\"M867.542,-339.844C908.436,-332.388 987.877,-317.905 1052.57,-306.109\"/>\n",
       "<polygon fill=\"black\" stroke=\"black\" points=\"1053.2,-309.552 1062.41,-304.315 1051.95,-302.666 1053.2,-309.552\"/>\n",
       "</g>\n",
       "<!-- /tmp/hello_bands/w0/t1/outdata/out_DEN -->\n",
       "<g id=\"node39\" class=\"node\"><title>/tmp/hello_bands/w0/t1/outdata/out_DEN</title>\n",
       "<polygon fill=\"#b2dfee\" stroke=\"#b2dfee\" points=\"766.581,-108.556 766.581,-144.556 820.581,-144.556 820.581,-108.556 766.581,-108.556\"/>\n",
       "<text text-anchor=\"middle\" x=\"793.413\" y=\"-124.156\" font-family=\"Times,serif\" font-size=\"8.00\">out_DEN</text>\n",
       "</g>\n",
       "<!-- /tmp/hello_bands/w0/t1/outdata/out_EBANDS.agr -->\n",
       "<g id=\"node40\" class=\"node\"><title>/tmp/hello_bands/w0/t1/outdata/out_EBANDS.agr</title>\n",
       "<polygon fill=\"#b2dfee\" stroke=\"#b2dfee\" points=\"696.361,-58.5564 696.361,-94.5564 770.802,-94.5564 770.802,-58.5564 696.361,-58.5564\"/>\n",
       "<text text-anchor=\"middle\" x=\"733.581\" y=\"-74.1564\" font-family=\"Times,serif\" font-size=\"8.00\">out_EBANDS.agr</text>\n",
       "</g>\n",
       "<!-- /tmp/hello_bands/w0/t1/outdata/out_EIG -->\n",
       "<g id=\"node41\" class=\"node\"><title>/tmp/hello_bands/w0/t1/outdata/out_EIG</title>\n",
       "<polygon fill=\"#b2dfee\" stroke=\"#b2dfee\" points=\"701.581,-113.556 701.581,-149.556 755.581,-149.556 755.581,-113.556 701.581,-113.556\"/>\n",
       "<text text-anchor=\"middle\" x=\"728.357\" y=\"-129.156\" font-family=\"Times,serif\" font-size=\"8.00\">out_EIG</text>\n",
       "</g>\n",
       "<!-- /tmp/hello_bands/w0/t1/outdata/out_EIG.nc -->\n",
       "<g id=\"node42\" class=\"node\"><title>/tmp/hello_bands/w0/t1/outdata/out_EIG.nc</title>\n",
       "<polygon fill=\"#b2dfee\" stroke=\"#b2dfee\" points=\"781.581,-33.5564 781.581,-69.5564 835.581,-69.5564 835.581,-33.5564 781.581,-33.5564\"/>\n",
       "<text text-anchor=\"middle\" x=\"808.132\" y=\"-49.1564\" font-family=\"Times,serif\" font-size=\"8.00\">out_EIG.nc</text>\n",
       "</g>\n",
       "<!-- /tmp/hello_bands/w0/t1/outdata/out_GSR.nc -->\n",
       "<g id=\"node43\" class=\"node\"><title>/tmp/hello_bands/w0/t1/outdata/out_GSR.nc</title>\n",
       "<polygon fill=\"#b2dfee\" stroke=\"#b2dfee\" points=\"665.913,-8.55642 665.913,-44.5564 721.249,-44.5564 721.249,-8.55642 665.913,-8.55642\"/>\n",
       "<text text-anchor=\"middle\" x=\"693.581\" y=\"-24.1564\" font-family=\"Times,serif\" font-size=\"8.00\">out_GSR.nc</text>\n",
       "</g>\n",
       "<!-- /tmp/hello_bands/w0/t1/outdata/out_OUT.nc -->\n",
       "<g id=\"node44\" class=\"node\"><title>/tmp/hello_bands/w0/t1/outdata/out_OUT.nc</title>\n",
       "<polygon fill=\"#b2dfee\" stroke=\"#b2dfee\" points=\"816.769,-158.556 816.769,-194.556 872.394,-194.556 872.394,-158.556 816.769,-158.556\"/>\n",
       "<text text-anchor=\"middle\" x=\"844.581\" y=\"-174.156\" font-family=\"Times,serif\" font-size=\"8.00\">out_OUT.nc</text>\n",
       "</g>\n",
       "<!-- /tmp/hello_bands/w0/t1/outdata/out_WFK -->\n",
       "<g id=\"node45\" class=\"node\"><title>/tmp/hello_bands/w0/t1/outdata/out_WFK</title>\n",
       "<polygon fill=\"#b2dfee\" stroke=\"#b2dfee\" points=\"751.581,-163.556 751.581,-199.556 805.581,-199.556 805.581,-163.556 751.581,-163.556\"/>\n",
       "<text text-anchor=\"middle\" x=\"778.581\" y=\"-179.156\" font-family=\"Times,serif\" font-size=\"8.00\">out_WFK</text>\n",
       "</g>\n",
       "<!-- __0:cluster_/tmp/hello_bands/w0 -->\n",
       "<!-- __1:cluster_/tmp/hello_bands/w0/indata -->\n",
       "<!-- __0:cluster_/tmp/hello_bands/w0&#45;&gt;__1:cluster_/tmp/hello_bands/w0/indata -->\n",
       "<g id=\"edge13\" class=\"edge\"><title>__0:cluster_/tmp/hello_bands/w0&#45;&gt;__1:cluster_/tmp/hello_bands/w0/indata</title>\n",
       "<path fill=\"none\" stroke=\"black\" d=\"M495.059,-474.339C503.694,-482.426 514.535,-492.579 524.452,-501.868\"/>\n",
       "<polygon fill=\"black\" stroke=\"black\" points=\"522.113,-504.473 531.805,-508.755 526.898,-499.364 522.113,-504.473\"/>\n",
       "</g>\n",
       "<!-- __2:cluster_/tmp/hello_bands/w0 -->\n",
       "<!-- __3:cluster_/tmp/hello_bands/w0/outdata -->\n",
       "<!-- __2:cluster_/tmp/hello_bands/w0&#45;&gt;__3:cluster_/tmp/hello_bands/w0/outdata -->\n",
       "<g id=\"edge14\" class=\"edge\"><title>__2:cluster_/tmp/hello_bands/w0&#45;&gt;__3:cluster_/tmp/hello_bands/w0/outdata</title>\n",
       "<path fill=\"none\" stroke=\"black\" d=\"M462.621,-456.432C455.225,-455.231 446.114,-453.752 437.126,-452.293\"/>\n",
       "<polygon fill=\"black\" stroke=\"black\" points=\"437.559,-448.818 427.128,-450.67 436.437,-455.727 437.559,-448.818\"/>\n",
       "</g>\n",
       "<!-- __4:cluster_/tmp/hello_bands/w0 -->\n",
       "<!-- __5:cluster_/tmp/hello_bands/w0/t0 -->\n",
       "<!-- __4:cluster_/tmp/hello_bands/w0&#45;&gt;__5:cluster_/tmp/hello_bands/w0/t0 -->\n",
       "<g id=\"edge15\" class=\"edge\"><title>__4:cluster_/tmp/hello_bands/w0&#45;&gt;__5:cluster_/tmp/hello_bands/w0/t0</title>\n",
       "<path fill=\"none\" stroke=\"black\" d=\"M462.576,-445.706C446.283,-432.253 419.551,-410.18 391.223,-386.789\"/>\n",
       "<polygon fill=\"black\" stroke=\"black\" points=\"393.137,-383.831 383.198,-380.162 388.68,-389.228 393.137,-383.831\"/>\n",
       "</g>\n",
       "<!-- __6:cluster_/tmp/hello_bands/w0 -->\n",
       "<!-- __7:cluster_/tmp/hello_bands/w0/t1 -->\n",
       "<!-- __6:cluster_/tmp/hello_bands/w0&#45;&gt;__7:cluster_/tmp/hello_bands/w0/t1 -->\n",
       "<g id=\"edge16\" class=\"edge\"><title>__6:cluster_/tmp/hello_bands/w0&#45;&gt;__7:cluster_/tmp/hello_bands/w0/t1</title>\n",
       "<path fill=\"none\" stroke=\"black\" d=\"M494.911,-451.824C511.099,-444.596 537.582,-432.771 565.706,-420.214\"/>\n",
       "<polygon fill=\"black\" stroke=\"black\" points=\"567.179,-423.389 574.883,-416.116 564.325,-416.998 567.179,-423.389\"/>\n",
       "</g>\n",
       "<!-- __8:cluster_/tmp/hello_bands/w0 -->\n",
       "<!-- __9:cluster_/tmp/hello_bands/w0/tmpdata -->\n",
       "<!-- __8:cluster_/tmp/hello_bands/w0&#45;&gt;__9:cluster_/tmp/hello_bands/w0/tmpdata -->\n",
       "<g id=\"edge17\" class=\"edge\"><title>__8:cluster_/tmp/hello_bands/w0&#45;&gt;__9:cluster_/tmp/hello_bands/w0/tmpdata</title>\n",
       "<path fill=\"none\" stroke=\"black\" d=\"M471.289,-478.094C465.87,-491.958 458.437,-510.976 452.297,-526.686\"/>\n",
       "<polygon fill=\"black\" stroke=\"black\" points=\"448.863,-525.856 448.483,-536.444 455.383,-528.405 448.863,-525.856\"/>\n",
       "</g>\n",
       "<!-- __10:cluster_/tmp/hello_bands/w0/t0 -->\n",
       "<!-- __11:cluster_/tmp/hello_bands/w0/t0/indata -->\n",
       "<!-- __10:cluster_/tmp/hello_bands/w0/t0&#45;&gt;__11:cluster_/tmp/hello_bands/w0/t0/indata -->\n",
       "<g id=\"edge18\" class=\"edge\"><title>__10:cluster_/tmp/hello_bands/w0/t0&#45;&gt;__11:cluster_/tmp/hello_bands/w0/t0/indata</title>\n",
       "<path fill=\"none\" stroke=\"black\" d=\"M162.503,-256.954C131.413,-247.916 99.8306,-238.736 76.8092,-232.044\"/>\n",
       "<polygon fill=\"black\" stroke=\"black\" points=\"77.7603,-228.676 67.1808,-229.245 75.8063,-235.397 77.7603,-228.676\"/>\n",
       "</g>\n",
       "<!-- __12:cluster_/tmp/hello_bands/w0/t0 -->\n",
       "<!-- __13:cluster_/tmp/hello_bands/w0/t0/outdata -->\n",
       "<!-- __12:cluster_/tmp/hello_bands/w0/t0&#45;&gt;__13:cluster_/tmp/hello_bands/w0/t0/outdata -->\n",
       "<g id=\"edge19\" class=\"edge\"><title>__12:cluster_/tmp/hello_bands/w0/t0&#45;&gt;__13:cluster_/tmp/hello_bands/w0/t0/outdata</title>\n",
       "<path fill=\"none\" stroke=\"black\" d=\"M216.596,-409.307C200.979,-442.719 183.992,-479.062 168.268,-512.705\"/>\n",
       "<polygon fill=\"black\" stroke=\"black\" points=\"164.932,-511.577 163.868,-522.118 171.273,-514.541 164.932,-511.577\"/>\n",
       "</g>\n",
       "<!-- __14:cluster_/tmp/hello_bands/w0/t0 -->\n",
       "<!-- __15:cluster_/tmp/hello_bands/w0/t0/tmpdata -->\n",
       "<!-- __14:cluster_/tmp/hello_bands/w0/t0&#45;&gt;__15:cluster_/tmp/hello_bands/w0/t0/tmpdata -->\n",
       "<g id=\"edge20\" class=\"edge\"><title>__14:cluster_/tmp/hello_bands/w0/t0&#45;&gt;__15:cluster_/tmp/hello_bands/w0/t0/tmpdata</title>\n",
       "<path fill=\"none\" stroke=\"black\" d=\"M253.429,-168.933C247.541,-132.467 241.585,-95.5808 237.611,-70.9627\"/>\n",
       "<polygon fill=\"black\" stroke=\"black\" points=\"241.032,-70.195 235.983,-60.8807 234.122,-71.3108 241.032,-70.195\"/>\n",
       "</g>\n",
       "<!-- __16:cluster_/tmp/hello_bands/w0/t1 -->\n",
       "<!-- __17:cluster_/tmp/hello_bands/w0/t1/indata -->\n",
       "<!-- __16:cluster_/tmp/hello_bands/w0/t1&#45;&gt;__17:cluster_/tmp/hello_bands/w0/t1/indata -->\n",
       "<g id=\"edge21\" class=\"edge\"><title>__16:cluster_/tmp/hello_bands/w0/t1&#45;&gt;__17:cluster_/tmp/hello_bands/w0/t1/indata</title>\n",
       "<path fill=\"none\" stroke=\"black\" d=\"M795.121,-359.218C795.233,-359.21 795.345,-359.202 795.457,-359.194\"/>\n",
       "<polygon fill=\"black\" stroke=\"black\" points=\"795.798,-362.679 805.527,-358.484 795.305,-355.697 795.798,-362.679\"/>\n",
       "</g>\n",
       "<!-- __18:cluster_/tmp/hello_bands/w0/t1 -->\n",
       "<!-- __19:cluster_/tmp/hello_bands/w0/t1/outdata -->\n",
       "<!-- __18:cluster_/tmp/hello_bands/w0/t1&#45;&gt;__19:cluster_/tmp/hello_bands/w0/t1/outdata -->\n",
       "<g id=\"edge22\" class=\"edge\"><title>__18:cluster_/tmp/hello_bands/w0/t1&#45;&gt;__19:cluster_/tmp/hello_bands/w0/t1/outdata</title>\n",
       "<path fill=\"none\" stroke=\"black\" d=\"M725.141,-246.862C725.93,-244.508 726.719,-242.151 727.509,-239.795\"/>\n",
       "<polygon fill=\"black\" stroke=\"black\" points=\"730.892,-240.714 730.75,-230.12 724.254,-238.491 730.892,-240.714\"/>\n",
       "</g>\n",
       "<!-- __20:cluster_/tmp/hello_bands/w0/t1 -->\n",
       "<!-- __21:cluster_/tmp/hello_bands/w0/t1/tmpdata -->\n",
       "<!-- __20:cluster_/tmp/hello_bands/w0/t1&#45;&gt;__21:cluster_/tmp/hello_bands/w0/t1/tmpdata -->\n",
       "<g id=\"edge23\" class=\"edge\"><title>__20:cluster_/tmp/hello_bands/w0/t1&#45;&gt;__21:cluster_/tmp/hello_bands/w0/t1/tmpdata</title>\n",
       "<path fill=\"none\" stroke=\"black\" d=\"M782.809,-487.261C798.2,-506.164 812.703,-523.979 823.927,-537.765\"/>\n",
       "<polygon fill=\"black\" stroke=\"black\" points=\"821.443,-540.257 830.471,-545.802 826.871,-535.838 821.443,-540.257\"/>\n",
       "</g>\n",
       "</g>\n",
       "</svg>\n"
      ],
      "text/plain": [
       "<graphviz.dot.Digraph at 0x181e04d7f0>"
      ]
     },
     "execution_count": 15,
     "metadata": {},
     "output_type": "execute_result"
    }
   ],
   "source": [
    "flow[0].get_graphviz_dirtree()"
   ]
  },
  {
   "cell_type": "markdown",
   "metadata": {},
   "source": [
    "or list only the files with a given extension:"
   ]
  },
  {
   "cell_type": "code",
   "execution_count": 16,
   "metadata": {},
   "outputs": [
    {
     "name": "stdout",
     "output_type": "stream",
     "text": [
      "Found 2 files with extension `GSR.nc` produced by the flow\n",
      "File                                                       Size [Mb]    Node_ID  Node Class\n",
      "-------------------------------------------------------  -----------  ---------  ------------\n",
      "../../../../../tmp/hello_bands/w0/t0/outdata/out_GSR.nc         0.01     345672  ScfTask\n",
      "../../../../../tmp/hello_bands/w0/t1/outdata/out_GSR.nc         0.01     345673  NscfTask\n"
     ]
    }
   ],
   "source": [
    "flow.listext(\"GSR.nc\")"
   ]
  },
  {
   "cell_type": "markdown",
   "metadata": {},
   "source": [
    "The nice thing about the flow is that the object knows how to locate and interpret the \n",
    "different input/ouput files produced by Abinit. \n",
    "As a consequence, it is very easy to expose the AbiPy post-processing tools with a easy-to-use API\n",
    "in which only tasks/works/flow plus a very few input arguments are required.\n",
    "\n",
    "Let's call, for instance, the inspect method to plot the self-consistent cycles:"
   ]
  },
  {
   "cell_type": "code",
   "execution_count": 17,
   "metadata": {},
   "outputs": [
    {
     "data": {
      "image/png": "[encoded data removed]",
      "text/plain": [
       "<Figure size 432x288 with 4 Axes>"
      ]
     },
     "metadata": {},
     "output_type": "display_data"
    },
    {
     "name": "stdout",
     "output_type": "stream",
     "text": [
      "\u001b[34mTask <NscfTask, node_id=345673, workdir=../../../../../tmp/hello_bands/w0/t1> does not provide an inspect method\u001b[0m\n"
     ]
    }
   ],
   "source": [
    "flow.inspect(tight_layout=True);"
   ]
  },
  {
   "cell_type": "markdown",
   "metadata": {},
   "source": [
    "In the other AbiPy tutorials, we have explained how to use abiopen to create \n",
    "python objects from netcdf files. \n",
    "Well, the same code can be reused with the flow. \n",
    "It is just a matter of replacing\n",
    "\n",
    "```python\n",
    "with abiopen(filepath) as gsr:\n",
    "```\n",
    "\n",
    "with\n",
    "\n",
    "```python\n",
    "with task.open_gsr() as gsr:\n",
    "```\n",
    "\n",
    "Note that there is no need to specify the file path when you use the task-based API, because \n",
    "the `Task` knows how to locate its `GSR.nc` output.\n",
    "Let's do some practice..."
   ]
  },
  {
   "cell_type": "code",
   "execution_count": 18,
   "metadata": {},
   "outputs": [
    {
     "data": {
      "image/png": "[encoded data removed]",
      "text/plain": [
       "<Figure size 432x288 with 2 Axes>"
      ]
     },
     "metadata": {},
     "output_type": "display_data"
    }
   ],
   "source": [
    "with flow[0][0].open_gsr() as gsr:\n",
    "    ebands_kmesh = gsr.ebands\n",
    "    \n",
    "with flow[0][1].open_gsr() as gsr:\n",
    "    gsr.ebands.plot_with_edos(ebands_kmesh.get_edos(), with_gaps=True);"
   ]
  },
  {
   "cell_type": "markdown",
   "metadata": {},
   "source": [
    "## More on Works, Tasks and dependencies \n",
    "[[back to top](#top)]\n",
    "\n",
    "In the previous example, we have constructed a workflow for band structure calculations\n",
    "starting from two input files and the magic line\n",
    "\n",
    "```python\n",
    "flow = flowtk.bandstructure_flow(workdir, scf_input, nscf_input)\n",
    "```\n",
    "\n",
    "Now it is the right time to explain in more details the syntax and the API used in AbiPy \n",
    "to build a flow with dependencies.\n",
    "Let's try to build a `Flow` from scratch and use graphviz after each step to show what's happening.\n",
    "We start with an empty flow in the `hello_flow` directory:"
   ]
  },
  {
   "cell_type": "code",
   "execution_count": 19,
   "metadata": {},
   "outputs": [
    {
     "data": {
      "image/svg+xml": [
       "<?xml version=\"1.0\" encoding=\"UTF-8\" standalone=\"no\"?>\n",
       "<!DOCTYPE svg PUBLIC \"-//W3C//DTD SVG 1.1//EN\"\n",
       " \"http://www.w3.org/Graphics/SVG/1.1/DTD/svg11.dtd\">\n",
       "<!-- Generated by graphviz version 2.38.0 (20140413.2041)\n",
       " -->\n",
       "<!-- Title: flow Pages: 1 -->\n",
       "<svg width=\"273pt\" height=\"66pt\"\n",
       " viewBox=\"0.00 0.00 272.99 66.00\" xmlns=\"http://www.w3.org/2000/svg\" xmlns:xlink=\"http://www.w3.org/1999/xlink\">\n",
       "<g id=\"graph0\" class=\"graph\" transform=\"scale(1 1) rotate(0) translate(12.4927 40)\">\n",
       "<title>flow</title>\n",
       "<polygon fill=\"white\" stroke=\"none\" points=\"-12.4927,26 -12.4927,-40 260.493,-40 260.493,26 -12.4927,26\"/>\n",
       "<text text-anchor=\"start\" x=\"-0.492676\" y=\"15.2\" font-family=\"Times,serif\" font-size=\"14.00\">Flow, node_id=345674, workdir=hello_flow</text>\n",
       "</g>\n",
       "</svg>\n"
      ],
      "text/plain": [
       "<graphviz.dot.Digraph at 0x181e643d68>"
      ]
     },
     "execution_count": 19,
     "metadata": {},
     "output_type": "execute_result"
    }
   ],
   "source": [
    "hello_flow = flowtk.Flow(workdir=\"hello_flow\")\n",
    "hello_flow.get_graphviz()"
   ]
  },
  {
   "cell_type": "markdown",
   "metadata": {},
   "source": [
    "Now we add a new `Task` by just passing an `AbinitInput` for SCF calculations:"
   ]
  },
  {
   "cell_type": "code",
   "execution_count": 20,
   "metadata": {},
   "outputs": [
    {
     "data": {
      "image/svg+xml": [
       "<?xml version=\"1.0\" encoding=\"UTF-8\" standalone=\"no\"?>\n",
       "<!DOCTYPE svg PUBLIC \"-//W3C//DTD SVG 1.1//EN\"\n",
       " \"http://www.w3.org/Graphics/SVG/1.1/DTD/svg11.dtd\">\n",
       "<!-- Generated by graphviz version 2.38.0 (20140413.2041)\n",
       " -->\n",
       "<!-- Title: flow Pages: 1 -->\n",
       "<svg width=\"273pt\" height=\"104pt\"\n",
       " viewBox=\"0.00 0.00 272.99 104.00\" xmlns=\"http://www.w3.org/2000/svg\" xmlns:xlink=\"http://www.w3.org/1999/xlink\">\n",
       "<g id=\"graph0\" class=\"graph\" transform=\"scale(1 1) rotate(0) translate(12.4927 78)\">\n",
       "<title>flow</title>\n",
       "<polygon fill=\"white\" stroke=\"none\" points=\"-12.4927,26 -12.4927,-78 260.493,-78 260.493,26 -12.4927,26\"/>\n",
       "<text text-anchor=\"start\" x=\"-0.492676\" y=\"15.2\" font-family=\"Times,serif\" font-size=\"14.00\">Flow, node_id=345674, workdir=hello_flow</text>\n",
       "<g id=\"clust1\" class=\"cluster\"><title>clusterw0</title>\n",
       "<path fill=\"#e0eeee\" stroke=\"black\" d=\"M98.2381,0.359112C98.2381,0.359112 150.238,0.359112 150.238,0.359112 156.238,0.359112 162.238,-5.64089 162.238,-11.6409 162.238,-11.6409 162.238,-61.6409 162.238,-61.6409 162.238,-67.6409 156.238,-73.6409 150.238,-73.6409 150.238,-73.6409 98.2381,-73.6409 98.2381,-73.6409 92.2381,-73.6409 86.2381,-67.6409 86.2381,-61.6409 86.2381,-61.6409 86.2381,-11.6409 86.2381,-11.6409 86.2381,-5.64089 92.2381,0.359112 98.2381,0.359112\"/>\n",
       "<text text-anchor=\"middle\" x=\"124.238\" y=\"-58.4409\" font-family=\"Times,serif\" font-size=\"14.00\">Work (w0)</text>\n",
       "</g>\n",
       "<!-- w0_t0 -->\n",
       "<g id=\"node1\" class=\"node\"><title>w0_t0</title>\n",
       "<ellipse fill=\"#ff0000\" stroke=\"#ff0000\" cx=\"124.476\" cy=\"-25.2818\" rx=\"27.8878\" ry=\"18\"/>\n",
       "<text text-anchor=\"middle\" x=\"124.476\" y=\"-26.8818\" font-family=\"Times,serif\" font-size=\"8.00\">w0_t0</text>\n",
       "<text text-anchor=\"middle\" x=\"124.476\" y=\"-18.8818\" font-family=\"Times,serif\" font-size=\"8.00\">ScfTask</text>\n",
       "</g>\n",
       "</g>\n",
       "</svg>\n"
      ],
      "text/plain": [
       "<graphviz.dot.Digraph at 0x181e5a5198>"
      ]
     },
     "execution_count": 20,
     "metadata": {},
     "output_type": "execute_result"
    }
   ],
   "source": [
    "hello_flow.register_scf_task(scf_input, append=True)\n",
    "hello_flow.get_graphviz()"
   ]
  },
  {
   "cell_type": "markdown",
   "metadata": {},
   "source": [
    "Now the tricky part. \n",
    "We want to register a NSCF calculation that should depend on the `scf_task` in `w0_t0` via the DEN file.\n",
    "We can use the same API but we **must** specify the dependency between the two steps with the \n",
    "```{scf_task: \"DEN\"}``` dictionary:"
   ]
  },
  {
   "cell_type": "code",
   "execution_count": 21,
   "metadata": {},
   "outputs": [
    {
     "data": {
      "image/svg+xml": [
       "<?xml version=\"1.0\" encoding=\"UTF-8\" standalone=\"no\"?>\n",
       "<!DOCTYPE svg PUBLIC \"-//W3C//DTD SVG 1.1//EN\"\n",
       " \"http://www.w3.org/Graphics/SVG/1.1/DTD/svg11.dtd\">\n",
       "<!-- Generated by graphviz version 2.38.0 (20140413.2041)\n",
       " -->\n",
       "<!-- Title: flow Pages: 1 -->\n",
       "<svg width=\"273pt\" height=\"120pt\"\n",
       " viewBox=\"0.00 0.00 272.99 120.00\" xmlns=\"http://www.w3.org/2000/svg\" xmlns:xlink=\"http://www.w3.org/1999/xlink\">\n",
       "<g id=\"graph0\" class=\"graph\" transform=\"scale(1 1) rotate(0) translate(4 116)\">\n",
       "<title>flow</title>\n",
       "<polygon fill=\"white\" stroke=\"none\" points=\"-4,4 -4,-116 268.985,-116 268.985,4 -4,4\"/>\n",
       "<text text-anchor=\"start\" x=\"8\" y=\"-6.8\" font-family=\"Times,serif\" font-size=\"14.00\">Flow, node_id=345674, workdir=hello_flow</text>\n",
       "<g id=\"clust1\" class=\"cluster\"><title>clusterw0</title>\n",
       "<path fill=\"#e0eeee\" stroke=\"black\" d=\"M45.2393,-30C45.2393,-30 219.746,-30 219.746,-30 225.746,-30 231.746,-36 231.746,-42 231.746,-42 231.746,-92 231.746,-92 231.746,-98 225.746,-104 219.746,-104 219.746,-104 45.2393,-104 45.2393,-104 39.2393,-104 33.2393,-98 33.2393,-92 33.2393,-92 33.2393,-42 33.2393,-42 33.2393,-36 39.2393,-30 45.2393,-30\"/>\n",
       "<text text-anchor=\"middle\" x=\"132.493\" y=\"-88.8\" font-family=\"Times,serif\" font-size=\"14.00\">Work (w0)</text>\n",
       "</g>\n",
       "<!-- w0_t0 -->\n",
       "<g id=\"node1\" class=\"node\"><title>w0_t0</title>\n",
       "<ellipse fill=\"#ff0000\" stroke=\"#ff0000\" cx=\"69.1832\" cy=\"-56\" rx=\"27.8878\" ry=\"18\"/>\n",
       "<text text-anchor=\"middle\" x=\"69.1832\" y=\"-57.6\" font-family=\"Times,serif\" font-size=\"8.00\">w0_t0</text>\n",
       "<text text-anchor=\"middle\" x=\"69.1832\" y=\"-49.6\" font-family=\"Times,serif\" font-size=\"8.00\">ScfTask</text>\n",
       "</g>\n",
       "<!-- w0_t1 -->\n",
       "<g id=\"node2\" class=\"node\"><title>w0_t1</title>\n",
       "<ellipse fill=\"#c85064\" stroke=\"#c85064\" cx=\"192.823\" cy=\"-56\" rx=\"30.8467\" ry=\"18\"/>\n",
       "<text text-anchor=\"middle\" x=\"192.823\" y=\"-57.6\" font-family=\"Times,serif\" font-size=\"8.00\">w0_t1</text>\n",
       "<text text-anchor=\"middle\" x=\"192.823\" y=\"-49.6\" font-family=\"Times,serif\" font-size=\"8.00\">NscfTask</text>\n",
       "</g>\n",
       "<!-- w0_t0&#45;&gt;w0_t1 -->\n",
       "<g id=\"edge1\" class=\"edge\"><title>w0_t0&#45;&gt;w0_t1</title>\n",
       "<path fill=\"none\" stroke=\"#ff0000\" d=\"M97.179,-56C113.093,-56 133.538,-56 151.351,-56\"/>\n",
       "<polygon fill=\"#ff0000\" stroke=\"#ff0000\" points=\"151.481,-59.5001 161.481,-56 151.481,-52.5001 151.481,-59.5001\"/>\n",
       "<text text-anchor=\"middle\" x=\"129.513\" y=\"-58.8\" font-family=\"Times,serif\" font-size=\"14.00\">DEN</text>\n",
       "</g>\n",
       "</g>\n",
       "</svg>\n"
      ],
      "text/plain": [
       "<graphviz.dot.Digraph at 0x181e481ac8>"
      ]
     },
     "execution_count": 21,
     "metadata": {},
     "output_type": "execute_result"
    }
   ],
   "source": [
    "hello_flow.register_nscf_task(nscf_input, deps={hello_flow[0][0]: \"DEN\"}, append=True)\n",
    "hello_flow.get_graphviz(engine=\"dot\")"
   ]
  },
  {
   "cell_type": "markdown",
   "metadata": {},
   "source": [
    "Excellent, we managed to build our first AbiPy flow with inter-dependent tasks in just six lines \n",
    "of code (including the three calls to graphviz).\n",
    "Now let's assume we want to add a second Nscf calculation (`NscTask`) in which we change one of the input parameters\n",
    "e.g. the number of bands and that, for some reason, we really want to re-use the output WFK file \n",
    "produced by `w0_t1` to initialize the eigenvalue solver (obviously we still need a DEN file).\n",
    "How can we express this with AbiPy? \n",
    "\n",
    "Well, the syntax for the new deps, it's just:\n",
    "\n",
    "```python\n",
    "deps = {hello_flow[0][0]: \"DEN\", hello_flow[0][1]: \"WFK\"}\n",
    "```\n",
    "\n",
    "but we should also change the input variable nband in the `nscf_input` before creating\n",
    "the new `NscTask` (remember that building a `Task` requires an `AbinitInput` object \n",
    "and a list of dependencies, if any).\n",
    "\n",
    "Now there are two ways to increase nband: the **wrong** way and the **correct** one!\n",
    "Let's start from the *wrong* way because it's always useful to learn from our mistakes.\n",
    "Let's print some values just for the record:"
   ]
  },
  {
   "cell_type": "code",
   "execution_count": 22,
   "metadata": {},
   "outputs": [
    {
     "name": "stdout",
     "output_type": "stream",
     "text": [
      "nband in the first NscfTask: 8\n"
     ]
    }
   ],
   "source": [
    "t1 = flow[0][1]\n",
    "print(\"nband in the first NscfTask:\", t1.input[\"nband\"])"
   ]
  },
  {
   "cell_type": "markdown",
   "metadata": {},
   "source": [
    "Now let's use the \"recipe\" recommended to us by the FORTRAN guru of our group: \n",
    "\n",
    "<img src=\"https://github.com/abinit/abipy_assets/blob/master/Dont-Try-This-At-Home.jpg?raw=true\" alt=\"\">"
   ]
  },
  {
   "cell_type": "code",
   "execution_count": 23,
   "metadata": {},
   "outputs": [
    {
     "name": "stdout",
     "output_type": "stream",
     "text": [
      "nband in the first NscfTask: 1000\n",
      "nband in the new input: 1000\n"
     ]
    }
   ],
   "source": [
    "# Just copy the previous input and change nband, it's super-easy, the FORTRAN guru said!\n",
    "new_input = t1.input\n",
    "new_input[\"nband\"] = 1000\n",
    "\n",
    "print(\"nband in the first NscfTask:\", t1.input[\"nband\"])\n",
    "print(\"nband in the new input:\", new_input[\"nband\"])"
   ]
  },
  {
   "cell_type": "markdown",
   "metadata": {},
   "source": [
    "Tada! Thanks to the trick of our beloved FORTRAN guru, we ended up with *two* NscfTaks\n",
    "with the **same number** of bands (1000!). Why?\n",
    "\n",
    "Because `AbinitInput` is implemented internally with a dictionary, python dictionaries are **mutable**\n",
    "and python variables are essentially references (they do not store data, actually they store the address of the data)."
   ]
  },
  {
   "cell_type": "code",
   "execution_count": 24,
   "metadata": {},
   "outputs": [
    {
     "name": "stdout",
     "output_type": "stream",
     "text": [
      "a dict: {'foo': 'bar', 'hello': 'world'}\n",
      "b dict: {'foo': 'bar', 'hello': 'world'}\n",
      "c dict: {'foo': 'bar'}\n"
     ]
    }
   ],
   "source": [
    "a = {\"foo\": \"bar\"}\n",
    "b = a \n",
    "c = a.copy()\n",
    "a[\"hello\"] = \"world\"\n",
    "print(\"a dict:\", a)\n",
    "print(\"b dict:\", b)\n",
    "print(\"c dict:\", c)"
   ]
  },
  {
   "cell_type": "markdown",
   "metadata": {},
   "source": [
    "For a more techical explanation see [here](http://docs.python-guide.org/en/latest/writing/gotchas/)\n",
    "\n",
    "To avoid this mistake, we need to *copy* the object before changing it"
   ]
  },
  {
   "cell_type": "code",
   "execution_count": 25,
   "metadata": {},
   "outputs": [
    {
     "name": "stdout",
     "output_type": "stream",
     "text": [
      "nband in the first NscfTask: 8\n",
      "nband in the new input: 1000\n"
     ]
    }
   ],
   "source": [
    "t1.input[\"nband\"] = 8 # back to the old value\n",
    "\n",
    "new_input = t1.input.new_with_vars(nband=1000)  # Copy and change nband\n",
    "\n",
    "print(\"nband in the first NscfTask:\", t1.input[\"nband\"])\n",
    "print(\"nband in the new input:\", new_input[\"nband\"])"
   ]
  },
  {
   "cell_type": "markdown",
   "metadata": {},
   "source": [
    "Now we can finally add the second `NscfTask` with 1000 bands:"
   ]
  },
  {
   "cell_type": "code",
   "execution_count": 26,
   "metadata": {},
   "outputs": [
    {
     "data": {
      "image/svg+xml": [
       "<?xml version=\"1.0\" encoding=\"UTF-8\" standalone=\"no\"?>\n",
       "<!DOCTYPE svg PUBLIC \"-//W3C//DTD SVG 1.1//EN\"\n",
       " \"http://www.w3.org/Graphics/SVG/1.1/DTD/svg11.dtd\">\n",
       "<!-- Generated by graphviz version 2.38.0 (20140413.2041)\n",
       " -->\n",
       "<!-- Title: flow Pages: 1 -->\n",
       "<svg width=\"351pt\" height=\"170pt\"\n",
       " viewBox=\"0.00 0.00 351.46 170.00\" xmlns=\"http://www.w3.org/2000/svg\" xmlns:xlink=\"http://www.w3.org/1999/xlink\">\n",
       "<g id=\"graph0\" class=\"graph\" transform=\"scale(1 1) rotate(0) translate(4 166)\">\n",
       "<title>flow</title>\n",
       "<polygon fill=\"white\" stroke=\"none\" points=\"-4,4 -4,-166 347.464,-166 347.464,4 -4,4\"/>\n",
       "<text text-anchor=\"start\" x=\"47.2391\" y=\"-6.8\" font-family=\"Times,serif\" font-size=\"14.00\">Flow, node_id=345674, workdir=hello_flow</text>\n",
       "<g id=\"clust1\" class=\"cluster\"><title>clusterw0</title>\n",
       "<path fill=\"#e0eeee\" stroke=\"black\" d=\"M20,-30C20,-30 323.464,-30 323.464,-30 329.464,-30 335.464,-36 335.464,-42 335.464,-42 335.464,-142 335.464,-142 335.464,-148 329.464,-154 323.464,-154 323.464,-154 20,-154 20,-154 14,-154 8,-148 8,-142 8,-142 8,-42 8,-42 8,-36 14,-30 20,-30\"/>\n",
       "<text text-anchor=\"middle\" x=\"171.732\" y=\"-138.8\" font-family=\"Times,serif\" font-size=\"14.00\">Work (w0)</text>\n",
       "</g>\n",
       "<!-- w0_t0 -->\n",
       "<g id=\"node1\" class=\"node\"><title>w0_t0</title>\n",
       "<ellipse fill=\"#ff0000\" stroke=\"#ff0000\" cx=\"43.9439\" cy=\"-81\" rx=\"27.8878\" ry=\"18\"/>\n",
       "<text text-anchor=\"middle\" x=\"43.9439\" y=\"-82.6\" font-family=\"Times,serif\" font-size=\"8.00\">w0_t0</text>\n",
       "<text text-anchor=\"middle\" x=\"43.9439\" y=\"-74.6\" font-family=\"Times,serif\" font-size=\"8.00\">ScfTask</text>\n",
       "</g>\n",
       "<!-- w0_t1 -->\n",
       "<g id=\"node2\" class=\"node\"><title>w0_t1</title>\n",
       "<ellipse fill=\"#c85064\" stroke=\"#c85064\" cx=\"167.583\" cy=\"-56\" rx=\"30.8467\" ry=\"18\"/>\n",
       "<text text-anchor=\"middle\" x=\"167.583\" y=\"-57.6\" font-family=\"Times,serif\" font-size=\"8.00\">w0_t1</text>\n",
       "<text text-anchor=\"middle\" x=\"167.583\" y=\"-49.6\" font-family=\"Times,serif\" font-size=\"8.00\">NscfTask</text>\n",
       "</g>\n",
       "<!-- w0_t0&#45;&gt;w0_t1 -->\n",
       "<g id=\"edge1\" class=\"edge\"><title>w0_t0&#45;&gt;w0_t1</title>\n",
       "<path fill=\"none\" stroke=\"#ff0000\" d=\"M70.7405,-75.6981C87.4516,-72.2636 109.514,-67.7292 128.258,-63.8768\"/>\n",
       "<polygon fill=\"#ff0000\" stroke=\"#ff0000\" points=\"129.185,-67.2596 138.275,-61.818 127.775,-60.4029 129.185,-67.2596\"/>\n",
       "<text text-anchor=\"middle\" x=\"104.274\" y=\"-74.8\" font-family=\"Times,serif\" font-size=\"14.00\">DEN</text>\n",
       "</g>\n",
       "<!-- w0_t2 -->\n",
       "<g id=\"node3\" class=\"node\"><title>w0_t2</title>\n",
       "<ellipse fill=\"#c85064\" stroke=\"#c85064\" cx=\"296.54\" cy=\"-73\" rx=\"30.8467\" ry=\"18\"/>\n",
       "<text text-anchor=\"middle\" x=\"296.54\" y=\"-74.6\" font-family=\"Times,serif\" font-size=\"8.00\">w0_t2</text>\n",
       "<text text-anchor=\"middle\" x=\"296.54\" y=\"-66.6\" font-family=\"Times,serif\" font-size=\"8.00\">NscfTask</text>\n",
       "</g>\n",
       "<!-- w0_t0&#45;&gt;w0_t2 -->\n",
       "<g id=\"edge2\" class=\"edge\"><title>w0_t0&#45;&gt;w0_t2</title>\n",
       "<path fill=\"none\" stroke=\"#ff0000\" d=\"M70.4808,-87.022C76.788,-88.2575 83.5527,-89.3719 89.8877,-90 128.691,-93.847 177.046,-95.0929 247.617,-85 251.271,-84.4775 255.05,-83.7916 258.81,-83.0119\"/>\n",
       "<polygon fill=\"#ff0000\" stroke=\"#ff0000\" points=\"259.643,-86.4118 268.615,-80.7773 258.088,-79.5868 259.643,-86.4118\"/>\n",
       "<text text-anchor=\"middle\" x=\"167.583\" y=\"-94.8\" font-family=\"Times,serif\" font-size=\"14.00\">DEN</text>\n",
       "</g>\n",
       "<!-- w0_t1&#45;&gt;w0_t2 -->\n",
       "<g id=\"edge3\" class=\"edge\"><title>w0_t1&#45;&gt;w0_t2</title>\n",
       "<path fill=\"none\" stroke=\"#c85064\" d=\"M198.029,-59.9429C215.334,-62.2601 237.431,-65.219 256.213,-67.7339\"/>\n",
       "<polygon fill=\"#c85064\" stroke=\"#c85064\" points=\"255.878,-71.2203 266.254,-69.0785 256.807,-64.2822 255.878,-71.2203\"/>\n",
       "<text text-anchor=\"middle\" x=\"232.062\" y=\"-69.8\" font-family=\"Times,serif\" font-size=\"14.00\">WFK</text>\n",
       "</g>\n",
       "</g>\n",
       "</svg>\n"
      ],
      "text/plain": [
       "<graphviz.dot.Digraph at 0x181e332eb8>"
      ]
     },
     "execution_count": 26,
     "metadata": {},
     "output_type": "execute_result"
    }
   ],
   "source": [
    "hello_flow.register_nscf_task(new_input, deps={hello_flow[0][0]: \"DEN\", hello_flow[0][1]: \"WFK\"}, append=True)\n",
    "hello_flow.get_graphviz(engine=\"dot\")"
   ]
  },
  {
   "cell_type": "code",
   "execution_count": 27,
   "metadata": {},
   "outputs": [
    {
     "name": "stdout",
     "output_type": "stream",
     "text": [
      "[8, 8, 1000]\n"
     ]
    }
   ],
   "source": [
    "print([task.input[\"nband\"] for task in hello_flow.iflat_tasks()])"
   ]
  },
  {
   "cell_type": "markdown",
   "metadata": {},
   "source": [
    "Note that AbiPy dependencies can also be fulfilled with external files that are already available\n",
    "when the flow is constructed. There is no change in the syntax we've used so far.\n",
    "It is just a matter of using the absolute path to the DEN file as keyword of the dictionary instead of a `Task`.\n",
    "Let's start with a new `Flow` to avoid confusion and create a `NscfTask` that will start from a pre-computed `DEN` file."
   ]
  },
  {
   "cell_type": "code",
   "execution_count": 28,
   "metadata": {},
   "outputs": [
    {
     "data": {
      "image/svg+xml": [
       "<?xml version=\"1.0\" encoding=\"UTF-8\" standalone=\"no\"?>\n",
       "<!DOCTYPE svg PUBLIC \"-//W3C//DTD SVG 1.1//EN\"\n",
       " \"http://www.w3.org/Graphics/SVG/1.1/DTD/svg11.dtd\">\n",
       "<!-- Generated by graphviz version 2.38.0 (20140413.2041)\n",
       " -->\n",
       "<!-- Title: flow Pages: 1 -->\n",
       "<svg width=\"435pt\" height=\"120pt\"\n",
       " viewBox=\"0.00 0.00 434.76 120.00\" xmlns=\"http://www.w3.org/2000/svg\" xmlns:xlink=\"http://www.w3.org/1999/xlink\">\n",
       "<g id=\"graph0\" class=\"graph\" transform=\"scale(1 1) rotate(0) translate(4 116)\">\n",
       "<title>flow</title>\n",
       "<polygon fill=\"white\" stroke=\"none\" points=\"-4,4 -4,-116 430.759,-116 430.759,4 -4,4\"/>\n",
       "<text text-anchor=\"start\" x=\"77.9935\" y=\"-6.8\" font-family=\"Times,serif\" font-size=\"14.00\">Flow, node_id=345679, workdir=flow_with_file</text>\n",
       "<g id=\"clust1\" class=\"cluster\"><title>clusterw0</title>\n",
       "<path fill=\"#e0eeee\" stroke=\"black\" d=\"M352.912,-30C352.912,-30 406.759,-30 406.759,-30 412.759,-30 418.759,-36 418.759,-42 418.759,-42 418.759,-92 418.759,-92 418.759,-98 412.759,-104 406.759,-104 406.759,-104 352.912,-104 352.912,-104 346.912,-104 340.912,-98 340.912,-92 340.912,-92 340.912,-42 340.912,-42 340.912,-36 346.912,-30 352.912,-30\"/>\n",
       "<text text-anchor=\"middle\" x=\"379.835\" y=\"-88.8\" font-family=\"Times,serif\" font-size=\"14.00\">Work (w0)</text>\n",
       "</g>\n",
       "<!-- w0_t0 -->\n",
       "<g id=\"node1\" class=\"node\"><title>w0_t0</title>\n",
       "<ellipse fill=\"#c85064\" stroke=\"#c85064\" cx=\"379.835\" cy=\"-56\" rx=\"30.8467\" ry=\"18\"/>\n",
       "<text text-anchor=\"middle\" x=\"379.835\" y=\"-57.6\" font-family=\"Times,serif\" font-size=\"8.00\">w0_t0</text>\n",
       "<text text-anchor=\"middle\" x=\"379.835\" y=\"-49.6\" font-family=\"Times,serif\" font-size=\"8.00\">NscfTask</text>\n",
       "</g>\n",
       "<!-- /Users/gmatteo/git_repos/abipy/abipy/data/refs/si_ebands/si_DEN.nc -->\n",
       "<g id=\"node2\" class=\"node\"><title>/Users/gmatteo/git_repos/abipy/abipy/data/refs/si_ebands/si_DEN.nc</title>\n",
       "<ellipse fill=\"#6633ff\" stroke=\"#6633ff\" cx=\"156.456\" cy=\"-56\" rx=\"156.412\" ry=\"18\"/>\n",
       "<text text-anchor=\"start\" x=\"24.3017\" y=\"-53.6\" font-family=\"Times,serif\" font-size=\"8.00\">FileNode, node_id=345682, rpath=../../abipy/abipy/data/refs/si_ebands/si_DEN.nc</text>\n",
       "</g>\n",
       "<!-- /Users/gmatteo/git_repos/abipy/abipy/data/refs/si_ebands/si_DEN.nc&#45;&gt;w0_t0 -->\n",
       "<g id=\"edge1\" class=\"edge\"><title>/Users/gmatteo/git_repos/abipy/abipy/data/refs/si_ebands/si_DEN.nc&#45;&gt;w0_t0</title>\n",
       "<path fill=\"none\" stroke=\"#6633ff\" d=\"M313.014,-56C322.135,-56 330.767,-56 338.595,-56\"/>\n",
       "<polygon fill=\"#6633ff\" stroke=\"#6633ff\" points=\"338.742,-59.5001 348.741,-56 338.741,-52.5001 338.742,-59.5001\"/>\n",
       "</g>\n",
       "</g>\n",
       "</svg>\n"
      ],
      "text/plain": [
       "<graphviz.dot.Digraph at 0x181e332e10>"
      ]
     },
     "execution_count": 28,
     "metadata": {},
     "output_type": "execute_result"
    }
   ],
   "source": [
    "flow_with_file = flowtk.Flow(workdir=\"flow_with_file\")\n",
    "\n",
    "den_filepath = abidata.ref_file(\"si_DEN.nc\")\n",
    "flow_with_file.register_nscf_task(nscf_input, deps={den_filepath: \"DEN\"})\n",
    "\n",
    "flow_with_file.get_graphviz(engine=\"dot\")"
   ]
  },
  {
   "cell_type": "markdown",
   "metadata": {},
   "source": [
    "A call to `new_with_vars` inside a python `for` loop is all we need to add other two `NscfTasks`\n",
    "with different `nband`, all starting from the same DEN file:"
   ]
  },
  {
   "cell_type": "code",
   "execution_count": 29,
   "metadata": {},
   "outputs": [
    {
     "name": "stdout",
     "output_type": "stream",
     "text": [
      "[8, 10, 20]\n"
     ]
    },
    {
     "data": {
      "image/svg+xml": [
       "<?xml version=\"1.0\" encoding=\"UTF-8\" standalone=\"no\"?>\n",
       "<!DOCTYPE svg PUBLIC \"-//W3C//DTD SVG 1.1//EN\"\n",
       " \"http://www.w3.org/Graphics/SVG/1.1/DTD/svg11.dtd\">\n",
       "<!-- Generated by graphviz version 2.38.0 (20140413.2041)\n",
       " -->\n",
       "<!-- Title: flow Pages: 1 -->\n",
       "<svg width=\"323pt\" height=\"231pt\"\n",
       " viewBox=\"0.00 0.00 323.00 231.00\" xmlns=\"http://www.w3.org/2000/svg\" xmlns:xlink=\"http://www.w3.org/1999/xlink\">\n",
       "<g id=\"graph0\" class=\"graph\" transform=\"scale(1 1) rotate(0) translate(4 205)\">\n",
       "<title>flow</title>\n",
       "<polygon fill=\"white\" stroke=\"none\" points=\"-4,26 -4,-205 319,-205 319,26 -4,26\"/>\n",
       "<text text-anchor=\"start\" x=\"22.1143\" y=\"15.2\" font-family=\"Times,serif\" font-size=\"14.00\">Flow, node_id=345679, workdir=flow_with_file</text>\n",
       "<g id=\"clust1\" class=\"cluster\"><title>clusterw0</title>\n",
       "<path fill=\"#e0eeee\" stroke=\"black\" d=\"M11.8886,-126.486C11.8886,-126.486 64.8886,-126.486 64.8886,-126.486 70.8886,-126.486 76.8886,-132.486 76.8886,-138.486 76.8886,-138.486 76.8886,-188.486 76.8886,-188.486 76.8886,-194.486 70.8886,-200.486 64.8886,-200.486 64.8886,-200.486 11.8886,-200.486 11.8886,-200.486 5.88862,-200.486 -0.111381,-194.486 -0.111381,-188.486 -0.111381,-188.486 -0.111381,-138.486 -0.111381,-138.486 -0.111381,-132.486 5.88862,-126.486 11.8886,-126.486\"/>\n",
       "<text text-anchor=\"middle\" x=\"38.3886\" y=\"-185.286\" font-family=\"Times,serif\" font-size=\"14.00\">Work (w0)</text>\n",
       "</g>\n",
       "<g id=\"clust2\" class=\"cluster\"><title>clusterw1</title>\n",
       "<path fill=\"#e0eeee\" stroke=\"black\" d=\"M185.474,-126.56C185.474,-126.56 239.474,-126.56 239.474,-126.56 245.474,-126.56 251.474,-132.56 251.474,-138.56 251.474,-138.56 251.474,-188.56 251.474,-188.56 251.474,-194.56 245.474,-200.56 239.474,-200.56 239.474,-200.56 185.474,-200.56 185.474,-200.56 179.474,-200.56 173.474,-194.56 173.474,-188.56 173.474,-188.56 173.474,-138.56 173.474,-138.56 173.474,-132.56 179.474,-126.56 185.474,-126.56\"/>\n",
       "<text text-anchor=\"middle\" x=\"212.474\" y=\"-185.36\" font-family=\"Times,serif\" font-size=\"14.00\">Work (w1)</text>\n",
       "</g>\n",
       "<g id=\"clust3\" class=\"cluster\"><title>clusterw2</title>\n",
       "<path fill=\"#e0eeee\" stroke=\"black\" d=\"M124.603,0.0661273C124.603,0.0661273 178.603,0.0661273 178.603,0.0661273 184.603,0.0661273 190.603,-5.93387 190.603,-11.9339 190.603,-11.9339 190.603,-61.9339 190.603,-61.9339 190.603,-67.9339 184.603,-73.9339 178.603,-73.9339 178.603,-73.9339 124.603,-73.9339 124.603,-73.9339 118.603,-73.9339 112.603,-67.9339 112.603,-61.9339 112.603,-61.9339 112.603,-11.9339 112.603,-11.9339 112.603,-5.93387 118.603,0.0661273 124.603,0.0661273\"/>\n",
       "<text text-anchor=\"middle\" x=\"151.603\" y=\"-58.7339\" font-family=\"Times,serif\" font-size=\"14.00\">Work (w2)</text>\n",
       "</g>\n",
       "<!-- w0_t0 -->\n",
       "<g id=\"node1\" class=\"node\"><title>w0_t0</title>\n",
       "<ellipse fill=\"#c85064\" stroke=\"#c85064\" cx=\"38.4355\" cy=\"-152.733\" rx=\"30.8467\" ry=\"18\"/>\n",
       "<text text-anchor=\"middle\" x=\"38.4355\" y=\"-154.333\" font-family=\"Times,serif\" font-size=\"8.00\">w0_t0</text>\n",
       "<text text-anchor=\"middle\" x=\"38.4355\" y=\"-146.333\" font-family=\"Times,serif\" font-size=\"8.00\">NscfTask</text>\n",
       "</g>\n",
       "<!-- w1_t0 -->\n",
       "<g id=\"node2\" class=\"node\"><title>w1_t0</title>\n",
       "<ellipse fill=\"#c85064\" stroke=\"#c85064\" cx=\"212.247\" cy=\"-152.638\" rx=\"30.8467\" ry=\"18\"/>\n",
       "<text text-anchor=\"middle\" x=\"212.247\" y=\"-154.238\" font-family=\"Times,serif\" font-size=\"8.00\">w1_t0</text>\n",
       "<text text-anchor=\"middle\" x=\"212.247\" y=\"-146.238\" font-family=\"Times,serif\" font-size=\"8.00\">NscfTask</text>\n",
       "</g>\n",
       "<!-- w2_t0 -->\n",
       "<g id=\"node3\" class=\"node\"><title>w2_t0</title>\n",
       "<ellipse fill=\"#c85064\" stroke=\"#c85064\" cx=\"151.18\" cy=\"-26.081\" rx=\"30.8467\" ry=\"18\"/>\n",
       "<text text-anchor=\"middle\" x=\"151.18\" y=\"-27.681\" font-family=\"Times,serif\" font-size=\"8.00\">w2_t0</text>\n",
       "<text text-anchor=\"middle\" x=\"151.18\" y=\"-19.681\" font-family=\"Times,serif\" font-size=\"8.00\">NscfTask</text>\n",
       "</g>\n",
       "<!-- /Users/gmatteo/git_repos/abipy/abipy/data/refs/si_ebands/si_DEN.nc -->\n",
       "<g id=\"node4\" class=\"node\"><title>/Users/gmatteo/git_repos/abipy/abipy/data/refs/si_ebands/si_DEN.nc</title>\n",
       "<ellipse fill=\"#6633ff\" stroke=\"#6633ff\" cx=\"158.367\" cy=\"-100.273\" rx=\"156.412\" ry=\"18\"/>\n",
       "<text text-anchor=\"start\" x=\"26.2125\" y=\"-97.8727\" font-family=\"Times,serif\" font-size=\"8.00\">FileNode, node_id=345682, rpath=../../abipy/abipy/data/refs/si_ebands/si_DEN.nc</text>\n",
       "</g>\n",
       "<!-- /Users/gmatteo/git_repos/abipy/abipy/data/refs/si_ebands/si_DEN.nc&#45;&gt;w0_t0 -->\n",
       "<g id=\"edge1\" class=\"edge\"><title>/Users/gmatteo/git_repos/abipy/abipy/data/refs/si_ebands/si_DEN.nc&#45;&gt;w0_t0</title>\n",
       "<path fill=\"none\" stroke=\"#6633ff\" d=\"M118.431,-117.741C103.594,-124.231 86.9076,-131.53 72.629,-137.776\"/>\n",
       "<polygon fill=\"#6633ff\" stroke=\"#6633ff\" points=\"70.94,-134.695 63.1808,-141.909 73.7453,-141.108 70.94,-134.695\"/>\n",
       "</g>\n",
       "<!-- /Users/gmatteo/git_repos/abipy/abipy/data/refs/si_ebands/si_DEN.nc&#45;&gt;w1_t0 -->\n",
       "<g id=\"edge2\" class=\"edge\"><title>/Users/gmatteo/git_repos/abipy/abipy/data/refs/si_ebands/si_DEN.nc&#45;&gt;w1_t0</title>\n",
       "<path fill=\"none\" stroke=\"#6633ff\" d=\"M176.909,-118.294C180.693,-121.971 184.723,-125.888 188.656,-129.71\"/>\n",
       "<polygon fill=\"#6633ff\" stroke=\"#6633ff\" points=\"186.4,-132.398 196.01,-136.858 191.279,-127.378 186.4,-132.398\"/>\n",
       "</g>\n",
       "<!-- /Users/gmatteo/git_repos/abipy/abipy/data/refs/si_ebands/si_DEN.nc&#45;&gt;w2_t0 -->\n",
       "<g id=\"edge3\" class=\"edge\"><title>/Users/gmatteo/git_repos/abipy/abipy/data/refs/si_ebands/si_DEN.nc&#45;&gt;w2_t0</title>\n",
       "<path fill=\"none\" stroke=\"#6633ff\" d=\"M156.59,-81.9332C155.781,-73.5776 154.805,-63.4993 153.906,-54.217\"/>\n",
       "<polygon fill=\"#6633ff\" stroke=\"#6633ff\" points=\"157.384,-53.8255 152.936,-44.2096 150.417,-54.5005 157.384,-53.8255\"/>\n",
       "</g>\n",
       "</g>\n",
       "</svg>\n"
      ],
      "text/plain": [
       "<graphviz.dot.Digraph at 0x181e654978>"
      ]
     },
     "execution_count": 29,
     "metadata": {},
     "output_type": "execute_result"
    }
   ],
   "source": [
    "for nband in [10, 20]:\n",
    "    flow_with_file.register_nscf_task(nscf_input.new_with_vars(nband=nband), \n",
    "                                      deps={den_filepath: \"DEN\"}, append=False)\n",
    "\n",
    "print([task.input[\"nband\"] for task in flow_with_file.iflat_tasks()])\n",
    "flow_with_file.get_graphviz()"
   ]
  },
  {
   "cell_type": "markdown",
   "metadata": {},
   "source": [
    "At this point, you may ask why we need `Works` since all the examples presented so far \n",
    "mainly involve the `Flow` object.\n",
    "\n",
    "The answer is that `Works` allow us to encapsulate reusable logic in magic boxes \n",
    "that can perform lot of useful work. \n",
    "These boxes can then be connected together to generate more complicated workflows.\n",
    "We have already encountered the `BandStructureWork` at the beginning of this lesson\n",
    "and now it is time to introduce another fancy animal of the AbiPy zoo, the `PhononWork`."
   ]
  },
  {
   "cell_type": "code",
   "execution_count": 30,
   "metadata": {},
   "outputs": [
    {
     "data": {
      "text/html": [
       "<!DOCTYPE html PUBLIC \"-//W3C//DTD HTML 4.01//EN\"\n",
       "   \"http://www.w3.org/TR/html4/strict.dtd\">\n",
       "\n",
       "<html>\n",
       "<head>\n",
       "  <title></title>\n",
       "  <meta http-equiv=\"content-type\" content=\"text/html; charset=None\">\n",
       "  <style type=\"text/css\">\n",
       "td.linenos { background-color: #f0f0f0; padding-right: 10px; }\n",
       "span.lineno { background-color: #f0f0f0; padding: 0 5px 0 5px; }\n",
       "pre { line-height: 125%; }\n",
       "body .hll { background-color: #ffffcc }\n",
       "body  { background: #f8f8f8; }\n",
       "body .c { color: #408080; font-style: italic } /* Comment */\n",
       "body .err { border: 1px solid #FF0000 } /* Error */\n",
       "body .k { color: #008000; font-weight: bold } /* Keyword */\n",
       "body .o { color: #666666 } /* Operator */\n",
       "body .ch { color: #408080; font-style: italic } /* Comment.Hashbang */\n",
       "body .cm { color: #408080; font-style: italic } /* Comment.Multiline */\n",
       "body .cp { color: #BC7A00 } /* Comment.Preproc */\n",
       "body .cpf { color: #408080; font-style: italic } /* Comment.PreprocFile */\n",
       "body .c1 { color: #408080; font-style: italic } /* Comment.Single */\n",
       "body .cs { color: #408080; font-style: italic } /* Comment.Special */\n",
       "body .gd { color: #A00000 } /* Generic.Deleted */\n",
       "body .ge { font-style: italic } /* Generic.Emph */\n",
       "body .gr { color: #FF0000 } /* Generic.Error */\n",
       "body .gh { color: #000080; font-weight: bold } /* Generic.Heading */\n",
       "body .gi { color: #00A000 } /* Generic.Inserted */\n",
       "body .go { color: #888888 } /* Generic.Output */\n",
       "body .gp { color: #000080; font-weight: bold } /* Generic.Prompt */\n",
       "body .gs { font-weight: bold } /* Generic.Strong */\n",
       "body .gu { color: #800080; font-weight: bold } /* Generic.Subheading */\n",
       "body .gt { color: #0044DD } /* Generic.Traceback */\n",
       "body .kc { color: #008000; font-weight: bold } /* Keyword.Constant */\n",
       "body .kd { color: #008000; font-weight: bold } /* Keyword.Declaration */\n",
       "body .kn { color: #008000; font-weight: bold } /* Keyword.Namespace */\n",
       "body .kp { color: #008000 } /* Keyword.Pseudo */\n",
       "body .kr { color: #008000; font-weight: bold } /* Keyword.Reserved */\n",
       "body .kt { color: #B00040 } /* Keyword.Type */\n",
       "body .m { color: #666666 } /* Literal.Number */\n",
       "body .s { color: #BA2121 } /* Literal.String */\n",
       "body .na { color: #7D9029 } /* Name.Attribute */\n",
       "body .nb { color: #008000 } /* Name.Builtin */\n",
       "body .nc { color: #0000FF; font-weight: bold } /* Name.Class */\n",
       "body .no { color: #880000 } /* Name.Constant */\n",
       "body .nd { color: #AA22FF } /* Name.Decorator */\n",
       "body .ni { color: #999999; font-weight: bold } /* Name.Entity */\n",
       "body .ne { color: #D2413A; font-weight: bold } /* Name.Exception */\n",
       "body .nf { color: #0000FF } /* Name.Function */\n",
       "body .nl { color: #A0A000 } /* Name.Label */\n",
       "body .nn { color: #0000FF; font-weight: bold } /* Name.Namespace */\n",
       "body .nt { color: #008000; font-weight: bold } /* Name.Tag */\n",
       "body .nv { color: #19177C } /* Name.Variable */\n",
       "body .ow { color: #AA22FF; font-weight: bold } /* Operator.Word */\n",
       "body .w { color: #bbbbbb } /* Text.Whitespace */\n",
       "body .mb { color: #666666 } /* Literal.Number.Bin */\n",
       "body .mf { color: #666666 } /* Literal.Number.Float */\n",
       "body .mh { color: #666666 } /* Literal.Number.Hex */\n",
       "body .mi { color: #666666 } /* Literal.Number.Integer */\n",
       "body .mo { color: #666666 } /* Literal.Number.Oct */\n",
       "body .sa { color: #BA2121 } /* Literal.String.Affix */\n",
       "body .sb { color: #BA2121 } /* Literal.String.Backtick */\n",
       "body .sc { color: #BA2121 } /* Literal.String.Char */\n",
       "body .dl { color: #BA2121 } /* Literal.String.Delimiter */\n",
       "body .sd { color: #BA2121; font-style: italic } /* Literal.String.Doc */\n",
       "body .s2 { color: #BA2121 } /* Literal.String.Double */\n",
       "body .se { color: #BB6622; font-weight: bold } /* Literal.String.Escape */\n",
       "body .sh { color: #BA2121 } /* Literal.String.Heredoc */\n",
       "body .si { color: #BB6688; font-weight: bold } /* Literal.String.Interpol */\n",
       "body .sx { color: #008000 } /* Literal.String.Other */\n",
       "body .sr { color: #BB6688 } /* Literal.String.Regex */\n",
       "body .s1 { color: #BA2121 } /* Literal.String.Single */\n",
       "body .ss { color: #19177C } /* Literal.String.Symbol */\n",
       "body .bp { color: #008000 } /* Name.Builtin.Pseudo */\n",
       "body .fm { color: #0000FF } /* Name.Function.Magic */\n",
       "body .vc { color: #19177C } /* Name.Variable.Class */\n",
       "body .vg { color: #19177C } /* Name.Variable.Global */\n",
       "body .vi { color: #19177C } /* Name.Variable.Instance */\n",
       "body .vm { color: #19177C } /* Name.Variable.Magic */\n",
       "body .il { color: #666666 } /* Literal.Number.Integer.Long */\n",
       "\n",
       "  </style>\n",
       "</head>\n",
       "<body>\n",
       "<h2></h2>\n",
       "\n",
       "<div class=\"highlight\"><pre><span></span><span class=\"k\">class</span> <span class=\"nc\">PhononWork</span><span class=\"p\">(</span><span class=\"n\">Work</span><span class=\"p\">,</span> <span class=\"n\">MergeDdb</span><span class=\"p\">):</span>\n",
       "    <span class=\"sd\">&quot;&quot;&quot;</span>\n",
       "<span class=\"sd\">    This work consists of nirred Phonon tasks where nirred is</span>\n",
       "<span class=\"sd\">    the number of irreducible atomic perturbations for a given set of q-points.</span>\n",
       "<span class=\"sd\">    It provides the callback method (on_all_ok) that calls mrgddb (mrgdv) to merge</span>\n",
       "<span class=\"sd\">    all the partial DDB (POT) files produced. The two files are available in the</span>\n",
       "<span class=\"sd\">    output directory of the Work.</span>\n",
       "<span class=\"sd\">    &quot;&quot;&quot;</span>\n",
       "</pre></div>\n",
       "</body>\n",
       "</html>\n"
      ],
      "text/plain": [
       "<IPython.core.display.HTML object>"
      ]
     },
     "execution_count": 30,
     "metadata": {},
     "output_type": "execute_result"
    }
   ],
   "source": [
    "abilab.print_doc(flowtk.PhononWork)"
   ]
  },
  {
   "cell_type": "code",
   "execution_count": 31,
   "metadata": {},
   "outputs": [
    {
     "data": {
      "text/html": [
       "<!DOCTYPE html PUBLIC \"-//W3C//DTD HTML 4.01//EN\"\n",
       "   \"http://www.w3.org/TR/html4/strict.dtd\">\n",
       "\n",
       "<html>\n",
       "<head>\n",
       "  <title></title>\n",
       "  <meta http-equiv=\"content-type\" content=\"text/html; charset=None\">\n",
       "  <style type=\"text/css\">\n",
       "td.linenos { background-color: #f0f0f0; padding-right: 10px; }\n",
       "span.lineno { background-color: #f0f0f0; padding: 0 5px 0 5px; }\n",
       "pre { line-height: 125%; }\n",
       "body .hll { background-color: #ffffcc }\n",
       "body  { background: #f8f8f8; }\n",
       "body .c { color: #408080; font-style: italic } /* Comment */\n",
       "body .err { border: 1px solid #FF0000 } /* Error */\n",
       "body .k { color: #008000; font-weight: bold } /* Keyword */\n",
       "body .o { color: #666666 } /* Operator */\n",
       "body .ch { color: #408080; font-style: italic } /* Comment.Hashbang */\n",
       "body .cm { color: #408080; font-style: italic } /* Comment.Multiline */\n",
       "body .cp { color: #BC7A00 } /* Comment.Preproc */\n",
       "body .cpf { color: #408080; font-style: italic } /* Comment.PreprocFile */\n",
       "body .c1 { color: #408080; font-style: italic } /* Comment.Single */\n",
       "body .cs { color: #408080; font-style: italic } /* Comment.Special */\n",
       "body .gd { color: #A00000 } /* Generic.Deleted */\n",
       "body .ge { font-style: italic } /* Generic.Emph */\n",
       "body .gr { color: #FF0000 } /* Generic.Error */\n",
       "body .gh { color: #000080; font-weight: bold } /* Generic.Heading */\n",
       "body .gi { color: #00A000 } /* Generic.Inserted */\n",
       "body .go { color: #888888 } /* Generic.Output */\n",
       "body .gp { color: #000080; font-weight: bold } /* Generic.Prompt */\n",
       "body .gs { font-weight: bold } /* Generic.Strong */\n",
       "body .gu { color: #800080; font-weight: bold } /* Generic.Subheading */\n",
       "body .gt { color: #0044DD } /* Generic.Traceback */\n",
       "body .kc { color: #008000; font-weight: bold } /* Keyword.Constant */\n",
       "body .kd { color: #008000; font-weight: bold } /* Keyword.Declaration */\n",
       "body .kn { color: #008000; font-weight: bold } /* Keyword.Namespace */\n",
       "body .kp { color: #008000 } /* Keyword.Pseudo */\n",
       "body .kr { color: #008000; font-weight: bold } /* Keyword.Reserved */\n",
       "body .kt { color: #B00040 } /* Keyword.Type */\n",
       "body .m { color: #666666 } /* Literal.Number */\n",
       "body .s { color: #BA2121 } /* Literal.String */\n",
       "body .na { color: #7D9029 } /* Name.Attribute */\n",
       "body .nb { color: #008000 } /* Name.Builtin */\n",
       "body .nc { color: #0000FF; font-weight: bold } /* Name.Class */\n",
       "body .no { color: #880000 } /* Name.Constant */\n",
       "body .nd { color: #AA22FF } /* Name.Decorator */\n",
       "body .ni { color: #999999; font-weight: bold } /* Name.Entity */\n",
       "body .ne { color: #D2413A; font-weight: bold } /* Name.Exception */\n",
       "body .nf { color: #0000FF } /* Name.Function */\n",
       "body .nl { color: #A0A000 } /* Name.Label */\n",
       "body .nn { color: #0000FF; font-weight: bold } /* Name.Namespace */\n",
       "body .nt { color: #008000; font-weight: bold } /* Name.Tag */\n",
       "body .nv { color: #19177C } /* Name.Variable */\n",
       "body .ow { color: #AA22FF; font-weight: bold } /* Operator.Word */\n",
       "body .w { color: #bbbbbb } /* Text.Whitespace */\n",
       "body .mb { color: #666666 } /* Literal.Number.Bin */\n",
       "body .mf { color: #666666 } /* Literal.Number.Float */\n",
       "body .mh { color: #666666 } /* Literal.Number.Hex */\n",
       "body .mi { color: #666666 } /* Literal.Number.Integer */\n",
       "body .mo { color: #666666 } /* Literal.Number.Oct */\n",
       "body .sa { color: #BA2121 } /* Literal.String.Affix */\n",
       "body .sb { color: #BA2121 } /* Literal.String.Backtick */\n",
       "body .sc { color: #BA2121 } /* Literal.String.Char */\n",
       "body .dl { color: #BA2121 } /* Literal.String.Delimiter */\n",
       "body .sd { color: #BA2121; font-style: italic } /* Literal.String.Doc */\n",
       "body .s2 { color: #BA2121 } /* Literal.String.Double */\n",
       "body .se { color: #BB6622; font-weight: bold } /* Literal.String.Escape */\n",
       "body .sh { color: #BA2121 } /* Literal.String.Heredoc */\n",
       "body .si { color: #BB6688; font-weight: bold } /* Literal.String.Interpol */\n",
       "body .sx { color: #008000 } /* Literal.String.Other */\n",
       "body .sr { color: #BB6688 } /* Literal.String.Regex */\n",
       "body .s1 { color: #BA2121 } /* Literal.String.Single */\n",
       "body .ss { color: #19177C } /* Literal.String.Symbol */\n",
       "body .bp { color: #008000 } /* Name.Builtin.Pseudo */\n",
       "body .fm { color: #0000FF } /* Name.Function.Magic */\n",
       "body .vc { color: #19177C } /* Name.Variable.Class */\n",
       "body .vg { color: #19177C } /* Name.Variable.Global */\n",
       "body .vi { color: #19177C } /* Name.Variable.Instance */\n",
       "body .vm { color: #19177C } /* Name.Variable.Magic */\n",
       "body .il { color: #666666 } /* Literal.Number.Integer.Long */\n",
       "\n",
       "  </style>\n",
       "</head>\n",
       "<body>\n",
       "<h2></h2>\n",
       "\n",
       "<div class=\"highlight\"><pre><span></span>    <span class=\"nd\">@classmethod</span>\n",
       "    <span class=\"k\">def</span> <span class=\"nf\">from_scf_task</span><span class=\"p\">(</span><span class=\"bp\">cls</span><span class=\"p\">,</span> <span class=\"n\">scf_task</span><span class=\"p\">,</span> <span class=\"n\">qpoints</span><span class=\"p\">,</span> <span class=\"n\">is_ngqpt</span><span class=\"o\">=</span><span class=\"bp\">False</span><span class=\"p\">,</span> <span class=\"n\">tolerance</span><span class=\"o\">=</span><span class=\"bp\">None</span><span class=\"p\">,</span> <span class=\"n\">manager</span><span class=\"o\">=</span><span class=\"bp\">None</span><span class=\"p\">):</span>\n",
       "        <span class=\"sd\">&quot;&quot;&quot;</span>\n",
       "<span class=\"sd\">        Construct a `PhononWork` from a :class:`ScfTask` object.</span>\n",
       "<span class=\"sd\">        The input file for phonons is automatically generated from the input of the ScfTask.</span>\n",
       "<span class=\"sd\">        Each phonon task depends on the WFK file produced by scf_task.</span>\n",
       "\n",
       "\n",
       "<span class=\"sd\">        Args:</span>\n",
       "<span class=\"sd\">            scf_task: ScfTask object.</span>\n",
       "<span class=\"sd\">            qpoints: q-points in reduced coordinates. Accepts single q-point, list of q-points</span>\n",
       "<span class=\"sd\">                or three integers defining the q-mesh if `is_ngqpt`.</span>\n",
       "<span class=\"sd\">            is_ngqpt: True if `qpoints` should be interpreted as divisions instead of q-points.</span>\n",
       "<span class=\"sd\">            tolerance: dict {varname: value} with the tolerance to be used in the DFPT run.</span>\n",
       "<span class=\"sd\">                Defaults to {&quot;tolvrs&quot;: 1.0e-10}.</span>\n",
       "<span class=\"sd\">            manager: :class:`TaskManager` object.</span>\n",
       "<span class=\"sd\">        &quot;&quot;&quot;</span>\n",
       "</pre></div>\n",
       "</body>\n",
       "</html>\n"
      ],
      "text/plain": [
       "<IPython.core.display.HTML object>"
      ]
     },
     "execution_count": 31,
     "metadata": {},
     "output_type": "execute_result"
    }
   ],
   "source": [
    "abilab.print_doc(flowtk.PhononWork.from_scf_task)"
   ]
  },
  {
   "cell_type": "markdown",
   "metadata": {},
   "source": [
    "The docstring seems to suggest that if I have a `scf_task`, I can construct a magic box\n",
    "to compute phonons but wait, I already have such a task! \n",
    "Actually I already have another magic box to compute the electronic band structure \n",
    "and it would be really great if I could compute the electronic and vibrational properties in a single flow.\n",
    "Let's connect the two boxes together with:"
   ]
  },
  {
   "cell_type": "code",
   "execution_count": 32,
   "metadata": {},
   "outputs": [
    {
     "data": {
      "image/svg+xml": [
       "<?xml version=\"1.0\" encoding=\"UTF-8\" standalone=\"no\"?>\n",
       "<!DOCTYPE svg PUBLIC \"-//W3C//DTD SVG 1.1//EN\"\n",
       " \"http://www.w3.org/Graphics/SVG/1.1/DTD/svg11.dtd\">\n",
       "<!-- Generated by graphviz version 2.38.0 (20140413.2041)\n",
       " -->\n",
       "<!-- Title: flow Pages: 1 -->\n",
       "<svg width=\"392pt\" height=\"207pt\"\n",
       " viewBox=\"0.00 0.00 392.00 207.00\" xmlns=\"http://www.w3.org/2000/svg\" xmlns:xlink=\"http://www.w3.org/1999/xlink\">\n",
       "<g id=\"graph0\" class=\"graph\" transform=\"scale(1 1) rotate(0) translate(4 181)\">\n",
       "<title>flow</title>\n",
       "<polygon fill=\"white\" stroke=\"none\" points=\"-4,26 -4,-181 388,-181 388,26 -4,26\"/>\n",
       "<text text-anchor=\"start\" x=\"78.0039\" y=\"15.2\" font-family=\"Times,serif\" font-size=\"14.00\">Flow, node_id=345689, workdir=phflow</text>\n",
       "<g id=\"clust1\" class=\"cluster\"><title>clusterw0</title>\n",
       "<path fill=\"#e0eeee\" stroke=\"black\" d=\"M11.9304,-47.266C11.9304,-47.266 145.93,-47.266 145.93,-47.266 151.93,-47.266 157.93,-53.266 157.93,-59.266 157.93,-59.266 157.93,-165.266 157.93,-165.266 157.93,-171.266 151.93,-177.266 145.93,-177.266 145.93,-177.266 11.9304,-177.266 11.9304,-177.266 5.9304,-177.266 -0.069602,-171.266 -0.069602,-165.266 -0.069602,-165.266 -0.069602,-59.266 -0.069602,-59.266 -0.069602,-53.266 5.9304,-47.266 11.9304,-47.266\"/>\n",
       "<text text-anchor=\"middle\" x=\"78.9304\" y=\"-162.066\" font-family=\"Times,serif\" font-size=\"14.00\">BandStructureWork (w0)</text>\n",
       "</g>\n",
       "<g id=\"clust2\" class=\"cluster\"><title>clusterw1</title>\n",
       "<path fill=\"#e0eeee\" stroke=\"black\" d=\"M182.338,-0.122852C182.338,-0.122852 372.338,-0.122852 372.338,-0.122852 378.338,-0.122852 384.338,-6.12285 384.338,-12.1229 384.338,-12.1229 384.338,-153.123 384.338,-153.123 384.338,-159.123 378.338,-165.123 372.338,-165.123 372.338,-165.123 182.338,-165.123 182.338,-165.123 176.338,-165.123 170.338,-159.123 170.338,-153.123 170.338,-153.123 170.338,-12.1229 170.338,-12.1229 170.338,-6.12285 176.338,-0.122852 182.338,-0.122852\"/>\n",
       "<text text-anchor=\"middle\" x=\"277.338\" y=\"-149.923\" font-family=\"Times,serif\" font-size=\"14.00\">PhononWork (w1)</text>\n",
       "</g>\n",
       "<!-- w0_t0 -->\n",
       "<g id=\"node1\" class=\"node\"><title>w0_t0</title>\n",
       "<ellipse fill=\"#ff0000\" stroke=\"#ff0000\" cx=\"40.9549\" cy=\"-78.26\" rx=\"27.8878\" ry=\"18\"/>\n",
       "<text text-anchor=\"middle\" x=\"40.9549\" y=\"-79.86\" font-family=\"Times,serif\" font-size=\"8.00\">w0_t0</text>\n",
       "<text text-anchor=\"middle\" x=\"40.9549\" y=\"-71.86\" font-family=\"Times,serif\" font-size=\"8.00\">ScfTask</text>\n",
       "</g>\n",
       "<!-- w0_t1 -->\n",
       "<g id=\"node2\" class=\"node\"><title>w0_t1</title>\n",
       "<ellipse fill=\"#c85064\" stroke=\"#c85064\" cx=\"114.169\" cy=\"-128.907\" rx=\"30.8467\" ry=\"18\"/>\n",
       "<text text-anchor=\"middle\" x=\"114.169\" y=\"-130.507\" font-family=\"Times,serif\" font-size=\"8.00\">w0_t1</text>\n",
       "<text text-anchor=\"middle\" x=\"114.169\" y=\"-122.507\" font-family=\"Times,serif\" font-size=\"8.00\">NscfTask</text>\n",
       "</g>\n",
       "<!-- w0_t0&#45;&gt;w0_t1 -->\n",
       "<g id=\"edge1\" class=\"edge\"><title>w0_t0&#45;&gt;w0_t1</title>\n",
       "<path fill=\"none\" stroke=\"#ff0000\" d=\"M60.1909,-91.5669C68.0077,-96.9742 77.2,-103.333 85.7615,-109.256\"/>\n",
       "<polygon fill=\"#ff0000\" stroke=\"#ff0000\" points=\"83.8233,-112.171 94.0385,-114.982 87.8057,-106.414 83.8233,-112.171\"/>\n",
       "<text text-anchor=\"middle\" x=\"58.59\" y=\"-103.211\" font-family=\"Times,serif\" font-size=\"14.00\">DEN</text>\n",
       "</g>\n",
       "<!-- w1_t0 -->\n",
       "<g id=\"node3\" class=\"node\"><title>w1_t0</title>\n",
       "<ellipse fill=\"#0096fa\" stroke=\"#0096fa\" cx=\"325.692\" cy=\"-25.8195\" rx=\"37.3834\" ry=\"18\"/>\n",
       "<text text-anchor=\"middle\" x=\"325.692\" y=\"-27.4195\" font-family=\"Times,serif\" font-size=\"8.00\">w1_t0</text>\n",
       "<text text-anchor=\"middle\" x=\"325.692\" y=\"-19.4195\" font-family=\"Times,serif\" font-size=\"8.00\">PhononTask</text>\n",
       "</g>\n",
       "<!-- w0_t0&#45;&gt;w1_t0 -->\n",
       "<g id=\"edge2\" class=\"edge\"><title>w0_t0&#45;&gt;w1_t0</title>\n",
       "<path fill=\"none\" stroke=\"#ff0000\" d=\"M67.999,-73.2792C116.947,-64.2645 220.693,-45.1573 280.547,-34.134\"/>\n",
       "<polygon fill=\"#ff0000\" stroke=\"#ff0000\" points=\"281.274,-37.559 290.475,-32.3055 280.006,-30.6748 281.274,-37.559\"/>\n",
       "<text text-anchor=\"middle\" x=\"158.718\" y=\"-56.5066\" font-family=\"Times,serif\" font-size=\"14.00\">WFK</text>\n",
       "</g>\n",
       "<!-- w1_t1 -->\n",
       "<g id=\"node4\" class=\"node\"><title>w1_t1</title>\n",
       "<ellipse fill=\"#0096fa\" stroke=\"#0096fa\" cx=\"339.588\" cy=\"-69.9307\" rx=\"37.3834\" ry=\"18\"/>\n",
       "<text text-anchor=\"middle\" x=\"339.588\" y=\"-71.5307\" font-family=\"Times,serif\" font-size=\"8.00\">w1_t1</text>\n",
       "<text text-anchor=\"middle\" x=\"339.588\" y=\"-63.5307\" font-family=\"Times,serif\" font-size=\"8.00\">PhononTask</text>\n",
       "</g>\n",
       "<!-- w0_t0&#45;&gt;w1_t1 -->\n",
       "<g id=\"edge3\" class=\"edge\"><title>w0_t0&#45;&gt;w1_t1</title>\n",
       "<path fill=\"none\" stroke=\"#ff0000\" d=\"M69.0496,-77.4764C120.214,-76.0493 229.101,-73.0123 292.02,-71.2575\"/>\n",
       "<polygon fill=\"#ff0000\" stroke=\"#ff0000\" points=\"292.184,-74.7543 302.082,-70.9768 291.989,-67.7571 292.184,-74.7543\"/>\n",
       "<text text-anchor=\"middle\" x=\"164.979\" y=\"-77.1669\" font-family=\"Times,serif\" font-size=\"14.00\">WFK</text>\n",
       "</g>\n",
       "<!-- w1_t2 -->\n",
       "<g id=\"node5\" class=\"node\"><title>w1_t2</title>\n",
       "<ellipse fill=\"#0096fa\" stroke=\"#0096fa\" cx=\"215.507\" cy=\"-74.9715\" rx=\"37.3834\" ry=\"18\"/>\n",
       "<text text-anchor=\"middle\" x=\"215.507\" y=\"-76.5715\" font-family=\"Times,serif\" font-size=\"8.00\">w1_t2</text>\n",
       "<text text-anchor=\"middle\" x=\"215.507\" y=\"-68.5715\" font-family=\"Times,serif\" font-size=\"8.00\">PhononTask</text>\n",
       "</g>\n",
       "<!-- w0_t0&#45;&gt;w1_t2 -->\n",
       "<g id=\"edge4\" class=\"edge\"><title>w0_t0&#45;&gt;w1_t2</title>\n",
       "<path fill=\"none\" stroke=\"#ff0000\" d=\"M68.9998,-77.7316C95.5809,-77.2309 136.041,-76.4686 167.712,-75.872\"/>\n",
       "<polygon fill=\"#ff0000\" stroke=\"#ff0000\" points=\"168.151,-79.3644 178.083,-75.6766 168.019,-72.3656 168.151,-79.3644\"/>\n",
       "<text text-anchor=\"middle\" x=\"102.801\" y=\"-79.6018\" font-family=\"Times,serif\" font-size=\"14.00\">WFK</text>\n",
       "</g>\n",
       "<!-- w1_t3 -->\n",
       "<g id=\"node6\" class=\"node\"><title>w1_t3</title>\n",
       "<ellipse fill=\"#0096fa\" stroke=\"#0096fa\" cx=\"315.275\" cy=\"-117.374\" rx=\"37.3834\" ry=\"18\"/>\n",
       "<text text-anchor=\"middle\" x=\"315.275\" y=\"-118.974\" font-family=\"Times,serif\" font-size=\"8.00\">w1_t3</text>\n",
       "<text text-anchor=\"middle\" x=\"315.275\" y=\"-110.974\" font-family=\"Times,serif\" font-size=\"8.00\">PhononTask</text>\n",
       "</g>\n",
       "<!-- w0_t0&#45;&gt;w1_t3 -->\n",
       "<g id=\"edge5\" class=\"edge\"><title>w0_t0&#45;&gt;w1_t3</title>\n",
       "<path fill=\"none\" stroke=\"#ff0000\" d=\"M68.2607,-82.1534C115.307,-88.8615 212.117,-102.665 269.577,-110.858\"/>\n",
       "<polygon fill=\"#ff0000\" stroke=\"#ff0000\" points=\"269.089,-114.324 279.483,-112.271 270.077,-107.394 269.089,-114.324\"/>\n",
       "<text text-anchor=\"middle\" x=\"153.364\" y=\"-99.3058\" font-family=\"Times,serif\" font-size=\"14.00\">WFK</text>\n",
       "</g>\n",
       "</g>\n",
       "</svg>\n"
      ],
      "text/plain": [
       "<graphviz.dot.Digraph at 0x181e713f28>"
      ]
     },
     "execution_count": 32,
     "metadata": {},
     "output_type": "execute_result"
    }
   ],
   "source": [
    "# Create new flow.\n",
    "ph_flow = flowtk.Flow(workdir=\"phflow\")\n",
    "\n",
    "# Band structure (SCF + NSCF)\n",
    "bands_work = flowtk.BandStructureWork(scf_input, nscf_input, dos_inputs=None)\n",
    "ph_flow.register_work(bands_work)    \n",
    "    \n",
    "# Build second work from scf_task.\n",
    "scf_task = bands_work[0]\n",
    "ph_work = flowtk.PhononWork.from_scf_task(scf_task, [2, 2, 2], is_ngqpt=True, tolerance=None)\n",
    "ph_flow.register_work(ph_work) \n",
    "\n",
    "ph_flow.get_graphviz()"
   ]
  },
  {
   "cell_type": "markdown",
   "metadata": {},
   "source": [
    "Now it turns out that the `PhononWork` merges all the DDB files produced by its `PhononTask`\n",
    "and put this final output file in its outdir. \n",
    "So from the AbiPy perspective, a `PhononWork` is not that different from a `ScfTask` that produces e.g. a DEN file.\n",
    "This means that we can connect other magic boxes to our `PhononWork` e.g. a set of `EPhTasks` that \n",
    "require a DDB file and another input file with the DFPT potentials \n",
    "(DVDB, merged by `PhononWork` similarly to what is done for the DDB)."
   ]
  },
  {
   "cell_type": "code",
   "execution_count": 33,
   "metadata": {},
   "outputs": [
    {
     "data": {
      "image/svg+xml": [
       "<?xml version=\"1.0\" encoding=\"UTF-8\" standalone=\"no\"?>\n",
       "<!DOCTYPE svg PUBLIC \"-//W3C//DTD SVG 1.1//EN\"\n",
       " \"http://www.w3.org/Graphics/SVG/1.1/DTD/svg11.dtd\">\n",
       "<!-- Generated by graphviz version 2.38.0 (20140413.2041)\n",
       " -->\n",
       "<!-- Title: flow Pages: 1 -->\n",
       "<svg width=\"601pt\" height=\"535pt\"\n",
       " viewBox=\"0.00 0.00 601.00 535.00\" xmlns=\"http://www.w3.org/2000/svg\" xmlns:xlink=\"http://www.w3.org/1999/xlink\">\n",
       "<g id=\"graph0\" class=\"graph\" transform=\"scale(1 1) rotate(0) translate(4 509)\">\n",
       "<title>flow</title>\n",
       "<polygon fill=\"white\" stroke=\"none\" points=\"-4,26 -4,-509 597,-509 597,26 -4,26\"/>\n",
       "<text text-anchor=\"start\" x=\"182.504\" y=\"15.2\" font-family=\"Times,serif\" font-size=\"14.00\">Flow, node_id=345689, workdir=phflow</text>\n",
       "<g id=\"clust1\" class=\"cluster\"><title>clusterw0</title>\n",
       "<path fill=\"#e0eeee\" stroke=\"black\" d=\"M12.2368,-310.905C12.2368,-310.905 145.237,-310.905 145.237,-310.905 151.237,-310.905 157.237,-316.905 157.237,-322.905 157.237,-322.905 157.237,-492.905 157.237,-492.905 157.237,-498.905 151.237,-504.905 145.237,-504.905 145.237,-504.905 12.2368,-504.905 12.2368,-504.905 6.23683,-504.905 0.236835,-498.905 0.236835,-492.905 0.236835,-492.905 0.236835,-322.905 0.236835,-322.905 0.236835,-316.905 6.23683,-310.905 12.2368,-310.905\"/>\n",
       "<text text-anchor=\"middle\" x=\"78.7368\" y=\"-489.705\" font-family=\"Times,serif\" font-size=\"14.00\">BandStructureWork (w0)</text>\n",
       "</g>\n",
       "<g id=\"clust2\" class=\"cluster\"><title>clusterw1</title>\n",
       "<path fill=\"#e0eeee\" stroke=\"black\" d=\"M374.984,-279.385C374.984,-279.385 580.984,-279.385 580.984,-279.385 586.984,-279.385 592.984,-285.385 592.984,-291.385 592.984,-291.385 592.984,-455.385 592.984,-455.385 592.984,-461.385 586.984,-467.385 580.984,-467.385 580.984,-467.385 374.984,-467.385 374.984,-467.385 368.984,-467.385 362.984,-461.385 362.984,-455.385 362.984,-455.385 362.984,-291.385 362.984,-291.385 362.984,-285.385 368.984,-279.385 374.984,-279.385\"/>\n",
       "<text text-anchor=\"middle\" x=\"477.984\" y=\"-452.185\" font-family=\"Times,serif\" font-size=\"14.00\">PhononWork (w1)</text>\n",
       "</g>\n",
       "<g id=\"clust3\" class=\"cluster\"><title>clusterw2</title>\n",
       "<path fill=\"#e0eeee\" stroke=\"black\" d=\"M192.998,0.0282583C192.998,0.0282583 327.998,0.0282583 327.998,0.0282583 333.998,0.0282583 339.998,-5.97174 339.998,-11.9717 339.998,-11.9717 339.998,-270.972 339.998,-270.972 339.998,-276.972 333.998,-282.972 327.998,-282.972 327.998,-282.972 192.998,-282.972 192.998,-282.972 186.998,-282.972 180.998,-276.972 180.998,-270.972 180.998,-270.972 180.998,-11.9717 180.998,-11.9717 180.998,-5.97174 186.998,0.0282583 192.998,0.0282583\"/>\n",
       "<text text-anchor=\"middle\" x=\"260.498\" y=\"-267.772\" font-family=\"Times,serif\" font-size=\"14.00\">Work (w2)</text>\n",
       "</g>\n",
       "<!-- w0_t0 -->\n",
       "<g id=\"node1\" class=\"node\"><title>w0_t0</title>\n",
       "<ellipse fill=\"#ff0000\" stroke=\"#ff0000\" cx=\"65.7259\" cy=\"-416.321\" rx=\"27.8878\" ry=\"18\"/>\n",
       "<text text-anchor=\"middle\" x=\"65.7259\" y=\"-417.921\" font-family=\"Times,serif\" font-size=\"8.00\">w0_t0</text>\n",
       "<text text-anchor=\"middle\" x=\"65.7259\" y=\"-409.921\" font-family=\"Times,serif\" font-size=\"8.00\">ScfTask</text>\n",
       "</g>\n",
       "<!-- w0_t1 -->\n",
       "<g id=\"node2\" class=\"node\"><title>w0_t1</title>\n",
       "<ellipse fill=\"#c85064\" stroke=\"#c85064\" cx=\"85.4149\" cy=\"-361.199\" rx=\"30.8467\" ry=\"18\"/>\n",
       "<text text-anchor=\"middle\" x=\"85.4149\" y=\"-362.799\" font-family=\"Times,serif\" font-size=\"8.00\">w0_t1</text>\n",
       "<text text-anchor=\"middle\" x=\"85.4149\" y=\"-354.799\" font-family=\"Times,serif\" font-size=\"8.00\">NscfTask</text>\n",
       "</g>\n",
       "<!-- w0_t0&#45;&gt;w0_t1 -->\n",
       "<g id=\"edge1\" class=\"edge\"><title>w0_t0&#45;&gt;w0_t1</title>\n",
       "<path fill=\"none\" stroke=\"#ff0000\" d=\"M72.064,-398.576C73.2233,-395.331 74.4572,-391.876 75.6887,-388.429\"/>\n",
       "<polygon fill=\"#ff0000\" stroke=\"#ff0000\" points=\"79.0209,-389.505 79.0887,-378.91 72.4288,-387.15 79.0209,-389.505\"/>\n",
       "<text text-anchor=\"middle\" x=\"59.4901\" y=\"-382.303\" font-family=\"Times,serif\" font-size=\"14.00\">DEN</text>\n",
       "</g>\n",
       "<!-- w1_t0 -->\n",
       "<g id=\"node3\" class=\"node\"><title>w1_t0</title>\n",
       "<ellipse fill=\"#0096fa\" stroke=\"#0096fa\" cx=\"547.48\" cy=\"-322.072\" rx=\"37.3834\" ry=\"18\"/>\n",
       "<text text-anchor=\"middle\" x=\"547.48\" y=\"-323.672\" font-family=\"Times,serif\" font-size=\"8.00\">w1_t0</text>\n",
       "<text text-anchor=\"middle\" x=\"547.48\" y=\"-315.672\" font-family=\"Times,serif\" font-size=\"8.00\">PhononTask</text>\n",
       "</g>\n",
       "<!-- w0_t0&#45;&gt;w1_t0 -->\n",
       "<g id=\"edge2\" class=\"edge\"><title>w0_t0&#45;&gt;w1_t0</title>\n",
       "<path fill=\"none\" stroke=\"#ff0000\" d=\"M92.6594,-411.052C171.891,-395.551 404.761,-349.993 502.977,-330.778\"/>\n",
       "<polygon fill=\"#ff0000\" stroke=\"#ff0000\" points=\"503.744,-334.195 512.886,-328.84 502.4,-327.325 503.744,-334.195\"/>\n",
       "<text text-anchor=\"middle\" x=\"282.263\" y=\"-373.715\" font-family=\"Times,serif\" font-size=\"14.00\">WFK</text>\n",
       "</g>\n",
       "<!-- w1_t1 -->\n",
       "<g id=\"node4\" class=\"node\"><title>w1_t1</title>\n",
       "<ellipse fill=\"#0096fa\" stroke=\"#0096fa\" cx=\"535.037\" cy=\"-372.297\" rx=\"37.3834\" ry=\"18\"/>\n",
       "<text text-anchor=\"middle\" x=\"535.037\" y=\"-373.897\" font-family=\"Times,serif\" font-size=\"8.00\">w1_t1</text>\n",
       "<text text-anchor=\"middle\" x=\"535.037\" y=\"-365.897\" font-family=\"Times,serif\" font-size=\"8.00\">PhononTask</text>\n",
       "</g>\n",
       "<!-- w0_t0&#45;&gt;w1_t1 -->\n",
       "<g id=\"edge3\" class=\"edge\"><title>w0_t0&#45;&gt;w1_t1</title>\n",
       "<path fill=\"none\" stroke=\"#ff0000\" d=\"M93.678,-413.699C171.549,-406.394 391.571,-385.755 488.361,-376.675\"/>\n",
       "<polygon fill=\"#ff0000\" stroke=\"#ff0000\" points=\"488.808,-380.149 498.437,-375.73 488.154,-373.18 488.808,-380.149\"/>\n",
       "<text text-anchor=\"middle\" x=\"275.464\" y=\"-397.987\" font-family=\"Times,serif\" font-size=\"14.00\">WFK</text>\n",
       "</g>\n",
       "<!-- w1_t2 -->\n",
       "<g id=\"node5\" class=\"node\"><title>w1_t2</title>\n",
       "<ellipse fill=\"#0096fa\" stroke=\"#0096fa\" cx=\"408.27\" cy=\"-336.759\" rx=\"37.3834\" ry=\"18\"/>\n",
       "<text text-anchor=\"middle\" x=\"408.27\" y=\"-338.359\" font-family=\"Times,serif\" font-size=\"8.00\">w1_t2</text>\n",
       "<text text-anchor=\"middle\" x=\"408.27\" y=\"-330.359\" font-family=\"Times,serif\" font-size=\"8.00\">PhononTask</text>\n",
       "</g>\n",
       "<!-- w0_t0&#45;&gt;w1_t2 -->\n",
       "<g id=\"edge4\" class=\"edge\"><title>w0_t0&#45;&gt;w1_t2</title>\n",
       "<path fill=\"none\" stroke=\"#ff0000\" d=\"M92.036,-410.21C150.643,-396.597 292.435,-363.663 364.562,-346.911\"/>\n",
       "<polygon fill=\"#ff0000\" stroke=\"#ff0000\" points=\"365.731,-350.232 374.68,-344.561 364.147,-343.414 365.731,-350.232\"/>\n",
       "<text text-anchor=\"middle\" x=\"212.744\" y=\"-381.36\" font-family=\"Times,serif\" font-size=\"14.00\">WFK</text>\n",
       "</g>\n",
       "<!-- w1_t3 -->\n",
       "<g id=\"node6\" class=\"node\"><title>w1_t3</title>\n",
       "<ellipse fill=\"#0096fa\" stroke=\"#0096fa\" cx=\"495.247\" cy=\"-418.94\" rx=\"37.3834\" ry=\"18\"/>\n",
       "<text text-anchor=\"middle\" x=\"495.247\" y=\"-420.54\" font-family=\"Times,serif\" font-size=\"8.00\">w1_t3</text>\n",
       "<text text-anchor=\"middle\" x=\"495.247\" y=\"-412.54\" font-family=\"Times,serif\" font-size=\"8.00\">PhononTask</text>\n",
       "</g>\n",
       "<!-- w0_t0&#45;&gt;w1_t3 -->\n",
       "<g id=\"edge5\" class=\"edge\"><title>w0_t0&#45;&gt;w1_t3</title>\n",
       "<path fill=\"none\" stroke=\"#ff0000\" d=\"M93.908,-416.493C166.078,-416.933 358.161,-418.104 447.862,-418.651\"/>\n",
       "<polygon fill=\"#ff0000\" stroke=\"#ff0000\" points=\"448,-422.152 458.021,-418.713 448.043,-415.152 448,-422.152\"/>\n",
       "<text text-anchor=\"middle\" x=\"255.33\" y=\"-420.372\" font-family=\"Times,serif\" font-size=\"14.00\">WFK</text>\n",
       "</g>\n",
       "<!-- w2_t0 -->\n",
       "<g id=\"node7\" class=\"node\"><title>w2_t0</title>\n",
       "<ellipse fill=\"#ff8000\" stroke=\"#ff8000\" cx=\"230.618\" cy=\"-58.3471\" rx=\"29.3699\" ry=\"18\"/>\n",
       "<text text-anchor=\"middle\" x=\"230.618\" y=\"-59.9471\" font-family=\"Times,serif\" font-size=\"8.00\">w2_t0</text>\n",
       "<text text-anchor=\"middle\" x=\"230.618\" y=\"-51.9471\" font-family=\"Times,serif\" font-size=\"8.00\">EphTask</text>\n",
       "</g>\n",
       "<!-- w0_t1&#45;&gt;w2_t0 -->\n",
       "<g id=\"edge6\" class=\"edge\"><title>w0_t1&#45;&gt;w2_t0</title>\n",
       "<path fill=\"none\" stroke=\"#c85064\" d=\"M93.8492,-343.607C118.159,-292.903 188.492,-146.209 217.682,-85.3262\"/>\n",
       "<polygon fill=\"#c85064\" stroke=\"#c85064\" points=\"220.993,-86.5176 222.16,-75.9873 214.681,-83.4913 220.993,-86.5176\"/>\n",
       "<text text-anchor=\"middle\" x=\"140.211\" y=\"-217.267\" font-family=\"Times,serif\" font-size=\"14.00\">WFK</text>\n",
       "</g>\n",
       "<!-- w2_t1 -->\n",
       "<g id=\"node8\" class=\"node\"><title>w2_t1</title>\n",
       "<ellipse fill=\"#ff8000\" stroke=\"#ff8000\" cx=\"298.145\" cy=\"-76.8702\" rx=\"29.3699\" ry=\"18\"/>\n",
       "<text text-anchor=\"middle\" x=\"298.145\" y=\"-78.4702\" font-family=\"Times,serif\" font-size=\"8.00\">w2_t1</text>\n",
       "<text text-anchor=\"middle\" x=\"298.145\" y=\"-70.4702\" font-family=\"Times,serif\" font-size=\"8.00\">EphTask</text>\n",
       "</g>\n",
       "<!-- w0_t1&#45;&gt;w2_t1 -->\n",
       "<g id=\"edge7\" class=\"edge\"><title>w0_t1&#45;&gt;w2_t1</title>\n",
       "<path fill=\"none\" stroke=\"#c85064\" d=\"M97.7716,-344.683C133.534,-296.884 237.28,-158.221 279.72,-101.496\"/>\n",
       "<polygon fill=\"#c85064\" stroke=\"#c85064\" points=\"282.566,-103.535 285.754,-93.4314 276.961,-99.3417 282.566,-103.535\"/>\n",
       "<text text-anchor=\"middle\" x=\"173.191\" y=\"-225.89\" font-family=\"Times,serif\" font-size=\"14.00\">WFK</text>\n",
       "</g>\n",
       "<!-- w2_t2 -->\n",
       "<g id=\"node9\" class=\"node\"><title>w2_t2</title>\n",
       "<ellipse fill=\"#ff8000\" stroke=\"#ff8000\" cx=\"264.376\" cy=\"-206.599\" rx=\"29.3699\" ry=\"18\"/>\n",
       "<text text-anchor=\"middle\" x=\"264.376\" y=\"-208.199\" font-family=\"Times,serif\" font-size=\"8.00\">w2_t2</text>\n",
       "<text text-anchor=\"middle\" x=\"264.376\" y=\"-200.199\" font-family=\"Times,serif\" font-size=\"8.00\">EphTask</text>\n",
       "</g>\n",
       "<!-- w0_t1&#45;&gt;w2_t2 -->\n",
       "<g id=\"edge8\" class=\"edge\"><title>w0_t1&#45;&gt;w2_t2</title>\n",
       "<path fill=\"none\" stroke=\"#c85064\" d=\"M102.9,-346.094C134.871,-318.475 202.839,-259.759 239.575,-228.024\"/>\n",
       "<polygon fill=\"#c85064\" stroke=\"#c85064\" points=\"242.065,-230.498 247.345,-221.312 237.489,-225.2 242.065,-230.498\"/>\n",
       "<text text-anchor=\"middle\" x=\"155.682\" y=\"-289.859\" font-family=\"Times,serif\" font-size=\"14.00\">WFK</text>\n",
       "</g>\n",
       "<!-- DDB (w1) -->\n",
       "<g id=\"node10\" class=\"node\"><title>DDB (w1)</title>\n",
       "<ellipse fill=\"#b2dfee\" stroke=\"#b2dfee\" cx=\"302.369\" cy=\"-465.033\" rx=\"47.8752\" ry=\"18\"/>\n",
       "<text text-anchor=\"middle\" x=\"302.369\" y=\"-460.833\" font-family=\"Times,serif\" font-size=\"14.00\">DDB (w1)</text>\n",
       "</g>\n",
       "<!-- DDB (w1)&#45;&gt;w2_t0 -->\n",
       "<g id=\"edge9\" class=\"edge\"><title>DDB (w1)&#45;&gt;w2_t0</title>\n",
       "<path fill=\"none\" stroke=\"black\" d=\"M299.193,-447.033C287.874,-382.874 249.44,-165.031 235.619,-86.6971\"/>\n",
       "<polygon fill=\"black\" stroke=\"black\" points=\"239.022,-85.84 233.838,-76.6002 232.129,-87.0562 239.022,-85.84\"/>\n",
       "</g>\n",
       "<!-- DDB (w1)&#45;&gt;w2_t1 -->\n",
       "<g id=\"edge13\" class=\"edge\"><title>DDB (w1)&#45;&gt;w2_t1</title>\n",
       "<path fill=\"none\" stroke=\"black\" d=\"M302.171,-446.832C301.494,-384.688 299.274,-180.588 298.453,-105.19\"/>\n",
       "<polygon fill=\"black\" stroke=\"black\" points=\"301.952,-104.993 298.343,-95.032 294.952,-105.07 301.952,-104.993\"/>\n",
       "</g>\n",
       "<!-- DDB (w1)&#45;&gt;w2_t2 -->\n",
       "<g id=\"edge15\" class=\"edge\"><title>DDB (w1)&#45;&gt;w2_t2</title>\n",
       "<path fill=\"none\" stroke=\"black\" d=\"M299.697,-446.86C293.171,-402.468 276.379,-288.249 268.532,-234.874\"/>\n",
       "<polygon fill=\"black\" stroke=\"black\" points=\"271.962,-234.136 267.044,-224.752 265.036,-235.154 271.962,-234.136\"/>\n",
       "</g>\n",
       "<!-- DVDB (w1) -->\n",
       "<g id=\"node12\" class=\"node\"><title>DVDB (w1)</title>\n",
       "<ellipse fill=\"#b2dfee\" stroke=\"#b2dfee\" cx=\"525.481\" cy=\"-143.343\" rx=\"54.1475\" ry=\"18\"/>\n",
       "<text text-anchor=\"middle\" x=\"525.481\" y=\"-139.143\" font-family=\"Times,serif\" font-size=\"14.00\">DVDB (w1)</text>\n",
       "</g>\n",
       "<!-- DVDB (w1)&#45;&gt;w2_t0 -->\n",
       "<g id=\"edge11\" class=\"edge\"><title>DVDB (w1)&#45;&gt;w2_t0</title>\n",
       "<path fill=\"none\" stroke=\"black\" d=\"M484.482,-131.525C426.681,-114.863 322.146,-84.7307 266.977,-68.8278\"/>\n",
       "<polygon fill=\"black\" stroke=\"black\" points=\"267.85,-65.4372 257.272,-66.0304 265.911,-72.1633 267.85,-65.4372\"/>\n",
       "</g>\n",
       "<!-- DVDB (w1)&#45;&gt;w2_t1 -->\n",
       "<g id=\"edge14\" class=\"edge\"><title>DVDB (w1)&#45;&gt;w2_t1</title>\n",
       "<path fill=\"none\" stroke=\"black\" d=\"M484.838,-131.459C442.127,-118.97 375.561,-99.5065 334.526,-87.5078\"/>\n",
       "<polygon fill=\"black\" stroke=\"black\" points=\"335.504,-84.1473 324.924,-84.7001 333.539,-90.866 335.504,-84.1473\"/>\n",
       "</g>\n",
       "<!-- DVDB (w1)&#45;&gt;w2_t2 -->\n",
       "<g id=\"edge16\" class=\"edge\"><title>DVDB (w1)&#45;&gt;w2_t2</title>\n",
       "<path fill=\"none\" stroke=\"black\" d=\"M481.483,-154.002C431.113,-166.205 349.458,-185.987 301.95,-197.496\"/>\n",
       "<polygon fill=\"black\" stroke=\"black\" points=\"300.964,-194.134 292.069,-199.89 302.612,-200.937 300.964,-194.134\"/>\n",
       "</g>\n",
       "<!-- __0:clusterw1 -->\n",
       "<!-- __0:clusterw1&#45;&gt;DDB (w1) -->\n",
       "<g id=\"edge17\" class=\"edge\"><title>__0:clusterw1&#45;&gt;DDB (w1)</title>\n",
       "<path fill=\"none\" stroke=\"#696969\" d=\"M362.805,-433.493C354.627,-437.761 346.801,-441.845 339.652,-445.576\"/>\n",
       "<polygon fill=\"#696969\" stroke=\"#696969\" points=\"337.599,-442.699 330.353,-450.429 340.838,-448.905 337.599,-442.699\"/>\n",
       "</g>\n",
       "<!-- __1:clusterw1 -->\n",
       "<!-- __1:clusterw1&#45;&gt;DVDB (w1) -->\n",
       "<g id=\"edge18\" class=\"edge\"><title>__1:clusterw1&#45;&gt;DVDB (w1)</title>\n",
       "<path fill=\"none\" stroke=\"#696969\" d=\"M497.44,-279.154C505.446,-240.377 514.126,-198.339 519.674,-171.468\"/>\n",
       "<polygon fill=\"#696969\" stroke=\"#696969\" points=\"523.115,-172.113 521.709,-161.612 516.259,-170.697 523.115,-172.113\"/>\n",
       "</g>\n",
       "</g>\n",
       "</svg>\n"
      ],
      "text/plain": [
       "<graphviz.dot.Digraph at 0x181e723278>"
      ]
     },
     "execution_count": 33,
     "metadata": {},
     "output_type": "execute_result"
    }
   ],
   "source": [
    "# EPH tasks require 3 input files (WFK, DDB, DVDB)\n",
    "eph_deps = {ph_flow[0][1]: \"WFK\", ph_work: [\"DDB\", \"DVDB\"]}\n",
    "\n",
    "for i, ecut in enumerate([2, 3, 4]):\n",
    "    ph_flow.register_eph_task(nscf_input.new_with_vars(ecut=ecut), deps=eph_deps, append=(i != 0))\n",
    "                           \n",
    "ph_flow.get_graphviz()"
   ]
  },
  {
   "cell_type": "markdown",
   "metadata": {},
   "source": [
    "This explains why in AbiPy we have this classification in terms of `Tasks/Works/Flows`.\n",
    "As a consequence, we can implement highly specialized `Works/Tasks` to\n",
    "solve specific problems and then connect all these nodes together.\n",
    "Just 11 lines of code to get electrons + phonons + (electrons + phononons)!\n",
    "\n",
    "But wait, did you see the gorilla?"
   ]
  },
  {
   "cell_type": "code",
   "execution_count": 34,
   "metadata": {},
   "outputs": [
    {
     "data": {
      "image/jpeg": "[encoded data removed]",
      "text/html": [
       "\n",
       "        <iframe\n",
       "            width=\"400\"\n",
       "            height=\"300\"\n",
       "            src=\"https://www.youtube.com/embed/vJG698U2Mvo\"\n",
       "            frameborder=\"0\"\n",
       "            allowfullscreen\n",
       "        ></iframe>\n",
       "        "
      ],
      "text/plain": [
       "<IPython.lib.display.YouTubeVideo at 0x181e655f98>"
      ]
     },
     "execution_count": 34,
     "metadata": {},
     "output_type": "execute_result"
    }
   ],
   "source": [
    "from IPython.display import YouTubeVideo\n",
    "YouTubeVideo(\"vJG698U2Mvo\")"
   ]
  },
  {
   "cell_type": "markdown",
   "metadata": {},
   "source": [
    "There's indeed a bug in the last step. The connections among the nodes are OK but we made\n",
    "a mistake while creating the `EPhTasks` with:\n",
    "\n",
    "```python\n",
    "ph_flow.register_eph_task(nscf_input.new_with_vars(ecut=ecut), ...)\n",
    "```\n",
    "\n",
    "because we passed an input for a standard band structure calculation to something that is supposed\n",
    "to deal with E-PH interaction.\n",
    "This essentially to stress that the AbiPy `Flow`, *by design*, does not try to validate your input to make sure\n",
    "it is consistent with the workflow logic.\n",
    "This is done on purpose for two reasons:\n",
    "\n",
    "- Expert users should be able to customize/tune their input files and validating all the possible cases in python is not trivial\n",
    "- Only Abinit (and God) knows at run-time if your input file makes sense and we can't reimplement the same logic in python\n",
    "\n",
    "At this point, you may wonder why we have so many different Abipy Tasks (`ScfTask`, `NscfTask`, `RelaxTask`, `PhononTask`, `EPHTask` ...) if there's no input validation when we create them...\n",
    "\n",
    "The answer is that we need all these subclasses to implement extra logic that is specific to that particular calculation. Abipy, indeed, is not just submitting jobs. It also monitors the evolution of the calculation\n",
    "and execute pre-defined code to fix run-time problems (and these problems are calculation specific).\n",
    "An example will help clarify this point.\n",
    "\n",
    "Restarting jobs is one of the typical problem encountered in ab-initio calculations\n",
    "and restarting a `RelaxTask` requires a different logic from e.g. restarting a `ScfTask`.\n",
    "In the case of a `ScfTask` we only need to use the output WFK (DEN) of the previous execution \n",
    "as input of the restarted job while a `RelaxTask` must also re-use the (unconverged) final structure \n",
    "of the previous job to be effective and avoid a possibly infinite loop.\n",
    "In a nutshell, when you are using a particular `Task/Work` class you are telling AbiPy how to handle possible\n",
    "problems at run-time and you are also specifying the actions that should be performed \n",
    "at the beginning/end of the execution."
   ]
  },
  {
   "cell_type": "markdown",
   "metadata": {},
   "source": [
    "## Abirun.py\n",
    "[[back to top](#top)]\n",
    "\n",
    "Executing \n",
    "\n",
    "```python \n",
    "flow.make_scheduler().start()\n",
    "``` \n",
    "\n",
    "inside a jupyter notebook is handy if you are dealing with small calculations that require few seconds or minutes. \n",
    "This approach, however, is unpractical when you have large flows or big calculations requiring hours or days, \n",
    "even on massively parallel machines.\n",
    "In this case, indeed, one would like to run the scheduler in a separate process in the backgroud \n",
    "so that the scheduler is not killed when the jupyter server is closed.\n",
    "\n",
    "To start the scheduler in a separate process, use the `abirun.py` script.\n",
    "The syntax is:\n",
    "\n",
    "    abirun.py flow_workdir COMMAND\n",
    "\n",
    "where `flow_workdir` is the directory containing the `Flow` \n",
    "(the directory with the pickle file) and `command` selects the operation to be performed.\n",
    "\n",
    "Typical examples:\n",
    "\n",
    "    abirun.py /tmp/hello_bands status\n",
    "    \n",
    "checks the status of the `Flow` and print the results to screen while\n",
    "\n",
    "    nohup abirun.py /tmp/hello_bands scheduler > sched.log 2> sched.err &\n",
    "    \n",
    "starts the scheduler in the background redirecting the standard output to file `sched.log`\n",
    "\n",
    "<div class=\"alert alert-success\">\n",
    "`nohup` is a standard Unix tool. The command make the scheduler immune \n",
    "to hangups so that you can close the shell session without killing the scheduler.\n",
    "</div>\n",
    "\n",
    "This brings us to the last and most crucial question. \n",
    "How do we configure AbiPy to run Abinit workflows on different architectures ranging from \n",
    "standard laptops to high-performance supercomputers?\n",
    "\n",
    "Unfortunately this notebook is already quite long and these details are best covered \n",
    "in a technical documentation.\n",
    "What should be stressed here is that the behaviour can be customized with two Yaml files.\n",
    "All the information related to your environment (Abinit build, modules, resource managers, shell environment)\n",
    "are read from the `manager.yml` configuration file, that is usually located in the directory `~/.abinit/abipy/`\n",
    "The options for the python scheduler responsible for job submission are given in `scheduler.yml`.\n",
    "\n",
    "For a more complete description of these configuration options, \n",
    "please consult the [TaskManager documentation](http://abinit.github.io/abipy/workflows/taskmanager.html).\n",
    "A list of configuration files for different machines and clusters is available \n",
    "[here](http://abinit.github.io/abipy/workflows/manager_examples.html)\n",
    "while the [Flows HOWTO](http://abinit.github.io/abipy/flows_howto.html)\n",
    "gathers answers to frequently asked questions.\n",
    "\n",
    "Last but not least, check out our \n",
    "[gallery of AbiPy Flows](http://abinit.github.io/abipy/flow_gallery/index.html) for inspiration."
   ]
  },
  {
   "cell_type": "markdown",
   "metadata": {},
   "source": [
    "Back to the main [Index](index.ipynb)"
   ]
  },
  {
   "cell_type": "code",
   "execution_count": null,
   "metadata": {
    "collapsed": true
   },
   "outputs": [],
   "source": []
  }
 ],
 "metadata": {
  "anaconda-cloud": {},
  "kernelspec": {
   "display_name": "Python [conda env:env3.6]",
   "language": "python",
   "name": "conda-env-env3.6-py"
  },
  "language_info": {
   "codemirror_mode": {
    "name": "ipython",
    "version": 3
   },
   "file_extension": ".py",
   "mimetype": "text/x-python",
   "name": "python",
   "nbconvert_exporter": "python",
   "pygments_lexer": "ipython3",
   "version": "3.6.1"
  },
  "latex_envs": {
   "bibliofile": "biblio.bib",
   "cite_by": "apalike",
   "current_citInitial": 1,
   "eqLabelWithNumbers": true,
   "eqNumInitial": 0
  }
 },
 "nbformat": 4,
 "nbformat_minor": 2
}
