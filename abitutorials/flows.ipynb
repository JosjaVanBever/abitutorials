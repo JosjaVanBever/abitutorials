{
 "cells": [
  {
   "cell_type": "markdown",
   "metadata": {},
   "source": [
    "Back to the main [Index](index.ipynb) <a id=\"top\"></a>"
   ]
  },
  {
   "cell_type": "markdown",
   "metadata": {},
   "source": [
    "# Tasks, Workflows and Flow\n",
    "\n",
    "\n",
    "## Table of Contents\n",
    "[[back to top](#top)]\n",
    "\n",
    "- [Building a Flow for band structure calculations](#Building-a-Flow-for-band-structure-calculations)\n",
    "- [How to build and run the Flow](#How-to-build-and-run-the-Flow)\n",
    "- [Executing a Flow](#Executing-a-Flow)\n",
    "- [More on Works, Tasks and dependencies](#More-on-Works,-Tasks-and-dependencies)\n",
    "- [Abirun.py](#Abirun.py)\n",
    "\n",
    "In this notebook we discuss some of the basic concepts used in AbiPy \n",
    "to automate ab-initio calculations. \n",
    "In particular we will focus on the following three objects: \n",
    "\n",
    "   * `Task`\n",
    "   * `Work`\n",
    "   * `Flow`\n",
    "   \n",
    "The `Task` represent the most *elementary step* of the automatic workflow. \n",
    "Roughly speaking, it corresponds to the execution of a single Abinit calculation **without** multiple datasets.\n",
    "\n",
    "From the point of view of AbiPy, a calculation consists of a set of `Tasks` that are connected \n",
    "by dependencies. \n",
    "Each task has a list of files that are needed to start the calculation, \n",
    "and a list of files that are produced at the end of the run.\n",
    "\n",
    "Some of the input files needed by a `Task` must be provided by the user in the form of Abinit input variables \n",
    "(e.g. the crystalline structure, the pseudopotentials), other inputs may be produced by other tasks.\n",
    "When a `Task` **B** requires the output file `DEN` of another task **A**, \n",
    "we say that **B** depends on **A** through a `DEN` file, and we express this dependency with the dictionary:\n",
    "\n",
    "```python\n",
    "B_deps = {A: \"DEN\"}\n",
    "```\n",
    "\n",
    "To clarify this point, let's take a standard KS band structure calculation as an example.\n",
    "In this case, we have an initial `ScfTask` that solves the KS equations self-consistently to produce a `DEN` file. \n",
    "The density is then used by a second `NscfTask` to compute a band structure on an arbitrary \n",
    "set of $k$-points.\n",
    "The `NscfTask` thus has a dependency on the `ScfTask` in the sense that it cannot be executed \n",
    "until the `ScfTask` is completed and the `DEN` file is produced by the `ScfTask`.\n",
    "\n",
    "Now that we have clarified the concept of `Task`, we can finally turn to `Works` and `Flow`.\n",
    "The `Work` can be seen as a list of `Tasks`, while the `Flow` is essentially a list of `Work` objects.\n",
    "Works are usually used to group tasks that are connected to each other.\n",
    "Flows are the final objects that are executed. The `Flow` provides an easy-to-use\n",
    "interface for performing this execution. \n",
    "The `Flow` provides a high-level API to perform common operations like launching the actual jobs, checking the status of the `Tasks`, correcting problems etc. \n",
    "\n",
    "AbiPy provides several tools to generate Flows for typical first-principles calculations, so called factory functions.\n",
    "This means that you do not need to understand all the technical details of the python implementation.\n",
    "In many cases, indeed, we already provide some kind of `Work` or `Flow` that automates \n",
    "your calculation, and you only need to provide the correct list of input files.\n",
    "This list, obviously, must be consistent with the kind Flow/Work you are using.\n",
    "(For instance, you should not pass a list of inputs for performing a band structure calculation to a Work \n",
    "that is expected to compute phonons with DFPT!)\n",
    "\n",
    "All the `Works` and the `Tasks` of a flow are created and executed inside the working directory (`workdir`). \n",
    "This is usually specified by the user during the creation of the `Flow` object.\n",
    "AbiPy creates the workdir of the different Works/Tasks when the `Flow` is executed\n",
    "for the first time.\n",
    "\n",
    "Each `Task` contains a set of input variables that will be used to generate the \n",
    "Abinit input file. \n",
    "This input **must** be provided by the user during the creation of the `Task`.\n",
    "Fortunately, AbiPy provides an object named `AbinitInput` to facilitate the creation \n",
    "of such input. \n",
    "Once you have an `AbinitInput`, you can create the corresponding `Task` with the (pseudo) code:\n",
    "\n",
    "```python\n",
    "new_task = Task(abinit_input_object)\n",
    "```\n",
    "\n",
    "The `Task` provides several methods for monitoring the status of the calculation and \n",
    "post-processing the results.\n",
    "Note that the concept of dependency is not limited to files. All the Tasks in the \n",
    "flow are connected and can interact with each other. This allows programmers to implements python\n",
    "functions that will be invoked by the framework at run time. For example, one can \n",
    "implement a Task that fetches the relaxed structure from a previous Task and \n",
    "use this configuration to start a DFPT calculation.\n",
    "\n",
    "In the next paragraph, we discuss how to construct a `Flow` for band-structure calculations\n",
    "with a high-level interface that only requires the specifications of the input files.\n",
    "This example allows us to discuss the most important methods of the `Flow`."
   ]
  },
  {
   "cell_type": "markdown",
   "metadata": {},
   "source": [
    "## Building a Flow for band structure calculations\n",
    "[[back to top](#top)]\n",
    "\n",
    "Let's start by creating a function that produces two input files. \n",
    "The first input is a standard self-consistent ground-state run.\n",
    "The second input uses the density produced in the first run to perform \n",
    "a non self-consistent band structure calculation."
   ]
  },
  {
   "cell_type": "code",
   "execution_count": 1,
   "metadata": {},
   "outputs": [],
   "source": [
    "from __future__ import division, print_function, unicode_literals\n",
    "\n",
    "# This line configures matplotlib to show figures embedded in the notebook.\n",
    "# Replace `inline` with `notebook` in classic notebook\n",
    "%matplotlib inline   \n",
    "\n",
    "# Option available in jupyterlab. See https://github.com/matplotlib/jupyter-matplotlib\n",
    "#%matplotlib widget  \n",
    "\n",
    "import warnings\n",
    "warnings.filterwarnings(\"ignore\") # to get rid of deprecation warnings\n",
    "\n",
    "from abipy import abilab\n",
    "import abipy.flowtk as flowtk\n",
    "import abipy.data as abidata\n",
    "\n",
    "def make_scf_nscf_inputs():\n",
    "    \"\"\"Build ands return the input files for the GS-SCF and the GS-NSCF tasks.\"\"\"\n",
    "    multi = abilab.MultiDataset(structure=abidata.cif_file(\"si.cif\"),\n",
    "                                pseudos=abidata.pseudos(\"14si.pspnc\"), ndtset=2)\n",
    "\n",
    "    # Set global variables (dataset1 and dataset2)\n",
    "    multi.set_vars(ecut=6, nband=8)\n",
    "\n",
    "    # Dataset 1 (GS-SCF run)\n",
    "    multi[0].set_kmesh(ngkpt=[8,8,8], shiftk=[0,0,0])\n",
    "    multi[0].set_vars(tolvrs=1e-6)\n",
    "\n",
    "    # Dataset 2 (GS-NSCF run on a k-path)\n",
    "    kptbounds = [\n",
    "        [0.5, 0.0, 0.0], # L point\n",
    "        [0.0, 0.0, 0.0], # Gamma point\n",
    "        [0.0, 0.5, 0.5], # X point\n",
    "    ]\n",
    "\n",
    "    multi[1].set_kpath(ndivsm=6, kptbounds=kptbounds)\n",
    "    multi[1].set_vars(tolwfr=1e-12)\n",
    "    \n",
    "    # Return two input files for the GS and the NSCF run\n",
    "    scf_input, nscf_input = multi.split_datasets()\n",
    "    return scf_input, nscf_input"
   ]
  },
  {
   "cell_type": "markdown",
   "metadata": {},
   "source": [
    "Once we have our two input files, we pass them to the \n",
    "factory function `bandstructure_flow` that returns our `Flow`."
   ]
  },
  {
   "cell_type": "code",
   "execution_count": 2,
   "metadata": {},
   "outputs": [],
   "source": [
    "scf_input, nscf_input = make_scf_nscf_inputs()\n",
    "\n",
    "workdir = \"/tmp/hello_bands\"\n",
    "flow = flowtk.bandstructure_flow(workdir, scf_input, nscf_input)"
   ]
  },
  {
   "cell_type": "markdown",
   "metadata": {},
   "source": [
    "`bandstructure_flow` took care of creating the correct dependency between the two tasks.\n",
    "The `NscfTask`, indeed,  depends on the `ScfTask` in w0/t0, whereas the `ScfTask` has no dependency:"
   ]
  },
  {
   "cell_type": "code",
   "execution_count": 3,
   "metadata": {},
   "outputs": [
    {
     "data": {
      "image/svg+xml": [
       "<?xml version=\"1.0\" encoding=\"UTF-8\" standalone=\"no\"?>\n",
       "<!DOCTYPE svg PUBLIC \"-//W3C//DTD SVG 1.1//EN\"\n",
       " \"http://www.w3.org/Graphics/SVG/1.1/DTD/svg11.dtd\">\n",
       "<!-- Generated by graphviz version 2.40.1 (20161225.0304)\n",
       " -->\n",
       "<!-- Title: flow Pages: 1 -->\n",
       "<svg width=\"354pt\" height=\"152pt\"\n",
       " viewBox=\"0.00 0.00 353.87 152.00\" xmlns=\"http://www.w3.org/2000/svg\" xmlns:xlink=\"http://www.w3.org/1999/xlink\">\n",
       "<g id=\"graph0\" class=\"graph\" transform=\"scale(1 1) rotate(0) translate(11.9341 126)\">\n",
       "<title>flow</title>\n",
       "<polygon fill=\"#ffffff\" stroke=\"transparent\" points=\"-11.9341,26 -11.9341,-126 341.9341,-126 341.9341,26 -11.9341,26\"/>\n",
       "<text text-anchor=\"start\" x=\".0659\" y=\"15.2\" font-family=\"Times,serif\" font-size=\"14.00\" fill=\"#000000\">Flow, node_id=66145, workdir=../../../../../tmp/hello_bands</text>\n",
       "<g id=\"clust1\" class=\"cluster\">\n",
       "<title>clusterw0</title>\n",
       "<path fill=\"#e0eeee\" stroke=\"#000000\" d=\"M98.2381,.3591C98.2381,.3591 232.2381,.3591 232.2381,.3591 238.2381,.3591 244.2381,-5.6409 244.2381,-11.6409 244.2381,-11.6409 244.2381,-109.6409 244.2381,-109.6409 244.2381,-115.6409 238.2381,-121.6409 232.2381,-121.6409 232.2381,-121.6409 98.2381,-121.6409 98.2381,-121.6409 92.2381,-121.6409 86.2381,-115.6409 86.2381,-109.6409 86.2381,-109.6409 86.2381,-11.6409 86.2381,-11.6409 86.2381,-5.6409 92.2381,.3591 98.2381,.3591\"/>\n",
       "<text text-anchor=\"middle\" x=\"165.2381\" y=\"-106.4409\" font-family=\"Times,serif\" font-size=\"14.00\" fill=\"#000000\">BandStructureWork (w0)</text>\n",
       "</g>\n",
       "<!-- w0_t0 -->\n",
       "<g id=\"node1\" class=\"node\">\n",
       "<title>w0_t0</title>\n",
       "<ellipse fill=\"#ff0000\" stroke=\"#ff0000\" cx=\"195.4762\" cy=\"-73.2818\" rx=\"27.8878\" ry=\"18\"/>\n",
       "<text text-anchor=\"middle\" x=\"195.4762\" y=\"-74.8818\" font-family=\"Times,serif\" font-size=\"8.00\" fill=\"#000000\">w0_t0</text>\n",
       "<text text-anchor=\"middle\" x=\"195.4762\" y=\"-66.8818\" font-family=\"Times,serif\" font-size=\"8.00\" fill=\"#000000\">ScfTask</text>\n",
       "</g>\n",
       "<!-- w0_t1 -->\n",
       "<g id=\"node2\" class=\"node\">\n",
       "<title>w0_t1</title>\n",
       "<ellipse fill=\"#c85064\" stroke=\"#c85064\" cx=\"138.4762\" cy=\"-25.2818\" rx=\"30.8467\" ry=\"18\"/>\n",
       "<text text-anchor=\"middle\" x=\"138.4762\" y=\"-26.8818\" font-family=\"Times,serif\" font-size=\"8.00\" fill=\"#000000\">w0_t1</text>\n",
       "<text text-anchor=\"middle\" x=\"138.4762\" y=\"-18.8818\" font-family=\"Times,serif\" font-size=\"8.00\" fill=\"#000000\">NscfTask</text>\n",
       "</g>\n",
       "<!-- w0_t0&#45;&gt;w0_t1 -->\n",
       "<g id=\"edge1\" class=\"edge\">\n",
       "<title>w0_t0&#45;&gt;w0_t1</title>\n",
       "<path fill=\"none\" stroke=\"#ff0000\" d=\"M178.3744,-58.8802C173.9207,-55.1298 169.0225,-51.005 164.2289,-46.9683\"/>\n",
       "<polygon fill=\"#ff0000\" stroke=\"#ff0000\" points=\"166.2611,-44.1038 156.3574,-40.3396 161.7521,-49.4582 166.2611,-44.1038\"/>\n",
       "<text text-anchor=\"middle\" x=\"185.6879\" y=\"-41.7242\" font-family=\"Times,serif\" font-size=\"14.00\" fill=\"#000000\">DEN</text>\n",
       "</g>\n",
       "</g>\n",
       "</svg>\n"
      ],
      "text/plain": [
       "<graphviz.dot.Digraph at 0x1054ccef0>"
      ]
     },
     "execution_count": 3,
     "metadata": {},
     "output_type": "execute_result"
    }
   ],
   "source": [
    "flow.get_graphviz()"
   ]
  },
  {
   "cell_type": "markdown",
   "metadata": {},
   "source": [
    "<div class=\"alert alert-success\" role=\"alert\">\n",
    "Note that we have not used `getden2 = -1` in the second dataset \n",
    "since AbiPy knows how to connect the two Tasks.\n",
    "So no need for `get*` or `ird*` variables with Abipy. \n",
    "Just specify the correct dependency and python will do the rest!\n",
    "</div>"
   ]
  },
  {
   "cell_type": "markdown",
   "metadata": {},
   "source": [
    "To have useful information on the status of the flow, one uses:"
   ]
  },
  {
   "cell_type": "code",
   "execution_count": 4,
   "metadata": {},
   "outputs": [
    {
     "name": "stdout",
     "output_type": "stream",
     "text": [
      "\n",
      "Work #0: <BandStructureWork, node_id=66146, workdir=../../../../../tmp/hello_bands/w0>, Finalized=False\n",
      "+--------+-------------+---------+--------------+------------+----------+-----------------+--------+-----------+\n",
      "| Task   | Status      | Queue   | MPI|Omp|Gb   | Warn|Com   | Class    | Sub|Rest|Corr   | Time   |   Node_ID |\n",
      "+========+=============+=========+==============+============+==========+=================+========+===========+\n",
      "| w0_t0  | Initialized\u001b[0m | None    | 1|  1|2.0    | NA|NA      | ScfTask  | (0, 0, 0)       | None   |     66147 |\n",
      "+--------+-------------+---------+--------------+------------+----------+-----------------+--------+-----------+\n",
      "| w0_t1  | Initialized\u001b[0m | None    | 1|  1|2.0    | NA|NA      | NscfTask | (0, 0, 0)       | None   |     66148 |\n",
      "+--------+-------------+---------+--------------+------------+----------+-----------------+--------+-----------+\n",
      "\n"
     ]
    }
   ],
   "source": [
    "flow.show_status()"
   ]
  },
  {
   "cell_type": "markdown",
   "metadata": {},
   "source": [
    "Meaning of the different columns:\n",
    "    \n",
    "   * *Task*: short name of the task (usually *w[index_of_work_in_flow]_t[index_of_task_in_work]*\n",
    "   * *Status*: Status of the task\n",
    "   * *Queue*: QueueName@Job identifier returned by the resource manager when the task is submitted\n",
    "   * *(MPI|Omp|Gb)*: Number of MPI procs, OMP threads, and memory per MPI proc\n",
    "   * *(Warn|Com)*: Number of Error/Warning/Comment messages found in the ABINIT log\n",
    "   * *Class*: The class of the `Task`\n",
    "   * *(Sub|Rest|Corr)*: Number of (submissions/restart/AbiPy corrections) performed\n",
    "   * *Node_ID* : identifier of the task, used to select tasks or works in python code or `abirun.py`"
   ]
  },
  {
   "cell_type": "markdown",
   "metadata": {},
   "source": [
    "Both `Flow` and `Work` are *iterable*. \n",
    "Iterating on a `Flow` gives `Work` objects, whereas\n",
    "iterating over a `Work` gives the `Tasks` inside that particular `Work`.\n",
    "\n",
    "```python\n",
    "for work in flow:\n",
    "    for task in work:\n",
    "        print(task)\n",
    "```\n",
    "\n",
    "`Flows` and `Works` are containers and we can select items in these containers\n",
    "with the syntax: flow[start:stop] or work[start:stop].\n",
    "This means that the previous loop is equivalent to the much more verbose version: \n",
    "\n",
    "```python\n",
    "for i in range(len(flow)):\n",
    "    work = flow[i]\n",
    "    for t in range(len(work):\n",
    "        print(work[t])\n",
    "```\n",
    "\n",
    "At this point it should not be so difficult to understand that:\n",
    "\n",
    "```python\n",
    "flow[0][0]\n",
    "```\n",
    "\n",
    "gives the first task in the first work of the flow while\n",
    "\n",
    "```python\n",
    "flow[-1][-1]\n",
    "```\n",
    "\n",
    "selects the last `Task` in the last `Work`.\n",
    "In several cases, we only need to iterate over a flat list of tasks without caring about the works.\n",
    "In this case, we can use:\n",
    "\n",
    "```python\n",
    "for task in flow.iflat_tasks():\n",
    "    print(task)\n",
    "```\n",
    "\n",
    "to iterate over all Tasks in the Flow."
   ]
  },
  {
   "cell_type": "markdown",
   "metadata": {},
   "source": [
    "## How to build and run the Flow\n",
    "[[back to top](#top)]\n",
    "\n",
    "The flow is still in memory and no file has been produced. \n",
    "In order to build the workflow, use: "
   ]
  },
  {
   "cell_type": "code",
   "execution_count": 5,
   "metadata": {},
   "outputs": [
    {
     "data": {
      "text/plain": [
       "0"
      ]
     },
     "execution_count": 5,
     "metadata": {},
     "output_type": "execute_result"
    }
   ],
   "source": [
    "#rm -rf /tmp/hello_bands/\n",
    "flow.build_and_pickle_dump()"
   ]
  },
  {
   "cell_type": "markdown",
   "metadata": {},
   "source": [
    "This function creates the directories of the `Flow`:\n",
    "\n",
    "(If you rely on MacOSX, the tree command might not be available. To fix this, see http://osxdaily.com/2016/09/09/view-folder-tree-terminal-mac-os-tree-equivalent/)"
   ]
  },
  {
   "cell_type": "code",
   "execution_count": 6,
   "metadata": {},
   "outputs": [
    {
     "name": "stdout",
     "output_type": "stream",
     "text": [
      "/bin/sh: tree: command not found\n"
     ]
    }
   ],
   "source": [
    "!tree /tmp/hello_bands"
   ]
  },
  {
   "cell_type": "markdown",
   "metadata": {},
   "source": [
    "Let's have a look at the files/directories associated to the first work (flow[0]):"
   ]
  },
  {
   "cell_type": "code",
   "execution_count": 7,
   "metadata": {},
   "outputs": [
    {
     "data": {
      "image/svg+xml": [
       "<?xml version=\"1.0\" encoding=\"UTF-8\" standalone=\"no\"?>\n",
       "<!DOCTYPE svg PUBLIC \"-//W3C//DTD SVG 1.1//EN\"\n",
       " \"http://www.w3.org/Graphics/SVG/1.1/DTD/svg11.dtd\">\n",
       "<!-- Generated by graphviz version 2.40.1 (20161225.0304)\n",
       " -->\n",
       "<!-- Title: directory Pages: 1 -->\n",
       "<svg width=\"493pt\" height=\"481pt\"\n",
       " viewBox=\"0.00 0.00 493.00 481.00\" xmlns=\"http://www.w3.org/2000/svg\" xmlns:xlink=\"http://www.w3.org/1999/xlink\">\n",
       "<g id=\"graph0\" class=\"graph\" transform=\"scale(1 1) rotate(0) translate(4 455)\">\n",
       "<title>directory</title>\n",
       "<polygon fill=\"#ffffff\" stroke=\"transparent\" points=\"-4,26 -4,-455 489,-455 489,26 -4,26\"/>\n",
       "<text text-anchor=\"middle\" x=\"242.5\" y=\"15.2\" font-family=\"Times,serif\" font-size=\"14.00\" fill=\"#000000\">/tmp/hello_bands/w0</text>\n",
       "<g id=\"clust1\" class=\"cluster\">\n",
       "<title>cluster_/tmp/hello_bands/w0</title>\n",
       "<path fill=\"#e0eeee\" stroke=\"#000000\" d=\"M210.2741,-271.0855C210.2741,-271.0855 220.9407,-271.0855 220.9407,-271.0855 226.2741,-271.0855 231.6074,-276.4188 231.6074,-281.7522 231.6074,-281.7522 231.6074,-298.4188 231.6074,-298.4188 231.6074,-303.7522 226.2741,-309.0855 220.9407,-309.0855 220.9407,-309.0855 210.2741,-309.0855 210.2741,-309.0855 204.9407,-309.0855 199.6074,-303.7522 199.6074,-298.4188 199.6074,-298.4188 199.6074,-281.7522 199.6074,-281.7522 199.6074,-276.4188 204.9407,-271.0855 210.2741,-271.0855\"/>\n",
       "<text text-anchor=\"middle\" x=\"215.6074\" y=\"-293.8855\" font-family=\"Times,serif\" font-size=\"14.00\" fill=\"#000000\">w0</text>\n",
       "</g>\n",
       "<g id=\"clust2\" class=\"cluster\">\n",
       "<title>cluster_/tmp/hello_bands/w0/tmpdata</title>\n",
       "<path fill=\"#e0eeee\" stroke=\"#000000\" d=\"M192.7282,-368.6071C192.7282,-368.6071 228.7282,-368.6071 228.7282,-368.6071 234.7282,-368.6071 240.7282,-374.6071 240.7282,-380.6071 240.7282,-380.6071 240.7282,-394.6071 240.7282,-394.6071 240.7282,-400.6071 234.7282,-406.6071 228.7282,-406.6071 228.7282,-406.6071 192.7282,-406.6071 192.7282,-406.6071 186.7282,-406.6071 180.7282,-400.6071 180.7282,-394.6071 180.7282,-394.6071 180.7282,-380.6071 180.7282,-380.6071 180.7282,-374.6071 186.7282,-368.6071 192.7282,-368.6071\"/>\n",
       "<text text-anchor=\"middle\" x=\"210.7282\" y=\"-391.4071\" font-family=\"Times,serif\" font-size=\"14.00\" fill=\"#000000\">tmpdata</text>\n",
       "</g>\n",
       "<g id=\"clust3\" class=\"cluster\">\n",
       "<title>cluster_/tmp/hello_bands/w0/indata</title>\n",
       "<path fill=\"#e0eeee\" stroke=\"#000000\" d=\"M223.5978,-183.4212C223.5978,-183.4212 249.5978,-183.4212 249.5978,-183.4212 255.5978,-183.4212 261.5978,-189.4212 261.5978,-195.4212 261.5978,-195.4212 261.5978,-209.4212 261.5978,-209.4212 261.5978,-215.4212 255.5978,-221.4212 249.5978,-221.4212 249.5978,-221.4212 223.5978,-221.4212 223.5978,-221.4212 217.5978,-221.4212 211.5978,-215.4212 211.5978,-209.4212 211.5978,-209.4212 211.5978,-195.4212 211.5978,-195.4212 211.5978,-189.4212 217.5978,-183.4212 223.5978,-183.4212\"/>\n",
       "<text text-anchor=\"middle\" x=\"236.5978\" y=\"-206.2212\" font-family=\"Times,serif\" font-size=\"14.00\" fill=\"#000000\">indata</text>\n",
       "</g>\n",
       "<g id=\"clust4\" class=\"cluster\">\n",
       "<title>cluster_/tmp/hello_bands/w0/outdata</title>\n",
       "<path fill=\"#e0eeee\" stroke=\"#000000\" d=\"M122.8765,-320.3149C122.8765,-320.3149 154.8765,-320.3149 154.8765,-320.3149 160.8765,-320.3149 166.8765,-326.3149 166.8765,-332.3149 166.8765,-332.3149 166.8765,-346.3149 166.8765,-346.3149 166.8765,-352.3149 160.8765,-358.3149 154.8765,-358.3149 154.8765,-358.3149 122.8765,-358.3149 122.8765,-358.3149 116.8765,-358.3149 110.8765,-352.3149 110.8765,-346.3149 110.8765,-346.3149 110.8765,-332.3149 110.8765,-332.3149 110.8765,-326.3149 116.8765,-320.3149 122.8765,-320.3149\"/>\n",
       "<text text-anchor=\"middle\" x=\"138.8765\" y=\"-343.1149\" font-family=\"Times,serif\" font-size=\"14.00\" fill=\"#000000\">outdata</text>\n",
       "</g>\n",
       "<g id=\"clust5\" class=\"cluster\">\n",
       "<title>cluster_/tmp/hello_bands/w0/t1</title>\n",
       "<path fill=\"#e0eeee\" stroke=\"#000000\" d=\"M80.534,-71.4582C80.534,-71.4582 191.534,-71.4582 191.534,-71.4582 197.534,-71.4582 203.534,-77.4582 203.534,-83.4582 203.534,-83.4582 203.534,-199.4582 203.534,-199.4582 203.534,-205.4582 197.534,-211.4582 191.534,-211.4582 191.534,-211.4582 80.534,-211.4582 80.534,-211.4582 74.534,-211.4582 68.534,-205.4582 68.534,-199.4582 68.534,-199.4582 68.534,-83.4582 68.534,-83.4582 68.534,-77.4582 74.534,-71.4582 80.534,-71.4582\"/>\n",
       "<text text-anchor=\"middle\" x=\"136.034\" y=\"-196.2582\" font-family=\"Times,serif\" font-size=\"14.00\" fill=\"#000000\">t1</text>\n",
       "</g>\n",
       "<g id=\"clust9\" class=\"cluster\">\n",
       "<title>cluster_/tmp/hello_bands/w0/t0</title>\n",
       "<path fill=\"#e0eeee\" stroke=\"#000000\" d=\"M264.301,-231.1122C264.301,-231.1122 375.301,-231.1122 375.301,-231.1122 381.301,-231.1122 387.301,-237.1122 387.301,-243.1122 387.301,-243.1122 387.301,-359.1122 387.301,-359.1122 387.301,-365.1122 381.301,-371.1122 375.301,-371.1122 375.301,-371.1122 264.301,-371.1122 264.301,-371.1122 258.301,-371.1122 252.301,-365.1122 252.301,-359.1122 252.301,-359.1122 252.301,-243.1122 252.301,-243.1122 252.301,-237.1122 258.301,-231.1122 264.301,-231.1122\"/>\n",
       "<text text-anchor=\"middle\" x=\"319.801\" y=\"-355.9122\" font-family=\"Times,serif\" font-size=\"14.00\" fill=\"#000000\">t0</text>\n",
       "</g>\n",
       "<g id=\"clust6\" class=\"cluster\">\n",
       "<title>cluster_/tmp/hello_bands/w0/t1/tmpdata</title>\n",
       "<path fill=\"#e0eeee\" stroke=\"#000000\" d=\"M78.2013,-15.3231C78.2013,-15.3231 114.2013,-15.3231 114.2013,-15.3231 120.2013,-15.3231 126.2013,-21.3231 126.2013,-27.3231 126.2013,-27.3231 126.2013,-41.3231 126.2013,-41.3231 126.2013,-47.3231 120.2013,-53.3231 114.2013,-53.3231 114.2013,-53.3231 78.2013,-53.3231 78.2013,-53.3231 72.2013,-53.3231 66.2013,-47.3231 66.2013,-41.3231 66.2013,-41.3231 66.2013,-27.3231 66.2013,-27.3231 66.2013,-21.3231 72.2013,-15.3231 78.2013,-15.3231\"/>\n",
       "<text text-anchor=\"middle\" x=\"96.2013\" y=\"-38.1231\" font-family=\"Times,serif\" font-size=\"14.00\" fill=\"#000000\">tmpdata</text>\n",
       "</g>\n",
       "<g id=\"clust7\" class=\"cluster\">\n",
       "<title>cluster_/tmp/hello_bands/w0/t1/indata</title>\n",
       "<path fill=\"#e0eeee\" stroke=\"#000000\" d=\"M236.8843,-.4413C236.8843,-.4413 262.8843,-.4413 262.8843,-.4413 268.8843,-.4413 274.8843,-6.4413 274.8843,-12.4413 274.8843,-12.4413 274.8843,-26.4413 274.8843,-26.4413 274.8843,-32.4413 268.8843,-38.4413 262.8843,-38.4413 262.8843,-38.4413 236.8843,-38.4413 236.8843,-38.4413 230.8843,-38.4413 224.8843,-32.4413 224.8843,-26.4413 224.8843,-26.4413 224.8843,-12.4413 224.8843,-12.4413 224.8843,-6.4413 230.8843,-.4413 236.8843,-.4413\"/>\n",
       "<text text-anchor=\"middle\" x=\"249.8843\" y=\"-23.2413\" font-family=\"Times,serif\" font-size=\"14.00\" fill=\"#000000\">indata</text>\n",
       "</g>\n",
       "<g id=\"clust8\" class=\"cluster\">\n",
       "<title>cluster_/tmp/hello_bands/w0/t1/outdata</title>\n",
       "<path fill=\"#e0eeee\" stroke=\"#000000\" d=\"M11.5602,-133.4279C11.5602,-133.4279 43.5602,-133.4279 43.5602,-133.4279 49.5602,-133.4279 55.5602,-139.4279 55.5602,-145.4279 55.5602,-145.4279 55.5602,-159.4279 55.5602,-159.4279 55.5602,-165.4279 49.5602,-171.4279 43.5602,-171.4279 43.5602,-171.4279 11.5602,-171.4279 11.5602,-171.4279 5.5602,-171.4279 -.4398,-165.4279 -.4398,-159.4279 -.4398,-159.4279 -.4398,-145.4279 -.4398,-145.4279 -.4398,-139.4279 5.5602,-133.4279 11.5602,-133.4279\"/>\n",
       "<text text-anchor=\"middle\" x=\"27.5602\" y=\"-156.2279\" font-family=\"Times,serif\" font-size=\"14.00\" fill=\"#000000\">outdata</text>\n",
       "</g>\n",
       "<g id=\"clust10\" class=\"cluster\">\n",
       "<title>cluster_/tmp/hello_bands/w0/t0/tmpdata</title>\n",
       "<path fill=\"#e0eeee\" stroke=\"#000000\" d=\"M437.4558,-185.0752C437.4558,-185.0752 473.4558,-185.0752 473.4558,-185.0752 479.4558,-185.0752 485.4558,-191.0752 485.4558,-197.0752 485.4558,-197.0752 485.4558,-211.0752 485.4558,-211.0752 485.4558,-217.0752 479.4558,-223.0752 473.4558,-223.0752 473.4558,-223.0752 437.4558,-223.0752 437.4558,-223.0752 431.4558,-223.0752 425.4558,-217.0752 425.4558,-211.0752 425.4558,-211.0752 425.4558,-197.0752 425.4558,-197.0752 425.4558,-191.0752 431.4558,-185.0752 437.4558,-185.0752\"/>\n",
       "<text text-anchor=\"middle\" x=\"455.4558\" y=\"-207.8752\" font-family=\"Times,serif\" font-size=\"14.00\" fill=\"#000000\">tmpdata</text>\n",
       "</g>\n",
       "<g id=\"clust11\" class=\"cluster\">\n",
       "<title>cluster_/tmp/hello_bands/w0/t0/indata</title>\n",
       "<path fill=\"#e0eeee\" stroke=\"#000000\" d=\"M394.117,-413.1261C394.117,-413.1261 420.117,-413.1261 420.117,-413.1261 426.117,-413.1261 432.117,-419.1261 432.117,-425.1261 432.117,-425.1261 432.117,-439.1261 432.117,-439.1261 432.117,-445.1261 426.117,-451.1261 420.117,-451.1261 420.117,-451.1261 394.117,-451.1261 394.117,-451.1261 388.117,-451.1261 382.117,-445.1261 382.117,-439.1261 382.117,-439.1261 382.117,-425.1261 382.117,-425.1261 382.117,-419.1261 388.117,-413.1261 394.117,-413.1261\"/>\n",
       "<text text-anchor=\"middle\" x=\"407.117\" y=\"-435.9261\" font-family=\"Times,serif\" font-size=\"14.00\" fill=\"#000000\">indata</text>\n",
       "</g>\n",
       "<g id=\"clust12\" class=\"cluster\">\n",
       "<title>cluster_/tmp/hello_bands/w0/t0/outdata</title>\n",
       "<path fill=\"#e0eeee\" stroke=\"#000000\" d=\"M136.2006,-253.8523C136.2006,-253.8523 168.2006,-253.8523 168.2006,-253.8523 174.2006,-253.8523 180.2006,-259.8523 180.2006,-265.8523 180.2006,-265.8523 180.2006,-279.8523 180.2006,-279.8523 180.2006,-285.8523 174.2006,-291.8523 168.2006,-291.8523 168.2006,-291.8523 136.2006,-291.8523 136.2006,-291.8523 130.2006,-291.8523 124.2006,-285.8523 124.2006,-279.8523 124.2006,-279.8523 124.2006,-265.8523 124.2006,-265.8523 124.2006,-259.8523 130.2006,-253.8523 136.2006,-253.8523\"/>\n",
       "<text text-anchor=\"middle\" x=\"152.2006\" y=\"-276.6523\" font-family=\"Times,serif\" font-size=\"14.00\" fill=\"#000000\">outdata</text>\n",
       "</g>\n",
       "<!-- /tmp/hello_bands/w0/t1/run.abi -->\n",
       "<g id=\"node7\" class=\"node\">\n",
       "<title>/tmp/hello_bands/w0/t1/run.abi</title>\n",
       "<polygon fill=\"#b2dfee\" stroke=\"#b2dfee\" points=\"76.7721,-95.0991 76.7721,-131.0991 130.7721,-131.0991 130.7721,-95.0991 76.7721,-95.0991\"/>\n",
       "<text text-anchor=\"middle\" x=\"103.4909\" y=\"-110.6991\" font-family=\"Times,serif\" font-size=\"8.00\" fill=\"#000000\">run.abi</text>\n",
       "</g>\n",
       "<!-- /tmp/hello_bands/w0/t1/job.sh -->\n",
       "<g id=\"node8\" class=\"node\">\n",
       "<title>/tmp/hello_bands/w0/t1/job.sh</title>\n",
       "<polygon fill=\"#b2dfee\" stroke=\"#b2dfee\" points=\"136.7721,-145.0991 136.7721,-181.0991 190.7721,-181.0991 190.7721,-145.0991 136.7721,-145.0991\"/>\n",
       "<text text-anchor=\"middle\" x=\"163.4401\" y=\"-160.6991\" font-family=\"Times,serif\" font-size=\"8.00\" fill=\"#000000\">job.sh</text>\n",
       "</g>\n",
       "<!-- /tmp/hello_bands/w0/t1/run.files -->\n",
       "<g id=\"node9\" class=\"node\">\n",
       "<title>/tmp/hello_bands/w0/t1/run.files</title>\n",
       "<polygon fill=\"#b2dfee\" stroke=\"#b2dfee\" points=\"141.7721,-80.0991 141.7721,-116.0991 195.7721,-116.0991 195.7721,-80.0991 141.7721,-80.0991\"/>\n",
       "<text text-anchor=\"middle\" x=\"168.7721\" y=\"-95.6991\" font-family=\"Times,serif\" font-size=\"8.00\" fill=\"#000000\">run.files</text>\n",
       "</g>\n",
       "<!-- /tmp/hello_bands/w0/t0/run.abi -->\n",
       "<g id=\"node13\" class=\"node\">\n",
       "<title>/tmp/hello_bands/w0/t0/run.abi</title>\n",
       "<polygon fill=\"#b2dfee\" stroke=\"#b2dfee\" points=\"260.5391,-254.7531 260.5391,-290.7531 314.5391,-290.7531 314.5391,-254.7531 260.5391,-254.7531\"/>\n",
       "<text text-anchor=\"middle\" x=\"287.2579\" y=\"-270.3531\" font-family=\"Times,serif\" font-size=\"8.00\" fill=\"#000000\">run.abi</text>\n",
       "</g>\n",
       "<!-- /tmp/hello_bands/w0/t0/job.sh -->\n",
       "<g id=\"node14\" class=\"node\">\n",
       "<title>/tmp/hello_bands/w0/t0/job.sh</title>\n",
       "<polygon fill=\"#b2dfee\" stroke=\"#b2dfee\" points=\"320.5391,-304.7531 320.5391,-340.7531 374.5391,-340.7531 374.5391,-304.7531 320.5391,-304.7531\"/>\n",
       "<text text-anchor=\"middle\" x=\"347.2071\" y=\"-320.3531\" font-family=\"Times,serif\" font-size=\"8.00\" fill=\"#000000\">job.sh</text>\n",
       "</g>\n",
       "<!-- /tmp/hello_bands/w0/t0/run.files -->\n",
       "<g id=\"node15\" class=\"node\">\n",
       "<title>/tmp/hello_bands/w0/t0/run.files</title>\n",
       "<polygon fill=\"#b2dfee\" stroke=\"#b2dfee\" points=\"325.5391,-239.7531 325.5391,-275.7531 379.5391,-275.7531 379.5391,-239.7531 325.5391,-239.7531\"/>\n",
       "<text text-anchor=\"middle\" x=\"352.5391\" y=\"-255.3531\" font-family=\"Times,serif\" font-size=\"8.00\" fill=\"#000000\">run.files</text>\n",
       "</g>\n",
       "<!-- __0:cluster_/tmp/hello_bands/w0 -->\n",
       "<!-- __1:cluster_/tmp/hello_bands/w0/tmpdata -->\n",
       "<!-- __0:cluster_/tmp/hello_bands/w0&#45;&gt;__1:cluster_/tmp/hello_bands/w0/tmpdata -->\n",
       "<g id=\"edge12\" class=\"edge\">\n",
       "<title>__0:cluster_/tmp/hello_bands/w0&#45;&gt;__1:cluster_/tmp/hello_bands/w0/tmpdata</title>\n",
       "<path fill=\"none\" stroke=\"#000000\" d=\"M214.6434,-309.3526C213.9484,-323.2438 212.9975,-342.2505 212.2069,-358.0535\"/>\n",
       "<polygon fill=\"#000000\" stroke=\"#000000\" points=\"208.6944,-358.2175 211.6902,-368.38 215.6856,-358.5674 208.6944,-358.2175\"/>\n",
       "</g>\n",
       "<!-- __2:cluster_/tmp/hello_bands/w0 -->\n",
       "<!-- __3:cluster_/tmp/hello_bands/w0/indata -->\n",
       "<!-- __2:cluster_/tmp/hello_bands/w0&#45;&gt;__3:cluster_/tmp/hello_bands/w0/indata -->\n",
       "<g id=\"edge13\" class=\"edge\">\n",
       "<title>__2:cluster_/tmp/hello_bands/w0&#45;&gt;__3:cluster_/tmp/hello_bands/w0/indata</title>\n",
       "<path fill=\"none\" stroke=\"#000000\" d=\"M220.162,-271.0637C222.9211,-259.5406 226.497,-244.6064 229.6084,-231.6119\"/>\n",
       "<polygon fill=\"#000000\" stroke=\"#000000\" points=\"233.0547,-232.2488 231.9796,-221.7087 226.2472,-230.6188 233.0547,-232.2488\"/>\n",
       "</g>\n",
       "<!-- __4:cluster_/tmp/hello_bands/w0 -->\n",
       "<!-- __5:cluster_/tmp/hello_bands/w0/outdata -->\n",
       "<!-- __4:cluster_/tmp/hello_bands/w0&#45;&gt;__5:cluster_/tmp/hello_bands/w0/outdata -->\n",
       "<g id=\"edge14\" class=\"edge\">\n",
       "<title>__4:cluster_/tmp/hello_bands/w0&#45;&gt;__5:cluster_/tmp/hello_bands/w0/outdata</title>\n",
       "<path fill=\"none\" stroke=\"#000000\" d=\"M199.3347,-300.5258C192.3476,-305.0086 183.8775,-310.4429 175.5169,-315.807\"/>\n",
       "<polygon fill=\"#000000\" stroke=\"#000000\" points=\"173.4372,-312.9828 166.9106,-321.3286 177.2173,-318.8744 173.4372,-312.9828\"/>\n",
       "</g>\n",
       "<!-- __6:cluster_/tmp/hello_bands/w0 -->\n",
       "<!-- __7:cluster_/tmp/hello_bands/w0/t1 -->\n",
       "<!-- __6:cluster_/tmp/hello_bands/w0&#45;&gt;__7:cluster_/tmp/hello_bands/w0/t1 -->\n",
       "<g id=\"edge15\" class=\"edge\">\n",
       "<title>__6:cluster_/tmp/hello_bands/w0&#45;&gt;__7:cluster_/tmp/hello_bands/w0/t1</title>\n",
       "<path fill=\"none\" stroke=\"#000000\" d=\"M205.3675,-270.9594C198.3375,-257.8289 188.4882,-239.4323 178.4161,-220.6196\"/>\n",
       "<polygon fill=\"#000000\" stroke=\"#000000\" points=\"181.4299,-218.8334 173.6243,-211.6694 175.2587,-222.1375 181.4299,-218.8334\"/>\n",
       "</g>\n",
       "<!-- __8:cluster_/tmp/hello_bands/w0 -->\n",
       "<!-- __9:cluster_/tmp/hello_bands/w0/t0 -->\n",
       "<!-- __8:cluster_/tmp/hello_bands/w0&#45;&gt;__9:cluster_/tmp/hello_bands/w0/t0 -->\n",
       "<g id=\"edge16\" class=\"edge\">\n",
       "<title>__8:cluster_/tmp/hello_bands/w0&#45;&gt;__9:cluster_/tmp/hello_bands/w0/t0</title>\n",
       "<path fill=\"none\" stroke=\"#000000\" d=\"M231.8877,-291.8084C234.9891,-292.1367 238.4188,-292.4996 242.0725,-292.8863\"/>\n",
       "<polygon fill=\"#000000\" stroke=\"#000000\" points=\"241.8828,-296.3857 252.1957,-293.9576 242.6196,-289.4245 241.8828,-296.3857\"/>\n",
       "</g>\n",
       "<!-- __10:cluster_/tmp/hello_bands/w0/t1 -->\n",
       "<!-- __11:cluster_/tmp/hello_bands/w0/t1/tmpdata -->\n",
       "<!-- __10:cluster_/tmp/hello_bands/w0/t1&#45;&gt;__11:cluster_/tmp/hello_bands/w0/t1/tmpdata -->\n",
       "<g id=\"edge17\" class=\"edge\">\n",
       "<title>__10:cluster_/tmp/hello_bands/w0/t1&#45;&gt;__11:cluster_/tmp/hello_bands/w0/t1/tmpdata</title>\n",
       "<path fill=\"none\" stroke=\"#000000\" d=\"M109.9095,-71.1929C108.883,-68.4321 107.8809,-65.737 106.9159,-63.1412\"/>\n",
       "<polygon fill=\"#000000\" stroke=\"#000000\" points=\"110.1687,-61.8468 103.4032,-53.6934 103.6076,-64.2863 110.1687,-61.8468\"/>\n",
       "</g>\n",
       "<!-- __12:cluster_/tmp/hello_bands/w0/t1 -->\n",
       "<!-- __13:cluster_/tmp/hello_bands/w0/t1/indata -->\n",
       "<!-- __12:cluster_/tmp/hello_bands/w0/t1&#45;&gt;__13:cluster_/tmp/hello_bands/w0/t1/indata -->\n",
       "<g id=\"edge18\" class=\"edge\">\n",
       "<title>__12:cluster_/tmp/hello_bands/w0/t1&#45;&gt;__13:cluster_/tmp/hello_bands/w0/t1/indata</title>\n",
       "<path fill=\"none\" stroke=\"#000000\" d=\"M201.6015,-71.1875C209.7327,-62.473 217.6231,-54.0167 224.5879,-46.5522\"/>\n",
       "<polygon fill=\"#000000\" stroke=\"#000000\" points=\"227.4868,-48.5757 231.75,-38.8764 222.3688,-43.8002 227.4868,-48.5757\"/>\n",
       "</g>\n",
       "<!-- __14:cluster_/tmp/hello_bands/w0/t1 -->\n",
       "<!-- __15:cluster_/tmp/hello_bands/w0/t1/outdata -->\n",
       "<!-- __14:cluster_/tmp/hello_bands/w0/t1&#45;&gt;__15:cluster_/tmp/hello_bands/w0/t1/outdata -->\n",
       "<g id=\"edge19\" class=\"edge\">\n",
       "<title>__14:cluster_/tmp/hello_bands/w0/t1&#45;&gt;__15:cluster_/tmp/hello_bands/w0/t1/outdata</title>\n",
       "<path fill=\"none\" stroke=\"#000000\" d=\"M68.2605,-148.312C67.4575,-148.3932 66.6587,-148.4739 65.865,-148.5542\"/>\n",
       "<polygon fill=\"#000000\" stroke=\"#000000\" points=\"65.487,-145.0745 55.89,-149.563 66.1914,-152.039 65.487,-145.0745\"/>\n",
       "</g>\n",
       "<!-- __16:cluster_/tmp/hello_bands/w0/t0 -->\n",
       "<!-- __17:cluster_/tmp/hello_bands/w0/t0/tmpdata -->\n",
       "<!-- __16:cluster_/tmp/hello_bands/w0/t0&#45;&gt;__17:cluster_/tmp/hello_bands/w0/t0/tmpdata -->\n",
       "<g id=\"edge20\" class=\"edge\">\n",
       "<title>__16:cluster_/tmp/hello_bands/w0/t0&#45;&gt;__17:cluster_/tmp/hello_bands/w0/t0/tmpdata</title>\n",
       "<path fill=\"none\" stroke=\"#000000\" d=\"M387.6284,-252.5937C399.013,-244.45 410.3976,-236.3064 420.4993,-229.0804\"/>\n",
       "<polygon fill=\"#000000\" stroke=\"#000000\" points=\"422.5577,-231.9113 428.6548,-223.2466 418.4851,-226.2179 422.5577,-231.9113\"/>\n",
       "</g>\n",
       "<!-- __18:cluster_/tmp/hello_bands/w0/t0 -->\n",
       "<!-- __19:cluster_/tmp/hello_bands/w0/t0/indata -->\n",
       "<!-- __18:cluster_/tmp/hello_bands/w0/t0&#45;&gt;__19:cluster_/tmp/hello_bands/w0/t0/indata -->\n",
       "<g id=\"edge21\" class=\"edge\">\n",
       "<title>__18:cluster_/tmp/hello_bands/w0/t0&#45;&gt;__19:cluster_/tmp/hello_bands/w0/t0/indata</title>\n",
       "<path fill=\"none\" stroke=\"#000000\" d=\"M366.5264,-371.2218C374.4116,-383.053 382.1626,-394.6831 388.7438,-404.558\"/>\n",
       "<polygon fill=\"#000000\" stroke=\"#000000\" points=\"385.9709,-406.7085 394.4292,-413.0887 391.7958,-402.8264 385.9709,-406.7085\"/>\n",
       "</g>\n",
       "<!-- __20:cluster_/tmp/hello_bands/w0/t0 -->\n",
       "<!-- __21:cluster_/tmp/hello_bands/w0/t0/outdata -->\n",
       "<!-- __20:cluster_/tmp/hello_bands/w0/t0&#45;&gt;__21:cluster_/tmp/hello_bands/w0/t0/outdata -->\n",
       "<g id=\"edge22\" class=\"edge\">\n",
       "<title>__20:cluster_/tmp/hello_bands/w0/t0&#45;&gt;__21:cluster_/tmp/hello_bands/w0/t0/outdata</title>\n",
       "<path fill=\"none\" stroke=\"#000000\" d=\"M252.1146,-289.6993C231.0558,-286.1484 208.5862,-282.3597 190.2995,-279.2763\"/>\n",
       "<polygon fill=\"#000000\" stroke=\"#000000\" points=\"190.7756,-275.8073 180.3329,-277.5958 189.6117,-282.7098 190.7756,-275.8073\"/>\n",
       "</g>\n",
       "</g>\n",
       "</svg>\n"
      ],
      "text/plain": [
       "<graphviz.dot.Digraph at 0x1155358d0>"
      ]
     },
     "execution_count": 7,
     "metadata": {},
     "output_type": "execute_result"
    }
   ],
   "source": [
    "flow[0].get_graphviz_dirtree()"
   ]
  },
  {
   "cell_type": "markdown",
   "metadata": {},
   "source": [
    "`w0` is the directory containing the input files of the first workflow (well, we have only one workflow in our example).\n",
    "`t0` and `t1` contain the input files needed to run the SCF and the NSC run, respectively.\n",
    "\n",
    "You might have noticed that each `Task` directory present the same structure:\n",
    "    \n",
    "   * *run.abi*: Input file\n",
    "   * *run.files*: Files file\n",
    "   * *job.sh*: Submission script\n",
    "   * *outdata*: Directory containing output data files\n",
    "   * *indata*: Directory containing input data files \n",
    "   * *tmpdata*: Directory with temporary files\n",
    "   \n",
    "<div class=\"alert alert-danger\" role=\"alert\">\n",
    "`__AbinitFlow__.pickle` is the pickle file used to save the status of `Flow`. **Don't touch it!** \n",
    "</div>"
   ]
  },
  {
   "cell_type": "markdown",
   "metadata": {},
   "source": [
    "An Abinit Task *has* an [AbinitInput](abinit_input.ipynb) which in turn has a [Structure](structure.ipynb):"
   ]
  },
  {
   "cell_type": "code",
   "execution_count": 8,
   "metadata": {},
   "outputs": [
    {
     "data": {
      "text/html": [
       "############################################################################################<br>#                                       SECTION: basic                                      <br>############################################################################################<br> <a href=\"https://docs.abinit.org/variables/basic#ecut\" target=\"_blank\">ecut</a> 6<br> <a href=\"https://docs.abinit.org/variables/basic#nband\" target=\"_blank\">nband</a> 8<br> <a href=\"https://docs.abinit.org/variables/basic#ngkpt\" target=\"_blank\">ngkpt</a> 8 8 8<br> <a href=\"https://docs.abinit.org/variables/basic#kptopt\" target=\"_blank\">kptopt</a> 1<br> <a href=\"https://docs.abinit.org/variables/basic#nshiftk\" target=\"_blank\">nshiftk</a> 1<br> <a href=\"https://docs.abinit.org/variables/basic#shiftk\" target=\"_blank\">shiftk</a> 0 0 0<br> <a href=\"https://docs.abinit.org/variables/basic#tolvrs\" target=\"_blank\">tolvrs</a> 1e-06<br>############################################################################################<br>#                                         STRUCTURE                                         <br>############################################################################################<br> <a href=\"https://docs.abinit.org/variables/basic#natom\" target=\"_blank\">natom</a> 2<br> <a href=\"https://docs.abinit.org/variables/basic#ntypat\" target=\"_blank\">ntypat</a> 1<br> <a href=\"https://docs.abinit.org/variables/basic#typat\" target=\"_blank\">typat</a> 1 1<br> <a href=\"https://docs.abinit.org/variables/basic#znucl\" target=\"_blank\">znucl</a> 14<br> <a href=\"https://docs.abinit.org/variables/basic#xred\" target=\"_blank\">xred</a><br>    0.0000000000    0.0000000000    0.0000000000<br>    0.2500000000    0.2500000000    0.2500000000<br> <a href=\"https://docs.abinit.org/variables/basic#acell\" target=\"_blank\">acell</a>    1.0    1.0    1.0<br> <a href=\"https://docs.abinit.org/variables/basic#rprim\" target=\"_blank\">rprim</a><br>    6.3285005272    0.0000000000    3.6537614829<br>    2.1095001757    5.9665675167    3.6537614829<br>    0.0000000000    0.0000000000    7.3075229659"
      ],
      "text/plain": [
       "<AbinitInput at 4634534632>"
      ]
     },
     "execution_count": 8,
     "metadata": {},
     "output_type": "execute_result"
    }
   ],
   "source": [
    " flow[0][0].input"
   ]
  },
  {
   "cell_type": "code",
   "execution_count": 9,
   "metadata": {},
   "outputs": [
    {
     "data": {
      "text/html": [
       "Full Formula (Si2)<br>Reduced Formula: Si<br>abc   :   3.866975   3.866975   3.866975<br>angles:  60.000000  60.000000  60.000000<br>Sites (2)<br>  #  SP       a     b     c<br>---  ----  ----  ----  ----<br>  0  Si    0     0     0<br>  1  Si    0.25  0.25  0.25"
      ],
      "text/plain": [
       "Structure Summary\n",
       "Lattice\n",
       "    abc : 3.86697462 3.86697462 3.86697462\n",
       " angles : 59.99999999999999 59.99999999999999 59.99999999999999\n",
       " volume : 40.88829179346891\n",
       "      A : 3.3488982567096763 0.0 1.9334873100000005\n",
       "      B : 1.1162994189032256 3.1573715557642927 1.9334873100000005\n",
       "      C : 0.0 0.0 3.86697462\n",
       "PeriodicSite: Si (0.0000, 0.0000, 0.0000) [0.0000, 0.0000, 0.0000]\n",
       "PeriodicSite: Si (1.1163, 0.7893, 1.9335) [0.2500, 0.2500, 0.2500]"
      ]
     },
     "execution_count": 9,
     "metadata": {},
     "output_type": "execute_result"
    }
   ],
   "source": [
    "flow[0][0].input.structure"
   ]
  },
  {
   "cell_type": "code",
   "execution_count": 10,
   "metadata": {},
   "outputs": [
    {
     "name": "stdout",
     "output_type": "stream",
     "text": [
      "<NcAbinitPseudo: 14si.pspnc>\n",
      "  summary: Troullier-Martins psp for element  Si        Thu Oct 27 17:31:21 EDT 1994\n",
      "  number of valence electrons: 4.0\n",
      "  maximum angular momentum: d\n",
      "  angular momentum for local part: d\n",
      "  XC correlation: LDA_XC_TETER93\n",
      "  supports spin-orbit: False\n",
      "  radius for non-linear core correction: 1.80626423934776\n",
      "  hint for low accuracy: ecut: 0.0, pawecutdg: 0.0\n",
      "  hint for normal accuracy: ecut: 0.0, pawecutdg: 0.0\n",
      "  hint for high accuracy: ecut: 0.0, pawecutdg: 0.0\n"
     ]
    }
   ],
   "source": [
    "for p in flow[0][0].input.pseudos: \n",
    "    print(p)"
   ]
  },
  {
   "cell_type": "markdown",
   "metadata": {},
   "source": [
    "Let's print the value of `kptopt` for all tasks in our flow with:"
   ]
  },
  {
   "cell_type": "code",
   "execution_count": 11,
   "metadata": {},
   "outputs": [
    {
     "name": "stdout",
     "output_type": "stream",
     "text": [
      "[1, -2]\n"
     ]
    }
   ],
   "source": [
    "print([task.input[\"kptopt\"] for task in flow.iflat_tasks()])"
   ]
  },
  {
   "cell_type": "markdown",
   "metadata": {},
   "source": [
    "that, in this particular case, gives the same result as:"
   ]
  },
  {
   "cell_type": "code",
   "execution_count": 12,
   "metadata": {},
   "outputs": [
    {
     "name": "stdout",
     "output_type": "stream",
     "text": [
      "[1, -2]\n"
     ]
    }
   ],
   "source": [
    "print([task.input[\"kptopt\"] for task in flow[0]])"
   ]
  },
  {
   "cell_type": "markdown",
   "metadata": {},
   "source": [
    "## Executing a Flow\n",
    "[[back to top](#top)]\n",
    "\n",
    "The `Flow` can be executed with two different approaches: a programmatic interface based \n",
    "on `flow.make_scheduler` or the `abirun.py` script. \n",
    "In this section, we discuss the first approach because it plays well with the jupyter notebook.\n",
    "Note however that `abirun.py` is highly recommended especially when running non-trivial calculations. "
   ]
  },
  {
   "cell_type": "code",
   "execution_count": 13,
   "metadata": {},
   "outputs": [
    {
     "name": "stdout",
     "output_type": "stream",
     "text": [
      "\u001b[33m[Tue Oct 15 01:00:27 2019] Number of launches: 1\u001b[0m\n",
      "\n",
      "Work #0: <BandStructureWork, node_id=66146, workdir=../../../../../tmp/hello_bands/w0>, Finalized=False\n",
      "+--------+-------------+------------+--------------+------------+----------+-----------------+----------+-----------+\n",
      "| Task   | Status      | Queue      | MPI|Omp|Gb   | Warn|Com   | Class    | Sub|Rest|Corr   | Time     |   Node_ID |\n",
      "+========+=============+============+==============+============+==========+=================+==========+===========+\n",
      "| w0_t0  | \u001b[34mSubmitted\u001b[0m   | 84754@gmac | 1|  1|2.0    | 0|  0      | ScfTask  | (1, 0, 0)       | 0:00:00Q |     66147 |\n",
      "+--------+-------------+------------+--------------+------------+----------+-----------------+----------+-----------+\n",
      "| w0_t1  | Initialized\u001b[0m | None       | 1|  1|2.0    | NA|NA      | NscfTask | (0, 0, 0)       | None     |     66148 |\n",
      "+--------+-------------+------------+--------------+------------+----------+-----------------+----------+-----------+\n",
      "\n",
      "\u001b[33m[Tue Oct 15 01:00:37 2019] Number of launches: 1\u001b[0m\n",
      "\n",
      "Work #0: <BandStructureWork, node_id=66146, workdir=../../../../../tmp/hello_bands/w0>, Finalized=False\n",
      "+--------+-----------+------------+--------------+------------+----------+-----------------+----------+-----------+\n",
      "| Task   | Status    | Queue      | MPI|Omp|Gb   | Warn|Com   | Class    | Sub|Rest|Corr   | Time     |   Node_ID |\n",
      "+========+===========+============+==============+============+==========+=================+==========+===========+\n",
      "| w0_t0  | \u001b[32mCompleted\u001b[0m | 84754@gmac | 1|  1|2.0    | 0|  1      | ScfTask  | (1, 0, 0)       | 0:00:02R |     66147 |\n",
      "+--------+-----------+------------+--------------+------------+----------+-----------------+----------+-----------+\n",
      "| w0_t1  | \u001b[34mSubmitted\u001b[0m | 84760@gmac | 1|  1|2.0    | 0|  0      | NscfTask | (1, 0, 0)       | 0:00:00Q |     66148 |\n",
      "+--------+-----------+------------+--------------+------------+----------+-----------------+----------+-----------+\n",
      "\n",
      "\n",
      "Work #0: <BandStructureWork, node_id=66146, workdir=../../../../../tmp/hello_bands/w0>, Finalized=\u001b[32mTrue\u001b[0m\n",
      "  Finalized works are not shown. Use verbose > 0 to force output.\n",
      "\u001b[32m\n",
      "all_ok reached\n",
      "\u001b[0m\n",
      "\n",
      "Submitted on: Tue Oct 15 01:00:27 2019\n",
      "Completed on: Tue Oct 15 01:00:47 2019\n",
      "Elapsed time: 0:00:20.024018\n",
      "Flow completed successfully\n",
      "\n",
      "Calling flow.finalize()...\n"
     ]
    },
    {
     "data": {
      "text/plain": [
       "0"
      ]
     },
     "execution_count": 13,
     "metadata": {},
     "output_type": "execute_result"
    }
   ],
   "source": [
    "flow.make_scheduler().start()"
   ]
  },
  {
   "cell_type": "markdown",
   "metadata": {},
   "source": [
    "The flow keeps track of the different actions performed by the python code:"
   ]
  },
  {
   "cell_type": "code",
   "execution_count": 14,
   "metadata": {},
   "outputs": [
    {
     "name": "stdout",
     "output_type": "stream",
     "text": [
      "\u001b[32m\n",
      "===================================================================================================================\n",
      "================== <BandStructureWork, node_id=66146, workdir=../../../../../tmp/hello_bands/w0> ==================\n",
      "===================================================================================================================\u001b[0m\n",
      "[Tue Oct 15 01:00:47 2019] Finalized set to True\n",
      "[Tue Oct 15 01:00:47 2019] Work <BandStructureWork, node_id=66146, workdir=../../../../../tmp/hello_bands/w0> is finalized and broadcasts signal S_OK\n",
      "\u001b[32m\n",
      "====================================================================================================================\n",
      "====================== <ScfTask, node_id=66147, workdir=../../../../../tmp/hello_bands/w0/t0> ======================\n",
      "====================================================================================================================\u001b[0m\n",
      "[Tue Oct 15 01:00:27 2019] Status changed to Ready. msg: Status set to Ready\n",
      "[Tue Oct 15 01:00:27 2019] Submitted with MPI=1, Omp=1, Memproc=2.0 [Gb] Submitted to queue \n",
      "[Tue Oct 15 01:00:37 2019] Task completed status set to ok based on abiout\n",
      "[Tue Oct 15 01:00:37 2019] Finalized set to True\n",
      "\u001b[32m\n",
      "===================================================================================================================\n",
      "===================== <NscfTask, node_id=66148, workdir=../../../../../tmp/hello_bands/w0/t1> =====================\n",
      "===================================================================================================================\u001b[0m\n",
      "[Tue Oct 15 01:00:37 2019] Status changed to Ready. msg: Status set to Ready\n",
      "[Tue Oct 15 01:00:37 2019] Setting input variables: {'ngfft': [18, 18, 18]}\n",
      "[Tue Oct 15 01:00:37 2019] Old values: {'ngfft': None}\n",
      "[Tue Oct 15 01:00:37 2019] Adding connecting vars {'irdden': 1}\n",
      "[Tue Oct 15 01:00:37 2019] Setting input variables: {'irdden': 1}\n",
      "[Tue Oct 15 01:00:37 2019] Old values: {'irdden': None}\n",
      "[Tue Oct 15 01:00:37 2019] Submitted with MPI=1, Omp=1, Memproc=2.0 [Gb] Submitted to queue \n",
      "[Tue Oct 15 01:00:47 2019] Task completed status set to ok based on abiout\n",
      "[Tue Oct 15 01:00:47 2019] Finalized set to True\n",
      "\u001b[32m\n",
      "===================================================================================================================\n",
      "========================== <Flow, node_id=66145, workdir=../../../../../tmp/hello_bands> ==========================\n",
      "===================================================================================================================\u001b[0m\n",
      "[Tue Oct 15 01:00:47 2019] Calling flow.finalize.\n",
      "[Tue Oct 15 01:00:47 2019] Finalized set to True\n"
     ]
    }
   ],
   "source": [
    "flow.show_history()"
   ]
  },
  {
   "cell_type": "markdown",
   "metadata": {},
   "source": [
    "If you read the logs carefully, you will realize that in the first iteration of the scheduler, \n",
    "only the `ScfTask` is executed because the second task depends on it. \n",
    "After the initial submission, the scheduler starts to monitor all the tasks in the flow.\n",
    "\n",
    "When the ScfTask completes, the dependency of the NscfTask is fullfilled and \n",
    "a new submission takes place. Once the second task completes, the scheduler calls `flow.finalize`\n",
    "to execute (optional) logic that is supposed to be executed to perform some sort of cleanup or final processing.\n",
    "At this point, all the tasks in the flow are completed and the scheduler exits.\n",
    "\n",
    "Now we can have a look at the different output files produced by our flow with:"
   ]
  },
  {
   "cell_type": "code",
   "execution_count": 15,
   "metadata": {},
   "outputs": [
    {
     "data": {
      "image/svg+xml": [
       "<?xml version=\"1.0\" encoding=\"UTF-8\" standalone=\"no\"?>\n",
       "<!DOCTYPE svg PUBLIC \"-//W3C//DTD SVG 1.1//EN\"\n",
       " \"http://www.w3.org/Graphics/SVG/1.1/DTD/svg11.dtd\">\n",
       "<!-- Generated by graphviz version 2.40.1 (20161225.0304)\n",
       " -->\n",
       "<!-- Title: directory Pages: 1 -->\n",
       "<svg width=\"1185pt\" height=\"852pt\"\n",
       " viewBox=\"0.00 0.00 1185.00 852.00\" xmlns=\"http://www.w3.org/2000/svg\" xmlns:xlink=\"http://www.w3.org/1999/xlink\">\n",
       "<g id=\"graph0\" class=\"graph\" transform=\"scale(1 1) rotate(0) translate(4 826)\">\n",
       "<title>directory</title>\n",
       "<polygon fill=\"#ffffff\" stroke=\"transparent\" points=\"-4,26 -4,-826 1181,-826 1181,26 -4,26\"/>\n",
       "<text text-anchor=\"middle\" x=\"588.5\" y=\"15.2\" font-family=\"Times,serif\" font-size=\"14.00\" fill=\"#000000\">/tmp/hello_bands/w0</text>\n",
       "<g id=\"clust1\" class=\"cluster\">\n",
       "<title>cluster_/tmp/hello_bands/w0</title>\n",
       "<path fill=\"#e0eeee\" stroke=\"#000000\" d=\"M235.284,-605.064C235.284,-605.064 245.9507,-605.064 245.9507,-605.064 251.284,-605.064 256.6173,-610.3973 256.6173,-615.7306 256.6173,-615.7306 256.6173,-632.3973 256.6173,-632.3973 256.6173,-637.7306 251.284,-643.064 245.9507,-643.064 245.9507,-643.064 235.284,-643.064 235.284,-643.064 229.9507,-643.064 224.6173,-637.7306 224.6173,-632.3973 224.6173,-632.3973 224.6173,-615.7306 224.6173,-615.7306 224.6173,-610.3973 229.9507,-605.064 235.284,-605.064\"/>\n",
       "<text text-anchor=\"middle\" x=\"240.6173\" y=\"-627.864\" font-family=\"Times,serif\" font-size=\"14.00\" fill=\"#000000\">w0</text>\n",
       "</g>\n",
       "<g id=\"clust2\" class=\"cluster\">\n",
       "<title>cluster_/tmp/hello_bands/w0/tmpdata</title>\n",
       "<path fill=\"#e0eeee\" stroke=\"#000000\" d=\"M252.5665,-707.2741C252.5665,-707.2741 288.5665,-707.2741 288.5665,-707.2741 294.5665,-707.2741 300.5665,-713.2741 300.5665,-719.2741 300.5665,-719.2741 300.5665,-733.2741 300.5665,-733.2741 300.5665,-739.2741 294.5665,-745.2741 288.5665,-745.2741 288.5665,-745.2741 252.5665,-745.2741 252.5665,-745.2741 246.5665,-745.2741 240.5665,-739.2741 240.5665,-733.2741 240.5665,-733.2741 240.5665,-719.2741 240.5665,-719.2741 240.5665,-713.2741 246.5665,-707.2741 252.5665,-707.2741\"/>\n",
       "<text text-anchor=\"middle\" x=\"270.5665\" y=\"-730.0741\" font-family=\"Times,serif\" font-size=\"14.00\" fill=\"#000000\">tmpdata</text>\n",
       "</g>\n",
       "<g id=\"clust3\" class=\"cluster\">\n",
       "<title>cluster_/tmp/hello_bands/w0/indata</title>\n",
       "<path fill=\"#e0eeee\" stroke=\"#000000\" d=\"M128.0525,-592.8622C128.0525,-592.8622 154.0525,-592.8622 154.0525,-592.8622 160.0525,-592.8622 166.0525,-598.8622 166.0525,-604.8622 166.0525,-604.8622 166.0525,-618.8622 166.0525,-618.8622 166.0525,-624.8622 160.0525,-630.8622 154.0525,-630.8622 154.0525,-630.8622 128.0525,-630.8622 128.0525,-630.8622 122.0525,-630.8622 116.0525,-624.8622 116.0525,-618.8622 116.0525,-618.8622 116.0525,-604.8622 116.0525,-604.8622 116.0525,-598.8622 122.0525,-592.8622 128.0525,-592.8622\"/>\n",
       "<text text-anchor=\"middle\" x=\"141.0525\" y=\"-615.6622\" font-family=\"Times,serif\" font-size=\"14.00\" fill=\"#000000\">indata</text>\n",
       "</g>\n",
       "<g id=\"clust4\" class=\"cluster\">\n",
       "<title>cluster_/tmp/hello_bands/w0/outdata</title>\n",
       "<path fill=\"#e0eeee\" stroke=\"#000000\" d=\"M160.7182,-687.968C160.7182,-687.968 192.7182,-687.968 192.7182,-687.968 198.7182,-687.968 204.7182,-693.968 204.7182,-699.968 204.7182,-699.968 204.7182,-713.968 204.7182,-713.968 204.7182,-719.968 198.7182,-725.968 192.7182,-725.968 192.7182,-725.968 160.7182,-725.968 160.7182,-725.968 154.7182,-725.968 148.7182,-719.968 148.7182,-713.968 148.7182,-713.968 148.7182,-699.968 148.7182,-699.968 148.7182,-693.968 154.7182,-687.968 160.7182,-687.968\"/>\n",
       "<text text-anchor=\"middle\" x=\"176.7182\" y=\"-710.768\" font-family=\"Times,serif\" font-size=\"14.00\" fill=\"#000000\">outdata</text>\n",
       "</g>\n",
       "<g id=\"clust5\" class=\"cluster\">\n",
       "<title>cluster_/tmp/hello_bands/w0/t1</title>\n",
       "<path fill=\"#e0eeee\" stroke=\"#000000\" d=\"M247.72,-242.7564C247.72,-242.7564 443.72,-242.7564 443.72,-242.7564 449.72,-242.7564 455.72,-248.7564 455.72,-254.7564 455.72,-254.7564 455.72,-470.7564 455.72,-470.7564 455.72,-476.7564 449.72,-482.7564 443.72,-482.7564 443.72,-482.7564 247.72,-482.7564 247.72,-482.7564 241.72,-482.7564 235.72,-476.7564 235.72,-470.7564 235.72,-470.7564 235.72,-254.7564 235.72,-254.7564 235.72,-248.7564 241.72,-242.7564 247.72,-242.7564\"/>\n",
       "<text text-anchor=\"middle\" x=\"345.72\" y=\"-467.5564\" font-family=\"Times,serif\" font-size=\"14.00\" fill=\"#000000\">t1</text>\n",
       "</g>\n",
       "<g id=\"clust9\" class=\"cluster\">\n",
       "<title>cluster_/tmp/hello_bands/w0/t0</title>\n",
       "<path fill=\"#e0eeee\" stroke=\"#000000\" d=\"M371.8126,-497.6971C371.8126,-497.6971 567.8126,-497.6971 567.8126,-497.6971 573.8126,-497.6971 579.8126,-503.6971 579.8126,-509.6971 579.8126,-509.6971 579.8126,-725.6971 579.8126,-725.6971 579.8126,-731.6971 573.8126,-737.6971 567.8126,-737.6971 567.8126,-737.6971 371.8126,-737.6971 371.8126,-737.6971 365.8126,-737.6971 359.8126,-731.6971 359.8126,-725.6971 359.8126,-725.6971 359.8126,-509.6971 359.8126,-509.6971 359.8126,-503.6971 365.8126,-497.6971 371.8126,-497.6971\"/>\n",
       "<text text-anchor=\"middle\" x=\"469.8126\" y=\"-722.4971\" font-family=\"Times,serif\" font-size=\"14.00\" fill=\"#000000\">t0</text>\n",
       "</g>\n",
       "<g id=\"clust6\" class=\"cluster\">\n",
       "<title>cluster_/tmp/hello_bands/w0/t1/tmpdata</title>\n",
       "<path fill=\"#e0eeee\" stroke=\"#000000\" d=\"M203.5654,-123.1633C203.5654,-123.1633 239.5654,-123.1633 239.5654,-123.1633 245.5654,-123.1633 251.5654,-129.1633 251.5654,-135.1633 251.5654,-135.1633 251.5654,-149.1633 251.5654,-149.1633 251.5654,-155.1633 245.5654,-161.1633 239.5654,-161.1633 239.5654,-161.1633 203.5654,-161.1633 203.5654,-161.1633 197.5654,-161.1633 191.5654,-155.1633 191.5654,-149.1633 191.5654,-149.1633 191.5654,-135.1633 191.5654,-135.1633 191.5654,-129.1633 197.5654,-123.1633 203.5654,-123.1633\"/>\n",
       "<text text-anchor=\"middle\" x=\"221.5654\" y=\"-145.9633\" font-family=\"Times,serif\" font-size=\"14.00\" fill=\"#000000\">tmpdata</text>\n",
       "</g>\n",
       "<g id=\"clust7\" class=\"cluster\">\n",
       "<title>cluster_/tmp/hello_bands/w0/t1/indata</title>\n",
       "<path fill=\"#e0eeee\" stroke=\"#000000\" d=\"M608.1331,-368.9748C608.1331,-368.9748 654.1331,-368.9748 654.1331,-368.9748 660.1331,-368.9748 666.1331,-374.9748 666.1331,-380.9748 666.1331,-380.9748 666.1331,-431.9748 666.1331,-431.9748 666.1331,-437.9748 660.1331,-443.9748 654.1331,-443.9748 654.1331,-443.9748 608.1331,-443.9748 608.1331,-443.9748 602.1331,-443.9748 596.1331,-437.9748 596.1331,-431.9748 596.1331,-431.9748 596.1331,-380.9748 596.1331,-380.9748 596.1331,-374.9748 602.1331,-368.9748 608.1331,-368.9748\"/>\n",
       "<text text-anchor=\"middle\" x=\"631.1331\" y=\"-428.7748\" font-family=\"Times,serif\" font-size=\"14.00\" fill=\"#000000\">indata</text>\n",
       "</g>\n",
       "<g id=\"clust8\" class=\"cluster\">\n",
       "<title>cluster_/tmp/hello_bands/w0/t1/outdata</title>\n",
       "<path fill=\"#e0eeee\" stroke=\"#000000\" d=\"M334.253,-.3909C334.253,-.3909 530.253,-.3909 530.253,-.3909 536.253,-.3909 542.253,-6.3909 542.253,-12.3909 542.253,-12.3909 542.253,-218.3909 542.253,-218.3909 542.253,-224.3909 536.253,-230.3909 530.253,-230.3909 530.253,-230.3909 334.253,-230.3909 334.253,-230.3909 328.253,-230.3909 322.253,-224.3909 322.253,-218.3909 322.253,-218.3909 322.253,-12.3909 322.253,-12.3909 322.253,-6.3909 328.253,-.3909 334.253,-.3909\"/>\n",
       "<text text-anchor=\"middle\" x=\"432.253\" y=\"-215.1909\" font-family=\"Times,serif\" font-size=\"14.00\" fill=\"#000000\">outdata</text>\n",
       "</g>\n",
       "<g id=\"clust10\" class=\"cluster\">\n",
       "<title>cluster_/tmp/hello_bands/w0/t0/tmpdata</title>\n",
       "<path fill=\"#e0eeee\" stroke=\"#000000\" d=\"M523.1082,-356.7189C523.1082,-356.7189 559.1082,-356.7189 559.1082,-356.7189 565.1082,-356.7189 571.1082,-362.7189 571.1082,-368.7189 571.1082,-368.7189 571.1082,-382.7189 571.1082,-382.7189 571.1082,-388.7189 565.1082,-394.7189 559.1082,-394.7189 559.1082,-394.7189 523.1082,-394.7189 523.1082,-394.7189 517.1082,-394.7189 511.1082,-388.7189 511.1082,-382.7189 511.1082,-382.7189 511.1082,-368.7189 511.1082,-368.7189 511.1082,-362.7189 517.1082,-356.7189 523.1082,-356.7189\"/>\n",
       "<text text-anchor=\"middle\" x=\"541.1082\" y=\"-379.5189\" font-family=\"Times,serif\" font-size=\"14.00\" fill=\"#000000\">tmpdata</text>\n",
       "</g>\n",
       "<g id=\"clust11\" class=\"cluster\">\n",
       "<title>cluster_/tmp/hello_bands/w0/t0/indata</title>\n",
       "<path fill=\"#e0eeee\" stroke=\"#000000\" d=\"M618.7752,-783.9206C618.7752,-783.9206 644.7752,-783.9206 644.7752,-783.9206 650.7752,-783.9206 656.7752,-789.9206 656.7752,-795.9206 656.7752,-795.9206 656.7752,-809.9206 656.7752,-809.9206 656.7752,-815.9206 650.7752,-821.9206 644.7752,-821.9206 644.7752,-821.9206 618.7752,-821.9206 618.7752,-821.9206 612.7752,-821.9206 606.7752,-815.9206 606.7752,-809.9206 606.7752,-809.9206 606.7752,-795.9206 606.7752,-795.9206 606.7752,-789.9206 612.7752,-783.9206 618.7752,-783.9206\"/>\n",
       "<text text-anchor=\"middle\" x=\"631.7752\" y=\"-806.7206\" font-family=\"Times,serif\" font-size=\"14.00\" fill=\"#000000\">indata</text>\n",
       "</g>\n",
       "<g id=\"clust12\" class=\"cluster\">\n",
       "<title>cluster_/tmp/hello_bands/w0/t0/outdata</title>\n",
       "<path fill=\"#e0eeee\" stroke=\"#000000\" d=\"M12.2161,-321.8607C12.2161,-321.8607 209.2161,-321.8607 209.2161,-321.8607 215.2161,-321.8607 221.2161,-327.8607 221.2161,-333.8607 221.2161,-333.8607 221.2161,-539.8607 221.2161,-539.8607 221.2161,-545.8607 215.2161,-551.8607 209.2161,-551.8607 209.2161,-551.8607 12.2161,-551.8607 12.2161,-551.8607 6.2161,-551.8607 .2161,-545.8607 .2161,-539.8607 .2161,-539.8607 .2161,-333.8607 .2161,-333.8607 .2161,-327.8607 6.2161,-321.8607 12.2161,-321.8607\"/>\n",
       "<text text-anchor=\"middle\" x=\"110.7161\" y=\"-536.6607\" font-family=\"Times,serif\" font-size=\"14.00\" fill=\"#000000\">outdata</text>\n",
       "</g>\n",
       "<!-- /tmp/hello_bands/w0/t1/run.log -->\n",
       "<g id=\"node7\" class=\"node\">\n",
       "<title>/tmp/hello_bands/w0/t1/run.log</title>\n",
       "<polygon fill=\"#b2dfee\" stroke=\"#b2dfee\" points=\"343.9581,-366.3973 343.9581,-402.3973 397.9581,-402.3973 397.9581,-366.3973 343.9581,-366.3973\"/>\n",
       "<text text-anchor=\"middle\" x=\"370.9015\" y=\"-381.9973\" font-family=\"Times,serif\" font-size=\"8.00\" fill=\"#000000\">run.log</text>\n",
       "</g>\n",
       "<!-- /tmp/hello_bands/w0/t1/run.abo -->\n",
       "<g id=\"node8\" class=\"node\">\n",
       "<title>/tmp/hello_bands/w0/t1/run.abo</title>\n",
       "<polygon fill=\"#b2dfee\" stroke=\"#b2dfee\" points=\"348.9581,-301.3973 348.9581,-337.3973 402.9581,-337.3973 402.9581,-301.3973 348.9581,-301.3973\"/>\n",
       "<text text-anchor=\"middle\" x=\"375.5655\" y=\"-316.9973\" font-family=\"Times,serif\" font-size=\"8.00\" fill=\"#000000\">run.abo</text>\n",
       "</g>\n",
       "<!-- /tmp/hello_bands/w0/t1/run.abi -->\n",
       "<g id=\"node9\" class=\"node\">\n",
       "<title>/tmp/hello_bands/w0/t1/run.abi</title>\n",
       "<polygon fill=\"#b2dfee\" stroke=\"#b2dfee\" points=\"278.9581,-371.3973 278.9581,-407.3973 332.9581,-407.3973 332.9581,-371.3973 278.9581,-371.3973\"/>\n",
       "<text text-anchor=\"middle\" x=\"305.6769\" y=\"-386.9973\" font-family=\"Times,serif\" font-size=\"8.00\" fill=\"#000000\">run.abi</text>\n",
       "</g>\n",
       "<!-- /tmp/hello_bands/w0/t1/__startlock__ -->\n",
       "<g id=\"node10\" class=\"node\">\n",
       "<title>/tmp/hello_bands/w0/t1/__startlock__</title>\n",
       "<polygon fill=\"#b2dfee\" stroke=\"#b2dfee\" points=\"279.1847,-316.3973 279.1847,-352.3973 338.7315,-352.3973 338.7315,-316.3973 279.1847,-316.3973\"/>\n",
       "<text text-anchor=\"middle\" x=\"308.9581\" y=\"-331.9973\" font-family=\"Times,serif\" font-size=\"8.00\" fill=\"#000000\">__startlock__</text>\n",
       "</g>\n",
       "<!-- /tmp/hello_bands/w0/t1/run.err -->\n",
       "<g id=\"node11\" class=\"node\">\n",
       "<title>/tmp/hello_bands/w0/t1/run.err</title>\n",
       "<polygon fill=\"#b2dfee\" stroke=\"#b2dfee\" points=\"243.9581,-266.3973 243.9581,-302.3973 297.9581,-302.3973 297.9581,-266.3973 243.9581,-266.3973\"/>\n",
       "<text text-anchor=\"middle\" x=\"270.7296\" y=\"-281.9973\" font-family=\"Times,serif\" font-size=\"8.00\" fill=\"#000000\">run.err</text>\n",
       "</g>\n",
       "<!-- /tmp/hello_bands/w0/t1/job.sh -->\n",
       "<g id=\"node12\" class=\"node\">\n",
       "<title>/tmp/hello_bands/w0/t1/job.sh</title>\n",
       "<polygon fill=\"#b2dfee\" stroke=\"#b2dfee\" points=\"393.9581,-416.3973 393.9581,-452.3973 447.9581,-452.3973 447.9581,-416.3973 393.9581,-416.3973\"/>\n",
       "<text text-anchor=\"middle\" x=\"420.6261\" y=\"-431.9973\" font-family=\"Times,serif\" font-size=\"8.00\" fill=\"#000000\">job.sh</text>\n",
       "</g>\n",
       "<!-- /tmp/hello_bands/w0/t1/run.files -->\n",
       "<g id=\"node13\" class=\"node\">\n",
       "<title>/tmp/hello_bands/w0/t1/run.files</title>\n",
       "<polygon fill=\"#b2dfee\" stroke=\"#b2dfee\" points=\"313.9581,-251.3973 313.9581,-287.3973 367.9581,-287.3973 367.9581,-251.3973 313.9581,-251.3973\"/>\n",
       "<text text-anchor=\"middle\" x=\"340.9581\" y=\"-266.9973\" font-family=\"Times,serif\" font-size=\"8.00\" fill=\"#000000\">run.files</text>\n",
       "</g>\n",
       "<!-- /tmp/hello_bands/w0/t1/indata/in_DEN -->\n",
       "<g id=\"node17\" class=\"node\">\n",
       "<title>/tmp/hello_bands/w0/t1/indata/in_DEN</title>\n",
       "<polygon fill=\"#b2dfee\" stroke=\"#b2dfee\" points=\"604.5048,-377.217 604.5048,-413.217 658.5048,-413.217 658.5048,-377.217 604.5048,-377.217\"/>\n",
       "<text text-anchor=\"middle\" x=\"631.3368\" y=\"-392.817\" font-family=\"Times,serif\" font-size=\"8.00\" fill=\"#000000\">in_DEN</text>\n",
       "</g>\n",
       "<!-- ../../../../../../private/tmp/hello_bands/w0/t0/outdata/out_DEN -->\n",
       "<g id=\"node18\" class=\"node\">\n",
       "<title>../../../../../../private/tmp/hello_bands/w0/t0/outdata/out_DEN</title>\n",
       "<ellipse fill=\"#b2dfee\" stroke=\"#b2dfee\" cx=\"951.9098\" cy=\"-340.0088\" rx=\"224.5624\" ry=\"18\"/>\n",
       "<text text-anchor=\"middle\" x=\"951.9098\" y=\"-335.8088\" font-family=\"Times,serif\" font-size=\"14.00\" fill=\"#000000\">../../../../../../private/tmp/hello_bands/w0/t0/outdata/out_DEN</text>\n",
       "</g>\n",
       "<!-- /tmp/hello_bands/w0/t1/indata/in_DEN&#45;&gt;../../../../../../private/tmp/hello_bands/w0/t0/outdata/out_DEN -->\n",
       "<g id=\"edge9\" class=\"edge\">\n",
       "<title>/tmp/hello_bands/w0/t1/indata/in_DEN&#45;&gt;../../../../../../private/tmp/hello_bands/w0/t0/outdata/out_DEN</title>\n",
       "<path fill=\"none\" stroke=\"#000000\" d=\"M658.5462,-390.5575C699.7316,-383.461 780.3954,-369.562 846.7316,-358.1318\"/>\n",
       "<polygon fill=\"#000000\" stroke=\"#000000\" points=\"847.5667,-361.5396 856.8271,-356.3923 846.378,-354.6412 847.5667,-361.5396\"/>\n",
       "</g>\n",
       "<!-- /tmp/hello_bands/w0/t1/outdata/out_EIG.nc -->\n",
       "<g id=\"node19\" class=\"node\">\n",
       "<title>/tmp/hello_bands/w0/t1/outdata/out_EIG.nc</title>\n",
       "<polygon fill=\"#b2dfee\" stroke=\"#b2dfee\" points=\"430.4911,-109.0318 430.4911,-145.0318 484.4911,-145.0318 484.4911,-109.0318 430.4911,-109.0318\"/>\n",
       "<text text-anchor=\"middle\" x=\"457.0419\" y=\"-124.6318\" font-family=\"Times,serif\" font-size=\"8.00\" fill=\"#000000\">out_EIG.nc</text>\n",
       "</g>\n",
       "<!-- /tmp/hello_bands/w0/t1/outdata/out_WFK -->\n",
       "<g id=\"node20\" class=\"node\">\n",
       "<title>/tmp/hello_bands/w0/t1/outdata/out_WFK</title>\n",
       "<polygon fill=\"#b2dfee\" stroke=\"#b2dfee\" points=\"365.4911,-114.0318 365.4911,-150.0318 419.4911,-150.0318 419.4911,-114.0318 365.4911,-114.0318\"/>\n",
       "<text text-anchor=\"middle\" x=\"392.4911\" y=\"-129.6318\" font-family=\"Times,serif\" font-size=\"8.00\" fill=\"#000000\">out_WFK</text>\n",
       "</g>\n",
       "<!-- /tmp/hello_bands/w0/t1/outdata/out_EBANDS.agr -->\n",
       "<g id=\"node21\" class=\"node\">\n",
       "<title>/tmp/hello_bands/w0/t1/outdata/out_EBANDS.agr</title>\n",
       "<polygon fill=\"#b2dfee\" stroke=\"#b2dfee\" points=\"360.2704,-59.0318 360.2704,-95.0318 434.7118,-95.0318 434.7118,-59.0318 360.2704,-59.0318\"/>\n",
       "<text text-anchor=\"middle\" x=\"397.4911\" y=\"-74.6318\" font-family=\"Times,serif\" font-size=\"8.00\" fill=\"#000000\">out_EBANDS.agr</text>\n",
       "</g>\n",
       "<!-- /tmp/hello_bands/w0/t1/outdata/out_GSR.nc -->\n",
       "<g id=\"node22\" class=\"node\">\n",
       "<title>/tmp/hello_bands/w0/t1/outdata/out_GSR.nc</title>\n",
       "<polygon fill=\"#b2dfee\" stroke=\"#b2dfee\" points=\"444.8232,-34.0318 444.8232,-70.0318 500.1591,-70.0318 500.1591,-34.0318 444.8232,-34.0318\"/>\n",
       "<text text-anchor=\"middle\" x=\"472.4911\" y=\"-49.6318\" font-family=\"Times,serif\" font-size=\"8.00\" fill=\"#000000\">out_GSR.nc</text>\n",
       "</g>\n",
       "<!-- /tmp/hello_bands/w0/t1/outdata/out_EIG -->\n",
       "<g id=\"node23\" class=\"node\">\n",
       "<title>/tmp/hello_bands/w0/t1/outdata/out_EIG</title>\n",
       "<polygon fill=\"#b2dfee\" stroke=\"#b2dfee\" points=\"330.4911,-9.0318 330.4911,-45.0318 384.4911,-45.0318 384.4911,-9.0318 330.4911,-9.0318\"/>\n",
       "<text text-anchor=\"middle\" x=\"357.2665\" y=\"-24.6318\" font-family=\"Times,serif\" font-size=\"8.00\" fill=\"#000000\">out_EIG</text>\n",
       "</g>\n",
       "<!-- /tmp/hello_bands/w0/t1/outdata/out_DEN -->\n",
       "<g id=\"node24\" class=\"node\">\n",
       "<title>/tmp/hello_bands/w0/t1/outdata/out_DEN</title>\n",
       "<polygon fill=\"#b2dfee\" stroke=\"#b2dfee\" points=\"480.4911,-159.0318 480.4911,-195.0318 534.4911,-195.0318 534.4911,-159.0318 480.4911,-159.0318\"/>\n",
       "<text text-anchor=\"middle\" x=\"507.3232\" y=\"-174.6318\" font-family=\"Times,serif\" font-size=\"8.00\" fill=\"#000000\">out_DEN</text>\n",
       "</g>\n",
       "<!-- /tmp/hello_bands/w0/t1/outdata/out_OUT.nc -->\n",
       "<g id=\"node25\" class=\"node\">\n",
       "<title>/tmp/hello_bands/w0/t1/outdata/out_OUT.nc</title>\n",
       "<polygon fill=\"#b2dfee\" stroke=\"#b2dfee\" points=\"415.6786,-164.0318 415.6786,-200.0318 471.3036,-200.0318 471.3036,-164.0318 415.6786,-164.0318\"/>\n",
       "<text text-anchor=\"middle\" x=\"443.4911\" y=\"-179.6318\" font-family=\"Times,serif\" font-size=\"8.00\" fill=\"#000000\">out_OUT.nc</text>\n",
       "</g>\n",
       "<!-- /tmp/hello_bands/w0/t0/run.log -->\n",
       "<g id=\"node26\" class=\"node\">\n",
       "<title>/tmp/hello_bands/w0/t0/run.log</title>\n",
       "<polygon fill=\"#b2dfee\" stroke=\"#b2dfee\" points=\"468.0507,-621.338 468.0507,-657.338 522.0507,-657.338 522.0507,-621.338 468.0507,-621.338\"/>\n",
       "<text text-anchor=\"middle\" x=\"494.9941\" y=\"-636.938\" font-family=\"Times,serif\" font-size=\"8.00\" fill=\"#000000\">run.log</text>\n",
       "</g>\n",
       "<!-- /tmp/hello_bands/w0/t0/run.abo -->\n",
       "<g id=\"node27\" class=\"node\">\n",
       "<title>/tmp/hello_bands/w0/t0/run.abo</title>\n",
       "<polygon fill=\"#b2dfee\" stroke=\"#b2dfee\" points=\"473.0507,-556.338 473.0507,-592.338 527.0507,-592.338 527.0507,-556.338 473.0507,-556.338\"/>\n",
       "<text text-anchor=\"middle\" x=\"499.6581\" y=\"-571.938\" font-family=\"Times,serif\" font-size=\"8.00\" fill=\"#000000\">run.abo</text>\n",
       "</g>\n",
       "<!-- /tmp/hello_bands/w0/t0/run.abi -->\n",
       "<g id=\"node28\" class=\"node\">\n",
       "<title>/tmp/hello_bands/w0/t0/run.abi</title>\n",
       "<polygon fill=\"#b2dfee\" stroke=\"#b2dfee\" points=\"403.0507,-626.338 403.0507,-662.338 457.0507,-662.338 457.0507,-626.338 403.0507,-626.338\"/>\n",
       "<text text-anchor=\"middle\" x=\"429.7695\" y=\"-641.938\" font-family=\"Times,serif\" font-size=\"8.00\" fill=\"#000000\">run.abi</text>\n",
       "</g>\n",
       "<!-- /tmp/hello_bands/w0/t0/__startlock__ -->\n",
       "<g id=\"node29\" class=\"node\">\n",
       "<title>/tmp/hello_bands/w0/t0/__startlock__</title>\n",
       "<polygon fill=\"#b2dfee\" stroke=\"#b2dfee\" points=\"403.2773,-571.338 403.2773,-607.338 462.8242,-607.338 462.8242,-571.338 403.2773,-571.338\"/>\n",
       "<text text-anchor=\"middle\" x=\"433.0507\" y=\"-586.938\" font-family=\"Times,serif\" font-size=\"8.00\" fill=\"#000000\">__startlock__</text>\n",
       "</g>\n",
       "<!-- /tmp/hello_bands/w0/t0/run.err -->\n",
       "<g id=\"node30\" class=\"node\">\n",
       "<title>/tmp/hello_bands/w0/t0/run.err</title>\n",
       "<polygon fill=\"#b2dfee\" stroke=\"#b2dfee\" points=\"368.0507,-521.338 368.0507,-557.338 422.0507,-557.338 422.0507,-521.338 368.0507,-521.338\"/>\n",
       "<text text-anchor=\"middle\" x=\"394.8222\" y=\"-536.938\" font-family=\"Times,serif\" font-size=\"8.00\" fill=\"#000000\">run.err</text>\n",
       "</g>\n",
       "<!-- /tmp/hello_bands/w0/t0/job.sh -->\n",
       "<g id=\"node31\" class=\"node\">\n",
       "<title>/tmp/hello_bands/w0/t0/job.sh</title>\n",
       "<polygon fill=\"#b2dfee\" stroke=\"#b2dfee\" points=\"518.0507,-671.338 518.0507,-707.338 572.0507,-707.338 572.0507,-671.338 518.0507,-671.338\"/>\n",
       "<text text-anchor=\"middle\" x=\"544.7187\" y=\"-686.938\" font-family=\"Times,serif\" font-size=\"8.00\" fill=\"#000000\">job.sh</text>\n",
       "</g>\n",
       "<!-- /tmp/hello_bands/w0/t0/run.files -->\n",
       "<g id=\"node32\" class=\"node\">\n",
       "<title>/tmp/hello_bands/w0/t0/run.files</title>\n",
       "<polygon fill=\"#b2dfee\" stroke=\"#b2dfee\" points=\"438.0507,-506.338 438.0507,-542.338 492.0507,-542.338 492.0507,-506.338 438.0507,-506.338\"/>\n",
       "<text text-anchor=\"middle\" x=\"465.0507\" y=\"-521.938\" font-family=\"Times,serif\" font-size=\"8.00\" fill=\"#000000\">run.files</text>\n",
       "</g>\n",
       "<!-- /tmp/hello_bands/w0/t0/outdata/out_EIG.nc -->\n",
       "<g id=\"node36\" class=\"node\">\n",
       "<title>/tmp/hello_bands/w0/t0/outdata/out_EIG.nc</title>\n",
       "<polygon fill=\"#b2dfee\" stroke=\"#b2dfee\" points=\"123.4542,-355.5016 123.4542,-391.5016 177.4542,-391.5016 177.4542,-355.5016 123.4542,-355.5016\"/>\n",
       "<text text-anchor=\"middle\" x=\"150.005\" y=\"-371.1016\" font-family=\"Times,serif\" font-size=\"8.00\" fill=\"#000000\">out_EIG.nc</text>\n",
       "</g>\n",
       "<!-- /tmp/hello_bands/w0/t0/outdata/out_WFK -->\n",
       "<g id=\"node37\" class=\"node\">\n",
       "<title>/tmp/hello_bands/w0/t0/outdata/out_WFK</title>\n",
       "<polygon fill=\"#b2dfee\" stroke=\"#b2dfee\" points=\"108.4542,-430.5016 108.4542,-466.5016 162.4542,-466.5016 162.4542,-430.5016 108.4542,-430.5016\"/>\n",
       "<text text-anchor=\"middle\" x=\"135.4542\" y=\"-446.1016\" font-family=\"Times,serif\" font-size=\"8.00\" fill=\"#000000\">out_WFK</text>\n",
       "</g>\n",
       "<!-- /tmp/hello_bands/w0/t0/outdata/out_EBANDS.agr -->\n",
       "<g id=\"node38\" class=\"node\">\n",
       "<title>/tmp/hello_bands/w0/t0/outdata/out_EBANDS.agr</title>\n",
       "<polygon fill=\"#b2dfee\" stroke=\"#b2dfee\" points=\"38.2335,-380.5016 38.2335,-416.5016 112.6749,-416.5016 112.6749,-380.5016 38.2335,-380.5016\"/>\n",
       "<text text-anchor=\"middle\" x=\"75.4542\" y=\"-396.1016\" font-family=\"Times,serif\" font-size=\"8.00\" fill=\"#000000\">out_EBANDS.agr</text>\n",
       "</g>\n",
       "<!-- /tmp/hello_bands/w0/t0/outdata/out_DDB -->\n",
       "<g id=\"node39\" class=\"node\">\n",
       "<title>/tmp/hello_bands/w0/t0/outdata/out_DDB</title>\n",
       "<polygon fill=\"#b2dfee\" stroke=\"#b2dfee\" points=\"8.4542,-330.5016 8.4542,-366.5016 62.4542,-366.5016 62.4542,-330.5016 8.4542,-330.5016\"/>\n",
       "<text text-anchor=\"middle\" x=\"35.0109\" y=\"-346.1016\" font-family=\"Times,serif\" font-size=\"8.00\" fill=\"#000000\">out_DDB</text>\n",
       "</g>\n",
       "<!-- /tmp/hello_bands/w0/t0/outdata/out_GSR.nc -->\n",
       "<g id=\"node40\" class=\"node\">\n",
       "<title>/tmp/hello_bands/w0/t0/outdata/out_GSR.nc</title>\n",
       "<polygon fill=\"#b2dfee\" stroke=\"#b2dfee\" points=\"157.7862,-480.5016 157.7862,-516.5016 213.1222,-516.5016 213.1222,-480.5016 157.7862,-480.5016\"/>\n",
       "<text text-anchor=\"middle\" x=\"185.4542\" y=\"-496.1016\" font-family=\"Times,serif\" font-size=\"8.00\" fill=\"#000000\">out_GSR.nc</text>\n",
       "</g>\n",
       "<!-- /tmp/hello_bands/w0/t0/outdata/out_EIG -->\n",
       "<g id=\"node41\" class=\"node\">\n",
       "<title>/tmp/hello_bands/w0/t0/outdata/out_EIG</title>\n",
       "<polygon fill=\"#b2dfee\" stroke=\"#b2dfee\" points=\"93.4542,-485.5016 93.4542,-521.5016 147.4542,-521.5016 147.4542,-485.5016 93.4542,-485.5016\"/>\n",
       "<text text-anchor=\"middle\" x=\"120.2296\" y=\"-501.1016\" font-family=\"Times,serif\" font-size=\"8.00\" fill=\"#000000\">out_EIG</text>\n",
       "</g>\n",
       "<!-- /tmp/hello_bands/w0/t0/outdata/out_DEN -->\n",
       "<g id=\"node42\" class=\"node\">\n",
       "<title>/tmp/hello_bands/w0/t0/outdata/out_DEN</title>\n",
       "<polygon fill=\"#b2dfee\" stroke=\"#b2dfee\" points=\"28.4542,-485.5016 28.4542,-521.5016 82.4542,-521.5016 82.4542,-485.5016 28.4542,-485.5016\"/>\n",
       "<text text-anchor=\"middle\" x=\"55.2862\" y=\"-501.1016\" font-family=\"Times,serif\" font-size=\"8.00\" fill=\"#000000\">out_DEN</text>\n",
       "</g>\n",
       "<!-- /tmp/hello_bands/w0/t0/outdata/out_OUT.nc -->\n",
       "<g id=\"node43\" class=\"node\">\n",
       "<title>/tmp/hello_bands/w0/t0/outdata/out_OUT.nc</title>\n",
       "<polygon fill=\"#b2dfee\" stroke=\"#b2dfee\" points=\"43.6417,-435.5016 43.6417,-471.5016 99.2667,-471.5016 99.2667,-435.5016 43.6417,-435.5016\"/>\n",
       "<text text-anchor=\"middle\" x=\"71.4542\" y=\"-451.1016\" font-family=\"Times,serif\" font-size=\"8.00\" fill=\"#000000\">out_OUT.nc</text>\n",
       "</g>\n",
       "<!-- __0:cluster_/tmp/hello_bands/w0 -->\n",
       "<!-- __1:cluster_/tmp/hello_bands/w0/tmpdata -->\n",
       "<!-- __0:cluster_/tmp/hello_bands/w0&#45;&gt;__1:cluster_/tmp/hello_bands/w0/tmpdata -->\n",
       "<g id=\"edge13\" class=\"edge\">\n",
       "<title>__0:cluster_/tmp/hello_bands/w0&#45;&gt;__1:cluster_/tmp/hello_bands/w0/tmpdata</title>\n",
       "<path fill=\"none\" stroke=\"#000000\" d=\"M246.2505,-643.2889C250.7265,-658.5645 257.0564,-680.1671 262.1358,-697.5021\"/>\n",
       "<polygon fill=\"#000000\" stroke=\"#000000\" points=\"258.7878,-698.5231 264.9585,-707.1354 265.5053,-696.5547 258.7878,-698.5231\"/>\n",
       "</g>\n",
       "<!-- __2:cluster_/tmp/hello_bands/w0 -->\n",
       "<!-- __3:cluster_/tmp/hello_bands/w0/indata -->\n",
       "<!-- __2:cluster_/tmp/hello_bands/w0&#45;&gt;__3:cluster_/tmp/hello_bands/w0/indata -->\n",
       "<g id=\"edge14\" class=\"edge\">\n",
       "<title>__2:cluster_/tmp/hello_bands/w0&#45;&gt;__3:cluster_/tmp/hello_bands/w0/indata</title>\n",
       "<path fill=\"none\" stroke=\"#000000\" d=\"M224.1762,-622.0491C211.2181,-620.4611 192.6821,-618.1894 176.4008,-616.1942\"/>\n",
       "<polygon fill=\"#000000\" stroke=\"#000000\" points=\"176.4601,-612.6753 166.1086,-614.9328 175.6086,-619.6233 176.4601,-612.6753\"/>\n",
       "</g>\n",
       "<!-- __4:cluster_/tmp/hello_bands/w0 -->\n",
       "<!-- __5:cluster_/tmp/hello_bands/w0/outdata -->\n",
       "<!-- __4:cluster_/tmp/hello_bands/w0&#45;&gt;__5:cluster_/tmp/hello_bands/w0/outdata -->\n",
       "<g id=\"edge15\" class=\"edge\">\n",
       "<title>__4:cluster_/tmp/hello_bands/w0&#45;&gt;__5:cluster_/tmp/hello_bands/w0/outdata</title>\n",
       "<path fill=\"none\" stroke=\"#000000\" d=\"M225.797,-643.2922C217.4095,-654.1743 206.7859,-667.9576 197.5694,-679.9153\"/>\n",
       "<polygon fill=\"#000000\" stroke=\"#000000\" points=\"194.7908,-677.787 191.4582,-687.844 200.3351,-682.0603 194.7908,-677.787\"/>\n",
       "</g>\n",
       "<!-- __6:cluster_/tmp/hello_bands/w0 -->\n",
       "<!-- __7:cluster_/tmp/hello_bands/w0/t1 -->\n",
       "<!-- __6:cluster_/tmp/hello_bands/w0&#45;&gt;__7:cluster_/tmp/hello_bands/w0/t1 -->\n",
       "<g id=\"edge16\" class=\"edge\">\n",
       "<title>__6:cluster_/tmp/hello_bands/w0&#45;&gt;__7:cluster_/tmp/hello_bands/w0/t1</title>\n",
       "<path fill=\"none\" stroke=\"#000000\" d=\"M248.3458,-604.8494C258.149,-580.4764 275.9177,-536.2997 293.6184,-492.2921\"/>\n",
       "<polygon fill=\"#000000\" stroke=\"#000000\" points=\"296.907,-493.4949 297.3916,-482.9111 290.4127,-490.8827 296.907,-493.4949\"/>\n",
       "</g>\n",
       "<!-- __8:cluster_/tmp/hello_bands/w0 -->\n",
       "<!-- __9:cluster_/tmp/hello_bands/w0/t0 -->\n",
       "<!-- __8:cluster_/tmp/hello_bands/w0&#45;&gt;__9:cluster_/tmp/hello_bands/w0/t0 -->\n",
       "<g id=\"edge17\" class=\"edge\">\n",
       "<title>__8:cluster_/tmp/hello_bands/w0&#45;&gt;__9:cluster_/tmp/hello_bands/w0/t0</title>\n",
       "<path fill=\"none\" stroke=\"#000000\" d=\"M256.7339,-623.6163C276.7119,-623.0613 312.6359,-622.0634 349.3635,-621.0431\"/>\n",
       "<polygon fill=\"#000000\" stroke=\"#000000\" points=\"349.8324,-624.5315 359.7313,-620.7551 349.6379,-617.5342 349.8324,-624.5315\"/>\n",
       "</g>\n",
       "<!-- __10:cluster_/tmp/hello_bands/w0/t1 -->\n",
       "<!-- __11:cluster_/tmp/hello_bands/w0/t1/tmpdata -->\n",
       "<!-- __10:cluster_/tmp/hello_bands/w0/t1&#45;&gt;__11:cluster_/tmp/hello_bands/w0/t1/tmpdata -->\n",
       "<g id=\"edge18\" class=\"edge\">\n",
       "<title>__10:cluster_/tmp/hello_bands/w0/t1&#45;&gt;__11:cluster_/tmp/hello_bands/w0/t1/tmpdata</title>\n",
       "<path fill=\"none\" stroke=\"#000000\" d=\"M278.0117,-242.4549C262.7696,-215.3732 247.9839,-189.1027 237.3712,-170.2464\"/>\n",
       "<polygon fill=\"#000000\" stroke=\"#000000\" points=\"240.3223,-168.3538 232.3674,-161.3559 234.2221,-171.7871 240.3223,-168.3538\"/>\n",
       "</g>\n",
       "<!-- __12:cluster_/tmp/hello_bands/w0/t1 -->\n",
       "<!-- __13:cluster_/tmp/hello_bands/w0/t1/indata -->\n",
       "<!-- __12:cluster_/tmp/hello_bands/w0/t1&#45;&gt;__13:cluster_/tmp/hello_bands/w0/t1/indata -->\n",
       "<g id=\"edge19\" class=\"edge\">\n",
       "<title>__12:cluster_/tmp/hello_bands/w0/t1&#45;&gt;__13:cluster_/tmp/hello_bands/w0/t1/indata</title>\n",
       "<path fill=\"none\" stroke=\"#000000\" d=\"M456.0681,-379.6591C501.1327,-386.5619 550.7416,-394.1608 585.6077,-399.5014\"/>\n",
       "<polygon fill=\"#000000\" stroke=\"#000000\" points=\"585.5188,-403.0285 595.9335,-401.0831 586.5788,-396.1093 585.5188,-403.0285\"/>\n",
       "</g>\n",
       "<!-- __14:cluster_/tmp/hello_bands/w0/t1 -->\n",
       "<!-- __15:cluster_/tmp/hello_bands/w0/t1/outdata -->\n",
       "<!-- __14:cluster_/tmp/hello_bands/w0/t1&#45;&gt;__15:cluster_/tmp/hello_bands/w0/t1/outdata -->\n",
       "<g id=\"edge20\" class=\"edge\">\n",
       "<title>__14:cluster_/tmp/hello_bands/w0/t1&#45;&gt;__15:cluster_/tmp/hello_bands/w0/t1/outdata</title>\n",
       "<path fill=\"none\" stroke=\"#000000\" d=\"M387.7191,-242.6967C388.0299,-241.8081 388.3409,-240.9193 388.6518,-240.0303\"/>\n",
       "<polygon fill=\"#000000\" stroke=\"#000000\" points=\"391.9831,-241.1069 391.9815,-230.5121 385.3758,-238.7955 391.9831,-241.1069\"/>\n",
       "</g>\n",
       "<!-- __16:cluster_/tmp/hello_bands/w0/t0 -->\n",
       "<!-- __17:cluster_/tmp/hello_bands/w0/t0/tmpdata -->\n",
       "<!-- __16:cluster_/tmp/hello_bands/w0/t0&#45;&gt;__17:cluster_/tmp/hello_bands/w0/t0/tmpdata -->\n",
       "<g id=\"edge21\" class=\"edge\">\n",
       "<title>__16:cluster_/tmp/hello_bands/w0/t0&#45;&gt;__17:cluster_/tmp/hello_bands/w0/t0/tmpdata</title>\n",
       "<path fill=\"none\" stroke=\"#000000\" d=\"M505.2515,-497.4169C515.4803,-462.7003 525.732,-427.9059 532.6378,-404.4677\"/>\n",
       "<polygon fill=\"#000000\" stroke=\"#000000\" points=\"536.0038,-405.427 535.4728,-394.8455 529.2892,-403.4486 536.0038,-405.427\"/>\n",
       "</g>\n",
       "<!-- __18:cluster_/tmp/hello_bands/w0/t0 -->\n",
       "<!-- __19:cluster_/tmp/hello_bands/w0/t0/indata -->\n",
       "<!-- __18:cluster_/tmp/hello_bands/w0/t0&#45;&gt;__19:cluster_/tmp/hello_bands/w0/t0/indata -->\n",
       "<g id=\"edge22\" class=\"edge\">\n",
       "<title>__18:cluster_/tmp/hello_bands/w0/t0&#45;&gt;__19:cluster_/tmp/hello_bands/w0/t0/indata</title>\n",
       "<path fill=\"none\" stroke=\"#000000\" d=\"M574.901,-737.8782C587.2669,-752.0201 598.8077,-765.2183 608.2177,-775.9798\"/>\n",
       "<polygon fill=\"#000000\" stroke=\"#000000\" points=\"605.7593,-778.4854 614.9766,-783.7094 611.0288,-773.8776 605.7593,-778.4854\"/>\n",
       "</g>\n",
       "<!-- __20:cluster_/tmp/hello_bands/w0/t0 -->\n",
       "<!-- __21:cluster_/tmp/hello_bands/w0/t0/outdata -->\n",
       "<!-- __20:cluster_/tmp/hello_bands/w0/t0&#45;&gt;__21:cluster_/tmp/hello_bands/w0/t0/outdata -->\n",
       "<g id=\"edge23\" class=\"edge\">\n",
       "<title>__20:cluster_/tmp/hello_bands/w0/t0&#45;&gt;__21:cluster_/tmp/hello_bands/w0/t0/outdata</title>\n",
       "<path fill=\"none\" stroke=\"#000000\" d=\"M359.6314,-562.2113C318.7196,-541.6086 272.1296,-518.1465 230.4086,-497.1363\"/>\n",
       "<polygon fill=\"#000000\" stroke=\"#000000\" points=\"231.8132,-493.925 221.3076,-492.5531 228.6648,-500.177 231.8132,-493.925\"/>\n",
       "</g>\n",
       "</g>\n",
       "</svg>\n"
      ],
      "text/plain": [
       "<graphviz.dot.Digraph at 0x115599dd8>"
      ]
     },
     "execution_count": 15,
     "metadata": {},
     "output_type": "execute_result"
    }
   ],
   "source": [
    "flow[0].get_graphviz_dirtree()"
   ]
  },
  {
   "cell_type": "markdown",
   "metadata": {},
   "source": [
    "or list only the files with a given extension:"
   ]
  },
  {
   "cell_type": "code",
   "execution_count": 16,
   "metadata": {},
   "outputs": [
    {
     "name": "stdout",
     "output_type": "stream",
     "text": [
      "Found 2 files with extension `GSR.nc` produced by the flow\n",
      "File                                                       Size [Mb]    Node_ID  Node Class\n",
      "-------------------------------------------------------  -----------  ---------  ------------\n",
      "../../../../../tmp/hello_bands/w0/t0/outdata/out_GSR.nc         0.02      66147  ScfTask\n",
      "../../../../../tmp/hello_bands/w0/t1/outdata/out_GSR.nc         0.02      66148  NscfTask\n"
     ]
    }
   ],
   "source": [
    "flow.listext(\"GSR.nc\")"
   ]
  },
  {
   "cell_type": "markdown",
   "metadata": {},
   "source": [
    "The nice thing about the flow is that the object knows how to locate and interpret the \n",
    "different input/ouput files produced by Abinit. \n",
    "As a consequence, it is very easy to expose the AbiPy post-processing tools with a easy-to-use API\n",
    "in which only tasks/works/flow plus a very few input arguments are required.\n",
    "\n",
    "Let's call, for instance, the inspect method to plot the self-consistent cycles:"
   ]
  },
  {
   "cell_type": "code",
   "execution_count": 17,
   "metadata": {},
   "outputs": [
    {
     "data": {
      "image/png": "[encoded data removed]",
      "text/plain": [
       "<Figure size 432x288 with 4 Axes>"
      ]
     },
     "metadata": {
      "needs_background": "light"
     },
     "output_type": "display_data"
    },
    {
     "name": "stdout",
     "output_type": "stream",
     "text": [
      "\u001b[34mTask <NscfTask, node_id=66148, workdir=../../../../../tmp/hello_bands/w0/t1> does not provide an inspect method\u001b[0m\n"
     ]
    }
   ],
   "source": [
    "flow.inspect(tight_layout=True);"
   ]
  },
  {
   "cell_type": "markdown",
   "metadata": {},
   "source": [
    "In the other AbiPy tutorials, we have explained how to use abiopen to create \n",
    "python objects from netcdf files. \n",
    "Well, the same code can be reused with the flow. \n",
    "It is just a matter of replacing\n",
    "\n",
    "```python\n",
    "with abiopen(filepath) as gsr:\n",
    "```\n",
    "\n",
    "with\n",
    "\n",
    "```python\n",
    "with task.open_gsr() as gsr:\n",
    "```\n",
    "\n",
    "Note that there is no need to specify the file path when you use the task-based API, because \n",
    "the `Task` knows how to locate its `GSR.nc` output.\n",
    "Let's do some practice..."
   ]
  },
  {
   "cell_type": "code",
   "execution_count": 18,
   "metadata": {},
   "outputs": [
    {
     "data": {
      "image/png": "[encoded data removed]",
      "text/plain": [
       "<Figure size 432x288 with 2 Axes>"
      ]
     },
     "metadata": {
      "needs_background": "light"
     },
     "output_type": "display_data"
    }
   ],
   "source": [
    "with flow[0][0].open_gsr() as gsr:\n",
    "    ebands_kmesh = gsr.ebands\n",
    "    \n",
    "with flow[0][1].open_gsr() as gsr:\n",
    "    gsr.ebands.plot_with_edos(ebands_kmesh.get_edos(), with_gaps=True);"
   ]
  },
  {
   "cell_type": "markdown",
   "metadata": {},
   "source": [
    "## More on Works, Tasks and dependencies \n",
    "[[back to top](#top)]\n",
    "\n",
    "In the previous example, we have constructed a workflow for band structure calculations\n",
    "starting from two input files and the magic line\n",
    "\n",
    "```python\n",
    "flow = flowtk.bandstructure_flow(workdir, scf_input, nscf_input)\n",
    "```\n",
    "\n",
    "Now it is the right time to explain in more details the syntax and the API used in AbiPy \n",
    "to build a flow with dependencies.\n",
    "Let's try to build a `Flow` from scratch and use graphviz after each step to show what's happening.\n",
    "We start with an empty flow in the `hello_flow` directory:"
   ]
  },
  {
   "cell_type": "code",
   "execution_count": 19,
   "metadata": {},
   "outputs": [
    {
     "data": {
      "image/svg+xml": [
       "<?xml version=\"1.0\" encoding=\"UTF-8\" standalone=\"no\"?>\n",
       "<!DOCTYPE svg PUBLIC \"-//W3C//DTD SVG 1.1//EN\"\n",
       " \"http://www.w3.org/Graphics/SVG/1.1/DTD/svg11.dtd\">\n",
       "<!-- Generated by graphviz version 2.40.1 (20161225.0304)\n",
       " -->\n",
       "<!-- Title: flow Pages: 1 -->\n",
       "<svg width=\"266pt\" height=\"66pt\"\n",
       " viewBox=\"0.00 0.00 265.99 66.00\" xmlns=\"http://www.w3.org/2000/svg\" xmlns:xlink=\"http://www.w3.org/1999/xlink\">\n",
       "<g id=\"graph0\" class=\"graph\" transform=\"scale(1 1) rotate(0) translate(11.9927 40)\">\n",
       "<title>flow</title>\n",
       "<polygon fill=\"#ffffff\" stroke=\"transparent\" points=\"-11.9927,26 -11.9927,-40 253.9927,-40 253.9927,26 -11.9927,26\"/>\n",
       "<text text-anchor=\"start\" x=\".0073\" y=\"15.2\" font-family=\"Times,serif\" font-size=\"14.00\" fill=\"#000000\">Flow, node_id=66149, workdir=hello_flow</text>\n",
       "</g>\n",
       "</svg>\n"
      ],
      "text/plain": [
       "<graphviz.dot.Digraph at 0x1158ac630>"
      ]
     },
     "execution_count": 19,
     "metadata": {},
     "output_type": "execute_result"
    }
   ],
   "source": [
    "hello_flow = flowtk.Flow(workdir=\"hello_flow\")\n",
    "hello_flow.get_graphviz()"
   ]
  },
  {
   "cell_type": "markdown",
   "metadata": {},
   "source": [
    "Now we add a new `Task` by just passing an `AbinitInput` for SCF calculations:"
   ]
  },
  {
   "cell_type": "code",
   "execution_count": 20,
   "metadata": {},
   "outputs": [
    {
     "data": {
      "image/svg+xml": [
       "<?xml version=\"1.0\" encoding=\"UTF-8\" standalone=\"no\"?>\n",
       "<!DOCTYPE svg PUBLIC \"-//W3C//DTD SVG 1.1//EN\"\n",
       " \"http://www.w3.org/Graphics/SVG/1.1/DTD/svg11.dtd\">\n",
       "<!-- Generated by graphviz version 2.40.1 (20161225.0304)\n",
       " -->\n",
       "<!-- Title: flow Pages: 1 -->\n",
       "<svg width=\"266pt\" height=\"104pt\"\n",
       " viewBox=\"0.00 0.00 265.99 104.00\" xmlns=\"http://www.w3.org/2000/svg\" xmlns:xlink=\"http://www.w3.org/1999/xlink\">\n",
       "<g id=\"graph0\" class=\"graph\" transform=\"scale(1 1) rotate(0) translate(11.9927 78)\">\n",
       "<title>flow</title>\n",
       "<polygon fill=\"#ffffff\" stroke=\"transparent\" points=\"-11.9927,26 -11.9927,-78 253.9927,-78 253.9927,26 -11.9927,26\"/>\n",
       "<text text-anchor=\"start\" x=\".0073\" y=\"15.2\" font-family=\"Times,serif\" font-size=\"14.00\" fill=\"#000000\">Flow, node_id=66149, workdir=hello_flow</text>\n",
       "<g id=\"clust1\" class=\"cluster\">\n",
       "<title>clusterw0</title>\n",
       "<path fill=\"#e0eeee\" stroke=\"#000000\" d=\"M95.2381,.3591C95.2381,.3591 147.2381,.3591 147.2381,.3591 153.2381,.3591 159.2381,-5.6409 159.2381,-11.6409 159.2381,-11.6409 159.2381,-61.6409 159.2381,-61.6409 159.2381,-67.6409 153.2381,-73.6409 147.2381,-73.6409 147.2381,-73.6409 95.2381,-73.6409 95.2381,-73.6409 89.2381,-73.6409 83.2381,-67.6409 83.2381,-61.6409 83.2381,-61.6409 83.2381,-11.6409 83.2381,-11.6409 83.2381,-5.6409 89.2381,.3591 95.2381,.3591\"/>\n",
       "<text text-anchor=\"middle\" x=\"121.2381\" y=\"-58.4409\" font-family=\"Times,serif\" font-size=\"14.00\" fill=\"#000000\">Work (w0)</text>\n",
       "</g>\n",
       "<!-- w0_t0 -->\n",
       "<g id=\"node1\" class=\"node\">\n",
       "<title>w0_t0</title>\n",
       "<ellipse fill=\"#ff0000\" stroke=\"#ff0000\" cx=\"121.4762\" cy=\"-25.2818\" rx=\"27.8878\" ry=\"18\"/>\n",
       "<text text-anchor=\"middle\" x=\"121.4762\" y=\"-26.8818\" font-family=\"Times,serif\" font-size=\"8.00\" fill=\"#000000\">w0_t0</text>\n",
       "<text text-anchor=\"middle\" x=\"121.4762\" y=\"-18.8818\" font-family=\"Times,serif\" font-size=\"8.00\" fill=\"#000000\">ScfTask</text>\n",
       "</g>\n",
       "</g>\n",
       "</svg>\n"
      ],
      "text/plain": [
       "<graphviz.dot.Digraph at 0x1158c8ba8>"
      ]
     },
     "execution_count": 20,
     "metadata": {},
     "output_type": "execute_result"
    }
   ],
   "source": [
    "hello_flow.register_scf_task(scf_input, append=True)\n",
    "hello_flow.get_graphviz()"
   ]
  },
  {
   "cell_type": "markdown",
   "metadata": {},
   "source": [
    "Now the tricky part. \n",
    "We want to register a NSCF calculation that should depend on the `scf_task` in `w0_t0` via the DEN file.\n",
    "We can use the same API but we **must** specify the dependency between the two steps with the \n",
    "```{scf_task: \"DEN\"}``` dictionary:"
   ]
  },
  {
   "cell_type": "code",
   "execution_count": 21,
   "metadata": {},
   "outputs": [
    {
     "data": {
      "image/svg+xml": [
       "<?xml version=\"1.0\" encoding=\"UTF-8\" standalone=\"no\"?>\n",
       "<!DOCTYPE svg PUBLIC \"-//W3C//DTD SVG 1.1//EN\"\n",
       " \"http://www.w3.org/Graphics/SVG/1.1/DTD/svg11.dtd\">\n",
       "<!-- Generated by graphviz version 2.40.1 (20161225.0304)\n",
       " -->\n",
       "<!-- Title: flow Pages: 1 -->\n",
       "<svg width=\"266pt\" height=\"120pt\"\n",
       " viewBox=\"0.00 0.00 265.99 120.00\" xmlns=\"http://www.w3.org/2000/svg\" xmlns:xlink=\"http://www.w3.org/1999/xlink\">\n",
       "<g id=\"graph0\" class=\"graph\" transform=\"scale(1 1) rotate(0) translate(4 116)\">\n",
       "<title>flow</title>\n",
       "<polygon fill=\"#ffffff\" stroke=\"transparent\" points=\"-4,4 -4,-116 261.9854,-116 261.9854,4 -4,4\"/>\n",
       "<text text-anchor=\"start\" x=\"8\" y=\"-6.8\" font-family=\"Times,serif\" font-size=\"14.00\" fill=\"#000000\">Flow, node_id=66149, workdir=hello_flow</text>\n",
       "<g id=\"clust1\" class=\"cluster\">\n",
       "<title>clusterw0</title>\n",
       "<path fill=\"#e0eeee\" stroke=\"#000000\" d=\"M22.7393,-30C22.7393,-30 235.246,-30 235.246,-30 241.246,-30 247.246,-36 247.246,-42 247.246,-42 247.246,-92 247.246,-92 247.246,-98 241.246,-104 235.246,-104 235.246,-104 22.7393,-104 22.7393,-104 16.7393,-104 10.7393,-98 10.7393,-92 10.7393,-92 10.7393,-42 10.7393,-42 10.7393,-36 16.7393,-30 22.7393,-30\"/>\n",
       "<text text-anchor=\"middle\" x=\"128.9927\" y=\"-88.8\" font-family=\"Times,serif\" font-size=\"14.00\" fill=\"#000000\">Work (w0)</text>\n",
       "</g>\n",
       "<!-- w0_t0 -->\n",
       "<g id=\"node1\" class=\"node\">\n",
       "<title>w0_t0</title>\n",
       "<ellipse fill=\"#ff0000\" stroke=\"#ff0000\" cx=\"46.6832\" cy=\"-56\" rx=\"27.8878\" ry=\"18\"/>\n",
       "<text text-anchor=\"middle\" x=\"46.6832\" y=\"-57.6\" font-family=\"Times,serif\" font-size=\"8.00\" fill=\"#000000\">w0_t0</text>\n",
       "<text text-anchor=\"middle\" x=\"46.6832\" y=\"-49.6\" font-family=\"Times,serif\" font-size=\"8.00\" fill=\"#000000\">ScfTask</text>\n",
       "</g>\n",
       "<!-- w0_t1 -->\n",
       "<g id=\"node2\" class=\"node\">\n",
       "<title>w0_t1</title>\n",
       "<ellipse fill=\"#c85064\" stroke=\"#c85064\" cx=\"208.3228\" cy=\"-56\" rx=\"30.8467\" ry=\"18\"/>\n",
       "<text text-anchor=\"middle\" x=\"208.3228\" y=\"-57.6\" font-family=\"Times,serif\" font-size=\"8.00\" fill=\"#000000\">w0_t1</text>\n",
       "<text text-anchor=\"middle\" x=\"208.3228\" y=\"-49.6\" font-family=\"Times,serif\" font-size=\"8.00\" fill=\"#000000\">NscfTask</text>\n",
       "</g>\n",
       "<!-- w0_t0&#45;&gt;w0_t1 -->\n",
       "<g id=\"edge1\" class=\"edge\">\n",
       "<title>w0_t0&#45;&gt;w0_t1</title>\n",
       "<path fill=\"none\" stroke=\"#ff0000\" d=\"M74.8387,-56C100.2949,-56 138.0978,-56 166.9822,-56\"/>\n",
       "<polygon fill=\"#ff0000\" stroke=\"#ff0000\" points=\"167.181,-59.5001 177.181,-56 167.1809,-52.5001 167.181,-59.5001\"/>\n",
       "<text text-anchor=\"middle\" x=\"126.0133\" y=\"-58.8\" font-family=\"Times,serif\" font-size=\"14.00\" fill=\"#000000\">DEN</text>\n",
       "</g>\n",
       "</g>\n",
       "</svg>\n"
      ],
      "text/plain": [
       "<graphviz.dot.Digraph at 0x115b69278>"
      ]
     },
     "execution_count": 21,
     "metadata": {},
     "output_type": "execute_result"
    }
   ],
   "source": [
    "hello_flow.register_nscf_task(nscf_input, deps={hello_flow[0][0]: \"DEN\"}, append=True)\n",
    "hello_flow.get_graphviz(engine=\"dot\")"
   ]
  },
  {
   "cell_type": "markdown",
   "metadata": {},
   "source": [
    "Excellent, we managed to build our first AbiPy flow with inter-dependent tasks in just six lines \n",
    "of code (including the three calls to graphviz).\n",
    "Now let's assume we want to add a second Nscf calculation (`NscTask`) in which we change one of the input parameters\n",
    "e.g. the number of bands and that, for some reason, we really want to re-use the output WFK file \n",
    "produced by `w0_t1` to initialize the eigenvalue solver (obviously we still need a DEN file).\n",
    "How can we express this with AbiPy? \n",
    "\n",
    "Well, the syntax for the new deps, it's just:\n",
    "\n",
    "```python\n",
    "deps = {hello_flow[0][0]: \"DEN\", hello_flow[0][1]: \"WFK\"}\n",
    "```\n",
    "\n",
    "but we should also change the input variable nband in the `nscf_input` before creating\n",
    "the new `NscTask` (remember that building a `Task` requires an `AbinitInput` object \n",
    "and a list of dependencies, if any).\n",
    "\n",
    "Now there are two ways to increase nband: the **wrong** way and the **correct** one!\n",
    "Let's start from the *wrong* way because it's always useful to learn from our mistakes.\n",
    "Let's print some values just for the record:"
   ]
  },
  {
   "cell_type": "code",
   "execution_count": 22,
   "metadata": {},
   "outputs": [
    {
     "name": "stdout",
     "output_type": "stream",
     "text": [
      "nband in the first NscfTask: 8\n"
     ]
    }
   ],
   "source": [
    "t1 = flow[0][1]\n",
    "print(\"nband in the first NscfTask:\", t1.input[\"nband\"])"
   ]
  },
  {
   "cell_type": "markdown",
   "metadata": {},
   "source": [
    "Now let's use the \"recipe\" recommended to us by the FORTRAN guru of our group: \n",
    "\n",
    "<img src=\"https://github.com/abinit/abipy_assets/blob/master/Dont-Try-This-At-Home.jpg?raw=true\" alt=\"\">"
   ]
  },
  {
   "cell_type": "code",
   "execution_count": 23,
   "metadata": {},
   "outputs": [
    {
     "name": "stdout",
     "output_type": "stream",
     "text": [
      "nband in the first NscfTask: 1000\n",
      "nband in the new input: 1000\n"
     ]
    }
   ],
   "source": [
    "# Just copy the previous input and change nband, it's super-easy, the FORTRAN guru said!\n",
    "new_input = t1.input\n",
    "new_input[\"nband\"] = 1000\n",
    "\n",
    "print(\"nband in the first NscfTask:\", t1.input[\"nband\"])\n",
    "print(\"nband in the new input:\", new_input[\"nband\"])"
   ]
  },
  {
   "cell_type": "markdown",
   "metadata": {},
   "source": [
    "Tada! Thanks to the trick of our beloved FORTRAN guru, we ended up with *two* NscfTaks\n",
    "with the **same number** of bands (1000!). Why?\n",
    "\n",
    "Because `AbinitInput` is implemented internally with a dictionary, python dictionaries are **mutable**\n",
    "and python variables are essentially references (they do not store data, actually they store the address of the data)."
   ]
  },
  {
   "cell_type": "code",
   "execution_count": 24,
   "metadata": {},
   "outputs": [
    {
     "name": "stdout",
     "output_type": "stream",
     "text": [
      "a dict: {'foo': 'bar', 'hello': 'world'}\n",
      "b dict: {'foo': 'bar', 'hello': 'world'}\n",
      "c dict: {'foo': 'bar'}\n"
     ]
    }
   ],
   "source": [
    "a = {\"foo\": \"bar\"}\n",
    "b = a \n",
    "c = a.copy()\n",
    "a[\"hello\"] = \"world\"\n",
    "print(\"a dict:\", a)\n",
    "print(\"b dict:\", b)\n",
    "print(\"c dict:\", c)"
   ]
  },
  {
   "cell_type": "markdown",
   "metadata": {},
   "source": [
    "For a more techical explanation see [here](http://docs.python-guide.org/en/latest/writing/gotchas/)\n",
    "\n",
    "To avoid this mistake, we need to *copy* the object before changing it"
   ]
  },
  {
   "cell_type": "code",
   "execution_count": 25,
   "metadata": {},
   "outputs": [
    {
     "name": "stdout",
     "output_type": "stream",
     "text": [
      "nband in the first NscfTask: 8\n",
      "nband in the new input: 1000\n"
     ]
    }
   ],
   "source": [
    "t1.input[\"nband\"] = 8 # back to the old value\n",
    "\n",
    "new_input = t1.input.new_with_vars(nband=1000)  # Copy and change nband\n",
    "\n",
    "print(\"nband in the first NscfTask:\", t1.input[\"nband\"])\n",
    "print(\"nband in the new input:\", new_input[\"nband\"])"
   ]
  },
  {
   "cell_type": "markdown",
   "metadata": {},
   "source": [
    "Now we can finally add the second `NscfTask` with 1000 bands:"
   ]
  },
  {
   "cell_type": "code",
   "execution_count": 26,
   "metadata": {},
   "outputs": [
    {
     "data": {
      "image/svg+xml": [
       "<?xml version=\"1.0\" encoding=\"UTF-8\" standalone=\"no\"?>\n",
       "<!DOCTYPE svg PUBLIC \"-//W3C//DTD SVG 1.1//EN\"\n",
       " \"http://www.w3.org/Graphics/SVG/1.1/DTD/svg11.dtd\">\n",
       "<!-- Generated by graphviz version 2.40.1 (20161225.0304)\n",
       " -->\n",
       "<!-- Title: flow Pages: 1 -->\n",
       "<svg width=\"427pt\" height=\"170pt\"\n",
       " viewBox=\"0.00 0.00 427.46 170.00\" xmlns=\"http://www.w3.org/2000/svg\" xmlns:xlink=\"http://www.w3.org/1999/xlink\">\n",
       "<g id=\"graph0\" class=\"graph\" transform=\"scale(1 1) rotate(0) translate(4 166)\">\n",
       "<title>flow</title>\n",
       "<polygon fill=\"#ffffff\" stroke=\"transparent\" points=\"-4,4 -4,-166 423.4635,-166 423.4635,4 -4,4\"/>\n",
       "<text text-anchor=\"start\" x=\"88.7391\" y=\"-6.8\" font-family=\"Times,serif\" font-size=\"14.00\" fill=\"#000000\">Flow, node_id=66149, workdir=hello_flow</text>\n",
       "<g id=\"clust1\" class=\"cluster\">\n",
       "<title>clusterw0</title>\n",
       "<path fill=\"#e0eeee\" stroke=\"#000000\" d=\"M20,-30C20,-30 399.4635,-30 399.4635,-30 405.4635,-30 411.4635,-36 411.4635,-42 411.4635,-42 411.4635,-142 411.4635,-142 411.4635,-148 405.4635,-154 399.4635,-154 399.4635,-154 20,-154 20,-154 14,-154 8,-148 8,-142 8,-142 8,-42 8,-42 8,-36 14,-30 20,-30\"/>\n",
       "<text text-anchor=\"middle\" x=\"209.7318\" y=\"-138.8\" font-family=\"Times,serif\" font-size=\"14.00\" fill=\"#000000\">Work (w0)</text>\n",
       "</g>\n",
       "<!-- w0_t0 -->\n",
       "<g id=\"node1\" class=\"node\">\n",
       "<title>w0_t0</title>\n",
       "<ellipse fill=\"#ff0000\" stroke=\"#ff0000\" cx=\"43.9439\" cy=\"-92\" rx=\"27.8878\" ry=\"18\"/>\n",
       "<text text-anchor=\"middle\" x=\"43.9439\" y=\"-93.6\" font-family=\"Times,serif\" font-size=\"8.00\" fill=\"#000000\">w0_t0</text>\n",
       "<text text-anchor=\"middle\" x=\"43.9439\" y=\"-85.6\" font-family=\"Times,serif\" font-size=\"8.00\" fill=\"#000000\">ScfTask</text>\n",
       "</g>\n",
       "<!-- w0_t1 -->\n",
       "<g id=\"node2\" class=\"node\">\n",
       "<title>w0_t1</title>\n",
       "<ellipse fill=\"#c85064\" stroke=\"#c85064\" cx=\"205.5834\" cy=\"-56\" rx=\"30.8467\" ry=\"18\"/>\n",
       "<text text-anchor=\"middle\" x=\"205.5834\" y=\"-57.6\" font-family=\"Times,serif\" font-size=\"8.00\" fill=\"#000000\">w0_t1</text>\n",
       "<text text-anchor=\"middle\" x=\"205.5834\" y=\"-49.6\" font-family=\"Times,serif\" font-size=\"8.00\" fill=\"#000000\">NscfTask</text>\n",
       "</g>\n",
       "<!-- w0_t0&#45;&gt;w0_t1 -->\n",
       "<g id=\"edge1\" class=\"edge\">\n",
       "<title>w0_t0&#45;&gt;w0_t1</title>\n",
       "<path fill=\"none\" stroke=\"#ff0000\" d=\"M70.6353,-86.0553C96.7842,-80.2315 136.9238,-71.2917 166.6341,-64.6747\"/>\n",
       "<polygon fill=\"#ff0000\" stroke=\"#ff0000\" points=\"167.6681,-68.0303 176.668,-62.44 166.1463,-61.1977 167.6681,-68.0303\"/>\n",
       "<text text-anchor=\"middle\" x=\"123.274\" y=\"-78.8\" font-family=\"Times,serif\" font-size=\"14.00\" fill=\"#000000\">DEN</text>\n",
       "</g>\n",
       "<!-- w0_t2 -->\n",
       "<g id=\"node3\" class=\"node\">\n",
       "<title>w0_t2</title>\n",
       "<ellipse fill=\"#c85064\" stroke=\"#c85064\" cx=\"372.5403\" cy=\"-81\" rx=\"30.8467\" ry=\"18\"/>\n",
       "<text text-anchor=\"middle\" x=\"372.5403\" y=\"-82.6\" font-family=\"Times,serif\" font-size=\"8.00\" fill=\"#000000\">w0_t2</text>\n",
       "<text text-anchor=\"middle\" x=\"372.5403\" y=\"-74.6\" font-family=\"Times,serif\" font-size=\"8.00\" fill=\"#000000\">NscfTask</text>\n",
       "</g>\n",
       "<!-- w0_t0&#45;&gt;w0_t2 -->\n",
       "<g id=\"edge2\" class=\"edge\">\n",
       "<title>w0_t0&#45;&gt;w0_t2</title>\n",
       "<path fill=\"none\" stroke=\"#ff0000\" d=\"M68.629,-100.5783C84.1232,-105.2144 104.632,-110 123.274,-110 123.274,-110 123.274,-110 289.0619,-110 306.6816,-110 325.2926,-104.1638 340.4596,-97.7277\"/>\n",
       "<polygon fill=\"#ff0000\" stroke=\"#ff0000\" points=\"342.2138,-100.7757 349.884,-93.4669 339.3301,-94.3973 342.2138,-100.7757\"/>\n",
       "<text text-anchor=\"middle\" x=\"205.5834\" y=\"-112.8\" font-family=\"Times,serif\" font-size=\"14.00\" fill=\"#000000\">DEN</text>\n",
       "</g>\n",
       "<!-- w0_t1&#45;&gt;w0_t2 -->\n",
       "<g id=\"edge3\" class=\"edge\">\n",
       "<title>w0_t1&#45;&gt;w0_t2</title>\n",
       "<path fill=\"none\" stroke=\"#c85064\" d=\"M235.8181,-60.5273C262.8849,-64.5803 302.769,-70.5525 332.4824,-75.0018\"/>\n",
       "<polygon fill=\"#c85064\" stroke=\"#c85064\" points=\"332.1225,-78.4868 342.5306,-76.5064 333.1592,-71.564 332.1225,-78.4868\"/>\n",
       "<text text-anchor=\"middle\" x=\"289.0619\" y=\"-72.8\" font-family=\"Times,serif\" font-size=\"14.00\" fill=\"#000000\">WFK</text>\n",
       "</g>\n",
       "</g>\n",
       "</svg>\n"
      ],
      "text/plain": [
       "<graphviz.dot.Digraph at 0x115b6f748>"
      ]
     },
     "execution_count": 26,
     "metadata": {},
     "output_type": "execute_result"
    }
   ],
   "source": [
    "hello_flow.register_nscf_task(new_input, deps={hello_flow[0][0]: \"DEN\", hello_flow[0][1]: \"WFK\"}, append=True)\n",
    "hello_flow.get_graphviz(engine=\"dot\")"
   ]
  },
  {
   "cell_type": "code",
   "execution_count": 27,
   "metadata": {},
   "outputs": [
    {
     "name": "stdout",
     "output_type": "stream",
     "text": [
      "[8, 8, 1000]\n"
     ]
    }
   ],
   "source": [
    "print([task.input[\"nband\"] for task in hello_flow.iflat_tasks()])"
   ]
  },
  {
   "cell_type": "markdown",
   "metadata": {},
   "source": [
    "Note that AbiPy dependencies can also be fulfilled with external files that are already available\n",
    "when the flow is constructed. There is no change in the syntax we've used so far.\n",
    "It is just a matter of using the absolute path to the DEN file as keyword of the dictionary instead of a `Task`.\n",
    "Let's start with a new `Flow` to avoid confusion and create a `NscfTask` that will start from a pre-computed `DEN` file."
   ]
  },
  {
   "cell_type": "code",
   "execution_count": 28,
   "metadata": {},
   "outputs": [
    {
     "data": {
      "image/svg+xml": [
       "<?xml version=\"1.0\" encoding=\"UTF-8\" standalone=\"no\"?>\n",
       "<!DOCTYPE svg PUBLIC \"-//W3C//DTD SVG 1.1//EN\"\n",
       " \"http://www.w3.org/Graphics/SVG/1.1/DTD/svg11.dtd\">\n",
       "<!-- Generated by graphviz version 2.40.1 (20161225.0304)\n",
       " -->\n",
       "<!-- Title: flow Pages: 1 -->\n",
       "<svg width=\"430pt\" height=\"120pt\"\n",
       " viewBox=\"0.00 0.00 430.29 120.00\" xmlns=\"http://www.w3.org/2000/svg\" xmlns:xlink=\"http://www.w3.org/1999/xlink\">\n",
       "<g id=\"graph0\" class=\"graph\" transform=\"scale(1 1) rotate(0) translate(4 116)\">\n",
       "<title>flow</title>\n",
       "<polygon fill=\"#ffffff\" stroke=\"transparent\" points=\"-4,4 -4,-116 426.2933,-116 426.2933,4 -4,4\"/>\n",
       "<text text-anchor=\"start\" x=\"79.2609\" y=\"-6.8\" font-family=\"Times,serif\" font-size=\"14.00\" fill=\"#000000\">Flow, node_id=66154, workdir=flow_with_file</text>\n",
       "<g id=\"clust1\" class=\"cluster\">\n",
       "<title>clusterw0</title>\n",
       "<path fill=\"#e0eeee\" stroke=\"#000000\" d=\"M348.4468,-30C348.4468,-30 402.2933,-30 402.2933,-30 408.2933,-30 414.2933,-36 414.2933,-42 414.2933,-42 414.2933,-92 414.2933,-92 414.2933,-98 408.2933,-104 402.2933,-104 402.2933,-104 348.4468,-104 348.4468,-104 342.4468,-104 336.4468,-98 336.4468,-92 336.4468,-92 336.4468,-42 336.4468,-42 336.4468,-36 342.4468,-30 348.4468,-30\"/>\n",
       "<text text-anchor=\"middle\" x=\"375.37\" y=\"-88.8\" font-family=\"Times,serif\" font-size=\"14.00\" fill=\"#000000\">Work (w0)</text>\n",
       "</g>\n",
       "<!-- w0_t0 -->\n",
       "<g id=\"node1\" class=\"node\">\n",
       "<title>w0_t0</title>\n",
       "<ellipse fill=\"#c85064\" stroke=\"#c85064\" cx=\"375.37\" cy=\"-56\" rx=\"30.8467\" ry=\"18\"/>\n",
       "<text text-anchor=\"middle\" x=\"375.37\" y=\"-57.6\" font-family=\"Times,serif\" font-size=\"8.00\" fill=\"#000000\">w0_t0</text>\n",
       "<text text-anchor=\"middle\" x=\"375.37\" y=\"-49.6\" font-family=\"Times,serif\" font-size=\"8.00\" fill=\"#000000\">NscfTask</text>\n",
       "</g>\n",
       "<!-- /Users/gmatteo/git_repos/abipy/abipy/data/refs/si_ebands/si_DEN.nc -->\n",
       "<g id=\"node2\" class=\"node\">\n",
       "<title>/Users/gmatteo/git_repos/abipy/abipy/data/refs/si_ebands/si_DEN.nc</title>\n",
       "<ellipse fill=\"#6633ff\" stroke=\"#6633ff\" cx=\"154.2234\" cy=\"-56\" rx=\"154.4471\" ry=\"18\"/>\n",
       "<text text-anchor=\"start\" x=\"24.0691\" y=\"-53.6\" font-family=\"Times,serif\" font-size=\"8.00\" fill=\"#000000\">FileNode, node_id=66157, rpath=../../abipy/abipy/data/refs/si_ebands/si_DEN.nc</text>\n",
       "</g>\n",
       "<!-- /Users/gmatteo/git_repos/abipy/abipy/data/refs/si_ebands/si_DEN.nc&#45;&gt;w0_t0 -->\n",
       "<g id=\"edge1\" class=\"edge\">\n",
       "<title>/Users/gmatteo/git_repos/abipy/abipy/data/refs/si_ebands/si_DEN.nc&#45;&gt;w0_t0</title>\n",
       "<path fill=\"none\" stroke=\"#6633ff\" d=\"M308.7188,-56C317.7363,-56 326.2884,-56 334.0733,-56\"/>\n",
       "<polygon fill=\"#6633ff\" stroke=\"#6633ff\" points=\"334.1852,-59.5001 344.1852,-56 334.1852,-52.5001 334.1852,-59.5001\"/>\n",
       "</g>\n",
       "</g>\n",
       "</svg>\n"
      ],
      "text/plain": [
       "<graphviz.dot.Digraph at 0x115b5bb70>"
      ]
     },
     "execution_count": 28,
     "metadata": {},
     "output_type": "execute_result"
    }
   ],
   "source": [
    "flow_with_file = flowtk.Flow(workdir=\"flow_with_file\")\n",
    "\n",
    "den_filepath = abidata.ref_file(\"si_DEN.nc\")\n",
    "flow_with_file.register_nscf_task(nscf_input, deps={den_filepath: \"DEN\"})\n",
    "\n",
    "flow_with_file.get_graphviz(engine=\"dot\")"
   ]
  },
  {
   "cell_type": "markdown",
   "metadata": {},
   "source": [
    "A call to `new_with_vars` inside a python `for` loop is all we need to add other two `NscfTasks`\n",
    "with different `nband`, all starting from the same DEN file:"
   ]
  },
  {
   "cell_type": "code",
   "execution_count": 29,
   "metadata": {},
   "outputs": [
    {
     "name": "stdout",
     "output_type": "stream",
     "text": [
      "[8, 10, 20]\n"
     ]
    },
    {
     "data": {
      "image/svg+xml": [
       "<?xml version=\"1.0\" encoding=\"UTF-8\" standalone=\"no\"?>\n",
       "<!DOCTYPE svg PUBLIC \"-//W3C//DTD SVG 1.1//EN\"\n",
       " \"http://www.w3.org/Graphics/SVG/1.1/DTD/svg11.dtd\">\n",
       "<!-- Generated by graphviz version 2.40.1 (20161225.0304)\n",
       " -->\n",
       "<!-- Title: flow Pages: 1 -->\n",
       "<svg width=\"321pt\" height=\"230pt\"\n",
       " viewBox=\"0.00 0.00 321.00 230.00\" xmlns=\"http://www.w3.org/2000/svg\" xmlns:xlink=\"http://www.w3.org/1999/xlink\">\n",
       "<g id=\"graph0\" class=\"graph\" transform=\"scale(1 1) rotate(0) translate(4 204)\">\n",
       "<title>flow</title>\n",
       "<polygon fill=\"#ffffff\" stroke=\"transparent\" points=\"-4,26 -4,-204 317,-204 317,26 -4,26\"/>\n",
       "<text text-anchor=\"start\" x=\"24.6143\" y=\"15.2\" font-family=\"Times,serif\" font-size=\"14.00\" fill=\"#000000\">Flow, node_id=66154, workdir=flow_with_file</text>\n",
       "<g id=\"clust1\" class=\"cluster\">\n",
       "<title>clusterw0</title>\n",
       "<path fill=\"#e0eeee\" stroke=\"#000000\" d=\"M11.8944,-126.3339C11.8944,-126.3339 64.8944,-126.3339 64.8944,-126.3339 70.8944,-126.3339 76.8944,-132.3339 76.8944,-138.3339 76.8944,-138.3339 76.8944,-188.3339 76.8944,-188.3339 76.8944,-194.3339 70.8944,-200.3339 64.8944,-200.3339 64.8944,-200.3339 11.8944,-200.3339 11.8944,-200.3339 5.8944,-200.3339 -.1056,-194.3339 -.1056,-188.3339 -.1056,-188.3339 -.1056,-138.3339 -.1056,-138.3339 -.1056,-132.3339 5.8944,-126.3339 11.8944,-126.3339\"/>\n",
       "<text text-anchor=\"middle\" x=\"38.3944\" y=\"-185.1339\" font-family=\"Times,serif\" font-size=\"14.00\" fill=\"#000000\">Work (w0)</text>\n",
       "</g>\n",
       "<g id=\"clust2\" class=\"cluster\">\n",
       "<title>clusterw1</title>\n",
       "<path fill=\"#e0eeee\" stroke=\"#000000\" d=\"M185.4967,-126.4747C185.4967,-126.4747 239.4967,-126.4747 239.4967,-126.4747 245.4967,-126.4747 251.4967,-132.4747 251.4967,-138.4747 251.4967,-138.4747 251.4967,-188.4747 251.4967,-188.4747 251.4967,-194.4747 245.4967,-200.4747 239.4967,-200.4747 239.4967,-200.4747 185.4967,-200.4747 185.4967,-200.4747 179.4967,-200.4747 173.4967,-194.4747 173.4967,-188.4747 173.4967,-188.4747 173.4967,-138.4747 173.4967,-138.4747 173.4967,-132.4747 179.4967,-126.4747 185.4967,-126.4747\"/>\n",
       "<text text-anchor=\"middle\" x=\"212.4967\" y=\"-185.2747\" font-family=\"Times,serif\" font-size=\"14.00\" fill=\"#000000\">Work (w1)</text>\n",
       "</g>\n",
       "<g id=\"clust3\" class=\"cluster\">\n",
       "<title>clusterw2</title>\n",
       "<path fill=\"#e0eeee\" stroke=\"#000000\" d=\"M124.6436,.0242C124.6436,.0242 178.6436,.0242 178.6436,.0242 184.6436,.0242 190.6436,-5.9758 190.6436,-11.9758 190.6436,-11.9758 190.6436,-61.9758 190.6436,-61.9758 190.6436,-67.9758 184.6436,-73.9758 178.6436,-73.9758 178.6436,-73.9758 124.6436,-73.9758 124.6436,-73.9758 118.6436,-73.9758 112.6436,-67.9758 112.6436,-61.9758 112.6436,-61.9758 112.6436,-11.9758 112.6436,-11.9758 112.6436,-5.9758 118.6436,.0242 124.6436,.0242\"/>\n",
       "<text text-anchor=\"middle\" x=\"151.6436\" y=\"-58.7758\" font-family=\"Times,serif\" font-size=\"14.00\" fill=\"#000000\">Work (w2)</text>\n",
       "</g>\n",
       "<!-- w0_t0 -->\n",
       "<g id=\"node1\" class=\"node\">\n",
       "<title>w0_t0</title>\n",
       "<ellipse fill=\"#c85064\" stroke=\"#c85064\" cx=\"38.4413\" cy=\"-152.5812\" rx=\"30.8467\" ry=\"18\"/>\n",
       "<text text-anchor=\"middle\" x=\"38.4413\" y=\"-154.1812\" font-family=\"Times,serif\" font-size=\"8.00\" fill=\"#000000\">w0_t0</text>\n",
       "<text text-anchor=\"middle\" x=\"38.4413\" y=\"-146.1812\" font-family=\"Times,serif\" font-size=\"8.00\" fill=\"#000000\">NscfTask</text>\n",
       "</g>\n",
       "<!-- w1_t0 -->\n",
       "<g id=\"node2\" class=\"node\">\n",
       "<title>w1_t0</title>\n",
       "<ellipse fill=\"#c85064\" stroke=\"#c85064\" cx=\"212.2698\" cy=\"-152.5525\" rx=\"30.8467\" ry=\"18\"/>\n",
       "<text text-anchor=\"middle\" x=\"212.2698\" y=\"-154.1525\" font-family=\"Times,serif\" font-size=\"8.00\" fill=\"#000000\">w1_t0</text>\n",
       "<text text-anchor=\"middle\" x=\"212.2698\" y=\"-146.1525\" font-family=\"Times,serif\" font-size=\"8.00\" fill=\"#000000\">NscfTask</text>\n",
       "</g>\n",
       "<!-- w2_t0 -->\n",
       "<g id=\"node3\" class=\"node\">\n",
       "<title>w2_t0</title>\n",
       "<ellipse fill=\"#c85064\" stroke=\"#c85064\" cx=\"151.2207\" cy=\"-26.1229\" rx=\"30.8467\" ry=\"18\"/>\n",
       "<text text-anchor=\"middle\" x=\"151.2207\" y=\"-27.7229\" font-family=\"Times,serif\" font-size=\"8.00\" fill=\"#000000\">w2_t0</text>\n",
       "<text text-anchor=\"middle\" x=\"151.2207\" y=\"-19.7229\" font-family=\"Times,serif\" font-size=\"8.00\" fill=\"#000000\">NscfTask</text>\n",
       "</g>\n",
       "<!-- /Users/gmatteo/git_repos/abipy/abipy/data/refs/si_ebands/si_DEN.nc -->\n",
       "<g id=\"node4\" class=\"node\">\n",
       "<title>/Users/gmatteo/git_repos/abipy/abipy/data/refs/si_ebands/si_DEN.nc</title>\n",
       "<ellipse fill=\"#6633ff\" stroke=\"#6633ff\" cx=\"158.7358\" cy=\"-100.207\" rx=\"154.4471\" ry=\"18\"/>\n",
       "<text text-anchor=\"start\" x=\"28.5815\" y=\"-97.807\" font-family=\"Times,serif\" font-size=\"8.00\" fill=\"#000000\">FileNode, node_id=66157, rpath=../../abipy/abipy/data/refs/si_ebands/si_DEN.nc</text>\n",
       "</g>\n",
       "<!-- /Users/gmatteo/git_repos/abipy/abipy/data/refs/si_ebands/si_DEN.nc&#45;&gt;w0_t0 -->\n",
       "<g id=\"edge1\" class=\"edge\">\n",
       "<title>/Users/gmatteo/git_repos/abipy/abipy/data/refs/si_ebands/si_DEN.nc&#45;&gt;w0_t0</title>\n",
       "<path fill=\"none\" stroke=\"#6633ff\" d=\"M118.6795,-117.6468C103.7969,-124.1265 87.0602,-131.4133 72.7384,-137.6488\"/>\n",
       "<polygon fill=\"#6633ff\" stroke=\"#6633ff\" points=\"71.0331,-134.5739 63.2615,-141.7749 73.8274,-140.992 71.0331,-134.5739\"/>\n",
       "</g>\n",
       "<!-- /Users/gmatteo/git_repos/abipy/abipy/data/refs/si_ebands/si_DEN.nc&#45;&gt;w1_t0 -->\n",
       "<g id=\"edge2\" class=\"edge\">\n",
       "<title>/Users/gmatteo/git_repos/abipy/abipy/data/refs/si_ebands/si_DEN.nc&#45;&gt;w1_t0</title>\n",
       "<path fill=\"none\" stroke=\"#6633ff\" d=\"M177.1592,-118.2213C180.919,-121.8977 184.9229,-125.8127 188.8307,-129.6337\"/>\n",
       "<polygon fill=\"#6633ff\" stroke=\"#6633ff\" points=\"186.5406,-132.2896 196.1375,-136.7784 191.4345,-127.2846 186.5406,-132.2896\"/>\n",
       "</g>\n",
       "<!-- /Users/gmatteo/git_repos/abipy/abipy/data/refs/si_ebands/si_DEN.nc&#45;&gt;w2_t0 -->\n",
       "<g id=\"edge3\" class=\"edge\">\n",
       "<title>/Users/gmatteo/git_repos/abipy/abipy/data/refs/si_ebands/si_DEN.nc&#45;&gt;w2_t0</title>\n",
       "<path fill=\"none\" stroke=\"#6633ff\" d=\"M156.8782,-81.8941C156.0318,-73.5507 155.0109,-63.4869 154.0707,-54.2181\"/>\n",
       "<polygon fill=\"#6633ff\" stroke=\"#6633ff\" points=\"157.5484,-53.8209 153.057,-44.2252 150.5842,-54.5274 157.5484,-53.8209\"/>\n",
       "</g>\n",
       "</g>\n",
       "</svg>\n"
      ],
      "text/plain": [
       "<graphviz.dot.Digraph at 0x115b796d8>"
      ]
     },
     "execution_count": 29,
     "metadata": {},
     "output_type": "execute_result"
    }
   ],
   "source": [
    "for nband in [10, 20]:\n",
    "    flow_with_file.register_nscf_task(nscf_input.new_with_vars(nband=nband), \n",
    "                                      deps={den_filepath: \"DEN\"}, append=False)\n",
    "\n",
    "print([task.input[\"nband\"] for task in flow_with_file.iflat_tasks()])\n",
    "flow_with_file.get_graphviz()"
   ]
  },
  {
   "cell_type": "markdown",
   "metadata": {},
   "source": [
    "At this point, you may ask why we need `Works` since all the examples presented so far \n",
    "mainly involve the `Flow` object.\n",
    "\n",
    "The answer is that `Works` allow us to encapsulate reusable logic in magic boxes \n",
    "that can perform lot of useful work. \n",
    "These boxes can then be connected together to generate more complicated workflows.\n",
    "We have already encountered the `BandStructureWork` at the beginning of this lesson\n",
    "and now it is time to introduce another fancy animal of the AbiPy zoo, the `PhononWork`."
   ]
  },
  {
   "cell_type": "code",
   "execution_count": 30,
   "metadata": {},
   "outputs": [
    {
     "data": {
      "text/html": [
       "<!DOCTYPE html PUBLIC \"-//W3C//DTD HTML 4.01//EN\"\n",
       "   \"http://www.w3.org/TR/html4/strict.dtd\">\n",
       "<!--\n",
       "generated by Pygments <http://pygments.org>\n",
       "Copyright 2006-2019 by the Pygments team.\n",
       "Licensed under the BSD license, see LICENSE for details.\n",
       "-->\n",
       "<html>\n",
       "<head>\n",
       "  <title></title>\n",
       "  <meta http-equiv=\"content-type\" content=\"text/html; charset=None\">\n",
       "  <style type=\"text/css\">\n",
       "/*\n",
       "generated by Pygments <http://pygments.org>\n",
       "Copyright 2006-2019 by the Pygments team.\n",
       "Licensed under the BSD license, see LICENSE for details.\n",
       "*/\n",
       "td.linenos { background-color: #f0f0f0; padding-right: 10px; }\n",
       "span.lineno { background-color: #f0f0f0; padding: 0 5px 0 5px; }\n",
       "pre { line-height: 125%; }\n",
       "body .hll { background-color: #ffffcc }\n",
       "body  { background: #f8f8f8; }\n",
       "body .c { color: #408080; font-style: italic } /* Comment */\n",
       "body .err { border: 1px solid #FF0000 } /* Error */\n",
       "body .k { color: #008000; font-weight: bold } /* Keyword */\n",
       "body .o { color: #666666 } /* Operator */\n",
       "body .ch { color: #408080; font-style: italic } /* Comment.Hashbang */\n",
       "body .cm { color: #408080; font-style: italic } /* Comment.Multiline */\n",
       "body .cp { color: #BC7A00 } /* Comment.Preproc */\n",
       "body .cpf { color: #408080; font-style: italic } /* Comment.PreprocFile */\n",
       "body .c1 { color: #408080; font-style: italic } /* Comment.Single */\n",
       "body .cs { color: #408080; font-style: italic } /* Comment.Special */\n",
       "body .gd { color: #A00000 } /* Generic.Deleted */\n",
       "body .ge { font-style: italic } /* Generic.Emph */\n",
       "body .gr { color: #FF0000 } /* Generic.Error */\n",
       "body .gh { color: #000080; font-weight: bold } /* Generic.Heading */\n",
       "body .gi { color: #00A000 } /* Generic.Inserted */\n",
       "body .go { color: #888888 } /* Generic.Output */\n",
       "body .gp { color: #000080; font-weight: bold } /* Generic.Prompt */\n",
       "body .gs { font-weight: bold } /* Generic.Strong */\n",
       "body .gu { color: #800080; font-weight: bold } /* Generic.Subheading */\n",
       "body .gt { color: #0044DD } /* Generic.Traceback */\n",
       "body .kc { color: #008000; font-weight: bold } /* Keyword.Constant */\n",
       "body .kd { color: #008000; font-weight: bold } /* Keyword.Declaration */\n",
       "body .kn { color: #008000; font-weight: bold } /* Keyword.Namespace */\n",
       "body .kp { color: #008000 } /* Keyword.Pseudo */\n",
       "body .kr { color: #008000; font-weight: bold } /* Keyword.Reserved */\n",
       "body .kt { color: #B00040 } /* Keyword.Type */\n",
       "body .m { color: #666666 } /* Literal.Number */\n",
       "body .s { color: #BA2121 } /* Literal.String */\n",
       "body .na { color: #7D9029 } /* Name.Attribute */\n",
       "body .nb { color: #008000 } /* Name.Builtin */\n",
       "body .nc { color: #0000FF; font-weight: bold } /* Name.Class */\n",
       "body .no { color: #880000 } /* Name.Constant */\n",
       "body .nd { color: #AA22FF } /* Name.Decorator */\n",
       "body .ni { color: #999999; font-weight: bold } /* Name.Entity */\n",
       "body .ne { color: #D2413A; font-weight: bold } /* Name.Exception */\n",
       "body .nf { color: #0000FF } /* Name.Function */\n",
       "body .nl { color: #A0A000 } /* Name.Label */\n",
       "body .nn { color: #0000FF; font-weight: bold } /* Name.Namespace */\n",
       "body .nt { color: #008000; font-weight: bold } /* Name.Tag */\n",
       "body .nv { color: #19177C } /* Name.Variable */\n",
       "body .ow { color: #AA22FF; font-weight: bold } /* Operator.Word */\n",
       "body .w { color: #bbbbbb } /* Text.Whitespace */\n",
       "body .mb { color: #666666 } /* Literal.Number.Bin */\n",
       "body .mf { color: #666666 } /* Literal.Number.Float */\n",
       "body .mh { color: #666666 } /* Literal.Number.Hex */\n",
       "body .mi { color: #666666 } /* Literal.Number.Integer */\n",
       "body .mo { color: #666666 } /* Literal.Number.Oct */\n",
       "body .sa { color: #BA2121 } /* Literal.String.Affix */\n",
       "body .sb { color: #BA2121 } /* Literal.String.Backtick */\n",
       "body .sc { color: #BA2121 } /* Literal.String.Char */\n",
       "body .dl { color: #BA2121 } /* Literal.String.Delimiter */\n",
       "body .sd { color: #BA2121; font-style: italic } /* Literal.String.Doc */\n",
       "body .s2 { color: #BA2121 } /* Literal.String.Double */\n",
       "body .se { color: #BB6622; font-weight: bold } /* Literal.String.Escape */\n",
       "body .sh { color: #BA2121 } /* Literal.String.Heredoc */\n",
       "body .si { color: #BB6688; font-weight: bold } /* Literal.String.Interpol */\n",
       "body .sx { color: #008000 } /* Literal.String.Other */\n",
       "body .sr { color: #BB6688 } /* Literal.String.Regex */\n",
       "body .s1 { color: #BA2121 } /* Literal.String.Single */\n",
       "body .ss { color: #19177C } /* Literal.String.Symbol */\n",
       "body .bp { color: #008000 } /* Name.Builtin.Pseudo */\n",
       "body .fm { color: #0000FF } /* Name.Function.Magic */\n",
       "body .vc { color: #19177C } /* Name.Variable.Class */\n",
       "body .vg { color: #19177C } /* Name.Variable.Global */\n",
       "body .vi { color: #19177C } /* Name.Variable.Instance */\n",
       "body .vm { color: #19177C } /* Name.Variable.Magic */\n",
       "body .il { color: #666666 } /* Literal.Number.Integer.Long */\n",
       "\n",
       "  </style>\n",
       "</head>\n",
       "<body>\n",
       "<h2></h2>\n",
       "\n",
       "<div class=\"highlight\"><pre><span></span><span class=\"k\">class</span> <span class=\"nc\">PhononWork</span><span class=\"p\">(</span><span class=\"n\">Work</span><span class=\"p\">,</span> <span class=\"n\">MergeDdb</span><span class=\"p\">):</span>\n",
       "    <span class=\"sd\">&quot;&quot;&quot;</span>\n",
       "<span class=\"sd\">    This work consists of nirred Phonon tasks where nirred is</span>\n",
       "<span class=\"sd\">    the number of irreducible atomic perturbations for a given set of q-points.</span>\n",
       "<span class=\"sd\">    It provides the callback method (on_all_ok) that calls mrgddb (mrgdv) to merge</span>\n",
       "<span class=\"sd\">    all the partial DDB (POT) files produced. The two files are available in the</span>\n",
       "<span class=\"sd\">    output directory of the Work.</span>\n",
       "<span class=\"sd\">    &quot;&quot;&quot;</span>\n",
       "</pre></div>\n",
       "</body>\n",
       "</html>\n"
      ],
      "text/plain": [
       "<IPython.core.display.HTML object>"
      ]
     },
     "execution_count": 30,
     "metadata": {},
     "output_type": "execute_result"
    }
   ],
   "source": [
    "abilab.print_doc(flowtk.PhononWork)"
   ]
  },
  {
   "cell_type": "code",
   "execution_count": 31,
   "metadata": {},
   "outputs": [
    {
     "data": {
      "text/html": [
       "<!DOCTYPE html PUBLIC \"-//W3C//DTD HTML 4.01//EN\"\n",
       "   \"http://www.w3.org/TR/html4/strict.dtd\">\n",
       "<!--\n",
       "generated by Pygments <http://pygments.org>\n",
       "Copyright 2006-2019 by the Pygments team.\n",
       "Licensed under the BSD license, see LICENSE for details.\n",
       "-->\n",
       "<html>\n",
       "<head>\n",
       "  <title></title>\n",
       "  <meta http-equiv=\"content-type\" content=\"text/html; charset=None\">\n",
       "  <style type=\"text/css\">\n",
       "/*\n",
       "generated by Pygments <http://pygments.org>\n",
       "Copyright 2006-2019 by the Pygments team.\n",
       "Licensed under the BSD license, see LICENSE for details.\n",
       "*/\n",
       "td.linenos { background-color: #f0f0f0; padding-right: 10px; }\n",
       "span.lineno { background-color: #f0f0f0; padding: 0 5px 0 5px; }\n",
       "pre { line-height: 125%; }\n",
       "body .hll { background-color: #ffffcc }\n",
       "body  { background: #f8f8f8; }\n",
       "body .c { color: #408080; font-style: italic } /* Comment */\n",
       "body .err { border: 1px solid #FF0000 } /* Error */\n",
       "body .k { color: #008000; font-weight: bold } /* Keyword */\n",
       "body .o { color: #666666 } /* Operator */\n",
       "body .ch { color: #408080; font-style: italic } /* Comment.Hashbang */\n",
       "body .cm { color: #408080; font-style: italic } /* Comment.Multiline */\n",
       "body .cp { color: #BC7A00 } /* Comment.Preproc */\n",
       "body .cpf { color: #408080; font-style: italic } /* Comment.PreprocFile */\n",
       "body .c1 { color: #408080; font-style: italic } /* Comment.Single */\n",
       "body .cs { color: #408080; font-style: italic } /* Comment.Special */\n",
       "body .gd { color: #A00000 } /* Generic.Deleted */\n",
       "body .ge { font-style: italic } /* Generic.Emph */\n",
       "body .gr { color: #FF0000 } /* Generic.Error */\n",
       "body .gh { color: #000080; font-weight: bold } /* Generic.Heading */\n",
       "body .gi { color: #00A000 } /* Generic.Inserted */\n",
       "body .go { color: #888888 } /* Generic.Output */\n",
       "body .gp { color: #000080; font-weight: bold } /* Generic.Prompt */\n",
       "body .gs { font-weight: bold } /* Generic.Strong */\n",
       "body .gu { color: #800080; font-weight: bold } /* Generic.Subheading */\n",
       "body .gt { color: #0044DD } /* Generic.Traceback */\n",
       "body .kc { color: #008000; font-weight: bold } /* Keyword.Constant */\n",
       "body .kd { color: #008000; font-weight: bold } /* Keyword.Declaration */\n",
       "body .kn { color: #008000; font-weight: bold } /* Keyword.Namespace */\n",
       "body .kp { color: #008000 } /* Keyword.Pseudo */\n",
       "body .kr { color: #008000; font-weight: bold } /* Keyword.Reserved */\n",
       "body .kt { color: #B00040 } /* Keyword.Type */\n",
       "body .m { color: #666666 } /* Literal.Number */\n",
       "body .s { color: #BA2121 } /* Literal.String */\n",
       "body .na { color: #7D9029 } /* Name.Attribute */\n",
       "body .nb { color: #008000 } /* Name.Builtin */\n",
       "body .nc { color: #0000FF; font-weight: bold } /* Name.Class */\n",
       "body .no { color: #880000 } /* Name.Constant */\n",
       "body .nd { color: #AA22FF } /* Name.Decorator */\n",
       "body .ni { color: #999999; font-weight: bold } /* Name.Entity */\n",
       "body .ne { color: #D2413A; font-weight: bold } /* Name.Exception */\n",
       "body .nf { color: #0000FF } /* Name.Function */\n",
       "body .nl { color: #A0A000 } /* Name.Label */\n",
       "body .nn { color: #0000FF; font-weight: bold } /* Name.Namespace */\n",
       "body .nt { color: #008000; font-weight: bold } /* Name.Tag */\n",
       "body .nv { color: #19177C } /* Name.Variable */\n",
       "body .ow { color: #AA22FF; font-weight: bold } /* Operator.Word */\n",
       "body .w { color: #bbbbbb } /* Text.Whitespace */\n",
       "body .mb { color: #666666 } /* Literal.Number.Bin */\n",
       "body .mf { color: #666666 } /* Literal.Number.Float */\n",
       "body .mh { color: #666666 } /* Literal.Number.Hex */\n",
       "body .mi { color: #666666 } /* Literal.Number.Integer */\n",
       "body .mo { color: #666666 } /* Literal.Number.Oct */\n",
       "body .sa { color: #BA2121 } /* Literal.String.Affix */\n",
       "body .sb { color: #BA2121 } /* Literal.String.Backtick */\n",
       "body .sc { color: #BA2121 } /* Literal.String.Char */\n",
       "body .dl { color: #BA2121 } /* Literal.String.Delimiter */\n",
       "body .sd { color: #BA2121; font-style: italic } /* Literal.String.Doc */\n",
       "body .s2 { color: #BA2121 } /* Literal.String.Double */\n",
       "body .se { color: #BB6622; font-weight: bold } /* Literal.String.Escape */\n",
       "body .sh { color: #BA2121 } /* Literal.String.Heredoc */\n",
       "body .si { color: #BB6688; font-weight: bold } /* Literal.String.Interpol */\n",
       "body .sx { color: #008000 } /* Literal.String.Other */\n",
       "body .sr { color: #BB6688 } /* Literal.String.Regex */\n",
       "body .s1 { color: #BA2121 } /* Literal.String.Single */\n",
       "body .ss { color: #19177C } /* Literal.String.Symbol */\n",
       "body .bp { color: #008000 } /* Name.Builtin.Pseudo */\n",
       "body .fm { color: #0000FF } /* Name.Function.Magic */\n",
       "body .vc { color: #19177C } /* Name.Variable.Class */\n",
       "body .vg { color: #19177C } /* Name.Variable.Global */\n",
       "body .vi { color: #19177C } /* Name.Variable.Instance */\n",
       "body .vm { color: #19177C } /* Name.Variable.Magic */\n",
       "body .il { color: #666666 } /* Literal.Number.Integer.Long */\n",
       "\n",
       "  </style>\n",
       "</head>\n",
       "<body>\n",
       "<h2></h2>\n",
       "\n",
       "<div class=\"highlight\"><pre><span></span>    <span class=\"nd\">@classmethod</span>\n",
       "    <span class=\"k\">def</span> <span class=\"nf\">from_scf_task</span><span class=\"p\">(</span><span class=\"bp\">cls</span><span class=\"p\">,</span> <span class=\"n\">scf_task</span><span class=\"p\">,</span> <span class=\"n\">qpoints</span><span class=\"p\">,</span> <span class=\"n\">is_ngqpt</span><span class=\"o\">=</span><span class=\"bp\">False</span><span class=\"p\">,</span> <span class=\"n\">tolerance</span><span class=\"o\">=</span><span class=\"bp\">None</span><span class=\"p\">,</span> <span class=\"n\">with_becs</span><span class=\"o\">=</span><span class=\"bp\">False</span><span class=\"p\">,</span>\n",
       "                      <span class=\"n\">ddk_tolerance</span><span class=\"o\">=</span><span class=\"bp\">None</span><span class=\"p\">,</span> <span class=\"n\">manager</span><span class=\"o\">=</span><span class=\"bp\">None</span><span class=\"p\">):</span>\n",
       "        <span class=\"sd\">&quot;&quot;&quot;</span>\n",
       "<span class=\"sd\">        Construct a `PhononWork` from a :class:`ScfTask` object.</span>\n",
       "<span class=\"sd\">        The input file for phonons is automatically generated from the input of the ScfTask.</span>\n",
       "<span class=\"sd\">        Each phonon task depends on the WFK file produced by the `scf_task`.</span>\n",
       "\n",
       "<span class=\"sd\">        Args:</span>\n",
       "<span class=\"sd\">            scf_task: ScfTask object.</span>\n",
       "<span class=\"sd\">            qpoints: q-points in reduced coordinates. Accepts single q-point, list of q-points</span>\n",
       "<span class=\"sd\">                or three integers defining the q-mesh if `is_ngqpt`.</span>\n",
       "<span class=\"sd\">            is_ngqpt: True if `qpoints` should be interpreted as divisions instead of q-points.</span>\n",
       "<span class=\"sd\">            tolerance: dict {&quot;varname&quot;: value} with the tolerance to be used in the phonon run.</span>\n",
       "<span class=\"sd\">                None to use AbiPy default.</span>\n",
       "<span class=\"sd\">            with_becs: Activate calculation of Electric field and Born effective charges.</span>\n",
       "<span class=\"sd\">            ddk_tolerance: dict {&quot;varname&quot;: value} with the tolerance used in the DDK run if with_becs.</span>\n",
       "<span class=\"sd\">                None to use AbiPy default.</span>\n",
       "<span class=\"sd\">            manager: :class:`TaskManager` object.</span>\n",
       "<span class=\"sd\">        &quot;&quot;&quot;</span>\n",
       "</pre></div>\n",
       "</body>\n",
       "</html>\n"
      ],
      "text/plain": [
       "<IPython.core.display.HTML object>"
      ]
     },
     "execution_count": 31,
     "metadata": {},
     "output_type": "execute_result"
    }
   ],
   "source": [
    "abilab.print_doc(flowtk.PhononWork.from_scf_task)"
   ]
  },
  {
   "cell_type": "markdown",
   "metadata": {},
   "source": [
    "The docstring seems to suggest that if I have a `scf_task`, I can construct a magic box\n",
    "to compute phonons but wait, I already have such a task! \n",
    "Actually I already have another magic box to compute the electronic band structure \n",
    "and it would be really great if I could compute the electronic and vibrational properties in a single flow.\n",
    "Let's connect the two boxes together with:"
   ]
  },
  {
   "cell_type": "code",
   "execution_count": 32,
   "metadata": {},
   "outputs": [
    {
     "data": {
      "image/svg+xml": [
       "<?xml version=\"1.0\" encoding=\"UTF-8\" standalone=\"no\"?>\n",
       "<!DOCTYPE svg PUBLIC \"-//W3C//DTD SVG 1.1//EN\"\n",
       " \"http://www.w3.org/Graphics/SVG/1.1/DTD/svg11.dtd\">\n",
       "<!-- Generated by graphviz version 2.40.1 (20161225.0304)\n",
       " -->\n",
       "<!-- Title: flow Pages: 1 -->\n",
       "<svg width=\"397pt\" height=\"207pt\"\n",
       " viewBox=\"0.00 0.00 397.00 207.00\" xmlns=\"http://www.w3.org/2000/svg\" xmlns:xlink=\"http://www.w3.org/1999/xlink\">\n",
       "<g id=\"graph0\" class=\"graph\" transform=\"scale(1 1) rotate(0) translate(4 181)\">\n",
       "<title>flow</title>\n",
       "<polygon fill=\"#ffffff\" stroke=\"transparent\" points=\"-4,26 -4,-181 393,-181 393,26 -4,26\"/>\n",
       "<text text-anchor=\"start\" x=\"84.0039\" y=\"15.2\" font-family=\"Times,serif\" font-size=\"14.00\" fill=\"#000000\">Flow, node_id=66164, workdir=phflow</text>\n",
       "<g id=\"clust1\" class=\"cluster\">\n",
       "<title>clusterw0</title>\n",
       "<path fill=\"#e0eeee\" stroke=\"#000000\" d=\"M12.4304,-55.266C12.4304,-55.266 145.4304,-55.266 145.4304,-55.266 151.4304,-55.266 157.4304,-61.266 157.4304,-67.266 157.4304,-67.266 157.4304,-165.266 157.4304,-165.266 157.4304,-171.266 151.4304,-177.266 145.4304,-177.266 145.4304,-177.266 12.4304,-177.266 12.4304,-177.266 6.4304,-177.266 .4304,-171.266 .4304,-165.266 .4304,-165.266 .4304,-67.266 .4304,-67.266 .4304,-61.266 6.4304,-55.266 12.4304,-55.266\"/>\n",
       "<text text-anchor=\"middle\" x=\"78.9304\" y=\"-162.066\" font-family=\"Times,serif\" font-size=\"14.00\" fill=\"#000000\">BandStructureWork (w0)</text>\n",
       "</g>\n",
       "<g id=\"clust2\" class=\"cluster\">\n",
       "<title>clusterw1</title>\n",
       "<path fill=\"#e0eeee\" stroke=\"#000000\" d=\"M177.8381,.3771C177.8381,.3771 376.8381,.3771 376.8381,.3771 382.8381,.3771 388.8381,-5.6229 388.8381,-11.6229 388.8381,-11.6229 388.8381,-161.6229 388.8381,-161.6229 388.8381,-167.6229 382.8381,-173.6229 376.8381,-173.6229 376.8381,-173.6229 177.8381,-173.6229 177.8381,-173.6229 171.8381,-173.6229 165.8381,-167.6229 165.8381,-161.6229 165.8381,-161.6229 165.8381,-11.6229 165.8381,-11.6229 165.8381,-5.6229 171.8381,.3771 177.8381,.3771\"/>\n",
       "<text text-anchor=\"middle\" x=\"277.3381\" y=\"-158.4229\" font-family=\"Times,serif\" font-size=\"14.00\" fill=\"#000000\">PhononWork (w1)</text>\n",
       "</g>\n",
       "<!-- w0_t0 -->\n",
       "<g id=\"node1\" class=\"node\">\n",
       "<title>w0_t0</title>\n",
       "<ellipse fill=\"#ff0000\" stroke=\"#ff0000\" cx=\"108.9197\" cy=\"-129.6251\" rx=\"27.8878\" ry=\"18\"/>\n",
       "<text text-anchor=\"middle\" x=\"108.9197\" y=\"-131.2251\" font-family=\"Times,serif\" font-size=\"8.00\" fill=\"#000000\">w0_t0</text>\n",
       "<text text-anchor=\"middle\" x=\"108.9197\" y=\"-123.2251\" font-family=\"Times,serif\" font-size=\"8.00\" fill=\"#000000\">ScfTask</text>\n",
       "</g>\n",
       "<!-- w0_t1 -->\n",
       "<g id=\"node2\" class=\"node\">\n",
       "<title>w0_t1</title>\n",
       "<ellipse fill=\"#c85064\" stroke=\"#c85064\" cx=\"52.6685\" cy=\"-80.9069\" rx=\"30.8467\" ry=\"18\"/>\n",
       "<text text-anchor=\"middle\" x=\"52.6685\" y=\"-82.5069\" font-family=\"Times,serif\" font-size=\"8.00\" fill=\"#000000\">w0_t1</text>\n",
       "<text text-anchor=\"middle\" x=\"52.6685\" y=\"-74.5069\" font-family=\"Times,serif\" font-size=\"8.00\" fill=\"#000000\">NscfTask</text>\n",
       "</g>\n",
       "<!-- w0_t0&#45;&gt;w0_t1 -->\n",
       "<g id=\"edge1\" class=\"edge\">\n",
       "<title>w0_t0&#45;&gt;w0_t1</title>\n",
       "<path fill=\"none\" stroke=\"#ff0000\" d=\"M92.0425,-115.008C87.5644,-111.1297 82.6309,-106.8568 77.8152,-102.6861\"/>\n",
       "<polygon fill=\"#ff0000\" stroke=\"#ff0000\" points=\"79.7737,-99.752 69.9232,-95.8509 75.1909,-105.0434 79.7737,-99.752\"/>\n",
       "<text text-anchor=\"middle\" x=\"99.3151\" y=\"-97.647\" font-family=\"Times,serif\" font-size=\"14.00\" fill=\"#000000\">DEN</text>\n",
       "</g>\n",
       "<!-- w1_t0 -->\n",
       "<g id=\"node3\" class=\"node\">\n",
       "<title>w1_t0</title>\n",
       "<ellipse fill=\"#0096fa\" stroke=\"#0096fa\" cx=\"283.8831\" cy=\"-25.3075\" rx=\"37.3834\" ry=\"18\"/>\n",
       "<text text-anchor=\"middle\" x=\"283.8831\" y=\"-26.9075\" font-family=\"Times,serif\" font-size=\"8.00\" fill=\"#000000\">w1_t0</text>\n",
       "<text text-anchor=\"middle\" x=\"283.8831\" y=\"-18.9075\" font-family=\"Times,serif\" font-size=\"8.00\" fill=\"#000000\">PhononTask</text>\n",
       "</g>\n",
       "<!-- w0_t0&#45;&gt;w1_t0 -->\n",
       "<g id=\"edge2\" class=\"edge\">\n",
       "<title>w0_t0&#45;&gt;w1_t0</title>\n",
       "<path fill=\"none\" stroke=\"#ff0000\" d=\"M129.6773,-117.2488C159.7574,-99.3143 215.7497,-65.9303 251.3475,-44.706\"/>\n",
       "<polygon fill=\"#ff0000\" stroke=\"#ff0000\" points=\"253.5723,-47.4545 260.3691,-39.3271 249.9875,-41.442 253.5723,-47.4545\"/>\n",
       "<text text-anchor=\"middle\" x=\"174.9572\" y=\"-69.7774\" font-family=\"Times,serif\" font-size=\"14.00\" fill=\"#000000\">WFK</text>\n",
       "</g>\n",
       "<!-- w1_t1 -->\n",
       "<g id=\"node4\" class=\"node\">\n",
       "<title>w1_t1</title>\n",
       "<ellipse fill=\"#0096fa\" stroke=\"#0096fa\" cx=\"343.9655\" cy=\"-75.7885\" rx=\"37.3834\" ry=\"18\"/>\n",
       "<text text-anchor=\"middle\" x=\"343.9655\" y=\"-77.3885\" font-family=\"Times,serif\" font-size=\"8.00\" fill=\"#000000\">w1_t1</text>\n",
       "<text text-anchor=\"middle\" x=\"343.9655\" y=\"-69.3885\" font-family=\"Times,serif\" font-size=\"8.00\" fill=\"#000000\">PhononTask</text>\n",
       "</g>\n",
       "<!-- w0_t0&#45;&gt;w1_t1 -->\n",
       "<g id=\"edge3\" class=\"edge\">\n",
       "<title>w0_t0&#45;&gt;w1_t1</title>\n",
       "<path fill=\"none\" stroke=\"#ff0000\" d=\"M135.4255,-123.554C175.4405,-114.3887 251.7283,-96.9152 300.1079,-85.8339\"/>\n",
       "<polygon fill=\"#ff0000\" stroke=\"#ff0000\" points=\"301.0188,-89.216 309.9849,-83.5716 299.4559,-82.3927 301.0188,-89.216\"/>\n",
       "<text text-anchor=\"middle\" x=\"202.2115\" y=\"-107.494\" font-family=\"Times,serif\" font-size=\"14.00\" fill=\"#000000\">WFK</text>\n",
       "</g>\n",
       "<!-- w1_t2 -->\n",
       "<g id=\"node5\" class=\"node\">\n",
       "<title>w1_t2</title>\n",
       "<ellipse fill=\"#0096fa\" stroke=\"#0096fa\" cx=\"211.3059\" cy=\"-85.2725\" rx=\"37.3834\" ry=\"18\"/>\n",
       "<text text-anchor=\"middle\" x=\"211.3059\" y=\"-86.8725\" font-family=\"Times,serif\" font-size=\"8.00\" fill=\"#000000\">w1_t2</text>\n",
       "<text text-anchor=\"middle\" x=\"211.3059\" y=\"-78.8725\" font-family=\"Times,serif\" font-size=\"8.00\" fill=\"#000000\">PhononTask</text>\n",
       "</g>\n",
       "<!-- w0_t0&#45;&gt;w1_t2 -->\n",
       "<g id=\"edge4\" class=\"edge\">\n",
       "<title>w0_t0&#45;&gt;w1_t2</title>\n",
       "<path fill=\"none\" stroke=\"#ff0000\" d=\"M132.1527,-119.5608C144.5206,-114.2031 160.0294,-107.4849 174.0339,-101.4183\"/>\n",
       "<polygon fill=\"#ff0000\" stroke=\"#ff0000\" points=\"175.6472,-104.5338 183.432,-97.3472 172.8647,-98.1106 175.6472,-104.5338\"/>\n",
       "<text text-anchor=\"middle\" x=\"137.5381\" y=\"-99.2895\" font-family=\"Times,serif\" font-size=\"14.00\" fill=\"#000000\">WFK</text>\n",
       "</g>\n",
       "<!-- w1_t3 -->\n",
       "<g id=\"node6\" class=\"node\">\n",
       "<title>w1_t3</title>\n",
       "<ellipse fill=\"#0096fa\" stroke=\"#0096fa\" cx=\"301.2231\" cy=\"-125.9646\" rx=\"37.3834\" ry=\"18\"/>\n",
       "<text text-anchor=\"middle\" x=\"301.2231\" y=\"-127.5646\" font-family=\"Times,serif\" font-size=\"8.00\" fill=\"#000000\">w1_t3</text>\n",
       "<text text-anchor=\"middle\" x=\"301.2231\" y=\"-119.5646\" font-family=\"Times,serif\" font-size=\"8.00\" fill=\"#000000\">PhononTask</text>\n",
       "</g>\n",
       "<!-- w0_t0&#45;&gt;w1_t3 -->\n",
       "<g id=\"edge5\" class=\"edge\">\n",
       "<title>w0_t0&#45;&gt;w1_t3</title>\n",
       "<path fill=\"none\" stroke=\"#ff0000\" d=\"M136.8822,-129.0928C167.4113,-128.5117 216.836,-127.5709 253.5218,-126.8726\"/>\n",
       "<polygon fill=\"#ff0000\" stroke=\"#ff0000\" points=\"254.0514,-130.3632 263.983,-126.6735 253.9182,-123.3645 254.0514,-130.3632\"/>\n",
       "<text text-anchor=\"middle\" x=\"179.6468\" y=\"-130.7827\" font-family=\"Times,serif\" font-size=\"14.00\" fill=\"#000000\">WFK</text>\n",
       "</g>\n",
       "</g>\n",
       "</svg>\n"
      ],
      "text/plain": [
       "<graphviz.dot.Digraph at 0x115b9ef98>"
      ]
     },
     "execution_count": 32,
     "metadata": {},
     "output_type": "execute_result"
    }
   ],
   "source": [
    "# Create new flow.\n",
    "ph_flow = flowtk.Flow(workdir=\"phflow\")\n",
    "\n",
    "# Band structure (SCF + NSCF)\n",
    "bands_work = flowtk.BandStructureWork(scf_input, nscf_input, dos_inputs=None)\n",
    "ph_flow.register_work(bands_work)    \n",
    "    \n",
    "# Build second work from scf_task.\n",
    "scf_task = bands_work[0]\n",
    "ph_work = flowtk.PhononWork.from_scf_task(scf_task, [2, 2, 2], is_ngqpt=True, tolerance=None)\n",
    "ph_flow.register_work(ph_work) \n",
    "\n",
    "ph_flow.get_graphviz()"
   ]
  },
  {
   "cell_type": "markdown",
   "metadata": {},
   "source": [
    "Now it turns out that the `PhononWork` merges all the DDB files produced by its `PhononTask`\n",
    "and put this final output file in its outdir. \n",
    "So from the AbiPy perspective, a `PhononWork` is not that different from a `ScfTask` that produces e.g. a DEN file.\n",
    "This means that we can connect other magic boxes to our `PhononWork` e.g. a set of `EPhTasks` that \n",
    "require a DDB file and another input file with the DFPT potentials \n",
    "(DVDB, merged by `PhononWork` similarly to what is done for the DDB)."
   ]
  },
  {
   "cell_type": "code",
   "execution_count": 33,
   "metadata": {},
   "outputs": [
    {
     "data": {
      "image/svg+xml": [
       "<?xml version=\"1.0\" encoding=\"UTF-8\" standalone=\"no\"?>\n",
       "<!DOCTYPE svg PUBLIC \"-//W3C//DTD SVG 1.1//EN\"\n",
       " \"http://www.w3.org/Graphics/SVG/1.1/DTD/svg11.dtd\">\n",
       "<!-- Generated by graphviz version 2.40.1 (20161225.0304)\n",
       " -->\n",
       "<!-- Title: flow Pages: 1 -->\n",
       "<svg width=\"506pt\" height=\"281pt\"\n",
       " viewBox=\"0.00 0.00 506.00 281.00\" xmlns=\"http://www.w3.org/2000/svg\" xmlns:xlink=\"http://www.w3.org/1999/xlink\">\n",
       "<g id=\"graph0\" class=\"graph\" transform=\"scale(1 1) rotate(0) translate(4 255)\">\n",
       "<title>flow</title>\n",
       "<polygon fill=\"#ffffff\" stroke=\"transparent\" points=\"-4,26 -4,-255 502,-255 502,26 -4,26\"/>\n",
       "<text text-anchor=\"start\" x=\"138.5039\" y=\"15.2\" font-family=\"Times,serif\" font-size=\"14.00\" fill=\"#000000\">Flow, node_id=66164, workdir=phflow</text>\n",
       "<g id=\"clust1\" class=\"cluster\">\n",
       "<title>clusterw0</title>\n",
       "<path fill=\"#e0eeee\" stroke=\"#000000\" d=\"M12.4764,-151.0246C12.4764,-151.0246 145.4764,-151.0246 145.4764,-151.0246 151.4764,-151.0246 157.4764,-157.0246 157.4764,-163.0246 157.4764,-163.0246 157.4764,-239.0246 157.4764,-239.0246 157.4764,-245.0246 151.4764,-251.0246 145.4764,-251.0246 145.4764,-251.0246 12.4764,-251.0246 12.4764,-251.0246 6.4764,-251.0246 .4764,-245.0246 .4764,-239.0246 .4764,-239.0246 .4764,-163.0246 .4764,-163.0246 .4764,-157.0246 6.4764,-151.0246 12.4764,-151.0246\"/>\n",
       "<text text-anchor=\"middle\" x=\"78.9764\" y=\"-235.8246\" font-family=\"Times,serif\" font-size=\"14.00\" fill=\"#000000\">BandStructureWork (w0)</text>\n",
       "</g>\n",
       "<g id=\"clust2\" class=\"cluster\">\n",
       "<title>clusterw1</title>\n",
       "<path fill=\"#e0eeee\" stroke=\"#000000\" d=\"M287.8364,-50.1713C287.8364,-50.1713 485.8364,-50.1713 485.8364,-50.1713 491.8364,-50.1713 497.8364,-56.1713 497.8364,-62.1713 497.8364,-62.1713 497.8364,-208.1713 497.8364,-208.1713 497.8364,-214.1713 491.8364,-220.1713 485.8364,-220.1713 485.8364,-220.1713 287.8364,-220.1713 287.8364,-220.1713 281.8364,-220.1713 275.8364,-214.1713 275.8364,-208.1713 275.8364,-208.1713 275.8364,-62.1713 275.8364,-62.1713 275.8364,-56.1713 281.8364,-50.1713 287.8364,-50.1713\"/>\n",
       "<text text-anchor=\"middle\" x=\"386.8364\" y=\"-204.9713\" font-family=\"Times,serif\" font-size=\"14.00\" fill=\"#000000\">PhononWork (w1)</text>\n",
       "</g>\n",
       "<g id=\"clust3\" class=\"cluster\">\n",
       "<title>clusterw2</title>\n",
       "<path fill=\"#e0eeee\" stroke=\"#000000\" d=\"M110.8277,.3289C110.8277,.3289 238.8277,.3289 238.8277,.3289 244.8277,.3289 250.8277,-5.6711 250.8277,-11.6711 250.8277,-11.6711 250.8277,-107.6711 250.8277,-107.6711 250.8277,-113.6711 244.8277,-119.6711 238.8277,-119.6711 238.8277,-119.6711 110.8277,-119.6711 110.8277,-119.6711 104.8277,-119.6711 98.8277,-113.6711 98.8277,-107.6711 98.8277,-107.6711 98.8277,-11.6711 98.8277,-11.6711 98.8277,-5.6711 104.8277,.3289 110.8277,.3289\"/>\n",
       "<text text-anchor=\"middle\" x=\"174.8277\" y=\"-104.4711\" font-family=\"Times,serif\" font-size=\"14.00\" fill=\"#000000\">Work (w2)</text>\n",
       "</g>\n",
       "<!-- w0_t0 -->\n",
       "<g id=\"node1\" class=\"node\">\n",
       "<title>w0_t0</title>\n",
       "<ellipse fill=\"#ff0000\" stroke=\"#ff0000\" cx=\"42.7951\" cy=\"-203.1436\" rx=\"27.8878\" ry=\"18\"/>\n",
       "<text text-anchor=\"middle\" x=\"42.7951\" y=\"-204.7436\" font-family=\"Times,serif\" font-size=\"8.00\" fill=\"#000000\">w0_t0</text>\n",
       "<text text-anchor=\"middle\" x=\"42.7951\" y=\"-196.7436\" font-family=\"Times,serif\" font-size=\"8.00\" fill=\"#000000\">ScfTask</text>\n",
       "</g>\n",
       "<!-- w0_t1 -->\n",
       "<g id=\"node2\" class=\"node\">\n",
       "<title>w0_t1</title>\n",
       "<ellipse fill=\"#c85064\" stroke=\"#c85064\" cx=\"112.7454\" cy=\"-177.0715\" rx=\"30.8467\" ry=\"18\"/>\n",
       "<text text-anchor=\"middle\" x=\"112.7454\" y=\"-178.6715\" font-family=\"Times,serif\" font-size=\"8.00\" fill=\"#000000\">w0_t1</text>\n",
       "<text text-anchor=\"middle\" x=\"112.7454\" y=\"-170.6715\" font-family=\"Times,serif\" font-size=\"8.00\" fill=\"#000000\">NscfTask</text>\n",
       "</g>\n",
       "<!-- w0_t0&#45;&gt;w0_t1 -->\n",
       "<g id=\"edge1\" class=\"edge\">\n",
       "<title>w0_t0&#45;&gt;w0_t1</title>\n",
       "<path fill=\"none\" stroke=\"#ff0000\" d=\"M67.2603,-194.0248C70.3333,-192.8794 73.5257,-191.6896 76.7297,-190.4954\"/>\n",
       "<polygon fill=\"#ff0000\" stroke=\"#ff0000\" points=\"78.1211,-193.712 86.269,-186.9398 75.6763,-187.1528 78.1211,-193.712\"/>\n",
       "<text text-anchor=\"middle\" x=\"86.3812\" y=\"-195.0601\" font-family=\"Times,serif\" font-size=\"14.00\" fill=\"#000000\">DEN</text>\n",
       "</g>\n",
       "<!-- w1_t0 -->\n",
       "<g id=\"node3\" class=\"node\">\n",
       "<title>w1_t0</title>\n",
       "<ellipse fill=\"#0096fa\" stroke=\"#0096fa\" cx=\"411.6707\" cy=\"-76.6023\" rx=\"37.3834\" ry=\"18\"/>\n",
       "<text text-anchor=\"middle\" x=\"411.6707\" y=\"-78.2023\" font-family=\"Times,serif\" font-size=\"8.00\" fill=\"#000000\">w1_t0</text>\n",
       "<text text-anchor=\"middle\" x=\"411.6707\" y=\"-70.2023\" font-family=\"Times,serif\" font-size=\"8.00\" fill=\"#000000\">PhononTask</text>\n",
       "</g>\n",
       "<!-- w0_t0&#45;&gt;w1_t0 -->\n",
       "<g id=\"edge2\" class=\"edge\">\n",
       "<title>w0_t0&#45;&gt;w1_t0</title>\n",
       "<path fill=\"none\" stroke=\"#ff0000\" d=\"M67.5708,-194.6443C130.1045,-173.1924 294.7891,-116.698 371.4047,-90.4154\"/>\n",
       "<polygon fill=\"#ff0000\" stroke=\"#ff0000\" points=\"372.8513,-93.6194 381.1745,-87.0639 370.5799,-86.9982 372.8513,-93.6194\"/>\n",
       "<text text-anchor=\"middle\" x=\"203.9326\" y=\"-131.3299\" font-family=\"Times,serif\" font-size=\"14.00\" fill=\"#000000\">WFK</text>\n",
       "</g>\n",
       "<!-- w1_t1 -->\n",
       "<g id=\"node4\" class=\"node\">\n",
       "<title>w1_t1</title>\n",
       "<ellipse fill=\"#0096fa\" stroke=\"#0096fa\" cx=\"452.1965\" cy=\"-129.0433\" rx=\"37.3834\" ry=\"18\"/>\n",
       "<text text-anchor=\"middle\" x=\"452.1965\" y=\"-130.6433\" font-family=\"Times,serif\" font-size=\"8.00\" fill=\"#000000\">w1_t1</text>\n",
       "<text text-anchor=\"middle\" x=\"452.1965\" y=\"-122.6433\" font-family=\"Times,serif\" font-size=\"8.00\" fill=\"#000000\">PhononTask</text>\n",
       "</g>\n",
       "<!-- w0_t0&#45;&gt;w1_t1 -->\n",
       "<g id=\"edge3\" class=\"edge\">\n",
       "<title>w0_t0&#45;&gt;w1_t1</title>\n",
       "<path fill=\"none\" stroke=\"#ff0000\" d=\"M69.9741,-198.2243C139.0486,-185.722 321.8834,-152.6295 407.1853,-137.1902\"/>\n",
       "<polygon fill=\"#ff0000\" stroke=\"#ff0000\" points=\"407.8736,-140.6226 417.0903,-135.3974 406.6268,-133.7345 407.8736,-140.6226\"/>\n",
       "<text text-anchor=\"middle\" x=\"254.1349\" y=\"-170.5072\" font-family=\"Times,serif\" font-size=\"14.00\" fill=\"#000000\">WFK</text>\n",
       "</g>\n",
       "<!-- w1_t2 -->\n",
       "<g id=\"node5\" class=\"node\">\n",
       "<title>w1_t2</title>\n",
       "<ellipse fill=\"#0096fa\" stroke=\"#0096fa\" cx=\"321.3573\" cy=\"-107.0007\" rx=\"37.3834\" ry=\"18\"/>\n",
       "<text text-anchor=\"middle\" x=\"321.3573\" y=\"-108.6007\" font-family=\"Times,serif\" font-size=\"8.00\" fill=\"#000000\">w1_t2</text>\n",
       "<text text-anchor=\"middle\" x=\"321.3573\" y=\"-100.6007\" font-family=\"Times,serif\" font-size=\"8.00\" fill=\"#000000\">PhononTask</text>\n",
       "</g>\n",
       "<!-- w0_t0&#45;&gt;w1_t2 -->\n",
       "<g id=\"edge4\" class=\"edge\">\n",
       "<title>w0_t0&#45;&gt;w1_t2</title>\n",
       "<path fill=\"none\" stroke=\"#ff0000\" d=\"M67.5156,-194.6115C115.7245,-177.9727 222.6847,-141.0565 281.1991,-120.8609\"/>\n",
       "<polygon fill=\"#ff0000\" stroke=\"#ff0000\" points=\"282.5365,-124.102 290.8474,-117.5309 280.2526,-117.485 282.5365,-124.102\"/>\n",
       "<text text-anchor=\"middle\" x=\"158.8022\" y=\"-160.5362\" font-family=\"Times,serif\" font-size=\"14.00\" fill=\"#000000\">WFK</text>\n",
       "</g>\n",
       "<!-- w1_t3 -->\n",
       "<g id=\"node6\" class=\"node\">\n",
       "<title>w1_t3</title>\n",
       "<ellipse fill=\"#0096fa\" stroke=\"#0096fa\" cx=\"368.19\" cy=\"-172.0041\" rx=\"37.3834\" ry=\"18\"/>\n",
       "<text text-anchor=\"middle\" x=\"368.19\" y=\"-173.6041\" font-family=\"Times,serif\" font-size=\"8.00\" fill=\"#000000\">w1_t3</text>\n",
       "<text text-anchor=\"middle\" x=\"368.19\" y=\"-165.6041\" font-family=\"Times,serif\" font-size=\"8.00\" fill=\"#000000\">PhononTask</text>\n",
       "</g>\n",
       "<!-- w0_t0&#45;&gt;w1_t3 -->\n",
       "<g id=\"edge5\" class=\"edge\">\n",
       "<title>w0_t0&#45;&gt;w1_t3</title>\n",
       "<path fill=\"none\" stroke=\"#ff0000\" d=\"M70.5381,-200.4886C126.3081,-195.1516 252.5378,-183.0717 321.3392,-176.4876\"/>\n",
       "<polygon fill=\"#ff0000\" stroke=\"#ff0000\" points=\"321.8425,-179.9555 331.4636,-175.5187 321.1756,-172.9873 321.8425,-179.9555\"/>\n",
       "<text text-anchor=\"middle\" x=\"180.3835\" y=\"-191.2881\" font-family=\"Times,serif\" font-size=\"14.00\" fill=\"#000000\">WFK</text>\n",
       "</g>\n",
       "<!-- w2_t0 -->\n",
       "<g id=\"node7\" class=\"node\">\n",
       "<title>w2_t0</title>\n",
       "<ellipse fill=\"#ff8000\" stroke=\"#ff8000\" cx=\"136.4338\" cy=\"-26.4084\" rx=\"29.3699\" ry=\"18\"/>\n",
       "<text text-anchor=\"middle\" x=\"136.4338\" y=\"-28.0084\" font-family=\"Times,serif\" font-size=\"8.00\" fill=\"#000000\">w2_t0</text>\n",
       "<text text-anchor=\"middle\" x=\"136.4338\" y=\"-20.0084\" font-family=\"Times,serif\" font-size=\"8.00\" fill=\"#000000\">EphTask</text>\n",
       "</g>\n",
       "<!-- w0_t1&#45;&gt;w2_t0 -->\n",
       "<g id=\"edge6\" class=\"edge\">\n",
       "<title>w0_t1&#45;&gt;w2_t0</title>\n",
       "<path fill=\"none\" stroke=\"#c85064\" d=\"M115.6028,-158.898C119.6756,-132.9941 127.1877,-85.2156 131.9905,-54.6685\"/>\n",
       "<polygon fill=\"#c85064\" stroke=\"#c85064\" points=\"135.4705,-55.0687 133.5663,-44.6464 128.5555,-53.9814 135.4705,-55.0687\"/>\n",
       "<text text-anchor=\"middle\" x=\"108.2415\" y=\"-109.5833\" font-family=\"Times,serif\" font-size=\"14.00\" fill=\"#000000\">WFK</text>\n",
       "</g>\n",
       "<!-- w2_t1 -->\n",
       "<g id=\"node8\" class=\"node\">\n",
       "<title>w2_t1</title>\n",
       "<ellipse fill=\"#ff8000\" stroke=\"#ff8000\" cx=\"213.7927\" cy=\"-25.2188\" rx=\"29.3699\" ry=\"18\"/>\n",
       "<text text-anchor=\"middle\" x=\"213.7927\" y=\"-26.8188\" font-family=\"Times,serif\" font-size=\"8.00\" fill=\"#000000\">w2_t1</text>\n",
       "<text text-anchor=\"middle\" x=\"213.7927\" y=\"-18.8188\" font-family=\"Times,serif\" font-size=\"8.00\" fill=\"#000000\">EphTask</text>\n",
       "</g>\n",
       "<!-- w0_t1&#45;&gt;w2_t1 -->\n",
       "<g id=\"edge7\" class=\"edge\">\n",
       "<title>w0_t1&#45;&gt;w2_t1</title>\n",
       "<path fill=\"none\" stroke=\"#c85064\" d=\"M123.9453,-160.2404C141.6236,-133.6737 176.1118,-81.8453 196.8369,-50.6998\"/>\n",
       "<polygon fill=\"#c85064\" stroke=\"#c85064\" points=\"199.9166,-52.3895 202.5427,-42.1253 194.0889,-48.5116 199.9166,-52.3895\"/>\n",
       "<text text-anchor=\"middle\" x=\"144.836\" y=\"-94.2701\" font-family=\"Times,serif\" font-size=\"14.00\" fill=\"#000000\">WFK</text>\n",
       "</g>\n",
       "<!-- w2_t2 -->\n",
       "<g id=\"node9\" class=\"node\">\n",
       "<title>w2_t2</title>\n",
       "<ellipse fill=\"#ff8000\" stroke=\"#ff8000\" cx=\"171.1657\" cy=\"-71.5393\" rx=\"29.3699\" ry=\"18\"/>\n",
       "<text text-anchor=\"middle\" x=\"171.1657\" y=\"-73.1393\" font-family=\"Times,serif\" font-size=\"8.00\" fill=\"#000000\">w2_t2</text>\n",
       "<text text-anchor=\"middle\" x=\"171.1657\" y=\"-65.1393\" font-family=\"Times,serif\" font-size=\"8.00\" fill=\"#000000\">EphTask</text>\n",
       "</g>\n",
       "<!-- w0_t1&#45;&gt;w2_t2 -->\n",
       "<g id=\"edge8\" class=\"edge\">\n",
       "<title>w0_t1&#45;&gt;w2_t2</title>\n",
       "<path fill=\"none\" stroke=\"#c85064\" d=\"M122.3923,-159.645C131.7502,-142.7406 146.0657,-116.8806 156.7707,-97.5428\"/>\n",
       "<polygon fill=\"#c85064\" stroke=\"#c85064\" points=\"159.9171,-99.0856 161.6983,-88.6415 153.7929,-95.6953 159.9171,-99.0856\"/>\n",
       "<text text-anchor=\"middle\" x=\"124.0263\" y=\"-131.3939\" font-family=\"Times,serif\" font-size=\"14.00\" fill=\"#000000\">WFK</text>\n",
       "</g>\n",
       "<!-- DDB (w1) -->\n",
       "<g id=\"node10\" class=\"node\">\n",
       "<title>DDB (w1)</title>\n",
       "<ellipse fill=\"#b2dfee\" stroke=\"#b2dfee\" cx=\"217.2831\" cy=\"-161.075\" rx=\"47.8752\" ry=\"18\"/>\n",
       "<text text-anchor=\"middle\" x=\"217.2831\" y=\"-156.875\" font-family=\"Times,serif\" font-size=\"14.00\" fill=\"#000000\">DDB (w1)</text>\n",
       "</g>\n",
       "<!-- DDB (w1)&#45;&gt;w2_t0 -->\n",
       "<g id=\"edge9\" class=\"edge\">\n",
       "<title>DDB (w1)&#45;&gt;w2_t0</title>\n",
       "<path fill=\"none\" stroke=\"#000000\" d=\"M206.7134,-143.4697C192.7764,-120.2554 168.1421,-79.2234 152.0533,-52.425\"/>\n",
       "<polygon fill=\"#000000\" stroke=\"#000000\" points=\"154.8985,-50.3643 146.7504,-43.5923 148.897,-53.9674 154.8985,-50.3643\"/>\n",
       "</g>\n",
       "<!-- DDB (w1)&#45;&gt;w2_t1 -->\n",
       "<g id=\"edge13\" class=\"edge\">\n",
       "<title>DDB (w1)&#45;&gt;w2_t1</title>\n",
       "<path fill=\"none\" stroke=\"#000000\" d=\"M216.8196,-143.0343C216.2329,-120.1965 215.2153,-80.5916 214.5236,-53.6648\"/>\n",
       "<polygon fill=\"#000000\" stroke=\"#000000\" points=\"218.0139,-53.2409 214.2581,-43.3341 211.0162,-53.4207 218.0139,-53.2409\"/>\n",
       "</g>\n",
       "<!-- DDB (w1)&#45;&gt;w2_t2 -->\n",
       "<g id=\"edge15\" class=\"edge\">\n",
       "<title>DDB (w1)&#45;&gt;w2_t2</title>\n",
       "<path fill=\"none\" stroke=\"#000000\" d=\"M208.1718,-143.3856C201.4965,-130.4257 192.3232,-112.6161 184.78,-97.9712\"/>\n",
       "<polygon fill=\"#000000\" stroke=\"#000000\" points=\"187.7917,-96.1746 180.1011,-88.8872 181.5687,-99.38 187.7917,-96.1746\"/>\n",
       "</g>\n",
       "<!-- DVDB (w1) -->\n",
       "<g id=\"node12\" class=\"node\">\n",
       "<title>DVDB (w1)</title>\n",
       "<ellipse fill=\"#b2dfee\" stroke=\"#b2dfee\" cx=\"383.0898\" cy=\"-21.3651\" rx=\"54.1475\" ry=\"18\"/>\n",
       "<text text-anchor=\"middle\" x=\"383.0898\" y=\"-17.1651\" font-family=\"Times,serif\" font-size=\"14.00\" fill=\"#000000\">DVDB (w1)</text>\n",
       "</g>\n",
       "<!-- DVDB (w1)&#45;&gt;w2_t0 -->\n",
       "<g id=\"edge11\" class=\"edge\">\n",
       "<title>DVDB (w1)&#45;&gt;w2_t0</title>\n",
       "<path fill=\"none\" stroke=\"#000000\" d=\"M328.9601,-22.4719C282.9095,-23.4135 217.827,-24.7442 176.3788,-25.5917\"/>\n",
       "<polygon fill=\"#000000\" stroke=\"#000000\" points=\"176.0465,-22.0977 166.1202,-25.8015 176.1897,-29.0962 176.0465,-22.0977\"/>\n",
       "</g>\n",
       "<!-- DVDB (w1)&#45;&gt;w2_t1 -->\n",
       "<g id=\"edge14\" class=\"edge\">\n",
       "<title>DVDB (w1)&#45;&gt;w2_t1</title>\n",
       "<path fill=\"none\" stroke=\"#000000\" d=\"M329.0577,-22.5951C304.4972,-23.1541 275.9624,-23.8037 253.4289,-24.3166\"/>\n",
       "<polygon fill=\"#000000\" stroke=\"#000000\" points=\"253.1318,-20.8223 243.214,-24.5491 253.2911,-27.8205 253.1318,-20.8223\"/>\n",
       "</g>\n",
       "<!-- DVDB (w1)&#45;&gt;w2_t2 -->\n",
       "<g id=\"edge16\" class=\"edge\">\n",
       "<title>DVDB (w1)&#45;&gt;w2_t2</title>\n",
       "<path fill=\"none\" stroke=\"#000000\" d=\"M338.9215,-31.8222C300.3347,-40.9578 244.9429,-54.0721 208.5211,-62.6952\"/>\n",
       "<polygon fill=\"#000000\" stroke=\"#000000\" points=\"207.7056,-59.2914 198.781,-65.0012 209.3184,-66.1031 207.7056,-59.2914\"/>\n",
       "</g>\n",
       "<!-- __0:clusterw1 -->\n",
       "<!-- __0:clusterw1&#45;&gt;DDB (w1) -->\n",
       "<g id=\"edge17\" class=\"edge\">\n",
       "<title>__0:clusterw1&#45;&gt;DDB (w1)</title>\n",
       "<path fill=\"none\" stroke=\"#696969\" d=\"M275.6337,-152.1604C274.2644,-152.3696 272.9053,-152.5773 271.558,-152.7831\"/>\n",
       "<polygon fill=\"#696969\" stroke=\"#696969\" points=\"270.8455,-149.3513 261.4888,-154.3214 271.9027,-156.271 270.8455,-149.3513\"/>\n",
       "</g>\n",
       "<!-- __1:clusterw1 -->\n",
       "<!-- __1:clusterw1&#45;&gt;DVDB (w1) -->\n",
       "<g id=\"edge18\" class=\"edge\">\n",
       "<title>__1:clusterw1&#45;&gt;DVDB (w1)</title>\n",
       "<path fill=\"none\" stroke=\"#696969\" d=\"M384.0352,-50.0833C384.0314,-49.9667 384.0276,-49.8503 384.0237,-49.7342\"/>\n",
       "<polygon fill=\"#696969\" stroke=\"#696969\" points=\"387.5185,-49.5137 383.6913,-39.6343 380.5223,-49.7441 387.5185,-49.5137\"/>\n",
       "</g>\n",
       "</g>\n",
       "</svg>\n"
      ],
      "text/plain": [
       "<graphviz.dot.Digraph at 0x115ba8828>"
      ]
     },
     "execution_count": 33,
     "metadata": {},
     "output_type": "execute_result"
    }
   ],
   "source": [
    "# EPH tasks require 3 input files (WFK, DDB, DVDB)\n",
    "eph_deps = {ph_flow[0][1]: \"WFK\", ph_work: [\"DDB\", \"DVDB\"]}\n",
    "\n",
    "for i, ecut in enumerate([2, 3, 4]):\n",
    "    ph_flow.register_eph_task(nscf_input.new_with_vars(ecut=ecut), deps=eph_deps, append=(i != 0))\n",
    "                           \n",
    "ph_flow.get_graphviz()"
   ]
  },
  {
   "cell_type": "markdown",
   "metadata": {},
   "source": [
    "This explains why in AbiPy we have this classification in terms of `Tasks/Works/Flows`.\n",
    "As a consequence, we can implement highly specialized `Works/Tasks` to\n",
    "solve specific problems and then connect all these nodes together.\n",
    "Just 11 lines of code to get electrons + phonons + (electrons + phononons)!\n",
    "\n",
    "But wait, did you see the gorilla?"
   ]
  },
  {
   "cell_type": "code",
   "execution_count": 34,
   "metadata": {},
   "outputs": [
    {
     "data": {
      "image/jpeg": "[encoded data removed]",
      "text/html": [
       "\n",
       "        <iframe\n",
       "            width=\"400\"\n",
       "            height=\"300\"\n",
       "            src=\"https://www.youtube.com/embed/vJG698U2Mvo\"\n",
       "            frameborder=\"0\"\n",
       "            allowfullscreen\n",
       "        ></iframe>\n",
       "        "
      ],
      "text/plain": [
       "<IPython.lib.display.YouTubeVideo at 0x115b8a0f0>"
      ]
     },
     "execution_count": 34,
     "metadata": {},
     "output_type": "execute_result"
    }
   ],
   "source": [
    "from IPython.display import YouTubeVideo\n",
    "YouTubeVideo(\"vJG698U2Mvo\")"
   ]
  },
  {
   "cell_type": "markdown",
   "metadata": {},
   "source": [
    "There's indeed a bug in the last step. The connections among the nodes are OK but we made\n",
    "a mistake while creating the `EPhTasks` with:\n",
    "\n",
    "```python\n",
    "ph_flow.register_eph_task(nscf_input.new_with_vars(ecut=ecut), ...)\n",
    "```\n",
    "\n",
    "because we passed an input for a standard band structure calculation to something that is supposed\n",
    "to deal with E-PH interaction.\n",
    "This essentially to stress that the AbiPy `Flow`, *by design*, does not try to validate your input to make sure\n",
    "it is consistent with the workflow logic.\n",
    "This is done on purpose for two reasons:\n",
    "\n",
    "- Expert users should be able to customize/tune their input files and validating all the possible cases in python is not trivial\n",
    "- Only Abinit (and God) knows at run-time if your input file makes sense and we can't reimplement the same logic in python\n",
    "\n",
    "At this point, you may wonder why we have so many different Abipy Tasks (`ScfTask`, `NscfTask`, `RelaxTask`, `PhononTask`, `EPHTask` ...) if there's no input validation when we create them...\n",
    "\n",
    "The answer is that we need all these subclasses to implement extra logic that is specific to that particular calculation. Abipy, indeed, is not just submitting jobs. It also monitors the evolution of the calculation\n",
    "and execute pre-defined code to fix run-time problems (and these problems are calculation specific).\n",
    "An example will help clarify this point.\n",
    "\n",
    "Restarting jobs is one of the typical problem encountered in ab-initio calculations\n",
    "and restarting a `RelaxTask` requires a different logic from e.g. restarting a `ScfTask`.\n",
    "In the case of a `ScfTask` we only need to use the output WFK (DEN) of the previous execution \n",
    "as input of the restarted job while a `RelaxTask` must also re-use the (unconverged) final structure \n",
    "of the previous job to be effective and avoid a possibly infinite loop.\n",
    "In a nutshell, when you are using a particular `Task/Work` class you are telling AbiPy how to handle possible\n",
    "problems at run-time and you are also specifying the actions that should be performed \n",
    "at the beginning/end of the execution."
   ]
  },
  {
   "cell_type": "markdown",
   "metadata": {},
   "source": [
    "## Abirun.py\n",
    "[[back to top](#top)]\n",
    "\n",
    "Executing \n",
    "\n",
    "```python \n",
    "flow.make_scheduler().start()\n",
    "``` \n",
    "\n",
    "inside a jupyter notebook is handy if you are dealing with small calculations that require few seconds or minutes. \n",
    "This approach, however, is unpractical when you have large flows or big calculations requiring hours or days, \n",
    "even on massively parallel machines.\n",
    "In this case, indeed, one would like to run the scheduler in a separate process in the backgroud \n",
    "so that the scheduler is not killed when the jupyter server is closed.\n",
    "\n",
    "To start the scheduler in a separate process, use the `abirun.py` script.\n",
    "The syntax is:\n",
    "\n",
    "    abirun.py flow_workdir COMMAND\n",
    "\n",
    "where `flow_workdir` is the directory containing the `Flow` \n",
    "(the directory with the pickle file) and `command` selects the operation to be performed.\n",
    "\n",
    "Typical examples:\n",
    "\n",
    "    abirun.py /tmp/hello_bands status\n",
    "    \n",
    "checks the status of the `Flow` and print the results to screen while\n",
    "\n",
    "    nohup abirun.py /tmp/hello_bands scheduler > sched.log 2> sched.err &\n",
    "    \n",
    "starts the scheduler in the background redirecting the standard output to file `sched.log`\n",
    "\n",
    "<div class=\"alert alert-success\">\n",
    "`nohup` is a standard Unix tool. The command make the scheduler immune \n",
    "to hangups so that you can close the shell session without killing the scheduler.\n",
    "</div>\n",
    "\n",
    "This brings us to the last and most crucial question. \n",
    "How do we configure AbiPy to run Abinit workflows on different architectures ranging from \n",
    "standard laptops to high-performance supercomputers?\n",
    "\n",
    "Unfortunately this notebook is already quite long and these details are best covered \n",
    "in a technical documentation.\n",
    "What should be stressed here is that the behaviour can be customized with two Yaml files.\n",
    "All the information related to your environment (Abinit build, modules, resource managers, shell environment)\n",
    "are read from the `manager.yml` configuration file, that is usually located in the directory `~/.abinit/abipy/`\n",
    "The options for the python scheduler responsible for job submission are given in `scheduler.yml`.\n",
    "\n",
    "For a more complete description of these configuration options, \n",
    "please consult the [TaskManager documentation](http://abinit.github.io/abipy/workflows/taskmanager.html).\n",
    "A list of configuration files for different machines and clusters is available \n",
    "[here](http://abinit.github.io/abipy/workflows/manager_examples.html)\n",
    "while the [Flows HOWTO](http://abinit.github.io/abipy/flows_howto.html)\n",
    "gathers answers to frequently asked questions.\n",
    "\n",
    "Last but not least, check out our \n",
    "[gallery of AbiPy Flows](http://abinit.github.io/abipy/flow_gallery/index.html) for inspiration."
   ]
  },
  {
   "cell_type": "markdown",
   "metadata": {},
   "source": [
    "Back to the main [Index](index.ipynb)"
   ]
  }
 ],
 "metadata": {
  "anaconda-cloud": {},
  "kernelspec": {
   "display_name": "Python 3",
   "language": "python",
   "name": "python3"
  },
  "language_info": {
   "codemirror_mode": {
    "name": "ipython",
    "version": 3
   },
   "file_extension": ".py",
   "mimetype": "text/x-python",
   "name": "python",
   "nbconvert_exporter": "python",
   "pygments_lexer": "ipython3",
   "version": "3.7.0"
  },
  "latex_envs": {
   "bibliofile": "biblio.bib",
   "cite_by": "apalike",
   "current_citInitial": 1,
   "eqLabelWithNumbers": true,
   "eqNumInitial": 0
  }
 },
 "nbformat": 4,
 "nbformat_minor": 4
}
