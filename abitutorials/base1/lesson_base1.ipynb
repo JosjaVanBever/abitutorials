{
 "cells": [
  {
   "cell_type": "markdown",
   "metadata": {},
   "source": [
    "Back to the main [Index](../index.ipynb) <a id=\"top\"></a>"
   ]
  },
  {
   "cell_type": "markdown",
   "metadata": {},
   "source": [
    "<div class=\"jumbotron\">\n",
    "  <h1 class=\"display-3\">First (basic) lesson with Abinit and AbiPy</h1>\n",
    "  <p class=\"lead\">The H<sub>2</sub> molecule</p> \n",
    "  <hr class=\"my-4\">\n",
    "  <p>This lesson aims at showing how to get the following physical properties:</p>\n",
    "      \n",
    "   <ul>\n",
    "    <li>the (pseudo) total energy</li>\n",
    "    <li>the bond length</li>\n",
    "    <li>the charge density</li>\n",
    "    <li>the atomisation energy</li>\n",
    "   </ul>\n",
    "</div>\n",
    "\n",
    "There are three methodologies to compute the optimal distance between the two Hydrogen atoms. One could:\n",
    "\n",
    "   * compute the **total energy** for different values of the interatomic distance, make a fit through \n",
    "      the different points, and determine the minimum of the fitting function;\n",
    "   * compute the **forces** for different values of the interatomic distance, make a fit through \n",
    "      the different values, and determine the zero of the fitting function;\n",
    "   * use an automatic algorithm for minimizing the energy (or finding the zero of forces)\n",
    "\n",
    "In this AbiPy notebook, we will be focusing on the first approach.\n",
    "More specifically we will build an AbiPy `Flow` to compute the energy and the forces in the $H_2$ molecule \n",
    "for different values of the interatomic distance. \n",
    "This exercise allows us to learn how to generate multiple input files in python and \n",
    "how to analyze multiple ground-state calculations with the AbiPy robots.\n",
    "\n",
    "\n",
    "## Table of Contents\n",
    "[[back to top](#top)]\n",
    "\n",
    "* [Our first AbiPy function](#Our-first-AbiPy-function)\n",
    "* [Computation of the interatomic distance](#Computation-of-the-interatomic-distance)\n",
    "* [Analyzing the main output file](#Analyzing-the-main-output-file)\n",
    "* [Extracting results from the GSR files](#Extracting-results-from-the-GSR-files)\n",
    "* [Analysis of the charge density](#Analysis-of-the-charge-density)\n",
    "* [Conclusions](#Conclusions)"
   ]
  },
  {
   "cell_type": "markdown",
   "metadata": {},
   "source": [
    "## Our first AbiPy function\n",
    "[[back to top](#top)]"
   ]
  },
  {
   "cell_type": "code",
   "execution_count": null,
   "metadata": {
    "code_folding": []
   },
   "outputs": [],
   "source": [
    "# Use this at the beginning of your script so that your code will be compatible with python3\n",
    "from __future__ import print_function, division, unicode_literals\n",
    "\n",
    "import numpy as np  \n",
    "\n",
    "import warnings \n",
    "warnings.filterwarnings(\"ignore\")  # Ignore warnings\n",
    "\n",
    "from abipy import abilab\n",
    "abilab.enable_notebook() # This line tells AbiPy we are running inside a notebook\n",
    "\n",
    "# This line tells the notebook to show plots inside of the notebook\n",
    "%matplotlib notebook"
   ]
  },
  {
   "cell_type": "markdown",
   "metadata": {},
   "source": [
    "We need a function that generates an input file for a GS calculations for the $H_2$ molecule in a big box.\n",
    "Ideally a function that receives the distance `x`, the cutoff energy `ecut` and the size of the big box \n",
    "in input so that we can customize the output and generate multiple input objects easily.\n",
    "\n",
    "Fortunately we already have such a function in the `lesson_base1.py` module.\n",
    "Let's import it and look at the code:"
   ]
  },
  {
   "cell_type": "code",
   "execution_count": null,
   "metadata": {},
   "outputs": [],
   "source": [
    "from lesson_base1 import gs_input\n",
    "abilab.print_source(gs_input)"
   ]
  },
  {
   "cell_type": "markdown",
   "metadata": {},
   "source": [
    "If the function is called without arguments, the default values (specified in the prototype) are used. \n",
    "Let's try:"
   ]
  },
  {
   "cell_type": "code",
   "execution_count": null,
   "metadata": {},
   "outputs": [],
   "source": [
    "gsinp = gs_input()\n",
    "print(\"The value of ecut is:\", gsinp[\"ecut\"])"
   ]
  },
  {
   "cell_type": "markdown",
   "metadata": {},
   "source": [
    "The `AbinitInput` is a dict-like object whose usage is documented in this [notebook](../abinit_input.ipynb).\n",
    "Inside jupyter, we can get the HTML representation of the input with:"
   ]
  },
  {
   "cell_type": "code",
   "execution_count": null,
   "metadata": {},
   "outputs": [],
   "source": [
    "gsinp"
   ]
  },
  {
   "cell_type": "markdown",
   "metadata": {},
   "source": [
    "The input object can be converted into a string. \n",
    "More importantly, an `AbinitInput` *has* an AbiPy structure\n",
    "(see [Structure notebook](../structure.ipynb)), \n",
    "a list of pseudopotential objects and provides several methods \n",
    "to facilitate the specification of input variables."
   ]
  },
  {
   "cell_type": "code",
   "execution_count": null,
   "metadata": {},
   "outputs": [],
   "source": [
    "print(gsinp.structure)\n",
    "print(\"The big box volume is:\", gsinp.structure.volume)"
   ]
  },
  {
   "cell_type": "code",
   "execution_count": null,
   "metadata": {},
   "outputs": [],
   "source": [
    "gsinp.structure.plot();"
   ]
  },
  {
   "cell_type": "markdown",
   "metadata": {},
   "source": [
    "Let's print some info about our pseudopotentials:"
   ]
  },
  {
   "cell_type": "code",
   "execution_count": null,
   "metadata": {},
   "outputs": [],
   "source": [
    "print(gsinp.pseudos[0])"
   ]
  },
  {
   "cell_type": "markdown",
   "metadata": {},
   "source": [
    "## Computation of the interatomic distance\n",
    "[[back to top](#top)]"
   ]
  },
  {
   "cell_type": "markdown",
   "metadata": {},
   "source": [
    "At this point, we can use `gs_input` to generate an [Abinit Flow](../flows.ipynb)\n",
    "to compute the total energy and the forces of H-H with different interatomic distances. \n",
    "We have already prepared such a function in `build_flow`, let's have a look at the code:"
   ]
  },
  {
   "cell_type": "code",
   "execution_count": null,
   "metadata": {},
   "outputs": [],
   "source": [
    "from lesson_base1 import build_flow\n",
    "abilab.print_source(build_flow)"
   ]
  },
  {
   "cell_type": "markdown",
   "metadata": {},
   "source": [
    "Note that we are working at fixed `ecut` and `acell`, only the H-H distance is modified.\n",
    "Let's call the function to build our flow:"
   ]
  },
  {
   "cell_type": "code",
   "execution_count": null,
   "metadata": {},
   "outputs": [],
   "source": [
    "flow = build_flow(options=None)\n",
    "flow.get_graphviz()"
   ]
  },
  {
   "cell_type": "markdown",
   "metadata": {},
   "source": [
    "Ok, so far so sood. \n",
    "With just three lines of codes and our `gs_input` function, we managed \n",
    "to construct an AbiPy flow for the $H_2$ molecule.\n",
    "Let's write some python code to check that we really obtained what we had in mind:"
   ]
  },
  {
   "cell_type": "code",
   "execution_count": null,
   "metadata": {},
   "outputs": [],
   "source": [
    "inputs = [task.input for task in flow.iflat_tasks()]\n",
    "\n",
    "print(\"ecuts:\\n\", [inp[\"ecut\"] for inp in inputs])\n",
    "\n",
    "print(\"vols:\\n\", [\"%.1f\" % inp.structure.volume for inp in inputs])\n",
    "\n",
    "def hh_dist(structure):\n",
    "    return np.linalg.norm(structure.cart_coords[1] - structure.cart_coords[0])\n",
    "\n",
    "from pprint import pprint\n",
    "print(\"h-h [Ang]:\\n\", [\"%.3f\" % hh_dist(inp.structure) for inp in inputs])"
   ]
  },
  {
   "cell_type": "markdown",
   "metadata": {},
   "source": [
    "At this point, we could run the flow in the notebook by just calling:\n",
    "\n",
    "    flow.make_scheduler().start()\n",
    "\n",
    "or, alternatively, execute the `lesson_base1.py` script to build \n",
    "the directory with the flow and then use:\n",
    "\n",
    "    abirun.py flow_h2 scheduler\n",
    "\n",
    "inside the terminal.\n",
    "\n",
    "<!--\n",
    "we postpone the discussion of this part because we should first create two YAML configuration files\n",
    "with options defining the execution environment and the submission policy.\n",
    "(For a detailed explanation of the AbiPy configuration files, please consult the\n",
    "[TaskManager documentation](http://abinit.github.io/abipy/workflows/taskmanager.html).\n",
    "\n",
    "There are only three points that we need to understand before proceeding with the next sections:\n",
    "\n",
    "* A `Flow` is a list of `Worflows` objects and each `Workflow` is a list of `Tasks`\n",
    "* Each `Task` is associated to an `AbinitInput` object\n",
    "* Tasks are executed in different directories with a predefined structure.\n",
    "* A `Task` can depend on other tasks and this information must be encoded in the `Flow` so that AbiPy can manage the execution. Our first example does not have dependencies. \n",
    "\n",
    "Armed with these concepts, we can finally start to use `abiopen` to analyze the output files of our `Flow`.\n",
    "-->\n",
    "\n",
    "Let's assume the flow has been already executed and let's focus on the analysis of the final results."
   ]
  },
  {
   "cell_type": "markdown",
   "metadata": {},
   "source": [
    "## Analyzing the main output file\n",
    "[[back to top](#top)]\n",
    "\n",
    "First of all, it's always a good idea to check whether the SCF cycle is converged.\n",
    "Obviously one could open the main output file, find the SCF iterations and look for warnings but\n",
    "there's a much faster (and better) way to do that with AbiPy:"
   ]
  },
  {
   "cell_type": "code",
   "execution_count": null,
   "metadata": {},
   "outputs": [],
   "source": [
    "abo = abilab.abiopen(\"flow_h2/w0/t0/run.abo\")\n",
    "print(abo)"
   ]
  },
  {
   "cell_type": "markdown",
   "metadata": {},
   "source": [
    "To get the list of Warnings/Comments/Errors:"
   ]
  },
  {
   "cell_type": "code",
   "execution_count": null,
   "metadata": {},
   "outputs": [],
   "source": [
    "print(abo.events)"
   ]
  },
  {
   "cell_type": "markdown",
   "metadata": {},
   "source": [
    "To plot the SCF cycle, use:"
   ]
  },
  {
   "cell_type": "code",
   "execution_count": null,
   "metadata": {},
   "outputs": [],
   "source": [
    "abo.plot();"
   ]
  },
  {
   "cell_type": "markdown",
   "metadata": {},
   "source": [
    "Since this is not a structural relaxation, the initial and final structures must be equal:"
   ]
  },
  {
   "cell_type": "code",
   "execution_count": null,
   "metadata": {},
   "outputs": [],
   "source": [
    "abo.initial_structure == abo.final_structure"
   ]
  },
  {
   "cell_type": "markdown",
   "metadata": {},
   "source": [
    "The basic dimensions and parameters of the run can be extracted from the output file with:"
   ]
  },
  {
   "cell_type": "code",
   "execution_count": null,
   "metadata": {},
   "outputs": [],
   "source": [
    "abo.get_dims_spginfo_dataset()"
   ]
  },
  {
   "cell_type": "markdown",
   "metadata": {},
   "source": [
    "Within the shell, one can use:\n",
    "\n",
    "    abiview.py abo flow_h2/w0/t0/run.abo\n",
    "    \n",
    "to plot the SCF cycle or\n",
    "\n",
    "    abiopen.py flow_h2/w0/t0/run.abo\n",
    "\n",
    "to open the file and start the ipython terminal"
   ]
  },
  {
   "cell_type": "markdown",
   "metadata": {},
   "source": [
    "<!--\n",
    "Note that the object returned by `abiopen` has an associated file descriptor that should be closed \n",
    "explictly by the user with `abo.close()`. \n",
    "This is the reason why many examples will use the python context manager:\n",
    "    \n",
    "```python\n",
    "    with abiopen(\"path\") as abifile:\n",
    "        print(abifile)\n",
    "```\n",
    "        \n",
    "that closes the `abifile` object when we exit the `with` block.\n",
    "-->"
   ]
  },
  {
   "cell_type": "markdown",
   "metadata": {},
   "source": [
    "## Extracting results from the GSR files\n",
    "[[back to top](#top)]\n",
    "\n",
    "The ground-state results are saved in the `GSR.nc` files whose API is extensively\n",
    "discussed in the [GSR notebook](../gsr.ipynb).\n",
    "\n",
    "Let's have a look at the results produced by the first task:"
   ]
  },
  {
   "cell_type": "code",
   "execution_count": null,
   "metadata": {
    "scrolled": false
   },
   "outputs": [],
   "source": [
    "with abilab.abiopen(\"flow_h2/w0/t0/outdata/out_GSR.nc\") as gsr:\n",
    "    print(gsr)"
   ]
  },
  {
   "cell_type": "markdown",
   "metadata": {},
   "source": [
    "As we can see from the previous output, the `GSR` file contains information about \n",
    "the crystalline structure, forces, stresses as well as the KS band structure.\n",
    "In the jargon of object-oriented programming, one says that a `GSRFile` *has* a `Structure`:\n",
    "    \n",
    "        gsr.structure\n",
    "        \n",
    "and *has* an `ElectronBands` object:\n",
    "    \n",
    "        gsr.ebands\n",
    "        \n",
    "This means that if you learn how to use the methods provided by `structure` and `ebands` than you can \n",
    "easily get these objects from the `GSR` file and use this API to post-process the results.\n",
    "This is a general philosophy of AbiPy: every netcdf file object returned by `abiopen` contains\n",
    "other objects (the structure is always available, while the presence of other objects depend of the particular file). \n",
    "Remember this point because we'll use it the other lessons."
   ]
  },
  {
   "cell_type": "markdown",
   "metadata": {},
   "source": [
    "Ok, now we know how to open and extract information from one `GSR` file.\n",
    "In this tutorial, however, we need to analyze multiple `GSR` files!\n",
    "If you are familiar with python, it should not be difficult to write a `for loop` that \n",
    "iterates over a list of GSR files, extracts the total energy with the corresponding volume and creates two\n",
    "lists than can used to plot $E(d_{H-H})$.\n",
    "This kind of operations are, however, very common and AbiPy provides a high-level interface (`robots`) to\n",
    "operate on multiple files and post-process the data.\n",
    "\n",
    "In the simplest case, the `Robot` finds all files of a particular type located within a directory tree,\n",
    "stores all the data in memory and exposes methods to extract/post-process the results."
   ]
  },
  {
   "cell_type": "code",
   "execution_count": null,
   "metadata": {},
   "outputs": [],
   "source": [
    "robot = abilab.GsrRobot.from_dir(\"flow_h2\")\n",
    "robot"
   ]
  },
  {
   "cell_type": "code",
   "execution_count": null,
   "metadata": {},
   "outputs": [],
   "source": [
    "table = robot.get_dataframe()"
   ]
  },
  {
   "cell_type": "markdown",
   "metadata": {},
   "source": [
    "The table contains several columns:"
   ]
  },
  {
   "cell_type": "code",
   "execution_count": null,
   "metadata": {},
   "outputs": [],
   "source": [
    "table.keys()"
   ]
  },
  {
   "cell_type": "markdown",
   "metadata": {},
   "source": [
    "Inside the notebook, we can visualize the table with:"
   ]
  },
  {
   "cell_type": "code",
   "execution_count": null,
   "metadata": {},
   "outputs": [],
   "source": [
    "table"
   ]
  },
  {
   "cell_type": "markdown",
   "metadata": {},
   "source": [
    "Great! We managed to get a nice table with lot of useful results with just 3 lines of code and the robot!\n",
    "There are however two problems:\n",
    "    \n",
    "   - The rows of the table are not ordered by volume (files are sorted alphabetically)\n",
    "   \n",
    "   - Our dataframe contains the energy of the different configurations but we would like to plot the energy \n",
    "     as a function of the H-H distance\n",
    "   \n",
    "Well, robots can do a lot of hard work but they are a little bit stupid so \n",
    "we have to tell them what to do with the data. \n",
    "More specifically we need a way to tell the robot that, for each `GSR` file, it should get the crystalline \n",
    "structure, compute the distance between the first and the second atom and insert the result \n",
    "in our table in a given column.\n",
    "This kind of tasks are usually executed with `callbacks` i.e. functions that are passed in input\n",
    "and **automatically executed** by the framework at runtime. \n",
    "\n",
    "<img src=\"https://github.com/abinit/abipy_assets/blob/master/caution-machine_has_no_brain.jpg?raw=true\" alt=\"\">\n",
    "\n",
    "Let's look at the documentation of `robot.get_dataframe`:"
   ]
  },
  {
   "cell_type": "code",
   "execution_count": null,
   "metadata": {},
   "outputs": [],
   "source": [
    "help(robot.get_dataframe)"
   ]
  },
  {
   "cell_type": "markdown",
   "metadata": {},
   "source": [
    "It seems complicated but the actual implementation of the callback is just three lines of code:"
   ]
  },
  {
   "cell_type": "code",
   "execution_count": null,
   "metadata": {
    "code_folding": [],
    "run_control": {
     "marked": true
    },
    "slideshow": {
     "slide_type": "-"
    }
   },
   "outputs": [],
   "source": [
    "def hh_dist(gsr):\n",
    "    \"\"\"\n",
    "    This callback receives a GSR file and computes the H-H distance.\n",
    "    The robot will call this function to compute the H-H distance, \n",
    "    and return a (key, value) tuple that will be inserted in the pandas DataFrame.\n",
    "    \"\"\"\n",
    "    cart_coords = gsr.structure.cart_coords\n",
    "    d = np.linalg.norm(cart_coords[1] - cart_coords[0])\n",
    "    return \"hh_dist\", d\n",
    "\n",
    "with abilab.GsrRobot.from_dir(\"flow_h2\") as robot:\n",
    "    table = robot.get_dataframe(funcs=hh_dist)\n",
    "    table = table.sort_values(by=\"hh_dist\")  "
   ]
  },
  {
   "cell_type": "markdown",
   "metadata": {},
   "source": [
    "As expected, now the table contains a new column with `hh_dist` in Angstrom:"
   ]
  },
  {
   "cell_type": "code",
   "execution_count": null,
   "metadata": {},
   "outputs": [],
   "source": [
    "\"hh_dist\" in table"
   ]
  },
  {
   "cell_type": "markdown",
   "metadata": {},
   "source": [
    "Let's print the two columns with the H-H distance and the total energy:"
   ]
  },
  {
   "cell_type": "code",
   "execution_count": null,
   "metadata": {},
   "outputs": [],
   "source": [
    "table[[\"hh_dist\", \"energy\"]]"
   ]
  },
  {
   "cell_type": "markdown",
   "metadata": {},
   "source": [
    "Note that the energy in our `DataFrame` is given in eV to facilitate the integration \n",
    "with `pymatgen` that uses eV for energies and Angstrom for lenghts.\n",
    "Let's add another column to our table with energies in Hartree:"
   ]
  },
  {
   "cell_type": "code",
   "execution_count": null,
   "metadata": {},
   "outputs": [],
   "source": [
    "table[\"energy_Ha\"] = table[\"energy\"] * abilab.units.eV_to_Ha"
   ]
  },
  {
   "cell_type": "markdown",
   "metadata": {},
   "source": [
    "and use the `plot` method of pandas `DataFrames` to plot `energy_Ha` vs `hh_dist`  "
   ]
  },
  {
   "cell_type": "code",
   "execution_count": null,
   "metadata": {},
   "outputs": [],
   "source": [
    "table.plot(x=\"hh_dist\", y=\"energy_Ha\", style=\"-o\");"
   ]
  },
  {
   "cell_type": "markdown",
   "metadata": {},
   "source": [
    "At this point, it should be clear that to plot the maximum of the forces as a function of the H-H distance\n",
    "we just need:"
   ]
  },
  {
   "cell_type": "code",
   "execution_count": null,
   "metadata": {},
   "outputs": [],
   "source": [
    "table.plot(x=\"hh_dist\", y=\"max_force\", style=\"-o\");"
   ]
  },
  {
   "cell_type": "markdown",
   "metadata": {},
   "source": [
    "Want to plot the two quantities on the same figure?"
   ]
  },
  {
   "cell_type": "code",
   "execution_count": null,
   "metadata": {},
   "outputs": [],
   "source": [
    "table.plot(x=\"hh_dist\", y=[\"energy_Ha\", \"max_force\"], subplots=True);"
   ]
  },
  {
   "cell_type": "markdown",
   "metadata": {},
   "source": [
    "Your boss understands the data only if it's formatted inside a $\\LaTeX$ tabular environment? "
   ]
  },
  {
   "cell_type": "code",
   "execution_count": null,
   "metadata": {},
   "outputs": [],
   "source": [
    "print(table[[\"hh_dist\", \"energy\"]].to_latex())"
   ]
  },
  {
   "cell_type": "markdown",
   "metadata": {},
   "source": [
    "Need to send data to Windows users?"
   ]
  },
  {
   "cell_type": "code",
   "execution_count": null,
   "metadata": {},
   "outputs": [],
   "source": [
    "#table.to_excel(\"'output.xlsx\")"
   ]
  },
  {
   "cell_type": "markdown",
   "metadata": {},
   "source": [
    "## Analysis of the charge density \n",
    "[[back to top](#top)]\n",
    "\n",
    "The `DEN.nc` file stores the density in real space on the FFT mesh.\n",
    "A `DEN.nc` file *has* a `structure`, and `ebands` object with the electronic eigenvalues/occupations \n",
    "and a `Density` object with $n(r)$ (numpy array `.datar`) and $n(G)$ (`.datag`). \n",
    "\n",
    "Let's open the file with `abiopen` and print it:"
   ]
  },
  {
   "cell_type": "code",
   "execution_count": null,
   "metadata": {},
   "outputs": [],
   "source": [
    "with abilab.abiopen(\"flow_h2/w0/t10/outdata/out_DEN.nc\") as denfile:\n",
    "    print(denfile)\n",
    "    density = denfile.density"
   ]
  },
  {
   "cell_type": "markdown",
   "metadata": {},
   "source": [
    "The simplest thing we can do now is to print $n(r)$ along a line passing through two points specified \n",
    "either in terms of two vectors or two integers defining the site index in our `structure`.\n",
    "Let's plot the density along the H-H bond by passing the index of the two atoms:"
   ]
  },
  {
   "cell_type": "code",
   "execution_count": null,
   "metadata": {},
   "outputs": [],
   "source": [
    "density.plot_line(0, 1);"
   ]
  },
  {
   "cell_type": "markdown",
   "metadata": {},
   "source": [
    "Great! If we have a netcdf file and AbiPy, we don't need to use cut3d to extract the data from the file\n",
    "and we can do simple plots with matplotlib.\n",
    "Unfortunately, $n(r)$ is a 3D object and the notebook is not the most suitable tool to visualize this kind of dataset.\n",
    "Fortunately there are several graphical applications to visualize 3D fields in crystalline environments\n",
    "and AbiPy provides tools to export the data from netcdf to the text format supported by the external graphical tool.\n",
    "\n",
    "For example, one can use:"
   ]
  },
  {
   "cell_type": "code",
   "execution_count": null,
   "metadata": {},
   "outputs": [],
   "source": [
    "#density.visualize(\"vesta\")"
   ]
  },
  {
   "cell_type": "markdown",
   "metadata": {},
   "source": [
    "to visualize density isosurfaces of our system:\n",
    "\n",
    "![](https://github.com/abinit/abipy_assets/blob/master/h2_density.png?raw=true)"
   ]
  },
  {
   "cell_type": "markdown",
   "metadata": {},
   "source": [
    "## Conclusions\n",
    "[[back to top](#top)]\n",
    "\n",
    "To summarize, we learned how to define python functions that can be used to generate many input files easily.\n",
    "We briefly discussed how to use these inputs to build a basic AbiPy flow without dependencies.\n",
    "More importantly, we showed that AbiPy provides several tools that can be used to inspect and analyze \n",
    "the results without having to pass necessarly through the creation and execution of the `Flow`.\n",
    "Last but not least, we discussed how to use `robots` to collect results from the output files and store \n",
    "them in pandas DataFrames\n",
    "\n",
    "AbiPy users are **strongly recommended** to familiarize themself with this kind of interface before\n",
    "moving to more advanced features such as the flow execution that requires a good understanding of the python language.\n",
    "As a matter of fact, we decided to write AbiPy in python not for efficiency reasons (actually python \n",
    "is usually slower that Fortran/C) but because there are tons of libraries for scientific applications \n",
    "(numpy, scipy, pandas, matplotlib, jupyter, etc).\n",
    "If you learn to use these great libraries for your work you can really boost your productivity and save a lot of time."
   ]
  },
  {
   "cell_type": "markdown",
   "metadata": {},
   "source": [
    "A logical next lesson would be the the tutorial about the \n",
    "[ground-state properties of silicon](https://nbviewer.jupyter.org/github/abinit/abitutorials/blob/master/abitutorials/base3/lesson_base3.ipynb)"
   ]
  },
  {
   "cell_type": "markdown",
   "metadata": {},
   "source": [
    "Back to the main [Index](../index.ipynb)"
   ]
  },
  {
   "cell_type": "code",
   "execution_count": null,
   "metadata": {},
   "outputs": [],
   "source": []
  }
 ],
 "metadata": {
  "kernelspec": {
   "display_name": "Python 3",
   "language": "python",
   "name": "python3"
  },
  "language_info": {
   "codemirror_mode": {
    "name": "ipython",
    "version": 3
   },
   "file_extension": ".py",
   "mimetype": "text/x-python",
   "name": "python",
   "nbconvert_exporter": "python",
   "pygments_lexer": "ipython3",
   "version": "3.6.5"
  },
  "latex_envs": {
   "bibliofile": "biblio.bib",
   "cite_by": "apalike",
   "current_citInitial": 1,
   "eqLabelWithNumbers": true,
   "eqNumInitial": 0
  }
 },
 "nbformat": 4,
 "nbformat_minor": 2
}
