{
 "cells": [
  {
   "cell_type": "markdown",
   "metadata": {},
   "source": [
    "Back to the main [Index](../index.ipynb) <a id=\"top\"></a>"
   ]
  },
  {
   "cell_type": "markdown",
   "metadata": {},
   "source": [
    "<div class=\"jumbotron\">\n",
    "  <h1 class=\"display-3\">First (basic) lesson with Abinit and AbiPy</h1>\n",
    "  <p class=\"lead\">The H<sub>2</sub> molecule</p> \n",
    "  <hr class=\"my-4\">\n",
    "  <p>This lesson aims at showing how to get the following physical properties:</p>\n",
    "      \n",
    "   <ul>\n",
    "    <li>the (pseudo) total energy</li>\n",
    "    <li>the bond length</li>\n",
    "    <li>the charge density</li>\n",
    "    <li>the atomisation energy</li>\n",
    "   </ul>\n",
    "</div>\n",
    "\n",
    "This tutorial is a complement to the standard [ABINIT tutorial on H$_2$](https://docs.abinit.org/tutorial/base1). Here, powerful flow and visualisation procedures\n",
    "will be demonstrated. Still, some basic understanding of the stand-alone working of ABINIT is a prerequisite.\n",
    "Also, in order to fully benefit from this Abipy tutorial, other more basic Abipy tutorials should have been followed,\n",
    "as suggested in the [abitutorials index page](https://nbviewer.jupyter.org/github/abinit/abitutorials/blob/master/abitutorials/index.ipynb).\n",
    "\n",
    "There are three methodologies to compute the optimal distance between the two Hydrogen atoms. One could:\n",
    "\n",
    "   * compute the **total energy** for different values of the interatomic distance, make a fit through \n",
    "      the different points, and determine the minimum of the fitting function;\n",
    "   * compute the **forces** for different values of the interatomic distance, make a fit through \n",
    "      the different values, and determine the zero of the fitting function;\n",
    "   * use an automatic algorithm for minimizing the energy (or finding the zero of forces).\n",
    "\n",
    "In this AbiPy notebook, we will be focusing on the first approach.\n",
    "More specifically we will build an AbiPy `Flow` to compute the energy and the forces in the $H_2$ molecule \n",
    "for different values of the interatomic distance. \n",
    "This exercise will allow us to learn how to generate multiple input files using AbiPy and \n",
    "how to analyze multiple ground-state calculations with the AbiPy robots.\n",
    "\n",
    "\n",
    "## Table of Contents\n",
    "[[back to top](#top)]\n",
    "\n",
    "* [Our first AbiPy function](#Our-first-AbiPy-function)\n",
    "* [Computation of the interatomic distance](#Computation-of-the-interatomic-distance)\n",
    "* [Analyzing the main output file](#Analyzing-the-main-output-file)\n",
    "* [Extracting results from the GSR files](#Extracting-results-from-the-GSR-files)\n",
    "* [Analysis of the charge density](#Analysis-of-the-charge-density)\n",
    "* [Conclusions](#Conclusions)"
   ]
  },
  {
   "cell_type": "markdown",
   "metadata": {},
   "source": [
    "## Our first AbiPy function\n",
    "[[back to top](#top)]"
   ]
  },
  {
   "cell_type": "code",
   "execution_count": 2,
   "metadata": {
    "code_folding": []
   },
   "outputs": [],
   "source": [
    "# Use this at the beginning of your script so that your code will be compatible with python3\n",
    "from __future__ import print_function, division, unicode_literals\n",
    "\n",
    "import numpy as np  \n",
    "\n",
    "import warnings \n",
    "warnings.filterwarnings(\"ignore\")  # Ignore warnings\n",
    "\n",
    "from abipy import abilab\n",
    "abilab.enable_notebook() # This line tells AbiPy we are running inside a notebook\n",
    "\n",
    "# This line configures matplotlib to show figures embedded in the notebook.\n",
    "# Replace `inline` with `notebook` in classic notebook\n",
    "%matplotlib inline   \n",
    "\n",
    "# Option available in jupyterlab. See https://github.com/matplotlib/jupyter-matplotlib\n",
    "#%matplotlib widget "
   ]
  },
  {
   "cell_type": "markdown",
   "metadata": {},
   "source": [
    "We need a function that generates an input file for a GS calculations for the $H_2$ molecule in a big box.\n",
    "Ideally a function that receives the distance `x`, the cutoff energy `ecut` and the size of the big box \n",
    "in input so that we can customize the output and generate multiple input objects easily.\n",
    "\n",
    "Fortunately we already have such a function in the `lesson_base1.py` module.\n",
    "Let's import it and look at the code:"
   ]
  },
  {
   "cell_type": "code",
   "execution_count": 3,
   "metadata": {},
   "outputs": [
    {
     "data": {
      "text/html": [
       "<!DOCTYPE html PUBLIC \"-//W3C//DTD HTML 4.01//EN\"\n",
       "   \"http://www.w3.org/TR/html4/strict.dtd\">\n",
       "\n",
       "<html>\n",
       "<head>\n",
       "  <title></title>\n",
       "  <meta http-equiv=\"content-type\" content=\"text/html; charset=None\">\n",
       "  <style type=\"text/css\">\n",
       "td.linenos { background-color: #f0f0f0; padding-right: 10px; }\n",
       "span.lineno { background-color: #f0f0f0; padding: 0 5px 0 5px; }\n",
       "pre { line-height: 125%; }\n",
       "body .hll { background-color: #ffffcc }\n",
       "body  { background: #f8f8f8; }\n",
       "body .c { color: #408080; font-style: italic } /* Comment */\n",
       "body .err { border: 1px solid #FF0000 } /* Error */\n",
       "body .k { color: #008000; font-weight: bold } /* Keyword */\n",
       "body .o { color: #666666 } /* Operator */\n",
       "body .ch { color: #408080; font-style: italic } /* Comment.Hashbang */\n",
       "body .cm { color: #408080; font-style: italic } /* Comment.Multiline */\n",
       "body .cp { color: #BC7A00 } /* Comment.Preproc */\n",
       "body .cpf { color: #408080; font-style: italic } /* Comment.PreprocFile */\n",
       "body .c1 { color: #408080; font-style: italic } /* Comment.Single */\n",
       "body .cs { color: #408080; font-style: italic } /* Comment.Special */\n",
       "body .gd { color: #A00000 } /* Generic.Deleted */\n",
       "body .ge { font-style: italic } /* Generic.Emph */\n",
       "body .gr { color: #FF0000 } /* Generic.Error */\n",
       "body .gh { color: #000080; font-weight: bold } /* Generic.Heading */\n",
       "body .gi { color: #00A000 } /* Generic.Inserted */\n",
       "body .go { color: #888888 } /* Generic.Output */\n",
       "body .gp { color: #000080; font-weight: bold } /* Generic.Prompt */\n",
       "body .gs { font-weight: bold } /* Generic.Strong */\n",
       "body .gu { color: #800080; font-weight: bold } /* Generic.Subheading */\n",
       "body .gt { color: #0044DD } /* Generic.Traceback */\n",
       "body .kc { color: #008000; font-weight: bold } /* Keyword.Constant */\n",
       "body .kd { color: #008000; font-weight: bold } /* Keyword.Declaration */\n",
       "body .kn { color: #008000; font-weight: bold } /* Keyword.Namespace */\n",
       "body .kp { color: #008000 } /* Keyword.Pseudo */\n",
       "body .kr { color: #008000; font-weight: bold } /* Keyword.Reserved */\n",
       "body .kt { color: #B00040 } /* Keyword.Type */\n",
       "body .m { color: #666666 } /* Literal.Number */\n",
       "body .s { color: #BA2121 } /* Literal.String */\n",
       "body .na { color: #7D9029 } /* Name.Attribute */\n",
       "body .nb { color: #008000 } /* Name.Builtin */\n",
       "body .nc { color: #0000FF; font-weight: bold } /* Name.Class */\n",
       "body .no { color: #880000 } /* Name.Constant */\n",
       "body .nd { color: #AA22FF } /* Name.Decorator */\n",
       "body .ni { color: #999999; font-weight: bold } /* Name.Entity */\n",
       "body .ne { color: #D2413A; font-weight: bold } /* Name.Exception */\n",
       "body .nf { color: #0000FF } /* Name.Function */\n",
       "body .nl { color: #A0A000 } /* Name.Label */\n",
       "body .nn { color: #0000FF; font-weight: bold } /* Name.Namespace */\n",
       "body .nt { color: #008000; font-weight: bold } /* Name.Tag */\n",
       "body .nv { color: #19177C } /* Name.Variable */\n",
       "body .ow { color: #AA22FF; font-weight: bold } /* Operator.Word */\n",
       "body .w { color: #bbbbbb } /* Text.Whitespace */\n",
       "body .mb { color: #666666 } /* Literal.Number.Bin */\n",
       "body .mf { color: #666666 } /* Literal.Number.Float */\n",
       "body .mh { color: #666666 } /* Literal.Number.Hex */\n",
       "body .mi { color: #666666 } /* Literal.Number.Integer */\n",
       "body .mo { color: #666666 } /* Literal.Number.Oct */\n",
       "body .sa { color: #BA2121 } /* Literal.String.Affix */\n",
       "body .sb { color: #BA2121 } /* Literal.String.Backtick */\n",
       "body .sc { color: #BA2121 } /* Literal.String.Char */\n",
       "body .dl { color: #BA2121 } /* Literal.String.Delimiter */\n",
       "body .sd { color: #BA2121; font-style: italic } /* Literal.String.Doc */\n",
       "body .s2 { color: #BA2121 } /* Literal.String.Double */\n",
       "body .se { color: #BB6622; font-weight: bold } /* Literal.String.Escape */\n",
       "body .sh { color: #BA2121 } /* Literal.String.Heredoc */\n",
       "body .si { color: #BB6688; font-weight: bold } /* Literal.String.Interpol */\n",
       "body .sx { color: #008000 } /* Literal.String.Other */\n",
       "body .sr { color: #BB6688 } /* Literal.String.Regex */\n",
       "body .s1 { color: #BA2121 } /* Literal.String.Single */\n",
       "body .ss { color: #19177C } /* Literal.String.Symbol */\n",
       "body .bp { color: #008000 } /* Name.Builtin.Pseudo */\n",
       "body .fm { color: #0000FF } /* Name.Function.Magic */\n",
       "body .vc { color: #19177C } /* Name.Variable.Class */\n",
       "body .vg { color: #19177C } /* Name.Variable.Global */\n",
       "body .vi { color: #19177C } /* Name.Variable.Instance */\n",
       "body .vm { color: #19177C } /* Name.Variable.Magic */\n",
       "body .il { color: #666666 } /* Literal.Number.Integer.Long */\n",
       "\n",
       "  </style>\n",
       "</head>\n",
       "<body>\n",
       "<h2></h2>\n",
       "\n",
       "<div class=\"highlight\"><pre><span></span><span class=\"k\">def</span> <span class=\"nf\">gs_input</span><span class=\"p\">(</span><span class=\"n\">x</span><span class=\"o\">=</span><span class=\"mf\">0.7</span><span class=\"p\">,</span> <span class=\"n\">ecut</span><span class=\"o\">=</span><span class=\"mi\">10</span><span class=\"p\">,</span> <span class=\"n\">acell</span><span class=\"o\">=</span><span class=\"p\">(</span><span class=\"mi\">10</span><span class=\"p\">,</span> <span class=\"mi\">10</span><span class=\"p\">,</span> <span class=\"mi\">10</span><span class=\"p\">)):</span>\n",
       "    <span class=\"sd\">&quot;&quot;&quot;</span>\n",
       "<span class=\"sd\">    This function builds an AbinitInput object to compute the total energy</span>\n",
       "<span class=\"sd\">    of the H2 molecule in a big box.</span>\n",
       "\n",
       "<span class=\"sd\">    Args:</span>\n",
       "<span class=\"sd\">        x: Position of the first Hydrogen along the x-axis in Cartesian coordinates.</span>\n",
       "<span class=\"sd\">           The second Hydrogen is located at [-x, 0, 0]</span>\n",
       "<span class=\"sd\">        ecut: Cutoff energy in Ha.</span>\n",
       "<span class=\"sd\">        acell: Lengths of the primitive vectors (in Bohr)</span>\n",
       "\n",
       "<span class=\"sd\">    Returns:</span>\n",
       "<span class=\"sd\">        AbinitInput object.</span>\n",
       "<span class=\"sd\">    &quot;&quot;&quot;</span>\n",
       "    <span class=\"c1\"># Build structure from dictionary with input variables.</span>\n",
       "    <span class=\"n\">structure</span> <span class=\"o\">=</span> <span class=\"n\">abilab</span><span class=\"o\">.</span><span class=\"n\">Structure</span><span class=\"o\">.</span><span class=\"n\">from_abivars</span><span class=\"p\">(</span>\n",
       "        <span class=\"n\">ntypat</span><span class=\"o\">=</span><span class=\"mi\">1</span><span class=\"p\">,</span>                           <span class=\"c1\"># There is only one type of atom.</span>\n",
       "        <span class=\"n\">znucl</span><span class=\"o\">=</span><span class=\"mi\">1</span><span class=\"p\">,</span>                            <span class=\"c1\"># Atomic numbers of the type(s) of atom.</span>\n",
       "        <span class=\"n\">natom</span><span class=\"o\">=</span><span class=\"mi\">2</span><span class=\"p\">,</span>                            <span class=\"c1\"># There are two atoms.</span>\n",
       "        <span class=\"n\">typat</span><span class=\"o\">=</span><span class=\"p\">(</span><span class=\"mi\">1</span><span class=\"p\">,</span> <span class=\"mi\">1</span><span class=\"p\">),</span>                       <span class=\"c1\"># They both are of type 1, that is, Hydrogen.</span>\n",
       "        <span class=\"n\">xcart</span><span class=\"o\">=</span><span class=\"p\">[</span><span class=\"o\">-</span><span class=\"n\">x</span><span class=\"p\">,</span> <span class=\"mf\">0.0</span><span class=\"p\">,</span> <span class=\"mf\">0.0</span><span class=\"p\">,</span>                <span class=\"c1\"># Cartesian coordinates of atom 1, in Bohr.</span>\n",
       "               <span class=\"o\">+</span><span class=\"n\">x</span><span class=\"p\">,</span> <span class=\"mf\">0.0</span><span class=\"p\">,</span> <span class=\"mf\">0.0</span><span class=\"p\">],</span>               <span class=\"c1\"># second atom.</span>\n",
       "        <span class=\"n\">acell</span><span class=\"o\">=</span><span class=\"n\">acell</span><span class=\"p\">,</span>                        <span class=\"c1\"># Lengths of the primitive vectors (in Bohr).</span>\n",
       "        <span class=\"n\">rprim</span><span class=\"o\">=</span><span class=\"p\">[</span><span class=\"mi\">1</span><span class=\"p\">,</span> <span class=\"mi\">0</span><span class=\"p\">,</span> <span class=\"mi\">0</span><span class=\"p\">,</span> <span class=\"mi\">0</span><span class=\"p\">,</span> <span class=\"mi\">1</span><span class=\"p\">,</span> <span class=\"mi\">0</span><span class=\"p\">,</span> <span class=\"mi\">0</span><span class=\"p\">,</span> <span class=\"mi\">0</span><span class=\"p\">,</span> <span class=\"mi\">1</span><span class=\"p\">]</span>   <span class=\"c1\"># Orthogonal primitive vectors (default).</span>\n",
       "    <span class=\"p\">)</span>\n",
       "\n",
       "    <span class=\"c1\"># Build AbinitInput from structure and pseudo(s) taken from AbiPy package.</span>\n",
       "    <span class=\"n\">inp</span> <span class=\"o\">=</span> <span class=\"n\">abilab</span><span class=\"o\">.</span><span class=\"n\">AbinitInput</span><span class=\"p\">(</span><span class=\"n\">structure</span><span class=\"o\">=</span><span class=\"n\">structure</span><span class=\"p\">,</span> <span class=\"n\">pseudos</span><span class=\"o\">=</span><span class=\"n\">abidata</span><span class=\"o\">.</span><span class=\"n\">pseudos</span><span class=\"p\">(</span><span class=\"s2\">&quot;01h.pspgth&quot;</span><span class=\"p\">))</span>\n",
       "\n",
       "    <span class=\"c1\"># Set value of other variables.</span>\n",
       "    <span class=\"n\">inp</span><span class=\"o\">.</span><span class=\"n\">set_vars</span><span class=\"p\">(</span>\n",
       "        <span class=\"n\">ecut</span><span class=\"o\">=</span><span class=\"n\">ecut</span><span class=\"p\">,</span>\n",
       "        <span class=\"n\">nband</span><span class=\"o\">=</span><span class=\"mi\">1</span><span class=\"p\">,</span>\n",
       "        <span class=\"n\">diemac</span><span class=\"o\">=</span><span class=\"mf\">2.0</span><span class=\"p\">,</span>\n",
       "        <span class=\"n\">toldfe</span><span class=\"o\">=</span><span class=\"mf\">1e-6</span><span class=\"p\">,</span>\n",
       "        <span class=\"n\">prtwf</span><span class=\"o\">=-</span><span class=\"mi\">1</span><span class=\"p\">,</span>\n",
       "        <span class=\"n\">iomode</span><span class=\"o\">=</span><span class=\"mi\">3</span>\n",
       "    <span class=\"p\">)</span>\n",
       "\n",
       "    <span class=\"c1\"># Define k-point sampling.</span>\n",
       "    <span class=\"n\">inp</span><span class=\"o\">.</span><span class=\"n\">set_kmesh</span><span class=\"p\">(</span><span class=\"n\">ngkpt</span><span class=\"o\">=</span><span class=\"p\">(</span><span class=\"mi\">1</span><span class=\"p\">,</span> <span class=\"mi\">1</span><span class=\"p\">,</span> <span class=\"mi\">1</span><span class=\"p\">),</span> <span class=\"n\">shiftk</span><span class=\"o\">=</span><span class=\"p\">(</span><span class=\"mi\">0</span><span class=\"p\">,</span> <span class=\"mi\">0</span><span class=\"p\">,</span> <span class=\"mi\">0</span><span class=\"p\">))</span>\n",
       "\n",
       "    <span class=\"k\">return</span> <span class=\"n\">inp</span>\n",
       "</pre></div>\n",
       "</body>\n",
       "</html>\n"
      ],
      "text/plain": [
       "<IPython.core.display.HTML object>"
      ]
     },
     "execution_count": 3,
     "metadata": {},
     "output_type": "execute_result"
    }
   ],
   "source": [
    "from lesson_base1 import gs_input\n",
    "abilab.print_source(gs_input)"
   ]
  },
  {
   "cell_type": "markdown",
   "metadata": {},
   "source": [
    "If the function is called without arguments, the default values (specified in the prototype) are used. \n",
    "Let's try:"
   ]
  },
  {
   "cell_type": "code",
   "execution_count": 4,
   "metadata": {},
   "outputs": [
    {
     "name": "stdout",
     "output_type": "stream",
     "text": [
      "The value of ecut is: 10\n"
     ]
    }
   ],
   "source": [
    "gsinp = gs_input()\n",
    "print(\"The value of ecut is:\", gsinp[\"ecut\"])"
   ]
  },
  {
   "cell_type": "markdown",
   "metadata": {},
   "source": [
    "The `AbinitInput` is a dict-like object whose usage is documented in this [notebook](../abinit_input.ipynb).\n",
    "Inside jupyter, we can get the HTML representation of the input with:"
   ]
  },
  {
   "cell_type": "code",
   "execution_count": 5,
   "metadata": {},
   "outputs": [
    {
     "data": {
      "text/html": [
       "############################################################################################<br>#                                       SECTION: basic                                      <br>############################################################################################<br> <a href=\"https://docs.abinit.org/variables/basic#ecut\" target=\"_blank\">ecut</a> 10<br> <a href=\"https://docs.abinit.org/variables/basic#nband\" target=\"_blank\">nband</a> 1<br> <a href=\"https://docs.abinit.org/variables/basic#toldfe\" target=\"_blank\">toldfe</a> 1e-06<br> <a href=\"https://docs.abinit.org/variables/basic#ngkpt\" target=\"_blank\">ngkpt</a> 1 1 1<br> <a href=\"https://docs.abinit.org/variables/basic#kptopt\" target=\"_blank\">kptopt</a> 1<br> <a href=\"https://docs.abinit.org/variables/basic#nshiftk\" target=\"_blank\">nshiftk</a> 1<br> <a href=\"https://docs.abinit.org/variables/basic#shiftk\" target=\"_blank\">shiftk</a> 0 0 0<br>############################################################################################<br>#                                        SECTION: dev                                       <br>############################################################################################<br> <a href=\"https://docs.abinit.org/variables/dev#iomode\" target=\"_blank\">iomode</a> 3<br>############################################################################################<br>#                                       SECTION: files                                      <br>############################################################################################<br> <a href=\"https://docs.abinit.org/variables/files#prtwf\" target=\"_blank\">prtwf</a> -1<br>############################################################################################<br>#                                      SECTION: gstate                                      <br>############################################################################################<br> <a href=\"https://docs.abinit.org/variables/gstate#diemac\" target=\"_blank\">diemac</a> 2.0<br>############################################################################################<br>#                                         STRUCTURE                                         <br>############################################################################################<br> <a href=\"https://docs.abinit.org/variables/basic#natom\" target=\"_blank\">natom</a> 2<br> <a href=\"https://docs.abinit.org/variables/basic#ntypat\" target=\"_blank\">ntypat</a> 1<br> <a href=\"https://docs.abinit.org/variables/basic#typat\" target=\"_blank\">typat</a> 1 1<br> <a href=\"https://docs.abinit.org/variables/basic#znucl\" target=\"_blank\">znucl</a> 1<br> <a href=\"https://docs.abinit.org/variables/basic#xred\" target=\"_blank\">xred</a><br>   -0.0700000000    0.0000000000    0.0000000000<br>    0.0700000000    0.0000000000    0.0000000000<br> <a href=\"https://docs.abinit.org/variables/basic#acell\" target=\"_blank\">acell</a>    1.0    1.0    1.0<br> <a href=\"https://docs.abinit.org/variables/basic#rprim\" target=\"_blank\">rprim</a><br>   10.0000000000    0.0000000000    0.0000000000<br>    0.0000000000   10.0000000000    0.0000000000<br>    0.0000000000    0.0000000000   10.0000000000"
      ],
      "text/plain": [
       "<AbinitInput at 26100779664>"
      ]
     },
     "execution_count": 5,
     "metadata": {},
     "output_type": "execute_result"
    }
   ],
   "source": [
    "gsinp"
   ]
  },
  {
   "cell_type": "markdown",
   "metadata": {},
   "source": [
    "The input object can be converted into a string. \n",
    "More importantly, an `AbinitInput` *has* an AbiPy structure\n",
    "(see [Structure notebook](../structure.ipynb)), \n",
    "a list of pseudopotential objects and provides several methods \n",
    "to facilitate the specification of input variables."
   ]
  },
  {
   "cell_type": "code",
   "execution_count": 6,
   "metadata": {},
   "outputs": [
    {
     "name": "stdout",
     "output_type": "stream",
     "text": [
      "Full Formula (H2)\n",
      "Reduced Formula: H2\n",
      "abc   :   5.291772   5.291772   5.291772\n",
      "angles:  90.000000  90.000000  90.000000\n",
      "Sites (2)\n",
      "  #  SP        a    b    c\n",
      "---  ----  -----  ---  ---\n",
      "  0  H     -0.07    0    0\n",
      "  1  H      0.07    0    0\n",
      "The big box volume is: 148.18471127642286\n"
     ]
    }
   ],
   "source": [
    "print(gsinp.structure)\n",
    "print(\"The big box volume is:\", gsinp.structure.volume)"
   ]
  },
  {
   "cell_type": "code",
   "execution_count": 7,
   "metadata": {},
   "outputs": [
    {
     "data": {
      "image/png": "[encoded data removed]",
      "text/plain": [
       "<Figure size 432x288 with 1 Axes>"
      ]
     },
     "metadata": {},
     "output_type": "display_data"
    }
   ],
   "source": [
    "gsinp.structure.plot();"
   ]
  },
  {
   "cell_type": "markdown",
   "metadata": {},
   "source": [
    "Let's print some info about our pseudopotentials:"
   ]
  },
  {
   "cell_type": "code",
   "execution_count": 8,
   "metadata": {},
   "outputs": [
    {
     "name": "stdout",
     "output_type": "stream",
     "text": [
      "<NcAbinitPseudo: 01h.pspgth>\n",
      "  summary: Goedecker-Teter-Hutter  Wed May  8 14:27:44 EDT 1996\n",
      "  number of valence electrons: 1.0\n",
      "  maximum angular momentum: s\n",
      "  angular momentum for local part: s\n",
      "  XC correlation: LDA_XC_TETER93\n",
      "  supports spin-orbit: False\n",
      "  radius for non-linear core correction: 0.0\n",
      "  hint for low accuracy: ecut: 0.0, pawecutdg: 0.0\n",
      "  hint for normal accuracy: ecut: 0.0, pawecutdg: 0.0\n",
      "  hint for high accuracy: ecut: 0.0, pawecutdg: 0.0\n"
     ]
    }
   ],
   "source": [
    "print(gsinp.pseudos[0])"
   ]
  },
  {
   "cell_type": "markdown",
   "metadata": {},
   "source": [
    "## Computation of the interatomic distance\n",
    "[[back to top](#top)]"
   ]
  },
  {
   "cell_type": "markdown",
   "metadata": {},
   "source": [
    "At this point, we can use `gs_input` to generate an [Abinit Flow](../flows.ipynb)\n",
    "to compute the total energy and the forces of H-H with different interatomic distances. \n",
    "We have already prepared such a function in `build_flow`, let's have a look at the code:"
   ]
  },
  {
   "cell_type": "code",
   "execution_count": 9,
   "metadata": {},
   "outputs": [
    {
     "data": {
      "text/html": [
       "<!DOCTYPE html PUBLIC \"-//W3C//DTD HTML 4.01//EN\"\n",
       "   \"http://www.w3.org/TR/html4/strict.dtd\">\n",
       "\n",
       "<html>\n",
       "<head>\n",
       "  <title></title>\n",
       "  <meta http-equiv=\"content-type\" content=\"text/html; charset=None\">\n",
       "  <style type=\"text/css\">\n",
       "td.linenos { background-color: #f0f0f0; padding-right: 10px; }\n",
       "span.lineno { background-color: #f0f0f0; padding: 0 5px 0 5px; }\n",
       "pre { line-height: 125%; }\n",
       "body .hll { background-color: #ffffcc }\n",
       "body  { background: #f8f8f8; }\n",
       "body .c { color: #408080; font-style: italic } /* Comment */\n",
       "body .err { border: 1px solid #FF0000 } /* Error */\n",
       "body .k { color: #008000; font-weight: bold } /* Keyword */\n",
       "body .o { color: #666666 } /* Operator */\n",
       "body .ch { color: #408080; font-style: italic } /* Comment.Hashbang */\n",
       "body .cm { color: #408080; font-style: italic } /* Comment.Multiline */\n",
       "body .cp { color: #BC7A00 } /* Comment.Preproc */\n",
       "body .cpf { color: #408080; font-style: italic } /* Comment.PreprocFile */\n",
       "body .c1 { color: #408080; font-style: italic } /* Comment.Single */\n",
       "body .cs { color: #408080; font-style: italic } /* Comment.Special */\n",
       "body .gd { color: #A00000 } /* Generic.Deleted */\n",
       "body .ge { font-style: italic } /* Generic.Emph */\n",
       "body .gr { color: #FF0000 } /* Generic.Error */\n",
       "body .gh { color: #000080; font-weight: bold } /* Generic.Heading */\n",
       "body .gi { color: #00A000 } /* Generic.Inserted */\n",
       "body .go { color: #888888 } /* Generic.Output */\n",
       "body .gp { color: #000080; font-weight: bold } /* Generic.Prompt */\n",
       "body .gs { font-weight: bold } /* Generic.Strong */\n",
       "body .gu { color: #800080; font-weight: bold } /* Generic.Subheading */\n",
       "body .gt { color: #0044DD } /* Generic.Traceback */\n",
       "body .kc { color: #008000; font-weight: bold } /* Keyword.Constant */\n",
       "body .kd { color: #008000; font-weight: bold } /* Keyword.Declaration */\n",
       "body .kn { color: #008000; font-weight: bold } /* Keyword.Namespace */\n",
       "body .kp { color: #008000 } /* Keyword.Pseudo */\n",
       "body .kr { color: #008000; font-weight: bold } /* Keyword.Reserved */\n",
       "body .kt { color: #B00040 } /* Keyword.Type */\n",
       "body .m { color: #666666 } /* Literal.Number */\n",
       "body .s { color: #BA2121 } /* Literal.String */\n",
       "body .na { color: #7D9029 } /* Name.Attribute */\n",
       "body .nb { color: #008000 } /* Name.Builtin */\n",
       "body .nc { color: #0000FF; font-weight: bold } /* Name.Class */\n",
       "body .no { color: #880000 } /* Name.Constant */\n",
       "body .nd { color: #AA22FF } /* Name.Decorator */\n",
       "body .ni { color: #999999; font-weight: bold } /* Name.Entity */\n",
       "body .ne { color: #D2413A; font-weight: bold } /* Name.Exception */\n",
       "body .nf { color: #0000FF } /* Name.Function */\n",
       "body .nl { color: #A0A000 } /* Name.Label */\n",
       "body .nn { color: #0000FF; font-weight: bold } /* Name.Namespace */\n",
       "body .nt { color: #008000; font-weight: bold } /* Name.Tag */\n",
       "body .nv { color: #19177C } /* Name.Variable */\n",
       "body .ow { color: #AA22FF; font-weight: bold } /* Operator.Word */\n",
       "body .w { color: #bbbbbb } /* Text.Whitespace */\n",
       "body .mb { color: #666666 } /* Literal.Number.Bin */\n",
       "body .mf { color: #666666 } /* Literal.Number.Float */\n",
       "body .mh { color: #666666 } /* Literal.Number.Hex */\n",
       "body .mi { color: #666666 } /* Literal.Number.Integer */\n",
       "body .mo { color: #666666 } /* Literal.Number.Oct */\n",
       "body .sa { color: #BA2121 } /* Literal.String.Affix */\n",
       "body .sb { color: #BA2121 } /* Literal.String.Backtick */\n",
       "body .sc { color: #BA2121 } /* Literal.String.Char */\n",
       "body .dl { color: #BA2121 } /* Literal.String.Delimiter */\n",
       "body .sd { color: #BA2121; font-style: italic } /* Literal.String.Doc */\n",
       "body .s2 { color: #BA2121 } /* Literal.String.Double */\n",
       "body .se { color: #BB6622; font-weight: bold } /* Literal.String.Escape */\n",
       "body .sh { color: #BA2121 } /* Literal.String.Heredoc */\n",
       "body .si { color: #BB6688; font-weight: bold } /* Literal.String.Interpol */\n",
       "body .sx { color: #008000 } /* Literal.String.Other */\n",
       "body .sr { color: #BB6688 } /* Literal.String.Regex */\n",
       "body .s1 { color: #BA2121 } /* Literal.String.Single */\n",
       "body .ss { color: #19177C } /* Literal.String.Symbol */\n",
       "body .bp { color: #008000 } /* Name.Builtin.Pseudo */\n",
       "body .fm { color: #0000FF } /* Name.Function.Magic */\n",
       "body .vc { color: #19177C } /* Name.Variable.Class */\n",
       "body .vg { color: #19177C } /* Name.Variable.Global */\n",
       "body .vi { color: #19177C } /* Name.Variable.Instance */\n",
       "body .vm { color: #19177C } /* Name.Variable.Magic */\n",
       "body .il { color: #666666 } /* Literal.Number.Integer.Long */\n",
       "\n",
       "  </style>\n",
       "</head>\n",
       "<body>\n",
       "<h2></h2>\n",
       "\n",
       "<div class=\"highlight\"><pre><span></span><span class=\"k\">def</span> <span class=\"nf\">build_flow</span><span class=\"p\">(</span><span class=\"n\">options</span><span class=\"p\">):</span>\n",
       "    <span class=\"sd\">&quot;&quot;&quot;</span>\n",
       "<span class=\"sd\">    Generate a flow to compute the total energy and forces for the H2 molecule in a big box</span>\n",
       "<span class=\"sd\">    as a function of the interatomic distance.</span>\n",
       "\n",
       "<span class=\"sd\">    Args:</span>\n",
       "<span class=\"sd\">        options: Command line options.</span>\n",
       "\n",
       "<span class=\"sd\">    Return:</span>\n",
       "<span class=\"sd\">        Flow object.</span>\n",
       "<span class=\"sd\">    &quot;&quot;&quot;</span>\n",
       "    <span class=\"n\">inputs</span> <span class=\"o\">=</span> <span class=\"p\">[</span><span class=\"n\">gs_input</span><span class=\"p\">(</span><span class=\"n\">x</span><span class=\"o\">=</span><span class=\"n\">x</span><span class=\"p\">)</span> <span class=\"k\">for</span> <span class=\"n\">x</span> <span class=\"ow\">in</span> <span class=\"n\">np</span><span class=\"o\">.</span><span class=\"n\">linspace</span><span class=\"p\">(</span><span class=\"mf\">0.5</span><span class=\"p\">,</span> <span class=\"mf\">1.025</span><span class=\"p\">,</span> <span class=\"mi\">21</span><span class=\"p\">)]</span>\n",
       "\n",
       "    <span class=\"n\">workdir</span> <span class=\"o\">=</span> <span class=\"n\">options</span><span class=\"o\">.</span><span class=\"n\">workdir</span> <span class=\"k\">if</span> <span class=\"p\">(</span><span class=\"n\">options</span> <span class=\"ow\">and</span> <span class=\"n\">options</span><span class=\"o\">.</span><span class=\"n\">workdir</span><span class=\"p\">)</span> <span class=\"k\">else</span> <span class=\"s2\">&quot;flow_h2&quot;</span>\n",
       "\n",
       "    <span class=\"k\">return</span> <span class=\"n\">flowtk</span><span class=\"o\">.</span><span class=\"n\">Flow</span><span class=\"o\">.</span><span class=\"n\">from_inputs</span><span class=\"p\">(</span><span class=\"n\">workdir</span><span class=\"p\">,</span> <span class=\"n\">inputs</span><span class=\"p\">)</span>\n",
       "</pre></div>\n",
       "</body>\n",
       "</html>\n"
      ],
      "text/plain": [
       "<IPython.core.display.HTML object>"
      ]
     },
     "execution_count": 9,
     "metadata": {},
     "output_type": "execute_result"
    }
   ],
   "source": [
    "from lesson_base1 import build_flow\n",
    "abilab.print_source(build_flow)"
   ]
  },
  {
   "cell_type": "markdown",
   "metadata": {},
   "source": [
    "Note that we are working at fixed `ecut` and `acell`, only the H-H distance is modified.\n",
    "Let's call the function to build our flow:"
   ]
  },
  {
   "cell_type": "code",
   "execution_count": 10,
   "metadata": {},
   "outputs": [
    {
     "data": {
      "image/svg+xml": [
       "<?xml version=\"1.0\" encoding=\"UTF-8\" standalone=\"no\"?>\n",
       "<!DOCTYPE svg PUBLIC \"-//W3C//DTD SVG 1.1//EN\"\n",
       " \"http://www.w3.org/Graphics/SVG/1.1/DTD/svg11.dtd\">\n",
       "<!-- Generated by graphviz version 2.38.0 (20140413.2041)\n",
       " -->\n",
       "<!-- Title: flow Pages: 1 -->\n",
       "<svg width=\"330pt\" height=\"374pt\"\n",
       " viewBox=\"0.00 0.00 330.00 374.00\" xmlns=\"http://www.w3.org/2000/svg\" xmlns:xlink=\"http://www.w3.org/1999/xlink\">\n",
       "<g id=\"graph0\" class=\"graph\" transform=\"scale(1 1) rotate(0) translate(4 348)\">\n",
       "<title>flow</title>\n",
       "<polygon fill=\"white\" stroke=\"none\" points=\"-4,26 -4,-348 326,-348 326,26 -4,26\"/>\n",
       "<text text-anchor=\"start\" x=\"43.5039\" y=\"15.2\" font-family=\"Times,serif\" font-size=\"14.00\">Flow, node_id=345716, workdir=flow_h2</text>\n",
       "<g id=\"clust1\" class=\"cluster\"><title>clusterw0</title>\n",
       "<path fill=\"#e0eeee\" stroke=\"black\" d=\"M12.2381,0.359112C12.2381,0.359112 310.238,0.359112 310.238,0.359112 316.238,0.359112 322.238,-5.64089 322.238,-11.6409 322.238,-11.6409 322.238,-331.641 322.238,-331.641 322.238,-337.641 316.238,-343.641 310.238,-343.641 310.238,-343.641 12.2381,-343.641 12.2381,-343.641 6.23812,-343.641 0.238117,-337.641 0.238117,-331.641 0.238117,-331.641 0.238117,-11.6409 0.238117,-11.6409 0.238117,-5.64089 6.23812,0.359112 12.2381,0.359112\"/>\n",
       "<text text-anchor=\"middle\" x=\"161.238\" y=\"-328.441\" font-family=\"Times,serif\" font-size=\"14.00\">Work (w0)</text>\n",
       "</g>\n",
       "<!-- w0_t0 -->\n",
       "<g id=\"node1\" class=\"node\"><title>w0_t0</title>\n",
       "<ellipse fill=\"#ff0000\" stroke=\"#ff0000\" cx=\"221.476\" cy=\"-295.282\" rx=\"27.8878\" ry=\"18\"/>\n",
       "<text text-anchor=\"middle\" x=\"221.476\" y=\"-296.882\" font-family=\"Times,serif\" font-size=\"8.00\">w0_t0</text>\n",
       "<text text-anchor=\"middle\" x=\"221.476\" y=\"-288.882\" font-family=\"Times,serif\" font-size=\"8.00\">ScfTask</text>\n",
       "</g>\n",
       "<!-- w0_t1 -->\n",
       "<g id=\"node2\" class=\"node\"><title>w0_t1</title>\n",
       "<ellipse fill=\"#ff0000\" stroke=\"#ff0000\" cx=\"186.476\" cy=\"-190.282\" rx=\"27.8878\" ry=\"18\"/>\n",
       "<text text-anchor=\"middle\" x=\"186.476\" y=\"-191.882\" font-family=\"Times,serif\" font-size=\"8.00\">w0_t1</text>\n",
       "<text text-anchor=\"middle\" x=\"186.476\" y=\"-183.882\" font-family=\"Times,serif\" font-size=\"8.00\">ScfTask</text>\n",
       "</g>\n",
       "<!-- w0_t2 -->\n",
       "<g id=\"node3\" class=\"node\"><title>w0_t2</title>\n",
       "<ellipse fill=\"#ff0000\" stroke=\"#ff0000\" cx=\"191.476\" cy=\"-125.282\" rx=\"27.8878\" ry=\"18\"/>\n",
       "<text text-anchor=\"middle\" x=\"191.476\" y=\"-126.882\" font-family=\"Times,serif\" font-size=\"8.00\">w0_t2</text>\n",
       "<text text-anchor=\"middle\" x=\"191.476\" y=\"-118.882\" font-family=\"Times,serif\" font-size=\"8.00\">ScfTask</text>\n",
       "</g>\n",
       "<!-- w0_t3 -->\n",
       "<g id=\"node4\" class=\"node\"><title>w0_t3</title>\n",
       "<ellipse fill=\"#ff0000\" stroke=\"#ff0000\" cx=\"121.476\" cy=\"-195.282\" rx=\"27.8878\" ry=\"18\"/>\n",
       "<text text-anchor=\"middle\" x=\"121.476\" y=\"-196.882\" font-family=\"Times,serif\" font-size=\"8.00\">w0_t3</text>\n",
       "<text text-anchor=\"middle\" x=\"121.476\" y=\"-188.882\" font-family=\"Times,serif\" font-size=\"8.00\">ScfTask</text>\n",
       "</g>\n",
       "<!-- w0_t4 -->\n",
       "<g id=\"node5\" class=\"node\"><title>w0_t4</title>\n",
       "<ellipse fill=\"#ff0000\" stroke=\"#ff0000\" cx=\"86.4762\" cy=\"-90.2818\" rx=\"27.8878\" ry=\"18\"/>\n",
       "<text text-anchor=\"middle\" x=\"86.4762\" y=\"-91.8818\" font-family=\"Times,serif\" font-size=\"8.00\">w0_t4</text>\n",
       "<text text-anchor=\"middle\" x=\"86.4762\" y=\"-83.8818\" font-family=\"Times,serif\" font-size=\"8.00\">ScfTask</text>\n",
       "</g>\n",
       "<!-- w0_t5 -->\n",
       "<g id=\"node6\" class=\"node\"><title>w0_t5</title>\n",
       "<ellipse fill=\"#ff0000\" stroke=\"#ff0000\" cx=\"236.476\" cy=\"-240.282\" rx=\"27.8878\" ry=\"18\"/>\n",
       "<text text-anchor=\"middle\" x=\"236.476\" y=\"-241.882\" font-family=\"Times,serif\" font-size=\"8.00\">w0_t5</text>\n",
       "<text text-anchor=\"middle\" x=\"236.476\" y=\"-233.882\" font-family=\"Times,serif\" font-size=\"8.00\">ScfTask</text>\n",
       "</g>\n",
       "<!-- w0_t6 -->\n",
       "<g id=\"node7\" class=\"node\"><title>w0_t6</title>\n",
       "<ellipse fill=\"#ff0000\" stroke=\"#ff0000\" cx=\"156.476\" cy=\"-75.2818\" rx=\"27.8878\" ry=\"18\"/>\n",
       "<text text-anchor=\"middle\" x=\"156.476\" y=\"-76.8818\" font-family=\"Times,serif\" font-size=\"8.00\">w0_t6</text>\n",
       "<text text-anchor=\"middle\" x=\"156.476\" y=\"-68.8818\" font-family=\"Times,serif\" font-size=\"8.00\">ScfTask</text>\n",
       "</g>\n",
       "<!-- w0_t7 -->\n",
       "<g id=\"node8\" class=\"node\"><title>w0_t7</title>\n",
       "<ellipse fill=\"#ff0000\" stroke=\"#ff0000\" cx=\"221.476\" cy=\"-75.2818\" rx=\"27.8878\" ry=\"18\"/>\n",
       "<text text-anchor=\"middle\" x=\"221.476\" y=\"-76.8818\" font-family=\"Times,serif\" font-size=\"8.00\">w0_t7</text>\n",
       "<text text-anchor=\"middle\" x=\"221.476\" y=\"-68.8818\" font-family=\"Times,serif\" font-size=\"8.00\">ScfTask</text>\n",
       "</g>\n",
       "<!-- w0_t8 -->\n",
       "<g id=\"node9\" class=\"node\"><title>w0_t8</title>\n",
       "<ellipse fill=\"#ff0000\" stroke=\"#ff0000\" cx=\"171.476\" cy=\"-245.282\" rx=\"27.8878\" ry=\"18\"/>\n",
       "<text text-anchor=\"middle\" x=\"171.476\" y=\"-246.882\" font-family=\"Times,serif\" font-size=\"8.00\">w0_t8</text>\n",
       "<text text-anchor=\"middle\" x=\"171.476\" y=\"-238.882\" font-family=\"Times,serif\" font-size=\"8.00\">ScfTask</text>\n",
       "</g>\n",
       "<!-- w0_t9 -->\n",
       "<g id=\"node10\" class=\"node\"><title>w0_t9</title>\n",
       "<ellipse fill=\"#ff0000\" stroke=\"#ff0000\" cx=\"106.476\" cy=\"-245.282\" rx=\"27.8878\" ry=\"18\"/>\n",
       "<text text-anchor=\"middle\" x=\"106.476\" y=\"-246.882\" font-family=\"Times,serif\" font-size=\"8.00\">w0_t9</text>\n",
       "<text text-anchor=\"middle\" x=\"106.476\" y=\"-238.882\" font-family=\"Times,serif\" font-size=\"8.00\">ScfTask</text>\n",
       "</g>\n",
       "<!-- w0_t10 -->\n",
       "<g id=\"node11\" class=\"node\"><title>w0_t10</title>\n",
       "<ellipse fill=\"#ff0000\" stroke=\"#ff0000\" cx=\"251.476\" cy=\"-175.282\" rx=\"27.8878\" ry=\"18\"/>\n",
       "<text text-anchor=\"middle\" x=\"251.476\" y=\"-176.882\" font-family=\"Times,serif\" font-size=\"8.00\">w0_t10</text>\n",
       "<text text-anchor=\"middle\" x=\"251.476\" y=\"-168.882\" font-family=\"Times,serif\" font-size=\"8.00\">ScfTask</text>\n",
       "</g>\n",
       "<!-- w0_t11 -->\n",
       "<g id=\"node12\" class=\"node\"><title>w0_t11</title>\n",
       "<ellipse fill=\"#ff0000\" stroke=\"#ff0000\" cx=\"61.4762\" cy=\"-145.282\" rx=\"27.8878\" ry=\"18\"/>\n",
       "<text text-anchor=\"middle\" x=\"61.4762\" y=\"-146.882\" font-family=\"Times,serif\" font-size=\"8.00\">w0_t11</text>\n",
       "<text text-anchor=\"middle\" x=\"61.4762\" y=\"-138.882\" font-family=\"Times,serif\" font-size=\"8.00\">ScfTask</text>\n",
       "</g>\n",
       "<!-- w0_t12 -->\n",
       "<g id=\"node13\" class=\"node\"><title>w0_t12</title>\n",
       "<ellipse fill=\"#ff0000\" stroke=\"#ff0000\" cx=\"256.476\" cy=\"-125.282\" rx=\"27.8878\" ry=\"18\"/>\n",
       "<text text-anchor=\"middle\" x=\"256.476\" y=\"-126.882\" font-family=\"Times,serif\" font-size=\"8.00\">w0_t12</text>\n",
       "<text text-anchor=\"middle\" x=\"256.476\" y=\"-118.882\" font-family=\"Times,serif\" font-size=\"8.00\">ScfTask</text>\n",
       "</g>\n",
       "<!-- w0_t13 -->\n",
       "<g id=\"node14\" class=\"node\"><title>w0_t13</title>\n",
       "<ellipse fill=\"#ff0000\" stroke=\"#ff0000\" cx=\"56.4762\" cy=\"-195.282\" rx=\"27.8878\" ry=\"18\"/>\n",
       "<text text-anchor=\"middle\" x=\"56.4762\" y=\"-196.882\" font-family=\"Times,serif\" font-size=\"8.00\">w0_t13</text>\n",
       "<text text-anchor=\"middle\" x=\"56.4762\" y=\"-188.882\" font-family=\"Times,serif\" font-size=\"8.00\">ScfTask</text>\n",
       "</g>\n",
       "<!-- w0_t14 -->\n",
       "<g id=\"node15\" class=\"node\"><title>w0_t14</title>\n",
       "<ellipse fill=\"#ff0000\" stroke=\"#ff0000\" cx=\"41.4762\" cy=\"-275.282\" rx=\"27.8878\" ry=\"18\"/>\n",
       "<text text-anchor=\"middle\" x=\"41.4762\" y=\"-276.882\" font-family=\"Times,serif\" font-size=\"8.00\">w0_t14</text>\n",
       "<text text-anchor=\"middle\" x=\"41.4762\" y=\"-268.882\" font-family=\"Times,serif\" font-size=\"8.00\">ScfTask</text>\n",
       "</g>\n",
       "<!-- w0_t15 -->\n",
       "<g id=\"node16\" class=\"node\"><title>w0_t15</title>\n",
       "<ellipse fill=\"#ff0000\" stroke=\"#ff0000\" cx=\"36.4762\" cy=\"-40.2818\" rx=\"27.8878\" ry=\"18\"/>\n",
       "<text text-anchor=\"middle\" x=\"36.4762\" y=\"-41.8818\" font-family=\"Times,serif\" font-size=\"8.00\">w0_t15</text>\n",
       "<text text-anchor=\"middle\" x=\"36.4762\" y=\"-33.8818\" font-family=\"Times,serif\" font-size=\"8.00\">ScfTask</text>\n",
       "</g>\n",
       "<!-- w0_t16 -->\n",
       "<g id=\"node17\" class=\"node\"><title>w0_t16</title>\n",
       "<ellipse fill=\"#ff0000\" stroke=\"#ff0000\" cx=\"286.476\" cy=\"-30.2818\" rx=\"27.8878\" ry=\"18\"/>\n",
       "<text text-anchor=\"middle\" x=\"286.476\" y=\"-31.8818\" font-family=\"Times,serif\" font-size=\"8.00\">w0_t16</text>\n",
       "<text text-anchor=\"middle\" x=\"286.476\" y=\"-23.8818\" font-family=\"Times,serif\" font-size=\"8.00\">ScfTask</text>\n",
       "</g>\n",
       "<!-- w0_t17 -->\n",
       "<g id=\"node18\" class=\"node\"><title>w0_t17</title>\n",
       "<ellipse fill=\"#ff0000\" stroke=\"#ff0000\" cx=\"286.476\" cy=\"-290.282\" rx=\"27.8878\" ry=\"18\"/>\n",
       "<text text-anchor=\"middle\" x=\"286.476\" y=\"-291.882\" font-family=\"Times,serif\" font-size=\"8.00\">w0_t17</text>\n",
       "<text text-anchor=\"middle\" x=\"286.476\" y=\"-283.882\" font-family=\"Times,serif\" font-size=\"8.00\">ScfTask</text>\n",
       "</g>\n",
       "<!-- w0_t18 -->\n",
       "<g id=\"node19\" class=\"node\"><title>w0_t18</title>\n",
       "<ellipse fill=\"#ff0000\" stroke=\"#ff0000\" cx=\"156.476\" cy=\"-25.2818\" rx=\"27.8878\" ry=\"18\"/>\n",
       "<text text-anchor=\"middle\" x=\"156.476\" y=\"-26.8818\" font-family=\"Times,serif\" font-size=\"8.00\">w0_t18</text>\n",
       "<text text-anchor=\"middle\" x=\"156.476\" y=\"-18.8818\" font-family=\"Times,serif\" font-size=\"8.00\">ScfTask</text>\n",
       "</g>\n",
       "<!-- w0_t19 -->\n",
       "<g id=\"node20\" class=\"node\"><title>w0_t19</title>\n",
       "<ellipse fill=\"#ff0000\" stroke=\"#ff0000\" cx=\"221.476\" cy=\"-25.2818\" rx=\"27.8878\" ry=\"18\"/>\n",
       "<text text-anchor=\"middle\" x=\"221.476\" y=\"-26.8818\" font-family=\"Times,serif\" font-size=\"8.00\">w0_t19</text>\n",
       "<text text-anchor=\"middle\" x=\"221.476\" y=\"-18.8818\" font-family=\"Times,serif\" font-size=\"8.00\">ScfTask</text>\n",
       "</g>\n",
       "<!-- w0_t20 -->\n",
       "<g id=\"node21\" class=\"node\"><title>w0_t20</title>\n",
       "<ellipse fill=\"#ff0000\" stroke=\"#ff0000\" cx=\"126.476\" cy=\"-140.282\" rx=\"27.8878\" ry=\"18\"/>\n",
       "<text text-anchor=\"middle\" x=\"126.476\" y=\"-141.882\" font-family=\"Times,serif\" font-size=\"8.00\">w0_t20</text>\n",
       "<text text-anchor=\"middle\" x=\"126.476\" y=\"-133.882\" font-family=\"Times,serif\" font-size=\"8.00\">ScfTask</text>\n",
       "</g>\n",
       "</g>\n",
       "</svg>\n"
      ],
      "text/plain": [
       "<graphviz.dot.Digraph at 0x60fd87940>"
      ]
     },
     "execution_count": 10,
     "metadata": {},
     "output_type": "execute_result"
    }
   ],
   "source": [
    "flow = build_flow(options=None)\n",
    "flow.get_graphviz()"
   ]
  },
  {
   "cell_type": "markdown",
   "metadata": {},
   "source": [
    "Ok, so far so sood. \n",
    "With just three lines of codes and our `gs_input` function, we managed \n",
    "to construct an AbiPy flow for the $H_2$ molecule.\n",
    "Let's write some python code to check that we really obtained what we had in mind:"
   ]
  },
  {
   "cell_type": "code",
   "execution_count": 11,
   "metadata": {},
   "outputs": [
    {
     "name": "stdout",
     "output_type": "stream",
     "text": [
      "ecuts:\n",
      " [10, 10, 10, 10, 10, 10, 10, 10, 10, 10, 10, 10, 10, 10, 10, 10, 10, 10, 10, 10, 10]\n",
      "vols:\n",
      " ['148.2', '148.2', '148.2', '148.2', '148.2', '148.2', '148.2', '148.2', '148.2', '148.2', '148.2', '148.2', '148.2', '148.2', '148.2', '148.2', '148.2', '148.2', '148.2', '148.2', '148.2']\n",
      "h-h [Ang]:\n",
      " ['0.529', '0.557', '0.585', '0.613', '0.640', '0.668', '0.696', '0.724', '0.751', '0.779', '0.807', '0.835', '0.863', '0.890', '0.918', '0.946', '0.974', '1.001', '1.029', '1.057', '1.085']\n"
     ]
    }
   ],
   "source": [
    "inputs = [task.input for task in flow.iflat_tasks()]\n",
    "\n",
    "print(\"ecuts:\\n\", [inp[\"ecut\"] for inp in inputs])\n",
    "\n",
    "print(\"vols:\\n\", [\"%.1f\" % inp.structure.volume for inp in inputs])\n",
    "\n",
    "def hh_dist(structure):\n",
    "    return np.linalg.norm(structure.cart_coords[1] - structure.cart_coords[0])\n",
    "\n",
    "from pprint import pprint\n",
    "print(\"h-h [Ang]:\\n\", [\"%.3f\" % hh_dist(inp.structure) for inp in inputs])"
   ]
  },
  {
   "cell_type": "markdown",
   "metadata": {},
   "source": [
    "At this point, we could run the flow in the notebook by just calling:\n",
    "\n",
    "    flow.make_scheduler().start()\n",
    "\n",
    "or, alternatively, execute the `lesson_base1.py` script to build \n",
    "the directory with the flow and then use:\n",
    "\n",
    "    abirun.py flow_h2 scheduler\n",
    "\n",
    "inside the terminal.\n",
    "\n",
    "<!--\n",
    "we postpone the discussion of this part because we should first create two YAML configuration files\n",
    "with options defining the execution environment and the submission policy.\n",
    "(For a detailed explanation of the AbiPy configuration files, please consult the\n",
    "[TaskManager documentation](http://abinit.github.io/abipy/workflows/taskmanager.html).\n",
    "\n",
    "There are only three points that we need to understand before proceeding with the next sections:\n",
    "\n",
    "* A `Flow` is a list of `Worflows` objects and each `Workflow` is a list of `Tasks`\n",
    "* Each `Task` is associated to an `AbinitInput` object\n",
    "* Tasks are executed in different directories with a predefined structure.\n",
    "* A `Task` can depend on other tasks and this information must be encoded in the `Flow` so that AbiPy can manage the execution. Our first example does not have dependencies. \n",
    "\n",
    "Armed with these concepts, we can finally start to use `abiopen` to analyze the output files of our `Flow`.\n",
    "-->\n",
    "\n",
    "Let's assume the flow has been already executed and let's focus on the analysis of the final results."
   ]
  },
  {
   "cell_type": "markdown",
   "metadata": {},
   "source": [
    "## Analyzing the main output file\n",
    "[[back to top](#top)]\n",
    "\n",
    "First of all, it is always a good idea to check whether the SCF cycle is converged.\n",
    "Obviously one could open the main output file, find the SCF iterations and look for warnings but\n",
    "there is a much faster (and better) way to do that with AbiPy:"
   ]
  },
  {
   "cell_type": "code",
   "execution_count": 12,
   "metadata": {},
   "outputs": [
    {
     "name": "stdout",
     "output_type": "stream",
     "text": [
      "ndtset: 1, completed: True\n",
      "Full Formula (H2)\n",
      "Reduced Formula: H2\n",
      "abc   :   5.291772   5.291772   5.291772\n",
      "angles:  90.000000  90.000000  90.000000\n",
      "Sites (2)\n",
      "  #  SP        a    b    c\n",
      "---  ----  -----  ---  ---\n",
      "  0  H     -0.05    0    0\n",
      "  1  H      0.05    0    0\n",
      "\n",
      "Abinit Spacegroup: spgid: 123, num_spatial_symmetries: 16, has_timerev: True, symmorphic: False\n",
      "\n",
      "========================= Dimensions of calculation =========================\n",
      "         intxc  ionmov  iscf  lmnmax  lnmax  mgfft  mpssoang  mqgrid  natom  \\\n",
      "dataset                                                                       \n",
      "1            0       0     7       1      1     30         1    3001      2   \n",
      "\n",
      "         nloc_mem  nspden  nspinor  nsppol  nsym  n1xccc  ntypat  occopt  \\\n",
      "dataset                                                                    \n",
      "1               1       1        1       1    16       0       1       1   \n",
      "\n",
      "         xclevel  mband  mffmem  mkmem  mpw   nfft  nkpt  mem_per_proc_mb  \\\n",
      "dataset                                                                     \n",
      "1              1      1       1      1  752  27000     1            7.796   \n",
      "\n",
      "         wfk_size_mb  denpot_size_mb spg_symbol  spg_number  \\\n",
      "dataset                                                       \n",
      "1              0.013           0.208     P4/mmm         123   \n",
      "\n",
      "                                bravais  \n",
      "dataset                                  \n",
      "1        Bravais tP (primitive tetrag.)  \n",
      " \n",
      "\n"
     ]
    }
   ],
   "source": [
    "abo = abilab.abiopen(\"flow_h2/w0/t0/run.abo\")\n",
    "print(abo)"
   ]
  },
  {
   "cell_type": "markdown",
   "metadata": {},
   "source": [
    "To get the list of Warnings/Comments/Errors:"
   ]
  },
  {
   "cell_type": "code",
   "execution_count": 13,
   "metadata": {},
   "outputs": [
    {
     "name": "stdout",
     "output_type": "stream",
     "text": [
      "Events found in /Users/gmatteo/git_repos/abitutorials/abitutorials/base1/flow_h2/w0/t0/run.abo\n",
      "\n",
      "num_errors: 0, num_warnings: 0, num_comments: 0, completed: False\n",
      "\n"
     ]
    }
   ],
   "source": [
    "print(abo.events)"
   ]
  },
  {
   "cell_type": "markdown",
   "metadata": {},
   "source": [
    "To plot the SCF cycle, use:"
   ]
  },
  {
   "cell_type": "code",
   "execution_count": 14,
   "metadata": {},
   "outputs": [
    {
     "name": "stdout",
     "output_type": "stream",
     "text": [
      "\n",
      "Loading all matplotlib figures before showing them. It may take some time...\n",
      "All figures in memory, elapsed time: 0.872 s\n"
     ]
    },
    {
     "data": {
      "image/png": "[encoded data removed]",
      "text/plain": [
       "<Figure size 432x288 with 4 Axes>"
      ]
     },
     "metadata": {},
     "output_type": "display_data"
    }
   ],
   "source": [
    "abo.plot();"
   ]
  },
  {
   "cell_type": "markdown",
   "metadata": {},
   "source": [
    "Since this is not a structural relaxation, the initial and final structures must be equal:"
   ]
  },
  {
   "cell_type": "code",
   "execution_count": 15,
   "metadata": {},
   "outputs": [
    {
     "data": {
      "text/plain": [
       "True"
      ]
     },
     "execution_count": 15,
     "metadata": {},
     "output_type": "execute_result"
    }
   ],
   "source": [
    "abo.initial_structure == abo.final_structure"
   ]
  },
  {
   "cell_type": "markdown",
   "metadata": {},
   "source": [
    "The basic dimensions and parameters of the run can be extracted from the output file with:"
   ]
  },
  {
   "cell_type": "code",
   "execution_count": 16,
   "metadata": {},
   "outputs": [
    {
     "data": {
      "text/plain": [
       "(OrderedDict([(1,\n",
       "               OrderedDict([('intxc', 0),\n",
       "                            ('ionmov', 0),\n",
       "                            ('iscf', 7),\n",
       "                            ('lmnmax', 1),\n",
       "                            ('lnmax', 1),\n",
       "                            ('mgfft', 30),\n",
       "                            ('mpssoang', 1),\n",
       "                            ('mqgrid', 3001),\n",
       "                            ('natom', 2),\n",
       "                            ('nloc_mem', 1),\n",
       "                            ('nspden', 1),\n",
       "                            ('nspinor', 1),\n",
       "                            ('nsppol', 1),\n",
       "                            ('nsym', 16),\n",
       "                            ('n1xccc', 0),\n",
       "                            ('ntypat', 1),\n",
       "                            ('occopt', 1),\n",
       "                            ('xclevel', 1),\n",
       "                            ('mband', 1),\n",
       "                            ('mffmem', 1),\n",
       "                            ('mkmem', 1),\n",
       "                            ('mpw', 752),\n",
       "                            ('nfft', 27000),\n",
       "                            ('nkpt', 1),\n",
       "                            ('mem_per_proc_mb', 7.796),\n",
       "                            ('wfk_size_mb', 0.013),\n",
       "                            ('denpot_size_mb', 0.208)]))]),\n",
       " OrderedDict([(1,\n",
       "               {'bravais': 'Bravais tP (primitive tetrag.)',\n",
       "                'spg_number': 123,\n",
       "                'spg_symbol': 'P4/mmm'})]))"
      ]
     },
     "execution_count": 16,
     "metadata": {},
     "output_type": "execute_result"
    }
   ],
   "source": [
    "abo.get_dims_spginfo_dataset()"
   ]
  },
  {
   "cell_type": "markdown",
   "metadata": {},
   "source": [
    "Within the shell, one can use:\n",
    "\n",
    "    abiview.py abo flow_h2/w0/t0/run.abo\n",
    "    \n",
    "to plot the SCF cycle or\n",
    "\n",
    "    abiopen.py flow_h2/w0/t0/run.abo\n",
    "\n",
    "to open the file and start the ipython terminal"
   ]
  },
  {
   "cell_type": "markdown",
   "metadata": {},
   "source": [
    "<!--\n",
    "Note that the object returned by `abiopen` has an associated file descriptor that should be closed \n",
    "explictly by the user with `abo.close()`. \n",
    "This is the reason why many examples will use the python context manager:\n",
    "    \n",
    "```python\n",
    "    with abiopen(\"path\") as abifile:\n",
    "        print(abifile)\n",
    "```\n",
    "        \n",
    "that closes the `abifile` object when we exit the `with` block.\n",
    "-->"
   ]
  },
  {
   "cell_type": "markdown",
   "metadata": {},
   "source": [
    "## Extracting results from the GSR files\n",
    "[[back to top](#top)]\n",
    "\n",
    "The ground-state results are saved in the `GSR.nc` files whose API is extensively\n",
    "discussed in the [GSR notebook](../gsr.ipynb).\n",
    "\n",
    "Let's have a look at the results produced by the first task:"
   ]
  },
  {
   "cell_type": "code",
   "execution_count": 17,
   "metadata": {
    "scrolled": false
   },
   "outputs": [
    {
     "name": "stdout",
     "output_type": "stream",
     "text": [
      "================================= File Info =================================\n",
      "Name: out_GSR.nc\n",
      "Directory: /Users/gmatteo/git_repos/abitutorials/abitutorials/base1/flow_h2/w0/t0/outdata\n",
      "Size: 8.20 kb\n",
      "Access Time: Sun Aug 12 00:14:53 2018\n",
      "Modification Time: Tue Oct 10 21:27:35 2017\n",
      "Change Time: Tue Oct 10 21:27:35 2017\n",
      "\n",
      "================================= Structure =================================\n",
      "Full Formula (H2)\n",
      "Reduced Formula: H2\n",
      "abc   :   5.291772   5.291772   5.291772\n",
      "angles:  90.000000  90.000000  90.000000\n",
      "Sites (2)\n",
      "  #  SP        a    b    c  cartesian_forces\n",
      "---  ----  -----  ---  ---  --------------------------------------------------\n",
      "  0  H     -0.05    0    0  [-19.54779666  -0.          -0.        ] eV ang^-1\n",
      "  1  H      0.05    0    0  [19.54779666 -0.         -0.        ] eV ang^-1\n",
      "\n",
      "Abinit Spacegroup: spgid: 123, num_spatial_symmetries: 16, has_timerev: True, symmorphic: False\n",
      "\n",
      "Stress tensor (Cartesian coordinates in GPa):\n",
      "[[-10.75762969   0.           0.        ]\n",
      " [  0.           1.60903288   0.        ]\n",
      " [  0.           0.           1.60903288]]\n",
      "Pressure: 2.513 (GPa)\n",
      "Energy: -28.21337426 (eV)\n",
      "\n",
      "============================== Electronic Bands ==============================\n",
      "Number of electrons: 2.0, Fermi level: -11.082 (eV)\n",
      "nsppol: 1, nkpt: 1, mband: 1, nspinor: 1, nspden: 1\n",
      "smearing scheme: none, tsmear_eV: 0.272, occopt: 1\n",
      "Bandwidth: 0.000 (eV)\n",
      "Valence maximum located at:\n",
      "    spin=0, kpt=[+0.000, +0.000, +0.000], weight: 1.000, band=0, eig=-11.082, occ=2.000\n"
     ]
    }
   ],
   "source": [
    "with abilab.abiopen(\"flow_h2/w0/t0/outdata/out_GSR.nc\") as gsr:\n",
    "    print(gsr)"
   ]
  },
  {
   "cell_type": "markdown",
   "metadata": {},
   "source": [
    "As we can see from the previous output, the `GSR` file contains information about \n",
    "the crystalline structure, forces, stresses as well as the KS band structure.\n",
    "In the jargon of object-oriented programming, one says that a `GSRFile` *has* a `Structure` object:\n",
    "    \n",
    "        gsr.structure\n",
    "        \n",
    "and *has* an `ElectronBands` object:\n",
    "    \n",
    "        gsr.ebands\n",
    "        \n",
    "This means that if you learn how to use the methods provided by `structure` and `ebands`, then you can \n",
    "easily get these objects from the `GSR` file and use this API to post-process the results.\n",
    "This is a general philosophy of AbiPy: every netcdf file object returned by `abiopen` contains\n",
    "other objects (the structure is always available, while the presence of other objects depend of the particular file). \n",
    "Remember this point because we will use it in the other lessons."
   ]
  },
  {
   "cell_type": "markdown",
   "metadata": {},
   "source": [
    "Ok, now we know how to open and extract information from one `GSR` file.\n",
    "In this tutorial, however, we need to analyze multiple `GSR` files!\n",
    "If you are familiar with python, it should not be difficult to write a `for loop` that \n",
    "iterates over a list of GSR files, extracts the total energy with the corresponding volume and creates two\n",
    "lists that can be used to plot $E(d_{H-H})$.\n",
    "This kind of operations are, however, very common and AbiPy provides a high-level interface (`robots`) to\n",
    "operate on multiple files and post-process the data.\n",
    "\n",
    "In the simplest case, the `Robot` finds all files of a particular type located within a directory tree,\n",
    "stores all the data in memory and exposes methods to extract/post-process the results."
   ]
  },
  {
   "cell_type": "code",
   "execution_count": 18,
   "metadata": {},
   "outputs": [
    {
     "data": {
      "text/html": [
       "<ol start=\"0\">\n",
       "<li>w0/t0/outdata/out_GSR.nc</li>\n",
       "<li>w0/t1/outdata/out_GSR.nc</li>\n",
       "<li>w0/t10/outdata/out_GSR.nc</li>\n",
       "<li>w0/t11/outdata/out_GSR.nc</li>\n",
       "<li>w0/t12/outdata/out_GSR.nc</li>\n",
       "<li>w0/t13/outdata/out_GSR.nc</li>\n",
       "<li>w0/t14/outdata/out_GSR.nc</li>\n",
       "<li>w0/t15/outdata/out_GSR.nc</li>\n",
       "<li>w0/t16/outdata/out_GSR.nc</li>\n",
       "<li>w0/t17/outdata/out_GSR.nc</li>\n",
       "<li>w0/t18/outdata/out_GSR.nc</li>\n",
       "<li>w0/t19/outdata/out_GSR.nc</li>\n",
       "<li>w0/t2/outdata/out_GSR.nc</li>\n",
       "<li>w0/t20/outdata/out_GSR.nc</li>\n",
       "<li>w0/t3/outdata/out_GSR.nc</li>\n",
       "<li>w0/t4/outdata/out_GSR.nc</li>\n",
       "<li>w0/t5/outdata/out_GSR.nc</li>\n",
       "<li>w0/t6/outdata/out_GSR.nc</li>\n",
       "<li>w0/t7/outdata/out_GSR.nc</li>\n",
       "<li>w0/t8/outdata/out_GSR.nc</li>\n",
       "<li>w0/t9/outdata/out_GSR.nc</li>\n",
       "</ol>"
      ],
      "text/plain": [
       "Label                      Relpath\n",
       "-------------------------  ---------------------------------\n",
       "w0/t0/outdata/out_GSR.nc   flow_h2/w0/t0/outdata/out_GSR.nc\n",
       "w0/t1/outdata/out_GSR.nc   flow_h2/w0/t1/outdata/out_GSR.nc\n",
       "w0/t10/outdata/out_GSR.nc  flow_h2/w0/t10/outdata/out_GSR.nc\n",
       "w0/t11/outdata/out_GSR.nc  flow_h2/w0/t11/outdata/out_GSR.nc\n",
       "w0/t12/outdata/out_GSR.nc  flow_h2/w0/t12/outdata/out_GSR.nc\n",
       "w0/t13/outdata/out_GSR.nc  flow_h2/w0/t13/outdata/out_GSR.nc\n",
       "w0/t14/outdata/out_GSR.nc  flow_h2/w0/t14/outdata/out_GSR.nc\n",
       "w0/t15/outdata/out_GSR.nc  flow_h2/w0/t15/outdata/out_GSR.nc\n",
       "w0/t16/outdata/out_GSR.nc  flow_h2/w0/t16/outdata/out_GSR.nc\n",
       "w0/t17/outdata/out_GSR.nc  flow_h2/w0/t17/outdata/out_GSR.nc\n",
       "w0/t18/outdata/out_GSR.nc  flow_h2/w0/t18/outdata/out_GSR.nc\n",
       "w0/t19/outdata/out_GSR.nc  flow_h2/w0/t19/outdata/out_GSR.nc\n",
       "w0/t2/outdata/out_GSR.nc   flow_h2/w0/t2/outdata/out_GSR.nc\n",
       "w0/t20/outdata/out_GSR.nc  flow_h2/w0/t20/outdata/out_GSR.nc\n",
       "w0/t3/outdata/out_GSR.nc   flow_h2/w0/t3/outdata/out_GSR.nc\n",
       "w0/t4/outdata/out_GSR.nc   flow_h2/w0/t4/outdata/out_GSR.nc\n",
       "w0/t5/outdata/out_GSR.nc   flow_h2/w0/t5/outdata/out_GSR.nc\n",
       "w0/t6/outdata/out_GSR.nc   flow_h2/w0/t6/outdata/out_GSR.nc\n",
       "w0/t7/outdata/out_GSR.nc   flow_h2/w0/t7/outdata/out_GSR.nc\n",
       "w0/t8/outdata/out_GSR.nc   flow_h2/w0/t8/outdata/out_GSR.nc\n",
       "w0/t9/outdata/out_GSR.nc   flow_h2/w0/t9/outdata/out_GSR.nc"
      ]
     },
     "execution_count": 18,
     "metadata": {},
     "output_type": "execute_result"
    }
   ],
   "source": [
    "robot = abilab.GsrRobot.from_dir(\"flow_h2\")\n",
    "robot"
   ]
  },
  {
   "cell_type": "code",
   "execution_count": 19,
   "metadata": {},
   "outputs": [],
   "source": [
    "table = robot.get_dataframe()"
   ]
  },
  {
   "cell_type": "markdown",
   "metadata": {},
   "source": [
    "The table contains several columns:"
   ]
  },
  {
   "cell_type": "code",
   "execution_count": 20,
   "metadata": {},
   "outputs": [
    {
     "data": {
      "text/plain": [
       "Index(['formula', 'natom', 'alpha', 'beta', 'gamma', 'a', 'b', 'c', 'volume',\n",
       "       'abispg_num', 'spglib_symb', 'spglib_num', 'spglib_lattice_type',\n",
       "       'energy', 'pressure', 'max_force', 'ecut', 'pawecutdg', 'tsmear',\n",
       "       'nkpt', 'nsppol', 'nspinor', 'nspden'],\n",
       "      dtype='object')"
      ]
     },
     "execution_count": 20,
     "metadata": {},
     "output_type": "execute_result"
    }
   ],
   "source": [
    "table.keys()"
   ]
  },
  {
   "cell_type": "markdown",
   "metadata": {},
   "source": [
    "Inside the notebook, we can visualize the table with:"
   ]
  },
  {
   "cell_type": "code",
   "execution_count": 21,
   "metadata": {},
   "outputs": [
    {
     "data": {
      "text/html": [
       "<div>\n",
       "<style scoped>\n",
       "    .dataframe tbody tr th:only-of-type {\n",
       "        vertical-align: middle;\n",
       "    }\n",
       "\n",
       "    .dataframe tbody tr th {\n",
       "        vertical-align: top;\n",
       "    }\n",
       "\n",
       "    .dataframe thead th {\n",
       "        text-align: right;\n",
       "    }\n",
       "</style>\n",
       "<table border=\"1\" class=\"dataframe\">\n",
       "  <thead>\n",
       "    <tr style=\"text-align: right;\">\n",
       "      <th></th>\n",
       "      <th>formula</th>\n",
       "      <th>natom</th>\n",
       "      <th>alpha</th>\n",
       "      <th>beta</th>\n",
       "      <th>gamma</th>\n",
       "      <th>a</th>\n",
       "      <th>b</th>\n",
       "      <th>c</th>\n",
       "      <th>volume</th>\n",
       "      <th>abispg_num</th>\n",
       "      <th>...</th>\n",
       "      <th>energy</th>\n",
       "      <th>pressure</th>\n",
       "      <th>max_force</th>\n",
       "      <th>ecut</th>\n",
       "      <th>pawecutdg</th>\n",
       "      <th>tsmear</th>\n",
       "      <th>nkpt</th>\n",
       "      <th>nsppol</th>\n",
       "      <th>nspinor</th>\n",
       "      <th>nspden</th>\n",
       "    </tr>\n",
       "  </thead>\n",
       "  <tbody>\n",
       "    <tr>\n",
       "      <th>w0/t0/outdata/out_GSR.nc</th>\n",
       "      <td>H2</td>\n",
       "      <td>2</td>\n",
       "      <td>90.0</td>\n",
       "      <td>90.0</td>\n",
       "      <td>90.0</td>\n",
       "      <td>5.291772</td>\n",
       "      <td>5.291772</td>\n",
       "      <td>5.291772</td>\n",
       "      <td>148.184711</td>\n",
       "      <td>123</td>\n",
       "      <td>...</td>\n",
       "      <td>-28.213374</td>\n",
       "      <td>2.513188</td>\n",
       "      <td>19.547797</td>\n",
       "      <td>10.0</td>\n",
       "      <td>-1.0</td>\n",
       "      <td>0.01</td>\n",
       "      <td>1</td>\n",
       "      <td>1</td>\n",
       "      <td>1</td>\n",
       "      <td>1</td>\n",
       "    </tr>\n",
       "    <tr>\n",
       "      <th>w0/t1/outdata/out_GSR.nc</th>\n",
       "      <td>H2</td>\n",
       "      <td>2</td>\n",
       "      <td>90.0</td>\n",
       "      <td>90.0</td>\n",
       "      <td>90.0</td>\n",
       "      <td>5.291772</td>\n",
       "      <td>5.291772</td>\n",
       "      <td>5.291772</td>\n",
       "      <td>148.184711</td>\n",
       "      <td>123</td>\n",
       "      <td>...</td>\n",
       "      <td>-28.697681</td>\n",
       "      <td>1.960239</td>\n",
       "      <td>15.457585</td>\n",
       "      <td>10.0</td>\n",
       "      <td>-1.0</td>\n",
       "      <td>0.01</td>\n",
       "      <td>1</td>\n",
       "      <td>1</td>\n",
       "      <td>1</td>\n",
       "      <td>1</td>\n",
       "    </tr>\n",
       "    <tr>\n",
       "      <th>w0/t10/outdata/out_GSR.nc</th>\n",
       "      <td>H2</td>\n",
       "      <td>2</td>\n",
       "      <td>90.0</td>\n",
       "      <td>90.0</td>\n",
       "      <td>90.0</td>\n",
       "      <td>5.291772</td>\n",
       "      <td>5.291772</td>\n",
       "      <td>5.291772</td>\n",
       "      <td>148.184711</td>\n",
       "      <td>123</td>\n",
       "      <td>...</td>\n",
       "      <td>-30.091282</td>\n",
       "      <td>-1.106892</td>\n",
       "      <td>0.050198</td>\n",
       "      <td>10.0</td>\n",
       "      <td>-1.0</td>\n",
       "      <td>0.01</td>\n",
       "      <td>1</td>\n",
       "      <td>1</td>\n",
       "      <td>1</td>\n",
       "      <td>1</td>\n",
       "    </tr>\n",
       "    <tr>\n",
       "      <th>w0/t11/outdata/out_GSR.nc</th>\n",
       "      <td>H2</td>\n",
       "      <td>2</td>\n",
       "      <td>90.0</td>\n",
       "      <td>90.0</td>\n",
       "      <td>90.0</td>\n",
       "      <td>5.291772</td>\n",
       "      <td>5.291772</td>\n",
       "      <td>5.291772</td>\n",
       "      <td>148.184711</td>\n",
       "      <td>123</td>\n",
       "      <td>...</td>\n",
       "      <td>-30.081045</td>\n",
       "      <td>-1.306064</td>\n",
       "      <td>0.669857</td>\n",
       "      <td>10.0</td>\n",
       "      <td>-1.0</td>\n",
       "      <td>0.01</td>\n",
       "      <td>1</td>\n",
       "      <td>1</td>\n",
       "      <td>1</td>\n",
       "      <td>1</td>\n",
       "    </tr>\n",
       "    <tr>\n",
       "      <th>w0/t12/outdata/out_GSR.nc</th>\n",
       "      <td>H2</td>\n",
       "      <td>2</td>\n",
       "      <td>90.0</td>\n",
       "      <td>90.0</td>\n",
       "      <td>90.0</td>\n",
       "      <td>5.291772</td>\n",
       "      <td>5.291772</td>\n",
       "      <td>5.291772</td>\n",
       "      <td>148.184711</td>\n",
       "      <td>123</td>\n",
       "      <td>...</td>\n",
       "      <td>-30.054897</td>\n",
       "      <td>-1.486643</td>\n",
       "      <td>1.198657</td>\n",
       "      <td>10.0</td>\n",
       "      <td>-1.0</td>\n",
       "      <td>0.01</td>\n",
       "      <td>1</td>\n",
       "      <td>1</td>\n",
       "      <td>1</td>\n",
       "      <td>1</td>\n",
       "    </tr>\n",
       "    <tr>\n",
       "      <th>w0/t13/outdata/out_GSR.nc</th>\n",
       "      <td>H2</td>\n",
       "      <td>2</td>\n",
       "      <td>90.0</td>\n",
       "      <td>90.0</td>\n",
       "      <td>90.0</td>\n",
       "      <td>5.291772</td>\n",
       "      <td>5.291772</td>\n",
       "      <td>5.291772</td>\n",
       "      <td>148.184711</td>\n",
       "      <td>123</td>\n",
       "      <td>...</td>\n",
       "      <td>-30.015128</td>\n",
       "      <td>-1.650521</td>\n",
       "      <td>1.652942</td>\n",
       "      <td>10.0</td>\n",
       "      <td>-1.0</td>\n",
       "      <td>0.01</td>\n",
       "      <td>1</td>\n",
       "      <td>1</td>\n",
       "      <td>1</td>\n",
       "      <td>1</td>\n",
       "    </tr>\n",
       "    <tr>\n",
       "      <th>w0/t14/outdata/out_GSR.nc</th>\n",
       "      <td>H2</td>\n",
       "      <td>2</td>\n",
       "      <td>90.0</td>\n",
       "      <td>90.0</td>\n",
       "      <td>90.0</td>\n",
       "      <td>5.291772</td>\n",
       "      <td>5.291772</td>\n",
       "      <td>5.291772</td>\n",
       "      <td>148.184711</td>\n",
       "      <td>123</td>\n",
       "      <td>...</td>\n",
       "      <td>-29.963621</td>\n",
       "      <td>-1.799429</td>\n",
       "      <td>2.045489</td>\n",
       "      <td>10.0</td>\n",
       "      <td>-1.0</td>\n",
       "      <td>0.01</td>\n",
       "      <td>1</td>\n",
       "      <td>1</td>\n",
       "      <td>1</td>\n",
       "      <td>1</td>\n",
       "    </tr>\n",
       "    <tr>\n",
       "      <th>w0/t15/outdata/out_GSR.nc</th>\n",
       "      <td>H2</td>\n",
       "      <td>2</td>\n",
       "      <td>90.0</td>\n",
       "      <td>90.0</td>\n",
       "      <td>90.0</td>\n",
       "      <td>5.291772</td>\n",
       "      <td>5.291772</td>\n",
       "      <td>5.291772</td>\n",
       "      <td>148.184711</td>\n",
       "      <td>123</td>\n",
       "      <td>...</td>\n",
       "      <td>-29.901949</td>\n",
       "      <td>-1.934773</td>\n",
       "      <td>2.386232</td>\n",
       "      <td>10.0</td>\n",
       "      <td>-1.0</td>\n",
       "      <td>0.01</td>\n",
       "      <td>1</td>\n",
       "      <td>1</td>\n",
       "      <td>1</td>\n",
       "      <td>1</td>\n",
       "    </tr>\n",
       "    <tr>\n",
       "      <th>w0/t16/outdata/out_GSR.nc</th>\n",
       "      <td>H2</td>\n",
       "      <td>2</td>\n",
       "      <td>90.0</td>\n",
       "      <td>90.0</td>\n",
       "      <td>90.0</td>\n",
       "      <td>5.291772</td>\n",
       "      <td>5.291772</td>\n",
       "      <td>5.291772</td>\n",
       "      <td>148.184711</td>\n",
       "      <td>123</td>\n",
       "      <td>...</td>\n",
       "      <td>-29.831440</td>\n",
       "      <td>-2.058169</td>\n",
       "      <td>2.682742</td>\n",
       "      <td>10.0</td>\n",
       "      <td>-1.0</td>\n",
       "      <td>0.01</td>\n",
       "      <td>1</td>\n",
       "      <td>1</td>\n",
       "      <td>1</td>\n",
       "      <td>1</td>\n",
       "    </tr>\n",
       "    <tr>\n",
       "      <th>w0/t17/outdata/out_GSR.nc</th>\n",
       "      <td>H2</td>\n",
       "      <td>2</td>\n",
       "      <td>90.0</td>\n",
       "      <td>90.0</td>\n",
       "      <td>90.0</td>\n",
       "      <td>5.291772</td>\n",
       "      <td>5.291772</td>\n",
       "      <td>5.291772</td>\n",
       "      <td>148.184711</td>\n",
       "      <td>123</td>\n",
       "      <td>...</td>\n",
       "      <td>-29.753241</td>\n",
       "      <td>-2.170734</td>\n",
       "      <td>2.940714</td>\n",
       "      <td>10.0</td>\n",
       "      <td>-1.0</td>\n",
       "      <td>0.01</td>\n",
       "      <td>1</td>\n",
       "      <td>1</td>\n",
       "      <td>1</td>\n",
       "      <td>1</td>\n",
       "    </tr>\n",
       "    <tr>\n",
       "      <th>w0/t18/outdata/out_GSR.nc</th>\n",
       "      <td>H2</td>\n",
       "      <td>2</td>\n",
       "      <td>90.0</td>\n",
       "      <td>90.0</td>\n",
       "      <td>90.0</td>\n",
       "      <td>5.291772</td>\n",
       "      <td>5.291772</td>\n",
       "      <td>5.291772</td>\n",
       "      <td>148.184711</td>\n",
       "      <td>123</td>\n",
       "      <td>...</td>\n",
       "      <td>-29.668361</td>\n",
       "      <td>-2.273618</td>\n",
       "      <td>3.164346</td>\n",
       "      <td>10.0</td>\n",
       "      <td>-1.0</td>\n",
       "      <td>0.01</td>\n",
       "      <td>1</td>\n",
       "      <td>1</td>\n",
       "      <td>1</td>\n",
       "      <td>1</td>\n",
       "    </tr>\n",
       "    <tr>\n",
       "      <th>w0/t19/outdata/out_GSR.nc</th>\n",
       "      <td>H2</td>\n",
       "      <td>2</td>\n",
       "      <td>90.0</td>\n",
       "      <td>90.0</td>\n",
       "      <td>90.0</td>\n",
       "      <td>5.291772</td>\n",
       "      <td>5.291772</td>\n",
       "      <td>5.291772</td>\n",
       "      <td>148.184711</td>\n",
       "      <td>123</td>\n",
       "      <td>...</td>\n",
       "      <td>-29.577707</td>\n",
       "      <td>-2.367714</td>\n",
       "      <td>3.356837</td>\n",
       "      <td>10.0</td>\n",
       "      <td>-1.0</td>\n",
       "      <td>0.01</td>\n",
       "      <td>1</td>\n",
       "      <td>1</td>\n",
       "      <td>1</td>\n",
       "      <td>1</td>\n",
       "    </tr>\n",
       "    <tr>\n",
       "      <th>w0/t2/outdata/out_GSR.nc</th>\n",
       "      <td>H2</td>\n",
       "      <td>2</td>\n",
       "      <td>90.0</td>\n",
       "      <td>90.0</td>\n",
       "      <td>90.0</td>\n",
       "      <td>5.291772</td>\n",
       "      <td>5.291772</td>\n",
       "      <td>5.291772</td>\n",
       "      <td>148.184711</td>\n",
       "      <td>123</td>\n",
       "      <td>...</td>\n",
       "      <td>-29.079272</td>\n",
       "      <td>1.463278</td>\n",
       "      <td>12.125932</td>\n",
       "      <td>10.0</td>\n",
       "      <td>-1.0</td>\n",
       "      <td>0.01</td>\n",
       "      <td>1</td>\n",
       "      <td>1</td>\n",
       "      <td>1</td>\n",
       "      <td>1</td>\n",
       "    </tr>\n",
       "    <tr>\n",
       "      <th>w0/t20/outdata/out_GSR.nc</th>\n",
       "      <td>H2</td>\n",
       "      <td>2</td>\n",
       "      <td>90.0</td>\n",
       "      <td>90.0</td>\n",
       "      <td>90.0</td>\n",
       "      <td>5.291772</td>\n",
       "      <td>5.291772</td>\n",
       "      <td>5.291772</td>\n",
       "      <td>148.184711</td>\n",
       "      <td>123</td>\n",
       "      <td>...</td>\n",
       "      <td>-29.482112</td>\n",
       "      <td>-2.453928</td>\n",
       "      <td>3.520449</td>\n",
       "      <td>10.0</td>\n",
       "      <td>-1.0</td>\n",
       "      <td>0.01</td>\n",
       "      <td>1</td>\n",
       "      <td>1</td>\n",
       "      <td>1</td>\n",
       "      <td>1</td>\n",
       "    </tr>\n",
       "    <tr>\n",
       "      <th>w0/t3/outdata/out_GSR.nc</th>\n",
       "      <td>H2</td>\n",
       "      <td>2</td>\n",
       "      <td>90.0</td>\n",
       "      <td>90.0</td>\n",
       "      <td>90.0</td>\n",
       "      <td>5.291772</td>\n",
       "      <td>5.291772</td>\n",
       "      <td>5.291772</td>\n",
       "      <td>148.184711</td>\n",
       "      <td>123</td>\n",
       "      <td>...</td>\n",
       "      <td>-29.377087</td>\n",
       "      <td>1.016114</td>\n",
       "      <td>9.404751</td>\n",
       "      <td>10.0</td>\n",
       "      <td>-1.0</td>\n",
       "      <td>0.01</td>\n",
       "      <td>1</td>\n",
       "      <td>1</td>\n",
       "      <td>1</td>\n",
       "      <td>1</td>\n",
       "    </tr>\n",
       "    <tr>\n",
       "      <th>w0/t4/outdata/out_GSR.nc</th>\n",
       "      <td>H2</td>\n",
       "      <td>2</td>\n",
       "      <td>90.0</td>\n",
       "      <td>90.0</td>\n",
       "      <td>90.0</td>\n",
       "      <td>5.291772</td>\n",
       "      <td>5.291772</td>\n",
       "      <td>5.291772</td>\n",
       "      <td>148.184711</td>\n",
       "      <td>123</td>\n",
       "      <td>...</td>\n",
       "      <td>-29.606392</td>\n",
       "      <td>0.612993</td>\n",
       "      <td>7.176415</td>\n",
       "      <td>10.0</td>\n",
       "      <td>-1.0</td>\n",
       "      <td>0.01</td>\n",
       "      <td>1</td>\n",
       "      <td>1</td>\n",
       "      <td>1</td>\n",
       "      <td>1</td>\n",
       "    </tr>\n",
       "    <tr>\n",
       "      <th>w0/t5/outdata/out_GSR.nc</th>\n",
       "      <td>H2</td>\n",
       "      <td>2</td>\n",
       "      <td>90.0</td>\n",
       "      <td>90.0</td>\n",
       "      <td>90.0</td>\n",
       "      <td>5.291772</td>\n",
       "      <td>5.291772</td>\n",
       "      <td>5.291772</td>\n",
       "      <td>148.184711</td>\n",
       "      <td>123</td>\n",
       "      <td>...</td>\n",
       "      <td>-29.779514</td>\n",
       "      <td>0.249295</td>\n",
       "      <td>5.346041</td>\n",
       "      <td>10.0</td>\n",
       "      <td>-1.0</td>\n",
       "      <td>0.01</td>\n",
       "      <td>1</td>\n",
       "      <td>1</td>\n",
       "      <td>1</td>\n",
       "      <td>1</td>\n",
       "    </tr>\n",
       "    <tr>\n",
       "      <th>w0/t6/outdata/out_GSR.nc</th>\n",
       "      <td>H2</td>\n",
       "      <td>2</td>\n",
       "      <td>90.0</td>\n",
       "      <td>90.0</td>\n",
       "      <td>90.0</td>\n",
       "      <td>5.291772</td>\n",
       "      <td>5.291772</td>\n",
       "      <td>5.291772</td>\n",
       "      <td>148.184711</td>\n",
       "      <td>123</td>\n",
       "      <td>...</td>\n",
       "      <td>-29.906409</td>\n",
       "      <td>-0.079134</td>\n",
       "      <td>3.837290</td>\n",
       "      <td>10.0</td>\n",
       "      <td>-1.0</td>\n",
       "      <td>0.01</td>\n",
       "      <td>1</td>\n",
       "      <td>1</td>\n",
       "      <td>1</td>\n",
       "      <td>1</td>\n",
       "    </tr>\n",
       "    <tr>\n",
       "      <th>w0/t7/outdata/out_GSR.nc</th>\n",
       "      <td>H2</td>\n",
       "      <td>2</td>\n",
       "      <td>90.0</td>\n",
       "      <td>90.0</td>\n",
       "      <td>90.0</td>\n",
       "      <td>5.291772</td>\n",
       "      <td>5.291772</td>\n",
       "      <td>5.291772</td>\n",
       "      <td>148.184711</td>\n",
       "      <td>123</td>\n",
       "      <td>...</td>\n",
       "      <td>-29.995127</td>\n",
       "      <td>-0.375908</td>\n",
       "      <td>2.588480</td>\n",
       "      <td>10.0</td>\n",
       "      <td>-1.0</td>\n",
       "      <td>0.01</td>\n",
       "      <td>1</td>\n",
       "      <td>1</td>\n",
       "      <td>1</td>\n",
       "      <td>1</td>\n",
       "    </tr>\n",
       "    <tr>\n",
       "      <th>w0/t8/outdata/out_GSR.nc</th>\n",
       "      <td>H2</td>\n",
       "      <td>2</td>\n",
       "      <td>90.0</td>\n",
       "      <td>90.0</td>\n",
       "      <td>90.0</td>\n",
       "      <td>5.291772</td>\n",
       "      <td>5.291772</td>\n",
       "      <td>5.291772</td>\n",
       "      <td>148.184711</td>\n",
       "      <td>123</td>\n",
       "      <td>...</td>\n",
       "      <td>-30.052173</td>\n",
       "      <td>-0.644270</td>\n",
       "      <td>1.549818</td>\n",
       "      <td>10.0</td>\n",
       "      <td>-1.0</td>\n",
       "      <td>0.01</td>\n",
       "      <td>1</td>\n",
       "      <td>1</td>\n",
       "      <td>1</td>\n",
       "      <td>1</td>\n",
       "    </tr>\n",
       "    <tr>\n",
       "      <th>w0/t9/outdata/out_GSR.nc</th>\n",
       "      <td>H2</td>\n",
       "      <td>2</td>\n",
       "      <td>90.0</td>\n",
       "      <td>90.0</td>\n",
       "      <td>90.0</td>\n",
       "      <td>5.291772</td>\n",
       "      <td>5.291772</td>\n",
       "      <td>5.291772</td>\n",
       "      <td>148.184711</td>\n",
       "      <td>123</td>\n",
       "      <td>...</td>\n",
       "      <td>-30.082807</td>\n",
       "      <td>-0.887078</td>\n",
       "      <td>0.681054</td>\n",
       "      <td>10.0</td>\n",
       "      <td>-1.0</td>\n",
       "      <td>0.01</td>\n",
       "      <td>1</td>\n",
       "      <td>1</td>\n",
       "      <td>1</td>\n",
       "      <td>1</td>\n",
       "    </tr>\n",
       "  </tbody>\n",
       "</table>\n",
       "<p>21 rows × 23 columns</p>\n",
       "</div>"
      ],
      "text/plain": [
       "                          formula  natom  alpha  beta  gamma         a  \\\n",
       "w0/t0/outdata/out_GSR.nc       H2      2   90.0  90.0   90.0  5.291772   \n",
       "w0/t1/outdata/out_GSR.nc       H2      2   90.0  90.0   90.0  5.291772   \n",
       "w0/t10/outdata/out_GSR.nc      H2      2   90.0  90.0   90.0  5.291772   \n",
       "w0/t11/outdata/out_GSR.nc      H2      2   90.0  90.0   90.0  5.291772   \n",
       "w0/t12/outdata/out_GSR.nc      H2      2   90.0  90.0   90.0  5.291772   \n",
       "w0/t13/outdata/out_GSR.nc      H2      2   90.0  90.0   90.0  5.291772   \n",
       "w0/t14/outdata/out_GSR.nc      H2      2   90.0  90.0   90.0  5.291772   \n",
       "w0/t15/outdata/out_GSR.nc      H2      2   90.0  90.0   90.0  5.291772   \n",
       "w0/t16/outdata/out_GSR.nc      H2      2   90.0  90.0   90.0  5.291772   \n",
       "w0/t17/outdata/out_GSR.nc      H2      2   90.0  90.0   90.0  5.291772   \n",
       "w0/t18/outdata/out_GSR.nc      H2      2   90.0  90.0   90.0  5.291772   \n",
       "w0/t19/outdata/out_GSR.nc      H2      2   90.0  90.0   90.0  5.291772   \n",
       "w0/t2/outdata/out_GSR.nc       H2      2   90.0  90.0   90.0  5.291772   \n",
       "w0/t20/outdata/out_GSR.nc      H2      2   90.0  90.0   90.0  5.291772   \n",
       "w0/t3/outdata/out_GSR.nc       H2      2   90.0  90.0   90.0  5.291772   \n",
       "w0/t4/outdata/out_GSR.nc       H2      2   90.0  90.0   90.0  5.291772   \n",
       "w0/t5/outdata/out_GSR.nc       H2      2   90.0  90.0   90.0  5.291772   \n",
       "w0/t6/outdata/out_GSR.nc       H2      2   90.0  90.0   90.0  5.291772   \n",
       "w0/t7/outdata/out_GSR.nc       H2      2   90.0  90.0   90.0  5.291772   \n",
       "w0/t8/outdata/out_GSR.nc       H2      2   90.0  90.0   90.0  5.291772   \n",
       "w0/t9/outdata/out_GSR.nc       H2      2   90.0  90.0   90.0  5.291772   \n",
       "\n",
       "                                  b         c      volume abispg_num   ...    \\\n",
       "w0/t0/outdata/out_GSR.nc   5.291772  5.291772  148.184711        123   ...     \n",
       "w0/t1/outdata/out_GSR.nc   5.291772  5.291772  148.184711        123   ...     \n",
       "w0/t10/outdata/out_GSR.nc  5.291772  5.291772  148.184711        123   ...     \n",
       "w0/t11/outdata/out_GSR.nc  5.291772  5.291772  148.184711        123   ...     \n",
       "w0/t12/outdata/out_GSR.nc  5.291772  5.291772  148.184711        123   ...     \n",
       "w0/t13/outdata/out_GSR.nc  5.291772  5.291772  148.184711        123   ...     \n",
       "w0/t14/outdata/out_GSR.nc  5.291772  5.291772  148.184711        123   ...     \n",
       "w0/t15/outdata/out_GSR.nc  5.291772  5.291772  148.184711        123   ...     \n",
       "w0/t16/outdata/out_GSR.nc  5.291772  5.291772  148.184711        123   ...     \n",
       "w0/t17/outdata/out_GSR.nc  5.291772  5.291772  148.184711        123   ...     \n",
       "w0/t18/outdata/out_GSR.nc  5.291772  5.291772  148.184711        123   ...     \n",
       "w0/t19/outdata/out_GSR.nc  5.291772  5.291772  148.184711        123   ...     \n",
       "w0/t2/outdata/out_GSR.nc   5.291772  5.291772  148.184711        123   ...     \n",
       "w0/t20/outdata/out_GSR.nc  5.291772  5.291772  148.184711        123   ...     \n",
       "w0/t3/outdata/out_GSR.nc   5.291772  5.291772  148.184711        123   ...     \n",
       "w0/t4/outdata/out_GSR.nc   5.291772  5.291772  148.184711        123   ...     \n",
       "w0/t5/outdata/out_GSR.nc   5.291772  5.291772  148.184711        123   ...     \n",
       "w0/t6/outdata/out_GSR.nc   5.291772  5.291772  148.184711        123   ...     \n",
       "w0/t7/outdata/out_GSR.nc   5.291772  5.291772  148.184711        123   ...     \n",
       "w0/t8/outdata/out_GSR.nc   5.291772  5.291772  148.184711        123   ...     \n",
       "w0/t9/outdata/out_GSR.nc   5.291772  5.291772  148.184711        123   ...     \n",
       "\n",
       "                              energy  pressure  max_force  ecut  pawecutdg  \\\n",
       "w0/t0/outdata/out_GSR.nc  -28.213374  2.513188  19.547797  10.0       -1.0   \n",
       "w0/t1/outdata/out_GSR.nc  -28.697681  1.960239  15.457585  10.0       -1.0   \n",
       "w0/t10/outdata/out_GSR.nc -30.091282 -1.106892   0.050198  10.0       -1.0   \n",
       "w0/t11/outdata/out_GSR.nc -30.081045 -1.306064   0.669857  10.0       -1.0   \n",
       "w0/t12/outdata/out_GSR.nc -30.054897 -1.486643   1.198657  10.0       -1.0   \n",
       "w0/t13/outdata/out_GSR.nc -30.015128 -1.650521   1.652942  10.0       -1.0   \n",
       "w0/t14/outdata/out_GSR.nc -29.963621 -1.799429   2.045489  10.0       -1.0   \n",
       "w0/t15/outdata/out_GSR.nc -29.901949 -1.934773   2.386232  10.0       -1.0   \n",
       "w0/t16/outdata/out_GSR.nc -29.831440 -2.058169   2.682742  10.0       -1.0   \n",
       "w0/t17/outdata/out_GSR.nc -29.753241 -2.170734   2.940714  10.0       -1.0   \n",
       "w0/t18/outdata/out_GSR.nc -29.668361 -2.273618   3.164346  10.0       -1.0   \n",
       "w0/t19/outdata/out_GSR.nc -29.577707 -2.367714   3.356837  10.0       -1.0   \n",
       "w0/t2/outdata/out_GSR.nc  -29.079272  1.463278  12.125932  10.0       -1.0   \n",
       "w0/t20/outdata/out_GSR.nc -29.482112 -2.453928   3.520449  10.0       -1.0   \n",
       "w0/t3/outdata/out_GSR.nc  -29.377087  1.016114   9.404751  10.0       -1.0   \n",
       "w0/t4/outdata/out_GSR.nc  -29.606392  0.612993   7.176415  10.0       -1.0   \n",
       "w0/t5/outdata/out_GSR.nc  -29.779514  0.249295   5.346041  10.0       -1.0   \n",
       "w0/t6/outdata/out_GSR.nc  -29.906409 -0.079134   3.837290  10.0       -1.0   \n",
       "w0/t7/outdata/out_GSR.nc  -29.995127 -0.375908   2.588480  10.0       -1.0   \n",
       "w0/t8/outdata/out_GSR.nc  -30.052173 -0.644270   1.549818  10.0       -1.0   \n",
       "w0/t9/outdata/out_GSR.nc  -30.082807 -0.887078   0.681054  10.0       -1.0   \n",
       "\n",
       "                           tsmear  nkpt  nsppol  nspinor  nspden  \n",
       "w0/t0/outdata/out_GSR.nc     0.01     1       1        1       1  \n",
       "w0/t1/outdata/out_GSR.nc     0.01     1       1        1       1  \n",
       "w0/t10/outdata/out_GSR.nc    0.01     1       1        1       1  \n",
       "w0/t11/outdata/out_GSR.nc    0.01     1       1        1       1  \n",
       "w0/t12/outdata/out_GSR.nc    0.01     1       1        1       1  \n",
       "w0/t13/outdata/out_GSR.nc    0.01     1       1        1       1  \n",
       "w0/t14/outdata/out_GSR.nc    0.01     1       1        1       1  \n",
       "w0/t15/outdata/out_GSR.nc    0.01     1       1        1       1  \n",
       "w0/t16/outdata/out_GSR.nc    0.01     1       1        1       1  \n",
       "w0/t17/outdata/out_GSR.nc    0.01     1       1        1       1  \n",
       "w0/t18/outdata/out_GSR.nc    0.01     1       1        1       1  \n",
       "w0/t19/outdata/out_GSR.nc    0.01     1       1        1       1  \n",
       "w0/t2/outdata/out_GSR.nc     0.01     1       1        1       1  \n",
       "w0/t20/outdata/out_GSR.nc    0.01     1       1        1       1  \n",
       "w0/t3/outdata/out_GSR.nc     0.01     1       1        1       1  \n",
       "w0/t4/outdata/out_GSR.nc     0.01     1       1        1       1  \n",
       "w0/t5/outdata/out_GSR.nc     0.01     1       1        1       1  \n",
       "w0/t6/outdata/out_GSR.nc     0.01     1       1        1       1  \n",
       "w0/t7/outdata/out_GSR.nc     0.01     1       1        1       1  \n",
       "w0/t8/outdata/out_GSR.nc     0.01     1       1        1       1  \n",
       "w0/t9/outdata/out_GSR.nc     0.01     1       1        1       1  \n",
       "\n",
       "[21 rows x 23 columns]"
      ]
     },
     "execution_count": 21,
     "metadata": {},
     "output_type": "execute_result"
    }
   ],
   "source": [
    "table"
   ]
  },
  {
   "cell_type": "markdown",
   "metadata": {},
   "source": [
    "Great! We managed to get a nice table with lot of useful results with just 3 lines of code and the robot!\n",
    "There are however two problems:\n",
    "    \n",
    "   - The rows of the table are not ordered by increasing H-H distance (files are sorted alphabetically)\n",
    "   \n",
    "   - Our dataframe contains the energy of the different configurations but we would like to plot the energy \n",
    "     as a function of the H-H distance\n",
    "   \n",
    "Well, robots can do a lot of hard work but they are a little bit stupid so \n",
    "we have to tell them what to do with the data. \n",
    "More specifically we need a way to tell the robot that, for each `GSR` file, it should get the crystalline \n",
    "structure, compute the distance between the first and the second atom and insert the result \n",
    "in our table in a given column.\n",
    "This kind of tasks are usually executed with `callbacks` i.e. functions that are passed in input\n",
    "and **automatically executed** by the framework at runtime. \n",
    "\n",
    "<img src=\"https://github.com/abinit/abipy_assets/blob/master/caution-machine_has_no_brain.jpg?raw=true\" alt=\"\">\n",
    "\n",
    "Let's look at the documentation of `robot.get_dataframe`:"
   ]
  },
  {
   "cell_type": "code",
   "execution_count": 22,
   "metadata": {},
   "outputs": [
    {
     "data": {
      "text/html": [
       "<!DOCTYPE html PUBLIC \"-//W3C//DTD HTML 4.01//EN\"\n",
       "   \"http://www.w3.org/TR/html4/strict.dtd\">\n",
       "\n",
       "<html>\n",
       "<head>\n",
       "  <title></title>\n",
       "  <meta http-equiv=\"content-type\" content=\"text/html; charset=None\">\n",
       "  <style type=\"text/css\">\n",
       "td.linenos { background-color: #f0f0f0; padding-right: 10px; }\n",
       "span.lineno { background-color: #f0f0f0; padding: 0 5px 0 5px; }\n",
       "pre { line-height: 125%; }\n",
       "body .hll { background-color: #ffffcc }\n",
       "body  { background: #f8f8f8; }\n",
       "body .c { color: #408080; font-style: italic } /* Comment */\n",
       "body .err { border: 1px solid #FF0000 } /* Error */\n",
       "body .k { color: #008000; font-weight: bold } /* Keyword */\n",
       "body .o { color: #666666 } /* Operator */\n",
       "body .ch { color: #408080; font-style: italic } /* Comment.Hashbang */\n",
       "body .cm { color: #408080; font-style: italic } /* Comment.Multiline */\n",
       "body .cp { color: #BC7A00 } /* Comment.Preproc */\n",
       "body .cpf { color: #408080; font-style: italic } /* Comment.PreprocFile */\n",
       "body .c1 { color: #408080; font-style: italic } /* Comment.Single */\n",
       "body .cs { color: #408080; font-style: italic } /* Comment.Special */\n",
       "body .gd { color: #A00000 } /* Generic.Deleted */\n",
       "body .ge { font-style: italic } /* Generic.Emph */\n",
       "body .gr { color: #FF0000 } /* Generic.Error */\n",
       "body .gh { color: #000080; font-weight: bold } /* Generic.Heading */\n",
       "body .gi { color: #00A000 } /* Generic.Inserted */\n",
       "body .go { color: #888888 } /* Generic.Output */\n",
       "body .gp { color: #000080; font-weight: bold } /* Generic.Prompt */\n",
       "body .gs { font-weight: bold } /* Generic.Strong */\n",
       "body .gu { color: #800080; font-weight: bold } /* Generic.Subheading */\n",
       "body .gt { color: #0044DD } /* Generic.Traceback */\n",
       "body .kc { color: #008000; font-weight: bold } /* Keyword.Constant */\n",
       "body .kd { color: #008000; font-weight: bold } /* Keyword.Declaration */\n",
       "body .kn { color: #008000; font-weight: bold } /* Keyword.Namespace */\n",
       "body .kp { color: #008000 } /* Keyword.Pseudo */\n",
       "body .kr { color: #008000; font-weight: bold } /* Keyword.Reserved */\n",
       "body .kt { color: #B00040 } /* Keyword.Type */\n",
       "body .m { color: #666666 } /* Literal.Number */\n",
       "body .s { color: #BA2121 } /* Literal.String */\n",
       "body .na { color: #7D9029 } /* Name.Attribute */\n",
       "body .nb { color: #008000 } /* Name.Builtin */\n",
       "body .nc { color: #0000FF; font-weight: bold } /* Name.Class */\n",
       "body .no { color: #880000 } /* Name.Constant */\n",
       "body .nd { color: #AA22FF } /* Name.Decorator */\n",
       "body .ni { color: #999999; font-weight: bold } /* Name.Entity */\n",
       "body .ne { color: #D2413A; font-weight: bold } /* Name.Exception */\n",
       "body .nf { color: #0000FF } /* Name.Function */\n",
       "body .nl { color: #A0A000 } /* Name.Label */\n",
       "body .nn { color: #0000FF; font-weight: bold } /* Name.Namespace */\n",
       "body .nt { color: #008000; font-weight: bold } /* Name.Tag */\n",
       "body .nv { color: #19177C } /* Name.Variable */\n",
       "body .ow { color: #AA22FF; font-weight: bold } /* Operator.Word */\n",
       "body .w { color: #bbbbbb } /* Text.Whitespace */\n",
       "body .mb { color: #666666 } /* Literal.Number.Bin */\n",
       "body .mf { color: #666666 } /* Literal.Number.Float */\n",
       "body .mh { color: #666666 } /* Literal.Number.Hex */\n",
       "body .mi { color: #666666 } /* Literal.Number.Integer */\n",
       "body .mo { color: #666666 } /* Literal.Number.Oct */\n",
       "body .sa { color: #BA2121 } /* Literal.String.Affix */\n",
       "body .sb { color: #BA2121 } /* Literal.String.Backtick */\n",
       "body .sc { color: #BA2121 } /* Literal.String.Char */\n",
       "body .dl { color: #BA2121 } /* Literal.String.Delimiter */\n",
       "body .sd { color: #BA2121; font-style: italic } /* Literal.String.Doc */\n",
       "body .s2 { color: #BA2121 } /* Literal.String.Double */\n",
       "body .se { color: #BB6622; font-weight: bold } /* Literal.String.Escape */\n",
       "body .sh { color: #BA2121 } /* Literal.String.Heredoc */\n",
       "body .si { color: #BB6688; font-weight: bold } /* Literal.String.Interpol */\n",
       "body .sx { color: #008000 } /* Literal.String.Other */\n",
       "body .sr { color: #BB6688 } /* Literal.String.Regex */\n",
       "body .s1 { color: #BA2121 } /* Literal.String.Single */\n",
       "body .ss { color: #19177C } /* Literal.String.Symbol */\n",
       "body .bp { color: #008000 } /* Name.Builtin.Pseudo */\n",
       "body .fm { color: #0000FF } /* Name.Function.Magic */\n",
       "body .vc { color: #19177C } /* Name.Variable.Class */\n",
       "body .vg { color: #19177C } /* Name.Variable.Global */\n",
       "body .vi { color: #19177C } /* Name.Variable.Instance */\n",
       "body .vm { color: #19177C } /* Name.Variable.Magic */\n",
       "body .il { color: #666666 } /* Literal.Number.Integer.Long */\n",
       "\n",
       "  </style>\n",
       "</head>\n",
       "<body>\n",
       "<h2></h2>\n",
       "\n",
       "<div class=\"highlight\"><pre><span></span>    <span class=\"k\">def</span> <span class=\"nf\">get_dataframe</span><span class=\"p\">(</span><span class=\"bp\">self</span><span class=\"p\">,</span> <span class=\"n\">with_geo</span><span class=\"o\">=</span><span class=\"bp\">True</span><span class=\"p\">,</span> <span class=\"n\">abspath</span><span class=\"o\">=</span><span class=\"bp\">False</span><span class=\"p\">,</span> <span class=\"n\">funcs</span><span class=\"o\">=</span><span class=\"bp\">None</span><span class=\"p\">,</span> <span class=\"o\">**</span><span class=\"n\">kwargs</span><span class=\"p\">):</span>\n",
       "        <span class=\"sd\">&quot;&quot;&quot;</span>\n",
       "<span class=\"sd\">        Return a |pandas-DataFrame| with the most important GS results.</span>\n",
       "<span class=\"sd\">        and the filenames as index.</span>\n",
       "\n",
       "<span class=\"sd\">        Args:</span>\n",
       "<span class=\"sd\">            with_geo: True if structure info should be added to the dataframe</span>\n",
       "<span class=\"sd\">            abspath: True if paths in index should be absolute. Default: Relative to getcwd().</span>\n",
       "\n",
       "<span class=\"sd\">        kwargs:</span>\n",
       "<span class=\"sd\">            attrs:</span>\n",
       "<span class=\"sd\">                List of additional attributes of the |GsrFile| to add to the DataFrame.</span>\n",
       "<span class=\"sd\">            funcs: Function or list of functions to execute to add more data to the DataFrame.</span>\n",
       "<span class=\"sd\">                Each function receives a |GsrFile| object and returns a tuple (key, value)</span>\n",
       "<span class=\"sd\">                where key is a string with the name of column and value is the value to be inserted.</span>\n",
       "<span class=\"sd\">        &quot;&quot;&quot;</span>\n",
       "</pre></div>\n",
       "</body>\n",
       "</html>\n"
      ],
      "text/plain": [
       "<IPython.core.display.HTML object>"
      ]
     },
     "execution_count": 22,
     "metadata": {},
     "output_type": "execute_result"
    }
   ],
   "source": [
    "abilab.print_doc(robot.get_dataframe)"
   ]
  },
  {
   "cell_type": "markdown",
   "metadata": {},
   "source": [
    "It seems complicated but the actual implementation of the callback is just three lines of code:"
   ]
  },
  {
   "cell_type": "code",
   "execution_count": 23,
   "metadata": {
    "code_folding": [],
    "run_control": {
     "marked": true
    },
    "slideshow": {
     "slide_type": "-"
    }
   },
   "outputs": [],
   "source": [
    "def hh_dist(gsr):\n",
    "    \"\"\"\n",
    "    This callback receives a GSR file and computes the H-H distance.\n",
    "    The robot will call this function to compute the H-H distance, \n",
    "    and return a (key, value) tuple that will be inserted in the pandas DataFrame.\n",
    "    \"\"\"\n",
    "    cart_coords = gsr.structure.cart_coords\n",
    "    d = np.linalg.norm(cart_coords[1] - cart_coords[0])\n",
    "    return \"hh_dist\", d\n",
    "\n",
    "with abilab.GsrRobot.from_dir(\"flow_h2\") as robot:\n",
    "    table = robot.get_dataframe(funcs=hh_dist)\n",
    "    table = table.sort_values(by=\"hh_dist\")  "
   ]
  },
  {
   "cell_type": "markdown",
   "metadata": {},
   "source": [
    "As expected, now the table contains a new column with `hh_dist` in Angstrom:"
   ]
  },
  {
   "cell_type": "code",
   "execution_count": 24,
   "metadata": {},
   "outputs": [
    {
     "data": {
      "text/plain": [
       "True"
      ]
     },
     "execution_count": 24,
     "metadata": {},
     "output_type": "execute_result"
    }
   ],
   "source": [
    "\"hh_dist\" in table"
   ]
  },
  {
   "cell_type": "markdown",
   "metadata": {},
   "source": [
    "Let's print the two columns with the H-H distance and the total energy:"
   ]
  },
  {
   "cell_type": "code",
   "execution_count": 25,
   "metadata": {},
   "outputs": [
    {
     "data": {
      "text/html": [
       "<div>\n",
       "<style scoped>\n",
       "    .dataframe tbody tr th:only-of-type {\n",
       "        vertical-align: middle;\n",
       "    }\n",
       "\n",
       "    .dataframe tbody tr th {\n",
       "        vertical-align: top;\n",
       "    }\n",
       "\n",
       "    .dataframe thead th {\n",
       "        text-align: right;\n",
       "    }\n",
       "</style>\n",
       "<table border=\"1\" class=\"dataframe\">\n",
       "  <thead>\n",
       "    <tr style=\"text-align: right;\">\n",
       "      <th></th>\n",
       "      <th>hh_dist</th>\n",
       "      <th>energy</th>\n",
       "    </tr>\n",
       "  </thead>\n",
       "  <tbody>\n",
       "    <tr>\n",
       "      <th>w0/t0/outdata/out_GSR.nc</th>\n",
       "      <td>0.529177</td>\n",
       "      <td>-28.213374</td>\n",
       "    </tr>\n",
       "    <tr>\n",
       "      <th>w0/t1/outdata/out_GSR.nc</th>\n",
       "      <td>0.556959</td>\n",
       "      <td>-28.697681</td>\n",
       "    </tr>\n",
       "    <tr>\n",
       "      <th>w0/t2/outdata/out_GSR.nc</th>\n",
       "      <td>0.584741</td>\n",
       "      <td>-29.079272</td>\n",
       "    </tr>\n",
       "    <tr>\n",
       "      <th>w0/t3/outdata/out_GSR.nc</th>\n",
       "      <td>0.612523</td>\n",
       "      <td>-29.377087</td>\n",
       "    </tr>\n",
       "    <tr>\n",
       "      <th>w0/t4/outdata/out_GSR.nc</th>\n",
       "      <td>0.640304</td>\n",
       "      <td>-29.606392</td>\n",
       "    </tr>\n",
       "    <tr>\n",
       "      <th>w0/t5/outdata/out_GSR.nc</th>\n",
       "      <td>0.668086</td>\n",
       "      <td>-29.779514</td>\n",
       "    </tr>\n",
       "    <tr>\n",
       "      <th>w0/t6/outdata/out_GSR.nc</th>\n",
       "      <td>0.695868</td>\n",
       "      <td>-29.906409</td>\n",
       "    </tr>\n",
       "    <tr>\n",
       "      <th>w0/t7/outdata/out_GSR.nc</th>\n",
       "      <td>0.723650</td>\n",
       "      <td>-29.995127</td>\n",
       "    </tr>\n",
       "    <tr>\n",
       "      <th>w0/t8/outdata/out_GSR.nc</th>\n",
       "      <td>0.751432</td>\n",
       "      <td>-30.052173</td>\n",
       "    </tr>\n",
       "    <tr>\n",
       "      <th>w0/t9/outdata/out_GSR.nc</th>\n",
       "      <td>0.779213</td>\n",
       "      <td>-30.082807</td>\n",
       "    </tr>\n",
       "    <tr>\n",
       "      <th>w0/t10/outdata/out_GSR.nc</th>\n",
       "      <td>0.806995</td>\n",
       "      <td>-30.091282</td>\n",
       "    </tr>\n",
       "    <tr>\n",
       "      <th>w0/t11/outdata/out_GSR.nc</th>\n",
       "      <td>0.834777</td>\n",
       "      <td>-30.081045</td>\n",
       "    </tr>\n",
       "    <tr>\n",
       "      <th>w0/t12/outdata/out_GSR.nc</th>\n",
       "      <td>0.862559</td>\n",
       "      <td>-30.054897</td>\n",
       "    </tr>\n",
       "    <tr>\n",
       "      <th>w0/t13/outdata/out_GSR.nc</th>\n",
       "      <td>0.890341</td>\n",
       "      <td>-30.015128</td>\n",
       "    </tr>\n",
       "    <tr>\n",
       "      <th>w0/t14/outdata/out_GSR.nc</th>\n",
       "      <td>0.918122</td>\n",
       "      <td>-29.963621</td>\n",
       "    </tr>\n",
       "    <tr>\n",
       "      <th>w0/t15/outdata/out_GSR.nc</th>\n",
       "      <td>0.945904</td>\n",
       "      <td>-29.901949</td>\n",
       "    </tr>\n",
       "    <tr>\n",
       "      <th>w0/t16/outdata/out_GSR.nc</th>\n",
       "      <td>0.973686</td>\n",
       "      <td>-29.831440</td>\n",
       "    </tr>\n",
       "    <tr>\n",
       "      <th>w0/t17/outdata/out_GSR.nc</th>\n",
       "      <td>1.001468</td>\n",
       "      <td>-29.753241</td>\n",
       "    </tr>\n",
       "    <tr>\n",
       "      <th>w0/t18/outdata/out_GSR.nc</th>\n",
       "      <td>1.029250</td>\n",
       "      <td>-29.668361</td>\n",
       "    </tr>\n",
       "    <tr>\n",
       "      <th>w0/t19/outdata/out_GSR.nc</th>\n",
       "      <td>1.057031</td>\n",
       "      <td>-29.577707</td>\n",
       "    </tr>\n",
       "    <tr>\n",
       "      <th>w0/t20/outdata/out_GSR.nc</th>\n",
       "      <td>1.084813</td>\n",
       "      <td>-29.482112</td>\n",
       "    </tr>\n",
       "  </tbody>\n",
       "</table>\n",
       "</div>"
      ],
      "text/plain": [
       "                            hh_dist     energy\n",
       "w0/t0/outdata/out_GSR.nc   0.529177 -28.213374\n",
       "w0/t1/outdata/out_GSR.nc   0.556959 -28.697681\n",
       "w0/t2/outdata/out_GSR.nc   0.584741 -29.079272\n",
       "w0/t3/outdata/out_GSR.nc   0.612523 -29.377087\n",
       "w0/t4/outdata/out_GSR.nc   0.640304 -29.606392\n",
       "w0/t5/outdata/out_GSR.nc   0.668086 -29.779514\n",
       "w0/t6/outdata/out_GSR.nc   0.695868 -29.906409\n",
       "w0/t7/outdata/out_GSR.nc   0.723650 -29.995127\n",
       "w0/t8/outdata/out_GSR.nc   0.751432 -30.052173\n",
       "w0/t9/outdata/out_GSR.nc   0.779213 -30.082807\n",
       "w0/t10/outdata/out_GSR.nc  0.806995 -30.091282\n",
       "w0/t11/outdata/out_GSR.nc  0.834777 -30.081045\n",
       "w0/t12/outdata/out_GSR.nc  0.862559 -30.054897\n",
       "w0/t13/outdata/out_GSR.nc  0.890341 -30.015128\n",
       "w0/t14/outdata/out_GSR.nc  0.918122 -29.963621\n",
       "w0/t15/outdata/out_GSR.nc  0.945904 -29.901949\n",
       "w0/t16/outdata/out_GSR.nc  0.973686 -29.831440\n",
       "w0/t17/outdata/out_GSR.nc  1.001468 -29.753241\n",
       "w0/t18/outdata/out_GSR.nc  1.029250 -29.668361\n",
       "w0/t19/outdata/out_GSR.nc  1.057031 -29.577707\n",
       "w0/t20/outdata/out_GSR.nc  1.084813 -29.482112"
      ]
     },
     "execution_count": 25,
     "metadata": {},
     "output_type": "execute_result"
    }
   ],
   "source": [
    "table[[\"hh_dist\", \"energy\"]]"
   ]
  },
  {
   "cell_type": "markdown",
   "metadata": {},
   "source": [
    "Note that the energy in our `DataFrame` is given in eV to facilitate the integration \n",
    "with `pymatgen` that uses eV for energies and Angstrom for lengths.\n",
    "Let's add another column to our table with energies in Hartree:"
   ]
  },
  {
   "cell_type": "code",
   "execution_count": 26,
   "metadata": {},
   "outputs": [],
   "source": [
    "table[\"energy_Ha\"] = table[\"energy\"] * abilab.units.eV_to_Ha"
   ]
  },
  {
   "cell_type": "markdown",
   "metadata": {},
   "source": [
    "and use the `plot` method of pandas `DataFrames` to plot `energy_Ha` vs `hh_dist`  "
   ]
  },
  {
   "cell_type": "code",
   "execution_count": 27,
   "metadata": {},
   "outputs": [
    {
     "data": {
      "image/png": "[encoded data removed]",
      "text/plain": [
       "<Figure size 432x288 with 1 Axes>"
      ]
     },
     "metadata": {},
     "output_type": "display_data"
    }
   ],
   "source": [
    "table.plot(x=\"hh_dist\", y=\"energy_Ha\", style=\"-o\");"
   ]
  },
  {
   "cell_type": "markdown",
   "metadata": {},
   "source": [
    "At this point, it should be clear that to plot the maximum of the forces as a function of the H-H distance\n",
    "we just need:"
   ]
  },
  {
   "cell_type": "code",
   "execution_count": 28,
   "metadata": {},
   "outputs": [
    {
     "data": {
      "image/png": "[encoded data removed]",
      "text/plain": [
       "<Figure size 432x288 with 1 Axes>"
      ]
     },
     "metadata": {},
     "output_type": "display_data"
    }
   ],
   "source": [
    "table.plot(x=\"hh_dist\", y=\"max_force\", style=\"-o\");"
   ]
  },
  {
   "cell_type": "markdown",
   "metadata": {},
   "source": [
    "Want to plot the two quantities on the same figure?"
   ]
  },
  {
   "cell_type": "code",
   "execution_count": 29,
   "metadata": {},
   "outputs": [
    {
     "data": {
      "image/png": "[encoded data removed]",
      "text/plain": [
       "<Figure size 432x288 with 2 Axes>"
      ]
     },
     "metadata": {},
     "output_type": "display_data"
    }
   ],
   "source": [
    "table.plot(x=\"hh_dist\", y=[\"energy_Ha\", \"max_force\"], subplots=True);"
   ]
  },
  {
   "cell_type": "markdown",
   "metadata": {},
   "source": [
    "Your boss understands the data only if it is formatted inside a $\\LaTeX$ tabular environment? "
   ]
  },
  {
   "cell_type": "code",
   "execution_count": 30,
   "metadata": {},
   "outputs": [
    {
     "name": "stdout",
     "output_type": "stream",
     "text": [
      "\\begin{tabular}{lrr}\n",
      "\\toprule\n",
      "{} &   hh\\_dist &     energy \\\\\n",
      "\\midrule\n",
      "w0/t0/outdata/out\\_GSR.nc  &  0.529177 & -28.213374 \\\\\n",
      "w0/t1/outdata/out\\_GSR.nc  &  0.556959 & -28.697681 \\\\\n",
      "w0/t2/outdata/out\\_GSR.nc  &  0.584741 & -29.079272 \\\\\n",
      "w0/t3/outdata/out\\_GSR.nc  &  0.612523 & -29.377087 \\\\\n",
      "w0/t4/outdata/out\\_GSR.nc  &  0.640304 & -29.606392 \\\\\n",
      "w0/t5/outdata/out\\_GSR.nc  &  0.668086 & -29.779514 \\\\\n",
      "w0/t6/outdata/out\\_GSR.nc  &  0.695868 & -29.906409 \\\\\n",
      "w0/t7/outdata/out\\_GSR.nc  &  0.723650 & -29.995127 \\\\\n",
      "w0/t8/outdata/out\\_GSR.nc  &  0.751432 & -30.052173 \\\\\n",
      "w0/t9/outdata/out\\_GSR.nc  &  0.779213 & -30.082807 \\\\\n",
      "w0/t10/outdata/out\\_GSR.nc &  0.806995 & -30.091282 \\\\\n",
      "w0/t11/outdata/out\\_GSR.nc &  0.834777 & -30.081045 \\\\\n",
      "w0/t12/outdata/out\\_GSR.nc &  0.862559 & -30.054897 \\\\\n",
      "w0/t13/outdata/out\\_GSR.nc &  0.890341 & -30.015128 \\\\\n",
      "w0/t14/outdata/out\\_GSR.nc &  0.918122 & -29.963621 \\\\\n",
      "w0/t15/outdata/out\\_GSR.nc &  0.945904 & -29.901949 \\\\\n",
      "w0/t16/outdata/out\\_GSR.nc &  0.973686 & -29.831440 \\\\\n",
      "w0/t17/outdata/out\\_GSR.nc &  1.001468 & -29.753241 \\\\\n",
      "w0/t18/outdata/out\\_GSR.nc &  1.029250 & -29.668361 \\\\\n",
      "w0/t19/outdata/out\\_GSR.nc &  1.057031 & -29.577707 \\\\\n",
      "w0/t20/outdata/out\\_GSR.nc &  1.084813 & -29.482112 \\\\\n",
      "\\bottomrule\n",
      "\\end{tabular}\n",
      "\n"
     ]
    }
   ],
   "source": [
    "print(table[[\"hh_dist\", \"energy\"]].to_latex())"
   ]
  },
  {
   "cell_type": "markdown",
   "metadata": {},
   "source": [
    "Need to send data to Windows users?"
   ]
  },
  {
   "cell_type": "code",
   "execution_count": 31,
   "metadata": {},
   "outputs": [],
   "source": [
    "#table.to_excel(\"'output.xlsx\")"
   ]
  },
  {
   "cell_type": "markdown",
   "metadata": {},
   "source": [
    "Want to copy the dataframe to the system clipboard so that one can easily past the data into an other applications e.g. Excel?"
   ]
  },
  {
   "cell_type": "code",
   "execution_count": 32,
   "metadata": {},
   "outputs": [],
   "source": [
    "#table.to_clipboard()"
   ]
  },
  {
   "cell_type": "markdown",
   "metadata": {},
   "source": [
    "## Analysis of the charge density \n",
    "[[back to top](#top)]\n",
    "\n",
    "The `DEN.nc` file stores the density in real space on the FFT mesh.\n",
    "A `DEN.nc` file *has* a `structure`, and an `ebands` object with the electronic eigenvalues/occupations \n",
    "and a `Density` object with $n(r)$ (numpy array `.datar`) and $n(G)$ (`.datag`). \n",
    "\n",
    "Let's open the file with `abiopen` and print it:"
   ]
  },
  {
   "cell_type": "code",
   "execution_count": 33,
   "metadata": {},
   "outputs": [
    {
     "name": "stdout",
     "output_type": "stream",
     "text": [
      "================================= File Info =================================\n",
      "Name: out_DEN.nc\n",
      "Directory: /Users/gmatteo/git_repos/abitutorials/abitutorials/base1/flow_h2/w0/t10/outdata\n",
      "Size: 217.43 kb\n",
      "Access Time: Sun Aug 12 00:14:57 2018\n",
      "Modification Time: Tue Oct 10 21:27:37 2017\n",
      "Change Time: Tue Oct 10 21:27:37 2017\n",
      "\n",
      "================================= Structure =================================\n",
      "Full Formula (H2)\n",
      "Reduced Formula: H2\n",
      "abc   :   5.291772   5.291772   5.291772\n",
      "angles:  90.000000  90.000000  90.000000\n",
      "Sites (2)\n",
      "  #  SP           a    b    c\n",
      "---  ----  --------  ---  ---\n",
      "  0  H     -0.07625    0    0\n",
      "  1  H      0.07625    0    0\n",
      "\n",
      "Abinit Spacegroup: spgid: 123, num_spatial_symmetries: 16, has_timerev: True, symmorphic: False\n",
      "\n",
      "============================== Electronic Bands ==============================\n",
      "Number of electrons: 2.0, Fermi level: -9.658 (eV)\n",
      "nsppol: 1, nkpt: 1, mband: 1, nspinor: 1, nspden: 1\n",
      "smearing scheme: none, tsmear_eV: 0.272, occopt: 1\n",
      "Bandwidth: 0.000 (eV)\n",
      "Valence maximum located at:\n",
      "    spin=0, kpt=[+0.000, +0.000, +0.000], weight: 1.000, band=0, eig=-9.658, occ=2.000\n",
      "XC functional: LDA_XC_TETER93\n",
      "================================== Density ==================================\n",
      "Density: nspinor: 1, nsppol: 1, nspden: 1\n",
      "Mesh3D: nx=30, ny=30, nz=30 \n",
      "Integrated electronic and magnetization densities in atomic spheres:\n",
      "      symbol      ntot  rsph_ang           frac_coords\n",
      "iatom                                                 \n",
      "0          H  0.134448      0.31  [-0.07625, 0.0, 0.0]\n",
      "1          H  0.134448      0.31   [0.07625, 0.0, 0.0]\n",
      "Total magnetization from unit cell integration: 0.0\n"
     ]
    }
   ],
   "source": [
    "with abilab.abiopen(\"flow_h2/w0/t10/outdata/out_DEN.nc\") as denfile:\n",
    "    print(denfile)\n",
    "    density = denfile.density"
   ]
  },
  {
   "cell_type": "markdown",
   "metadata": {},
   "source": [
    "The simplest thing we can do now is to print $n(r)$ along a line passing through two points specified \n",
    "either in terms of two vectors or two integers defining the site index in our `structure`.\n",
    "Let's plot the density along the H-H bond by passing the index of the two atoms:"
   ]
  },
  {
   "cell_type": "code",
   "execution_count": 34,
   "metadata": {},
   "outputs": [
    {
     "data": {
      "image/png": "[encoded data removed]",
      "text/plain": [
       "<Figure size 432x288 with 1 Axes>"
      ]
     },
     "metadata": {},
     "output_type": "display_data"
    }
   ],
   "source": [
    "density.plot_line(0, 1);"
   ]
  },
  {
   "cell_type": "markdown",
   "metadata": {},
   "source": [
    "Great! If we have a netcdf file and AbiPy, we don't need to use cut3d to extract the data from the file\n",
    "and we can do simple plots with matplotlib.\n",
    "Unfortunately, $n(r)$ is a 3D object and the notebook is not the most suitable tool to visualize this kind of dataset.\n",
    "Fortunately there are several graphical applications to visualize 3D fields in crystalline environments\n",
    "and AbiPy provides tools to export the data from netcdf to the text format supported by the external graphical tool.\n",
    "\n",
    "For example, one can use:"
   ]
  },
  {
   "cell_type": "code",
   "execution_count": 35,
   "metadata": {},
   "outputs": [],
   "source": [
    "#density.visualize(\"vesta\")"
   ]
  },
  {
   "cell_type": "markdown",
   "metadata": {},
   "source": [
    "to visualize density isosurfaces of our system:\n",
    "\n",
    "![](https://github.com/abinit/abipy_assets/blob/master/h2_density.png?raw=true)"
   ]
  },
  {
   "cell_type": "markdown",
   "metadata": {},
   "source": [
    "## Conclusions\n",
    "[[back to top](#top)]\n",
    "\n",
    "To summarize, we learned how to define python functions that can be used to generate many input files easily.\n",
    "We briefly discussed how to use these inputs to build a basic AbiPy flow without dependencies.\n",
    "More importantly, we showed that AbiPy provides several tools that can be used to inspect and analyze \n",
    "the results without having to pass necessarly through the creation and execution of the `Flow`.\n",
    "Last but not least, we discussed how to use `robots` to collect results from the output files and store \n",
    "them in pandas DataFrames\n",
    "\n",
    "AbiPy users are **strongly recommended** to familiarize themself with this kind of interface before\n",
    "moving to more advanced features such as the flow execution that requires a good understanding of the python language.\n",
    "As a matter of fact, we decided to write AbiPy in python not for efficiency reasons (actually python \n",
    "is usually slower that Fortran/C) but because there are tons of libraries for scientific applications \n",
    "(numpy, scipy, pandas, matplotlib, jupyter, etc).\n",
    "If you learn to use these great libraries for your work you can really boost your productivity and save a lot of time."
   ]
  },
  {
   "cell_type": "markdown",
   "metadata": {},
   "source": [
    "A logical next lesson would be the the tutorial about the \n",
    "[ground-state properties of silicon](https://nbviewer.jupyter.org/github/abinit/abitutorials/blob/master/abitutorials/base3/lesson_base3.ipynb)"
   ]
  },
  {
   "cell_type": "markdown",
   "metadata": {},
   "source": [
    "Back to the main [Index](../index.ipynb)"
   ]
  },
  {
   "cell_type": "code",
   "execution_count": null,
   "metadata": {},
   "outputs": [],
   "source": []
  }
 ],
 "metadata": {
  "kernelspec": {
   "display_name": "Python 3",
   "language": "python",
   "name": "python3"
  },
  "language_info": {
   "codemirror_mode": {
    "name": "ipython",
    "version": 3
   },
   "file_extension": ".py",
   "mimetype": "text/x-python",
   "name": "python",
   "nbconvert_exporter": "python",
   "pygments_lexer": "ipython3",
   "version": "3.6.7"
  },
  "latex_envs": {
   "bibliofile": "biblio.bib",
   "cite_by": "apalike",
   "current_citInitial": 1,
   "eqLabelWithNumbers": true,
   "eqNumInitial": 0
  }
 },
 "nbformat": 4,
 "nbformat_minor": 2
}
