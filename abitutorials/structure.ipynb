{
 "cells": [
  {
   "cell_type": "markdown",
   "metadata": {},
   "source": [
    "Back to the main [Index](index.ipynb) <a id=\"top\"></a>"
   ]
  },
  {
   "cell_type": "markdown",
   "metadata": {},
   "source": [
    "# Structure object\n",
    "\n",
    "The `AbiPy` structure inherits from the `pymatgen` structure. \n",
    "One has therefore access to all the methods and tools already available in `pymatgen`.\n",
    "In this notebook, we mainly focus on the extensions added by `AbiPy`. \n",
    "For the features provided by pymatgen, please consult the \n",
    "[official pymatgen documentation](http://pymatgen.org/usage.html#structures-and-molecules)\n",
    "\n",
    "## Table of Contents\n",
    "[[back to top](#top)]\n",
    "\n",
    "- [Reading a structure from file](#Reading-a-structure-from-file)\n",
    "- [Converting to other formats](#Converting-to-other-formats)\n",
    "- [Getting information on the structure](#Getting-information-on-the-structure)\n",
    "- [abistruct.py script](#abistruct.py)"
   ]
  },
  {
   "cell_type": "code",
   "execution_count": 2,
   "metadata": {},
   "outputs": [],
   "source": [
    "from __future__ import division, print_function, unicode_literals\n",
    "\n",
    "import warnings\n",
    "warnings.filterwarnings(\"ignore\") # to get rid of deprecation warnings\n",
    "\n",
    "# Import abipy modules\n",
    "from abipy import abilab\n",
    "from abipy.abilab import Structure\n",
    "import abipy.data as abidata\n",
    "\n",
    "# Useful tools we'll need later on.\n",
    "from pprint import pprint\n",
    "import numpy as np\n",
    "\n",
    "# This line configures matplotlib to show figures embedded in the notebook.\n",
    "# Replace `inline` with `notebook` in classic notebook\n",
    "%matplotlib inline   \n",
    "\n",
    "# Option available in jupyterlab. See https://github.com/matplotlib/jupyter-matplotlib\n",
    "#%matplotlib widget  "
   ]
  },
  {
   "cell_type": "markdown",
   "metadata": {},
   "source": [
    "## Reading a structure from file\n",
    "[[back to top](#top)]"
   ]
  },
  {
   "cell_type": "markdown",
   "metadata": {},
   "source": [
    "It is possible to initialize a crystalline structure from different file formats: \n",
    "\n",
    "   * CIF\n",
    "   * POSCAR/CONTCAR\n",
    "   * CHGCAR \n",
    "   * LOCPOT,\n",
    "   * vasprun.xml\n",
    "   * CSSR \n",
    "   * ABINIT Netcdf files \n",
    "   * pymatgen's JSON serialized structures\n",
    "\n",
    "Note, in particular, that one can initialize the structure from the netcdf files  \n",
    "produced by Abinit (`GSR.nc`, `WFK.nc`, etc) as well as output files in text format \n",
    "such as the Abinit input/output files or even the DDB file.\n",
    "\n",
    "To initialize the structure from a CIF file use the `from_file` method:"
   ]
  },
  {
   "cell_type": "code",
   "execution_count": 3,
   "metadata": {},
   "outputs": [
    {
     "name": "stdout",
     "output_type": "stream",
     "text": [
      "Full Formula (Si2)\n",
      "Reduced Formula: Si\n",
      "abc   :   3.866975   3.866975   3.866975\n",
      "angles:  60.000000  60.000000  60.000000\n",
      "Sites (2)\n",
      "  #  SP       a     b     c\n",
      "---  ----  ----  ----  ----\n",
      "  0  Si    0     0     0\n",
      "  1  Si    0.25  0.25  0.25\n"
     ]
    }
   ],
   "source": [
    "# abidata.cif_file returns one of the CIF files shipped with AbiPy.\n",
    "structure = Structure.from_file(abidata.cif_file(\"si.cif\"))\n",
    "print(structure)"
   ]
  },
  {
   "cell_type": "markdown",
   "metadata": {},
   "source": [
    "To read the structure from a netcdf file:"
   ]
  },
  {
   "cell_type": "code",
   "execution_count": 3,
   "metadata": {},
   "outputs": [
    {
     "name": "stdout",
     "output_type": "stream",
     "text": [
      "Full Formula (Si2)\n",
      "Reduced Formula: Si\n",
      "abc   :   3.866975   3.866975   3.866975\n",
      "angles:  60.000000  60.000000  60.000000\n",
      "\n",
      "Spglib space group info (magnetic symmetries not taken into account).\n",
      "Spacegroup: Fd-3m (227), Hall: F 4d 2 3 -1d, Abinit spg_number: 227\n",
      "Crystal_system: cubic, Lattice_type: cubic, Point_group: m-3m\n",
      "\n",
      "  Idx  Symbol    Reduced_Coords              Wyckoff      EqIdx\n",
      "-----  --------  --------------------------  ---------  -------\n",
      "    0  Si        +0.00000 +0.00000 +0.00000  (2a)             0\n",
      "    1  Si        +0.25000 +0.25000 +0.25000  (2a)             0\n",
      "\n",
      "Abinit Spacegroup: spgid: 227, num_spatial_symmetries: 48, has_timerev: True, symmorphic: True\n"
     ]
    }
   ],
   "source": [
    "structure = Structure.from_file(abidata.ref_file(\"si_nscf_GSR.nc\"))\n",
    "\n",
    "# Use to_string with verbose > 0 to get more info \n",
    "print(structure.to_string(verbose=1))"
   ]
  },
  {
   "cell_type": "markdown",
   "metadata": {},
   "source": [
    "Use `to_abivars` to get the list of Abinit variables in a python dictionary:"
   ]
  },
  {
   "cell_type": "code",
   "execution_count": 4,
   "metadata": {},
   "outputs": [
    {
     "data": {
      "text/plain": [
       "{'natom': 2,\n",
       " 'ntypat': 1,\n",
       " 'typat': array([1, 1]),\n",
       " 'znucl': [14],\n",
       " 'xred': array([[0.  , 0.  , 0.  ],\n",
       "        [0.25, 0.25, 0.25]]),\n",
       " 'acell': [1.0, 1.0, 1.0],\n",
       " 'rprim': array([[6.32850055, 0.        , 3.6537615 ],\n",
       "        [2.10950018, 5.96656754, 3.6537615 ],\n",
       "        [0.        , 0.        , 7.30752299]])}"
      ]
     },
     "execution_count": 4,
     "metadata": {},
     "output_type": "execute_result"
    }
   ],
   "source": [
    "structure.to_abivars()"
   ]
  },
  {
   "cell_type": "markdown",
   "metadata": {},
   "source": [
    "and `abi_string` to get a string that can be used directly in the input file:"
   ]
  },
  {
   "cell_type": "code",
   "execution_count": 5,
   "metadata": {},
   "outputs": [
    {
     "name": "stdout",
     "output_type": "stream",
     "text": [
      " natom 2\n",
      " ntypat 1\n",
      " typat 1 1\n",
      " znucl 14\n",
      " xred\n",
      "    0.0000000000    0.0000000000    0.0000000000\n",
      "    0.2500000000    0.2500000000    0.2500000000\n",
      " acell    1.0    1.0    1.0\n",
      " rprim\n",
      "    6.3285005521    0.0000000000    3.6537614973\n",
      "    2.1095001840    5.9665675402    3.6537614973\n",
      "    0.0000000000    0.0000000000    7.3075229946\n"
     ]
    }
   ],
   "source": [
    "print(structure.abi_string)"
   ]
  },
  {
   "cell_type": "markdown",
   "metadata": {},
   "source": [
    "To visualize the structure with matplotlib, use:"
   ]
  },
  {
   "cell_type": "code",
   "execution_count": 6,
   "metadata": {},
   "outputs": [
    {
     "data": {
      "image/png": "[encoded data removed]",
      "text/plain": [
       "<Figure size 432x288 with 1 Axes>"
      ]
     },
     "metadata": {
      "needs_background": "light"
     },
     "output_type": "display_data"
    }
   ],
   "source": [
    "structure.plot();"
   ]
  },
  {
   "cell_type": "markdown",
   "metadata": {},
   "source": [
    "The matplotlib version is minimalistic but it plays well with jupyter notebooks.\n",
    "For a more advanced visualization we suggest using a specialized graphical applications.\n",
    "Fortunately, one can invoke (already installed) external applications directly from AbiPy with e.g."
   ]
  },
  {
   "cell_type": "code",
   "execution_count": 4,
   "metadata": {},
   "outputs": [
    {
     "name": "stdout",
     "output_type": "stream",
     "text": [
      "Writing data to: .xsf with fmt: xsf\n",
      "\u001b[33mExecuting: /opt/VESTA/VESTA   /home/jovbever/Codes/abitutorials/abitutorials/.xsf\u001b[0m\n"
     ]
    },
    {
     "data": {
      "text/plain": [
       "0"
      ]
     },
     "execution_count": 4,
     "metadata": {},
     "output_type": "execute_result"
    }
   ],
   "source": [
    "structure.visualize(\"vesta\")"
   ]
  },
  {
   "cell_type": "markdown",
   "metadata": {},
   "source": [
    "To get a structure from the materials project database \n",
    "(https://www.materialsproject.org ), use:"
   ]
  },
  {
   "cell_type": "code",
   "execution_count": 4,
   "metadata": {},
   "outputs": [
    {
     "name": "stdout",
     "output_type": "stream",
     "text": [
      "Full Formula (Si2)\n",
      "Reduced Formula: Si\n",
      "abc   :   3.867552   3.867552   3.867552\n",
      "angles:  60.000000  60.000000  60.000000\n",
      "Sites (2)\n",
      "  #  SP       a     b     c    magmom\n",
      "---  ----  ----  ----  ----  --------\n",
      "  0  Si    0     0     0            0\n",
      "  1  Si    0.25  0.25  0.25         0\n"
     ]
    }
   ],
   "source": [
    "# You can pass the api_key or set the env variable PMG_MAPI_KEY in your ~/.pmgrc.yaml files.\n",
    "si2_mp = Structure.from_mpid(\"mp-149\", api_key=None)\n",
    "print(si2_mp)"
   ]
  },
  {
   "cell_type": "markdown",
   "metadata": {},
   "source": [
    "In some cases, we have multiple structures and we need to compare the lattice parameters. \n",
    "Use `dataframes_from_structures` to build a pandas DataFrame:"
   ]
  },
  {
   "cell_type": "code",
   "execution_count": 9,
   "metadata": {},
   "outputs": [],
   "source": [
    "dfs = abilab.dataframes_from_structures([structure, si2_mp], index=[\"CIF\", \"MP\"])"
   ]
  },
  {
   "cell_type": "markdown",
   "metadata": {},
   "source": [
    "then we can compare the lattice parameters with:"
   ]
  },
  {
   "cell_type": "code",
   "execution_count": 10,
   "metadata": {},
   "outputs": [
    {
     "data": {
      "text/html": [
       "<div>\n",
       "<style scoped>\n",
       "    .dataframe tbody tr th:only-of-type {\n",
       "        vertical-align: middle;\n",
       "    }\n",
       "\n",
       "    .dataframe tbody tr th {\n",
       "        vertical-align: top;\n",
       "    }\n",
       "\n",
       "    .dataframe thead th {\n",
       "        text-align: right;\n",
       "    }\n",
       "</style>\n",
       "<table border=\"1\" class=\"dataframe\">\n",
       "  <thead>\n",
       "    <tr style=\"text-align: right;\">\n",
       "      <th></th>\n",
       "      <th>formula</th>\n",
       "      <th>natom</th>\n",
       "      <th>alpha</th>\n",
       "      <th>beta</th>\n",
       "      <th>gamma</th>\n",
       "      <th>a</th>\n",
       "      <th>b</th>\n",
       "      <th>c</th>\n",
       "      <th>volume</th>\n",
       "      <th>abispg_num</th>\n",
       "      <th>spglib_symb</th>\n",
       "      <th>spglib_num</th>\n",
       "      <th>spglib_lattice_type</th>\n",
       "    </tr>\n",
       "  </thead>\n",
       "  <tbody>\n",
       "    <tr>\n",
       "      <td>CIF</td>\n",
       "      <td>Si2</td>\n",
       "      <td>2</td>\n",
       "      <td>60.0</td>\n",
       "      <td>60.0</td>\n",
       "      <td>60.0</td>\n",
       "      <td>3.866975</td>\n",
       "      <td>3.866975</td>\n",
       "      <td>3.866975</td>\n",
       "      <td>40.888292</td>\n",
       "      <td>227</td>\n",
       "      <td>Fd-3m</td>\n",
       "      <td>227</td>\n",
       "      <td>cubic</td>\n",
       "    </tr>\n",
       "    <tr>\n",
       "      <td>MP</td>\n",
       "      <td>Si2</td>\n",
       "      <td>2</td>\n",
       "      <td>60.0</td>\n",
       "      <td>60.0</td>\n",
       "      <td>60.0</td>\n",
       "      <td>3.866975</td>\n",
       "      <td>3.866975</td>\n",
       "      <td>3.866975</td>\n",
       "      <td>40.888292</td>\n",
       "      <td>None</td>\n",
       "      <td>Fd-3m</td>\n",
       "      <td>227</td>\n",
       "      <td>cubic</td>\n",
       "    </tr>\n",
       "  </tbody>\n",
       "</table>\n",
       "</div>"
      ],
      "text/plain": [
       "    formula  natom  alpha  beta  gamma         a         b         c  \\\n",
       "CIF     Si2      2   60.0  60.0   60.0  3.866975  3.866975  3.866975   \n",
       "MP      Si2      2   60.0  60.0   60.0  3.866975  3.866975  3.866975   \n",
       "\n",
       "        volume abispg_num spglib_symb  spglib_num spglib_lattice_type  \n",
       "CIF  40.888292        227       Fd-3m         227               cubic  \n",
       "MP   40.888292       None       Fd-3m         227               cubic  "
      ]
     },
     "execution_count": 10,
     "metadata": {},
     "output_type": "execute_result"
    }
   ],
   "source": [
    "dfs.lattice"
   ]
  },
  {
   "cell_type": "markdown",
   "metadata": {},
   "source": [
    "Note that all AbiPy robots have this feature built-in. \n",
    "Sometimes it is much easier to build a robot directly from files \n",
    "and then compare the structures with e.g. `robot.get_lattice_dataframe()`."
   ]
  },
  {
   "cell_type": "markdown",
   "metadata": {},
   "source": [
    "## Converting to other formats\n",
    "[[back to top](#top)]"
   ]
  },
  {
   "cell_type": "markdown",
   "metadata": {},
   "source": [
    "Use `structure.convert(format)` to get the string representation in the new format:"
   ]
  },
  {
   "cell_type": "code",
   "execution_count": 11,
   "metadata": {},
   "outputs": [
    {
     "name": "stdout",
     "output_type": "stream",
     "text": [
      "******************************** Abinit --> cif ********************************\n",
      "# generated using pymatgen\n",
      "data_Si\n",
      "_symmetry_space_group_name_H-M   'P 1'\n",
      "_cell_length_a   3.86697464\n",
      "_cell_length_b   3.86697464\n",
      "_cell_length_c   3.86697464\n",
      "_cell_angle_alpha   60.00000000\n",
      "_cell_angle_beta   60.00000000\n",
      "_cell_angle_gamma   60.00000000\n",
      "_symmetry_Int_Tables_number   1\n",
      "_chemical_formula_structural   Si\n",
      "_chemical_formula_sum   Si2\n",
      "_cell_volume   40.88829228\n",
      "_cell_formula_units_Z   2\n",
      "loop_\n",
      " _symmetry_equiv_pos_site_id\n",
      " _symmetry_equiv_pos_as_xyz\n",
      "  1  'x, y, z'\n",
      "loop_\n",
      " _atom_site_type_symbol\n",
      " _atom_site_label\n",
      " _atom_site_symmetry_multiplicity\n",
      " _atom_site_fract_x\n",
      " _atom_site_fract_y\n",
      " _atom_site_fract_z\n",
      " _atom_site_occupancy\n",
      "  Si  Si0  1  0.000000  0.000000  0.000000  1\n",
      "  Si  Si1  1  0.250000  0.250000  0.250000  1\n",
      "\n",
      "****************************** Abinit --> POSCAR *******************************\n",
      "Si2\n",
      "1.0\n",
      "3.348898 0.000000 1.933487\n",
      "1.116299 3.157372 1.933487\n",
      "0.000000 0.000000 3.866975\n",
      "Si\n",
      "2\n",
      "direct\n",
      "0.000000 0.000000 0.000000 Si\n",
      "0.250000 0.250000 0.250000 Si\n",
      "\n",
      "******************************** Abinit --> qe *********************************\n",
      "&CONTROL\n",
      "  calculation = 'scf',\n",
      "/\n",
      "&SYSTEM\n",
      "  ibrav = 0,\n",
      "  nat = 2,\n",
      "  ntyp = 1,\n",
      "/\n",
      "&ELECTRONS\n",
      "/\n",
      "&IONS\n",
      "/\n",
      "&CELL\n",
      "/\n",
      "ATOMIC_SPECIES\n",
      "  Si  28.0855 Si.pseudo\n",
      "ATOMIC_POSITIONS crystal\n",
      "  Si 0.000000 0.000000 0.000000\n",
      "  Si 0.250000 0.250000 0.250000\n",
      "K_POINTS automatic\n",
      "  1 1 1 0 0 0\n",
      "CELL_PARAMETERS angstrom\n",
      "  3.348898 0.000000 1.933487\n",
      "  1.116299 3.157372 1.933487\n",
      "  0.000000 0.000000 3.866975\n"
     ]
    }
   ],
   "source": [
    "for fmt in [\"cif\", \"POSCAR\", \"qe\"]:\n",
    "    print((\" Abinit --> %s \" % fmt).center(80, \"*\"))\n",
    "    print(structure.convert(fmt=fmt))"
   ]
  },
  {
   "cell_type": "markdown",
   "metadata": {},
   "source": [
    "## Getting information on the structure\n",
    "[[back to top](#top)]"
   ]
  },
  {
   "cell_type": "code",
   "execution_count": 12,
   "metadata": {},
   "outputs": [
    {
     "name": "stdout",
     "output_type": "stream",
     "text": [
      "1.876195 -0.663335 0.000000\n",
      "0.000000 1.990005 0.000000\n",
      "-0.938097 -0.663335 1.624832\n"
     ]
    }
   ],
   "source": [
    "print(structure.reciprocal_lattice)"
   ]
  },
  {
   "cell_type": "code",
   "execution_count": 13,
   "metadata": {},
   "outputs": [
    {
     "data": {
      "text/plain": [
       "array([[ 1.00000000e+00,  0.00000000e+00, -2.49862819e-17],\n",
       "       [-2.24284041e-19,  1.00000000e+00,  4.44094187e-17],\n",
       "       [ 0.00000000e+00,  0.00000000e+00,  1.00000000e+00]])"
      ]
     },
     "execution_count": 13,
     "metadata": {},
     "output_type": "execute_result"
    }
   ],
   "source": [
    "structure.reciprocal_lattice.matrix.T @ structure.lattice.matrix / (2 * np.pi)"
   ]
  },
  {
   "cell_type": "code",
   "execution_count": 14,
   "metadata": {},
   "outputs": [
    {
     "name": "stdout",
     "output_type": "stream",
     "text": [
      "0) [+0.000, +0.000, +0.000], name: $\\Gamma$, weight: 0.000\n",
      "1) [+0.500, +0.000, +0.500], name: X, weight: 0.000\n",
      "2) [+0.500, +0.250, +0.750], name: W, weight: 0.000\n",
      "3) [+0.375, +0.375, +0.750], name: K, weight: 0.000\n",
      "4) [+0.000, +0.000, +0.000], name: $\\Gamma$, weight: 0.000\n",
      "5) [+0.500, +0.500, +0.500], name: L, weight: 0.000\n",
      "6) [+0.625, +0.250, +0.625], name: U, weight: 0.000\n",
      "7) [+0.500, +0.250, +0.750], name: W, weight: 0.000\n",
      "8) [+0.500, +0.500, +0.500], name: L, weight: 0.000\n",
      "9) [+0.375, +0.375, +0.750], name: K, weight: 0.000\n",
      "10) [+0.625, +0.250, +0.625], name: U, weight: 0.000\n",
      "11) [+0.500, +0.000, +0.500], name: X, weight: 0.000\n"
     ]
    }
   ],
   "source": [
    "# List of high-symmetry k-points.\n",
    "print(structure.hsym_kpoints)"
   ]
  },
  {
   "cell_type": "markdown",
   "metadata": {},
   "source": [
    "The method `calc_ksampling` allows one to get an efficient sampling of the Brillouin zone \n",
    "by just specifying the number of divisions to be used for the smallest lattice vector of the reciprocal lattice:"
   ]
  },
  {
   "cell_type": "code",
   "execution_count": 15,
   "metadata": {},
   "outputs": [
    {
     "name": "stdout",
     "output_type": "stream",
     "text": [
      "{'ngkpt': array([10, 10, 10]),\n",
      " 'shiftk': array([[0.5, 0.5, 0.5],\n",
      "       [0.5, 0. , 0. ],\n",
      "       [0. , 0.5, 0. ],\n",
      "       [0. , 0. , 0.5]])}\n"
     ]
    }
   ],
   "source": [
    "pprint(structure.calc_ksampling(nksmall=10))"
   ]
  },
  {
   "cell_type": "markdown",
   "metadata": {},
   "source": [
    "To get the recommended high symmetry $k$-path in reduced coordinates:"
   ]
  },
  {
   "cell_type": "code",
   "execution_count": 16,
   "metadata": {},
   "outputs": [
    {
     "data": {
      "text/plain": [
       "array([[0.   , 0.   , 0.   ],\n",
       "       [0.5  , 0.   , 0.5  ],\n",
       "       [0.5  , 0.25 , 0.75 ],\n",
       "       [0.375, 0.375, 0.75 ],\n",
       "       [0.   , 0.   , 0.   ],\n",
       "       [0.5  , 0.5  , 0.5  ],\n",
       "       [0.625, 0.25 , 0.625],\n",
       "       [0.5  , 0.25 , 0.75 ],\n",
       "       [0.5  , 0.5  , 0.5  ],\n",
       "       [0.375, 0.375, 0.75 ],\n",
       "       [0.625, 0.25 , 0.625],\n",
       "       [0.5  , 0.   , 0.5  ]])"
      ]
     },
     "execution_count": 16,
     "metadata": {},
     "output_type": "execute_result"
    }
   ],
   "source": [
    "structure.calc_kptbounds()"
   ]
  },
  {
   "cell_type": "markdown",
   "metadata": {},
   "source": [
    "The high-symmetry q-path is automatically selected assuming\n",
    "the structure fulfills the convention described in [Setyawan2010](https://doi.org/10.1016/j.commatsci.2010.05.010)"
   ]
  },
  {
   "cell_type": "markdown",
   "metadata": {},
   "source": [
    "To visualize the Brillouin zone with matplotlib:"
   ]
  },
  {
   "cell_type": "code",
   "execution_count": 5,
   "metadata": {},
   "outputs": [
    {
     "data": {
      "image/png": "[encoded data removed]",
      "text/plain": [
       "<Figure size 432x288 with 1 Axes>"
      ]
     },
     "metadata": {
      "needs_background": "light"
     },
     "output_type": "display_data"
    }
   ],
   "source": [
    "structure.plot_bz();"
   ]
  },
  {
   "cell_type": "markdown",
   "metadata": {},
   "source": [
    "To get the number of valence electrons for a given set of pseudopotentials: "
   ]
  },
  {
   "cell_type": "code",
   "execution_count": 18,
   "metadata": {},
   "outputs": [
    {
     "data": {
      "text/plain": [
       "8"
      ]
     },
     "execution_count": 18,
     "metadata": {},
     "output_type": "execute_result"
    }
   ],
   "source": [
    "structure.num_valence_electrons(pseudos=abidata.pseudos(\"14si.pspnc\"))"
   ]
  },
  {
   "cell_type": "markdown",
   "metadata": {},
   "source": [
    "To visualize the X-ray diffraction plot with pymatgen XRDCalculator"
   ]
  },
  {
   "cell_type": "code",
   "execution_count": 19,
   "metadata": {},
   "outputs": [
    {
     "data": {
      "image/png": "[encoded data removed]",
      "text/plain": [
       "<Figure size 432x288 with 1 Axes>"
      ]
     },
     "metadata": {
      "needs_background": "light"
     },
     "output_type": "display_data"
    }
   ],
   "source": [
    "structure.plot_xrd();"
   ]
  },
  {
   "cell_type": "markdown",
   "metadata": {},
   "source": [
    "## abistruct.py \n",
    "[[back to top](#top)]\n",
    "\n",
    "`abistruct.py` provides a handy command line interface to operate on structure objects \n",
    "constructed from external files. \n",
    "There are several options available as well an interface to the [materials project](http://materialsproject.org/)\n",
    "and the [COD](http://www.crystallography.net/cod/) database."
   ]
  },
  {
   "cell_type": "code",
   "execution_count": 20,
   "metadata": {},
   "outputs": [
    {
     "name": "stdout",
     "output_type": "stream",
     "text": [
      "usage: abistruct.py [-h] [-V]\n",
      "                    {spglib,abispg,convert,supercell,abisanitize,irefine,conventional,proto,wyckoff,tensor_site,neighbors,interpolate,xrd,oxistate,ipython,notebook,kpath,bz,ngkpt,ktables,abikmesh,lgk,kstar,keq,visualize,mp_id,mp_match,mp_search,mp_pd,mp_ebands,cod_search,cod_id,animate}\n",
      "                    ...\n",
      "\n",
      "optional arguments:\n",
      "  -h, --help            show this help message and exit\n",
      "  -V, --version         show program's version number and exit\n",
      "\n",
      "subcommands:\n",
      "  Valid subcommands, use command --help for help\n",
      "\n",
      "  {spglib,abispg,convert,supercell,abisanitize,irefine,conventional,proto,wyckoff,tensor_site,neighbors,interpolate,xrd,oxistate,ipython,notebook,kpath,bz,ngkpt,ktables,abikmesh,lgk,kstar,keq,visualize,mp_id,mp_match,mp_search,mp_pd,mp_ebands,cod_search,cod_id,animate}\n",
      "                        sub-command help\n",
      "    spglib              Analyze structure with spglib.\n",
      "    abispg              Extract/Compute Abinit space group from file with\n",
      "                        structure.\n",
      "    convert             Convert structure to the specified format.\n",
      "    supercell           Generate supercell.\n",
      "    abisanitize         Sanitize structure with abi_sanitize, compare\n",
      "                        structures and save result to file.\n",
      "    irefine             Refine structure with abi_sanitize iteratively, stop\n",
      "                        if target space group is obtained.\n",
      "    conventional        Gives a structure with a conventional cell according\n",
      "                        to certain standards. The standards are defined in\n",
      "                        doi:10.1016/j.commatsci.2010.05.010\n",
      "    proto               Find prototype in the AFLOW LIBRARY OF\n",
      "                        CRYSTALLOGRAPHIC PROTOTYPES.\n",
      "                        http://doi.org/10.1016/j.commatsci.2017.01.017\n",
      "    wyckoff             Print wyckoff positions. WARNING: still under\n",
      "                        development!\n",
      "    tensor_site         Print symmetry properties of tensors due to site-\n",
      "                        symmetries. WARNING: still under development!\n",
      "    neighbors           Get neighbors for each atom in the unit cell, out to a\n",
      "                        distance radius.\n",
      "    interpolate         Interpolate between two structures. Useful for the\n",
      "                        construction of NEB inputs.\n",
      "    xrd                 X-ray diffraction plot.\n",
      "    oxistate            Estimate oxidation states with pymatgen bond valence\n",
      "                        analysis.\n",
      "    ipython             Open IPython shell for advanced operations on\n",
      "                        structure object.\n",
      "    notebook            Read structure from file and generate jupyter\n",
      "                        notebook.\n",
      "    kpath               Read structure from file, generate k-path for band-\n",
      "                        structure calculations.\n",
      "    bz                  Read structure from file, plot Brillouin zone with\n",
      "                        matplotlib.\n",
      "    ngkpt               Return the Abinit k-point sampling variables from the\n",
      "                        number of divisions used to sample the smallest\n",
      "                        lattice vector of the reciprocal lattice.\n",
      "    ktables             Read structure from filepath, call spglib to sample\n",
      "                        the BZ, print k-points in the IBZ with weights.\n",
      "    abikmesh            Read structure from file, call Abinit to sample the BZ\n",
      "                        with ngkpt, shiftk, and kptopt. Print k-points in the\n",
      "                        IBZ with weights.\n",
      "    lgk                 Read structure from file, find little group of\n",
      "                        k-point, print Bilbao character table.\n",
      "    kstar               Read structure from file, print star of k-point.\n",
      "    keq                 Read structure from file, check whether two k-points\n",
      "                        are equivalent by symmetry.\n",
      "    visualize           Visualize the structure with the specified\n",
      "                        application. Requires external app or optional python\n",
      "                        modules (mayavi, vtk).\n",
      "    mp_id               Get structure from the pymatgen database. Export to\n",
      "                        format. Requires internet connection and PMG_MAPI_KEY.\n",
      "    mp_match            Get structure from the pymatgen database. Requires\n",
      "                        internet connection and PMG_MAPI_KEY.\n",
      "    mp_search           Get structure from the pymatgen database. Requires\n",
      "                        internet connection and PMG_MAPI_KEY\n",
      "    mp_pd               Generate phase diagram with entries from the Materials\n",
      "                        Project. Requires internet connection and PMG_MAPI_KEY\n",
      "    mp_ebands           Get structure from the pymatgen database. Export to\n",
      "                        format. Requires internet connection and PMG_MAPI_KEY.\n",
      "    cod_search          Get structure from COD database. Requires internet\n",
      "                        connection and mysql\n",
      "    cod_id              Get structure from COD database. Requires internet\n",
      "                        connection and mysql\n",
      "    animate             Read structures from HIST.nc or XDATCAR. Print\n",
      "                        structures in Xcrysden AXSF format to stdout.\n",
      "\n",
      "Usage example:\n",
      "\n",
      "###################\n",
      "# Space group tools\n",
      "###################\n",
      "\n",
      "  abistruct.py spglib FILE                 => Read structure from FILE and analyze it with spglib.\n",
      "  abistruct.py abispg FILE                 => Read structure from FILE, and compute ABINIT space group.\n",
      "  abistruct.py abisanitize FILE            => Read structure from FILE, call abisanitize, compare structures\n",
      "                                              and save \"abisanitized\" structure to file.\n",
      "  abistruct.py conventional FILE           => Read structure from FILE, generate conventional structure\n",
      "                                              following doi:10.1016/j.commatsci.2010.05.010\n",
      "  abistruct.py proto FILE                 => Read structure from FILE, find possible crystallographic prototypes:\n",
      "                                             in the AFLOW library of crystallographic prototypes.\n",
      "                                             http://doi.org/10.1016/j.commatsci.2017.01.017\n",
      "\n",
      "##################\n",
      "# Conversion tools\n",
      "##################\n",
      "\n",
      "  abistruct.py convert FILE                => Print the ABINIT variables defining the structure.\n",
      "  abistruct.py convert FILE -f cif         => Read structure from FILE and output CIF file\n",
      "                                              (Use convert --help to get list of formats supported)\n",
      "  abistruct.py convert out_HIST.nc         => Read FINAL structure from the HIST file and\n",
      "                                              print the corresponding ABINIT variables.\n",
      "  abistruct.py supercell FILE -s 2 2 1     => Read structure from FILE and build [2, 2, 1] supercell,\n",
      "                                              print new structure using --format (default abivars).\n",
      "################\n",
      "# K-points tools\n",
      "################\n",
      "\n",
      "  abistruct.py kpath FILE                  => Read structure from FILE and print ABINIT variables for k-path.\n",
      "  abistruct.py bz FILE                     => Read structure from FILE, plot BZ with matplotlib.\n",
      "  abistruct.py ngkpt FILE -n 4             => Compute `ngkpt` and `shiftk` from the number of divisions used to sample\n",
      "                                              the smallest reciprocal lattice vector.\n",
      "  abistruct.py abikmesh FILE --ngkpt 2 2 2 => Read structure from FILE, call Abinit to sample the BZ\n",
      "                                              with a 2, 2, 2 k-mesh, print points in IBZ with weights.\n",
      "  abistruct.py ktables FILE -m 2 2 2       => Read structure from FILE, call spglib to sample the BZ\n",
      "                                              with a 2, 2, 2 k-mesh, print points in IBZ with weights.\n",
      "  abistruct.py lgk FILE -k 0.25 0 0        => Read structure from FILE, find little group of k-point,\n",
      "                                              print Bilbao character table.\n",
      "  abistruct.py kstar FILE -k 0.25 0 0      => Read structure from FILE, print star of k-point.\n",
      "  abistruct.py keq FILE -k 0.5 0 0 0 0.5 0  => Read structure from FILE, test whether k1 and k2 are\n",
      "                                               symmetry-equivalent k-points.\n",
      "\n",
      "###############\n",
      "# Miscelleanous\n",
      "###############\n",
      "\n",
      "  abistruct.py neighbors FILE              => Get neighbors for each atom in the unit cell, out to a distance radius.\n",
      "  abistruct.py interpolate FILE1 FILE2     => Interpolate between two structures. Useful for the construction of NEB inputs.\n",
      "  abistruct.py xrd FILE                    => X-ray diffraction plot.\n",
      "  abistruct.py oxistate FILE               => Estimate oxidation states with pymatgen bond valence analysis.\n",
      "\n",
      "###############\n",
      "# Visualization\n",
      "###############\n",
      "\n",
      "  abistruct.py visualize FILE -a vesta     => Visualize the structure with vesta (default if -a is not given)\n",
      "                                              Supports also ovito, xcrysden, vtk, mayavi, matplotlib See --help\n",
      "  abistruct.py ipython FILE                => Read structure from FILE and open it in the Ipython terminal.\n",
      "  abistruct.py notebook FILE               => Read structure from FILE and generate jupyter notebook.\n",
      "\n",
      "###########\n",
      "# Databases\n",
      "###########\n",
      "\n",
      "  abistruct.py cod_id 1526507              => Get structure from COD database (http://www.crystallography.net/cod).\n",
      "  abistruct.py cod_search MgB2             => Search for structures in the COD database.\n",
      "  abistruct.py mp_id mp-149                => Get structure from materials project database and print\n",
      "                                              JSON representation. Use e.g. `-f abivars` to change format.\n",
      "  abistruct.py mp_match FILE               => Read structure from FILE and find matching structures on the\n",
      "                                              Materials Project site. Use e.g. `-f cif` to change output format.\n",
      "  abistruct.py mp_search LiF               => Connect to the materials project database. Get structures corresponding\n",
      "                                              to a chemical system or formula e.g. `Fe2O3` or `Li-Fe-O` or\n",
      "                                              `Ir-O-*` for wildcard pattern matching.\n",
      "                                              Print info and Abinit input files. Use e.g. `-f POSCAR`\n",
      "                                              to change output format. `-f None` to disable structure output.\n",
      "  abistruct.py mp_pd FILE-or-elements      => Generate phase diagram with entries from the Materials Project.\n",
      "  abistruct.py mp_ebands FILE             => Fetch electron band structure from MP database. Print gaps.\n",
      "                                              Accept FILE with structure if ebands fro structure is wanted\n",
      "                                              or mp id e.g. \"mp-149 or list of elements e.g `Li-Fe-O` or chemical formula.\n",
      "\n",
      "`FILE` is any file supported by abipy/pymatgen e.g Netcdf files, Abinit input/output, POSCAR, xsf ...\n",
      "Use `abistruct.py --help` for help and `abistruct.py COMMAND --help` to get the documentation for `COMMAND`.\n",
      "Use `-v` to increase verbosity level (can be supplied multiple times e.g -vv).\n"
     ]
    }
   ],
   "source": [
    "!abistruct.py --help"
   ]
  },
  {
   "cell_type": "markdown",
   "metadata": {},
   "source": [
    "Back to the main [Index](index.ipynb)"
   ]
  }
 ],
 "metadata": {
  "kernelspec": {
   "display_name": "Python 3",
   "language": "python",
   "name": "python3"
  },
  "language_info": {
   "codemirror_mode": {
    "name": "ipython",
    "version": 3
   },
   "file_extension": ".py",
   "mimetype": "text/x-python",
   "name": "python",
   "nbconvert_exporter": "python",
   "pygments_lexer": "ipython3",
   "version": "3.6.7"
  },
  "latex_envs": {
   "bibliofile": "biblio.bib",
   "cite_by": "apalike",
   "current_citInitial": 1,
   "eqLabelWithNumbers": true,
   "eqNumInitial": 0
  }
 },
 "nbformat": 4,
 "nbformat_minor": 4
}
