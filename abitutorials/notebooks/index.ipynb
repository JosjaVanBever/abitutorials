{
 "cells": [
  {
   "cell_type": "markdown",
   "metadata": {
    "deletable": true,
    "editable": true
   },
   "source": [
    "<img src=\"images/abipy_logo.jpg\">"
   ]
  },
  {
   "cell_type": "markdown",
   "metadata": {
    "deletable": true,
    "editable": true
   },
   "source": [
    "# AbiPy Documentation"
   ]
  },
  {
   "cell_type": "markdown",
   "metadata": {
    "deletable": true,
    "editable": true
   },
   "source": [
    "This directory contains IPython's notebook-based documentation. This augments our [Sphinx-based documentation](http://pythonhosted.org/abipy/) with notebooks containing interactive tutorials and examples."
   ]
  },
  {
   "cell_type": "markdown",
   "metadata": {
    "deletable": true,
    "editable": true
   },
   "source": [
    "## Topics"
   ]
  },
  {
   "cell_type": "markdown",
   "metadata": {
    "deletable": true,
    "editable": true
   },
   "source": [
    "* [Core](core/index.ipynb): Configuration and core objects\n",
    "* [Analysis](analysis/index.ipynb): How to read data from netcdf files and postprocess the results\n",
    "* [Lessons](lessons/index.ipynb): How to use abipy to perform calculations with ABINIT\n",
    "* [Pymatgen](http://pymatgen.org/examples.html): Pymatgen examples\n",
    "* [Links](links.ipynb): List of useful links: ABINIT, python and ipython notebooks"
   ]
  },
  {
   "cell_type": "markdown",
   "metadata": {
    "deletable": true,
    "editable": true
   },
   "source": [
    "## Python and module versions"
   ]
  },
  {
   "cell_type": "code",
   "execution_count": 1,
   "metadata": {
    "collapsed": false,
    "deletable": true,
    "editable": true
   },
   "outputs": [
    {
     "data": {
      "application/json": {
       "Software versions": [
        {
         "module": "Python",
         "version": "2.7.12 64bit [GCC 4.2.1 (Based on Apple Inc. build 5658) (LLVM build 2336.11.00)]"
        },
        {
         "module": "IPython",
         "version": "5.0.0"
        },
        {
         "module": "OS",
         "version": "Darwin 16.3.0 x86_64 i386 64bit"
        },
        {
         "module": "numpy",
         "version": "1.10.4"
        },
        {
         "module": "scipy",
         "version": "0.17.0"
        },
        {
         "module": "matplotlib",
         "version": "1.5.1"
        },
        {
         "module": "pandas",
         "version": "0.17.1"
        },
        {
         "module": "netCDF4",
         "version": "1.2.4"
        },
        {
         "module": "abipy",
         "version": "0.1.0"
        },
        {
         "module": "pymatgen",
         "version": "4.6.2"
        }
       ]
      },
      "text/html": [
       "<table><tr><th>Software</th><th>Version</th></tr><tr><td>Python</td><td>2.7.12 64bit [GCC 4.2.1 (Based on Apple Inc. build 5658) (LLVM build 2336.11.00)]</td></tr><tr><td>IPython</td><td>5.0.0</td></tr><tr><td>OS</td><td>Darwin 16.3.0 x86_64 i386 64bit</td></tr><tr><td>numpy</td><td>1.10.4</td></tr><tr><td>scipy</td><td>0.17.0</td></tr><tr><td>matplotlib</td><td>1.5.1</td></tr><tr><td>pandas</td><td>0.17.1</td></tr><tr><td>netCDF4</td><td>1.2.4</td></tr><tr><td>abipy</td><td>0.1.0</td></tr><tr><td>pymatgen</td><td>4.6.2</td></tr><tr><td colspan='2'>Sat Mar 04 02:04:32 2017 CET</td></tr></table>"
      ],
      "text/latex": [
       "\\begin{tabular}{|l|l|}\\hline\n",
       "{\\bf Software} & {\\bf Version} \\\\ \\hline\\hline\n",
       "Python & 2.7.12 64bit [GCC 4.2.1 (Based on Apple Inc. build 5658) (LLVM build 2336.11.00)] \\\\ \\hline\n",
       "IPython & 5.0.0 \\\\ \\hline\n",
       "OS & Darwin 16.3.0 x86\\_64 i386 64bit \\\\ \\hline\n",
       "numpy & 1.10.4 \\\\ \\hline\n",
       "scipy & 0.17.0 \\\\ \\hline\n",
       "matplotlib & 1.5.1 \\\\ \\hline\n",
       "pandas & 0.17.1 \\\\ \\hline\n",
       "netCDF4 & 1.2.4 \\\\ \\hline\n",
       "abipy & 0.1.0 \\\\ \\hline\n",
       "pymatgen & 4.6.2 \\\\ \\hline\n",
       "\\hline \\multicolumn{2}{|l|}{Sat Mar 04 02:04:32 2017 CET} \\\\ \\hline\n",
       "\\end{tabular}\n"
      ],
      "text/plain": [
       "Software versions\n",
       "Python 2.7.12 64bit [GCC 4.2.1 (Based on Apple Inc. build 5658) (LLVM build 2336.11.00)]\n",
       "IPython 5.0.0\n",
       "OS Darwin 16.3.0 x86_64 i386 64bit\n",
       "numpy 1.10.4\n",
       "scipy 0.17.0\n",
       "matplotlib 1.5.1\n",
       "pandas 0.17.1\n",
       "netCDF4 1.2.4\n",
       "abipy 0.1.0\n",
       "pymatgen 4.6.2\n",
       "Sat Mar 04 02:04:32 2017 CET"
      ]
     },
     "execution_count": 1,
     "metadata": {},
     "output_type": "execute_result"
    }
   ],
   "source": [
    "%load_ext version_information\n",
    "%version_information numpy, scipy, matplotlib, pandas, netCDF4, abipy, pymatgen"
   ]
  }
 ],
 "metadata": {
  "kernelspec": {
   "display_name": "Python 2",
   "language": "python",
   "name": "python2"
  },
  "language_info": {
   "codemirror_mode": {
    "name": "ipython",
    "version": 2
   },
   "file_extension": ".py",
   "mimetype": "text/x-python",
   "name": "python",
   "nbconvert_exporter": "python",
   "pygments_lexer": "ipython2",
   "version": "2.7.12"
  },
  "latex_envs": {
   "bibliofile": "biblio.bib",
   "cite_by": "apalike",
   "current_citInitial": 1,
   "eqLabelWithNumbers": true,
   "eqNumInitial": 0
  }
 },
 "nbformat": 4,
 "nbformat_minor": 0
}
