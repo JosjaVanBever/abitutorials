{
 "cells": [
  {
   "cell_type": "markdown",
   "metadata": {},
   "source": [
    "## Abinit + AbiPy Lessons"
   ]
  },
  {
   "cell_type": "markdown",
   "metadata": {},
   "source": [
    "* [The H<sub>2</sub> molecule](base1/lesson_base1.ipynb)\n",
    "* [Crystalline silicon](base3/lesson_base3.ipynb)\n",
    "* [Phonons, dielectric tensor and Born effective charges from DFPT](dfpt/lesson_dfpt.ipynb)\n",
    "* [$G_0W_0$ band structure](g0w0/lesson_g0w0.ipynb)\n",
    "* [Bethe-Salpeter equation and excitonic effects](bse/lesson_bse.ipynb)"
   ]
  },
  {
   "cell_type": "code",
   "execution_count": null,
   "metadata": {},
   "outputs": [],
   "source": []
  }
 ],
 "metadata": {
  "kernelspec": {
   "display_name": "Python [default]",
   "language": "python",
   "name": "python3"
  },
  "language_info": {
   "codemirror_mode": {
    "name": "ipython",
    "version": 3
   },
   "file_extension": ".py",
   "mimetype": "text/x-python",
   "name": "python",
   "nbconvert_exporter": "python",
   "pygments_lexer": "ipython3",
   "version": "3.6.1"
  },
  "latex_envs": {
   "bibliofile": "biblio.bib",
   "cite_by": "apalike",
   "current_citInitial": 1,
   "eqLabelWithNumbers": true,
   "eqNumInitial": 0
  }
 },
 "nbformat": 4,
 "nbformat_minor": 1
}
