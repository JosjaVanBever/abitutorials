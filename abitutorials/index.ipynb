{
 "cells": [
  {
   "cell_type": "markdown",
   "metadata": {
    "collapsed": true
   },
   "source": [
    "## AbiPy Objects\n",
    "\n",
    "* [Structure](structure.ipynb): The crystalline structure\n",
    "* [Abinit Input](abinit_input.ipynb): How to create an `AbinitInput`\n",
    "* [Abilab](abilab.ipynb): Abilab module (help functions and important objects)"
   ]
  },
  {
   "cell_type": "markdown",
   "metadata": {},
   "source": [
    "## Output files supported by AbiPy\n",
    "\n",
    "* [GSR.nc](gsr.ipynb): File with ground-state results produced by SCF/NSCF runs.  \n",
    "* [HIST.nc](hist.ipynb): File produced by structural relaxations and MD runs    \n",
    "* [FATBANDS](efatbands.ipynb): Plot electronic fatbands and L-projected DOSes\n",
    "* [DDB](ddb.ipynb): Tools to analyze phonons      \n",
    "* [SIGRES.nc](sigres.ipynb): Analyze the results of $GW$ and Bethe-Salpeter calculations "
   ]
  },
  {
   "cell_type": "markdown",
   "metadata": {},
   "source": [
    "## AbiPy Workflows\n",
    "\n",
    "* [Flows](flows.ipynb): How to automate calculations with `Flows`, `Works` and `Tasks`\n",
    "* manager.ipynb "
   ]
  },
  {
   "cell_type": "markdown",
   "metadata": {},
   "source": [
    "## Abinit + AbiPy Lessons\n",
    "\n",
    "* [The H<sub>2</sub> molecule](base1/lesson_base1.ipynb)\n",
    "* [Crystalline silicon](base3/lesson_base3.ipynb)\n",
    "* [Phonons, dielectric tensor and Born effective charges from DFPT](dfpt/lesson_dfpt.ipynb)\n",
    "* [$G_0W_0$ band structure](g0w0/lesson_g0w0.ipynb)\n",
    "* [Bethe-Salpeter equation and excitonic effects](bse/lesson_bse.ipynb)"
   ]
  },
  {
   "cell_type": "markdown",
   "metadata": {
    "collapsed": true
   },
   "source": [
    "## Miscellaneous\n",
    "\n",
    "* [Videos related to Abinit](abitube.ipynb) \n",
    "* [Ipython widgets](widgets.ipynb): How to use the widgets provided by abipy.display to analyse pandas DataFrames\n",
    "* [Useful links](links.ipynb)          "
   ]
  },
  {
   "cell_type": "code",
   "execution_count": null,
   "metadata": {
    "collapsed": true
   },
   "outputs": [],
   "source": []
  }
 ],
 "metadata": {
  "kernelspec": {
   "display_name": "Python 3",
   "language": "python",
   "name": "python3"
  },
  "language_info": {
   "codemirror_mode": {
    "name": "ipython",
    "version": 3
   },
   "file_extension": ".py",
   "mimetype": "text/x-python",
   "name": "python",
   "nbconvert_exporter": "python",
   "pygments_lexer": "ipython3",
   "version": "3.6.1"
  },
  "latex_envs": {
   "bibliofile": "biblio.bib",
   "cite_by": "apalike",
   "current_citInitial": 1,
   "eqLabelWithNumbers": true,
   "eqNumInitial": 0
  }
 },
 "nbformat": 4,
 "nbformat_minor": 1
}
